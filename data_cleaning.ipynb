{
 "cells": [
  {
   "cell_type": "markdown",
   "metadata": {},
   "source": [
    "# Data cleaning step"
   ]
  },
  {
   "cell_type": "code",
   "execution_count": 2,
   "metadata": {
    "ExecuteTime": {
     "end_time": "2019-10-31T23:36:28.652554Z",
     "start_time": "2019-10-31T23:36:27.180520Z"
    }
   },
   "outputs": [],
   "source": [
    "import pandas as pd\n",
    "import numpy as np\n",
    "import matplotlib.pyplot as plt\n",
    "import seaborn as sns\n",
    "from pathlib import Path\n",
    "\n",
    "\n",
    "import plotly.express as px\n",
    "pd.options.plotting.backend = 'plotly'\n",
    "\n",
    "# from dsc80_utils import * # Feel free to uncomment and use this."
   ]
  },
  {
   "cell_type": "markdown",
   "metadata": {},
   "source": [
    "## Step 1: Introduction"
   ]
  },
  {
   "cell_type": "markdown",
   "metadata": {},
   "source": [
    "### Loading data"
   ]
  },
  {
   "cell_type": "code",
   "execution_count": 3,
   "metadata": {},
   "outputs": [
    {
     "data": {
      "text/html": [
       "<div>\n",
       "<style scoped>\n",
       "    .dataframe tbody tr th:only-of-type {\n",
       "        vertical-align: middle;\n",
       "    }\n",
       "\n",
       "    .dataframe tbody tr th {\n",
       "        vertical-align: top;\n",
       "    }\n",
       "\n",
       "    .dataframe thead th {\n",
       "        text-align: right;\n",
       "    }\n",
       "</style>\n",
       "<table border=\"1\" class=\"dataframe\">\n",
       "  <thead>\n",
       "    <tr style=\"text-align: right;\">\n",
       "      <th></th>\n",
       "      <th>OBS</th>\n",
       "      <th>YEAR</th>\n",
       "      <th>MONTH</th>\n",
       "      <th>U.S._STATE</th>\n",
       "      <th>POSTAL.CODE</th>\n",
       "      <th>NERC.REGION</th>\n",
       "      <th>CLIMATE.REGION</th>\n",
       "      <th>ANOMALY.LEVEL</th>\n",
       "      <th>CLIMATE.CATEGORY</th>\n",
       "      <th>OUTAGE.START.DATE</th>\n",
       "      <th>...</th>\n",
       "      <th>POPPCT_URBAN</th>\n",
       "      <th>POPPCT_UC</th>\n",
       "      <th>POPDEN_URBAN</th>\n",
       "      <th>POPDEN_UC</th>\n",
       "      <th>POPDEN_RURAL</th>\n",
       "      <th>AREAPCT_URBAN</th>\n",
       "      <th>AREAPCT_UC</th>\n",
       "      <th>PCT_LAND</th>\n",
       "      <th>PCT_WATER_TOT</th>\n",
       "      <th>PCT_WATER_INLAND</th>\n",
       "    </tr>\n",
       "  </thead>\n",
       "  <tbody>\n",
       "    <tr>\n",
       "      <th>1</th>\n",
       "      <td>1</td>\n",
       "      <td>2011</td>\n",
       "      <td>7</td>\n",
       "      <td>Minnesota</td>\n",
       "      <td>MN</td>\n",
       "      <td>MRO</td>\n",
       "      <td>East North Central</td>\n",
       "      <td>-0.3</td>\n",
       "      <td>normal</td>\n",
       "      <td>Friday, July 1, 2011</td>\n",
       "      <td>...</td>\n",
       "      <td>73.27</td>\n",
       "      <td>15.28</td>\n",
       "      <td>2279</td>\n",
       "      <td>1700.5</td>\n",
       "      <td>18.2</td>\n",
       "      <td>2.14</td>\n",
       "      <td>0.6</td>\n",
       "      <td>91.5926658691451</td>\n",
       "      <td>8.40733413085488</td>\n",
       "      <td>5.47874298334407</td>\n",
       "    </tr>\n",
       "    <tr>\n",
       "      <th>2</th>\n",
       "      <td>2</td>\n",
       "      <td>2014</td>\n",
       "      <td>5</td>\n",
       "      <td>Minnesota</td>\n",
       "      <td>MN</td>\n",
       "      <td>MRO</td>\n",
       "      <td>East North Central</td>\n",
       "      <td>-0.1</td>\n",
       "      <td>normal</td>\n",
       "      <td>Sunday, May 11, 2014</td>\n",
       "      <td>...</td>\n",
       "      <td>73.27</td>\n",
       "      <td>15.28</td>\n",
       "      <td>2279</td>\n",
       "      <td>1700.5</td>\n",
       "      <td>18.2</td>\n",
       "      <td>2.14</td>\n",
       "      <td>0.6</td>\n",
       "      <td>91.5926658691451</td>\n",
       "      <td>8.40733413085488</td>\n",
       "      <td>5.47874298334407</td>\n",
       "    </tr>\n",
       "    <tr>\n",
       "      <th>3</th>\n",
       "      <td>3</td>\n",
       "      <td>2010</td>\n",
       "      <td>10</td>\n",
       "      <td>Minnesota</td>\n",
       "      <td>MN</td>\n",
       "      <td>MRO</td>\n",
       "      <td>East North Central</td>\n",
       "      <td>-1.5</td>\n",
       "      <td>cold</td>\n",
       "      <td>Tuesday, October 26, 2010</td>\n",
       "      <td>...</td>\n",
       "      <td>73.27</td>\n",
       "      <td>15.28</td>\n",
       "      <td>2279</td>\n",
       "      <td>1700.5</td>\n",
       "      <td>18.2</td>\n",
       "      <td>2.14</td>\n",
       "      <td>0.6</td>\n",
       "      <td>91.5926658691451</td>\n",
       "      <td>8.40733413085488</td>\n",
       "      <td>5.47874298334407</td>\n",
       "    </tr>\n",
       "    <tr>\n",
       "      <th>4</th>\n",
       "      <td>4</td>\n",
       "      <td>2012</td>\n",
       "      <td>6</td>\n",
       "      <td>Minnesota</td>\n",
       "      <td>MN</td>\n",
       "      <td>MRO</td>\n",
       "      <td>East North Central</td>\n",
       "      <td>-0.1</td>\n",
       "      <td>normal</td>\n",
       "      <td>Tuesday, June 19, 2012</td>\n",
       "      <td>...</td>\n",
       "      <td>73.27</td>\n",
       "      <td>15.28</td>\n",
       "      <td>2279</td>\n",
       "      <td>1700.5</td>\n",
       "      <td>18.2</td>\n",
       "      <td>2.14</td>\n",
       "      <td>0.6</td>\n",
       "      <td>91.5926658691451</td>\n",
       "      <td>8.40733413085488</td>\n",
       "      <td>5.47874298334407</td>\n",
       "    </tr>\n",
       "    <tr>\n",
       "      <th>5</th>\n",
       "      <td>5</td>\n",
       "      <td>2015</td>\n",
       "      <td>7</td>\n",
       "      <td>Minnesota</td>\n",
       "      <td>MN</td>\n",
       "      <td>MRO</td>\n",
       "      <td>East North Central</td>\n",
       "      <td>1.2</td>\n",
       "      <td>warm</td>\n",
       "      <td>Saturday, July 18, 2015</td>\n",
       "      <td>...</td>\n",
       "      <td>73.27</td>\n",
       "      <td>15.28</td>\n",
       "      <td>2279</td>\n",
       "      <td>1700.5</td>\n",
       "      <td>18.2</td>\n",
       "      <td>2.14</td>\n",
       "      <td>0.6</td>\n",
       "      <td>91.5926658691451</td>\n",
       "      <td>8.40733413085488</td>\n",
       "      <td>5.47874298334407</td>\n",
       "    </tr>\n",
       "  </tbody>\n",
       "</table>\n",
       "<p>5 rows × 56 columns</p>\n",
       "</div>"
      ],
      "text/plain": [
       "  OBS  YEAR MONTH U.S._STATE POSTAL.CODE NERC.REGION      CLIMATE.REGION  \\\n",
       "1   1  2011     7  Minnesota          MN         MRO  East North Central   \n",
       "2   2  2014     5  Minnesota          MN         MRO  East North Central   \n",
       "3   3  2010    10  Minnesota          MN         MRO  East North Central   \n",
       "4   4  2012     6  Minnesota          MN         MRO  East North Central   \n",
       "5   5  2015     7  Minnesota          MN         MRO  East North Central   \n",
       "\n",
       "  ANOMALY.LEVEL CLIMATE.CATEGORY          OUTAGE.START.DATE  ... POPPCT_URBAN  \\\n",
       "1          -0.3           normal       Friday, July 1, 2011  ...        73.27   \n",
       "2          -0.1           normal       Sunday, May 11, 2014  ...        73.27   \n",
       "3          -1.5             cold  Tuesday, October 26, 2010  ...        73.27   \n",
       "4          -0.1           normal     Tuesday, June 19, 2012  ...        73.27   \n",
       "5           1.2             warm    Saturday, July 18, 2015  ...        73.27   \n",
       "\n",
       "  POPPCT_UC POPDEN_URBAN POPDEN_UC POPDEN_RURAL AREAPCT_URBAN AREAPCT_UC  \\\n",
       "1     15.28         2279    1700.5         18.2          2.14        0.6   \n",
       "2     15.28         2279    1700.5         18.2          2.14        0.6   \n",
       "3     15.28         2279    1700.5         18.2          2.14        0.6   \n",
       "4     15.28         2279    1700.5         18.2          2.14        0.6   \n",
       "5     15.28         2279    1700.5         18.2          2.14        0.6   \n",
       "\n",
       "           PCT_LAND     PCT_WATER_TOT  PCT_WATER_INLAND  \n",
       "1  91.5926658691451  8.40733413085488  5.47874298334407  \n",
       "2  91.5926658691451  8.40733413085488  5.47874298334407  \n",
       "3  91.5926658691451  8.40733413085488  5.47874298334407  \n",
       "4  91.5926658691451  8.40733413085488  5.47874298334407  \n",
       "5  91.5926658691451  8.40733413085488  5.47874298334407  \n",
       "\n",
       "[5 rows x 56 columns]"
      ]
     },
     "execution_count": 3,
     "metadata": {},
     "output_type": "execute_result"
    }
   ],
   "source": [
    "# Drop first 5 rows of metadata\n",
    "raw = pd.read_csv('outage.csv', header=None).iloc[5:]\n",
    "\n",
    "# Extract and clean column names from the first actual row (index 5 in the original file)\n",
    "cols = raw.iloc[0, 1:].tolist()\n",
    "# Drop the first column (contains \"variables\") and the header row itself\n",
    "raw = raw.iloc[1:, 1:].copy()\n",
    "\n",
    "# Assign cleaned column names\n",
    "raw.columns = cols\n",
    "\n",
    "# Reset index so we are working with the correct row numbers.\n",
    "raw.reset_index(drop=True, inplace=True)\n",
    "\n",
    "# Finally, drop variable column \n",
    "raw = raw.iloc[1:, :]\n",
    "raw.head(5)"
   ]
  },
  {
   "cell_type": "markdown",
   "metadata": {},
   "source": [
    "### Renaming columns"
   ]
  },
  {
   "cell_type": "code",
   "execution_count": 4,
   "metadata": {},
   "outputs": [
    {
     "data": {
      "text/html": [
       "<div>\n",
       "<style scoped>\n",
       "    .dataframe tbody tr th:only-of-type {\n",
       "        vertical-align: middle;\n",
       "    }\n",
       "\n",
       "    .dataframe tbody tr th {\n",
       "        vertical-align: top;\n",
       "    }\n",
       "\n",
       "    .dataframe thead th {\n",
       "        text-align: right;\n",
       "    }\n",
       "</style>\n",
       "<table border=\"1\" class=\"dataframe\">\n",
       "  <thead>\n",
       "    <tr style=\"text-align: right;\">\n",
       "      <th></th>\n",
       "      <th>obs</th>\n",
       "      <th>year</th>\n",
       "      <th>month</th>\n",
       "      <th>state</th>\n",
       "      <th>postal_code</th>\n",
       "      <th>nerc_region</th>\n",
       "      <th>climate_region</th>\n",
       "      <th>anomaly_level</th>\n",
       "      <th>climate_cat</th>\n",
       "      <th>start_date</th>\n",
       "      <th>...</th>\n",
       "      <th>pop_pct_urban</th>\n",
       "      <th>pop_pct_uc</th>\n",
       "      <th>popden_urban</th>\n",
       "      <th>popden_uc</th>\n",
       "      <th>popden_rural</th>\n",
       "      <th>area_pct_urban</th>\n",
       "      <th>area_pct_uc</th>\n",
       "      <th>pct_land</th>\n",
       "      <th>pct_water_tot</th>\n",
       "      <th>pct_water_inland</th>\n",
       "    </tr>\n",
       "  </thead>\n",
       "  <tbody>\n",
       "    <tr>\n",
       "      <th>1</th>\n",
       "      <td>1</td>\n",
       "      <td>2011</td>\n",
       "      <td>7</td>\n",
       "      <td>Minnesota</td>\n",
       "      <td>MN</td>\n",
       "      <td>MRO</td>\n",
       "      <td>East North Central</td>\n",
       "      <td>-0.3</td>\n",
       "      <td>normal</td>\n",
       "      <td>Friday, July 1, 2011</td>\n",
       "      <td>...</td>\n",
       "      <td>73.27</td>\n",
       "      <td>15.28</td>\n",
       "      <td>2279</td>\n",
       "      <td>1700.5</td>\n",
       "      <td>18.2</td>\n",
       "      <td>2.14</td>\n",
       "      <td>0.6</td>\n",
       "      <td>91.5926658691451</td>\n",
       "      <td>8.40733413085488</td>\n",
       "      <td>5.47874298334407</td>\n",
       "    </tr>\n",
       "    <tr>\n",
       "      <th>2</th>\n",
       "      <td>2</td>\n",
       "      <td>2014</td>\n",
       "      <td>5</td>\n",
       "      <td>Minnesota</td>\n",
       "      <td>MN</td>\n",
       "      <td>MRO</td>\n",
       "      <td>East North Central</td>\n",
       "      <td>-0.1</td>\n",
       "      <td>normal</td>\n",
       "      <td>Sunday, May 11, 2014</td>\n",
       "      <td>...</td>\n",
       "      <td>73.27</td>\n",
       "      <td>15.28</td>\n",
       "      <td>2279</td>\n",
       "      <td>1700.5</td>\n",
       "      <td>18.2</td>\n",
       "      <td>2.14</td>\n",
       "      <td>0.6</td>\n",
       "      <td>91.5926658691451</td>\n",
       "      <td>8.40733413085488</td>\n",
       "      <td>5.47874298334407</td>\n",
       "    </tr>\n",
       "  </tbody>\n",
       "</table>\n",
       "<p>2 rows × 56 columns</p>\n",
       "</div>"
      ],
      "text/plain": [
       "  obs  year month      state postal_code nerc_region      climate_region  \\\n",
       "1   1  2011     7  Minnesota          MN         MRO  East North Central   \n",
       "2   2  2014     5  Minnesota          MN         MRO  East North Central   \n",
       "\n",
       "  anomaly_level climate_cat            start_date  ... pop_pct_urban  \\\n",
       "1          -0.3      normal  Friday, July 1, 2011  ...         73.27   \n",
       "2          -0.1      normal  Sunday, May 11, 2014  ...         73.27   \n",
       "\n",
       "  pop_pct_uc popden_urban popden_uc popden_rural area_pct_urban area_pct_uc  \\\n",
       "1      15.28         2279    1700.5         18.2           2.14         0.6   \n",
       "2      15.28         2279    1700.5         18.2           2.14         0.6   \n",
       "\n",
       "           pct_land     pct_water_tot  pct_water_inland  \n",
       "1  91.5926658691451  8.40733413085488  5.47874298334407  \n",
       "2  91.5926658691451  8.40733413085488  5.47874298334407  \n",
       "\n",
       "[2 rows x 56 columns]"
      ]
     },
     "execution_count": 4,
     "metadata": {},
     "output_type": "execute_result"
    }
   ],
   "source": [
    "new_cols = [\n",
    "    'obs', 'year', 'month', 'state', 'postal_code', 'nerc_region',\n",
    "    'climate_region', 'anomaly_level', 'climate_cat',\n",
    "    'start_date', 'start_time', 'restore_date',\n",
    "    'restore_time', 'cause_cat', 'cause_detail',\n",
    "    'hurricane_names', 'duration', 'demand_loss_mw',\n",
    "    'customers_affected', 'res_price', 'com_price', 'ind_price',\n",
    "    'total_price', 'res_sales', 'com_sales', 'ind_sales', 'total_sales',\n",
    "    'res_pct', 'com_pct', 'ind_pct', 'res_customers',\n",
    "    'com_customers', 'ind_customers', 'total_customers', 'res_cust_pct',\n",
    "    'com_cust_pct', 'ind_cust_pct', 'pc_realgsp_state', 'pc_realgsp_usa',\n",
    "    'pc_realgsp_rel', 'pc_realgsp_change', 'util_realgsp', 'total_realgsp',\n",
    "    'util_contri', 'pi_util_of_usa', 'population', 'pop_pct_urban',\n",
    "    'pop_pct_uc', 'popden_urban', 'popden_uc', 'popden_rural',\n",
    "    'area_pct_urban', 'area_pct_uc', 'pct_land', 'pct_water_tot',\n",
    "    'pct_water_inland'\n",
    "]\n",
    "\n",
    "raw.columns = new_cols\n",
    "raw.head(2)\n"
   ]
  },
  {
   "cell_type": "markdown",
   "metadata": {},
   "source": [
    "## Brainstorming problem statments\n",
    "(⚠️ means still need more data, ✅ means workable with existing data )\n",
    "\n",
    "**Currently, we are considering three problem statement to explore:**\n",
    "\n",
    "1. ⚠️ Assessment of Infrastructure Resilience (Based on whether or not `cause_detail` has enough information.)\n",
    "Analyze how different regions' infrastructure characteristics (e.g., overhead vs. underground lines, maintenance investments) correlate with outage frequency and duration. This can inform infrastructure improvement strategies.\n",
    "2. ✅ Temporal Trends and Climate Change Correlation (doable with existing data, but kinda boring) \n",
    "Examine how the frequency and causes of outages have evolved over time and assess potential correlations with climate change indicators. This can provide insights into how changing climate patterns impact power reliability.\n",
    "3. ⚠️ Policy and Emergency Response Evaluation (We don’t have explicit timestamps or markers indicating policy changes or emergency response dates.)\n",
    "Evaluate the effectiveness of policies and emergency responses by analyzing outage data before and after the implementation of specific measures. This can guide future policy development and emergency planning.\n",
    "\n",
    "**Ideas that are just \"ok\":**\n",
    "\n",
    "⭕️ 1. Predictive Modeling of Outage Risks <u> ***(but it’s kinda boring, i bet people have done it already; not creative)*** </u>\n",
    "\n",
    "Utilize machine learning techniques to predict the likelihood of major power outages based on factors such as weather patterns, infrastructure characteristics, and economic indicators. This can aid in proactive maintenance and resource allocation.\n",
    "\n",
    "⭕️ 2. Socioeconomic Impact Analysis <u> ***(has been done numerous times already !!!!!!! Check out examples, two of them already exist. I know you like it, Im sry!)*** </u>\n",
    "\n",
    "Investigate the relationship between socioeconomic factors (e.g., income levels, urbanization) and the frequency or duration of power outages. This can highlight areas where outages disproportionately affect vulnerable populations.\n",
    "\n"
   ]
  },
  {
   "cell_type": "markdown",
   "metadata": {},
   "source": [
    "### Exploring idea 1\n",
    "Check out whether `cause_detail` gives us any good information about the infrustructure. "
   ]
  },
  {
   "cell_type": "code",
   "execution_count": 5,
   "metadata": {},
   "outputs": [
    {
     "data": {
      "text/plain": [
       "array([nan, 'vandalism', 'heavy wind', 'thunderstorm', 'winter storm',\n",
       "       'tornadoes', 'sabotage', 'hailstorm', 'uncontrolled loss',\n",
       "       'winter', 'wind storm', 'computer hardware', 'public appeal',\n",
       "       'storm', ' Coal', ' Natural Gas', 'hurricanes', 'wind/rain',\n",
       "       'snow/ice storm', 'snow/ice ', 'transmission interruption',\n",
       "       'flooding', 'transformer outage', 'generator trip',\n",
       "       'relaying malfunction', 'transmission trip', 'lightning',\n",
       "       'switching', 'shed load', 'line fault', 'breaker trip', 'wildfire',\n",
       "       ' Hydro', 'majorsystem interruption', 'voltage reduction',\n",
       "       'transmission', 'Coal', 'substation', 'heatwave',\n",
       "       'distribution interruption', 'wind', 'suspicious activity',\n",
       "       'feeder shutdown', '100 MW loadshed', 'plant trip', 'fog', 'Hydro',\n",
       "       'earthquake', 'HVSubstation interruption', 'cables', 'Petroleum',\n",
       "       'thunderstorm; islanding', 'failure'], dtype=object)"
      ]
     },
     "execution_count": 5,
     "metadata": {},
     "output_type": "execute_result"
    }
   ],
   "source": [
    "raw['cause_detail'].unique()"
   ]
  },
  {
   "cell_type": "markdown",
   "metadata": {},
   "source": [
    "- `cause_detail` does contain some infrastructure-related failure types, like:\n",
    "**transformer outage, generator trip, relaying malfunction, breaker trip, line fault, substation, transmission interruption, distribution interruption, cables, HVSubstation interruption, plant trip**, etc.\n",
    "- They will allow us to indirectly infer infrastructure issues, but there are no explicit infrastructure metadata: We don’t have direct info on overhead vs underground lines, age of equipment, maintenance budgets, or investments.\n",
    "\n",
    "- External datasets to consider: \n",
    "    - **(I FW THIS ONE HEAVY) [EIA Reports on Utility Investments](https://www.eia.gov/todayinenergy/detail.php?id=48136)** \n",
    "        - Provides financial and operational data related to maintenance and upgrades.\n",
    "        - Can help explain or correlate investment levels with outage frequency/duration.\n",
    "        - Good source for explaining patterns seen in outage data.\n",
    "    - [Mapping the Depths: Underground Power Distribution (arXiv study, paper only)](https://arxiv.org/abs/2402.06668)\n",
    "        - Unique dataset that quantifies underground vs overhead lines by utility.\n",
    "        - Can provide a strong predictor variable about infrastructure type (underground = more resilient).\n",
    "\n",
    "### Exploring EIA reports on utility investment \n",
    "-> <u> **[Annual Electric Power Industry Report, Form EIA-861 detailed data files](https://www.eia.gov/electricity/data/eia861/)**</u> <br>\n",
    "-> <u> **[A Guide to EIA Electric Power Data](https://www.eia.gov/electricity/data/guide/pdf/guide.pdf)** page 9/18  </u> \n",
    "> **Retail Sales by Electric Utilities and Power Marketers (Form EIA-861, Annual Electric Power Industry Report)**\n",
    ">\n",
    "> Data Collected by Form EIA-861  \n",
    "> The Form EIA-861, Annual Electric Power Industry Report collects annual data from a census of all utilities that sell electricity to end-use customers in the 50 states, the District of Columbia, Puerto Rico, American Samoa, the American Virgin Islands, Guam, and the Northern Mariana Islands. These surveys collect information on sales to ultimate customers by utilities and power marketers, energy efficiency programs, distributed generating capacity, and related data elements.  \n",
    ">\n",
    "> The data collected include several items:  \n",
    "> - **Service territory by state and county**  \n",
    "> - **Sales revenue to ultimate customers**  \n",
    "> - **Revenue and customer count**  \n",
    "> - **Source and disposition of electricity**  \n",
    "> - **Advanced metering**  \n",
    "> - **Demand response and energy efficiency programs**  \n",
    "> - **Dynamic pricing**  \n",
    "> - **Capacity and other information related to net metering**  \n",
    "> - **Non-net metered distributed generating units**  \n",
    "> - **Distribution system characteristics and reliability**\n",
    "\n",
    "\n",
    "Out of the above, the good columns to look for are ` Distribution System Characteristics and Reliability`, ` Service Territory by State and County`, `Advanced Metering Infrastructure (AMI)`, `Revenue and Customer Count by Utility` \n",
    "-  `Distribution System Characteristics and Reliability`: Directly speaks to infrastructure resilience. \n",
    "-  `Service Territory by State and County`: Needed for merging \n",
    "- `Advanced Metering Infrastructure (AMI)`: AMI often correlates with modernization efforts and may reflect better outage response times. Can assess: Compare outage duration/frequency in regions with vs. without AMI.\n",
    "- `Demand Response and Energy Efficiency Programs`: May suggest proactive infrastructure investment or mitigation strategies. Can assess: \"Do regions with stronger demand response programs show fewer or shorter outages?\"\n",
    "- `Revenue and Customer Count by Utility`: Can assess possible correlations between revenue and investment in resilience."
   ]
  },
  {
   "cell_type": "code",
   "execution_count": 6,
   "metadata": {},
   "outputs": [
    {
     "data": {
      "text/html": [
       "<div>\n",
       "<style scoped>\n",
       "    .dataframe tbody tr th:only-of-type {\n",
       "        vertical-align: middle;\n",
       "    }\n",
       "\n",
       "    .dataframe tbody tr th {\n",
       "        vertical-align: top;\n",
       "    }\n",
       "\n",
       "    .dataframe thead th {\n",
       "        text-align: right;\n",
       "    }\n",
       "</style>\n",
       "<table border=\"1\" class=\"dataframe\">\n",
       "  <thead>\n",
       "    <tr style=\"text-align: right;\">\n",
       "      <th></th>\n",
       "      <th>obs</th>\n",
       "      <th>year</th>\n",
       "      <th>month</th>\n",
       "      <th>state</th>\n",
       "      <th>postal_code</th>\n",
       "      <th>nerc_region</th>\n",
       "      <th>climate_region</th>\n",
       "      <th>anomaly_level</th>\n",
       "      <th>climate_cat</th>\n",
       "      <th>start_date</th>\n",
       "      <th>...</th>\n",
       "      <th>pop_pct_urban</th>\n",
       "      <th>pop_pct_uc</th>\n",
       "      <th>popden_urban</th>\n",
       "      <th>popden_uc</th>\n",
       "      <th>popden_rural</th>\n",
       "      <th>area_pct_urban</th>\n",
       "      <th>area_pct_uc</th>\n",
       "      <th>pct_land</th>\n",
       "      <th>pct_water_tot</th>\n",
       "      <th>pct_water_inland</th>\n",
       "    </tr>\n",
       "  </thead>\n",
       "  <tbody>\n",
       "    <tr>\n",
       "      <th>1</th>\n",
       "      <td>1</td>\n",
       "      <td>2011</td>\n",
       "      <td>7</td>\n",
       "      <td>Minnesota</td>\n",
       "      <td>MN</td>\n",
       "      <td>MRO</td>\n",
       "      <td>East North Central</td>\n",
       "      <td>-0.3</td>\n",
       "      <td>normal</td>\n",
       "      <td>Friday, July 1, 2011</td>\n",
       "      <td>...</td>\n",
       "      <td>73.27</td>\n",
       "      <td>15.28</td>\n",
       "      <td>2279</td>\n",
       "      <td>1700.5</td>\n",
       "      <td>18.2</td>\n",
       "      <td>2.14</td>\n",
       "      <td>0.6</td>\n",
       "      <td>91.5926658691451</td>\n",
       "      <td>8.40733413085488</td>\n",
       "      <td>5.47874298334407</td>\n",
       "    </tr>\n",
       "    <tr>\n",
       "      <th>2</th>\n",
       "      <td>2</td>\n",
       "      <td>2014</td>\n",
       "      <td>5</td>\n",
       "      <td>Minnesota</td>\n",
       "      <td>MN</td>\n",
       "      <td>MRO</td>\n",
       "      <td>East North Central</td>\n",
       "      <td>-0.1</td>\n",
       "      <td>normal</td>\n",
       "      <td>Sunday, May 11, 2014</td>\n",
       "      <td>...</td>\n",
       "      <td>73.27</td>\n",
       "      <td>15.28</td>\n",
       "      <td>2279</td>\n",
       "      <td>1700.5</td>\n",
       "      <td>18.2</td>\n",
       "      <td>2.14</td>\n",
       "      <td>0.6</td>\n",
       "      <td>91.5926658691451</td>\n",
       "      <td>8.40733413085488</td>\n",
       "      <td>5.47874298334407</td>\n",
       "    </tr>\n",
       "  </tbody>\n",
       "</table>\n",
       "<p>2 rows × 56 columns</p>\n",
       "</div>"
      ],
      "text/plain": [
       "  obs  year month      state postal_code nerc_region      climate_region  \\\n",
       "1   1  2011     7  Minnesota          MN         MRO  East North Central   \n",
       "2   2  2014     5  Minnesota          MN         MRO  East North Central   \n",
       "\n",
       "  anomaly_level climate_cat            start_date  ... pop_pct_urban  \\\n",
       "1          -0.3      normal  Friday, July 1, 2011  ...         73.27   \n",
       "2          -0.1      normal  Sunday, May 11, 2014  ...         73.27   \n",
       "\n",
       "  pop_pct_uc popden_urban popden_uc popden_rural area_pct_urban area_pct_uc  \\\n",
       "1      15.28         2279    1700.5         18.2           2.14         0.6   \n",
       "2      15.28         2279    1700.5         18.2           2.14         0.6   \n",
       "\n",
       "           pct_land     pct_water_tot  pct_water_inland  \n",
       "1  91.5926658691451  8.40733413085488  5.47874298334407  \n",
       "2  91.5926658691451  8.40733413085488  5.47874298334407  \n",
       "\n",
       "[2 rows x 56 columns]"
      ]
     },
     "execution_count": 6,
     "metadata": {},
     "output_type": "execute_result"
    }
   ],
   "source": [
    "raw.head(2)"
   ]
  },
  {
   "cell_type": "markdown",
   "metadata": {},
   "source": [
    "# Basic visualizations "
   ]
  },
  {
   "cell_type": "code",
   "execution_count": 7,
   "metadata": {},
   "outputs": [
    {
     "data": {
      "application/vnd.plotly.v1+json": {
       "config": {
        "plotlyServerURL": "https://plot.ly"
       },
       "data": [
        {
         "alignmentgroup": "True",
         "hovertemplate": "state=%{x}<br>anomaly_level=%{y}<extra></extra>",
         "legendgroup": "Minnesota",
         "marker": {
          "color": "#636efa"
         },
         "name": "Minnesota",
         "notched": false,
         "offsetgroup": "Minnesota",
         "orientation": "v",
         "showlegend": true,
         "type": "box",
         "x": [
          "Minnesota",
          "Minnesota",
          "Minnesota",
          "Minnesota",
          "Minnesota",
          "Minnesota",
          "Minnesota",
          "Minnesota",
          "Minnesota",
          "Minnesota",
          "Minnesota",
          "Minnesota",
          "Minnesota",
          "Minnesota",
          "Minnesota"
         ],
         "x0": " ",
         "xaxis": "x",
         "y": [
          "-0.3",
          "-0.1",
          "-1.5",
          "-0.1",
          "1.2",
          "-1.4",
          "-0.9",
          "0.2",
          "0.6",
          "-0.2",
          "-0.2",
          "0",
          "-0.3",
          "-0.4",
          "0"
         ],
         "y0": " ",
         "yaxis": "y"
        },
        {
         "alignmentgroup": "True",
         "hovertemplate": "state=%{x}<br>anomaly_level=%{y}<extra></extra>",
         "legendgroup": "Tennessee",
         "marker": {
          "color": "#EF553B"
         },
         "name": "Tennessee",
         "notched": false,
         "offsetgroup": "Tennessee",
         "orientation": "v",
         "showlegend": true,
         "type": "box",
         "x": [
          "Tennessee",
          "Tennessee",
          "Tennessee",
          "Tennessee",
          "Tennessee",
          "Tennessee",
          "Tennessee",
          "Tennessee",
          "Tennessee",
          "Tennessee",
          "Tennessee",
          "Tennessee",
          "Tennessee",
          "Tennessee",
          "Tennessee",
          "Tennessee",
          "Tennessee",
          "Tennessee",
          "Tennessee",
          "Tennessee",
          "Tennessee",
          "Tennessee",
          "Tennessee",
          "Tennessee",
          "Tennessee",
          "Tennessee",
          "Tennessee",
          "Tennessee",
          "Tennessee",
          "Tennessee",
          "Tennessee",
          "Tennessee",
          "Tennessee",
          "Tennessee"
         ],
         "x0": " ",
         "xaxis": "x",
         "y": [
          "1",
          "0.3",
          "1",
          "-0.5",
          "-1.3",
          "0.6",
          "0.1",
          "1.2",
          "-0.2",
          "-0.5",
          "0.5",
          "-0.3",
          "-0.5",
          "0",
          "-0.1",
          "0",
          "-0.5",
          "0.8",
          "0.5",
          "0",
          "-0.5",
          "-0.3",
          "-0.5",
          "0.6",
          "-0.4",
          "-0.5",
          "0.4",
          "-0.4",
          "-0.5",
          "-0.5",
          "0",
          "-0.5",
          "1.1",
          "-0.7"
         ],
         "y0": " ",
         "yaxis": "y"
        },
        {
         "alignmentgroup": "True",
         "hovertemplate": "state=%{x}<br>anomaly_level=%{y}<extra></extra>",
         "legendgroup": "Wisconsin",
         "marker": {
          "color": "#00cc96"
         },
         "name": "Wisconsin",
         "notched": false,
         "offsetgroup": "Wisconsin",
         "orientation": "v",
         "showlegend": true,
         "type": "box",
         "x": [
          "Wisconsin",
          "Wisconsin",
          "Wisconsin",
          "Wisconsin",
          "Wisconsin",
          "Wisconsin",
          "Wisconsin",
          "Wisconsin",
          "Wisconsin",
          "Wisconsin",
          "Wisconsin",
          "Wisconsin",
          "Wisconsin",
          "Wisconsin",
          "Wisconsin",
          "Wisconsin",
          "Wisconsin",
          "Wisconsin",
          "Wisconsin",
          "Wisconsin"
         ],
         "x0": " ",
         "xaxis": "x",
         "y": [
          "0",
          "-0.5",
          "-0.5",
          "-0.3",
          "-0.5",
          "-0.2",
          "0.1",
          "-0.5",
          "2.2",
          "0",
          "-1.2",
          "-1.5",
          "0",
          "-0.5",
          "-0.4",
          "0",
          "-0.3",
          "-0.5",
          "-0.3",
          "-0.5"
         ],
         "y0": " ",
         "yaxis": "y"
        },
        {
         "alignmentgroup": "True",
         "hovertemplate": "state=%{x}<br>anomaly_level=%{y}<extra></extra>",
         "legendgroup": "West Virginia",
         "marker": {
          "color": "#ab63fa"
         },
         "name": "West Virginia",
         "notched": false,
         "offsetgroup": "West Virginia",
         "orientation": "v",
         "showlegend": true,
         "type": "box",
         "x": [
          "West Virginia",
          "West Virginia",
          "West Virginia",
          "West Virginia"
         ],
         "x0": " ",
         "xaxis": "x",
         "y": [
          "0.6",
          "0",
          "0.3",
          "-0.1"
         ],
         "y0": " ",
         "yaxis": "y"
        },
        {
         "alignmentgroup": "True",
         "hovertemplate": "state=%{x}<br>anomaly_level=%{y}<extra></extra>",
         "legendgroup": "Michigan",
         "marker": {
          "color": "#FFA15A"
         },
         "name": "Michigan",
         "notched": false,
         "offsetgroup": "Michigan",
         "orientation": "v",
         "showlegend": true,
         "type": "box",
         "x": [
          "Michigan",
          "Michigan",
          "Michigan",
          "Michigan",
          "Michigan",
          "Michigan",
          "Michigan",
          "Michigan",
          "Michigan",
          "Michigan",
          "Michigan",
          "Michigan",
          "Michigan",
          "Michigan",
          "Michigan",
          "Michigan",
          "Michigan",
          "Michigan",
          "Michigan",
          "Michigan",
          "Michigan",
          "Michigan",
          "Michigan",
          "Michigan",
          "Michigan",
          "Michigan",
          "Michigan",
          "Michigan",
          "Michigan",
          "Michigan",
          "Michigan",
          "Michigan",
          "Michigan",
          "Michigan",
          "Michigan",
          "Michigan",
          "Michigan",
          "Michigan",
          "Michigan",
          "Michigan",
          "Michigan",
          "Michigan",
          "Michigan",
          "Michigan",
          "Michigan",
          "Michigan",
          "Michigan",
          "Michigan",
          "Michigan",
          "Michigan",
          "Michigan",
          "Michigan",
          "Michigan",
          "Michigan",
          "Michigan",
          "Michigan",
          "Michigan",
          "Michigan",
          "Michigan",
          "Michigan",
          "Michigan",
          "Michigan",
          "Michigan",
          "Michigan",
          "Michigan",
          "Michigan",
          "Michigan",
          "Michigan",
          "Michigan",
          "Michigan",
          "Michigan",
          "Michigan",
          "Michigan",
          "Michigan",
          "Michigan",
          "Michigan",
          "Michigan",
          "Michigan",
          "Michigan",
          "Michigan",
          "Michigan",
          "Michigan",
          "Michigan",
          "Michigan",
          "Michigan",
          "Michigan",
          "Michigan",
          "Michigan",
          "Michigan",
          "Michigan",
          "Michigan",
          "Michigan",
          "Michigan",
          "Michigan",
          "Michigan"
         ],
         "x0": " ",
         "xaxis": "x",
         "y": [
          "-0.4",
          "0",
          "0.3",
          "-0.3",
          "2",
          "-0.4",
          "0.2",
          "0",
          "-0.4",
          "-0.4",
          "-0.2",
          "-0.4",
          "-0.1",
          "-1.3",
          "2.2",
          "-0.4",
          "0.9",
          "0.2",
          "0.4",
          "0.2",
          "-0.3",
          "-0.5",
          "0.1",
          "-1",
          "-1.3",
          "-0.3",
          "0.3",
          "-0.1",
          "0.2",
          "1.4",
          "-0.3",
          "-0.7",
          "0.1",
          "-0.7",
          "1",
          "0.2",
          "-0.3",
          "-1.5",
          "-1.4",
          "0.7",
          "1.3",
          "1.7",
          "-0.5",
          "-0.6",
          "-0.2",
          "0.5",
          "-1.2",
          "-0.4",
          "-0.5",
          "-0.4",
          "-0.3",
          "-0.4",
          "-0.2",
          "-1.4",
          "-0.4",
          "0.2",
          "-0.9",
          "-0.4",
          "-0.7",
          "-0.5",
          "-0.4",
          "0.2",
          "0",
          "-0.2",
          "-0.5",
          "-0.9",
          "0.2",
          "-0.3",
          "-0.2",
          "0.3",
          "-0.3",
          "-0.9",
          "0.2",
          "-0.2",
          "-0.3",
          "0.7",
          "-0.6",
          "1.4",
          "-0.4",
          "0.4",
          "-0.5",
          "0.1",
          "0.1",
          "0.5",
          "-0.9",
          "2.3",
          "-0.4",
          "-0.3",
          "-0.3",
          "0.7",
          "-1.4",
          "-0.2",
          "-0.4",
          "-0.8",
          "-0.6"
         ],
         "y0": " ",
         "yaxis": "y"
        },
        {
         "alignmentgroup": "True",
         "hovertemplate": "state=%{x}<br>anomaly_level=%{y}<extra></extra>",
         "legendgroup": "Texas",
         "marker": {
          "color": "#19d3f3"
         },
         "name": "Texas",
         "notched": false,
         "offsetgroup": "Texas",
         "orientation": "v",
         "showlegend": true,
         "type": "box",
         "x": [
          "Texas",
          "Texas",
          "Texas",
          "Texas",
          "Texas",
          "Texas",
          "Texas",
          "Texas",
          "Texas",
          "Texas",
          "Texas",
          "Texas",
          "Texas",
          "Texas",
          "Texas",
          "Texas",
          "Texas",
          "Texas",
          "Texas",
          "Texas",
          "Texas",
          "Texas",
          "Texas",
          "Texas",
          "Texas",
          "Texas",
          "Texas",
          "Texas",
          "Texas",
          "Texas",
          "Texas",
          "Texas",
          "Texas",
          "Texas",
          "Texas",
          "Texas",
          "Texas",
          "Texas",
          "Texas",
          "Texas",
          "Texas",
          "Texas",
          "Texas",
          "Texas",
          "Texas",
          "Texas",
          "Texas",
          "Texas",
          "Texas",
          "Texas",
          "Texas",
          "Texas",
          "Texas",
          "Texas",
          "Texas",
          "Texas",
          "Texas",
          "Texas",
          "Texas",
          "Texas",
          "Texas",
          "Texas",
          "Texas",
          "Texas",
          "Texas",
          "Texas",
          "Texas",
          "Texas",
          "Texas",
          "Texas",
          "Texas",
          "Texas",
          "Texas",
          "Texas",
          "Texas",
          "Texas",
          "Texas",
          "Texas",
          "Texas",
          "Texas",
          "Texas",
          "Texas",
          "Texas",
          "Texas",
          "Texas",
          "Texas",
          "Texas",
          "Texas",
          "Texas",
          "Texas",
          "Texas",
          "Texas",
          "Texas",
          "Texas",
          "Texas",
          "Texas",
          "Texas",
          "Texas",
          "Texas",
          "Texas",
          "Texas",
          "Texas",
          "Texas",
          "Texas",
          "Texas",
          "Texas",
          "Texas",
          "Texas",
          "Texas",
          "Texas",
          "Texas",
          "Texas",
          "Texas",
          "Texas",
          "Texas",
          "Texas",
          "Texas",
          "Texas",
          "Texas",
          "Texas",
          "Texas",
          "Texas",
          "Texas",
          "Texas",
          "Texas",
          "Texas",
          "Texas"
         ],
         "x0": " ",
         "xaxis": "x",
         "y": [
          "1.2",
          "-1",
          "-1",
          "-0.3",
          "0.3",
          "-0.5",
          "-0.5",
          "0.6",
          "0.7",
          "0.8",
          "0",
          "-0.2",
          "-0.4",
          "-0.4",
          "-0.9",
          "1.4",
          "-0.9",
          "-0.3",
          "0.1",
          "-0.7",
          "1",
          "-0.4",
          "0.7",
          "-0.3",
          "-0.2",
          "-0.6",
          "-0.6",
          "-0.2",
          "0.6",
          "0",
          "-0.7",
          "0.6",
          "0",
          "0.1",
          "-0.3",
          "-0.5",
          "2",
          "-1",
          "0.6",
          "-0.2",
          "-0.5",
          "2",
          "-0.9",
          "-0.2",
          "-0.3",
          "-0.7",
          "0.5",
          "1.1",
          "-0.6",
          "-0.4",
          "-0.3",
          "-0.3",
          "0.1",
          "0.9",
          "0.2",
          "0.1",
          "1.1",
          "0.5",
          "-0.7",
          "0.7",
          "-0.3",
          "-0.3",
          "-0.7",
          "1.2",
          "0",
          "0",
          "0.4",
          "-1.1",
          "-1",
          "-0.2",
          "-0.1",
          null,
          "-0.3",
          "0.1",
          "-0.2",
          "1.2",
          "-0.9",
          "0.5",
          "-0.5",
          "-0.3",
          "-0.3",
          "-1.4",
          "-0.4",
          "0.5",
          "-0.1",
          "-0.1",
          "-0.5",
          "0.7",
          "-1.3",
          "0.5",
          "-0.4",
          "0.5",
          "-0.5",
          "-0.6",
          "0.2",
          "-0.4",
          "-0.3",
          "-0.6",
          "0.8",
          "0.3",
          "-0.3",
          "-0.2",
          "0.8",
          "-0.3",
          "-0.1",
          "-0.3",
          "-0.3",
          "-0.5",
          "0",
          "0.3",
          "1.2",
          "-0.2",
          "-0.4",
          "-1.2",
          "2.3",
          "1.1",
          "-0.2",
          "0.4",
          "-0.8",
          "0.2",
          "1.4",
          "-0.7",
          "0.5",
          "-0.7",
          "0.3",
          "-0.4",
          "-0.9"
         ],
         "y0": " ",
         "yaxis": "y"
        },
        {
         "alignmentgroup": "True",
         "hovertemplate": "state=%{x}<br>anomaly_level=%{y}<extra></extra>",
         "legendgroup": "Indiana",
         "marker": {
          "color": "#FF6692"
         },
         "name": "Indiana",
         "notched": false,
         "offsetgroup": "Indiana",
         "orientation": "v",
         "showlegend": true,
         "type": "box",
         "x": [
          "Indiana",
          "Indiana",
          "Indiana",
          "Indiana",
          "Indiana",
          "Indiana",
          "Indiana",
          "Indiana",
          "Indiana",
          "Indiana",
          "Indiana",
          "Indiana",
          "Indiana",
          "Indiana",
          "Indiana",
          "Indiana",
          "Indiana",
          "Indiana",
          "Indiana",
          "Indiana",
          "Indiana",
          "Indiana",
          "Indiana",
          "Indiana",
          "Indiana",
          "Indiana",
          "Indiana",
          "Indiana",
          "Indiana",
          "Indiana",
          "Indiana",
          "Indiana",
          "Indiana",
          "Indiana",
          "Indiana",
          "Indiana",
          "Indiana",
          "Indiana",
          "Indiana",
          "Indiana",
          "Indiana",
          "Indiana",
          "Indiana"
         ],
         "x0": " ",
         "xaxis": "x",
         "y": [
          "0",
          "-0.7",
          "0.5",
          "-0.3",
          "2.2",
          "-0.7",
          "-0.5",
          "-0.7",
          "-0.7",
          "-0.5",
          "-0.1",
          "-0.3",
          "-0.3",
          "-0.3",
          "-0.9",
          "-0.3",
          "-0.1",
          "0.3",
          "0.1",
          "-1",
          "0.7",
          "0.3",
          "-0.4",
          "-0.2",
          "-0.2",
          "-0.4",
          "-0.7",
          "-0.5",
          "-0.9",
          "0.1",
          "-0.4",
          "0.3",
          "-0.3",
          "-0.4",
          "-0.3",
          "-0.3",
          "-0.4",
          "-0.7",
          "-0.7",
          "-0.5",
          "-0.4",
          "-0.4",
          "-0.7"
         ],
         "y0": " ",
         "yaxis": "y"
        },
        {
         "alignmentgroup": "True",
         "hovertemplate": "state=%{x}<br>anomaly_level=%{y}<extra></extra>",
         "legendgroup": "Alabama",
         "marker": {
          "color": "#B6E880"
         },
         "name": "Alabama",
         "notched": false,
         "offsetgroup": "Alabama",
         "orientation": "v",
         "showlegend": true,
         "type": "box",
         "x": [
          "Alabama",
          "Alabama",
          "Alabama",
          "Alabama",
          "Alabama",
          "Alabama"
         ],
         "x0": " ",
         "xaxis": "x",
         "y": [
          "0",
          null,
          "-0.8",
          "-0.5",
          "1.2",
          "-0.2"
         ],
         "y0": " ",
         "yaxis": "y"
        },
        {
         "alignmentgroup": "True",
         "hovertemplate": "state=%{x}<br>anomaly_level=%{y}<extra></extra>",
         "legendgroup": "Mississippi",
         "marker": {
          "color": "#FF97FF"
         },
         "name": "Mississippi",
         "notched": false,
         "offsetgroup": "Mississippi",
         "orientation": "v",
         "showlegend": true,
         "type": "box",
         "x": [
          "Mississippi",
          "Mississippi",
          "Mississippi",
          "Mississippi"
         ],
         "x0": " ",
         "xaxis": "x",
         "y": [
          "0",
          "-0.4",
          "-0.1",
          "0.8"
         ],
         "y0": " ",
         "yaxis": "y"
        },
        {
         "alignmentgroup": "True",
         "hovertemplate": "state=%{x}<br>anomaly_level=%{y}<extra></extra>",
         "legendgroup": "Illinois",
         "marker": {
          "color": "#FECB52"
         },
         "name": "Illinois",
         "notched": false,
         "offsetgroup": "Illinois",
         "orientation": "v",
         "showlegend": true,
         "type": "box",
         "x": [
          "Illinois",
          "Illinois",
          "Illinois",
          "Illinois",
          "Illinois",
          "Illinois",
          "Illinois",
          "Illinois",
          "Illinois",
          "Illinois",
          "Illinois",
          "Illinois",
          "Illinois",
          "Illinois",
          "Illinois",
          "Illinois",
          "Illinois",
          "Illinois",
          "Illinois",
          "Illinois",
          "Illinois",
          "Illinois",
          "Illinois",
          "Illinois",
          "Illinois",
          "Illinois",
          "Illinois",
          "Illinois",
          "Illinois",
          "Illinois",
          "Illinois",
          "Illinois",
          "Illinois",
          "Illinois",
          "Illinois",
          "Illinois",
          "Illinois",
          "Illinois",
          "Illinois",
          "Illinois",
          "Illinois",
          "Illinois",
          "Illinois",
          "Illinois",
          "Illinois",
          "Illinois"
         ],
         "x0": " ",
         "xaxis": "x",
         "y": [
          "-0.4",
          "-0.4",
          "-0.7",
          "-0.6",
          "-0.1",
          "-1.5",
          "0.1",
          "-0.3",
          "0.7",
          "-0.4",
          "0.2",
          "-0.3",
          "0",
          "0.4",
          "0.6",
          "-0.3",
          "0.1",
          null,
          "0.1",
          "-0.7",
          "-0.2",
          "-0.3",
          "0.1",
          "-0.3",
          "-0.5",
          "-0.3",
          "-0.6",
          "0.5",
          "-0.4",
          "-1.3",
          "-0.4",
          "1.4",
          "0.3",
          "-0.5",
          "-0.5",
          "-0.5",
          "0.3",
          "-1.5",
          "0.1",
          "-0.3",
          "0.1",
          "-1",
          "-0.3",
          "-0.5",
          "-0.3",
          "0.2"
         ],
         "y0": " ",
         "yaxis": "y"
        },
        {
         "alignmentgroup": "True",
         "hovertemplate": "state=%{x}<br>anomaly_level=%{y}<extra></extra>",
         "legendgroup": "Washington",
         "marker": {
          "color": "#636efa"
         },
         "name": "Washington",
         "notched": false,
         "offsetgroup": "Washington",
         "orientation": "v",
         "showlegend": true,
         "type": "box",
         "x": [
          "Washington",
          "Washington",
          "Washington",
          "Washington",
          "Washington",
          "Washington",
          "Washington",
          "Washington",
          "Washington",
          "Washington",
          "Washington",
          "Washington",
          "Washington",
          "Washington",
          "Washington",
          "Washington",
          "Washington",
          "Washington",
          "Washington",
          "Washington",
          "Washington",
          "Washington",
          "Washington",
          "Washington",
          "Washington",
          "Washington",
          "Washington",
          "Washington",
          "Washington",
          "Washington",
          "Washington",
          "Washington",
          "Washington",
          "Washington",
          "Washington",
          "Washington",
          "Washington",
          "Washington",
          "Washington",
          "Washington",
          "Washington",
          "Washington",
          "Washington",
          "Washington",
          "Washington",
          "Washington",
          "Washington",
          "Washington",
          "Washington",
          "Washington",
          "Washington",
          "Washington",
          "Washington",
          "Washington",
          "Washington",
          "Washington",
          "Washington",
          "Washington",
          "Washington",
          "Washington",
          "Washington",
          "Washington",
          "Washington",
          "Washington",
          "Washington",
          "Washington",
          "Washington",
          "Washington",
          "Washington",
          "Washington",
          "Washington",
          "Washington",
          "Washington",
          "Washington",
          "Washington",
          "Washington",
          "Washington",
          "Washington",
          "Washington",
          "Washington",
          "Washington",
          "Washington",
          "Washington",
          "Washington",
          "Washington",
          "Washington",
          "Washington",
          "Washington",
          "Washington",
          "Washington",
          "Washington",
          "Washington",
          "Washington",
          "Washington",
          "Washington",
          "Washington",
          "Washington"
         ],
         "x0": " ",
         "xaxis": "x",
         "y": [
          "-0.5",
          "-0.9",
          "-0.5",
          "-1.4",
          "-0.5",
          "1.4",
          "-0.6",
          "-0.4",
          "-0.4",
          "0.8",
          "-0.2",
          "-0.3",
          "0.3",
          "0.3",
          "0.9",
          "-0.8",
          "-0.9",
          "-0.7",
          "-0.4",
          "1.2",
          "2.3",
          "0.7",
          "-0.4",
          "-0.3",
          "-0.8",
          "-1",
          "-0.9",
          "-0.3",
          "-0.6",
          "0.6",
          "-0.5",
          "-0.8",
          "1.6",
          "1.6",
          "-0.3",
          "-0.6",
          "1.6",
          "-0.3",
          "1.4",
          "-0.5",
          "-0.1",
          "-0.4",
          "1.1",
          "-0.3",
          "-0.2",
          "-1.1",
          "-1",
          "-0.4",
          "-0.7",
          "2.2",
          "-0.3",
          "-0.3",
          "-1.4",
          "-0.5",
          "-1",
          "-0.3",
          "0.3",
          "-0.8",
          "-0.3",
          "-0.3",
          "-0.8",
          "-0.9",
          "1.6",
          "2.2",
          "1.2",
          "0.1",
          "0.9",
          "-0.4",
          "0",
          "-0.6",
          "0.3",
          "-0.3",
          "-0.3",
          "0.6",
          "-0.9",
          "-0.7",
          "-0.9",
          "1",
          "-0.8",
          "-0.3",
          "-0.4",
          "0.9",
          "-0.6",
          "0.9",
          "-0.3",
          "0.9",
          "-0.3",
          "-0.7",
          "-0.4",
          "0.9",
          "-0.3",
          "0.1",
          "-0.6",
          "-0.7",
          "1.4",
          "-0.7",
          "-0.2"
         ],
         "y0": " ",
         "yaxis": "y"
        },
        {
         "alignmentgroup": "True",
         "hovertemplate": "state=%{x}<br>anomaly_level=%{y}<extra></extra>",
         "legendgroup": "Arizona",
         "marker": {
          "color": "#EF553B"
         },
         "name": "Arizona",
         "notched": false,
         "offsetgroup": "Arizona",
         "orientation": "v",
         "showlegend": true,
         "type": "box",
         "x": [
          "Arizona",
          "Arizona",
          "Arizona",
          "Arizona",
          "Arizona",
          "Arizona",
          "Arizona",
          "Arizona",
          "Arizona",
          "Arizona",
          "Arizona",
          "Arizona",
          "Arizona",
          "Arizona",
          "Arizona",
          "Arizona",
          "Arizona",
          "Arizona",
          "Arizona",
          "Arizona",
          "Arizona",
          "Arizona",
          "Arizona",
          "Arizona",
          "Arizona",
          "Arizona",
          "Arizona",
          "Arizona"
         ],
         "x0": " ",
         "xaxis": "x",
         "y": [
          "-0.3",
          "0.5",
          "0.5",
          "-0.3",
          "-0.3",
          "0.1",
          "-0.3",
          "-0.3",
          "0.5",
          "1.3",
          "-0.1",
          "-0.5",
          "-0.5",
          "-0.7",
          "0.2",
          "0",
          "2",
          "-0.5",
          "-0.3",
          "-0.5",
          "-0.3",
          "-0.7",
          "0.5",
          "0.5",
          "-1",
          "-0.4",
          "0.3",
          "0.1"
         ],
         "y0": " ",
         "yaxis": "y"
        },
        {
         "alignmentgroup": "True",
         "hovertemplate": "state=%{x}<br>anomaly_level=%{y}<extra></extra>",
         "legendgroup": "Maryland",
         "marker": {
          "color": "#00cc96"
         },
         "name": "Maryland",
         "notched": false,
         "offsetgroup": "Maryland",
         "orientation": "v",
         "showlegend": true,
         "type": "box",
         "x": [
          "Maryland",
          "Maryland",
          "Maryland",
          "Maryland",
          "Maryland",
          "Maryland",
          "Maryland",
          "Maryland",
          "Maryland",
          "Maryland",
          "Maryland",
          "Maryland",
          "Maryland",
          "Maryland",
          "Maryland",
          "Maryland",
          "Maryland",
          "Maryland",
          "Maryland",
          "Maryland",
          "Maryland",
          "Maryland",
          "Maryland",
          "Maryland",
          "Maryland",
          "Maryland",
          "Maryland",
          "Maryland",
          "Maryland",
          "Maryland",
          "Maryland",
          "Maryland",
          "Maryland",
          "Maryland",
          "Maryland",
          "Maryland",
          "Maryland",
          "Maryland",
          "Maryland",
          "Maryland",
          "Maryland",
          "Maryland",
          "Maryland",
          "Maryland",
          "Maryland",
          "Maryland",
          "Maryland",
          "Maryland",
          "Maryland",
          "Maryland",
          "Maryland",
          "Maryland",
          "Maryland",
          "Maryland",
          "Maryland",
          "Maryland",
          "Maryland",
          "Maryland"
         ],
         "x0": " ",
         "xaxis": "x",
         "y": [
          "-0.1",
          "0.3",
          "-0.6",
          "-0.5",
          "0.7",
          "-0.6",
          "0",
          "-0.4",
          "0.3",
          "-1",
          "0.3",
          "-0.5",
          "-0.9",
          "-0.4",
          "-0.6",
          "0.3",
          "-0.3",
          "0.3",
          "-1",
          "0.1",
          "-0.4",
          "-0.5",
          "0",
          "0.3",
          "-0.9",
          "0.3",
          "0.2",
          "-1.3",
          "-0.2",
          "0",
          "-0.1",
          "-0.4",
          "-0.3",
          "-0.4",
          "0.3",
          "-0.4",
          "-0.5",
          "0.3",
          "0.3",
          "0.2",
          "-0.1",
          "-0.2",
          "0.3",
          "-0.5",
          "1.1",
          "0.4",
          "-0.1",
          "-0.7",
          "0.3",
          "0.3",
          "0.2",
          "0.4",
          "-0.9",
          "-0.6",
          "-0.1",
          "0.7",
          "0",
          "-0.4"
         ],
         "y0": " ",
         "yaxis": "y"
        },
        {
         "alignmentgroup": "True",
         "hovertemplate": "state=%{x}<br>anomaly_level=%{y}<extra></extra>",
         "legendgroup": "Pennsylvania",
         "marker": {
          "color": "#ab63fa"
         },
         "name": "Pennsylvania",
         "notched": false,
         "offsetgroup": "Pennsylvania",
         "orientation": "v",
         "showlegend": true,
         "type": "box",
         "x": [
          "Pennsylvania",
          "Pennsylvania",
          "Pennsylvania",
          "Pennsylvania",
          "Pennsylvania",
          "Pennsylvania",
          "Pennsylvania",
          "Pennsylvania",
          "Pennsylvania",
          "Pennsylvania",
          "Pennsylvania",
          "Pennsylvania",
          "Pennsylvania",
          "Pennsylvania",
          "Pennsylvania",
          "Pennsylvania",
          "Pennsylvania",
          "Pennsylvania",
          "Pennsylvania",
          "Pennsylvania",
          "Pennsylvania",
          "Pennsylvania",
          "Pennsylvania",
          "Pennsylvania",
          "Pennsylvania",
          "Pennsylvania",
          "Pennsylvania",
          "Pennsylvania",
          "Pennsylvania",
          "Pennsylvania",
          "Pennsylvania",
          "Pennsylvania",
          "Pennsylvania",
          "Pennsylvania",
          "Pennsylvania",
          "Pennsylvania",
          "Pennsylvania",
          "Pennsylvania",
          "Pennsylvania",
          "Pennsylvania",
          "Pennsylvania",
          "Pennsylvania",
          "Pennsylvania",
          "Pennsylvania",
          "Pennsylvania",
          "Pennsylvania",
          "Pennsylvania",
          "Pennsylvania",
          "Pennsylvania",
          "Pennsylvania",
          "Pennsylvania",
          "Pennsylvania",
          "Pennsylvania",
          "Pennsylvania",
          "Pennsylvania",
          "Pennsylvania",
          "Pennsylvania"
         ],
         "x0": " ",
         "xaxis": "x",
         "y": [
          "0.1",
          "-0.9",
          "0.5",
          "-0.4",
          "-0.2",
          "1.2",
          "-0.9",
          "-0.5",
          "0.3",
          "0.5",
          "0",
          "-1.4",
          "0.1",
          "0.2",
          "-0.6",
          "-0.7",
          "2.2",
          "-1.4",
          "0.7",
          "0.1",
          "-0.9",
          "0",
          "1",
          "-0.5",
          "-1",
          "0.3",
          "-0.3",
          "-1",
          "-0.3",
          "-0.3",
          "0.9",
          "-0.6",
          "-0.5",
          "-0.3",
          "-0.3",
          "-0.6",
          "0.1",
          "-0.6",
          "0.1",
          "-0.5",
          "-0.5",
          "-0.9",
          "-0.4",
          "-0.5",
          "-1.1",
          "-0.5",
          "-0.9",
          "1.1",
          "-0.6",
          "0.1",
          "1.1",
          "-0.9",
          "-0.9",
          "0.3",
          "2",
          "-0.4",
          "1.2"
         ],
         "y0": " ",
         "yaxis": "y"
        },
        {
         "alignmentgroup": "True",
         "hovertemplate": "state=%{x}<br>anomaly_level=%{y}<extra></extra>",
         "legendgroup": "Kentucky",
         "marker": {
          "color": "#FFA15A"
         },
         "name": "Kentucky",
         "notched": false,
         "offsetgroup": "Kentucky",
         "orientation": "v",
         "showlegend": true,
         "type": "box",
         "x": [
          "Kentucky",
          "Kentucky",
          "Kentucky",
          "Kentucky",
          "Kentucky",
          "Kentucky",
          "Kentucky",
          "Kentucky",
          "Kentucky",
          "Kentucky",
          "Kentucky",
          "Kentucky",
          "Kentucky"
         ],
         "x0": " ",
         "xaxis": "x",
         "y": [
          "-0.3",
          "-0.5",
          "-0.6",
          "-0.6",
          "0.2",
          "1",
          "-0.3",
          "-1.3",
          "-0.7",
          "-0.7",
          "-1.3",
          "-0.3",
          "-0.7"
         ],
         "y0": " ",
         "yaxis": "y"
        },
        {
         "alignmentgroup": "True",
         "hovertemplate": "state=%{x}<br>anomaly_level=%{y}<extra></extra>",
         "legendgroup": "Utah",
         "marker": {
          "color": "#19d3f3"
         },
         "name": "Utah",
         "notched": false,
         "offsetgroup": "Utah",
         "orientation": "v",
         "showlegend": true,
         "type": "box",
         "x": [
          "Utah",
          "Utah",
          "Utah",
          "Utah",
          "Utah",
          "Utah",
          "Utah",
          "Utah",
          "Utah",
          "Utah",
          "Utah",
          "Utah",
          "Utah",
          "Utah",
          "Utah",
          "Utah",
          "Utah",
          "Utah",
          "Utah",
          "Utah",
          "Utah",
          "Utah",
          "Utah",
          "Utah",
          "Utah",
          "Utah",
          "Utah",
          "Utah",
          "Utah",
          "Utah",
          "Utah",
          "Utah",
          "Utah",
          "Utah",
          "Utah",
          "Utah",
          "Utah",
          "Utah",
          "Utah",
          "Utah",
          "Utah"
         ],
         "x0": " ",
         "xaxis": "x",
         "y": [
          "-0.9",
          "2",
          "-0.1",
          "-0.3",
          "-0.3",
          "-0.3",
          "-0.5",
          "0.7",
          "2.2",
          "0.7",
          "0.6",
          "2",
          "-0.3",
          "-0.5",
          "-0.3",
          "-0.5",
          "-0.4",
          "-0.4",
          "-0.3",
          "-1.3",
          "-0.9",
          "-0.5",
          "0.1",
          "-1",
          "0.5",
          "1.1",
          "-0.4",
          "-0.6",
          "-0.8",
          "-0.4",
          "-0.7",
          "-0.5",
          "-0.9",
          "0.5",
          "-0.1",
          "-0.3",
          "2",
          "-0.3",
          "-0.4",
          "0.8",
          "-0.3"
         ],
         "y0": " ",
         "yaxis": "y"
        },
        {
         "alignmentgroup": "True",
         "hovertemplate": "state=%{x}<br>anomaly_level=%{y}<extra></extra>",
         "legendgroup": "Ohio",
         "marker": {
          "color": "#FF6692"
         },
         "name": "Ohio",
         "notched": false,
         "offsetgroup": "Ohio",
         "orientation": "v",
         "showlegend": true,
         "type": "box",
         "x": [
          "Ohio",
          "Ohio",
          "Ohio",
          "Ohio",
          "Ohio",
          "Ohio",
          "Ohio",
          "Ohio",
          "Ohio",
          "Ohio",
          "Ohio",
          "Ohio",
          "Ohio",
          "Ohio",
          "Ohio",
          "Ohio",
          "Ohio",
          "Ohio",
          "Ohio",
          "Ohio",
          "Ohio",
          "Ohio",
          "Ohio",
          "Ohio",
          "Ohio",
          "Ohio",
          "Ohio",
          "Ohio",
          "Ohio",
          "Ohio",
          "Ohio",
          "Ohio",
          "Ohio",
          "Ohio",
          "Ohio",
          "Ohio",
          "Ohio",
          "Ohio",
          "Ohio",
          "Ohio",
          "Ohio",
          "Ohio",
          "Ohio"
         ],
         "x0": " ",
         "xaxis": "x",
         "y": [
          "0.2",
          "-0.7",
          "0.2",
          "0.3",
          "-0.6",
          "2.2",
          "-0.3",
          "-0.7",
          "-0.3",
          "-1.4",
          "0.1",
          "-0.1",
          "-0.6",
          "0.1",
          "-0.6",
          "0.7",
          "-0.3",
          "0.2",
          "-0.9",
          "0.5",
          "-0.3",
          "-0.5",
          "0.9",
          "0.1",
          "0.5",
          "-0.4",
          "-0.3",
          "-0.4",
          "-0.4",
          "-0.8",
          "-0.3",
          "0.9",
          "-0.3",
          "-0.6",
          "-0.3",
          "-0.9",
          "-0.3",
          "-0.6",
          "-0.3",
          "1.3",
          "-0.5",
          "0.3",
          "-0.5"
         ],
         "y0": " ",
         "yaxis": "y"
        },
        {
         "alignmentgroup": "True",
         "hovertemplate": "state=%{x}<br>anomaly_level=%{y}<extra></extra>",
         "legendgroup": "North Carolina",
         "marker": {
          "color": "#B6E880"
         },
         "name": "North Carolina",
         "notched": false,
         "offsetgroup": "North Carolina",
         "orientation": "v",
         "showlegend": true,
         "type": "box",
         "x": [
          "North Carolina",
          "North Carolina",
          "North Carolina",
          "North Carolina",
          "North Carolina",
          "North Carolina",
          "North Carolina",
          "North Carolina",
          "North Carolina",
          "North Carolina",
          "North Carolina",
          "North Carolina",
          "North Carolina",
          "North Carolina",
          "North Carolina",
          "North Carolina",
          "North Carolina",
          "North Carolina",
          "North Carolina",
          "North Carolina",
          "North Carolina",
          "North Carolina",
          "North Carolina",
          "North Carolina",
          "North Carolina",
          "North Carolina",
          "North Carolina",
          "North Carolina",
          "North Carolina",
          "North Carolina",
          "North Carolina",
          "North Carolina",
          "North Carolina",
          "North Carolina",
          "North Carolina",
          "North Carolina",
          "North Carolina",
          "North Carolina",
          "North Carolina",
          "North Carolina"
         ],
         "x0": " ",
         "xaxis": "x",
         "y": [
          "-0.7",
          "0",
          "0",
          "-0.5",
          "-0.4",
          "-0.5",
          "-0.3",
          "0.1",
          "-0.5",
          "-0.2",
          "0.5",
          "0.1",
          "-0.3",
          "-1.3",
          "-0.5",
          "-0.5",
          "-0.6",
          "-0.1",
          "0.7",
          "-0.4",
          "0.5",
          "0.5",
          "-0.2",
          "-0.2",
          "0.5",
          "0.2",
          "0.7",
          "-0.6",
          "-0.4",
          "-0.3",
          "-0.2",
          "-0.3",
          "1.3",
          "-0.5",
          "-0.6",
          null,
          "-0.3",
          "0.2",
          "-0.4",
          "-0.4"
         ],
         "y0": " ",
         "yaxis": "y"
        },
        {
         "alignmentgroup": "True",
         "hovertemplate": "state=%{x}<br>anomaly_level=%{y}<extra></extra>",
         "legendgroup": "New Jersey",
         "marker": {
          "color": "#FF97FF"
         },
         "name": "New Jersey",
         "notched": false,
         "offsetgroup": "New Jersey",
         "orientation": "v",
         "showlegend": true,
         "type": "box",
         "x": [
          "New Jersey",
          "New Jersey",
          "New Jersey",
          "New Jersey",
          "New Jersey",
          "New Jersey",
          "New Jersey",
          "New Jersey",
          "New Jersey",
          "New Jersey",
          "New Jersey",
          "New Jersey",
          "New Jersey",
          "New Jersey",
          "New Jersey",
          "New Jersey",
          "New Jersey",
          "New Jersey",
          "New Jersey",
          "New Jersey",
          "New Jersey",
          "New Jersey",
          "New Jersey",
          "New Jersey",
          "New Jersey",
          "New Jersey",
          "New Jersey",
          "New Jersey",
          "New Jersey",
          "New Jersey",
          "New Jersey",
          "New Jersey",
          "New Jersey",
          "New Jersey",
          "New Jersey"
         ],
         "x0": " ",
         "xaxis": "x",
         "y": [
          "0.1",
          "1",
          "0.5",
          "-0.6",
          "-0.5",
          "-0.9",
          "-0.7",
          "-0.9",
          "0.1",
          "1",
          "-0.5",
          "-0.7",
          "-0.8",
          "-0.6",
          "1",
          "2.2",
          "-0.8",
          "-0.6",
          "-0.5",
          "-1",
          "-0.5",
          "0.3",
          "-0.9",
          "-0.8",
          "-0.4",
          "-0.1",
          "-0.5",
          "0.3",
          "0.9",
          "-0.3",
          "-0.6",
          "1.2",
          "0.3",
          "-0.9",
          "0.9"
         ],
         "y0": " ",
         "yaxis": "y"
        },
        {
         "alignmentgroup": "True",
         "hovertemplate": "state=%{x}<br>anomaly_level=%{y}<extra></extra>",
         "legendgroup": "South Carolina",
         "marker": {
          "color": "#FECB52"
         },
         "name": "South Carolina",
         "notched": false,
         "offsetgroup": "South Carolina",
         "orientation": "v",
         "showlegend": true,
         "type": "box",
         "x": [
          "South Carolina",
          "South Carolina",
          "South Carolina",
          "South Carolina",
          "South Carolina",
          "South Carolina",
          "South Carolina",
          "South Carolina"
         ],
         "x0": " ",
         "xaxis": "x",
         "y": [
          "0.6",
          "-0.3",
          "-0.5",
          "-0.5",
          "-1.6",
          "0.3",
          "-1.6",
          "-0.5"
         ],
         "y0": " ",
         "yaxis": "y"
        },
        {
         "alignmentgroup": "True",
         "hovertemplate": "state=%{x}<br>anomaly_level=%{y}<extra></extra>",
         "legendgroup": "Oregon",
         "marker": {
          "color": "#636efa"
         },
         "name": "Oregon",
         "notched": false,
         "offsetgroup": "Oregon",
         "orientation": "v",
         "showlegend": true,
         "type": "box",
         "x": [
          "Oregon",
          "Oregon",
          "Oregon",
          "Oregon",
          "Oregon",
          "Oregon",
          "Oregon",
          "Oregon",
          "Oregon",
          "Oregon",
          "Oregon",
          "Oregon",
          "Oregon",
          "Oregon",
          "Oregon",
          "Oregon",
          "Oregon",
          "Oregon",
          "Oregon",
          "Oregon",
          "Oregon",
          "Oregon",
          "Oregon",
          "Oregon",
          "Oregon",
          "Oregon"
         ],
         "x0": " ",
         "xaxis": "x",
         "y": [
          "-0.7",
          "-0.9",
          "0.6",
          "-0.2",
          "-0.3",
          "2",
          "0.6",
          "-0.7",
          "-0.5",
          "2",
          "0.9",
          "-0.6",
          "-0.5",
          "-0.3",
          "-0.5",
          "-0.2",
          "0.9",
          "-0.4",
          "-0.3",
          "-0.6",
          "0.6",
          "0.9",
          "-0.2",
          "2",
          "-0.5",
          "1.7"
         ],
         "y0": " ",
         "yaxis": "y"
        },
        {
         "alignmentgroup": "True",
         "hovertemplate": "state=%{x}<br>anomaly_level=%{y}<extra></extra>",
         "legendgroup": "District of Columbia",
         "marker": {
          "color": "#EF553B"
         },
         "name": "District of Columbia",
         "notched": false,
         "offsetgroup": "District of Columbia",
         "orientation": "v",
         "showlegend": true,
         "type": "box",
         "x": [
          "District of Columbia",
          "District of Columbia",
          "District of Columbia",
          "District of Columbia",
          "District of Columbia",
          "District of Columbia",
          "District of Columbia",
          "District of Columbia",
          "District of Columbia",
          "District of Columbia"
         ],
         "x0": " ",
         "xaxis": "x",
         "y": [
          "1.2",
          "-0.6",
          "-1.2",
          "0.2",
          "-1.3",
          "-0.4",
          "-0.5",
          "-0.2",
          "-0.1",
          "-1.2"
         ],
         "y0": " ",
         "yaxis": "y"
        },
        {
         "alignmentgroup": "True",
         "hovertemplate": "state=%{x}<br>anomaly_level=%{y}<extra></extra>",
         "legendgroup": "Missouri",
         "marker": {
          "color": "#00cc96"
         },
         "name": "Missouri",
         "notched": false,
         "offsetgroup": "Missouri",
         "orientation": "v",
         "showlegend": true,
         "type": "box",
         "x": [
          "Missouri",
          "Missouri",
          "Missouri",
          "Missouri",
          "Missouri",
          "Missouri",
          "Missouri",
          "Missouri",
          "Missouri",
          "Missouri",
          "Missouri",
          "Missouri",
          "Missouri",
          "Missouri",
          "Missouri",
          "Missouri",
          "Missouri"
         ],
         "x0": " ",
         "xaxis": "x",
         "y": [
          "2.3",
          "0.2",
          "-0.7",
          "-0.7",
          "-0.5",
          "-0.3",
          "2.3",
          "-0.6",
          "-0.7",
          "-0.4",
          "-0.4",
          "-0.5",
          "0.6",
          "0.6",
          "-0.2",
          "-0.4",
          "-0.2"
         ],
         "y0": " ",
         "yaxis": "y"
        },
        {
         "alignmentgroup": "True",
         "hovertemplate": "state=%{x}<br>anomaly_level=%{y}<extra></extra>",
         "legendgroup": "Delaware",
         "marker": {
          "color": "#ab63fa"
         },
         "name": "Delaware",
         "notched": false,
         "offsetgroup": "Delaware",
         "orientation": "v",
         "showlegend": true,
         "type": "box",
         "x": [
          "Delaware",
          "Delaware",
          "Delaware",
          "Delaware",
          "Delaware",
          "Delaware",
          "Delaware",
          "Delaware",
          "Delaware",
          "Delaware",
          "Delaware",
          "Delaware",
          "Delaware",
          "Delaware",
          "Delaware",
          "Delaware",
          "Delaware",
          "Delaware",
          "Delaware",
          "Delaware",
          "Delaware",
          "Delaware",
          "Delaware",
          "Delaware",
          "Delaware",
          "Delaware",
          "Delaware",
          "Delaware",
          "Delaware",
          "Delaware",
          "Delaware",
          "Delaware",
          "Delaware",
          "Delaware",
          "Delaware",
          "Delaware",
          "Delaware",
          "Delaware",
          "Delaware",
          "Delaware",
          "Delaware"
         ],
         "x0": " ",
         "xaxis": "x",
         "y": [
          "-0.9",
          "-0.7",
          "-0.2",
          "0.1",
          "-0.5",
          "-0.8",
          "-0.1",
          "-1.3",
          "-0.4",
          "-0.2",
          "-1",
          "-0.2",
          "0.3",
          "-0.3",
          "2",
          "0.1",
          "-0.4",
          "-0.8",
          "-0.8",
          "-0.3",
          null,
          "-0.4",
          "-0.4",
          "-0.2",
          "0.1",
          "-0.3",
          "0.3",
          "0.1",
          "0.1",
          "-0.2",
          "-0.2",
          "-0.2",
          "-0.4",
          "-0.3",
          "2.2",
          "1",
          "-0.2",
          "-0.3",
          "-0.5",
          "-1.3",
          "-0.7"
         ],
         "y0": " ",
         "yaxis": "y"
        },
        {
         "alignmentgroup": "True",
         "hovertemplate": "state=%{x}<br>anomaly_level=%{y}<extra></extra>",
         "legendgroup": "Iowa",
         "marker": {
          "color": "#FFA15A"
         },
         "name": "Iowa",
         "notched": false,
         "offsetgroup": "Iowa",
         "orientation": "v",
         "showlegend": true,
         "type": "box",
         "x": [
          "Iowa",
          "Iowa",
          "Iowa",
          "Iowa",
          "Iowa",
          "Iowa",
          "Iowa",
          "Iowa"
         ],
         "x0": " ",
         "xaxis": "x",
         "y": [
          "-0.4",
          "0.4",
          "-0.4",
          "-0.4",
          "-0.4",
          "-0.4",
          "0.4",
          "-0.5"
         ],
         "y0": " ",
         "yaxis": "y"
        },
        {
         "alignmentgroup": "True",
         "hovertemplate": "state=%{x}<br>anomaly_level=%{y}<extra></extra>",
         "legendgroup": "Montana",
         "marker": {
          "color": "#19d3f3"
         },
         "name": "Montana",
         "notched": false,
         "offsetgroup": "Montana",
         "orientation": "v",
         "showlegend": true,
         "type": "box",
         "x": [
          "Montana",
          "Montana",
          "Montana"
         ],
         "x0": " ",
         "xaxis": "x",
         "y": [
          "-0.4",
          "-0.2",
          "-0.4"
         ],
         "y0": " ",
         "yaxis": "y"
        },
        {
         "alignmentgroup": "True",
         "hovertemplate": "state=%{x}<br>anomaly_level=%{y}<extra></extra>",
         "legendgroup": "New York",
         "marker": {
          "color": "#FF6692"
         },
         "name": "New York",
         "notched": false,
         "offsetgroup": "New York",
         "orientation": "v",
         "showlegend": true,
         "type": "box",
         "x": [
          "New York",
          "New York",
          "New York",
          "New York",
          "New York",
          "New York",
          "New York",
          "New York",
          "New York",
          "New York",
          "New York",
          "New York",
          "New York",
          "New York",
          "New York",
          "New York",
          "New York",
          "New York",
          "New York",
          "New York",
          "New York",
          "New York",
          "New York",
          "New York",
          "New York",
          "New York",
          "New York",
          "New York",
          "New York",
          "New York",
          "New York",
          "New York",
          "New York",
          "New York",
          "New York",
          "New York",
          "New York",
          "New York",
          "New York",
          "New York",
          "New York",
          "New York",
          "New York",
          "New York",
          "New York",
          "New York",
          "New York",
          "New York",
          "New York",
          "New York",
          "New York",
          "New York",
          "New York",
          "New York",
          "New York",
          "New York",
          "New York",
          "New York",
          "New York",
          "New York",
          "New York",
          "New York",
          "New York",
          "New York",
          "New York",
          "New York",
          "New York",
          "New York",
          "New York",
          "New York",
          "New York"
         ],
         "x0": " ",
         "xaxis": "x",
         "y": [
          "0",
          "0.3",
          "0.3",
          "-0.6",
          "-0.7",
          "-0.1",
          "-0.6",
          "-0.9",
          "-0.4",
          "-0.3",
          "-0.4",
          "0.6",
          "-0.4",
          "0.6",
          "0.3",
          "0.1",
          "-1.2",
          "-0.7",
          "-0.2",
          "2.2",
          "-0.2",
          "-0.5",
          "-0.3",
          "0.9",
          "-0.7",
          "-0.4",
          "-1.4",
          "-1.3",
          "-0.7",
          "-0.5",
          "-0.4",
          "0.2",
          "-1.3",
          "-0.6",
          "-0.3",
          "-0.9",
          "2",
          "-0.3",
          "-0.6",
          "0.9",
          "-0.3",
          "1.2",
          "-0.4",
          "-0.6",
          "1.2",
          "0.6",
          "0.2",
          "-0.4",
          "0.3",
          "0.3",
          "-0.6",
          "0.2",
          "-0.6",
          "1.2",
          "-0.3",
          "1.7",
          "-0.5",
          "-0.8",
          "0.7",
          "-0.6",
          "-1.4",
          "0.7",
          "0.3",
          "-0.1",
          "-0.3",
          "-0.7",
          "-0.9",
          "0.3",
          "0.1",
          "-0.3",
          "-0.5"
         ],
         "y0": " ",
         "yaxis": "y"
        },
        {
         "alignmentgroup": "True",
         "hovertemplate": "state=%{x}<br>anomaly_level=%{y}<extra></extra>",
         "legendgroup": "Louisiana",
         "marker": {
          "color": "#B6E880"
         },
         "name": "Louisiana",
         "notched": false,
         "offsetgroup": "Louisiana",
         "orientation": "v",
         "showlegend": true,
         "type": "box",
         "x": [
          "Louisiana",
          "Louisiana",
          "Louisiana",
          "Louisiana",
          "Louisiana",
          "Louisiana",
          "Louisiana",
          "Louisiana",
          "Louisiana",
          "Louisiana",
          "Louisiana",
          "Louisiana",
          "Louisiana",
          "Louisiana",
          "Louisiana",
          "Louisiana",
          "Louisiana",
          "Louisiana",
          "Louisiana",
          "Louisiana",
          "Louisiana",
          "Louisiana",
          "Louisiana",
          "Louisiana",
          "Louisiana",
          "Louisiana",
          "Louisiana",
          "Louisiana",
          "Louisiana",
          "Louisiana",
          "Louisiana",
          "Louisiana",
          "Louisiana",
          "Louisiana",
          "Louisiana",
          "Louisiana",
          "Louisiana",
          "Louisiana",
          "Louisiana",
          "Louisiana"
         ],
         "x0": " ",
         "xaxis": "x",
         "y": [
          "-0.3",
          "0.5",
          "0.3",
          "-1.2",
          "-1.2",
          "-0.1",
          "0.7",
          "-1.2",
          "0.6",
          "-1.2",
          "0",
          "-0.4",
          "-0.7",
          "0.5",
          "0.6",
          "-0.1",
          "-0.1",
          "-0.5",
          "0.4",
          "-0.4",
          "-0.3",
          "-0.4",
          "0.5",
          "-0.3",
          "-0.3",
          "0",
          "-0.4",
          "0.3",
          "0.3",
          "-0.7",
          "-0.4",
          "0.5",
          "-0.2",
          "-0.2",
          "1.1",
          "1.3",
          "0",
          "0.3",
          "-0.5",
          "0.5"
         ],
         "y0": " ",
         "yaxis": "y"
        },
        {
         "alignmentgroup": "True",
         "hovertemplate": "state=%{x}<br>anomaly_level=%{y}<extra></extra>",
         "legendgroup": "Florida",
         "marker": {
          "color": "#FF97FF"
         },
         "name": "Florida",
         "notched": false,
         "offsetgroup": "Florida",
         "orientation": "v",
         "showlegend": true,
         "type": "box",
         "x": [
          "Florida",
          "Florida",
          "Florida",
          "Florida",
          "Florida",
          "Florida",
          "Florida",
          "Florida",
          "Florida",
          "Florida",
          "Florida",
          "Florida",
          "Florida",
          "Florida",
          "Florida",
          "Florida",
          "Florida",
          "Florida",
          "Florida",
          "Florida",
          "Florida",
          "Florida",
          "Florida",
          "Florida",
          "Florida",
          "Florida",
          "Florida",
          "Florida",
          "Florida",
          "Florida",
          "Florida",
          "Florida",
          "Florida",
          "Florida",
          "Florida",
          "Florida",
          "Florida",
          "Florida",
          "Florida",
          "Florida",
          "Florida",
          "Florida",
          "Florida",
          "Florida",
          "Florida"
         ],
         "x0": " ",
         "xaxis": "x",
         "y": [
          "-0.3",
          "0.3",
          "-0.1",
          "0",
          "-1.3",
          "-0.3",
          "1.1",
          "0.8",
          "-0.7",
          "-0.2",
          "-1.3",
          "0.2",
          "0.2",
          "0.6",
          "0.1",
          "0.5",
          "1.3",
          "-0.1",
          "0.2",
          "-1.3",
          "-0.7",
          "0.7",
          "0",
          "-0.3",
          "-0.2",
          "0.7",
          "0.6",
          "-0.2",
          "-1.3",
          "-1.3",
          "0.7",
          "-0.3",
          "0.7",
          "-0.5",
          "0.7",
          "0.7",
          "-0.2",
          "0.7",
          "0.6",
          "-0.1",
          "0.6",
          "0.7",
          "-0.7",
          "-1.3",
          "0.3"
         ],
         "y0": " ",
         "yaxis": "y"
        },
        {
         "alignmentgroup": "True",
         "hovertemplate": "state=%{x}<br>anomaly_level=%{y}<extra></extra>",
         "legendgroup": "California",
         "marker": {
          "color": "#FECB52"
         },
         "name": "California",
         "notched": false,
         "offsetgroup": "California",
         "orientation": "v",
         "showlegend": true,
         "type": "box",
         "x": [
          "California",
          "California",
          "California",
          "California",
          "California",
          "California",
          "California",
          "California",
          "California",
          "California",
          "California",
          "California",
          "California",
          "California",
          "California",
          "California",
          "California",
          "California",
          "California",
          "California",
          "California",
          "California",
          "California",
          "California",
          "California",
          "California",
          "California",
          "California",
          "California",
          "California",
          "California",
          "California",
          "California",
          "California",
          "California",
          "California",
          "California",
          "California",
          "California",
          "California",
          "California",
          "California",
          "California",
          "California",
          "California",
          "California",
          "California",
          "California",
          "California",
          "California",
          "California",
          "California",
          "California",
          "California",
          "California",
          "California",
          "California",
          "California",
          "California",
          "California",
          "California",
          "California",
          "California",
          "California",
          "California",
          "California",
          "California",
          "California",
          "California",
          "California",
          "California",
          "California",
          "California",
          "California",
          "California",
          "California",
          "California",
          "California",
          "California",
          "California",
          "California",
          "California",
          "California",
          "California",
          "California",
          "California",
          "California",
          "California",
          "California",
          "California",
          "California",
          "California",
          "California",
          "California",
          "California",
          "California",
          "California",
          "California",
          "California",
          "California",
          "California",
          "California",
          "California",
          "California",
          "California",
          "California",
          "California",
          "California",
          "California",
          "California",
          "California",
          "California",
          "California",
          "California",
          "California",
          "California",
          "California",
          "California",
          "California",
          "California",
          "California",
          "California",
          "California",
          "California",
          "California",
          "California",
          "California",
          "California",
          "California",
          "California",
          "California",
          "California",
          "California",
          "California",
          "California",
          "California",
          "California",
          "California",
          "California",
          "California",
          "California",
          "California",
          "California",
          "California",
          "California",
          "California",
          "California",
          "California",
          "California",
          "California",
          "California",
          "California",
          "California",
          "California",
          "California",
          "California",
          "California",
          "California",
          "California",
          "California",
          "California",
          "California",
          "California",
          "California",
          "California",
          "California",
          "California",
          "California",
          "California",
          "California",
          "California",
          "California",
          "California",
          "California",
          "California",
          "California",
          "California",
          "California",
          "California",
          "California",
          "California",
          "California",
          "California",
          "California",
          "California",
          "California",
          "California",
          "California",
          "California",
          "California",
          "California",
          "California",
          "California",
          "California",
          "California",
          "California",
          "California",
          "California",
          "California",
          "California",
          "California",
          "California",
          "California",
          "California",
          "California",
          "California",
          "California",
          "California",
          "California",
          "California"
         ],
         "x0": " ",
         "xaxis": "x",
         "y": [
          "-0.9",
          "-0.7",
          "0",
          "2",
          "-0.5",
          "-0.2",
          "-1.4",
          "0.1",
          "0",
          "-0.3",
          "0",
          "-0.1",
          "-0.2",
          "-0.4",
          "0.5",
          "-0.4",
          "-0.7",
          "-1.4",
          "-0.3",
          "1.7",
          "-1",
          "1.2",
          "-1.4",
          "-0.3",
          "-0.6",
          "-1",
          "1.1",
          "1",
          "-1.4",
          "0.9",
          "-0.3",
          "0.9",
          "-0.2",
          "0.2",
          "-1.3",
          "0.9",
          "-0.4",
          "-1.3",
          "0.7",
          "-0.5",
          "1.3",
          "0.7",
          "1",
          "-0.5",
          "1",
          "1",
          "0.7",
          "-0.2",
          "-0.3",
          "-0.3",
          "0.9",
          "-0.3",
          "-0.4",
          "0",
          "-0.6",
          "0.7",
          "1.3",
          "-0.3",
          "-0.4",
          "0.8",
          "0.6",
          "-0.3",
          "1.1",
          "-0.2",
          "2",
          "-0.6",
          "-0.9",
          "0.1",
          "1.2",
          "-1",
          "-0.2",
          "-1",
          "2.3",
          "0",
          "0.3",
          "-0.1",
          "-0.4",
          "-0.1",
          "-0.2",
          "-0.6",
          "1",
          "-0.1",
          "1.2",
          "-0.7",
          "-1.4",
          "-0.7",
          "1.2",
          "-0.2",
          "-1.5",
          "0.3",
          "-0.4",
          "-1.4",
          "-0.3",
          "-1.4",
          "0.9",
          "0.5",
          "1.3",
          "0",
          "0.7",
          "0.7",
          "1.3",
          "-0.4",
          "-0.7",
          "0.3",
          "0.3",
          "-0.1",
          "0.3",
          "0.9",
          "1.2",
          "-0.2",
          "-1.3",
          "2.3",
          "0.6",
          "-0.5",
          "-0.1",
          "1.3",
          "-0.4",
          "0.9",
          "-0.9",
          "-0.4",
          "0.5",
          "0.4",
          "-1.2",
          "-0.7",
          "-0.1",
          "-0.6",
          "-0.7",
          "0.1",
          "-0.1",
          "0.1",
          "1.1",
          "-0.2",
          "1.6",
          "2",
          "0.1",
          "1.2",
          "0.3",
          "0",
          "-0.7",
          "0.6",
          "-0.1",
          "-0.3",
          "-1.4",
          "-0.4",
          "-1.4",
          "-0.3",
          "-0.4",
          "-1",
          "-1.5",
          "0.5",
          "1",
          "-0.3",
          "-0.3",
          "-0.2",
          "-0.4",
          "-0.7",
          "-1.4",
          "1.2",
          "-0.7",
          "-1.5",
          "-0.2",
          "-0.1",
          "0.2",
          "-1.1",
          "-0.9",
          "2",
          "0.3",
          "-0.2",
          "-0.9",
          "-0.2",
          "-1.1",
          "-1.1",
          "0.3",
          "-0.7",
          "-0.4",
          "-1.1",
          "-0.7",
          "-0.1",
          "-0.1",
          "0.3",
          "-0.5",
          "-0.7",
          "1.1",
          "0.4",
          "-0.1",
          "-1.1",
          "2.3",
          "0.8",
          "-1.4",
          "-0.3",
          "-0.4",
          "0.5",
          "0.7",
          "1.3",
          "-0.9",
          "-0.6",
          "-0.4",
          "-1.3",
          "-0.5",
          "0.5",
          "-1.4",
          "0.3",
          "0.5",
          "-0.3",
          "-0.4",
          "0.4",
          "-0.3",
          "0.3",
          "-0.6",
          "-0.2"
         ],
         "y0": " ",
         "yaxis": "y"
        },
        {
         "alignmentgroup": "True",
         "hovertemplate": "state=%{x}<br>anomaly_level=%{y}<extra></extra>",
         "legendgroup": "Arkansas",
         "marker": {
          "color": "#636efa"
         },
         "name": "Arkansas",
         "notched": false,
         "offsetgroup": "Arkansas",
         "orientation": "v",
         "showlegend": true,
         "type": "box",
         "x": [
          "Arkansas",
          "Arkansas",
          "Arkansas",
          "Arkansas",
          "Arkansas",
          "Arkansas",
          "Arkansas",
          "Arkansas",
          "Arkansas",
          "Arkansas",
          "Arkansas",
          "Arkansas",
          "Arkansas",
          "Arkansas",
          "Arkansas",
          "Arkansas",
          "Arkansas",
          "Arkansas",
          "Arkansas",
          "Arkansas",
          "Arkansas",
          "Arkansas",
          "Arkansas",
          "Arkansas",
          "Arkansas"
         ],
         "x0": " ",
         "xaxis": "x",
         "y": [
          "-0.7",
          "-1",
          "-0.7",
          "-0.4",
          "-0.3",
          "0.3",
          "-0.3",
          "-0.5",
          "-0.2",
          "-0.5",
          "1.2",
          "-0.1",
          "-0.4",
          "-0.6",
          "-0.3",
          "-0.5",
          "1.1",
          "-0.3",
          "0.1",
          "-0.1",
          "-0.2",
          "-0.2",
          "-0.3",
          "0.1",
          "2.2"
         ],
         "y0": " ",
         "yaxis": "y"
        },
        {
         "alignmentgroup": "True",
         "hovertemplate": "state=%{x}<br>anomaly_level=%{y}<extra></extra>",
         "legendgroup": "Virginia",
         "marker": {
          "color": "#EF553B"
         },
         "name": "Virginia",
         "notched": false,
         "offsetgroup": "Virginia",
         "orientation": "v",
         "showlegend": true,
         "type": "box",
         "x": [
          "Virginia",
          "Virginia",
          "Virginia",
          "Virginia",
          "Virginia",
          "Virginia",
          "Virginia",
          "Virginia",
          "Virginia",
          "Virginia",
          "Virginia",
          "Virginia",
          "Virginia",
          "Virginia",
          "Virginia",
          "Virginia",
          "Virginia",
          "Virginia",
          "Virginia",
          "Virginia",
          "Virginia",
          "Virginia",
          "Virginia",
          "Virginia",
          "Virginia",
          "Virginia",
          "Virginia",
          "Virginia",
          "Virginia",
          "Virginia",
          "Virginia",
          "Virginia",
          "Virginia",
          "Virginia",
          "Virginia",
          "Virginia",
          "Virginia"
         ],
         "x0": " ",
         "xaxis": "x",
         "y": [
          "-0.5",
          "-0.3",
          "-0.6",
          "-0.3",
          "-0.2",
          "0.5",
          "1.2",
          "0.3",
          null,
          "-0.9",
          "-0.4",
          "-1.3",
          "0.3",
          "-0.3",
          "-0.4",
          "-0.4",
          "-0.9",
          "-0.9",
          "-0.1",
          "-0.1",
          "-0.4",
          "0.3",
          "-1.2",
          "-0.4",
          "-0.5",
          "-1.3",
          "-0.3",
          "1.1",
          "0.1",
          "0.1",
          "-0.6",
          "0.1",
          "-1.4",
          "-1",
          "-0.6",
          "-0.2",
          "-0.1"
         ],
         "y0": " ",
         "yaxis": "y"
        },
        {
         "alignmentgroup": "True",
         "hovertemplate": "state=%{x}<br>anomaly_level=%{y}<extra></extra>",
         "legendgroup": "Nebraska",
         "marker": {
          "color": "#00cc96"
         },
         "name": "Nebraska",
         "notched": false,
         "offsetgroup": "Nebraska",
         "orientation": "v",
         "showlegend": true,
         "type": "box",
         "x": [
          "Nebraska",
          "Nebraska",
          "Nebraska",
          "Nebraska"
         ],
         "x0": " ",
         "xaxis": "x",
         "y": [
          "-1.2",
          "-0.5",
          "0.3",
          "0.9"
         ],
         "y0": " ",
         "yaxis": "y"
        },
        {
         "alignmentgroup": "True",
         "hovertemplate": "state=%{x}<br>anomaly_level=%{y}<extra></extra>",
         "legendgroup": "Wyoming",
         "marker": {
          "color": "#ab63fa"
         },
         "name": "Wyoming",
         "notched": false,
         "offsetgroup": "Wyoming",
         "orientation": "v",
         "showlegend": true,
         "type": "box",
         "x": [
          "Wyoming",
          "Wyoming",
          "Wyoming",
          "Wyoming",
          "Wyoming",
          "Wyoming"
         ],
         "x0": " ",
         "xaxis": "x",
         "y": [
          "0.9",
          "-1",
          "-0.4",
          "-0.3",
          "-0.2",
          "-1.4"
         ],
         "y0": " ",
         "yaxis": "y"
        },
        {
         "alignmentgroup": "True",
         "hovertemplate": "state=%{x}<br>anomaly_level=%{y}<extra></extra>",
         "legendgroup": "New Mexico",
         "marker": {
          "color": "#FFA15A"
         },
         "name": "New Mexico",
         "notched": false,
         "offsetgroup": "New Mexico",
         "orientation": "v",
         "showlegend": true,
         "type": "box",
         "x": [
          "New Mexico",
          "New Mexico",
          "New Mexico",
          "New Mexico",
          "New Mexico",
          "New Mexico",
          "New Mexico",
          "New Mexico"
         ],
         "x0": " ",
         "xaxis": "x",
         "y": [
          "-0.1",
          "-0.4",
          "-1.1",
          "-0.3",
          "-0.4",
          "-0.4",
          "-0.4",
          "-0.3"
         ],
         "y0": " ",
         "yaxis": "y"
        },
        {
         "alignmentgroup": "True",
         "hovertemplate": "state=%{x}<br>anomaly_level=%{y}<extra></extra>",
         "legendgroup": "Vermont",
         "marker": {
          "color": "#19d3f3"
         },
         "name": "Vermont",
         "notched": false,
         "offsetgroup": "Vermont",
         "orientation": "v",
         "showlegend": true,
         "type": "box",
         "x": [
          "Vermont",
          "Vermont",
          "Vermont",
          "Vermont",
          "Vermont",
          "Vermont",
          "Vermont",
          "Vermont",
          "Vermont"
         ],
         "x0": " ",
         "xaxis": "x",
         "y": [
          "-0.2",
          "0.3",
          "0.1",
          "-0.4",
          "-0.5",
          "-0.3",
          "-0.3",
          "-0.3",
          "-0.4"
         ],
         "y0": " ",
         "yaxis": "y"
        },
        {
         "alignmentgroup": "True",
         "hovertemplate": "state=%{x}<br>anomaly_level=%{y}<extra></extra>",
         "legendgroup": "Georgia",
         "marker": {
          "color": "#FF6692"
         },
         "name": "Georgia",
         "notched": false,
         "offsetgroup": "Georgia",
         "orientation": "v",
         "showlegend": true,
         "type": "box",
         "x": [
          "Georgia",
          "Georgia",
          "Georgia",
          "Georgia",
          "Georgia",
          "Georgia",
          "Georgia",
          "Georgia",
          "Georgia",
          "Georgia",
          "Georgia",
          "Georgia",
          "Georgia",
          "Georgia",
          "Georgia",
          "Georgia",
          "Georgia"
         ],
         "x0": " ",
         "xaxis": "x",
         "y": [
          "0.3",
          "0.7",
          "0.3",
          "0.7",
          "-0.4",
          "-0.3",
          "-0.7",
          "0.5",
          "0.9",
          "-0.7",
          "0.6",
          "-0.5",
          "0.4",
          "-0.5",
          "0.7",
          "-0.3",
          "-0.4"
         ],
         "y0": " ",
         "yaxis": "y"
        },
        {
         "alignmentgroup": "True",
         "hovertemplate": "state=%{x}<br>anomaly_level=%{y}<extra></extra>",
         "legendgroup": "Connecticut",
         "marker": {
          "color": "#B6E880"
         },
         "name": "Connecticut",
         "notched": false,
         "offsetgroup": "Connecticut",
         "orientation": "v",
         "showlegend": true,
         "type": "box",
         "x": [
          "Connecticut",
          "Connecticut",
          "Connecticut",
          "Connecticut",
          "Connecticut",
          "Connecticut",
          "Connecticut",
          "Connecticut",
          "Connecticut",
          "Connecticut",
          "Connecticut",
          "Connecticut",
          "Connecticut",
          "Connecticut",
          "Connecticut",
          "Connecticut",
          "Connecticut",
          "Connecticut"
         ],
         "x0": " ",
         "xaxis": "x",
         "y": [
          "-0.4",
          "-0.3",
          "-0.6",
          "0.4",
          "-0.2",
          "-0.3",
          "-0.7",
          "-0.4",
          "-0.3",
          "-0.8",
          "-0.2",
          "-0.9",
          "-0.8",
          "0.9",
          "1.2",
          "0.1",
          "-0.7",
          "-0.4"
         ],
         "y0": " ",
         "yaxis": "y"
        },
        {
         "alignmentgroup": "True",
         "hovertemplate": "state=%{x}<br>anomaly_level=%{y}<extra></extra>",
         "legendgroup": "Oklahoma",
         "marker": {
          "color": "#FF97FF"
         },
         "name": "Oklahoma",
         "notched": false,
         "offsetgroup": "Oklahoma",
         "orientation": "v",
         "showlegend": true,
         "type": "box",
         "x": [
          "Oklahoma",
          "Oklahoma",
          "Oklahoma",
          "Oklahoma",
          "Oklahoma",
          "Oklahoma",
          "Oklahoma",
          "Oklahoma",
          "Oklahoma",
          "Oklahoma",
          "Oklahoma",
          "Oklahoma",
          "Oklahoma",
          "Oklahoma",
          "Oklahoma",
          "Oklahoma",
          "Oklahoma",
          "Oklahoma",
          "Oklahoma",
          "Oklahoma",
          "Oklahoma",
          "Oklahoma",
          "Oklahoma",
          "Oklahoma"
         ],
         "x0": " ",
         "xaxis": "x",
         "y": [
          "2.3",
          "-0.7",
          "-0.2",
          "-0.3",
          "-0.6",
          "1.3",
          "-0.6",
          "1.2",
          "-1.3",
          "2.3",
          "-0.3",
          "0.3",
          "2.2",
          "-0.6",
          "-0.2",
          "-0.6",
          "-0.2",
          "-0.3",
          "-0.3",
          "0.3",
          "2.2",
          "2.3",
          "-0.7",
          "-0.4"
         ],
         "y0": " ",
         "yaxis": "y"
        },
        {
         "alignmentgroup": "True",
         "hovertemplate": "state=%{x}<br>anomaly_level=%{y}<extra></extra>",
         "legendgroup": "Massachusetts",
         "marker": {
          "color": "#FECB52"
         },
         "name": "Massachusetts",
         "notched": false,
         "offsetgroup": "Massachusetts",
         "orientation": "v",
         "showlegend": true,
         "type": "box",
         "x": [
          "Massachusetts",
          "Massachusetts",
          "Massachusetts",
          "Massachusetts",
          "Massachusetts",
          "Massachusetts",
          "Massachusetts",
          "Massachusetts",
          "Massachusetts",
          "Massachusetts",
          "Massachusetts",
          "Massachusetts",
          "Massachusetts",
          "Massachusetts",
          "Massachusetts",
          "Massachusetts",
          "Massachusetts",
          "Massachusetts"
         ],
         "x0": " ",
         "xaxis": "x",
         "y": [
          "-1.3",
          "-0.1",
          "-0.6",
          "-1.3",
          "-0.4",
          "-0.4",
          "-0.4",
          "-0.4",
          "0.3",
          "0.3",
          "0.6",
          "1.6",
          "-0.3",
          "-0.3",
          "0.3",
          "-0.3",
          "-0.4",
          "0.1"
         ],
         "y0": " ",
         "yaxis": "y"
        },
        {
         "alignmentgroup": "True",
         "hovertemplate": "state=%{x}<br>anomaly_level=%{y}<extra></extra>",
         "legendgroup": "Maine",
         "marker": {
          "color": "#636efa"
         },
         "name": "Maine",
         "notched": false,
         "offsetgroup": "Maine",
         "orientation": "v",
         "showlegend": true,
         "type": "box",
         "x": [
          "Maine",
          "Maine",
          "Maine",
          "Maine",
          "Maine",
          "Maine",
          "Maine",
          "Maine",
          "Maine",
          "Maine",
          "Maine",
          "Maine",
          "Maine",
          "Maine",
          "Maine",
          "Maine",
          "Maine",
          "Maine",
          "Maine"
         ],
         "x0": " ",
         "xaxis": "x",
         "y": [
          "-1.3",
          "-0.3",
          "-0.6",
          "-0.1",
          "-0.3",
          "2.3",
          "-0.3",
          "-0.6",
          "-0.7",
          "-0.7",
          "-1.3",
          "-1.4",
          "-1.1",
          "-0.3",
          "-0.2",
          "0.5",
          "-0.4",
          "0.3",
          "-0.1"
         ],
         "y0": " ",
         "yaxis": "y"
        },
        {
         "alignmentgroup": "True",
         "hovertemplate": "state=%{x}<br>anomaly_level=%{y}<extra></extra>",
         "legendgroup": "New Hampshire",
         "marker": {
          "color": "#EF553B"
         },
         "name": "New Hampshire",
         "notched": false,
         "offsetgroup": "New Hampshire",
         "orientation": "v",
         "showlegend": true,
         "type": "box",
         "x": [
          "New Hampshire",
          "New Hampshire",
          "New Hampshire",
          "New Hampshire",
          "New Hampshire",
          "New Hampshire",
          "New Hampshire",
          "New Hampshire",
          "New Hampshire",
          "New Hampshire",
          "New Hampshire",
          "New Hampshire",
          "New Hampshire",
          "New Hampshire"
         ],
         "x0": " ",
         "xaxis": "x",
         "y": [
          "0.3",
          "0.1",
          "-0.5",
          "-0.3",
          "-0.7",
          "0.3",
          "-0.4",
          "-0.4",
          "-0.2",
          "-0.1",
          "-0.4",
          "-0.7",
          "-1",
          "0.1"
         ],
         "y0": " ",
         "yaxis": "y"
        },
        {
         "alignmentgroup": "True",
         "hovertemplate": "state=%{x}<br>anomaly_level=%{y}<extra></extra>",
         "legendgroup": "Nevada",
         "marker": {
          "color": "#00cc96"
         },
         "name": "Nevada",
         "notched": false,
         "offsetgroup": "Nevada",
         "orientation": "v",
         "showlegend": true,
         "type": "box",
         "x": [
          "Nevada",
          "Nevada",
          "Nevada",
          "Nevada",
          "Nevada",
          "Nevada",
          "Nevada"
         ],
         "x0": " ",
         "xaxis": "x",
         "y": [
          "-1.3",
          "-0.2",
          "2.3",
          "-0.4",
          "0.3",
          "1.6",
          "-0.7"
         ],
         "y0": " ",
         "yaxis": "y"
        },
        {
         "alignmentgroup": "True",
         "hovertemplate": "state=%{x}<br>anomaly_level=%{y}<extra></extra>",
         "legendgroup": "Colorado",
         "marker": {
          "color": "#ab63fa"
         },
         "name": "Colorado",
         "notched": false,
         "offsetgroup": "Colorado",
         "orientation": "v",
         "showlegend": true,
         "type": "box",
         "x": [
          "Colorado",
          "Colorado",
          "Colorado",
          "Colorado",
          "Colorado",
          "Colorado",
          "Colorado",
          "Colorado",
          "Colorado",
          "Colorado",
          "Colorado",
          "Colorado",
          "Colorado",
          "Colorado",
          "Colorado"
         ],
         "x0": " ",
         "xaxis": "x",
         "y": [
          "-0.2",
          "-0.2",
          "0.2",
          "-0.9",
          "0.5",
          "-0.3",
          "0.5",
          "1.6",
          "0.3",
          "-0.4",
          "-0.6",
          "-0.1",
          "0.3",
          "0.7",
          "-0.5"
         ],
         "y0": " ",
         "yaxis": "y"
        },
        {
         "alignmentgroup": "True",
         "hovertemplate": "state=%{x}<br>anomaly_level=%{y}<extra></extra>",
         "legendgroup": "Kansas",
         "marker": {
          "color": "#FFA15A"
         },
         "name": "Kansas",
         "notched": false,
         "offsetgroup": "Kansas",
         "orientation": "v",
         "showlegend": true,
         "type": "box",
         "x": [
          "Kansas",
          "Kansas",
          "Kansas",
          "Kansas",
          "Kansas",
          "Kansas",
          "Kansas",
          "Kansas",
          "Kansas"
         ],
         "x0": " ",
         "xaxis": "x",
         "y": [
          null,
          "0.6",
          "2.3",
          "0.7",
          "-1.3",
          "2.3",
          "-0.3",
          "1",
          "0.7"
         ],
         "y0": " ",
         "yaxis": "y"
        },
        {
         "alignmentgroup": "True",
         "hovertemplate": "state=%{x}<br>anomaly_level=%{y}<extra></extra>",
         "legendgroup": "Hawaii",
         "marker": {
          "color": "#19d3f3"
         },
         "name": "Hawaii",
         "notched": false,
         "offsetgroup": "Hawaii",
         "orientation": "v",
         "showlegend": true,
         "type": "box",
         "x": [
          "Hawaii",
          "Hawaii",
          "Hawaii",
          "Hawaii",
          "Hawaii"
         ],
         "x0": " ",
         "xaxis": "x",
         "y": [
          "-0.7",
          "-0.4",
          "0.7",
          "0",
          "0.7"
         ],
         "y0": " ",
         "yaxis": "y"
        },
        {
         "alignmentgroup": "True",
         "hovertemplate": "state=%{x}<br>anomaly_level=%{y}<extra></extra>",
         "legendgroup": "Idaho",
         "marker": {
          "color": "#FF6692"
         },
         "name": "Idaho",
         "notched": false,
         "offsetgroup": "Idaho",
         "orientation": "v",
         "showlegend": true,
         "type": "box",
         "x": [
          "Idaho",
          "Idaho",
          "Idaho",
          "Idaho",
          "Idaho",
          "Idaho",
          "Idaho",
          "Idaho",
          "Idaho"
         ],
         "x0": " ",
         "xaxis": "x",
         "y": [
          "-0.3",
          "-0.9",
          "0.3",
          "-1.3",
          "-0.1",
          "-0.3",
          "1.6",
          "1.6",
          "-0.3"
         ],
         "y0": " ",
         "yaxis": "y"
        },
        {
         "alignmentgroup": "True",
         "hovertemplate": "state=%{x}<br>anomaly_level=%{y}<extra></extra>",
         "legendgroup": "North Dakota",
         "marker": {
          "color": "#B6E880"
         },
         "name": "North Dakota",
         "notched": false,
         "offsetgroup": "North Dakota",
         "orientation": "v",
         "showlegend": true,
         "type": "box",
         "x": [
          "North Dakota",
          "North Dakota"
         ],
         "x0": " ",
         "xaxis": "x",
         "y": [
          "-0.9",
          null
         ],
         "y0": " ",
         "yaxis": "y"
        },
        {
         "alignmentgroup": "True",
         "hovertemplate": "state=%{x}<br>anomaly_level=%{y}<extra></extra>",
         "legendgroup": "South Dakota",
         "marker": {
          "color": "#FF97FF"
         },
         "name": "South Dakota",
         "notched": false,
         "offsetgroup": "South Dakota",
         "orientation": "v",
         "showlegend": true,
         "type": "box",
         "x": [
          "South Dakota",
          "South Dakota"
         ],
         "x0": " ",
         "xaxis": "x",
         "y": [
          "0.5",
          "0.5"
         ],
         "y0": " ",
         "yaxis": "y"
        },
        {
         "alignmentgroup": "True",
         "hovertemplate": "state=%{x}<br>anomaly_level=%{y}<extra></extra>",
         "legendgroup": "Alaska",
         "marker": {
          "color": "#FECB52"
         },
         "name": "Alaska",
         "notched": false,
         "offsetgroup": "Alaska",
         "orientation": "v",
         "showlegend": true,
         "type": "box",
         "x": [
          "Alaska"
         ],
         "x0": " ",
         "xaxis": "x",
         "y": [
          null
         ],
         "y0": " ",
         "yaxis": "y"
        }
       ],
       "layout": {
        "boxmode": "overlay",
        "font": {
         "size": 12
        },
        "height": 400,
        "legend": {
         "title": {
          "text": "state"
         },
         "tracegroupgap": 0
        },
        "showlegend": false,
        "template": {
         "data": {
          "bar": [
           {
            "error_x": {
             "color": "#2a3f5f"
            },
            "error_y": {
             "color": "#2a3f5f"
            },
            "marker": {
             "line": {
              "color": "#E5ECF6",
              "width": 0.5
             },
             "pattern": {
              "fillmode": "overlay",
              "size": 10,
              "solidity": 0.2
             }
            },
            "type": "bar"
           }
          ],
          "barpolar": [
           {
            "marker": {
             "line": {
              "color": "#E5ECF6",
              "width": 0.5
             },
             "pattern": {
              "fillmode": "overlay",
              "size": 10,
              "solidity": 0.2
             }
            },
            "type": "barpolar"
           }
          ],
          "carpet": [
           {
            "aaxis": {
             "endlinecolor": "#2a3f5f",
             "gridcolor": "white",
             "linecolor": "white",
             "minorgridcolor": "white",
             "startlinecolor": "#2a3f5f"
            },
            "baxis": {
             "endlinecolor": "#2a3f5f",
             "gridcolor": "white",
             "linecolor": "white",
             "minorgridcolor": "white",
             "startlinecolor": "#2a3f5f"
            },
            "type": "carpet"
           }
          ],
          "choropleth": [
           {
            "colorbar": {
             "outlinewidth": 0,
             "ticks": ""
            },
            "type": "choropleth"
           }
          ],
          "contour": [
           {
            "colorbar": {
             "outlinewidth": 0,
             "ticks": ""
            },
            "colorscale": [
             [
              0,
              "#0d0887"
             ],
             [
              0.1111111111111111,
              "#46039f"
             ],
             [
              0.2222222222222222,
              "#7201a8"
             ],
             [
              0.3333333333333333,
              "#9c179e"
             ],
             [
              0.4444444444444444,
              "#bd3786"
             ],
             [
              0.5555555555555556,
              "#d8576b"
             ],
             [
              0.6666666666666666,
              "#ed7953"
             ],
             [
              0.7777777777777778,
              "#fb9f3a"
             ],
             [
              0.8888888888888888,
              "#fdca26"
             ],
             [
              1,
              "#f0f921"
             ]
            ],
            "type": "contour"
           }
          ],
          "contourcarpet": [
           {
            "colorbar": {
             "outlinewidth": 0,
             "ticks": ""
            },
            "type": "contourcarpet"
           }
          ],
          "heatmap": [
           {
            "colorbar": {
             "outlinewidth": 0,
             "ticks": ""
            },
            "colorscale": [
             [
              0,
              "#0d0887"
             ],
             [
              0.1111111111111111,
              "#46039f"
             ],
             [
              0.2222222222222222,
              "#7201a8"
             ],
             [
              0.3333333333333333,
              "#9c179e"
             ],
             [
              0.4444444444444444,
              "#bd3786"
             ],
             [
              0.5555555555555556,
              "#d8576b"
             ],
             [
              0.6666666666666666,
              "#ed7953"
             ],
             [
              0.7777777777777778,
              "#fb9f3a"
             ],
             [
              0.8888888888888888,
              "#fdca26"
             ],
             [
              1,
              "#f0f921"
             ]
            ],
            "type": "heatmap"
           }
          ],
          "heatmapgl": [
           {
            "colorbar": {
             "outlinewidth": 0,
             "ticks": ""
            },
            "colorscale": [
             [
              0,
              "#0d0887"
             ],
             [
              0.1111111111111111,
              "#46039f"
             ],
             [
              0.2222222222222222,
              "#7201a8"
             ],
             [
              0.3333333333333333,
              "#9c179e"
             ],
             [
              0.4444444444444444,
              "#bd3786"
             ],
             [
              0.5555555555555556,
              "#d8576b"
             ],
             [
              0.6666666666666666,
              "#ed7953"
             ],
             [
              0.7777777777777778,
              "#fb9f3a"
             ],
             [
              0.8888888888888888,
              "#fdca26"
             ],
             [
              1,
              "#f0f921"
             ]
            ],
            "type": "heatmapgl"
           }
          ],
          "histogram": [
           {
            "marker": {
             "pattern": {
              "fillmode": "overlay",
              "size": 10,
              "solidity": 0.2
             }
            },
            "type": "histogram"
           }
          ],
          "histogram2d": [
           {
            "colorbar": {
             "outlinewidth": 0,
             "ticks": ""
            },
            "colorscale": [
             [
              0,
              "#0d0887"
             ],
             [
              0.1111111111111111,
              "#46039f"
             ],
             [
              0.2222222222222222,
              "#7201a8"
             ],
             [
              0.3333333333333333,
              "#9c179e"
             ],
             [
              0.4444444444444444,
              "#bd3786"
             ],
             [
              0.5555555555555556,
              "#d8576b"
             ],
             [
              0.6666666666666666,
              "#ed7953"
             ],
             [
              0.7777777777777778,
              "#fb9f3a"
             ],
             [
              0.8888888888888888,
              "#fdca26"
             ],
             [
              1,
              "#f0f921"
             ]
            ],
            "type": "histogram2d"
           }
          ],
          "histogram2dcontour": [
           {
            "colorbar": {
             "outlinewidth": 0,
             "ticks": ""
            },
            "colorscale": [
             [
              0,
              "#0d0887"
             ],
             [
              0.1111111111111111,
              "#46039f"
             ],
             [
              0.2222222222222222,
              "#7201a8"
             ],
             [
              0.3333333333333333,
              "#9c179e"
             ],
             [
              0.4444444444444444,
              "#bd3786"
             ],
             [
              0.5555555555555556,
              "#d8576b"
             ],
             [
              0.6666666666666666,
              "#ed7953"
             ],
             [
              0.7777777777777778,
              "#fb9f3a"
             ],
             [
              0.8888888888888888,
              "#fdca26"
             ],
             [
              1,
              "#f0f921"
             ]
            ],
            "type": "histogram2dcontour"
           }
          ],
          "mesh3d": [
           {
            "colorbar": {
             "outlinewidth": 0,
             "ticks": ""
            },
            "type": "mesh3d"
           }
          ],
          "parcoords": [
           {
            "line": {
             "colorbar": {
              "outlinewidth": 0,
              "ticks": ""
             }
            },
            "type": "parcoords"
           }
          ],
          "pie": [
           {
            "automargin": true,
            "type": "pie"
           }
          ],
          "scatter": [
           {
            "fillpattern": {
             "fillmode": "overlay",
             "size": 10,
             "solidity": 0.2
            },
            "type": "scatter"
           }
          ],
          "scatter3d": [
           {
            "line": {
             "colorbar": {
              "outlinewidth": 0,
              "ticks": ""
             }
            },
            "marker": {
             "colorbar": {
              "outlinewidth": 0,
              "ticks": ""
             }
            },
            "type": "scatter3d"
           }
          ],
          "scattercarpet": [
           {
            "marker": {
             "colorbar": {
              "outlinewidth": 0,
              "ticks": ""
             }
            },
            "type": "scattercarpet"
           }
          ],
          "scattergeo": [
           {
            "marker": {
             "colorbar": {
              "outlinewidth": 0,
              "ticks": ""
             }
            },
            "type": "scattergeo"
           }
          ],
          "scattergl": [
           {
            "marker": {
             "colorbar": {
              "outlinewidth": 0,
              "ticks": ""
             }
            },
            "type": "scattergl"
           }
          ],
          "scattermapbox": [
           {
            "marker": {
             "colorbar": {
              "outlinewidth": 0,
              "ticks": ""
             }
            },
            "type": "scattermapbox"
           }
          ],
          "scatterpolar": [
           {
            "marker": {
             "colorbar": {
              "outlinewidth": 0,
              "ticks": ""
             }
            },
            "type": "scatterpolar"
           }
          ],
          "scatterpolargl": [
           {
            "marker": {
             "colorbar": {
              "outlinewidth": 0,
              "ticks": ""
             }
            },
            "type": "scatterpolargl"
           }
          ],
          "scatterternary": [
           {
            "marker": {
             "colorbar": {
              "outlinewidth": 0,
              "ticks": ""
             }
            },
            "type": "scatterternary"
           }
          ],
          "surface": [
           {
            "colorbar": {
             "outlinewidth": 0,
             "ticks": ""
            },
            "colorscale": [
             [
              0,
              "#0d0887"
             ],
             [
              0.1111111111111111,
              "#46039f"
             ],
             [
              0.2222222222222222,
              "#7201a8"
             ],
             [
              0.3333333333333333,
              "#9c179e"
             ],
             [
              0.4444444444444444,
              "#bd3786"
             ],
             [
              0.5555555555555556,
              "#d8576b"
             ],
             [
              0.6666666666666666,
              "#ed7953"
             ],
             [
              0.7777777777777778,
              "#fb9f3a"
             ],
             [
              0.8888888888888888,
              "#fdca26"
             ],
             [
              1,
              "#f0f921"
             ]
            ],
            "type": "surface"
           }
          ],
          "table": [
           {
            "cells": {
             "fill": {
              "color": "#EBF0F8"
             },
             "line": {
              "color": "white"
             }
            },
            "header": {
             "fill": {
              "color": "#C8D4E3"
             },
             "line": {
              "color": "white"
             }
            },
            "type": "table"
           }
          ]
         },
         "layout": {
          "annotationdefaults": {
           "arrowcolor": "#2a3f5f",
           "arrowhead": 0,
           "arrowwidth": 1
          },
          "autotypenumbers": "strict",
          "coloraxis": {
           "colorbar": {
            "outlinewidth": 0,
            "ticks": ""
           }
          },
          "colorscale": {
           "diverging": [
            [
             0,
             "#8e0152"
            ],
            [
             0.1,
             "#c51b7d"
            ],
            [
             0.2,
             "#de77ae"
            ],
            [
             0.3,
             "#f1b6da"
            ],
            [
             0.4,
             "#fde0ef"
            ],
            [
             0.5,
             "#f7f7f7"
            ],
            [
             0.6,
             "#e6f5d0"
            ],
            [
             0.7,
             "#b8e186"
            ],
            [
             0.8,
             "#7fbc41"
            ],
            [
             0.9,
             "#4d9221"
            ],
            [
             1,
             "#276419"
            ]
           ],
           "sequential": [
            [
             0,
             "#0d0887"
            ],
            [
             0.1111111111111111,
             "#46039f"
            ],
            [
             0.2222222222222222,
             "#7201a8"
            ],
            [
             0.3333333333333333,
             "#9c179e"
            ],
            [
             0.4444444444444444,
             "#bd3786"
            ],
            [
             0.5555555555555556,
             "#d8576b"
            ],
            [
             0.6666666666666666,
             "#ed7953"
            ],
            [
             0.7777777777777778,
             "#fb9f3a"
            ],
            [
             0.8888888888888888,
             "#fdca26"
            ],
            [
             1,
             "#f0f921"
            ]
           ],
           "sequentialminus": [
            [
             0,
             "#0d0887"
            ],
            [
             0.1111111111111111,
             "#46039f"
            ],
            [
             0.2222222222222222,
             "#7201a8"
            ],
            [
             0.3333333333333333,
             "#9c179e"
            ],
            [
             0.4444444444444444,
             "#bd3786"
            ],
            [
             0.5555555555555556,
             "#d8576b"
            ],
            [
             0.6666666666666666,
             "#ed7953"
            ],
            [
             0.7777777777777778,
             "#fb9f3a"
            ],
            [
             0.8888888888888888,
             "#fdca26"
            ],
            [
             1,
             "#f0f921"
            ]
           ]
          },
          "colorway": [
           "#636efa",
           "#EF553B",
           "#00cc96",
           "#ab63fa",
           "#FFA15A",
           "#19d3f3",
           "#FF6692",
           "#B6E880",
           "#FF97FF",
           "#FECB52"
          ],
          "font": {
           "color": "#2a3f5f"
          },
          "geo": {
           "bgcolor": "white",
           "lakecolor": "white",
           "landcolor": "#E5ECF6",
           "showlakes": true,
           "showland": true,
           "subunitcolor": "white"
          },
          "hoverlabel": {
           "align": "left"
          },
          "hovermode": "closest",
          "mapbox": {
           "style": "light"
          },
          "paper_bgcolor": "white",
          "plot_bgcolor": "#E5ECF6",
          "polar": {
           "angularaxis": {
            "gridcolor": "white",
            "linecolor": "white",
            "ticks": ""
           },
           "bgcolor": "#E5ECF6",
           "radialaxis": {
            "gridcolor": "white",
            "linecolor": "white",
            "ticks": ""
           }
          },
          "scene": {
           "xaxis": {
            "backgroundcolor": "#E5ECF6",
            "gridcolor": "white",
            "gridwidth": 2,
            "linecolor": "white",
            "showbackground": true,
            "ticks": "",
            "zerolinecolor": "white"
           },
           "yaxis": {
            "backgroundcolor": "#E5ECF6",
            "gridcolor": "white",
            "gridwidth": 2,
            "linecolor": "white",
            "showbackground": true,
            "ticks": "",
            "zerolinecolor": "white"
           },
           "zaxis": {
            "backgroundcolor": "#E5ECF6",
            "gridcolor": "white",
            "gridwidth": 2,
            "linecolor": "white",
            "showbackground": true,
            "ticks": "",
            "zerolinecolor": "white"
           }
          },
          "shapedefaults": {
           "line": {
            "color": "#2a3f5f"
           }
          },
          "ternary": {
           "aaxis": {
            "gridcolor": "white",
            "linecolor": "white",
            "ticks": ""
           },
           "baxis": {
            "gridcolor": "white",
            "linecolor": "white",
            "ticks": ""
           },
           "bgcolor": "#E5ECF6",
           "caxis": {
            "gridcolor": "white",
            "linecolor": "white",
            "ticks": ""
           }
          },
          "title": {
           "x": 0.05
          },
          "xaxis": {
           "automargin": true,
           "gridcolor": "white",
           "linecolor": "white",
           "ticks": "",
           "title": {
            "standoff": 15
           },
           "zerolinecolor": "white",
           "zerolinewidth": 2
          },
          "yaxis": {
           "automargin": true,
           "gridcolor": "white",
           "linecolor": "white",
           "ticks": "",
           "title": {
            "standoff": 15
           },
           "zerolinecolor": "white",
           "zerolinewidth": 2
          }
         }
        },
        "title": {
         "font": {
          "size": 30
         },
         "text": "Anomaly Levels by State"
        },
        "width": 800,
        "xaxis": {
         "anchor": "y",
         "categoryarray": [
          "Minnesota",
          "Tennessee",
          "Wisconsin",
          "West Virginia",
          "Michigan",
          "Texas",
          "Indiana",
          "Alabama",
          "Mississippi",
          "Illinois",
          "Washington",
          "Arizona",
          "Maryland",
          "Pennsylvania",
          "Kentucky",
          "Utah",
          "Ohio",
          "North Carolina",
          "New Jersey",
          "South Carolina",
          "Oregon",
          "District of Columbia",
          "Missouri",
          "Delaware",
          "Iowa",
          "Montana",
          "New York",
          "Louisiana",
          "Florida",
          "California",
          "Arkansas",
          "Virginia",
          "Nebraska",
          "Wyoming",
          "New Mexico",
          "Vermont",
          "Georgia",
          "Connecticut",
          "Oklahoma",
          "Massachusetts",
          "Maine",
          "New Hampshire",
          "Nevada",
          "Colorado",
          "Kansas",
          "Hawaii",
          "Idaho",
          "North Dakota",
          "South Dakota",
          "Alaska"
         ],
         "categoryorder": "array",
         "domain": [
          0,
          1
         ],
         "tickangle": 90,
         "title": {
          "text": "State"
         }
        },
        "yaxis": {
         "anchor": "x",
         "domain": [
          0,
          1
         ],
         "title": {
          "text": "Anomaly Level"
         }
        }
       }
      }
     },
     "metadata": {},
     "output_type": "display_data"
    }
   ],
   "source": [
    "fig = px.box(\n",
    "    raw,\n",
    "    x='state',\n",
    "    y='anomaly_level',\n",
    "    color='state',  # Optional: colors each box by state\n",
    "    title='Anomaly Levels by State',\n",
    ")\n",
    "\n",
    "fig.update_layout(\n",
    "    xaxis_title='State',\n",
    "    yaxis_title='Anomaly Level',\n",
    "    title_font=dict(size=30),\n",
    "    xaxis_tickangle=90,\n",
    "    font=dict(size=12),\n",
    "    height=400,\n",
    "    width=800,\n",
    "    showlegend=False  # You can turn this on if coloring by state is meaningful\n",
    ")\n",
    "\n",
    "fig.show()\n"
   ]
  },
  {
   "cell_type": "code",
   "execution_count": 8,
   "metadata": {},
   "outputs": [
    {
     "data": {
      "application/vnd.plotly.v1+json": {
       "config": {
        "plotlyServerURL": "https://plot.ly"
       },
       "data": [
        {
         "customdata": [
          [
           "Minnesota",
           "MRO",
           "2011"
          ],
          [
           "Minnesota",
           "MRO",
           "2011"
          ],
          [
           "Minnesota",
           "MRO",
           "2011"
          ],
          [
           "Tennessee",
           "SERC",
           "2011"
          ],
          [
           "Tennessee",
           "SERC",
           "2011"
          ],
          [
           "Tennessee",
           "SERC",
           "2011"
          ],
          [
           "Tennessee",
           "SERC",
           "2011"
          ],
          [
           "Tennessee",
           "SERC",
           "2011"
          ],
          [
           "Tennessee",
           "SERC",
           "2011"
          ],
          [
           "Tennessee",
           "SERC",
           "2011"
          ],
          [
           "Michigan",
           "RFC",
           "2011"
          ],
          [
           "Michigan",
           "RFC",
           "2011"
          ],
          [
           "Michigan",
           "RFC",
           "2011"
          ],
          [
           "Michigan",
           "RFC",
           "2011"
          ],
          [
           "Michigan",
           "RFC",
           "2011"
          ],
          [
           "Michigan",
           "RFC",
           "2011"
          ],
          [
           "Michigan",
           "RFC",
           "2011"
          ],
          [
           "Michigan",
           "RFC",
           "2011"
          ],
          [
           "Michigan",
           "RFC",
           "2011"
          ],
          [
           "Michigan",
           "RFC",
           "2011"
          ],
          [
           "Michigan",
           "RFC",
           "2011"
          ],
          [
           "Michigan",
           "RFC",
           "2011"
          ],
          [
           "Michigan",
           "RFC",
           "2011"
          ],
          [
           "Michigan",
           "RFC",
           "2011"
          ],
          [
           "Texas",
           "TRE",
           "2011"
          ],
          [
           "Texas",
           "TRE",
           "2011"
          ],
          [
           "Texas",
           "TRE",
           "2011"
          ],
          [
           "Texas",
           "TRE",
           "2011"
          ],
          [
           "Texas",
           "TRE",
           "2011"
          ],
          [
           "Texas",
           "TRE",
           "2011"
          ],
          [
           "Texas",
           "TRE",
           "2011"
          ],
          [
           "Texas",
           "TRE",
           "2011"
          ],
          [
           "Texas",
           "TRE",
           "2011"
          ],
          [
           "Texas",
           "TRE",
           "2011"
          ],
          [
           "Texas",
           "WECC",
           "2011"
          ],
          [
           "Texas",
           "TRE",
           "2011"
          ],
          [
           "Texas",
           "TRE",
           "2011"
          ],
          [
           "Texas",
           "SPP",
           "2011"
          ],
          [
           "Texas",
           "TRE",
           "2011"
          ],
          [
           "Texas",
           "TRE",
           "2011"
          ],
          [
           "Texas",
           "TRE",
           "2011"
          ],
          [
           "Indiana",
           "RFC",
           "2011"
          ],
          [
           "Indiana",
           "RFC",
           "2011"
          ],
          [
           "Indiana",
           "RFC",
           "2011"
          ],
          [
           "Indiana",
           "RFC",
           "2011"
          ],
          [
           "Indiana",
           "RFC",
           "2011"
          ],
          [
           "Indiana",
           "RFC",
           "2011"
          ],
          [
           "Mississippi",
           "SERC",
           "2011"
          ],
          [
           "Illinois",
           "RFC",
           "2011"
          ],
          [
           "Illinois",
           "RFC",
           "2011"
          ],
          [
           "Illinois",
           "RFC",
           "2011"
          ],
          [
           "Illinois",
           "RFC",
           "2011"
          ],
          [
           "Illinois",
           "SERC",
           "2011"
          ],
          [
           "Illinois",
           "RFC",
           "2011"
          ],
          [
           "Illinois",
           "RFC",
           "2011"
          ],
          [
           "Illinois",
           "RFC",
           "2011"
          ],
          [
           "Illinois",
           "RFC",
           "2011"
          ],
          [
           "Illinois",
           "SERC",
           "2011"
          ],
          [
           "Washington",
           "WECC",
           "2011"
          ],
          [
           "Washington",
           "WECC",
           "2011"
          ],
          [
           "Washington",
           "WECC",
           "2011"
          ],
          [
           "Washington",
           "WECC",
           "2011"
          ],
          [
           "Washington",
           "WECC",
           "2011"
          ],
          [
           "Washington",
           "WECC",
           "2011"
          ],
          [
           "Washington",
           "WECC",
           "2011"
          ],
          [
           "Washington",
           "WECC",
           "2011"
          ],
          [
           "Washington",
           "WECC",
           "2011"
          ],
          [
           "Washington",
           "WECC",
           "2011"
          ],
          [
           "Washington",
           "WECC",
           "2011"
          ],
          [
           "Washington",
           "WECC",
           "2011"
          ],
          [
           "Washington",
           "WECC",
           "2011"
          ],
          [
           "Washington",
           "WECC",
           "2011"
          ],
          [
           "Washington",
           "WECC",
           "2011"
          ],
          [
           "Washington",
           "WECC",
           "2011"
          ],
          [
           "Washington",
           "WECC",
           "2011"
          ],
          [
           "Washington",
           "WECC",
           "2011"
          ],
          [
           "Washington",
           "WECC",
           "2011"
          ],
          [
           "Washington",
           "WECC",
           "2011"
          ],
          [
           "Washington",
           "WECC",
           "2011"
          ],
          [
           "Washington",
           "WECC",
           "2011"
          ],
          [
           "Washington",
           "WECC",
           "2011"
          ],
          [
           "Washington",
           "WECC",
           "2011"
          ],
          [
           "Washington",
           "WECC",
           "2011"
          ],
          [
           "Washington",
           "WECC",
           "2011"
          ],
          [
           "Washington",
           "WECC",
           "2011"
          ],
          [
           "Washington",
           "WECC",
           "2011"
          ],
          [
           "Washington",
           "WECC",
           "2011"
          ],
          [
           "Arizona",
           "WECC",
           "2011"
          ],
          [
           "Arizona",
           "WECC",
           "2011"
          ],
          [
           "Arizona",
           "WECC",
           "2011"
          ],
          [
           "Maryland",
           "RFC",
           "2011"
          ],
          [
           "Maryland",
           "RFC",
           "2011"
          ],
          [
           "Maryland",
           "RFC",
           "2011"
          ],
          [
           "Maryland",
           "RFC",
           "2011"
          ],
          [
           "Maryland",
           "RFC",
           "2011"
          ],
          [
           "Maryland",
           "RFC",
           "2011"
          ],
          [
           "Maryland",
           "RFC",
           "2011"
          ],
          [
           "Maryland",
           "RFC",
           "2011"
          ],
          [
           "Pennsylvania",
           "RFC",
           "2011"
          ],
          [
           "Pennsylvania",
           "RFC",
           "2011"
          ],
          [
           "Pennsylvania",
           "RFC",
           "2011"
          ],
          [
           "Pennsylvania",
           "RFC",
           "2011"
          ],
          [
           "Pennsylvania",
           "RFC",
           "2011"
          ],
          [
           "Pennsylvania",
           "RFC",
           "2011"
          ],
          [
           "Pennsylvania",
           "RFC",
           "2011"
          ],
          [
           "Pennsylvania",
           "RFC",
           "2011"
          ],
          [
           "Pennsylvania",
           "RFC",
           "2011"
          ],
          [
           "Pennsylvania",
           "RFC",
           "2011"
          ],
          [
           "Pennsylvania",
           "RFC",
           "2011"
          ],
          [
           "Pennsylvania",
           "RFC",
           "2011"
          ],
          [
           "Pennsylvania",
           "RFC",
           "2011"
          ],
          [
           "Pennsylvania",
           "RFC",
           "2011"
          ],
          [
           "Kentucky",
           "SERC",
           "2011"
          ],
          [
           "Kentucky",
           "SERC",
           "2011"
          ],
          [
           "Utah",
           "WECC",
           "2011"
          ],
          [
           "Utah",
           "WECC",
           "2011"
          ],
          [
           "Utah",
           "WECC",
           "2011"
          ],
          [
           "Utah",
           "WECC",
           "2011"
          ],
          [
           "Utah",
           "WECC",
           "2011"
          ],
          [
           "Utah",
           "WECC",
           "2011"
          ],
          [
           "Utah",
           "WECC",
           "2011"
          ],
          [
           "Utah",
           "WECC",
           "2011"
          ],
          [
           "Utah",
           "WECC",
           "2011"
          ],
          [
           "Utah",
           "WECC",
           "2011"
          ],
          [
           "Utah",
           "WECC",
           "2011"
          ],
          [
           "Utah",
           "WECC",
           "2011"
          ],
          [
           "Ohio",
           "RFC",
           "2011"
          ],
          [
           "Ohio",
           "RFC",
           "2011"
          ],
          [
           "Ohio",
           "RFC",
           "2011"
          ],
          [
           "Ohio",
           "RFC",
           "2011"
          ],
          [
           "Ohio",
           "RFC",
           "2011"
          ],
          [
           "Ohio",
           "RFC",
           "2011"
          ],
          [
           "Ohio",
           "RFC",
           "2011"
          ],
          [
           "Ohio",
           "RFC",
           "2011"
          ],
          [
           "Ohio",
           "RFC",
           "2011"
          ],
          [
           "Ohio",
           "RFC",
           "2011"
          ],
          [
           "Ohio",
           "RFC",
           "2011"
          ],
          [
           "Ohio",
           "RFC",
           "2011"
          ],
          [
           "North Carolina",
           "SERC",
           "2011"
          ],
          [
           "North Carolina",
           "SERC",
           "2011"
          ],
          [
           "North Carolina",
           "SERC",
           "2011"
          ],
          [
           "North Carolina",
           "SERC",
           "2011"
          ],
          [
           "North Carolina",
           "SERC",
           "2011"
          ],
          [
           "North Carolina",
           "SERC",
           "2011"
          ],
          [
           "New Jersey",
           "RFC",
           "2011"
          ],
          [
           "New Jersey",
           "RFC",
           "2011"
          ],
          [
           "New Jersey",
           "RFC",
           "2011"
          ],
          [
           "New Jersey",
           "RFC",
           "2011"
          ],
          [
           "New Jersey",
           "RFC",
           "2011"
          ],
          [
           "New Jersey",
           "RFC",
           "2011"
          ],
          [
           "New Jersey",
           "RFC",
           "2011"
          ],
          [
           "New Jersey",
           "RFC",
           "2011"
          ],
          [
           "New Jersey",
           "RFC",
           "2011"
          ],
          [
           "New Jersey",
           "RFC",
           "2011"
          ],
          [
           "New Jersey",
           "RFC",
           "2011"
          ],
          [
           "New Jersey",
           "RFC",
           "2011"
          ],
          [
           "South Carolina",
           "SERC",
           "2011"
          ],
          [
           "Oregon",
           "WECC",
           "2011"
          ],
          [
           "Oregon",
           "WECC",
           "2011"
          ],
          [
           "Oregon",
           "WECC",
           "2011"
          ],
          [
           "Oregon",
           "WECC",
           "2011"
          ],
          [
           "Oregon",
           "WECC",
           "2011"
          ],
          [
           "District of Columbia",
           "RFC",
           "2011"
          ],
          [
           "District of Columbia",
           "RFC",
           "2011"
          ],
          [
           "Missouri",
           "SPP",
           "2011"
          ],
          [
           "Missouri",
           "SERC",
           "2011"
          ],
          [
           "Missouri",
           "SERC",
           "2011"
          ],
          [
           "Delaware",
           "RFC",
           "2011"
          ],
          [
           "Delaware",
           "RFC",
           "2011"
          ],
          [
           "Delaware",
           "RFC",
           "2011"
          ],
          [
           "Delaware",
           "RFC",
           "2011"
          ],
          [
           "Delaware",
           "RFC",
           "2011"
          ],
          [
           "Delaware",
           "RFC",
           "2011"
          ],
          [
           "Delaware",
           "RFC",
           "2011"
          ],
          [
           "New York",
           "NPCC",
           "2011"
          ],
          [
           "New York",
           "NPCC",
           "2011"
          ],
          [
           "New York",
           "NPCC",
           "2011"
          ],
          [
           "New York",
           "NPCC",
           "2011"
          ],
          [
           "New York",
           "NPCC",
           "2011"
          ],
          [
           "New York",
           "NPCC",
           "2011"
          ],
          [
           "New York",
           "NPCC",
           "2011"
          ],
          [
           "New York",
           "NPCC",
           "2011"
          ],
          [
           "New York",
           "NPCC",
           "2011"
          ],
          [
           "New York",
           "NPCC",
           "2011"
          ],
          [
           "New York",
           "NPCC",
           "2011"
          ],
          [
           "New York",
           "NPCC",
           "2011"
          ],
          [
           "New York",
           "NPCC",
           "2011"
          ],
          [
           "New York",
           "NPCC",
           "2011"
          ],
          [
           "New York",
           "NPCC",
           "2011"
          ],
          [
           "New York",
           "NPCC",
           "2011"
          ],
          [
           "New York",
           "NPCC",
           "2011"
          ],
          [
           "New York",
           "NPCC",
           "2011"
          ],
          [
           "New York",
           "NPCC",
           "2011"
          ],
          [
           "Louisiana",
           "SERC",
           "2011"
          ],
          [
           "Louisiana",
           "SPP",
           "2011"
          ],
          [
           "Florida",
           "FRCC",
           "2011"
          ],
          [
           "Florida",
           "FRCC",
           "2011"
          ],
          [
           "Florida",
           "FRCC",
           "2011"
          ],
          [
           "California",
           "WECC",
           "2011"
          ],
          [
           "California",
           "WECC",
           "2011"
          ],
          [
           "California",
           "WECC",
           "2011"
          ],
          [
           "California",
           "WECC",
           "2011"
          ],
          [
           "California",
           "WECC",
           "2011"
          ],
          [
           "California",
           "WECC",
           "2011"
          ],
          [
           "California",
           "WECC",
           "2011"
          ],
          [
           "California",
           "WECC",
           "2011"
          ],
          [
           "California",
           "WECC",
           "2011"
          ],
          [
           "California",
           "WECC",
           "2011"
          ],
          [
           "California",
           "WECC",
           "2011"
          ],
          [
           "California",
           "WECC",
           "2011"
          ],
          [
           "California",
           "WECC",
           "2011"
          ],
          [
           "California",
           "WECC",
           "2011"
          ],
          [
           "California",
           "WECC",
           "2011"
          ],
          [
           "California",
           "WECC",
           "2011"
          ],
          [
           "Arkansas",
           "SPP",
           "2011"
          ],
          [
           "Arkansas",
           "SERC",
           "2011"
          ],
          [
           "Arkansas",
           "SPP",
           "2011"
          ],
          [
           "Arkansas",
           "SPP",
           "2011"
          ],
          [
           "Arkansas",
           "SPP",
           "2011"
          ],
          [
           "Arkansas",
           "SPP",
           "2011"
          ],
          [
           "Virginia",
           "SERC",
           "2011"
          ],
          [
           "Virginia",
           "RFC",
           "2011"
          ],
          [
           "Virginia",
           "SERC",
           "2011"
          ],
          [
           "Virginia",
           "SERC",
           "2011"
          ],
          [
           "Virginia",
           "RFC",
           "2011"
          ],
          [
           "Virginia",
           "SERC",
           "2011"
          ],
          [
           "Virginia",
           "SERC",
           "2011"
          ],
          [
           "Wyoming",
           "WECC",
           "2011"
          ],
          [
           "Wyoming",
           "WECC",
           "2011"
          ],
          [
           "Vermont",
           "NPCC",
           "2011"
          ],
          [
           "Vermont",
           "NPCC",
           "2011"
          ],
          [
           "Georgia",
           "SERC",
           "2011"
          ],
          [
           "Georgia",
           "SERC",
           "2011"
          ],
          [
           "Georgia",
           "SERC",
           "2011"
          ],
          [
           "Connecticut",
           "NPCC",
           "2011"
          ],
          [
           "Connecticut",
           "NPCC",
           "2011"
          ],
          [
           "Connecticut",
           "NPCC",
           "2011"
          ],
          [
           "Connecticut",
           "NPCC",
           "2011"
          ],
          [
           "Connecticut",
           "NPCC",
           "2011"
          ],
          [
           "Oklahoma",
           "SPP",
           "2011"
          ],
          [
           "Oklahoma",
           "SPP",
           "2011"
          ],
          [
           "Oklahoma",
           "SPP",
           "2011"
          ],
          [
           "Oklahoma",
           "SPP",
           "2011"
          ],
          [
           "Oklahoma",
           "SPP",
           "2011"
          ],
          [
           "Oklahoma",
           "SPP",
           "2011"
          ],
          [
           "Massachusetts",
           "NPCC",
           "2011"
          ],
          [
           "Massachusetts",
           "NPCC",
           "2011"
          ],
          [
           "Massachusetts",
           "NPCC",
           "2011"
          ],
          [
           "Maine",
           "NPCC",
           "2011"
          ],
          [
           "Maine",
           "NPCC",
           "2011"
          ],
          [
           "Maine",
           "NPCC",
           "2011"
          ],
          [
           "Maine",
           "NPCC",
           "2011"
          ],
          [
           "New Hampshire",
           "NPCC",
           "2011"
          ],
          [
           "New Hampshire",
           "NPCC",
           "2011"
          ],
          [
           "New Hampshire",
           "NPCC",
           "2011"
          ],
          [
           "New Hampshire",
           "NPCC",
           "2011"
          ],
          [
           "New Hampshire",
           "NPCC",
           "2011"
          ],
          [
           "New Hampshire",
           "NPCC",
           "2011"
          ],
          [
           "New Hampshire",
           "NPCC",
           "2011"
          ],
          [
           "Nevada",
           "WECC",
           "2011"
          ],
          [
           "Nevada",
           "WECC",
           "2011"
          ],
          [
           "Colorado",
           "WECC",
           "2011"
          ],
          [
           "Colorado",
           "WECC",
           "2011"
          ],
          [
           "Kansas",
           "SPP",
           "2011"
          ],
          [
           "Hawaii",
           "PR",
           "2011"
          ],
          [
           "Idaho",
           "WECC",
           "2011"
          ],
          [
           "Idaho",
           "WECC",
           "2011"
          ],
          [
           "Idaho",
           "WECC",
           "2011"
          ],
          [
           "North Dakota",
           "MRO",
           "2011"
          ]
         ],
         "hovertemplate": "year=%{customdata[2]}<br>state_region=%{x}<br>duration=%{y}<br>state=%{customdata[0]}<br>nerc_region=%{customdata[1]}<extra></extra>",
         "legendgroup": "2011",
         "marker": {
          "color": "#636efa",
          "symbol": "circle"
         },
         "mode": "markers",
         "name": "2011",
         "showlegend": true,
         "type": "scattergl",
         "x": [
          "Minnesota (MRO)",
          "Minnesota (MRO)",
          "Minnesota (MRO)",
          "Tennessee (SERC)",
          "Tennessee (SERC)",
          "Tennessee (SERC)",
          "Tennessee (SERC)",
          "Tennessee (SERC)",
          "Tennessee (SERC)",
          "Tennessee (SERC)",
          "Michigan (RFC)",
          "Michigan (RFC)",
          "Michigan (RFC)",
          "Michigan (RFC)",
          "Michigan (RFC)",
          "Michigan (RFC)",
          "Michigan (RFC)",
          "Michigan (RFC)",
          "Michigan (RFC)",
          "Michigan (RFC)",
          "Michigan (RFC)",
          "Michigan (RFC)",
          "Michigan (RFC)",
          "Michigan (RFC)",
          "Texas (TRE)",
          "Texas (TRE)",
          "Texas (TRE)",
          "Texas (TRE)",
          "Texas (TRE)",
          "Texas (TRE)",
          "Texas (TRE)",
          "Texas (TRE)",
          "Texas (TRE)",
          "Texas (TRE)",
          "Texas (WECC)",
          "Texas (TRE)",
          "Texas (TRE)",
          "Texas (SPP)",
          "Texas (TRE)",
          "Texas (TRE)",
          "Texas (TRE)",
          "Indiana (RFC)",
          "Indiana (RFC)",
          "Indiana (RFC)",
          "Indiana (RFC)",
          "Indiana (RFC)",
          "Indiana (RFC)",
          "Mississippi (SERC)",
          "Illinois (RFC)",
          "Illinois (RFC)",
          "Illinois (RFC)",
          "Illinois (RFC)",
          "Illinois (SERC)",
          "Illinois (RFC)",
          "Illinois (RFC)",
          "Illinois (RFC)",
          "Illinois (RFC)",
          "Illinois (SERC)",
          "Washington (WECC)",
          "Washington (WECC)",
          "Washington (WECC)",
          "Washington (WECC)",
          "Washington (WECC)",
          "Washington (WECC)",
          "Washington (WECC)",
          "Washington (WECC)",
          "Washington (WECC)",
          "Washington (WECC)",
          "Washington (WECC)",
          "Washington (WECC)",
          "Washington (WECC)",
          "Washington (WECC)",
          "Washington (WECC)",
          "Washington (WECC)",
          "Washington (WECC)",
          "Washington (WECC)",
          "Washington (WECC)",
          "Washington (WECC)",
          "Washington (WECC)",
          "Washington (WECC)",
          "Washington (WECC)",
          "Washington (WECC)",
          "Washington (WECC)",
          "Washington (WECC)",
          "Washington (WECC)",
          "Washington (WECC)",
          "Washington (WECC)",
          "Arizona (WECC)",
          "Arizona (WECC)",
          "Arizona (WECC)",
          "Maryland (RFC)",
          "Maryland (RFC)",
          "Maryland (RFC)",
          "Maryland (RFC)",
          "Maryland (RFC)",
          "Maryland (RFC)",
          "Maryland (RFC)",
          "Maryland (RFC)",
          "Pennsylvania (RFC)",
          "Pennsylvania (RFC)",
          "Pennsylvania (RFC)",
          "Pennsylvania (RFC)",
          "Pennsylvania (RFC)",
          "Pennsylvania (RFC)",
          "Pennsylvania (RFC)",
          "Pennsylvania (RFC)",
          "Pennsylvania (RFC)",
          "Pennsylvania (RFC)",
          "Pennsylvania (RFC)",
          "Pennsylvania (RFC)",
          "Pennsylvania (RFC)",
          "Pennsylvania (RFC)",
          "Kentucky (SERC)",
          "Kentucky (SERC)",
          "Utah (WECC)",
          "Utah (WECC)",
          "Utah (WECC)",
          "Utah (WECC)",
          "Utah (WECC)",
          "Utah (WECC)",
          "Utah (WECC)",
          "Utah (WECC)",
          "Utah (WECC)",
          "Utah (WECC)",
          "Utah (WECC)",
          "Utah (WECC)",
          "Ohio (RFC)",
          "Ohio (RFC)",
          "Ohio (RFC)",
          "Ohio (RFC)",
          "Ohio (RFC)",
          "Ohio (RFC)",
          "Ohio (RFC)",
          "Ohio (RFC)",
          "Ohio (RFC)",
          "Ohio (RFC)",
          "Ohio (RFC)",
          "Ohio (RFC)",
          "North Carolina (SERC)",
          "North Carolina (SERC)",
          "North Carolina (SERC)",
          "North Carolina (SERC)",
          "North Carolina (SERC)",
          "North Carolina (SERC)",
          "New Jersey (RFC)",
          "New Jersey (RFC)",
          "New Jersey (RFC)",
          "New Jersey (RFC)",
          "New Jersey (RFC)",
          "New Jersey (RFC)",
          "New Jersey (RFC)",
          "New Jersey (RFC)",
          "New Jersey (RFC)",
          "New Jersey (RFC)",
          "New Jersey (RFC)",
          "New Jersey (RFC)",
          "South Carolina (SERC)",
          "Oregon (WECC)",
          "Oregon (WECC)",
          "Oregon (WECC)",
          "Oregon (WECC)",
          "Oregon (WECC)",
          "District of Columbia (RFC)",
          "District of Columbia (RFC)",
          "Missouri (SPP)",
          "Missouri (SERC)",
          "Missouri (SERC)",
          "Delaware (RFC)",
          "Delaware (RFC)",
          "Delaware (RFC)",
          "Delaware (RFC)",
          "Delaware (RFC)",
          "Delaware (RFC)",
          "Delaware (RFC)",
          "New York (NPCC)",
          "New York (NPCC)",
          "New York (NPCC)",
          "New York (NPCC)",
          "New York (NPCC)",
          "New York (NPCC)",
          "New York (NPCC)",
          "New York (NPCC)",
          "New York (NPCC)",
          "New York (NPCC)",
          "New York (NPCC)",
          "New York (NPCC)",
          "New York (NPCC)",
          "New York (NPCC)",
          "New York (NPCC)",
          "New York (NPCC)",
          "New York (NPCC)",
          "New York (NPCC)",
          "New York (NPCC)",
          "Louisiana (SERC)",
          "Louisiana (SPP)",
          "Florida (FRCC)",
          "Florida (FRCC)",
          "Florida (FRCC)",
          "California (WECC)",
          "California (WECC)",
          "California (WECC)",
          "California (WECC)",
          "California (WECC)",
          "California (WECC)",
          "California (WECC)",
          "California (WECC)",
          "California (WECC)",
          "California (WECC)",
          "California (WECC)",
          "California (WECC)",
          "California (WECC)",
          "California (WECC)",
          "California (WECC)",
          "California (WECC)",
          "Arkansas (SPP)",
          "Arkansas (SERC)",
          "Arkansas (SPP)",
          "Arkansas (SPP)",
          "Arkansas (SPP)",
          "Arkansas (SPP)",
          "Virginia (SERC)",
          "Virginia (RFC)",
          "Virginia (SERC)",
          "Virginia (SERC)",
          "Virginia (RFC)",
          "Virginia (SERC)",
          "Virginia (SERC)",
          "Wyoming (WECC)",
          "Wyoming (WECC)",
          "Vermont (NPCC)",
          "Vermont (NPCC)",
          "Georgia (SERC)",
          "Georgia (SERC)",
          "Georgia (SERC)",
          "Connecticut (NPCC)",
          "Connecticut (NPCC)",
          "Connecticut (NPCC)",
          "Connecticut (NPCC)",
          "Connecticut (NPCC)",
          "Oklahoma (SPP)",
          "Oklahoma (SPP)",
          "Oklahoma (SPP)",
          "Oklahoma (SPP)",
          "Oklahoma (SPP)",
          "Oklahoma (SPP)",
          "Massachusetts (NPCC)",
          "Massachusetts (NPCC)",
          "Massachusetts (NPCC)",
          "Maine (NPCC)",
          "Maine (NPCC)",
          "Maine (NPCC)",
          "Maine (NPCC)",
          "New Hampshire (NPCC)",
          "New Hampshire (NPCC)",
          "New Hampshire (NPCC)",
          "New Hampshire (NPCC)",
          "New Hampshire (NPCC)",
          "New Hampshire (NPCC)",
          "New Hampshire (NPCC)",
          "Nevada (WECC)",
          "Nevada (WECC)",
          "Colorado (WECC)",
          "Colorado (WECC)",
          "Kansas (SPP)",
          "Hawaii (PR)",
          "Idaho (WECC)",
          "Idaho (WECC)",
          "Idaho (WECC)",
          "North Dakota (MRO)"
         ],
         "xaxis": "x",
         "y": [
          "3060",
          "0",
          "1322",
          "196",
          "0",
          "660",
          "4921",
          "2550",
          "5054",
          "46",
          "3090",
          "1078",
          "2085",
          "4320",
          "1770",
          "11525",
          "5865",
          "1046",
          "1260",
          "200",
          "8430",
          "85",
          "7440",
          "4458",
          "1203",
          "868",
          "480",
          "1335",
          "197",
          "1077",
          "327",
          "1200",
          "1697",
          "240",
          "10",
          "6000",
          "7540",
          "394",
          "1500",
          "74",
          "255",
          "2146",
          "96",
          "0",
          "3314",
          "0",
          "3646",
          "300",
          "1450",
          "1110",
          "1830",
          "1695",
          "120",
          "1290",
          "450",
          "1020",
          "0",
          "120",
          "465",
          "394",
          "0",
          "467",
          "0",
          "1423",
          "60",
          "1620",
          "385",
          "123",
          "1276",
          "440",
          "0",
          "0",
          "1",
          "126",
          "1207",
          "0",
          "0",
          "245",
          "476",
          "369",
          "1",
          "432",
          "1697",
          "0",
          "314",
          "0",
          "355",
          "554",
          "1",
          "215",
          "0",
          "428",
          "1980",
          "3037",
          "4232",
          "17",
          "565",
          "11700",
          "13381",
          "152",
          "7803",
          "2880",
          "2880",
          "4139",
          "930",
          "2880",
          "4260",
          "1324",
          "100",
          "2880",
          "13679",
          "2843",
          "1440",
          "1579",
          "0",
          "57",
          "11",
          "0",
          "1631",
          "56",
          "15",
          "95",
          "300",
          "3186",
          "575",
          "114",
          "0",
          "340",
          "5490",
          "1440",
          "360",
          "1",
          "0",
          "0",
          "352",
          "0",
          "960",
          "3690",
          "1574",
          "388",
          "195",
          "1025",
          "2551",
          "4113",
          "2880",
          "11430",
          "0",
          "375",
          "2520",
          "0",
          "0",
          "0",
          "0",
          "3339",
          "2880",
          "13201",
          "2415",
          "1526",
          "60",
          "0",
          "214",
          "164",
          "2425",
          "6660",
          "12652",
          "2880",
          "120",
          "0",
          "0",
          "457",
          "0",
          "0",
          "0",
          "0",
          "2880",
          "1",
          "5355",
          "0",
          "30",
          "3600",
          "5850",
          "0",
          "23040",
          "6074",
          "2299",
          "420",
          "2880",
          "8221",
          "2880",
          "258",
          "8640",
          "14400",
          "7962",
          "7",
          "1690",
          "2009",
          "540",
          "52",
          "1456",
          "2464",
          "70",
          "8873",
          "2016",
          "3408",
          "4890",
          "133",
          "213",
          "0",
          "53",
          "1260",
          "128",
          "130",
          "6914",
          "9855",
          "3",
          "1201",
          "2806",
          "270",
          "2880",
          "3314",
          "180",
          "0",
          "208",
          "1355",
          "90",
          "1205",
          "160",
          "0",
          "0",
          "1",
          "50",
          "2054",
          "1452",
          "645",
          "0",
          "1440",
          "1",
          "0",
          "210",
          "984",
          "1381",
          "2612",
          "431",
          "0",
          "2895",
          "480",
          "1",
          "0",
          "0",
          "0",
          "195",
          "0",
          "73",
          "200",
          "75",
          "0",
          "0",
          "92",
          "30",
          "1895",
          "1534",
          "2040",
          "284",
          "913",
          "174",
          "0",
          "360",
          "870",
          "720"
         ],
         "yaxis": "y"
        },
        {
         "customdata": [
          [
           "Minnesota",
           "MRO",
           "2014"
          ],
          [
           "Minnesota",
           "MRO",
           "2014"
          ],
          [
           "Tennessee",
           "SERC",
           "2014"
          ],
          [
           "Tennessee",
           "SERC",
           "2014"
          ],
          [
           "Tennessee",
           "SERC",
           "2014"
          ],
          [
           "Tennessee",
           "SERC",
           "2014"
          ],
          [
           "Tennessee",
           "SERC",
           "2014"
          ],
          [
           "Tennessee",
           "SERC",
           "2014"
          ],
          [
           "Tennessee",
           "SERC",
           "2014"
          ],
          [
           "Tennessee",
           "SERC",
           "2014"
          ],
          [
           "Tennessee",
           "SERC",
           "2014"
          ],
          [
           "Wisconsin",
           "MRO",
           "2014"
          ],
          [
           "Wisconsin",
           "MRO",
           "2014"
          ],
          [
           "Wisconsin",
           "RFC",
           "2014"
          ],
          [
           "Wisconsin",
           "MRO",
           "2014"
          ],
          [
           "Wisconsin",
           "MRO",
           "2014"
          ],
          [
           "Wisconsin",
           "MRO",
           "2014"
          ],
          [
           "Wisconsin",
           "MRO",
           "2014"
          ],
          [
           "Wisconsin",
           "MRO",
           "2014"
          ],
          [
           "Wisconsin",
           "MRO",
           "2014"
          ],
          [
           "Wisconsin",
           "MRO",
           "2014"
          ],
          [
           "West Virginia",
           "RFC",
           "2014"
          ],
          [
           "Michigan",
           "RFC",
           "2014"
          ],
          [
           "Michigan",
           "RFC",
           "2014"
          ],
          [
           "Michigan",
           "RFC",
           "2014"
          ],
          [
           "Texas",
           "TRE",
           "2014"
          ],
          [
           "Texas",
           "TRE",
           "2014"
          ],
          [
           "Texas",
           "TRE",
           "2014"
          ],
          [
           "Texas",
           "TRE",
           "2014"
          ],
          [
           "Texas",
           "TRE",
           "2014"
          ],
          [
           "Texas",
           "TRE",
           "2014"
          ],
          [
           "Texas",
           "TRE",
           "2014"
          ],
          [
           "Texas",
           "TRE",
           "2014"
          ],
          [
           "Texas",
           "TRE",
           "2014"
          ],
          [
           "Texas",
           "TRE",
           "2014"
          ],
          [
           "Texas",
           "TRE",
           "2014"
          ],
          [
           "Indiana",
           "RFC",
           "2014"
          ],
          [
           "Indiana",
           "RFC",
           "2014"
          ],
          [
           "Indiana",
           "RFC",
           "2014"
          ],
          [
           "Alabama",
           "SERC",
           "2014"
          ],
          [
           "Mississippi",
           "SERC",
           "2014"
          ],
          [
           "Mississippi",
           "SERC",
           "2014"
          ],
          [
           "Illinois",
           "RFC",
           "2014"
          ],
          [
           "Illinois",
           "RFC",
           "2014"
          ],
          [
           "Washington",
           "WECC",
           "2014"
          ],
          [
           "Washington",
           "WECC",
           "2014"
          ],
          [
           "Washington",
           "WECC",
           "2014"
          ],
          [
           "Arizona",
           "WECC",
           "2014"
          ],
          [
           "Arizona",
           "WECC",
           "2014"
          ],
          [
           "Arizona",
           "WECC",
           "2014"
          ],
          [
           "Arizona",
           "WECC",
           "2014"
          ],
          [
           "Arizona",
           "WECC",
           "2014"
          ],
          [
           "Arizona",
           "WECC",
           "2014"
          ],
          [
           "Maryland",
           "RFC",
           "2014"
          ],
          [
           "Maryland",
           "RFC",
           "2014"
          ],
          [
           "Maryland",
           "RFC",
           "2014"
          ],
          [
           "Pennsylvania",
           "RFC",
           "2014"
          ],
          [
           "Pennsylvania",
           "RFC",
           "2014"
          ],
          [
           "Pennsylvania",
           "RFC",
           "2014"
          ],
          [
           "Pennsylvania",
           "RFC",
           "2014"
          ],
          [
           "Pennsylvania",
           "RFC",
           "2014"
          ],
          [
           "Pennsylvania",
           "RFC",
           "2014"
          ],
          [
           "Kentucky",
           "RFC",
           "2014"
          ],
          [
           "Utah",
           "WECC",
           "2014"
          ],
          [
           "Utah",
           "RFC",
           "2014"
          ],
          [
           "Utah",
           "WECC",
           "2014"
          ],
          [
           "Utah",
           "WECC",
           "2014"
          ],
          [
           "Utah",
           "WECC",
           "2014"
          ],
          [
           "Utah",
           "WECC",
           "2014"
          ],
          [
           "Ohio",
           "RFC",
           "2014"
          ],
          [
           "Ohio",
           "RFC",
           "2014"
          ],
          [
           "North Carolina",
           "SERC",
           "2014"
          ],
          [
           "North Carolina",
           "SERC",
           "2014"
          ],
          [
           "North Carolina",
           "SERC",
           "2014"
          ],
          [
           "North Carolina",
           "SERC",
           "2014"
          ],
          [
           "North Carolina",
           "SERC",
           "2014"
          ],
          [
           "North Carolina",
           "SERC",
           "2014"
          ],
          [
           "New Jersey",
           "RFC",
           "2014"
          ],
          [
           "New Jersey",
           "RFC",
           "2014"
          ],
          [
           "New Jersey",
           "RFC",
           "2014"
          ],
          [
           "South Carolina",
           "SERC",
           "2014"
          ],
          [
           "South Carolina",
           "SERC",
           "2014"
          ],
          [
           "South Carolina",
           "SERC",
           "2014"
          ],
          [
           "Oregon",
           "WECC",
           "2014"
          ],
          [
           "Oregon",
           "WECC",
           "2014"
          ],
          [
           "Oregon",
           "WECC",
           "2014"
          ],
          [
           "Oregon",
           "WECC",
           "2014"
          ],
          [
           "District of Columbia",
           "RFC",
           "2014"
          ],
          [
           "Missouri",
           "SERC",
           "2014"
          ],
          [
           "Delaware",
           "RFC",
           "2014"
          ],
          [
           "Delaware",
           "RFC",
           "2014"
          ],
          [
           "Iowa",
           "MRO",
           "2014"
          ],
          [
           "Iowa",
           "MRO",
           "2014"
          ],
          [
           "Iowa",
           "MRO",
           "2014"
          ],
          [
           "Montana",
           "WECC",
           "2014"
          ],
          [
           "New York",
           "NPCC",
           "2014"
          ],
          [
           "New York",
           "NPCC",
           "2014"
          ],
          [
           "New York",
           "NPCC",
           "2014"
          ],
          [
           "New York",
           "NPCC",
           "2014"
          ],
          [
           "Louisiana",
           "SERC",
           "2014"
          ],
          [
           "California",
           "WECC",
           "2014"
          ],
          [
           "California",
           "WECC",
           "2014"
          ],
          [
           "California",
           "WECC",
           "2014"
          ],
          [
           "California",
           "WECC",
           "2014"
          ],
          [
           "California",
           "WECC",
           "2014"
          ],
          [
           "California",
           "WECC",
           "2014"
          ],
          [
           "California",
           "WECC",
           "2014"
          ],
          [
           "California",
           "WECC",
           "2014"
          ],
          [
           "Arkansas",
           "SERC",
           "2014"
          ],
          [
           "Vermont",
           "NPCC",
           "2014"
          ],
          [
           "Georgia",
           "SERC",
           "2014"
          ],
          [
           "Georgia",
           "SERC",
           "2014"
          ]
         ],
         "hovertemplate": "year=%{customdata[2]}<br>state_region=%{x}<br>duration=%{y}<br>state=%{customdata[0]}<br>nerc_region=%{customdata[1]}<extra></extra>",
         "legendgroup": "2014",
         "marker": {
          "color": "#EF553B",
          "symbol": "circle"
         },
         "mode": "markers",
         "name": "2014",
         "showlegend": true,
         "type": "scattergl",
         "x": [
          "Minnesota (MRO)",
          "Minnesota (MRO)",
          "Tennessee (SERC)",
          "Tennessee (SERC)",
          "Tennessee (SERC)",
          "Tennessee (SERC)",
          "Tennessee (SERC)",
          "Tennessee (SERC)",
          "Tennessee (SERC)",
          "Tennessee (SERC)",
          "Tennessee (SERC)",
          "Wisconsin (MRO)",
          "Wisconsin (MRO)",
          "Wisconsin (RFC)",
          "Wisconsin (MRO)",
          "Wisconsin (MRO)",
          "Wisconsin (MRO)",
          "Wisconsin (MRO)",
          "Wisconsin (MRO)",
          "Wisconsin (MRO)",
          "Wisconsin (MRO)",
          "West Virginia (RFC)",
          "Michigan (RFC)",
          "Michigan (RFC)",
          "Michigan (RFC)",
          "Texas (TRE)",
          "Texas (TRE)",
          "Texas (TRE)",
          "Texas (TRE)",
          "Texas (TRE)",
          "Texas (TRE)",
          "Texas (TRE)",
          "Texas (TRE)",
          "Texas (TRE)",
          "Texas (TRE)",
          "Texas (TRE)",
          "Indiana (RFC)",
          "Indiana (RFC)",
          "Indiana (RFC)",
          "Alabama (SERC)",
          "Mississippi (SERC)",
          "Mississippi (SERC)",
          "Illinois (RFC)",
          "Illinois (RFC)",
          "Washington (WECC)",
          "Washington (WECC)",
          "Washington (WECC)",
          "Arizona (WECC)",
          "Arizona (WECC)",
          "Arizona (WECC)",
          "Arizona (WECC)",
          "Arizona (WECC)",
          "Arizona (WECC)",
          "Maryland (RFC)",
          "Maryland (RFC)",
          "Maryland (RFC)",
          "Pennsylvania (RFC)",
          "Pennsylvania (RFC)",
          "Pennsylvania (RFC)",
          "Pennsylvania (RFC)",
          "Pennsylvania (RFC)",
          "Pennsylvania (RFC)",
          "Kentucky (RFC)",
          "Utah (WECC)",
          "Utah (RFC)",
          "Utah (WECC)",
          "Utah (WECC)",
          "Utah (WECC)",
          "Utah (WECC)",
          "Ohio (RFC)",
          "Ohio (RFC)",
          "North Carolina (SERC)",
          "North Carolina (SERC)",
          "North Carolina (SERC)",
          "North Carolina (SERC)",
          "North Carolina (SERC)",
          "North Carolina (SERC)",
          "New Jersey (RFC)",
          "New Jersey (RFC)",
          "New Jersey (RFC)",
          "South Carolina (SERC)",
          "South Carolina (SERC)",
          "South Carolina (SERC)",
          "Oregon (WECC)",
          "Oregon (WECC)",
          "Oregon (WECC)",
          "Oregon (WECC)",
          "District of Columbia (RFC)",
          "Missouri (SERC)",
          "Delaware (RFC)",
          "Delaware (RFC)",
          "Iowa (MRO)",
          "Iowa (MRO)",
          "Iowa (MRO)",
          "Montana (WECC)",
          "New York (NPCC)",
          "New York (NPCC)",
          "New York (NPCC)",
          "New York (NPCC)",
          "Louisiana (SERC)",
          "California (WECC)",
          "California (WECC)",
          "California (WECC)",
          "California (WECC)",
          "California (WECC)",
          "California (WECC)",
          "California (WECC)",
          "California (WECC)",
          "Arkansas (SERC)",
          "Vermont (NPCC)",
          "Georgia (SERC)",
          "Georgia (SERC)"
         ],
         "xaxis": "x",
         "y": [
          "1",
          "60",
          "150",
          "1",
          "1",
          "4125",
          "1200",
          "528",
          "150",
          "1",
          "1920",
          null,
          "135",
          "108653",
          "8468",
          "44",
          "90",
          "18660",
          "538",
          "60",
          "60",
          "1000",
          "4290",
          "2325",
          "2760",
          "1195",
          "1559",
          "5",
          null,
          "402",
          "220",
          null,
          "2280",
          "990",
          "45",
          "1",
          "1060",
          "3",
          "2580",
          "390",
          "30",
          "1",
          "2790",
          "2761",
          "1183",
          "548",
          "1",
          "353",
          "1",
          "87",
          "1",
          null,
          "451",
          "1840",
          "1196",
          "1",
          "59",
          "1",
          "2668",
          "1",
          "6940",
          "54",
          "1",
          "1",
          "1",
          "13",
          "1",
          "1",
          "1",
          "0",
          "634",
          "4510",
          "1265",
          "3120",
          "985",
          "182",
          "1050",
          null,
          "353",
          null,
          "180",
          "4177",
          "300",
          "2",
          "120",
          "840",
          "1",
          "54",
          "25",
          "30",
          "53",
          "251",
          "21360",
          "2880",
          "56",
          "0",
          "25920",
          "1",
          "60480",
          "52",
          "540",
          "370",
          null,
          "1",
          "617",
          "324",
          null,
          "1",
          "285",
          "1",
          "1087",
          "4122"
         ],
         "yaxis": "y"
        },
        {
         "customdata": [
          [
           "Minnesota",
           "MRO",
           "2010"
          ],
          [
           "Minnesota",
           "MRO",
           "2010"
          ],
          [
           "Minnesota",
           "MRO",
           "2010"
          ],
          [
           "Wisconsin",
           "MRO",
           "2010"
          ],
          [
           "Wisconsin",
           "MRO",
           "2010"
          ],
          [
           "Michigan",
           "RFC",
           "2010"
          ],
          [
           "Michigan",
           "RFC",
           "2010"
          ],
          [
           "Michigan",
           "RFC",
           "2010"
          ],
          [
           "Michigan",
           "RFC",
           "2010"
          ],
          [
           "Michigan",
           "RFC",
           "2010"
          ],
          [
           "Michigan",
           "RFC",
           "2010"
          ],
          [
           "Michigan",
           "RFC",
           "2010"
          ],
          [
           "Michigan",
           "RFC",
           "2010"
          ],
          [
           "Texas",
           "TRE",
           "2010"
          ],
          [
           "Texas",
           "TRE",
           "2010"
          ],
          [
           "Texas",
           "TRE",
           "2010"
          ],
          [
           "Texas",
           "TRE",
           "2010"
          ],
          [
           "Texas",
           "TRE",
           "2010"
          ],
          [
           "Indiana",
           "RFC",
           "2010"
          ],
          [
           "Indiana",
           "RFC",
           "2010"
          ],
          [
           "Indiana",
           "RFC",
           "2010"
          ],
          [
           "Illinois",
           "RFC",
           "2010"
          ],
          [
           "Illinois",
           "RFC",
           "2010"
          ],
          [
           "Illinois",
           "RFC",
           "2010"
          ],
          [
           "Illinois",
           "RFC",
           "2010"
          ],
          [
           "Washington",
           "WECC",
           "2010"
          ],
          [
           "Washington",
           "WECC",
           "2010"
          ],
          [
           "Maryland",
           "RFC",
           "2010"
          ],
          [
           "Maryland",
           "RFC",
           "2010"
          ],
          [
           "Pennsylvania",
           "RFC",
           "2010"
          ],
          [
           "Pennsylvania",
           "RFC",
           "2010"
          ],
          [
           "Pennsylvania",
           "RFC",
           "2010"
          ],
          [
           "Pennsylvania",
           "RFC",
           "2010"
          ],
          [
           "Pennsylvania",
           "RFC",
           "2010"
          ],
          [
           "Pennsylvania",
           "RFC",
           "2010"
          ],
          [
           "Pennsylvania",
           "RFC",
           "2010"
          ],
          [
           "Pennsylvania",
           "RFC",
           "2010"
          ],
          [
           "Utah",
           "WECC",
           "2010"
          ],
          [
           "Ohio",
           "RFC",
           "2010"
          ],
          [
           "North Carolina",
           "SERC",
           "2010"
          ],
          [
           "North Carolina",
           "SERC",
           "2010"
          ],
          [
           "New Jersey",
           "RFC",
           "2010"
          ],
          [
           "New Jersey",
           "RFC",
           "2010"
          ],
          [
           "New Jersey",
           "RFC",
           "2010"
          ],
          [
           "New Jersey",
           "RFC",
           "2010"
          ],
          [
           "District of Columbia",
           "RFC",
           "2010"
          ],
          [
           "District of Columbia",
           "RFC",
           "2010"
          ],
          [
           "District of Columbia",
           "RFC",
           "2010"
          ],
          [
           "Delaware",
           "RFC",
           "2010"
          ],
          [
           "Montana",
           "MRO",
           "2010"
          ],
          [
           "New York",
           "NPCC",
           "2010"
          ],
          [
           "New York",
           "NPCC",
           "2010"
          ],
          [
           "New York",
           "NPCC",
           "2010"
          ],
          [
           "New York",
           "NPCC",
           "2010"
          ],
          [
           "New York",
           "NPCC",
           "2010"
          ],
          [
           "New York",
           "NPCC",
           "2010"
          ],
          [
           "New York",
           "RFC",
           "2010"
          ],
          [
           "Louisiana",
           "SERC",
           "2010"
          ],
          [
           "Louisiana",
           "SPP",
           "2010"
          ],
          [
           "Louisiana",
           "SERC",
           "2010"
          ],
          [
           "Louisiana",
           "SERC",
           "2010"
          ],
          [
           "Louisiana",
           "SERC",
           "2010"
          ],
          [
           "Louisiana",
           "SPP",
           "2010"
          ],
          [
           "Louisiana",
           "SERC",
           "2010"
          ],
          [
           "Louisiana",
           "SPP",
           "2010"
          ],
          [
           "Louisiana",
           "SERC",
           "2010"
          ],
          [
           "Louisiana",
           "SERC",
           "2010"
          ],
          [
           "Florida",
           "FRCC, SERC",
           "2010"
          ],
          [
           "California",
           "WECC",
           "2010"
          ],
          [
           "California",
           "WECC",
           "2010"
          ],
          [
           "California",
           "WECC",
           "2010"
          ],
          [
           "California",
           "WECC",
           "2010"
          ],
          [
           "California",
           "WECC",
           "2010"
          ],
          [
           "California",
           "WECC",
           "2010"
          ],
          [
           "California",
           "WECC",
           "2010"
          ],
          [
           "California",
           "WECC",
           "2010"
          ],
          [
           "California",
           "WECC",
           "2010"
          ],
          [
           "California",
           "WECC",
           "2010"
          ],
          [
           "California",
           "WECC",
           "2010"
          ],
          [
           "California",
           "WECC",
           "2010"
          ],
          [
           "California",
           "WECC",
           "2010"
          ],
          [
           "California",
           "WECC",
           "2010"
          ],
          [
           "California",
           "WECC",
           "2010"
          ],
          [
           "California",
           "WECC",
           "2010"
          ],
          [
           "California",
           "WECC",
           "2010"
          ],
          [
           "California",
           "WECC",
           "2010"
          ],
          [
           "California",
           "WECC",
           "2010"
          ],
          [
           "California",
           "WECC",
           "2010"
          ],
          [
           "California",
           "WECC",
           "2010"
          ],
          [
           "California",
           "WECC",
           "2010"
          ],
          [
           "California",
           "WECC",
           "2010"
          ],
          [
           "California",
           "WECC",
           "2010"
          ],
          [
           "California",
           "WECC",
           "2010"
          ],
          [
           "Arkansas",
           "SERC",
           "2010"
          ],
          [
           "Virginia",
           "SERC",
           "2010"
          ],
          [
           "Virginia",
           "SERC",
           "2010"
          ],
          [
           "Virginia",
           "RFC",
           "2010"
          ],
          [
           "Virginia",
           "SERC",
           "2010"
          ],
          [
           "Nebraska",
           "SPP",
           "2010"
          ],
          [
           "Wyoming",
           "WECC",
           "2010"
          ],
          [
           "Connecticut",
           "NPCC",
           "2010"
          ],
          [
           "Connecticut",
           "NPCC",
           "2010"
          ],
          [
           "Oklahoma",
           "SPP",
           "2010"
          ],
          [
           "Oklahoma",
           "SPP",
           "2010"
          ],
          [
           "Maine",
           "NPCC",
           "2010"
          ],
          [
           "Colorado",
           "WECC",
           "2010"
          ]
         ],
         "hovertemplate": "year=%{customdata[2]}<br>state_region=%{x}<br>duration=%{y}<br>state=%{customdata[0]}<br>nerc_region=%{customdata[1]}<extra></extra>",
         "legendgroup": "2010",
         "marker": {
          "color": "#00cc96",
          "symbol": "circle"
         },
         "mode": "markers",
         "name": "2010",
         "showlegend": true,
         "type": "scattergl",
         "x": [
          "Minnesota (MRO)",
          "Minnesota (MRO)",
          "Minnesota (MRO)",
          "Wisconsin (MRO)",
          "Wisconsin (MRO)",
          "Michigan (RFC)",
          "Michigan (RFC)",
          "Michigan (RFC)",
          "Michigan (RFC)",
          "Michigan (RFC)",
          "Michigan (RFC)",
          "Michigan (RFC)",
          "Michigan (RFC)",
          "Texas (TRE)",
          "Texas (TRE)",
          "Texas (TRE)",
          "Texas (TRE)",
          "Texas (TRE)",
          "Indiana (RFC)",
          "Indiana (RFC)",
          "Indiana (RFC)",
          "Illinois (RFC)",
          "Illinois (RFC)",
          "Illinois (RFC)",
          "Illinois (RFC)",
          "Washington (WECC)",
          "Washington (WECC)",
          "Maryland (RFC)",
          "Maryland (RFC)",
          "Pennsylvania (RFC)",
          "Pennsylvania (RFC)",
          "Pennsylvania (RFC)",
          "Pennsylvania (RFC)",
          "Pennsylvania (RFC)",
          "Pennsylvania (RFC)",
          "Pennsylvania (RFC)",
          "Pennsylvania (RFC)",
          "Utah (WECC)",
          "Ohio (RFC)",
          "North Carolina (SERC)",
          "North Carolina (SERC)",
          "New Jersey (RFC)",
          "New Jersey (RFC)",
          "New Jersey (RFC)",
          "New Jersey (RFC)",
          "District of Columbia (RFC)",
          "District of Columbia (RFC)",
          "District of Columbia (RFC)",
          "Delaware (RFC)",
          "Montana (MRO)",
          "New York (NPCC)",
          "New York (NPCC)",
          "New York (NPCC)",
          "New York (NPCC)",
          "New York (NPCC)",
          "New York (NPCC)",
          "New York (RFC)",
          "Louisiana (SERC)",
          "Louisiana (SPP)",
          "Louisiana (SERC)",
          "Louisiana (SERC)",
          "Louisiana (SERC)",
          "Louisiana (SPP)",
          "Louisiana (SERC)",
          "Louisiana (SPP)",
          "Louisiana (SERC)",
          "Louisiana (SERC)",
          "Florida (FRCC, SERC)",
          "California (WECC)",
          "California (WECC)",
          "California (WECC)",
          "California (WECC)",
          "California (WECC)",
          "California (WECC)",
          "California (WECC)",
          "California (WECC)",
          "California (WECC)",
          "California (WECC)",
          "California (WECC)",
          "California (WECC)",
          "California (WECC)",
          "California (WECC)",
          "California (WECC)",
          "California (WECC)",
          "California (WECC)",
          "California (WECC)",
          "California (WECC)",
          "California (WECC)",
          "California (WECC)",
          "California (WECC)",
          "California (WECC)",
          "California (WECC)",
          "California (WECC)",
          "Arkansas (SERC)",
          "Virginia (SERC)",
          "Virginia (SERC)",
          "Virginia (RFC)",
          "Virginia (SERC)",
          "Nebraska (SPP)",
          "Wyoming (WECC)",
          "Connecticut (NPCC)",
          "Connecticut (NPCC)",
          "Oklahoma (SPP)",
          "Oklahoma (SPP)",
          "Maine (NPCC)",
          "Colorado (WECC)"
         ],
         "xaxis": "x",
         "y": [
          "3000",
          "1860",
          "2970",
          "388",
          "480",
          "5730",
          "2820",
          "5610",
          "4170",
          "6030",
          "600",
          "4260",
          "1019",
          "2142",
          "360",
          "6300",
          "685",
          "940",
          "1980",
          "513",
          "23187",
          "2680",
          "3000",
          "2700",
          "2100",
          "2460",
          "2700",
          "7700",
          "3040",
          "2865",
          "9450",
          "4792",
          "3232",
          "5320",
          "376",
          "7709",
          "7080",
          "2275",
          "1843",
          "0",
          "42",
          "7020",
          "3300",
          "11580",
          "9719",
          "9886",
          "390",
          "855",
          "50",
          "13",
          "10080",
          "9480",
          "5760",
          "7320",
          "2520",
          "21",
          "18240",
          "2775",
          "2775",
          "2775",
          "2775",
          "430",
          "557",
          "467",
          "430",
          "2880",
          "295",
          "372",
          "177",
          "144",
          "56",
          "1470",
          "294",
          "871",
          "451",
          "199",
          "1524",
          "268",
          "39",
          "14190",
          "6070",
          "47",
          "660",
          "135",
          "50",
          "1008",
          "2895",
          "5",
          "11",
          "47",
          "251",
          "122",
          "5227",
          "206",
          "144",
          "235",
          "3366",
          "30",
          "159",
          "61",
          "76",
          "3305",
          "7200",
          "148",
          "673",
          "391"
         ],
         "yaxis": "y"
        },
        {
         "customdata": [
          [
           "Minnesota",
           "MRO",
           "2012"
          ],
          [
           "Tennessee",
           "SERC",
           "2012"
          ],
          [
           "Tennessee",
           "SERC",
           "2012"
          ],
          [
           "Tennessee",
           "SERC",
           "2012"
          ],
          [
           "West Virginia",
           "RFC",
           "2012"
          ],
          [
           "West Virginia",
           "RFC",
           "2012"
          ],
          [
           "Michigan",
           "RFC",
           "2012"
          ],
          [
           "Michigan",
           "RFC",
           "2012"
          ],
          [
           "Michigan",
           "RFC",
           "2012"
          ],
          [
           "Michigan",
           "RFC",
           "2012"
          ],
          [
           "Michigan",
           "RFC",
           "2012"
          ],
          [
           "Michigan",
           "RFC",
           "2012"
          ],
          [
           "Texas",
           "WECC",
           "2012"
          ],
          [
           "Texas",
           "TRE",
           "2012"
          ],
          [
           "Texas",
           "TRE",
           "2012"
          ],
          [
           "Texas",
           "TRE",
           "2012"
          ],
          [
           "Texas",
           "TRE",
           "2012"
          ],
          [
           "Texas",
           "SPP",
           "2012"
          ],
          [
           "Texas",
           "TRE",
           "2012"
          ],
          [
           "Texas",
           "TRE",
           "2012"
          ],
          [
           "Texas",
           "TRE",
           "2012"
          ],
          [
           "Texas",
           "TRE",
           "2012"
          ],
          [
           "Texas",
           "SERC",
           "2012"
          ],
          [
           "Indiana",
           "RFC",
           "2012"
          ],
          [
           "Indiana",
           "RFC",
           "2012"
          ],
          [
           "Indiana",
           "RFC",
           "2012"
          ],
          [
           "Indiana",
           "RFC",
           "2012"
          ],
          [
           "Indiana",
           "RFC",
           "2012"
          ],
          [
           "Indiana",
           "RFC",
           "2012"
          ],
          [
           "Illinois",
           "RFC",
           "2012"
          ],
          [
           "Illinois",
           "RFC",
           "2012"
          ],
          [
           "Illinois",
           "RFC",
           "2012"
          ],
          [
           "Illinois",
           "RFC",
           "2012"
          ],
          [
           "Illinois",
           "RFC",
           "2012"
          ],
          [
           "Washington",
           "WECC",
           "2012"
          ],
          [
           "Washington",
           "WECC",
           "2012"
          ],
          [
           "Washington",
           "WECC",
           "2012"
          ],
          [
           "Washington",
           "WECC",
           "2012"
          ],
          [
           "Washington",
           "WECC",
           "2012"
          ],
          [
           "Washington",
           "WECC",
           "2012"
          ],
          [
           "Washington",
           "WECC",
           "2012"
          ],
          [
           "Washington",
           "WECC",
           "2012"
          ],
          [
           "Washington",
           "WECC",
           "2012"
          ],
          [
           "Washington",
           "WECC",
           "2012"
          ],
          [
           "Washington",
           "WECC",
           "2012"
          ],
          [
           "Washington",
           "WECC",
           "2012"
          ],
          [
           "Washington",
           "WECC",
           "2012"
          ],
          [
           "Washington",
           "WECC",
           "2012"
          ],
          [
           "Washington",
           "WECC",
           "2012"
          ],
          [
           "Washington",
           "WECC",
           "2012"
          ],
          [
           "Washington",
           "WECC",
           "2012"
          ],
          [
           "Washington",
           "WECC",
           "2012"
          ],
          [
           "Washington",
           "WECC",
           "2012"
          ],
          [
           "Washington",
           "WECC",
           "2012"
          ],
          [
           "Washington",
           "WECC",
           "2012"
          ],
          [
           "Washington",
           "WECC",
           "2012"
          ],
          [
           "Washington",
           "WECC",
           "2012"
          ],
          [
           "Washington",
           "WECC",
           "2012"
          ],
          [
           "Maryland",
           "RFC",
           "2012"
          ],
          [
           "Maryland",
           "RFC",
           "2012"
          ],
          [
           "Maryland",
           "RFC",
           "2012"
          ],
          [
           "Maryland",
           "RFC",
           "2012"
          ],
          [
           "Maryland",
           "RFC",
           "2012"
          ],
          [
           "Maryland",
           "RFC",
           "2012"
          ],
          [
           "Maryland",
           "RFC",
           "2012"
          ],
          [
           "Maryland",
           "RFC",
           "2012"
          ],
          [
           "Maryland",
           "RFC",
           "2012"
          ],
          [
           "Maryland",
           "RFC",
           "2012"
          ],
          [
           "Maryland",
           "RFC",
           "2012"
          ],
          [
           "Maryland",
           "RFC",
           "2012"
          ],
          [
           "Maryland",
           "RFC",
           "2012"
          ],
          [
           "Maryland",
           "RFC",
           "2012"
          ],
          [
           "Maryland",
           "RFC",
           "2012"
          ],
          [
           "Maryland",
           "RFC",
           "2012"
          ],
          [
           "Pennsylvania",
           "RFC",
           "2012"
          ],
          [
           "Pennsylvania",
           "RFC",
           "2012"
          ],
          [
           "Pennsylvania",
           "RFC",
           "2012"
          ],
          [
           "Pennsylvania",
           "RFC",
           "2012"
          ],
          [
           "Pennsylvania",
           "RFC",
           "2012"
          ],
          [
           "Pennsylvania",
           "RFC",
           "2012"
          ],
          [
           "Ohio",
           "RFC",
           "2012"
          ],
          [
           "Ohio",
           "RFC",
           "2012"
          ],
          [
           "Ohio",
           "RFC",
           "2012"
          ],
          [
           "Ohio",
           "RFC",
           "2012"
          ],
          [
           "Ohio",
           "RFC",
           "2012"
          ],
          [
           "Ohio",
           "RFC",
           "2012"
          ],
          [
           "North Carolina",
           "SERC",
           "2012"
          ],
          [
           "North Carolina",
           "SERC",
           "2012"
          ],
          [
           "North Carolina",
           "SERC",
           "2012"
          ],
          [
           "North Carolina",
           "SERC",
           "2012"
          ],
          [
           "North Carolina",
           "SERC",
           "2012"
          ],
          [
           "New Jersey",
           "RFC",
           "2012"
          ],
          [
           "New Jersey",
           "NPCC",
           "2012"
          ],
          [
           "New Jersey",
           "RFC",
           "2012"
          ],
          [
           "New Jersey",
           "RFC",
           "2012"
          ],
          [
           "New Jersey",
           "RFC",
           "2012"
          ],
          [
           "Oregon",
           "WECC",
           "2012"
          ],
          [
           "District of Columbia",
           "RFC",
           "2012"
          ],
          [
           "Delaware",
           "RFC",
           "2012"
          ],
          [
           "Delaware",
           "RFC",
           "2012"
          ],
          [
           "Delaware",
           "RFC",
           "2012"
          ],
          [
           "Delaware",
           "RFC",
           "2012"
          ],
          [
           "Delaware",
           "RFC",
           "2012"
          ],
          [
           "Delaware",
           "RFC",
           "2012"
          ],
          [
           "Delaware",
           "RFC",
           "2012"
          ],
          [
           "Delaware",
           "RFC",
           "2012"
          ],
          [
           "Delaware",
           "RFC",
           "2012"
          ],
          [
           "Delaware",
           "RFC",
           "2012"
          ],
          [
           "Delaware",
           "RFC",
           "2012"
          ],
          [
           "Delaware",
           "RFC",
           "2012"
          ],
          [
           "Delaware",
           "RFC",
           "2012"
          ],
          [
           "Delaware",
           "RFC",
           "2012"
          ],
          [
           "Iowa",
           "MRO",
           "2012"
          ],
          [
           "New York",
           "NPCC",
           "2012"
          ],
          [
           "New York",
           "NPCC",
           "2012"
          ],
          [
           "New York",
           "NPCC",
           "2012"
          ],
          [
           "New York",
           "NPCC",
           "2012"
          ],
          [
           "New York",
           "NPCC",
           "2012"
          ],
          [
           "Louisiana",
           "SERC",
           "2012"
          ],
          [
           "Louisiana",
           "SPP",
           "2012"
          ],
          [
           "Louisiana",
           "SERC",
           "2012"
          ],
          [
           "Louisiana",
           "SERC",
           "2012"
          ],
          [
           "Florida",
           "FRCC",
           "2012"
          ],
          [
           "California",
           "WECC",
           "2012"
          ],
          [
           "California",
           "WECC",
           "2012"
          ],
          [
           "California",
           "WECC",
           "2012"
          ],
          [
           "California",
           "WECC",
           "2012"
          ],
          [
           "California",
           "WECC",
           "2012"
          ],
          [
           "California",
           "WECC",
           "2012"
          ],
          [
           "California",
           "WECC",
           "2012"
          ],
          [
           "California",
           "WECC",
           "2012"
          ],
          [
           "California",
           "WECC",
           "2012"
          ],
          [
           "California",
           "WECC",
           "2012"
          ],
          [
           "California",
           "WECC",
           "2012"
          ],
          [
           "California",
           "WECC",
           "2012"
          ],
          [
           "Arkansas",
           "SERC",
           "2012"
          ],
          [
           "Arkansas",
           "SERC",
           "2012"
          ],
          [
           "Arkansas",
           "SERC",
           "2012"
          ],
          [
           "Arkansas",
           "SERC",
           "2012"
          ],
          [
           "Arkansas",
           "SPP",
           "2012"
          ],
          [
           "Virginia",
           "RFC",
           "2012"
          ],
          [
           "Virginia",
           "SERC",
           "2012"
          ],
          [
           "Virginia",
           "SERC",
           "2012"
          ],
          [
           "Virginia",
           "SERC",
           "2012"
          ],
          [
           "New Mexico",
           "WECC",
           "2012"
          ],
          [
           "Vermont",
           "NPCC",
           "2012"
          ],
          [
           "Vermont",
           "NPCC",
           "2012"
          ],
          [
           "Vermont",
           "NPCC",
           "2012"
          ],
          [
           "Vermont",
           "NPCC",
           "2012"
          ],
          [
           "Vermont",
           "NPCC",
           "2012"
          ],
          [
           "Georgia",
           "SERC",
           "2012"
          ],
          [
           "Connecticut",
           "NPCC",
           "2012"
          ],
          [
           "Oklahoma",
           "SPP",
           "2012"
          ],
          [
           "Oklahoma",
           "SPP",
           "2012"
          ],
          [
           "Oklahoma",
           "SPP",
           "2012"
          ],
          [
           "Massachusetts",
           "NPCC",
           "2012"
          ],
          [
           "Massachusetts",
           "NPCC",
           "2012"
          ],
          [
           "Massachusetts",
           "NPCC",
           "2012"
          ],
          [
           "Massachusetts",
           "NPCC",
           "2012"
          ],
          [
           "Massachusetts",
           "NPCC",
           "2012"
          ],
          [
           "Massachusetts",
           "NPCC",
           "2012"
          ],
          [
           "Massachusetts",
           "NPCC",
           "2012"
          ],
          [
           "Maine",
           "NPCC",
           "2012"
          ],
          [
           "New Hampshire",
           "NPCC",
           "2012"
          ],
          [
           "New Hampshire",
           "NPCC",
           "2012"
          ],
          [
           "New Hampshire",
           "NPCC",
           "2012"
          ],
          [
           "New Hampshire",
           "NPCC",
           "2012"
          ],
          [
           "New Hampshire",
           "NPCC",
           "2012"
          ],
          [
           "Nevada",
           "WECC",
           "2012"
          ],
          [
           "Nevada",
           "WECC",
           "2012"
          ],
          [
           "Colorado",
           "WECC",
           "2012"
          ],
          [
           "Colorado",
           "WECC",
           "2012"
          ],
          [
           "Colorado",
           "WECC",
           "2012"
          ],
          [
           "Colorado",
           "WECC",
           "2012"
          ]
         ],
         "hovertemplate": "year=%{customdata[2]}<br>state_region=%{x}<br>duration=%{y}<br>state=%{customdata[0]}<br>nerc_region=%{customdata[1]}<extra></extra>",
         "legendgroup": "2012",
         "marker": {
          "color": "#ab63fa",
          "symbol": "circle"
         },
         "mode": "markers",
         "name": "2012",
         "showlegend": true,
         "type": "scattergl",
         "x": [
          "Minnesota (MRO)",
          "Tennessee (SERC)",
          "Tennessee (SERC)",
          "Tennessee (SERC)",
          "West Virginia (RFC)",
          "West Virginia (RFC)",
          "Michigan (RFC)",
          "Michigan (RFC)",
          "Michigan (RFC)",
          "Michigan (RFC)",
          "Michigan (RFC)",
          "Michigan (RFC)",
          "Texas (WECC)",
          "Texas (TRE)",
          "Texas (TRE)",
          "Texas (TRE)",
          "Texas (TRE)",
          "Texas (SPP)",
          "Texas (TRE)",
          "Texas (TRE)",
          "Texas (TRE)",
          "Texas (TRE)",
          "Texas (SERC)",
          "Indiana (RFC)",
          "Indiana (RFC)",
          "Indiana (RFC)",
          "Indiana (RFC)",
          "Indiana (RFC)",
          "Indiana (RFC)",
          "Illinois (RFC)",
          "Illinois (RFC)",
          "Illinois (RFC)",
          "Illinois (RFC)",
          "Illinois (RFC)",
          "Washington (WECC)",
          "Washington (WECC)",
          "Washington (WECC)",
          "Washington (WECC)",
          "Washington (WECC)",
          "Washington (WECC)",
          "Washington (WECC)",
          "Washington (WECC)",
          "Washington (WECC)",
          "Washington (WECC)",
          "Washington (WECC)",
          "Washington (WECC)",
          "Washington (WECC)",
          "Washington (WECC)",
          "Washington (WECC)",
          "Washington (WECC)",
          "Washington (WECC)",
          "Washington (WECC)",
          "Washington (WECC)",
          "Washington (WECC)",
          "Washington (WECC)",
          "Washington (WECC)",
          "Washington (WECC)",
          "Washington (WECC)",
          "Maryland (RFC)",
          "Maryland (RFC)",
          "Maryland (RFC)",
          "Maryland (RFC)",
          "Maryland (RFC)",
          "Maryland (RFC)",
          "Maryland (RFC)",
          "Maryland (RFC)",
          "Maryland (RFC)",
          "Maryland (RFC)",
          "Maryland (RFC)",
          "Maryland (RFC)",
          "Maryland (RFC)",
          "Maryland (RFC)",
          "Maryland (RFC)",
          "Maryland (RFC)",
          "Pennsylvania (RFC)",
          "Pennsylvania (RFC)",
          "Pennsylvania (RFC)",
          "Pennsylvania (RFC)",
          "Pennsylvania (RFC)",
          "Pennsylvania (RFC)",
          "Ohio (RFC)",
          "Ohio (RFC)",
          "Ohio (RFC)",
          "Ohio (RFC)",
          "Ohio (RFC)",
          "Ohio (RFC)",
          "North Carolina (SERC)",
          "North Carolina (SERC)",
          "North Carolina (SERC)",
          "North Carolina (SERC)",
          "North Carolina (SERC)",
          "New Jersey (RFC)",
          "New Jersey (NPCC)",
          "New Jersey (RFC)",
          "New Jersey (RFC)",
          "New Jersey (RFC)",
          "Oregon (WECC)",
          "District of Columbia (RFC)",
          "Delaware (RFC)",
          "Delaware (RFC)",
          "Delaware (RFC)",
          "Delaware (RFC)",
          "Delaware (RFC)",
          "Delaware (RFC)",
          "Delaware (RFC)",
          "Delaware (RFC)",
          "Delaware (RFC)",
          "Delaware (RFC)",
          "Delaware (RFC)",
          "Delaware (RFC)",
          "Delaware (RFC)",
          "Delaware (RFC)",
          "Iowa (MRO)",
          "New York (NPCC)",
          "New York (NPCC)",
          "New York (NPCC)",
          "New York (NPCC)",
          "New York (NPCC)",
          "Louisiana (SERC)",
          "Louisiana (SPP)",
          "Louisiana (SERC)",
          "Louisiana (SERC)",
          "Florida (FRCC)",
          "California (WECC)",
          "California (WECC)",
          "California (WECC)",
          "California (WECC)",
          "California (WECC)",
          "California (WECC)",
          "California (WECC)",
          "California (WECC)",
          "California (WECC)",
          "California (WECC)",
          "California (WECC)",
          "California (WECC)",
          "Arkansas (SERC)",
          "Arkansas (SERC)",
          "Arkansas (SERC)",
          "Arkansas (SERC)",
          "Arkansas (SPP)",
          "Virginia (RFC)",
          "Virginia (SERC)",
          "Virginia (SERC)",
          "Virginia (SERC)",
          "New Mexico (WECC)",
          "Vermont (NPCC)",
          "Vermont (NPCC)",
          "Vermont (NPCC)",
          "Vermont (NPCC)",
          "Vermont (NPCC)",
          "Georgia (SERC)",
          "Connecticut (NPCC)",
          "Oklahoma (SPP)",
          "Oklahoma (SPP)",
          "Oklahoma (SPP)",
          "Massachusetts (NPCC)",
          "Massachusetts (NPCC)",
          "Massachusetts (NPCC)",
          "Massachusetts (NPCC)",
          "Massachusetts (NPCC)",
          "Massachusetts (NPCC)",
          "Massachusetts (NPCC)",
          "Maine (NPCC)",
          "New Hampshire (NPCC)",
          "New Hampshire (NPCC)",
          "New Hampshire (NPCC)",
          "New Hampshire (NPCC)",
          "New Hampshire (NPCC)",
          "Nevada (WECC)",
          "Nevada (WECC)",
          "Colorado (WECC)",
          "Colorado (WECC)",
          "Colorado (WECC)",
          "Colorado (WECC)"
         ],
         "xaxis": "x",
         "y": [
          "2550",
          "0",
          "1260",
          "2700",
          "17339",
          "9576",
          "2670",
          "4080",
          "2670",
          "4050",
          "1",
          "3494",
          "206",
          "300",
          "1860",
          "410",
          "1440",
          "181",
          "0",
          "2220",
          "557",
          "840",
          "1282",
          "6",
          "569",
          "200",
          "1440",
          "276",
          "0",
          "150",
          "420",
          "3000",
          "870",
          "1120",
          "1240",
          "0",
          "219",
          "487",
          "28",
          "1",
          "1920",
          "0",
          "0",
          "717",
          "292",
          "5",
          "0",
          "25",
          "255",
          "1",
          "502",
          "15",
          "0",
          "2615",
          "0",
          "70",
          "0",
          "0",
          "2021",
          "1",
          "1",
          "331",
          "1",
          "1",
          "1440",
          "2",
          "4320",
          "2507",
          "1",
          "0",
          "185",
          "1",
          "1",
          "7987",
          "8979",
          "3894",
          "10530",
          "1440",
          "3189",
          "13488",
          "21",
          "7430",
          "165",
          "1372",
          "285",
          "10619",
          "563",
          "373",
          "290",
          "270",
          "129",
          "2941",
          "11337",
          "11058",
          "9360",
          "9600",
          "0",
          "8077",
          "0",
          "1",
          "0",
          "1",
          "1",
          "1",
          "0",
          "1",
          "0",
          "1",
          "39",
          "1",
          "1",
          "0",
          "2161",
          "20280",
          "14639",
          "17310",
          "8268",
          "0",
          "2129",
          "3067",
          "3060",
          "1867",
          "240",
          "2878",
          "697",
          "14",
          "245",
          "4320",
          "3100",
          "26",
          "13",
          "2880",
          "20",
          "193",
          null,
          "105",
          "210",
          "300",
          "513",
          "62",
          "1523",
          "6787",
          "1673",
          "1301",
          "314",
          "1",
          "160",
          "20",
          "70",
          "15",
          "108",
          "60",
          "110",
          "2245",
          "117",
          "31",
          "0",
          "307",
          "1656",
          "3525",
          "1569",
          "1",
          "1187",
          "2535",
          "27",
          "108",
          "5",
          "33",
          "1",
          "108",
          "1",
          "5",
          "201",
          "103"
         ],
         "yaxis": "y"
        },
        {
         "customdata": [
          [
           "Minnesota",
           "MRO",
           "2015"
          ],
          [
           "Minnesota",
           "MRO",
           "2015"
          ],
          [
           "Tennessee",
           "SERC",
           "2015"
          ],
          [
           "Tennessee",
           "SERC",
           "2015"
          ],
          [
           "Tennessee",
           "SERC",
           "2015"
          ],
          [
           "Tennessee",
           "SERC",
           "2015"
          ],
          [
           "Tennessee",
           "SERC",
           "2015"
          ],
          [
           "Tennessee",
           "SERC",
           "2015"
          ],
          [
           "Tennessee",
           "SERC",
           "2015"
          ],
          [
           "West Virginia",
           "RFC",
           "2015"
          ],
          [
           "Michigan",
           "RFC",
           "2015"
          ],
          [
           "Michigan",
           "RFC",
           "2015"
          ],
          [
           "Michigan",
           "RFC",
           "2015"
          ],
          [
           "Michigan",
           "RFC",
           "2015"
          ],
          [
           "Michigan",
           "RFC",
           "2015"
          ],
          [
           "Michigan",
           "RFC",
           "2015"
          ],
          [
           "Texas",
           "TRE",
           "2015"
          ],
          [
           "Texas",
           "TRE",
           "2015"
          ],
          [
           "Texas",
           "TRE",
           "2015"
          ],
          [
           "Texas",
           "TRE",
           "2015"
          ],
          [
           "Texas",
           "TRE",
           "2015"
          ],
          [
           "Texas",
           "TRE",
           "2015"
          ],
          [
           "Texas",
           "TRE",
           "2015"
          ],
          [
           "Texas",
           "SERC",
           "2015"
          ],
          [
           "Texas",
           "TRE",
           "2015"
          ],
          [
           "Texas",
           "SPP",
           "2015"
          ],
          [
           "Texas",
           "TRE",
           "2015"
          ],
          [
           "Texas",
           "TRE",
           "2015"
          ],
          [
           "Texas",
           "SPP",
           "2015"
          ],
          [
           "Texas",
           "TRE",
           "2015"
          ],
          [
           "Texas",
           "TRE",
           "2015"
          ],
          [
           "Texas",
           "TRE",
           "2015"
          ],
          [
           "Texas",
           "TRE",
           "2015"
          ],
          [
           "Indiana",
           "RFC",
           "2015"
          ],
          [
           "Alabama",
           "SERC",
           "2015"
          ],
          [
           "Mississippi",
           "SERC",
           "2015"
          ],
          [
           "Illinois",
           "RFC",
           "2015"
          ],
          [
           "Washington",
           "WECC",
           "2015"
          ],
          [
           "Washington",
           "WECC",
           "2015"
          ],
          [
           "Washington",
           "WECC",
           "2015"
          ],
          [
           "Washington",
           "WECC",
           "2015"
          ],
          [
           "Washington",
           "WECC",
           "2015"
          ],
          [
           "Washington",
           "WECC",
           "2015"
          ],
          [
           "Washington",
           "WECC",
           "2015"
          ],
          [
           "Washington",
           "WECC",
           "2015"
          ],
          [
           "Washington",
           "WECC",
           "2015"
          ],
          [
           "Washington",
           "WECC",
           "2015"
          ],
          [
           "Washington",
           "WECC",
           "2015"
          ],
          [
           "Arizona",
           "WECC",
           "2015"
          ],
          [
           "Arizona",
           "WECC",
           "2015"
          ],
          [
           "Arizona",
           "WECC",
           "2015"
          ],
          [
           "Maryland",
           "RFC",
           "2015"
          ],
          [
           "Pennsylvania",
           "RFC",
           "2015"
          ],
          [
           "Pennsylvania",
           "RFC",
           "2015"
          ],
          [
           "Kentucky",
           "SERC",
           "2015"
          ],
          [
           "Utah",
           "WECC",
           "2015"
          ],
          [
           "Utah",
           "WECC",
           "2015"
          ],
          [
           "Utah",
           "WECC",
           "2015"
          ],
          [
           "Utah",
           "WECC",
           "2015"
          ],
          [
           "Utah",
           "WECC",
           "2015"
          ],
          [
           "Utah",
           "WECC",
           "2015"
          ],
          [
           "Ohio",
           "RFC",
           "2015"
          ],
          [
           "North Carolina",
           "SERC",
           "2015"
          ],
          [
           "New Jersey",
           "RFC",
           "2015"
          ],
          [
           "New Jersey",
           "NPCC",
           "2015"
          ],
          [
           "New Jersey",
           "RFC",
           "2015"
          ],
          [
           "Oregon",
           "WECC",
           "2015"
          ],
          [
           "Oregon",
           "WECC",
           "2015"
          ],
          [
           "Oregon",
           "WECC",
           "2015"
          ],
          [
           "Oregon",
           "WECC",
           "2015"
          ],
          [
           "Oregon",
           "WECC",
           "2015"
          ],
          [
           "Missouri",
           "SERC",
           "2015"
          ],
          [
           "Missouri",
           "SERC",
           "2015"
          ],
          [
           "Delaware",
           "RFC",
           "2015"
          ],
          [
           "New York",
           "NPCC",
           "2015"
          ],
          [
           "New York",
           "NPCC",
           "2015"
          ],
          [
           "New York",
           "NPCC",
           "2015"
          ],
          [
           "California",
           "WECC",
           "2015"
          ],
          [
           "California",
           "WECC",
           "2015"
          ],
          [
           "California",
           "WECC",
           "2015"
          ],
          [
           "California",
           "WECC",
           "2015"
          ],
          [
           "California",
           "WECC",
           "2015"
          ],
          [
           "California",
           "WECC",
           "2015"
          ],
          [
           "California",
           "WECC",
           "2015"
          ],
          [
           "California",
           "WECC",
           "2015"
          ],
          [
           "California",
           "WECC",
           "2015"
          ],
          [
           "California",
           "WECC",
           "2015"
          ],
          [
           "California",
           "WECC",
           "2015"
          ],
          [
           "California",
           "WECC",
           "2015"
          ],
          [
           "California",
           "WECC",
           "2015"
          ],
          [
           "California",
           "WECC",
           "2015"
          ],
          [
           "California",
           "WECC",
           "2015"
          ],
          [
           "California",
           "WECC",
           "2015"
          ],
          [
           "California",
           "WECC",
           "2015"
          ],
          [
           "California",
           "WECC",
           "2015"
          ],
          [
           "California",
           "WECC",
           "2015"
          ],
          [
           "California",
           "WECC",
           "2015"
          ],
          [
           "California",
           "WECC",
           "2015"
          ],
          [
           "California",
           "WECC",
           "2015"
          ],
          [
           "California",
           "WECC",
           "2015"
          ],
          [
           "California",
           "WECC",
           "2015"
          ],
          [
           "California",
           "WECC",
           "2015"
          ],
          [
           "Arkansas",
           "SPP",
           "2015"
          ],
          [
           "Arkansas",
           "SERC",
           "2015"
          ],
          [
           "Virginia",
           "RFC",
           "2015"
          ],
          [
           "Georgia",
           "SERC",
           "2015"
          ],
          [
           "Oklahoma",
           "SPP",
           "2015"
          ],
          [
           "Oklahoma",
           "SPP",
           "2015"
          ],
          [
           "Oklahoma",
           "SPP",
           "2015"
          ],
          [
           "Oklahoma",
           "SPP",
           "2015"
          ],
          [
           "Oklahoma",
           "SPP",
           "2015"
          ],
          [
           "Maine",
           "NPCC",
           "2015"
          ],
          [
           "Nevada",
           "WECC",
           "2015"
          ],
          [
           "Colorado",
           "WECC",
           "2015"
          ],
          [
           "Kansas",
           "SPP",
           "2015"
          ],
          [
           "Kansas",
           "SPP",
           "2015"
          ],
          [
           "Kansas",
           "SPP",
           "2015"
          ],
          [
           "Kansas",
           "SPP",
           "2015"
          ],
          [
           "Kansas",
           "SPP",
           "2015"
          ]
         ],
         "hovertemplate": "year=%{customdata[2]}<br>state_region=%{x}<br>duration=%{y}<br>state=%{customdata[0]}<br>nerc_region=%{customdata[1]}<extra></extra>",
         "legendgroup": "2015",
         "marker": {
          "color": "#FFA15A",
          "symbol": "circle"
         },
         "mode": "markers",
         "name": "2015",
         "showlegend": true,
         "type": "scattergl",
         "x": [
          "Minnesota (MRO)",
          "Minnesota (MRO)",
          "Tennessee (SERC)",
          "Tennessee (SERC)",
          "Tennessee (SERC)",
          "Tennessee (SERC)",
          "Tennessee (SERC)",
          "Tennessee (SERC)",
          "Tennessee (SERC)",
          "West Virginia (RFC)",
          "Michigan (RFC)",
          "Michigan (RFC)",
          "Michigan (RFC)",
          "Michigan (RFC)",
          "Michigan (RFC)",
          "Michigan (RFC)",
          "Texas (TRE)",
          "Texas (TRE)",
          "Texas (TRE)",
          "Texas (TRE)",
          "Texas (TRE)",
          "Texas (TRE)",
          "Texas (TRE)",
          "Texas (SERC)",
          "Texas (TRE)",
          "Texas (SPP)",
          "Texas (TRE)",
          "Texas (TRE)",
          "Texas (SPP)",
          "Texas (TRE)",
          "Texas (TRE)",
          "Texas (TRE)",
          "Texas (TRE)",
          "Indiana (RFC)",
          "Alabama (SERC)",
          "Mississippi (SERC)",
          "Illinois (RFC)",
          "Washington (WECC)",
          "Washington (WECC)",
          "Washington (WECC)",
          "Washington (WECC)",
          "Washington (WECC)",
          "Washington (WECC)",
          "Washington (WECC)",
          "Washington (WECC)",
          "Washington (WECC)",
          "Washington (WECC)",
          "Washington (WECC)",
          "Arizona (WECC)",
          "Arizona (WECC)",
          "Arizona (WECC)",
          "Maryland (RFC)",
          "Pennsylvania (RFC)",
          "Pennsylvania (RFC)",
          "Kentucky (SERC)",
          "Utah (WECC)",
          "Utah (WECC)",
          "Utah (WECC)",
          "Utah (WECC)",
          "Utah (WECC)",
          "Utah (WECC)",
          "Ohio (RFC)",
          "North Carolina (SERC)",
          "New Jersey (RFC)",
          "New Jersey (NPCC)",
          "New Jersey (RFC)",
          "Oregon (WECC)",
          "Oregon (WECC)",
          "Oregon (WECC)",
          "Oregon (WECC)",
          "Oregon (WECC)",
          "Missouri (SERC)",
          "Missouri (SERC)",
          "Delaware (RFC)",
          "New York (NPCC)",
          "New York (NPCC)",
          "New York (NPCC)",
          "California (WECC)",
          "California (WECC)",
          "California (WECC)",
          "California (WECC)",
          "California (WECC)",
          "California (WECC)",
          "California (WECC)",
          "California (WECC)",
          "California (WECC)",
          "California (WECC)",
          "California (WECC)",
          "California (WECC)",
          "California (WECC)",
          "California (WECC)",
          "California (WECC)",
          "California (WECC)",
          "California (WECC)",
          "California (WECC)",
          "California (WECC)",
          "California (WECC)",
          "California (WECC)",
          "California (WECC)",
          "California (WECC)",
          "California (WECC)",
          "California (WECC)",
          "Arkansas (SPP)",
          "Arkansas (SERC)",
          "Virginia (RFC)",
          "Georgia (SERC)",
          "Oklahoma (SPP)",
          "Oklahoma (SPP)",
          "Oklahoma (SPP)",
          "Oklahoma (SPP)",
          "Oklahoma (SPP)",
          "Maine (NPCC)",
          "Nevada (WECC)",
          "Colorado (WECC)",
          "Kansas (SPP)",
          "Kansas (SPP)",
          "Kansas (SPP)",
          "Kansas (SPP)",
          "Kansas (SPP)"
         ],
         "xaxis": "x",
         "y": [
          "1740",
          "155",
          "19",
          "21",
          "935",
          null,
          "95",
          "251",
          "310",
          "1",
          "1710",
          "1995",
          "4338",
          "232",
          "2820",
          "2700",
          "373",
          "2690",
          "5115",
          "225",
          "3000",
          "3020",
          "2420",
          "1",
          "455",
          "63",
          "1",
          "3300",
          "1320",
          "3040",
          "550",
          null,
          "1955",
          "120",
          "803",
          "5",
          "90",
          "8880",
          "19",
          "25",
          "420",
          "663",
          null,
          null,
          null,
          null,
          "21",
          "2520",
          "50",
          "70",
          "2",
          "304",
          "90",
          "1642",
          "108",
          "120",
          "1",
          "113",
          "31",
          "20",
          "1",
          "7",
          "1950",
          "132",
          null,
          "10080",
          "210",
          "1",
          "91",
          "60",
          "1",
          "65",
          null,
          "4254",
          "5",
          "255",
          "161",
          "247",
          "1",
          "32",
          "55",
          null,
          "2050",
          "26",
          "797",
          "12",
          "295",
          "360",
          "1",
          "420",
          "1",
          "166",
          "15",
          null,
          "989",
          "44",
          "98",
          "98",
          "157",
          "72",
          "1",
          "236",
          "1226",
          "2363",
          "2435",
          "1999",
          "1042",
          null,
          null,
          "3300",
          "280",
          "1",
          "1",
          "105",
          "187",
          "1406",
          "348",
          "90",
          null
         ],
         "yaxis": "y"
        },
        {
         "customdata": [
          [
           "Minnesota",
           "MRO",
           "2005"
          ],
          [
           "Minnesota",
           "MRO",
           "2005"
          ],
          [
           "Wisconsin",
           "RFC",
           "2005"
          ],
          [
           "Wisconsin",
           "RFC",
           "2005"
          ],
          [
           "Michigan",
           "ECAR",
           "2005"
          ],
          [
           "Michigan",
           "ECAR",
           "2005"
          ],
          [
           "Michigan",
           "ECAR",
           "2005"
          ],
          [
           "Michigan",
           "ECAR",
           "2005"
          ],
          [
           "Michigan",
           "ECAR",
           "2005"
          ],
          [
           "Michigan",
           "ECAR",
           "2005"
          ],
          [
           "Texas",
           "TRE",
           "2005"
          ],
          [
           "Texas",
           "TRE",
           "2005"
          ],
          [
           "Texas",
           "TRE",
           "2005"
          ],
          [
           "Texas",
           "TRE",
           "2005"
          ],
          [
           "Indiana",
           "ECAR",
           "2005"
          ],
          [
           "Illinois",
           "RFC",
           "2005"
          ],
          [
           "Maryland",
           "RFC",
           "2005"
          ],
          [
           "Maryland",
           "RFC",
           "2005"
          ],
          [
           "Maryland",
           "RFC",
           "2005"
          ],
          [
           "Pennsylvania",
           "RFC",
           "2005"
          ],
          [
           "Pennsylvania",
           "RFC",
           "2005"
          ],
          [
           "Ohio",
           "ECAR",
           "2005"
          ],
          [
           "Ohio",
           "ECAR",
           "2005"
          ],
          [
           "Ohio",
           "ECAR",
           "2005"
          ],
          [
           "North Carolina",
           "SERC",
           "2005"
          ],
          [
           "North Carolina",
           "SERC",
           "2005"
          ],
          [
           "New York",
           "NPCC",
           "2005"
          ],
          [
           "Louisiana",
           "SPP",
           "2005"
          ],
          [
           "Louisiana",
           "SPP",
           "2005"
          ],
          [
           "Louisiana",
           "SPP",
           "2005"
          ],
          [
           "Louisiana",
           "ECAR",
           "2005"
          ],
          [
           "Louisiana",
           "SPP",
           "2005"
          ],
          [
           "Florida",
           "FRCC",
           "2005"
          ],
          [
           "Florida",
           "FRCC",
           "2005"
          ],
          [
           "Florida",
           "FRCC",
           "2005"
          ],
          [
           "Florida",
           "FRCC",
           "2005"
          ],
          [
           "Florida",
           "FRCC",
           "2005"
          ],
          [
           "Florida",
           "FRCC",
           "2005"
          ],
          [
           "Florida",
           "FRCC",
           "2005"
          ],
          [
           "Florida",
           "FRCC",
           "2005"
          ],
          [
           "California",
           "WECC",
           "2005"
          ],
          [
           "California",
           "WECC",
           "2005"
          ],
          [
           "California",
           "WECC",
           "2005"
          ],
          [
           "California",
           "WECC",
           "2005"
          ],
          [
           "California",
           "WECC",
           "2005"
          ],
          [
           "California",
           "WECC",
           "2005"
          ],
          [
           "California",
           "WECC",
           "2005"
          ],
          [
           "California",
           "WECC",
           "2005"
          ],
          [
           "California",
           "WECC",
           "2005"
          ],
          [
           "California",
           "WECC",
           "2005"
          ],
          [
           "Arkansas",
           "ECAR",
           "2005"
          ],
          [
           "Georgia",
           "SERC",
           "2005"
          ],
          [
           "Georgia",
           "SERC",
           "2005"
          ],
          [
           "Colorado",
           "WECC",
           "2005"
          ],
          [
           "Kansas",
           "SPP",
           "2005"
          ]
         ],
         "hovertemplate": "year=%{customdata[2]}<br>state_region=%{x}<br>duration=%{y}<br>state=%{customdata[0]}<br>nerc_region=%{customdata[1]}<extra></extra>",
         "legendgroup": "2005",
         "marker": {
          "color": "#19d3f3",
          "symbol": "circle"
         },
         "mode": "markers",
         "name": "2005",
         "showlegend": true,
         "type": "scattergl",
         "x": [
          "Minnesota (MRO)",
          "Minnesota (MRO)",
          "Wisconsin (RFC)",
          "Wisconsin (RFC)",
          "Michigan (ECAR)",
          "Michigan (ECAR)",
          "Michigan (ECAR)",
          "Michigan (ECAR)",
          "Michigan (ECAR)",
          "Michigan (ECAR)",
          "Texas (TRE)",
          "Texas (TRE)",
          "Texas (TRE)",
          "Texas (TRE)",
          "Indiana (ECAR)",
          "Illinois (RFC)",
          "Maryland (RFC)",
          "Maryland (RFC)",
          "Maryland (RFC)",
          "Pennsylvania (RFC)",
          "Pennsylvania (RFC)",
          "Ohio (ECAR)",
          "Ohio (ECAR)",
          "Ohio (ECAR)",
          "North Carolina (SERC)",
          "North Carolina (SERC)",
          "New York (NPCC)",
          "Louisiana (SPP)",
          "Louisiana (SPP)",
          "Louisiana (SPP)",
          "Louisiana (ECAR)",
          "Louisiana (SPP)",
          "Florida (FRCC)",
          "Florida (FRCC)",
          "Florida (FRCC)",
          "Florida (FRCC)",
          "Florida (FRCC)",
          "Florida (FRCC)",
          "Florida (FRCC)",
          "Florida (FRCC)",
          "California (WECC)",
          "California (WECC)",
          "California (WECC)",
          "California (WECC)",
          "California (WECC)",
          "California (WECC)",
          "California (WECC)",
          "California (WECC)",
          "California (WECC)",
          "California (WECC)",
          "Arkansas (ECAR)",
          "Georgia (SERC)",
          "Georgia (SERC)",
          "Colorado (WECC)",
          "Kansas (SPP)"
         ],
         "xaxis": "x",
         "y": [
          "3960",
          "8880",
          "3000",
          "4410",
          "6510",
          "3120",
          "7530",
          "8160",
          "7620",
          "2939",
          "12180",
          "1620",
          "1110",
          "420",
          "15950",
          "149",
          "2760",
          "5628",
          "4517",
          "1757",
          "1714",
          "11640",
          "7920",
          "6480",
          "1440",
          "240",
          "3240",
          "2160",
          "1440",
          "692",
          "6240",
          "18804",
          "17520",
          "8189",
          "720",
          "13430",
          "10080",
          "24780",
          "1080",
          "14101",
          "171",
          "84",
          "202",
          "4740",
          "250",
          "249",
          "13",
          "8100",
          "245",
          "8",
          "126",
          "1380",
          "1865",
          null,
          "14040"
         ],
         "yaxis": "y"
        },
        {
         "customdata": [
          [
           "Minnesota",
           "MRO",
           "2013"
          ],
          [
           "Minnesota",
           "MRO",
           "2013"
          ],
          [
           "Tennessee",
           "SERC",
           "2013"
          ],
          [
           "Tennessee",
           "SERC",
           "2013"
          ],
          [
           "Wisconsin",
           "MRO",
           "2013"
          ],
          [
           "Wisconsin",
           "MRO",
           "2013"
          ],
          [
           "Wisconsin",
           "MRO",
           "2013"
          ],
          [
           "Michigan",
           "RFC",
           "2013"
          ],
          [
           "Michigan",
           "RFC",
           "2013"
          ],
          [
           "Michigan",
           "RFC",
           "2013"
          ],
          [
           "Michigan",
           "RFC",
           "2013"
          ],
          [
           "Michigan",
           "RFC",
           "2013"
          ],
          [
           "Michigan",
           "RFC",
           "2013"
          ],
          [
           "Michigan",
           "RFC",
           "2013"
          ],
          [
           "Michigan",
           "RFC",
           "2013"
          ],
          [
           "Michigan",
           "RFC",
           "2013"
          ],
          [
           "Texas",
           "TRE",
           "2013"
          ],
          [
           "Texas",
           "TRE",
           "2013"
          ],
          [
           "Texas",
           "TRE",
           "2013"
          ],
          [
           "Texas",
           "TRE",
           "2013"
          ],
          [
           "Texas",
           "TRE",
           "2013"
          ],
          [
           "Indiana",
           "RFC",
           "2013"
          ],
          [
           "Indiana",
           "RFC",
           "2013"
          ],
          [
           "Indiana",
           "RFC",
           "2013"
          ],
          [
           "Indiana",
           "RFC",
           "2013"
          ],
          [
           "Indiana",
           "RFC",
           "2013"
          ],
          [
           "Indiana",
           "RFC",
           "2013"
          ],
          [
           "Alabama",
           "SERC",
           "2013"
          ],
          [
           "Illinois",
           "RFC",
           "2013"
          ],
          [
           "Illinois",
           "RFC",
           "2013"
          ],
          [
           "Illinois",
           "RFC",
           "2013"
          ],
          [
           "Washington",
           "WECC",
           "2013"
          ],
          [
           "Washington",
           "WECC",
           "2013"
          ],
          [
           "Washington",
           "WECC",
           "2013"
          ],
          [
           "Washington",
           "WECC",
           "2013"
          ],
          [
           "Washington",
           "WECC",
           "2013"
          ],
          [
           "Washington",
           "WECC",
           "2013"
          ],
          [
           "Arizona",
           "WECC",
           "2013"
          ],
          [
           "Arizona",
           "WECC",
           "2013"
          ],
          [
           "Arizona",
           "WECC",
           "2013"
          ],
          [
           "Arizona",
           "WECC",
           "2013"
          ],
          [
           "Arizona",
           "WECC",
           "2013"
          ],
          [
           "Arizona",
           "WECC",
           "2013"
          ],
          [
           "Maryland",
           "RFC",
           "2013"
          ],
          [
           "Maryland",
           "RFC",
           "2013"
          ],
          [
           "Maryland",
           "RFC",
           "2013"
          ],
          [
           "Maryland",
           "RFC",
           "2013"
          ],
          [
           "Maryland",
           "RFC",
           "2013"
          ],
          [
           "Maryland",
           "RFC",
           "2013"
          ],
          [
           "Maryland",
           "RFC",
           "2013"
          ],
          [
           "Maryland",
           "RFC",
           "2013"
          ],
          [
           "Maryland",
           "RFC",
           "2013"
          ],
          [
           "Pennsylvania",
           "RFC",
           "2013"
          ],
          [
           "Utah",
           "WECC",
           "2013"
          ],
          [
           "Utah",
           "WECC",
           "2013"
          ],
          [
           "Utah",
           "WECC",
           "2013"
          ],
          [
           "Utah",
           "WECC",
           "2013"
          ],
          [
           "Utah",
           "WECC",
           "2013"
          ],
          [
           "Utah",
           "WECC",
           "2013"
          ],
          [
           "Utah",
           "WECC",
           "2013"
          ],
          [
           "Utah",
           "WECC",
           "2013"
          ],
          [
           "Ohio",
           "RFC",
           "2013"
          ],
          [
           "Ohio",
           "RFC",
           "2013"
          ],
          [
           "North Carolina",
           "SERC",
           "2013"
          ],
          [
           "North Carolina",
           "SERC",
           "2013"
          ],
          [
           "North Carolina",
           "SERC",
           "2013"
          ],
          [
           "North Carolina",
           "SERC",
           "2013"
          ],
          [
           "Oregon",
           "WECC",
           "2013"
          ],
          [
           "Oregon",
           "WECC",
           "2013"
          ],
          [
           "Oregon",
           "WECC",
           "2013"
          ],
          [
           "Oregon",
           "WECC",
           "2013"
          ],
          [
           "District of Columbia",
           "RFC",
           "2013"
          ],
          [
           "District of Columbia",
           "RFC",
           "2013"
          ],
          [
           "Missouri",
           "SPP",
           "2013"
          ],
          [
           "Missouri",
           "SERC",
           "2013"
          ],
          [
           "Missouri",
           "SERC",
           "2013"
          ],
          [
           "Delaware",
           "RFC",
           "2013"
          ],
          [
           "Delaware",
           "RFC",
           "2013"
          ],
          [
           "Delaware",
           "RFC",
           "2013"
          ],
          [
           "Delaware",
           "RFC",
           "2013"
          ],
          [
           "Delaware",
           "RFC",
           "2013"
          ],
          [
           "Delaware",
           "RFC",
           "2013"
          ],
          [
           "Delaware",
           "RFC",
           "2013"
          ],
          [
           "Delaware",
           "RFC",
           "2013"
          ],
          [
           "Delaware",
           "RFC",
           "2013"
          ],
          [
           "Delaware",
           "RFC",
           "2013"
          ],
          [
           "Delaware",
           "RFC",
           "2013"
          ],
          [
           "Iowa",
           "MRO",
           "2013"
          ],
          [
           "Montana",
           "WECC",
           "2013"
          ],
          [
           "New York",
           "NPCC",
           "2013"
          ],
          [
           "New York",
           "NPCC",
           "2013"
          ],
          [
           "New York",
           "NPCC",
           "2013"
          ],
          [
           "New York",
           "NPCC",
           "2013"
          ],
          [
           "New York",
           "NPCC",
           "2013"
          ],
          [
           "New York",
           "NPCC",
           "2013"
          ],
          [
           "New York",
           "NPCC",
           "2013"
          ],
          [
           "Louisiana",
           "SERC",
           "2013"
          ],
          [
           "Florida",
           "FRCC",
           "2013"
          ],
          [
           "Florida",
           "FRCC",
           "2013"
          ],
          [
           "Florida",
           "FRCC",
           "2013"
          ],
          [
           "California",
           "WECC",
           "2013"
          ],
          [
           "California",
           "WECC",
           "2013"
          ],
          [
           "California",
           "WECC",
           "2013"
          ],
          [
           "California",
           "WECC",
           "2013"
          ],
          [
           "California",
           "WECC",
           "2013"
          ],
          [
           "California",
           "WECC",
           "2013"
          ],
          [
           "California",
           "WECC",
           "2013"
          ],
          [
           "California",
           "WECC",
           "2013"
          ],
          [
           "California",
           "WECC",
           "2013"
          ],
          [
           "California",
           "WECC",
           "2013"
          ],
          [
           "California",
           "WECC",
           "2013"
          ],
          [
           "California",
           "WECC",
           "2013"
          ],
          [
           "California",
           "WECC",
           "2013"
          ],
          [
           "California",
           "WECC",
           "2013"
          ],
          [
           "California",
           "WECC",
           "2013"
          ],
          [
           "California",
           "WECC",
           "2013"
          ],
          [
           "California",
           "WECC",
           "2013"
          ],
          [
           "Arkansas",
           "SERC",
           "2013"
          ],
          [
           "Arkansas",
           "SERC",
           "2013"
          ],
          [
           "Arkansas",
           "SPP",
           "2013"
          ],
          [
           "Arkansas",
           "SERC",
           "2013"
          ],
          [
           "Arkansas",
           "SPP",
           "2013"
          ],
          [
           "Virginia",
           "SERC",
           "2013"
          ],
          [
           "Virginia",
           "SERC",
           "2013"
          ],
          [
           "Virginia",
           "SERC",
           "2013"
          ],
          [
           "Virginia",
           "SERC",
           "2013"
          ],
          [
           "Virginia",
           "SERC",
           "2013"
          ],
          [
           "Wyoming",
           "WECC",
           "2013"
          ],
          [
           "Wyoming",
           "WECC",
           "2013"
          ],
          [
           "New Mexico",
           "WECC",
           "2013"
          ],
          [
           "New Mexico",
           "WECC",
           "2013"
          ],
          [
           "New Mexico",
           "WECC",
           "2013"
          ],
          [
           "New Mexico",
           "WECC",
           "2013"
          ],
          [
           "New Mexico",
           "WECC",
           "2013"
          ],
          [
           "New Mexico",
           "SPP",
           "2013"
          ],
          [
           "Vermont",
           "NPCC",
           "2013"
          ],
          [
           "Connecticut",
           "NPCC",
           "2013"
          ],
          [
           "Connecticut",
           "NPCC",
           "2013"
          ],
          [
           "Connecticut",
           "NPCC",
           "2013"
          ],
          [
           "Connecticut",
           "NPCC",
           "2013"
          ],
          [
           "Oklahoma",
           "SPP",
           "2013"
          ],
          [
           "Oklahoma",
           "SPP",
           "2013"
          ],
          [
           "Oklahoma",
           "SPP",
           "2013"
          ],
          [
           "Massachusetts",
           "NPCC",
           "2013"
          ],
          [
           "Massachusetts",
           "NPCC",
           "2013"
          ],
          [
           "Massachusetts",
           "NPCC",
           "2013"
          ],
          [
           "Massachusetts",
           "NPCC",
           "2013"
          ],
          [
           "Maine",
           "NPCC",
           "2013"
          ],
          [
           "Maine",
           "NPCC",
           "2013"
          ],
          [
           "New Hampshire",
           "NPCC",
           "2013"
          ],
          [
           "Nevada",
           "WECC",
           "2013"
          ],
          [
           "Colorado",
           "WECC",
           "2013"
          ],
          [
           "Colorado",
           "WECC",
           "2013"
          ]
         ],
         "hovertemplate": "year=%{customdata[2]}<br>state_region=%{x}<br>duration=%{y}<br>state=%{customdata[0]}<br>nerc_region=%{customdata[1]}<extra></extra>",
         "legendgroup": "2013",
         "marker": {
          "color": "#FF6692",
          "symbol": "circle"
         },
         "mode": "markers",
         "name": "2013",
         "showlegend": true,
         "type": "scattergl",
         "x": [
          "Minnesota (MRO)",
          "Minnesota (MRO)",
          "Tennessee (SERC)",
          "Tennessee (SERC)",
          "Wisconsin (MRO)",
          "Wisconsin (MRO)",
          "Wisconsin (MRO)",
          "Michigan (RFC)",
          "Michigan (RFC)",
          "Michigan (RFC)",
          "Michigan (RFC)",
          "Michigan (RFC)",
          "Michigan (RFC)",
          "Michigan (RFC)",
          "Michigan (RFC)",
          "Michigan (RFC)",
          "Texas (TRE)",
          "Texas (TRE)",
          "Texas (TRE)",
          "Texas (TRE)",
          "Texas (TRE)",
          "Indiana (RFC)",
          "Indiana (RFC)",
          "Indiana (RFC)",
          "Indiana (RFC)",
          "Indiana (RFC)",
          "Indiana (RFC)",
          "Alabama (SERC)",
          "Illinois (RFC)",
          "Illinois (RFC)",
          "Illinois (RFC)",
          "Washington (WECC)",
          "Washington (WECC)",
          "Washington (WECC)",
          "Washington (WECC)",
          "Washington (WECC)",
          "Washington (WECC)",
          "Arizona (WECC)",
          "Arizona (WECC)",
          "Arizona (WECC)",
          "Arizona (WECC)",
          "Arizona (WECC)",
          "Arizona (WECC)",
          "Maryland (RFC)",
          "Maryland (RFC)",
          "Maryland (RFC)",
          "Maryland (RFC)",
          "Maryland (RFC)",
          "Maryland (RFC)",
          "Maryland (RFC)",
          "Maryland (RFC)",
          "Maryland (RFC)",
          "Pennsylvania (RFC)",
          "Utah (WECC)",
          "Utah (WECC)",
          "Utah (WECC)",
          "Utah (WECC)",
          "Utah (WECC)",
          "Utah (WECC)",
          "Utah (WECC)",
          "Utah (WECC)",
          "Ohio (RFC)",
          "Ohio (RFC)",
          "North Carolina (SERC)",
          "North Carolina (SERC)",
          "North Carolina (SERC)",
          "North Carolina (SERC)",
          "Oregon (WECC)",
          "Oregon (WECC)",
          "Oregon (WECC)",
          "Oregon (WECC)",
          "District of Columbia (RFC)",
          "District of Columbia (RFC)",
          "Missouri (SPP)",
          "Missouri (SERC)",
          "Missouri (SERC)",
          "Delaware (RFC)",
          "Delaware (RFC)",
          "Delaware (RFC)",
          "Delaware (RFC)",
          "Delaware (RFC)",
          "Delaware (RFC)",
          "Delaware (RFC)",
          "Delaware (RFC)",
          "Delaware (RFC)",
          "Delaware (RFC)",
          "Delaware (RFC)",
          "Iowa (MRO)",
          "Montana (WECC)",
          "New York (NPCC)",
          "New York (NPCC)",
          "New York (NPCC)",
          "New York (NPCC)",
          "New York (NPCC)",
          "New York (NPCC)",
          "New York (NPCC)",
          "Louisiana (SERC)",
          "Florida (FRCC)",
          "Florida (FRCC)",
          "Florida (FRCC)",
          "California (WECC)",
          "California (WECC)",
          "California (WECC)",
          "California (WECC)",
          "California (WECC)",
          "California (WECC)",
          "California (WECC)",
          "California (WECC)",
          "California (WECC)",
          "California (WECC)",
          "California (WECC)",
          "California (WECC)",
          "California (WECC)",
          "California (WECC)",
          "California (WECC)",
          "California (WECC)",
          "California (WECC)",
          "Arkansas (SERC)",
          "Arkansas (SERC)",
          "Arkansas (SPP)",
          "Arkansas (SERC)",
          "Arkansas (SPP)",
          "Virginia (SERC)",
          "Virginia (SERC)",
          "Virginia (SERC)",
          "Virginia (SERC)",
          "Virginia (SERC)",
          "Wyoming (WECC)",
          "Wyoming (WECC)",
          "New Mexico (WECC)",
          "New Mexico (WECC)",
          "New Mexico (WECC)",
          "New Mexico (WECC)",
          "New Mexico (WECC)",
          "New Mexico (SPP)",
          "Vermont (NPCC)",
          "Connecticut (NPCC)",
          "Connecticut (NPCC)",
          "Connecticut (NPCC)",
          "Connecticut (NPCC)",
          "Oklahoma (SPP)",
          "Oklahoma (SPP)",
          "Oklahoma (SPP)",
          "Massachusetts (NPCC)",
          "Massachusetts (NPCC)",
          "Massachusetts (NPCC)",
          "Massachusetts (NPCC)",
          "Maine (NPCC)",
          "Maine (NPCC)",
          "New Hampshire (NPCC)",
          "Nevada (WECC)",
          "Colorado (WECC)",
          "Colorado (WECC)"
         ],
         "xaxis": "x",
         "y": [
          "3621",
          "7740",
          "619",
          "2818",
          "32",
          "104",
          "1272",
          "5034",
          "9857",
          "5760",
          "4485",
          "5760",
          "4242",
          "900",
          "3630",
          "420",
          "20160",
          "1860",
          "7809",
          "1080",
          "20160",
          "4320",
          "4320",
          "65",
          "4032",
          "2730",
          "2880",
          "77",
          "479",
          "1336",
          "360",
          "3300",
          "1",
          "74",
          "1",
          "5",
          "180",
          "180",
          "3842",
          "1",
          "189",
          "1440",
          "2700",
          "0",
          "1",
          "1",
          "95",
          "113",
          "0",
          "0",
          "960",
          "0",
          "380",
          "1",
          "1",
          "1",
          "2",
          "1",
          "44",
          "1",
          "60",
          "1590",
          "75",
          "45",
          "1485",
          "405",
          "1698",
          "1350",
          "989",
          "4",
          "838",
          "159",
          "30",
          "0",
          "1470",
          "4140",
          "1",
          "1",
          "1",
          "1",
          "1",
          "110",
          "1",
          "1",
          "1",
          "1",
          "1",
          "1637",
          "93",
          "3943",
          "1",
          "2515",
          "2730",
          "1800",
          "2355",
          "300",
          "227",
          "17",
          "152",
          "90",
          "1135",
          "656",
          "255",
          "1254",
          "106",
          "195",
          "1",
          "230",
          "15",
          "455",
          "480",
          null,
          "3698",
          "164",
          "78",
          "620",
          "448",
          "240",
          "1",
          "30",
          "60",
          "110",
          "448",
          "2",
          "103",
          "1565",
          "1508",
          "1",
          "32",
          "30",
          "92",
          "390",
          "161",
          "60",
          "76",
          "1",
          "1",
          "1",
          "210",
          "120",
          "3000",
          "5310",
          "1732",
          "4745",
          "114",
          "15",
          "2891",
          "2652",
          "300",
          "77",
          "274",
          "2",
          "175"
         ],
         "yaxis": "y"
        },
        {
         "customdata": [
          [
           "Tennessee",
           "SERC",
           "2008"
          ],
          [
           "Michigan",
           "RFC",
           "2008"
          ],
          [
           "Michigan",
           "RFC",
           "2008"
          ],
          [
           "Michigan",
           "RFC",
           "2008"
          ],
          [
           "Michigan",
           "RFC",
           "2008"
          ],
          [
           "Michigan",
           "RFC",
           "2008"
          ],
          [
           "Michigan",
           "RFC",
           "2008"
          ],
          [
           "Michigan",
           "RFC",
           "2008"
          ],
          [
           "Michigan",
           "RFC",
           "2008"
          ],
          [
           "Michigan",
           "RFC",
           "2008"
          ],
          [
           "Texas",
           "TRE",
           "2008"
          ],
          [
           "Texas",
           "TRE",
           "2008"
          ],
          [
           "Texas",
           "TRE",
           "2008"
          ],
          [
           "Texas",
           "TRE",
           "2008"
          ],
          [
           "Texas",
           "TRE",
           "2008"
          ],
          [
           "Texas",
           "TRE",
           "2008"
          ],
          [
           "Texas",
           "TRE",
           "2008"
          ],
          [
           "Texas",
           "TRE",
           "2008"
          ],
          [
           "Indiana",
           "RFC",
           "2008"
          ],
          [
           "Indiana",
           "RFC",
           "2008"
          ],
          [
           "Indiana",
           "RFC",
           "2008"
          ],
          [
           "Indiana",
           "RFC",
           "2008"
          ],
          [
           "Indiana",
           "RFC",
           "2008"
          ],
          [
           "Indiana",
           "RFC",
           "2008"
          ],
          [
           "Indiana",
           "RFC",
           "2008"
          ],
          [
           "Indiana",
           "RFC",
           "2008"
          ],
          [
           "Indiana",
           "RFC",
           "2008"
          ],
          [
           "Illinois",
           "RFC",
           "2008"
          ],
          [
           "Illinois",
           "RFC",
           "2008"
          ],
          [
           "Illinois",
           "RFC",
           "2008"
          ],
          [
           "Illinois",
           "RFC",
           "2008"
          ],
          [
           "Washington",
           "WECC",
           "2008"
          ],
          [
           "Maryland",
           "RFC",
           "2008"
          ],
          [
           "Maryland",
           "RFC",
           "2008"
          ],
          [
           "Pennsylvania",
           "RFC",
           "2008"
          ],
          [
           "Pennsylvania",
           "RFC",
           "2008"
          ],
          [
           "Pennsylvania",
           "RFC",
           "2008"
          ],
          [
           "Pennsylvania",
           "RFC",
           "2008"
          ],
          [
           "Pennsylvania",
           "RFC",
           "2008"
          ],
          [
           "Kentucky",
           "RFC",
           "2008"
          ],
          [
           "Kentucky",
           "SERC",
           "2008"
          ],
          [
           "Kentucky",
           "RFC",
           "2008"
          ],
          [
           "Kentucky",
           "RFC",
           "2008"
          ],
          [
           "Utah",
           "WECC",
           "2008"
          ],
          [
           "Ohio",
           "RFC",
           "2008"
          ],
          [
           "Ohio",
           "RFC",
           "2008"
          ],
          [
           "Ohio",
           "RFC",
           "2008"
          ],
          [
           "Ohio",
           "RFC",
           "2008"
          ],
          [
           "Ohio",
           "RFC",
           "2008"
          ],
          [
           "North Carolina",
           "SERC",
           "2008"
          ],
          [
           "North Carolina",
           "SERC",
           "2008"
          ],
          [
           "New Jersey",
           "RFC",
           "2008"
          ],
          [
           "New Jersey",
           "RFC",
           "2008"
          ],
          [
           "New Jersey",
           "RFC",
           "2008"
          ],
          [
           "New Jersey",
           "RFC",
           "2008"
          ],
          [
           "Oregon",
           "WECC",
           "2008"
          ],
          [
           "Missouri",
           "RFC",
           "2008"
          ],
          [
           "Iowa",
           "RFC",
           "2008"
          ],
          [
           "New York",
           "NPCC",
           "2008"
          ],
          [
           "New York",
           "NPCC",
           "2008"
          ],
          [
           "New York",
           "NPCC",
           "2008"
          ],
          [
           "New York",
           "NPCC",
           "2008"
          ],
          [
           "New York",
           "NPCC",
           "2008"
          ],
          [
           "Louisiana",
           "SERC",
           "2008"
          ],
          [
           "Louisiana",
           "SERC",
           "2008"
          ],
          [
           "Louisiana",
           "SERC",
           "2008"
          ],
          [
           "Louisiana",
           "SERC",
           "2008"
          ],
          [
           "Louisiana",
           "SERC",
           "2008"
          ],
          [
           "Louisiana",
           "SERC",
           "2008"
          ],
          [
           "Florida",
           "FRCC",
           "2008"
          ],
          [
           "Florida",
           "FRCC",
           "2008"
          ],
          [
           "Florida",
           "FRCC",
           "2008"
          ],
          [
           "Florida",
           "FRCC",
           "2008"
          ],
          [
           "Florida",
           "FRCC",
           "2008"
          ],
          [
           "Florida",
           "FRCC",
           "2008"
          ],
          [
           "Florida",
           "FRCC",
           "2008"
          ],
          [
           "Florida",
           "FRCC",
           "2008"
          ],
          [
           "California",
           "WECC",
           "2008"
          ],
          [
           "California",
           "WECC",
           "2008"
          ],
          [
           "California",
           "WECC",
           "2008"
          ],
          [
           "California",
           "WECC",
           "2008"
          ],
          [
           "California",
           "WECC",
           "2008"
          ],
          [
           "California",
           "WECC",
           "2008"
          ],
          [
           "California",
           "WECC",
           "2008"
          ],
          [
           "California",
           "WECC",
           "2008"
          ],
          [
           "California",
           "WECC",
           "2008"
          ],
          [
           "California",
           "WECC",
           "2008"
          ],
          [
           "California",
           "WECC",
           "2008"
          ],
          [
           "California",
           "WECC",
           "2008"
          ],
          [
           "California",
           "WECC",
           "2008"
          ],
          [
           "California",
           "WECC",
           "2008"
          ],
          [
           "California",
           "WECC",
           "2008"
          ],
          [
           "California",
           "WECC",
           "2008"
          ],
          [
           "California",
           "WECC",
           "2008"
          ],
          [
           "California",
           "WECC",
           "2008"
          ],
          [
           "California",
           "WECC",
           "2008"
          ],
          [
           "California",
           "WECC",
           "2008"
          ],
          [
           "California",
           "WECC",
           "2008"
          ],
          [
           "California",
           "WECC",
           "2008"
          ],
          [
           "California",
           "WECC",
           "2008"
          ],
          [
           "Virginia",
           "SERC",
           "2008"
          ],
          [
           "Virginia",
           "SERC",
           "2008"
          ],
          [
           "Virginia",
           "SERC",
           "2008"
          ],
          [
           "Nebraska",
           "MRO",
           "2008"
          ],
          [
           "Georgia",
           "SERC",
           "2008"
          ],
          [
           "Connecticut",
           "NPCC",
           "2008"
          ],
          [
           "Connecticut",
           "NPCC",
           "2008"
          ],
          [
           "Maine",
           "NPCC",
           "2008"
          ],
          [
           "Maine",
           "NPCC",
           "2008"
          ],
          [
           "Maine",
           "NPCC",
           "2008"
          ],
          [
           "Hawaii",
           "HI",
           "2008"
          ]
         ],
         "hovertemplate": "year=%{customdata[2]}<br>state_region=%{x}<br>duration=%{y}<br>state=%{customdata[0]}<br>nerc_region=%{customdata[1]}<extra></extra>",
         "legendgroup": "2008",
         "marker": {
          "color": "#B6E880",
          "symbol": "circle"
         },
         "mode": "markers",
         "name": "2008",
         "showlegend": true,
         "type": "scattergl",
         "x": [
          "Tennessee (SERC)",
          "Michigan (RFC)",
          "Michigan (RFC)",
          "Michigan (RFC)",
          "Michigan (RFC)",
          "Michigan (RFC)",
          "Michigan (RFC)",
          "Michigan (RFC)",
          "Michigan (RFC)",
          "Michigan (RFC)",
          "Texas (TRE)",
          "Texas (TRE)",
          "Texas (TRE)",
          "Texas (TRE)",
          "Texas (TRE)",
          "Texas (TRE)",
          "Texas (TRE)",
          "Texas (TRE)",
          "Indiana (RFC)",
          "Indiana (RFC)",
          "Indiana (RFC)",
          "Indiana (RFC)",
          "Indiana (RFC)",
          "Indiana (RFC)",
          "Indiana (RFC)",
          "Indiana (RFC)",
          "Indiana (RFC)",
          "Illinois (RFC)",
          "Illinois (RFC)",
          "Illinois (RFC)",
          "Illinois (RFC)",
          "Washington (WECC)",
          "Maryland (RFC)",
          "Maryland (RFC)",
          "Pennsylvania (RFC)",
          "Pennsylvania (RFC)",
          "Pennsylvania (RFC)",
          "Pennsylvania (RFC)",
          "Pennsylvania (RFC)",
          "Kentucky (RFC)",
          "Kentucky (SERC)",
          "Kentucky (RFC)",
          "Kentucky (RFC)",
          "Utah (WECC)",
          "Ohio (RFC)",
          "Ohio (RFC)",
          "Ohio (RFC)",
          "Ohio (RFC)",
          "Ohio (RFC)",
          "North Carolina (SERC)",
          "North Carolina (SERC)",
          "New Jersey (RFC)",
          "New Jersey (RFC)",
          "New Jersey (RFC)",
          "New Jersey (RFC)",
          "Oregon (WECC)",
          "Missouri (RFC)",
          "Iowa (RFC)",
          "New York (NPCC)",
          "New York (NPCC)",
          "New York (NPCC)",
          "New York (NPCC)",
          "New York (NPCC)",
          "Louisiana (SERC)",
          "Louisiana (SERC)",
          "Louisiana (SERC)",
          "Louisiana (SERC)",
          "Louisiana (SERC)",
          "Louisiana (SERC)",
          "Florida (FRCC)",
          "Florida (FRCC)",
          "Florida (FRCC)",
          "Florida (FRCC)",
          "Florida (FRCC)",
          "Florida (FRCC)",
          "Florida (FRCC)",
          "Florida (FRCC)",
          "California (WECC)",
          "California (WECC)",
          "California (WECC)",
          "California (WECC)",
          "California (WECC)",
          "California (WECC)",
          "California (WECC)",
          "California (WECC)",
          "California (WECC)",
          "California (WECC)",
          "California (WECC)",
          "California (WECC)",
          "California (WECC)",
          "California (WECC)",
          "California (WECC)",
          "California (WECC)",
          "California (WECC)",
          "California (WECC)",
          "California (WECC)",
          "California (WECC)",
          "California (WECC)",
          "California (WECC)",
          "California (WECC)",
          "Virginia (SERC)",
          "Virginia (SERC)",
          "Virginia (SERC)",
          "Nebraska (MRO)",
          "Georgia (SERC)",
          "Connecticut (NPCC)",
          "Connecticut (NPCC)",
          "Maine (NPCC)",
          "Maine (NPCC)",
          "Maine (NPCC)",
          "Hawaii (HI)"
         ],
         "xaxis": "x",
         "y": [
          "840",
          "5115",
          "7650",
          "4110",
          "270",
          "5580",
          "705",
          "11850",
          "8922",
          "1140",
          "27698",
          "847",
          "12124",
          "5595",
          "3360",
          "3569",
          "27698",
          "21540",
          "233",
          "2120",
          "96",
          "7319",
          "1",
          "1130",
          "35",
          "10",
          "3872",
          "810",
          "3000",
          "720",
          "2010",
          "248",
          "4470",
          "1320",
          "5579",
          "6938",
          "299",
          "6713",
          "2684",
          "300",
          "1020",
          "23700",
          "10499",
          "871",
          "4200",
          "805",
          "2190",
          "11531",
          "11420",
          "1318",
          "885",
          "3599",
          "6090",
          "1365",
          "333",
          "200",
          "870",
          "8670",
          "10726",
          "5400",
          "3584",
          "4710",
          "50",
          "28170",
          "420",
          "13215",
          "17812",
          "20416",
          "355",
          "182",
          "5820",
          "155",
          "91",
          "5071",
          "38",
          "61",
          "396",
          "155",
          "437",
          "1054",
          "523",
          "3",
          "749",
          null,
          "270",
          "224",
          "15180",
          "179",
          "234",
          "829",
          "269",
          "761",
          "865",
          "252",
          "11867",
          "1035",
          "751",
          "214",
          "4605",
          "759",
          "424",
          "1826",
          "570",
          "60",
          "1950",
          "110",
          "2640",
          "3667",
          "1037",
          "618",
          "1367"
         ],
         "yaxis": "y"
        },
        {
         "customdata": [
          [
           "Tennessee",
           "SERC",
           "2009"
          ],
          [
           "Tennessee",
           "SERC",
           "2009"
          ],
          [
           "Tennessee",
           "SERC",
           "2009"
          ],
          [
           "Michigan",
           "RFC",
           "2009"
          ],
          [
           "Michigan",
           "RFC",
           "2009"
          ],
          [
           "Michigan",
           "RFC",
           "2009"
          ],
          [
           "Michigan",
           "RFC",
           "2009"
          ],
          [
           "Michigan",
           "RFC",
           "2009"
          ],
          [
           "Michigan",
           "RFC",
           "2009"
          ],
          [
           "Michigan",
           "RFC",
           "2009"
          ],
          [
           "Michigan",
           "RFC",
           "2009"
          ],
          [
           "Michigan",
           "RFC",
           "2009"
          ],
          [
           "Texas",
           "TRE",
           "2009"
          ],
          [
           "Texas",
           "TRE",
           "2009"
          ],
          [
           "Texas",
           "TRE",
           "2009"
          ],
          [
           "Texas",
           "TRE",
           "2009"
          ],
          [
           "Texas",
           "TRE",
           "2009"
          ],
          [
           "Texas",
           "TRE",
           "2009"
          ],
          [
           "Texas",
           "TRE",
           "2009"
          ],
          [
           "Texas",
           "TRE",
           "2009"
          ],
          [
           "Texas",
           "WECC",
           "2009"
          ],
          [
           "Texas",
           "TRE",
           "2009"
          ],
          [
           "Texas",
           "TRE",
           "2009"
          ],
          [
           "Texas",
           "TRE",
           "2009"
          ],
          [
           "Indiana",
           "RFC",
           "2009"
          ],
          [
           "Indiana",
           "RFC",
           "2009"
          ],
          [
           "Indiana",
           "RFC",
           "2009"
          ],
          [
           "Indiana",
           "RFC",
           "2009"
          ],
          [
           "Illinois",
           "SERC",
           "2009"
          ],
          [
           "Illinois",
           "SERC",
           "2009"
          ],
          [
           "Washington",
           "WECC",
           "2009"
          ],
          [
           "Arizona",
           "WECC",
           "2009"
          ],
          [
           "Maryland",
           "RFC",
           "2009"
          ],
          [
           "Pennsylvania",
           "RFC",
           "2009"
          ],
          [
           "Kentucky",
           "RFC",
           "2009"
          ],
          [
           "Kentucky",
           "SERC",
           "2009"
          ],
          [
           "Kentucky",
           "RFC",
           "2009"
          ],
          [
           "Kentucky",
           "SERC",
           "2009"
          ],
          [
           "Kentucky",
           "RFC",
           "2009"
          ],
          [
           "Utah",
           "WECC",
           "2009"
          ],
          [
           "Ohio",
           "RFC",
           "2009"
          ],
          [
           "Ohio",
           "RFC",
           "2009"
          ],
          [
           "Ohio",
           "RFC",
           "2009"
          ],
          [
           "North Carolina",
           "SERC",
           "2009"
          ],
          [
           "Missouri",
           "SERC",
           "2009"
          ],
          [
           "Missouri",
           "RFC",
           "2009"
          ],
          [
           "Missouri",
           "SERC",
           "2009"
          ],
          [
           "Louisiana",
           "SPP",
           "2009"
          ],
          [
           "Louisiana",
           "SERC",
           "2009"
          ],
          [
           "Louisiana",
           "SERC",
           "2009"
          ],
          [
           "Louisiana",
           "SPP",
           "2009"
          ],
          [
           "Louisiana",
           "SPP",
           "2009"
          ],
          [
           "Florida",
           "FRCC",
           "2009"
          ],
          [
           "California",
           "WECC",
           "2009"
          ],
          [
           "California",
           "WECC",
           "2009"
          ],
          [
           "California",
           "WECC",
           "2009"
          ],
          [
           "California",
           "WECC",
           "2009"
          ],
          [
           "California",
           "WECC",
           "2009"
          ],
          [
           "California",
           "WECC",
           "2009"
          ],
          [
           "California",
           "WECC",
           "2009"
          ],
          [
           "California",
           "WECC",
           "2009"
          ],
          [
           "California",
           "WECC",
           "2009"
          ],
          [
           "California",
           "WECC",
           "2009"
          ],
          [
           "California",
           "WECC",
           "2009"
          ],
          [
           "California",
           "WECC",
           "2009"
          ],
          [
           "California",
           "WECC",
           "2009"
          ],
          [
           "Arkansas",
           "SERC",
           "2009"
          ],
          [
           "Arkansas",
           "SERC",
           "2009"
          ],
          [
           "Virginia",
           "RFC",
           "2009"
          ],
          [
           "Virginia",
           "SERC",
           "2009"
          ],
          [
           "Wyoming",
           "WECC",
           "2009"
          ],
          [
           "Georgia",
           "SERC",
           "2009"
          ],
          [
           "Connecticut",
           "NPCC",
           "2009"
          ],
          [
           "Maine",
           "NPCC",
           "2009"
          ],
          [
           "Maine",
           "NPCC",
           "2009"
          ],
          [
           "Colorado",
           "WECC",
           "2009"
          ],
          [
           "South Dakota",
           "RFC",
           "2009"
          ],
          [
           "South Dakota",
           "MRO",
           "2009"
          ]
         ],
         "hovertemplate": "year=%{customdata[2]}<br>state_region=%{x}<br>duration=%{y}<br>state=%{customdata[0]}<br>nerc_region=%{customdata[1]}<extra></extra>",
         "legendgroup": "2009",
         "marker": {
          "color": "#FF97FF",
          "symbol": "circle"
         },
         "mode": "markers",
         "name": "2009",
         "showlegend": true,
         "type": "scattergl",
         "x": [
          "Tennessee (SERC)",
          "Tennessee (SERC)",
          "Tennessee (SERC)",
          "Michigan (RFC)",
          "Michigan (RFC)",
          "Michigan (RFC)",
          "Michigan (RFC)",
          "Michigan (RFC)",
          "Michigan (RFC)",
          "Michigan (RFC)",
          "Michigan (RFC)",
          "Michigan (RFC)",
          "Texas (TRE)",
          "Texas (TRE)",
          "Texas (TRE)",
          "Texas (TRE)",
          "Texas (TRE)",
          "Texas (TRE)",
          "Texas (TRE)",
          "Texas (TRE)",
          "Texas (WECC)",
          "Texas (TRE)",
          "Texas (TRE)",
          "Texas (TRE)",
          "Indiana (RFC)",
          "Indiana (RFC)",
          "Indiana (RFC)",
          "Indiana (RFC)",
          "Illinois (SERC)",
          "Illinois (SERC)",
          "Washington (WECC)",
          "Arizona (WECC)",
          "Maryland (RFC)",
          "Pennsylvania (RFC)",
          "Kentucky (RFC)",
          "Kentucky (SERC)",
          "Kentucky (RFC)",
          "Kentucky (SERC)",
          "Kentucky (RFC)",
          "Utah (WECC)",
          "Ohio (RFC)",
          "Ohio (RFC)",
          "Ohio (RFC)",
          "North Carolina (SERC)",
          "Missouri (SERC)",
          "Missouri (RFC)",
          "Missouri (SERC)",
          "Louisiana (SPP)",
          "Louisiana (SERC)",
          "Louisiana (SERC)",
          "Louisiana (SPP)",
          "Louisiana (SPP)",
          "Florida (FRCC)",
          "California (WECC)",
          "California (WECC)",
          "California (WECC)",
          "California (WECC)",
          "California (WECC)",
          "California (WECC)",
          "California (WECC)",
          "California (WECC)",
          "California (WECC)",
          "California (WECC)",
          "California (WECC)",
          "California (WECC)",
          "California (WECC)",
          "Arkansas (SERC)",
          "Arkansas (SERC)",
          "Virginia (RFC)",
          "Virginia (SERC)",
          "Wyoming (WECC)",
          "Georgia (SERC)",
          "Connecticut (NPCC)",
          "Maine (NPCC)",
          "Maine (NPCC)",
          "Colorado (WECC)",
          "South Dakota (RFC)",
          "South Dakota (MRO)"
         ],
         "xaxis": "x",
         "y": [
          "762",
          "136",
          "32",
          "3540",
          "3915",
          "4590",
          "5670",
          "3015",
          "5700",
          "78377",
          "4259",
          "1588",
          "215",
          "570",
          "1500",
          "224",
          "210",
          "1920",
          "1560",
          "240",
          "885",
          "6000",
          "2220",
          "330",
          "12240",
          "65",
          "23773",
          "12240",
          "659",
          "9230",
          "1204",
          "4200",
          "2855",
          "5160",
          "1680",
          "652",
          "3570",
          "6492",
          "15180",
          "15",
          "3630",
          "930",
          "1733",
          "1460",
          "810",
          "4150",
          "4740",
          "300",
          "732",
          "510",
          "300",
          "300",
          "1419",
          "945",
          "125",
          "40",
          "1080",
          "390",
          "400",
          null,
          "124",
          "89",
          "900",
          "89",
          "909",
          "326",
          "10274",
          "2700",
          "1337",
          "2640",
          "106",
          "1200",
          "4560",
          "2108",
          "881",
          "2710",
          "59",
          "181"
         ],
         "yaxis": "y"
        },
        {
         "customdata": [
          [
           "Tennessee",
           "SERC",
           "2016"
          ],
          [
           "Tennessee",
           "SERC",
           "2016"
          ],
          [
           "Wisconsin",
           "MRO",
           "2016"
          ],
          [
           "Michigan",
           "RFC",
           "2016"
          ],
          [
           "Michigan",
           "RFC",
           "2016"
          ],
          [
           "Texas",
           "TRE",
           "2016"
          ],
          [
           "Texas",
           "TRE",
           "2016"
          ],
          [
           "Texas",
           "TRE",
           "2016"
          ],
          [
           "Texas",
           "TRE",
           "2016"
          ],
          [
           "Texas",
           "TRE",
           "2016"
          ],
          [
           "Texas",
           "TRE",
           "2016"
          ],
          [
           "Washington",
           "WECC",
           "2016"
          ],
          [
           "Washington",
           "WECC",
           "2016"
          ],
          [
           "Washington",
           "WECC",
           "2016"
          ],
          [
           "Washington",
           "WECC",
           "2016"
          ],
          [
           "Washington",
           "WECC",
           "2016"
          ],
          [
           "Washington",
           "WECC",
           "2016"
          ],
          [
           "Washington",
           "WECC",
           "2016"
          ],
          [
           "Arizona",
           "WECC",
           "2016"
          ],
          [
           "Maryland",
           "RFC",
           "2016"
          ],
          [
           "Pennsylvania",
           "RFC",
           "2016"
          ],
          [
           "Pennsylvania",
           "RFC",
           "2016"
          ],
          [
           "Utah",
           "WECC",
           "2016"
          ],
          [
           "Utah",
           "WECC",
           "2016"
          ],
          [
           "Utah",
           "WECC",
           "2016"
          ],
          [
           "Utah",
           "WECC",
           "2016"
          ],
          [
           "Utah",
           "WECC",
           "2016"
          ],
          [
           "North Carolina",
           "SERC",
           "2016"
          ],
          [
           "North Carolina",
           "SERC",
           "2016"
          ],
          [
           "New Jersey",
           "RFC",
           "2016"
          ],
          [
           "New Jersey",
           "RFC",
           "2016"
          ],
          [
           "Oregon",
           "WECC",
           "2016"
          ],
          [
           "Oregon",
           "WECC",
           "2016"
          ],
          [
           "Oregon",
           "WECC",
           "2016"
          ],
          [
           "Missouri",
           "SERC",
           "2016"
          ],
          [
           "Missouri",
           "SERC",
           "2016"
          ],
          [
           "Delaware",
           "RFC",
           "2016"
          ],
          [
           "Delaware",
           "RFC",
           "2016"
          ],
          [
           "Delaware",
           "RFC",
           "2016"
          ],
          [
           "Delaware",
           "RFC",
           "2016"
          ],
          [
           "New York",
           "NPCC",
           "2016"
          ],
          [
           "New York",
           "NPCC",
           "2016"
          ],
          [
           "New York",
           "NPCC",
           "2016"
          ],
          [
           "New York",
           "NPCC",
           "2016"
          ],
          [
           "Louisiana",
           "SERC",
           "2016"
          ],
          [
           "Louisiana",
           "SERC",
           "2016"
          ],
          [
           "Florida",
           "FRCC",
           "2016"
          ],
          [
           "California",
           "WECC",
           "2016"
          ],
          [
           "California",
           "SERC",
           "2016"
          ],
          [
           "California",
           "WECC",
           "2016"
          ],
          [
           "California",
           "WECC",
           "2016"
          ],
          [
           "Oklahoma",
           "SPP",
           "2016"
          ],
          [
           "Massachusetts",
           "NPCC",
           "2016"
          ],
          [
           "Nevada",
           "WECC",
           "2016"
          ],
          [
           "Colorado",
           "WECC",
           "2016"
          ],
          [
           "Idaho",
           "WECC",
           "2016"
          ],
          [
           "Idaho",
           "WECC",
           "2016"
          ],
          [
           "Idaho",
           "WECC",
           "2016"
          ],
          [
           "Idaho",
           "WECC",
           "2016"
          ]
         ],
         "hovertemplate": "year=%{customdata[2]}<br>state_region=%{x}<br>duration=%{y}<br>state=%{customdata[0]}<br>nerc_region=%{customdata[1]}<extra></extra>",
         "legendgroup": "2016",
         "marker": {
          "color": "#FECB52",
          "symbol": "circle"
         },
         "mode": "markers",
         "name": "2016",
         "showlegend": true,
         "type": "scattergl",
         "x": [
          "Tennessee (SERC)",
          "Tennessee (SERC)",
          "Wisconsin (MRO)",
          "Michigan (RFC)",
          "Michigan (RFC)",
          "Texas (TRE)",
          "Texas (TRE)",
          "Texas (TRE)",
          "Texas (TRE)",
          "Texas (TRE)",
          "Texas (TRE)",
          "Washington (WECC)",
          "Washington (WECC)",
          "Washington (WECC)",
          "Washington (WECC)",
          "Washington (WECC)",
          "Washington (WECC)",
          "Washington (WECC)",
          "Arizona (WECC)",
          "Maryland (RFC)",
          "Pennsylvania (RFC)",
          "Pennsylvania (RFC)",
          "Utah (WECC)",
          "Utah (WECC)",
          "Utah (WECC)",
          "Utah (WECC)",
          "Utah (WECC)",
          "North Carolina (SERC)",
          "North Carolina (SERC)",
          "New Jersey (RFC)",
          "New Jersey (RFC)",
          "Oregon (WECC)",
          "Oregon (WECC)",
          "Oregon (WECC)",
          "Missouri (SERC)",
          "Missouri (SERC)",
          "Delaware (RFC)",
          "Delaware (RFC)",
          "Delaware (RFC)",
          "Delaware (RFC)",
          "New York (NPCC)",
          "New York (NPCC)",
          "New York (NPCC)",
          "New York (NPCC)",
          "Louisiana (SERC)",
          "Louisiana (SERC)",
          "Florida (FRCC)",
          "California (WECC)",
          "California (SERC)",
          "California (WECC)",
          "California (WECC)",
          "Oklahoma (SPP)",
          "Massachusetts (NPCC)",
          "Nevada (WECC)",
          "Colorado (WECC)",
          "Idaho (WECC)",
          "Idaho (WECC)",
          "Idaho (WECC)",
          "Idaho (WECC)"
         ],
         "xaxis": "x",
         "y": [
          null,
          null,
          "1605",
          "1513",
          "300",
          "1455",
          "3255",
          "5",
          "2655",
          "1185",
          "3050",
          "1",
          "1919",
          null,
          null,
          "313",
          null,
          null,
          "227",
          "1673",
          "164",
          "278",
          "60",
          "204",
          "15",
          "60",
          "21",
          "1355",
          "167",
          "1",
          "76",
          "73",
          null,
          "2680",
          "1199",
          null,
          "65",
          "1",
          "507",
          "213",
          "191",
          "73",
          null,
          "18717",
          "3180",
          null,
          "83",
          "25",
          "223",
          "49427",
          null,
          "796",
          "1068",
          "60",
          "4019",
          "224",
          "0",
          null,
          "220"
         ],
         "yaxis": "y"
        },
        {
         "customdata": [
          [
           "Wisconsin",
           "RFC",
           "2003"
          ],
          [
           "Wisconsin",
           "MRO",
           "2003"
          ],
          [
           "Michigan",
           "ECAR",
           "2003"
          ],
          [
           "Michigan",
           "ECAR",
           "2003"
          ],
          [
           "Michigan",
           "ECAR",
           "2003"
          ],
          [
           "Michigan",
           "ECAR",
           "2003"
          ],
          [
           "Michigan",
           "RFC",
           "2003"
          ],
          [
           "Michigan",
           "RFC",
           "2003"
          ],
          [
           "Michigan",
           "ECAR",
           "2003"
          ],
          [
           "Michigan",
           "ECAR",
           "2003"
          ],
          [
           "Texas",
           "TRE",
           "2003"
          ],
          [
           "Texas",
           "TRE",
           "2003"
          ],
          [
           "Texas",
           "TRE",
           "2003"
          ],
          [
           "Illinois",
           "SERC",
           "2003"
          ],
          [
           "Illinois",
           "RFC",
           "2003"
          ],
          [
           "Illinois",
           "SERC",
           "2003"
          ],
          [
           "Washington",
           "WECC",
           "2003"
          ],
          [
           "Arizona",
           "WECC",
           "2003"
          ],
          [
           "Arizona",
           "WECC",
           "2003"
          ],
          [
           "Maryland",
           "RFC",
           "2003"
          ],
          [
           "Maryland",
           "RFC",
           "2003"
          ],
          [
           "Maryland",
           "RFC",
           "2003"
          ],
          [
           "Maryland",
           "RFC",
           "2003"
          ],
          [
           "Maryland",
           "RFC",
           "2003"
          ],
          [
           "Pennsylvania",
           "RFC",
           "2003"
          ],
          [
           "Ohio",
           "ECAR",
           "2003"
          ],
          [
           "Ohio",
           "ECAR",
           "2003"
          ],
          [
           "Ohio",
           "ECAR",
           "2003"
          ],
          [
           "North Carolina",
           "SERC",
           "2003"
          ],
          [
           "North Carolina",
           "SERC",
           "2003"
          ],
          [
           "North Carolina",
           "SERC",
           "2003"
          ],
          [
           "District of Columbia",
           "RFC",
           "2003"
          ],
          [
           "New York",
           "NPCC",
           "2003"
          ],
          [
           "New York",
           "NPCC",
           "2003"
          ],
          [
           "New York",
           "NPCC",
           "2003"
          ],
          [
           "New York",
           "NPCC",
           "2003"
          ],
          [
           "Florida",
           "FRCC",
           "2003"
          ],
          [
           "California",
           "WECC",
           "2003"
          ],
          [
           "California",
           "WECC",
           "2003"
          ],
          [
           "California",
           "WECC",
           "2003"
          ],
          [
           "California",
           "WECC",
           "2003"
          ],
          [
           "California",
           "WECC",
           "2003"
          ],
          [
           "Virginia",
           "SERC",
           "2003"
          ],
          [
           "Virginia",
           "SERC",
           "2003"
          ],
          [
           "Massachusetts",
           "NPCC",
           "2003"
          ],
          [
           "Idaho",
           "WECC",
           "2003"
          ]
         ],
         "hovertemplate": "year=%{customdata[2]}<br>state_region=%{x}<br>duration=%{y}<br>state=%{customdata[0]}<br>nerc_region=%{customdata[1]}<extra></extra>",
         "legendgroup": "2003",
         "marker": {
          "color": "#636efa",
          "symbol": "circle"
         },
         "mode": "markers",
         "name": "2003",
         "showlegend": true,
         "type": "scattergl",
         "x": [
          "Wisconsin (RFC)",
          "Wisconsin (MRO)",
          "Michigan (ECAR)",
          "Michigan (ECAR)",
          "Michigan (ECAR)",
          "Michigan (ECAR)",
          "Michigan (RFC)",
          "Michigan (RFC)",
          "Michigan (ECAR)",
          "Michigan (ECAR)",
          "Texas (TRE)",
          "Texas (TRE)",
          "Texas (TRE)",
          "Illinois (SERC)",
          "Illinois (RFC)",
          "Illinois (SERC)",
          "Washington (WECC)",
          "Arizona (WECC)",
          "Arizona (WECC)",
          "Maryland (RFC)",
          "Maryland (RFC)",
          "Maryland (RFC)",
          "Maryland (RFC)",
          "Maryland (RFC)",
          "Pennsylvania (RFC)",
          "Ohio (ECAR)",
          "Ohio (ECAR)",
          "Ohio (ECAR)",
          "North Carolina (SERC)",
          "North Carolina (SERC)",
          "North Carolina (SERC)",
          "District of Columbia (RFC)",
          "New York (NPCC)",
          "New York (NPCC)",
          "New York (NPCC)",
          "New York (NPCC)",
          "Florida (FRCC)",
          "California (WECC)",
          "California (WECC)",
          "California (WECC)",
          "California (WECC)",
          "California (WECC)",
          "Virginia (SERC)",
          "Virginia (SERC)",
          "Massachusetts (NPCC)",
          "Idaho (WECC)"
         ],
         "xaxis": "x",
         "y": [
          "960",
          "1219",
          "5820",
          "3051",
          "4200",
          "3300",
          "761",
          "46080",
          "2694",
          "5700",
          "9486",
          "186",
          "757",
          "360",
          "120",
          "960",
          "6480",
          "35",
          "100",
          "1950",
          "12890",
          "4920",
          "4080",
          "7298",
          "4338",
          "5040",
          "3137",
          "1440",
          "3388",
          "1528",
          "15",
          "14500",
          "2089",
          "1732",
          "5513",
          "2100",
          "816",
          "721",
          "5910",
          "34390",
          "125",
          "1914",
          "131",
          "115",
          "115",
          "1548"
         ],
         "yaxis": "y"
        },
        {
         "customdata": [
          [
           "Michigan",
           "RFC",
           "2007"
          ],
          [
           "Michigan",
           "RFC",
           "2007"
          ],
          [
           "Michigan",
           "RFC",
           "2007"
          ],
          [
           "Michigan",
           "RFC",
           "2007"
          ],
          [
           "Michigan",
           "RFC",
           "2007"
          ],
          [
           "Michigan",
           "RFC",
           "2007"
          ],
          [
           "Michigan",
           "RFC",
           "2007"
          ],
          [
           "Texas",
           "WECC",
           "2007"
          ],
          [
           "Texas",
           "SPP",
           "2007"
          ],
          [
           "Texas",
           "WECC",
           "2007"
          ],
          [
           "Texas",
           "TRE",
           "2007"
          ],
          [
           "Texas",
           "TRE",
           "2007"
          ],
          [
           "Texas",
           "TRE",
           "2007"
          ],
          [
           "Indiana",
           "RFC",
           "2007"
          ],
          [
           "Illinois",
           "RFC",
           "2007"
          ],
          [
           "Illinois",
           "RFC",
           "2007"
          ],
          [
           "Illinois",
           "RFC",
           "2007"
          ],
          [
           "Washington",
           "WECC",
           "2007"
          ],
          [
           "Washington",
           "WECC",
           "2007"
          ],
          [
           "Maryland",
           "RFC",
           "2007"
          ],
          [
           "Maryland",
           "RFC",
           "2007"
          ],
          [
           "Pennsylvania",
           "RFC",
           "2007"
          ],
          [
           "Utah",
           "WECC",
           "2007"
          ],
          [
           "Missouri",
           "SERC",
           "2007"
          ],
          [
           "Iowa",
           "MRO",
           "2007"
          ],
          [
           "Iowa",
           "RFC",
           "2007"
          ],
          [
           "New York",
           "NPCC",
           "2007"
          ],
          [
           "New York",
           "NPCC",
           "2007"
          ],
          [
           "New York",
           "NPCC",
           "2007"
          ],
          [
           "California",
           "WECC",
           "2007"
          ],
          [
           "California",
           "WECC",
           "2007"
          ],
          [
           "California",
           "WECC",
           "2007"
          ],
          [
           "California",
           "WECC",
           "2007"
          ],
          [
           "California",
           "WECC",
           "2007"
          ],
          [
           "California",
           "WECC",
           "2007"
          ],
          [
           "California",
           "WECC",
           "2007"
          ],
          [
           "California",
           "WECC",
           "2007"
          ],
          [
           "California",
           "WECC",
           "2007"
          ],
          [
           "California",
           "WECC",
           "2007"
          ],
          [
           "California",
           "WECC",
           "2007"
          ],
          [
           "California",
           "WECC",
           "2007"
          ],
          [
           "California",
           "WECC",
           "2007"
          ],
          [
           "California",
           "WECC",
           "2007"
          ],
          [
           "California",
           "WECC",
           "2007"
          ],
          [
           "California",
           "WECC",
           "2007"
          ],
          [
           "California",
           "WECC",
           "2007"
          ],
          [
           "California",
           "WECC",
           "2007"
          ],
          [
           "Virginia",
           "SERC",
           "2007"
          ],
          [
           "Virginia",
           "SERC",
           "2007"
          ],
          [
           "Connecticut",
           "NPCC",
           "2007"
          ],
          [
           "Oklahoma",
           "SPP",
           "2007"
          ],
          [
           "Maine",
           "NPCC",
           "2007"
          ],
          [
           "Maine",
           "NPCC",
           "2007"
          ],
          [
           "Maine",
           "NPCC",
           "2007"
          ],
          [
           "New Hampshire",
           "NPCC",
           "2007"
          ],
          [
           "Kansas",
           "MRO",
           "2007"
          ]
         ],
         "hovertemplate": "year=%{customdata[2]}<br>state_region=%{x}<br>duration=%{y}<br>state=%{customdata[0]}<br>nerc_region=%{customdata[1]}<extra></extra>",
         "legendgroup": "2007",
         "marker": {
          "color": "#EF553B",
          "symbol": "circle"
         },
         "mode": "markers",
         "name": "2007",
         "showlegend": true,
         "type": "scattergl",
         "x": [
          "Michigan (RFC)",
          "Michigan (RFC)",
          "Michigan (RFC)",
          "Michigan (RFC)",
          "Michigan (RFC)",
          "Michigan (RFC)",
          "Michigan (RFC)",
          "Texas (WECC)",
          "Texas (SPP)",
          "Texas (WECC)",
          "Texas (TRE)",
          "Texas (TRE)",
          "Texas (TRE)",
          "Indiana (RFC)",
          "Illinois (RFC)",
          "Illinois (RFC)",
          "Illinois (RFC)",
          "Washington (WECC)",
          "Washington (WECC)",
          "Maryland (RFC)",
          "Maryland (RFC)",
          "Pennsylvania (RFC)",
          "Utah (WECC)",
          "Missouri (SERC)",
          "Iowa (MRO)",
          "Iowa (RFC)",
          "New York (NPCC)",
          "New York (NPCC)",
          "New York (NPCC)",
          "California (WECC)",
          "California (WECC)",
          "California (WECC)",
          "California (WECC)",
          "California (WECC)",
          "California (WECC)",
          "California (WECC)",
          "California (WECC)",
          "California (WECC)",
          "California (WECC)",
          "California (WECC)",
          "California (WECC)",
          "California (WECC)",
          "California (WECC)",
          "California (WECC)",
          "California (WECC)",
          "California (WECC)",
          "California (WECC)",
          "Virginia (SERC)",
          "Virginia (SERC)",
          "Connecticut (NPCC)",
          "Oklahoma (SPP)",
          "Maine (NPCC)",
          "Maine (NPCC)",
          "Maine (NPCC)",
          "New Hampshire (NPCC)",
          "Kansas (MRO)"
         ],
         "xaxis": "x",
         "y": [
          "4830",
          "3637",
          "4320",
          "168",
          "3120",
          "5790",
          "9150",
          null,
          "2340",
          "766",
          "690",
          "318",
          "1830",
          "47",
          "7609",
          "1200",
          "1200",
          "2040",
          "6276",
          "3060",
          "5790",
          "78",
          "283",
          "2070",
          "347",
          "1044",
          "3300",
          "49",
          "48",
          "420",
          "64",
          "155",
          "1560",
          "3301",
          "435",
          "854",
          "182",
          "230",
          "962",
          "17",
          "21",
          "959",
          "1230",
          "37",
          "300",
          "4080",
          null,
          "385",
          "816",
          "4260",
          "13972",
          "1676",
          "3604",
          "950",
          "660",
          "13650"
         ],
         "yaxis": "y"
        },
        {
         "customdata": [
          [
           "Michigan",
           "ECAR",
           "2004"
          ],
          [
           "Michigan",
           "ECAR",
           "2004"
          ],
          [
           "Michigan",
           "ECAR",
           "2004"
          ],
          [
           "Michigan",
           "ECAR",
           "2004"
          ],
          [
           "Michigan",
           "ECAR",
           "2004"
          ],
          [
           "Texas",
           "TRE",
           "2004"
          ],
          [
           "Texas",
           "SPP",
           "2004"
          ],
          [
           "Texas",
           "WECC",
           "2004"
          ],
          [
           "Texas",
           "TRE",
           "2004"
          ],
          [
           "Texas",
           "TRE",
           "2004"
          ],
          [
           "Texas",
           "TRE",
           "2004"
          ],
          [
           "Texas",
           "TRE",
           "2004"
          ],
          [
           "Indiana",
           "ECAR",
           "2004"
          ],
          [
           "Illinois",
           "RFC",
           "2004"
          ],
          [
           "Illinois",
           "RFC",
           "2004"
          ],
          [
           "Washington",
           "WECC",
           "2004"
          ],
          [
           "Washington",
           "WECC",
           "2004"
          ],
          [
           "Arizona",
           "WECC",
           "2004"
          ],
          [
           "Arizona",
           "WECC",
           "2004"
          ],
          [
           "Arizona",
           "WECC",
           "2004"
          ],
          [
           "Maryland",
           "RFC",
           "2004"
          ],
          [
           "Maryland",
           "RFC",
           "2004"
          ],
          [
           "Pennsylvania",
           "RFC",
           "2004"
          ],
          [
           "Ohio",
           "ECAR",
           "2004"
          ],
          [
           "Ohio",
           "ECAR",
           "2004"
          ],
          [
           "North Carolina",
           "SERC",
           "2004"
          ],
          [
           "South Carolina",
           "SERC",
           "2004"
          ],
          [
           "South Carolina",
           "SERC",
           "2004"
          ],
          [
           "New York",
           "NPCC",
           "2004"
          ],
          [
           "New York",
           "NPCC",
           "2004"
          ],
          [
           "New York",
           "NPCC",
           "2004"
          ],
          [
           "Louisiana",
           "ECAR",
           "2004"
          ],
          [
           "Louisiana",
           "SPP",
           "2004"
          ],
          [
           "Louisiana",
           "SPP",
           "2004"
          ],
          [
           "Florida",
           "FRCC",
           "2004"
          ],
          [
           "Florida",
           "FRCC",
           "2004"
          ],
          [
           "Florida",
           "FRCC",
           "2004"
          ],
          [
           "Florida",
           "FRCC",
           "2004"
          ],
          [
           "Florida",
           "FRCC",
           "2004"
          ],
          [
           "Florida",
           "FRCC",
           "2004"
          ],
          [
           "Florida",
           "FRCC",
           "2004"
          ],
          [
           "Florida",
           "FRCC",
           "2004"
          ],
          [
           "Florida",
           "FRCC",
           "2004"
          ],
          [
           "Florida",
           "FRCC",
           "2004"
          ],
          [
           "Florida",
           "FRCC",
           "2004"
          ],
          [
           "Florida",
           "FRCC",
           "2004"
          ],
          [
           "Florida",
           "FRCC",
           "2004"
          ],
          [
           "Florida",
           "FRCC",
           "2004"
          ],
          [
           "Florida",
           "FRCC",
           "2004"
          ],
          [
           "Florida",
           "FRCC",
           "2004"
          ],
          [
           "Florida",
           "FRCC",
           "2004"
          ],
          [
           "California",
           "WECC",
           "2004"
          ],
          [
           "California",
           "WECC",
           "2004"
          ],
          [
           "California",
           "WECC",
           "2004"
          ],
          [
           "California",
           "WECC",
           "2004"
          ],
          [
           "California",
           "WECC",
           "2004"
          ],
          [
           "California",
           "WECC",
           "2004"
          ],
          [
           "California",
           "WECC",
           "2004"
          ],
          [
           "California",
           "WECC",
           "2004"
          ],
          [
           "California",
           "WECC",
           "2004"
          ],
          [
           "California",
           "WECC",
           "2004"
          ],
          [
           "Virginia",
           "SERC",
           "2004"
          ],
          [
           "Nebraska",
           "MRO",
           "2004"
          ],
          [
           "Georgia",
           "SERC",
           "2004"
          ],
          [
           "Georgia",
           "SERC",
           "2004"
          ],
          [
           "Georgia",
           "SERC",
           "2004"
          ],
          [
           "Georgia",
           "SERC",
           "2004"
          ],
          [
           "Georgia",
           "SERC",
           "2004"
          ],
          [
           "Oklahoma",
           "ECAR",
           "2004"
          ],
          [
           "Massachusetts",
           "NPCC",
           "2004"
          ],
          [
           "Idaho",
           "WECC",
           "2004"
          ]
         ],
         "hovertemplate": "year=%{customdata[2]}<br>state_region=%{x}<br>duration=%{y}<br>state=%{customdata[0]}<br>nerc_region=%{customdata[1]}<extra></extra>",
         "legendgroup": "2004",
         "marker": {
          "color": "#00cc96",
          "symbol": "circle"
         },
         "mode": "markers",
         "name": "2004",
         "showlegend": true,
         "type": "scattergl",
         "x": [
          "Michigan (ECAR)",
          "Michigan (ECAR)",
          "Michigan (ECAR)",
          "Michigan (ECAR)",
          "Michigan (ECAR)",
          "Texas (TRE)",
          "Texas (SPP)",
          "Texas (WECC)",
          "Texas (TRE)",
          "Texas (TRE)",
          "Texas (TRE)",
          "Texas (TRE)",
          "Indiana (ECAR)",
          "Illinois (RFC)",
          "Illinois (RFC)",
          "Washington (WECC)",
          "Washington (WECC)",
          "Arizona (WECC)",
          "Arizona (WECC)",
          "Arizona (WECC)",
          "Maryland (RFC)",
          "Maryland (RFC)",
          "Pennsylvania (RFC)",
          "Ohio (ECAR)",
          "Ohio (ECAR)",
          "North Carolina (SERC)",
          "South Carolina (SERC)",
          "South Carolina (SERC)",
          "New York (NPCC)",
          "New York (NPCC)",
          "New York (NPCC)",
          "Louisiana (ECAR)",
          "Louisiana (SPP)",
          "Louisiana (SPP)",
          "Florida (FRCC)",
          "Florida (FRCC)",
          "Florida (FRCC)",
          "Florida (FRCC)",
          "Florida (FRCC)",
          "Florida (FRCC)",
          "Florida (FRCC)",
          "Florida (FRCC)",
          "Florida (FRCC)",
          "Florida (FRCC)",
          "Florida (FRCC)",
          "Florida (FRCC)",
          "Florida (FRCC)",
          "Florida (FRCC)",
          "Florida (FRCC)",
          "Florida (FRCC)",
          "Florida (FRCC)",
          "California (WECC)",
          "California (WECC)",
          "California (WECC)",
          "California (WECC)",
          "California (WECC)",
          "California (WECC)",
          "California (WECC)",
          "California (WECC)",
          "California (WECC)",
          "California (WECC)",
          "Virginia (SERC)",
          "Nebraska (MRO)",
          "Georgia (SERC)",
          "Georgia (SERC)",
          "Georgia (SERC)",
          "Georgia (SERC)",
          "Georgia (SERC)",
          "Oklahoma (ECAR)",
          "Massachusetts (NPCC)",
          "Idaho (WECC)"
         ],
         "xaxis": "x",
         "y": [
          "5700",
          "3360",
          "4560",
          "7800",
          "5840",
          "900",
          "600",
          "39",
          "1200",
          "17865",
          "1200",
          "150",
          "5250",
          "1320",
          "1530",
          "5340",
          "4285",
          "49320",
          "49320",
          "418",
          "1671",
          "2279",
          "2319",
          "4920",
          "4920",
          "1890",
          "488",
          "3480",
          "4680",
          "3120",
          "2400",
          "8054",
          "2100",
          "1755",
          "4320",
          "4320",
          "480",
          "1005",
          "221",
          "4320",
          "3600",
          "6840",
          "221",
          "7560",
          "10380",
          "2040",
          "12060",
          "1680",
          "13920",
          "1099",
          "2460",
          "33",
          "2790",
          "2759",
          "161",
          "900",
          "64",
          "270",
          "1950",
          "572",
          "1414",
          "624",
          "4",
          "810",
          "1800",
          "1560",
          "360",
          "360",
          "6685",
          "374",
          "95"
         ],
         "yaxis": "y"
        },
        {
         "customdata": [
          [
           "Michigan",
           "RFC",
           "2006"
          ],
          [
           "Michigan",
           "RFC",
           "2006"
          ],
          [
           "Texas",
           "TRE",
           "2006"
          ],
          [
           "Texas",
           "TRE",
           "2006"
          ],
          [
           "Texas",
           "TRE",
           "2006"
          ],
          [
           "Texas",
           "TRE",
           "2006"
          ],
          [
           "Texas",
           "TRE",
           "2006"
          ],
          [
           "Texas",
           "TRE",
           "2006"
          ],
          [
           "Texas",
           "TRE",
           "2006"
          ],
          [
           "Texas",
           "TRE",
           "2006"
          ],
          [
           "Indiana",
           "RFC",
           "2006"
          ],
          [
           "Illinois",
           "RFC",
           "2006"
          ],
          [
           "Illinois",
           "RFC",
           "2006"
          ],
          [
           "Illinois",
           "RFC",
           "2006"
          ],
          [
           "Washington",
           "WECC",
           "2006"
          ],
          [
           "Washington",
           "WECC",
           "2006"
          ],
          [
           "Washington",
           "WECC",
           "2006"
          ],
          [
           "Washington",
           "WECC",
           "2006"
          ],
          [
           "Washington",
           "WECC",
           "2006"
          ],
          [
           "Washington",
           "WECC",
           "2006"
          ],
          [
           "Washington",
           "WECC",
           "2006"
          ],
          [
           "Washington",
           "WECC",
           "2006"
          ],
          [
           "Maryland",
           "RFC",
           "2006"
          ],
          [
           "Maryland",
           "RFC",
           "2006"
          ],
          [
           "Maryland",
           "RFC",
           "2006"
          ],
          [
           "Pennsylvania",
           "RFC",
           "2006"
          ],
          [
           "Pennsylvania",
           "RFC",
           "2006"
          ],
          [
           "Pennsylvania",
           "RFC",
           "2006"
          ],
          [
           "Pennsylvania",
           "RFC",
           "2006"
          ],
          [
           "Pennsylvania",
           "RFC",
           "2006"
          ],
          [
           "Ohio",
           "RFC",
           "2006"
          ],
          [
           "Ohio",
           "RFC",
           "2006"
          ],
          [
           "North Carolina",
           "SERC",
           "2006"
          ],
          [
           "North Carolina",
           "SERC",
           "2006"
          ],
          [
           "New Jersey",
           "RFC",
           "2006"
          ],
          [
           "New Jersey",
           "RFC",
           "2006"
          ],
          [
           "Oregon",
           "WECC",
           "2006"
          ],
          [
           "Oregon",
           "WECC",
           "2006"
          ],
          [
           "Oregon",
           "WECC",
           "2006"
          ],
          [
           "New York",
           "NPCC",
           "2006"
          ],
          [
           "New York",
           "NPCC",
           "2006"
          ],
          [
           "New York",
           "NPCC",
           "2006"
          ],
          [
           "New York",
           "NPCC",
           "2006"
          ],
          [
           "California",
           "WECC",
           "2006"
          ],
          [
           "California",
           "WECC",
           "2006"
          ],
          [
           "California",
           "WECC",
           "2006"
          ],
          [
           "California",
           "WECC",
           "2006"
          ],
          [
           "California",
           "WECC",
           "2006"
          ],
          [
           "California",
           "WECC",
           "2006"
          ],
          [
           "California",
           "WECC",
           "2006"
          ],
          [
           "California",
           "WECC",
           "2006"
          ],
          [
           "California",
           "WECC",
           "2006"
          ],
          [
           "Arkansas",
           "SERC",
           "2006"
          ],
          [
           "Virginia",
           "RFC",
           "2006"
          ],
          [
           "Virginia",
           "RFC",
           "2006"
          ],
          [
           "Virginia",
           "RFC",
           "2006"
          ],
          [
           "Nebraska",
           "MRO",
           "2006"
          ],
          [
           "Georgia",
           "SERC",
           "2006"
          ],
          [
           "Connecticut",
           "NPCC",
           "2006"
          ],
          [
           "Oklahoma",
           "RFC",
           "2006"
          ],
          [
           "Maine",
           "NPCC",
           "2006"
          ],
          [
           "Colorado",
           "WECC",
           "2006"
          ],
          [
           "Colorado",
           "MRO",
           "2006"
          ],
          [
           "Hawaii",
           "HECO",
           "2006"
          ],
          [
           "Hawaii",
           "HECO",
           "2006"
          ],
          [
           "Hawaii",
           "HECO",
           "2006"
          ],
          [
           "North Dakota",
           "MRO",
           "2006"
          ]
         ],
         "hovertemplate": "year=%{customdata[2]}<br>state_region=%{x}<br>duration=%{y}<br>state=%{customdata[0]}<br>nerc_region=%{customdata[1]}<extra></extra>",
         "legendgroup": "2006",
         "marker": {
          "color": "#ab63fa",
          "symbol": "circle"
         },
         "mode": "markers",
         "name": "2006",
         "showlegend": true,
         "type": "scattergl",
         "x": [
          "Michigan (RFC)",
          "Michigan (RFC)",
          "Texas (TRE)",
          "Texas (TRE)",
          "Texas (TRE)",
          "Texas (TRE)",
          "Texas (TRE)",
          "Texas (TRE)",
          "Texas (TRE)",
          "Texas (TRE)",
          "Indiana (RFC)",
          "Illinois (RFC)",
          "Illinois (RFC)",
          "Illinois (RFC)",
          "Washington (WECC)",
          "Washington (WECC)",
          "Washington (WECC)",
          "Washington (WECC)",
          "Washington (WECC)",
          "Washington (WECC)",
          "Washington (WECC)",
          "Washington (WECC)",
          "Maryland (RFC)",
          "Maryland (RFC)",
          "Maryland (RFC)",
          "Pennsylvania (RFC)",
          "Pennsylvania (RFC)",
          "Pennsylvania (RFC)",
          "Pennsylvania (RFC)",
          "Pennsylvania (RFC)",
          "Ohio (RFC)",
          "Ohio (RFC)",
          "North Carolina (SERC)",
          "North Carolina (SERC)",
          "New Jersey (RFC)",
          "New Jersey (RFC)",
          "Oregon (WECC)",
          "Oregon (WECC)",
          "Oregon (WECC)",
          "New York (NPCC)",
          "New York (NPCC)",
          "New York (NPCC)",
          "New York (NPCC)",
          "California (WECC)",
          "California (WECC)",
          "California (WECC)",
          "California (WECC)",
          "California (WECC)",
          "California (WECC)",
          "California (WECC)",
          "California (WECC)",
          "California (WECC)",
          "Arkansas (SERC)",
          "Virginia (RFC)",
          "Virginia (RFC)",
          "Virginia (RFC)",
          "Nebraska (MRO)",
          "Georgia (SERC)",
          "Connecticut (NPCC)",
          "Oklahoma (RFC)",
          "Maine (NPCC)",
          "Colorado (WECC)",
          "Colorado (MRO)",
          "Hawaii (HECO)",
          "Hawaii (HECO)",
          "Hawaii (HECO)",
          "North Dakota (MRO)"
         ],
         "xaxis": "x",
         "y": [
          "6420",
          "7080",
          "189",
          "245",
          "600",
          "271",
          "95",
          "121",
          "130",
          "900",
          "4045",
          "1680",
          "2370",
          "1440",
          "8940",
          "6690",
          "2639",
          "9630",
          "3507",
          "2820",
          "5855",
          "22769",
          "3938",
          "4440",
          "2610",
          "3058",
          "4800",
          "3060",
          "2985",
          "7523",
          "420",
          "1420",
          "180",
          "990",
          "4140",
          "3720",
          "4380",
          "4313",
          "1050",
          "448",
          "13140",
          "15492",
          "11296",
          "437",
          "180",
          "8472",
          "159",
          "334",
          "365",
          "2645",
          "7371",
          "180",
          "414",
          "1072",
          "168",
          "485",
          "9600",
          "120",
          "145",
          "300",
          "198",
          "439",
          "2140",
          "543",
          "237",
          "1906",
          null
         ],
         "yaxis": "y"
        },
        {
         "customdata": [
          [
           "Michigan",
           "ECAR",
           "2002"
          ],
          [
           "Arizona",
           "WECC",
           "2002"
          ],
          [
           "Pennsylvania",
           "RFC",
           "2002"
          ],
          [
           "Pennsylvania",
           "RFC",
           "2002"
          ],
          [
           "Missouri",
           "SPP",
           "2002"
          ],
          [
           "Louisiana",
           "SPP",
           "2002"
          ],
          [
           "Florida",
           "SERC",
           "2002"
          ],
          [
           "California",
           "WECC",
           "2002"
          ],
          [
           "California",
           "WECC",
           "2002"
          ],
          [
           "California",
           "WECC",
           "2002"
          ],
          [
           "California",
           "WECC",
           "2002"
          ],
          [
           "California",
           "WECC",
           "2002"
          ],
          [
           "Arkansas",
           "SPP",
           "2002"
          ],
          [
           "Virginia",
           "SERC",
           "2002"
          ],
          [
           "Connecticut",
           "NPCC",
           "2002"
          ],
          [
           "Oklahoma",
           "SPP",
           "2002"
          ],
          [
           "Kansas",
           "SPP",
           "2002"
          ]
         ],
         "hovertemplate": "year=%{customdata[2]}<br>state_region=%{x}<br>duration=%{y}<br>state=%{customdata[0]}<br>nerc_region=%{customdata[1]}<extra></extra>",
         "legendgroup": "2002",
         "marker": {
          "color": "#FFA15A",
          "symbol": "circle"
         },
         "mode": "markers",
         "name": "2002",
         "showlegend": true,
         "type": "scattergl",
         "x": [
          "Michigan (ECAR)",
          "Arizona (WECC)",
          "Pennsylvania (RFC)",
          "Pennsylvania (RFC)",
          "Missouri (SPP)",
          "Louisiana (SPP)",
          "Florida (SERC)",
          "California (WECC)",
          "California (WECC)",
          "California (WECC)",
          "California (WECC)",
          "California (WECC)",
          "Arkansas (SPP)",
          "Virginia (SERC)",
          "Connecticut (NPCC)",
          "Oklahoma (SPP)",
          "Kansas (SPP)"
         ],
         "xaxis": "x",
         "y": [
          "3600",
          null,
          "720",
          "2790",
          "15420",
          null,
          "230",
          "336",
          "5160",
          "47",
          "2820",
          "6780",
          "8160",
          "2691",
          "5880",
          "11880",
          null
         ],
         "yaxis": "y"
        },
        {
         "customdata": [
          [
           "Texas",
           "TRE",
           "2000"
          ],
          [
           "Texas",
           "SPP",
           "2000"
          ],
          [
           "Texas",
           "TRE",
           "2000"
          ],
          [
           "Texas",
           "FRCC",
           "2000"
          ],
          [
           "Indiana",
           "ECAR",
           "2000"
          ],
          [
           "Alabama",
           "SERC",
           "2000"
          ],
          [
           "Alabama",
           "SERC",
           "2000"
          ],
          [
           "Alabama",
           "SERC",
           "2000"
          ],
          [
           "Illinois",
           "SERC",
           "2000"
          ],
          [
           "Illinois",
           "SERC",
           "2000"
          ],
          [
           "Illinois",
           "SERC",
           "2000"
          ],
          [
           "Arizona",
           "WECC",
           "2000"
          ],
          [
           "Arizona",
           "WECC",
           "2000"
          ],
          [
           "Ohio",
           "ECAR",
           "2000"
          ],
          [
           "North Carolina",
           "SERC",
           "2000"
          ],
          [
           "North Carolina",
           "SERC",
           "2000"
          ],
          [
           "North Carolina",
           "SERC",
           "2000"
          ],
          [
           "South Carolina",
           "SERC",
           "2000"
          ],
          [
           "South Carolina",
           "SERC",
           "2000"
          ],
          [
           "Delaware",
           "RFC",
           "2000"
          ],
          [
           "New York",
           "NPCC",
           "2000"
          ],
          [
           "California",
           "WECC",
           "2000"
          ],
          [
           "Virginia",
           "SERC",
           "2000"
          ],
          [
           "New Mexico",
           "WECC",
           "2000"
          ],
          [
           "Maine",
           "NPCC",
           "2000"
          ],
          [
           "Alaska",
           "ASCC",
           "2000"
          ]
         ],
         "hovertemplate": "year=%{customdata[2]}<br>state_region=%{x}<br>duration=%{y}<br>state=%{customdata[0]}<br>nerc_region=%{customdata[1]}<extra></extra>",
         "legendgroup": "2000",
         "marker": {
          "color": "#19d3f3",
          "symbol": "circle"
         },
         "mode": "markers",
         "name": "2000",
         "showlegend": true,
         "type": "scattergl",
         "x": [
          "Texas (TRE)",
          "Texas (SPP)",
          "Texas (TRE)",
          "Texas (FRCC)",
          "Indiana (ECAR)",
          "Alabama (SERC)",
          "Alabama (SERC)",
          "Alabama (SERC)",
          "Illinois (SERC)",
          "Illinois (SERC)",
          "Illinois (SERC)",
          "Arizona (WECC)",
          "Arizona (WECC)",
          "Ohio (ECAR)",
          "North Carolina (SERC)",
          "North Carolina (SERC)",
          "North Carolina (SERC)",
          "South Carolina (SERC)",
          "South Carolina (SERC)",
          "Delaware (RFC)",
          "New York (NPCC)",
          "California (WECC)",
          "Virginia (SERC)",
          "New Mexico (WECC)",
          "Maine (NPCC)",
          "Alaska (ASCC)"
         ],
         "xaxis": "x",
         "y": [
          "480",
          "2159",
          "70",
          null,
          null,
          null,
          "3264",
          "1230",
          null,
          null,
          "1200",
          "66",
          null,
          null,
          "11280",
          "2490",
          null,
          "7440",
          "6600",
          null,
          "681",
          null,
          null,
          "0",
          null,
          null
         ],
         "yaxis": "y"
        },
        {
         "customdata": [
          [
           "Texas",
           "TRE",
           "2001"
          ],
          [
           "Texas",
           "TRE",
           "2001"
          ],
          [
           "Texas",
           "TRE",
           "2001"
          ],
          [
           "New York",
           "NPCC",
           "2001"
          ],
          [
           "California",
           "WECC",
           "2001"
          ],
          [
           "California",
           "WECC",
           "2001"
          ],
          [
           "California",
           "WECC",
           "2001"
          ],
          [
           "California",
           "WECC",
           "2001"
          ],
          [
           "California",
           "WECC",
           "2001"
          ],
          [
           "California",
           "WECC",
           "2001"
          ],
          [
           "California",
           "WECC",
           "2001"
          ],
          [
           "California",
           "WECC",
           "2001"
          ],
          [
           "California",
           "WECC",
           "2001"
          ],
          [
           "Virginia",
           "SERC",
           "2001"
          ],
          [
           "Massachusetts",
           "NPCC",
           "2001"
          ]
         ],
         "hovertemplate": "year=%{customdata[2]}<br>state_region=%{x}<br>duration=%{y}<br>state=%{customdata[0]}<br>nerc_region=%{customdata[1]}<extra></extra>",
         "legendgroup": "2001",
         "marker": {
          "color": "#FF6692",
          "symbol": "circle"
         },
         "mode": "markers",
         "name": "2001",
         "showlegend": true,
         "type": "scattergl",
         "x": [
          "Texas (TRE)",
          "Texas (TRE)",
          "Texas (TRE)",
          "New York (NPCC)",
          "California (WECC)",
          "California (WECC)",
          "California (WECC)",
          "California (WECC)",
          "California (WECC)",
          "California (WECC)",
          "California (WECC)",
          "California (WECC)",
          "California (WECC)",
          "Virginia (SERC)",
          "Massachusetts (NPCC)"
         ],
         "xaxis": "x",
         "y": [
          "167",
          "10140",
          "1440",
          "494",
          "316",
          "2055",
          "140",
          null,
          "554",
          "108",
          "75",
          "141",
          "1835",
          "241",
          "103"
         ],
         "yaxis": "y"
        }
       ],
       "layout": {
        "font": {
         "size": 14
        },
        "height": 700,
        "legend": {
         "title": {
          "text": "year"
         },
         "tracegroupgap": 0
        },
        "template": {
         "data": {
          "bar": [
           {
            "error_x": {
             "color": "#2a3f5f"
            },
            "error_y": {
             "color": "#2a3f5f"
            },
            "marker": {
             "line": {
              "color": "#E5ECF6",
              "width": 0.5
             },
             "pattern": {
              "fillmode": "overlay",
              "size": 10,
              "solidity": 0.2
             }
            },
            "type": "bar"
           }
          ],
          "barpolar": [
           {
            "marker": {
             "line": {
              "color": "#E5ECF6",
              "width": 0.5
             },
             "pattern": {
              "fillmode": "overlay",
              "size": 10,
              "solidity": 0.2
             }
            },
            "type": "barpolar"
           }
          ],
          "carpet": [
           {
            "aaxis": {
             "endlinecolor": "#2a3f5f",
             "gridcolor": "white",
             "linecolor": "white",
             "minorgridcolor": "white",
             "startlinecolor": "#2a3f5f"
            },
            "baxis": {
             "endlinecolor": "#2a3f5f",
             "gridcolor": "white",
             "linecolor": "white",
             "minorgridcolor": "white",
             "startlinecolor": "#2a3f5f"
            },
            "type": "carpet"
           }
          ],
          "choropleth": [
           {
            "colorbar": {
             "outlinewidth": 0,
             "ticks": ""
            },
            "type": "choropleth"
           }
          ],
          "contour": [
           {
            "colorbar": {
             "outlinewidth": 0,
             "ticks": ""
            },
            "colorscale": [
             [
              0,
              "#0d0887"
             ],
             [
              0.1111111111111111,
              "#46039f"
             ],
             [
              0.2222222222222222,
              "#7201a8"
             ],
             [
              0.3333333333333333,
              "#9c179e"
             ],
             [
              0.4444444444444444,
              "#bd3786"
             ],
             [
              0.5555555555555556,
              "#d8576b"
             ],
             [
              0.6666666666666666,
              "#ed7953"
             ],
             [
              0.7777777777777778,
              "#fb9f3a"
             ],
             [
              0.8888888888888888,
              "#fdca26"
             ],
             [
              1,
              "#f0f921"
             ]
            ],
            "type": "contour"
           }
          ],
          "contourcarpet": [
           {
            "colorbar": {
             "outlinewidth": 0,
             "ticks": ""
            },
            "type": "contourcarpet"
           }
          ],
          "heatmap": [
           {
            "colorbar": {
             "outlinewidth": 0,
             "ticks": ""
            },
            "colorscale": [
             [
              0,
              "#0d0887"
             ],
             [
              0.1111111111111111,
              "#46039f"
             ],
             [
              0.2222222222222222,
              "#7201a8"
             ],
             [
              0.3333333333333333,
              "#9c179e"
             ],
             [
              0.4444444444444444,
              "#bd3786"
             ],
             [
              0.5555555555555556,
              "#d8576b"
             ],
             [
              0.6666666666666666,
              "#ed7953"
             ],
             [
              0.7777777777777778,
              "#fb9f3a"
             ],
             [
              0.8888888888888888,
              "#fdca26"
             ],
             [
              1,
              "#f0f921"
             ]
            ],
            "type": "heatmap"
           }
          ],
          "heatmapgl": [
           {
            "colorbar": {
             "outlinewidth": 0,
             "ticks": ""
            },
            "colorscale": [
             [
              0,
              "#0d0887"
             ],
             [
              0.1111111111111111,
              "#46039f"
             ],
             [
              0.2222222222222222,
              "#7201a8"
             ],
             [
              0.3333333333333333,
              "#9c179e"
             ],
             [
              0.4444444444444444,
              "#bd3786"
             ],
             [
              0.5555555555555556,
              "#d8576b"
             ],
             [
              0.6666666666666666,
              "#ed7953"
             ],
             [
              0.7777777777777778,
              "#fb9f3a"
             ],
             [
              0.8888888888888888,
              "#fdca26"
             ],
             [
              1,
              "#f0f921"
             ]
            ],
            "type": "heatmapgl"
           }
          ],
          "histogram": [
           {
            "marker": {
             "pattern": {
              "fillmode": "overlay",
              "size": 10,
              "solidity": 0.2
             }
            },
            "type": "histogram"
           }
          ],
          "histogram2d": [
           {
            "colorbar": {
             "outlinewidth": 0,
             "ticks": ""
            },
            "colorscale": [
             [
              0,
              "#0d0887"
             ],
             [
              0.1111111111111111,
              "#46039f"
             ],
             [
              0.2222222222222222,
              "#7201a8"
             ],
             [
              0.3333333333333333,
              "#9c179e"
             ],
             [
              0.4444444444444444,
              "#bd3786"
             ],
             [
              0.5555555555555556,
              "#d8576b"
             ],
             [
              0.6666666666666666,
              "#ed7953"
             ],
             [
              0.7777777777777778,
              "#fb9f3a"
             ],
             [
              0.8888888888888888,
              "#fdca26"
             ],
             [
              1,
              "#f0f921"
             ]
            ],
            "type": "histogram2d"
           }
          ],
          "histogram2dcontour": [
           {
            "colorbar": {
             "outlinewidth": 0,
             "ticks": ""
            },
            "colorscale": [
             [
              0,
              "#0d0887"
             ],
             [
              0.1111111111111111,
              "#46039f"
             ],
             [
              0.2222222222222222,
              "#7201a8"
             ],
             [
              0.3333333333333333,
              "#9c179e"
             ],
             [
              0.4444444444444444,
              "#bd3786"
             ],
             [
              0.5555555555555556,
              "#d8576b"
             ],
             [
              0.6666666666666666,
              "#ed7953"
             ],
             [
              0.7777777777777778,
              "#fb9f3a"
             ],
             [
              0.8888888888888888,
              "#fdca26"
             ],
             [
              1,
              "#f0f921"
             ]
            ],
            "type": "histogram2dcontour"
           }
          ],
          "mesh3d": [
           {
            "colorbar": {
             "outlinewidth": 0,
             "ticks": ""
            },
            "type": "mesh3d"
           }
          ],
          "parcoords": [
           {
            "line": {
             "colorbar": {
              "outlinewidth": 0,
              "ticks": ""
             }
            },
            "type": "parcoords"
           }
          ],
          "pie": [
           {
            "automargin": true,
            "type": "pie"
           }
          ],
          "scatter": [
           {
            "fillpattern": {
             "fillmode": "overlay",
             "size": 10,
             "solidity": 0.2
            },
            "type": "scatter"
           }
          ],
          "scatter3d": [
           {
            "line": {
             "colorbar": {
              "outlinewidth": 0,
              "ticks": ""
             }
            },
            "marker": {
             "colorbar": {
              "outlinewidth": 0,
              "ticks": ""
             }
            },
            "type": "scatter3d"
           }
          ],
          "scattercarpet": [
           {
            "marker": {
             "colorbar": {
              "outlinewidth": 0,
              "ticks": ""
             }
            },
            "type": "scattercarpet"
           }
          ],
          "scattergeo": [
           {
            "marker": {
             "colorbar": {
              "outlinewidth": 0,
              "ticks": ""
             }
            },
            "type": "scattergeo"
           }
          ],
          "scattergl": [
           {
            "marker": {
             "colorbar": {
              "outlinewidth": 0,
              "ticks": ""
             }
            },
            "type": "scattergl"
           }
          ],
          "scattermapbox": [
           {
            "marker": {
             "colorbar": {
              "outlinewidth": 0,
              "ticks": ""
             }
            },
            "type": "scattermapbox"
           }
          ],
          "scatterpolar": [
           {
            "marker": {
             "colorbar": {
              "outlinewidth": 0,
              "ticks": ""
             }
            },
            "type": "scatterpolar"
           }
          ],
          "scatterpolargl": [
           {
            "marker": {
             "colorbar": {
              "outlinewidth": 0,
              "ticks": ""
             }
            },
            "type": "scatterpolargl"
           }
          ],
          "scatterternary": [
           {
            "marker": {
             "colorbar": {
              "outlinewidth": 0,
              "ticks": ""
             }
            },
            "type": "scatterternary"
           }
          ],
          "surface": [
           {
            "colorbar": {
             "outlinewidth": 0,
             "ticks": ""
            },
            "colorscale": [
             [
              0,
              "#0d0887"
             ],
             [
              0.1111111111111111,
              "#46039f"
             ],
             [
              0.2222222222222222,
              "#7201a8"
             ],
             [
              0.3333333333333333,
              "#9c179e"
             ],
             [
              0.4444444444444444,
              "#bd3786"
             ],
             [
              0.5555555555555556,
              "#d8576b"
             ],
             [
              0.6666666666666666,
              "#ed7953"
             ],
             [
              0.7777777777777778,
              "#fb9f3a"
             ],
             [
              0.8888888888888888,
              "#fdca26"
             ],
             [
              1,
              "#f0f921"
             ]
            ],
            "type": "surface"
           }
          ],
          "table": [
           {
            "cells": {
             "fill": {
              "color": "#EBF0F8"
             },
             "line": {
              "color": "white"
             }
            },
            "header": {
             "fill": {
              "color": "#C8D4E3"
             },
             "line": {
              "color": "white"
             }
            },
            "type": "table"
           }
          ]
         },
         "layout": {
          "annotationdefaults": {
           "arrowcolor": "#2a3f5f",
           "arrowhead": 0,
           "arrowwidth": 1
          },
          "autotypenumbers": "strict",
          "coloraxis": {
           "colorbar": {
            "outlinewidth": 0,
            "ticks": ""
           }
          },
          "colorscale": {
           "diverging": [
            [
             0,
             "#8e0152"
            ],
            [
             0.1,
             "#c51b7d"
            ],
            [
             0.2,
             "#de77ae"
            ],
            [
             0.3,
             "#f1b6da"
            ],
            [
             0.4,
             "#fde0ef"
            ],
            [
             0.5,
             "#f7f7f7"
            ],
            [
             0.6,
             "#e6f5d0"
            ],
            [
             0.7,
             "#b8e186"
            ],
            [
             0.8,
             "#7fbc41"
            ],
            [
             0.9,
             "#4d9221"
            ],
            [
             1,
             "#276419"
            ]
           ],
           "sequential": [
            [
             0,
             "#0d0887"
            ],
            [
             0.1111111111111111,
             "#46039f"
            ],
            [
             0.2222222222222222,
             "#7201a8"
            ],
            [
             0.3333333333333333,
             "#9c179e"
            ],
            [
             0.4444444444444444,
             "#bd3786"
            ],
            [
             0.5555555555555556,
             "#d8576b"
            ],
            [
             0.6666666666666666,
             "#ed7953"
            ],
            [
             0.7777777777777778,
             "#fb9f3a"
            ],
            [
             0.8888888888888888,
             "#fdca26"
            ],
            [
             1,
             "#f0f921"
            ]
           ],
           "sequentialminus": [
            [
             0,
             "#0d0887"
            ],
            [
             0.1111111111111111,
             "#46039f"
            ],
            [
             0.2222222222222222,
             "#7201a8"
            ],
            [
             0.3333333333333333,
             "#9c179e"
            ],
            [
             0.4444444444444444,
             "#bd3786"
            ],
            [
             0.5555555555555556,
             "#d8576b"
            ],
            [
             0.6666666666666666,
             "#ed7953"
            ],
            [
             0.7777777777777778,
             "#fb9f3a"
            ],
            [
             0.8888888888888888,
             "#fdca26"
            ],
            [
             1,
             "#f0f921"
            ]
           ]
          },
          "colorway": [
           "#636efa",
           "#EF553B",
           "#00cc96",
           "#ab63fa",
           "#FFA15A",
           "#19d3f3",
           "#FF6692",
           "#B6E880",
           "#FF97FF",
           "#FECB52"
          ],
          "font": {
           "color": "#2a3f5f"
          },
          "geo": {
           "bgcolor": "white",
           "lakecolor": "white",
           "landcolor": "#E5ECF6",
           "showlakes": true,
           "showland": true,
           "subunitcolor": "white"
          },
          "hoverlabel": {
           "align": "left"
          },
          "hovermode": "closest",
          "mapbox": {
           "style": "light"
          },
          "paper_bgcolor": "white",
          "plot_bgcolor": "#E5ECF6",
          "polar": {
           "angularaxis": {
            "gridcolor": "white",
            "linecolor": "white",
            "ticks": ""
           },
           "bgcolor": "#E5ECF6",
           "radialaxis": {
            "gridcolor": "white",
            "linecolor": "white",
            "ticks": ""
           }
          },
          "scene": {
           "xaxis": {
            "backgroundcolor": "#E5ECF6",
            "gridcolor": "white",
            "gridwidth": 2,
            "linecolor": "white",
            "showbackground": true,
            "ticks": "",
            "zerolinecolor": "white"
           },
           "yaxis": {
            "backgroundcolor": "#E5ECF6",
            "gridcolor": "white",
            "gridwidth": 2,
            "linecolor": "white",
            "showbackground": true,
            "ticks": "",
            "zerolinecolor": "white"
           },
           "zaxis": {
            "backgroundcolor": "#E5ECF6",
            "gridcolor": "white",
            "gridwidth": 2,
            "linecolor": "white",
            "showbackground": true,
            "ticks": "",
            "zerolinecolor": "white"
           }
          },
          "shapedefaults": {
           "line": {
            "color": "#2a3f5f"
           }
          },
          "ternary": {
           "aaxis": {
            "gridcolor": "white",
            "linecolor": "white",
            "ticks": ""
           },
           "baxis": {
            "gridcolor": "white",
            "linecolor": "white",
            "ticks": ""
           },
           "bgcolor": "#E5ECF6",
           "caxis": {
            "gridcolor": "white",
            "linecolor": "white",
            "ticks": ""
           }
          },
          "title": {
           "x": 0.05
          },
          "xaxis": {
           "automargin": true,
           "gridcolor": "white",
           "linecolor": "white",
           "ticks": "",
           "title": {
            "standoff": 15
           },
           "zerolinecolor": "white",
           "zerolinewidth": 2
          },
          "yaxis": {
           "automargin": true,
           "gridcolor": "white",
           "linecolor": "white",
           "ticks": "",
           "title": {
            "standoff": 15
           },
           "zerolinecolor": "white",
           "zerolinewidth": 2
          }
         }
        },
        "title": {
         "text": "Outage Duration by State and NERC Region (Colored by Year)"
        },
        "width": 1400,
        "xaxis": {
         "anchor": "y",
         "domain": [
          0,
          1
         ],
         "tickangle": 60,
         "title": {
          "text": "State and NERC Region"
         }
        },
        "yaxis": {
         "anchor": "x",
         "domain": [
          0,
          1
         ],
         "title": {
          "text": "Outage Duration"
         }
        }
       }
      }
     },
     "metadata": {},
     "output_type": "display_data"
    }
   ],
   "source": [
    "# Create a combined label for clarity\n",
    "data = raw.copy()\n",
    "data['state_region'] = data['state'] + ' (' + data['nerc_region'] + ')'\n",
    "\n",
    "fig = px.scatter(\n",
    "    data,\n",
    "    x='state_region',\n",
    "    y='duration',\n",
    "    color='year',\n",
    "    title='Outage Duration by State and NERC Region (Colored by Year)',\n",
    "    labels={'State_Region': 'State (NERC Region)', 'Outage Duration': 'Outage Duration (hours)'},\n",
    "    hover_data=['state', 'nerc_region', 'year', 'duration'],\n",
    ")\n",
    "\n",
    "fig.update_layout(\n",
    "    xaxis_tickangle=60,\n",
    "    xaxis_title='State and NERC Region',\n",
    "    yaxis_title='Outage Duration',\n",
    "    height=700,\n",
    "    width=1400,\n",
    "    font=dict(size=14)\n",
    ")\n",
    "\n",
    "fig.show()\n"
   ]
  },
  {
   "cell_type": "code",
   "execution_count": 9,
   "metadata": {},
   "outputs": [
    {
     "data": {
      "application/vnd.plotly.v1+json": {
       "config": {
        "plotlyServerURL": "https://plot.ly"
       },
       "data": [
        {
         "alignmentgroup": "True",
         "hovertemplate": "nerc_region=MRO<br>Year Group=2010–2012<br>state=%{x}<br>Outage Duration (hours)=%{y}<extra></extra>",
         "legendgroup": "MRO",
         "marker": {
          "color": "#636efa"
         },
         "name": "MRO",
         "notched": false,
         "offsetgroup": "MRO",
         "orientation": "v",
         "showlegend": true,
         "type": "box",
         "x": [
          "Minnesota",
          "Minnesota",
          "Minnesota",
          "Minnesota",
          "Minnesota",
          "Minnesota",
          "Minnesota",
          "Wisconsin",
          "Wisconsin",
          "Iowa",
          "Montana",
          "North Dakota"
         ],
         "x0": " ",
         "xaxis": "x",
         "y": [
          "3060",
          "3000",
          "2550",
          "1860",
          "2970",
          "0",
          "1322",
          "388",
          "480",
          "2161",
          "13",
          "720"
         ],
         "y0": " ",
         "yaxis": "y"
        },
        {
         "alignmentgroup": "True",
         "hovertemplate": "nerc_region=MRO<br>Year Group=2013–2015<br>state=%{x}<br>Outage Duration (hours)=%{y}<extra></extra>",
         "legendgroup": "MRO",
         "marker": {
          "color": "#636efa"
         },
         "name": "MRO",
         "notched": false,
         "offsetgroup": "MRO",
         "orientation": "v",
         "showlegend": false,
         "type": "box",
         "x": [
          "Minnesota",
          "Minnesota",
          "Minnesota",
          "Minnesota",
          "Minnesota",
          "Minnesota",
          "Wisconsin",
          "Wisconsin",
          "Wisconsin",
          "Wisconsin",
          "Wisconsin",
          "Wisconsin",
          "Wisconsin",
          "Wisconsin",
          "Wisconsin",
          "Wisconsin",
          "Wisconsin",
          "Wisconsin",
          "Iowa",
          "Iowa",
          "Iowa",
          "Iowa"
         ],
         "x0": " ",
         "xaxis": "x2",
         "y": [
          "1",
          "1740",
          "155",
          "3621",
          "7740",
          "60",
          null,
          "135",
          "32",
          "8468",
          "44",
          "90",
          "18660",
          "538",
          "104",
          "60",
          "1272",
          "60",
          "251",
          "1637",
          "21360",
          "2880"
         ],
         "y0": " ",
         "yaxis": "y2"
        },
        {
         "alignmentgroup": "True",
         "hovertemplate": "nerc_region=MRO<br>Year Group=2004–2006<br>state=%{x}<br>Outage Duration (hours)=%{y}<extra></extra>",
         "legendgroup": "MRO",
         "marker": {
          "color": "#636efa"
         },
         "name": "MRO",
         "notched": false,
         "offsetgroup": "MRO",
         "orientation": "v",
         "showlegend": false,
         "type": "box",
         "x": [
          "Minnesota",
          "Minnesota",
          "Nebraska",
          "Nebraska",
          "Colorado",
          "North Dakota"
         ],
         "x0": " ",
         "xaxis": "x3",
         "y": [
          "3960",
          "8880",
          "4",
          "9600",
          "2140",
          null
         ],
         "y0": " ",
         "yaxis": "y3"
        },
        {
         "alignmentgroup": "True",
         "hovertemplate": "nerc_region=MRO<br>Year Group=2007–2009<br>state=%{x}<br>Outage Duration (hours)=%{y}<extra></extra>",
         "legendgroup": "MRO",
         "marker": {
          "color": "#636efa"
         },
         "name": "MRO",
         "notched": false,
         "offsetgroup": "MRO",
         "orientation": "v",
         "showlegend": false,
         "type": "box",
         "x": [
          "Iowa",
          "Nebraska",
          "Kansas",
          "South Dakota"
         ],
         "x0": " ",
         "xaxis": "x4",
         "y": [
          "347",
          "60",
          "13650",
          "181"
         ],
         "y0": " ",
         "yaxis": "y4"
        },
        {
         "alignmentgroup": "True",
         "hovertemplate": "nerc_region=MRO<br>Year Group=2016–2018<br>state=%{x}<br>Outage Duration (hours)=%{y}<extra></extra>",
         "legendgroup": "MRO",
         "marker": {
          "color": "#636efa"
         },
         "name": "MRO",
         "notched": false,
         "offsetgroup": "MRO",
         "orientation": "v",
         "showlegend": false,
         "type": "box",
         "x": [
          "Wisconsin"
         ],
         "x0": " ",
         "xaxis": "x5",
         "y": [
          "1605"
         ],
         "y0": " ",
         "yaxis": "y5"
        },
        {
         "alignmentgroup": "True",
         "hovertemplate": "nerc_region=MRO<br>Year Group=2001–2003<br>state=%{x}<br>Outage Duration (hours)=%{y}<extra></extra>",
         "legendgroup": "MRO",
         "marker": {
          "color": "#636efa"
         },
         "name": "MRO",
         "notched": false,
         "offsetgroup": "MRO",
         "orientation": "v",
         "showlegend": false,
         "type": "box",
         "x": [
          "Wisconsin"
         ],
         "x0": " ",
         "xaxis": "x6",
         "y": [
          "1219"
         ],
         "y0": " ",
         "yaxis": "y6"
        },
        {
         "alignmentgroup": "True",
         "hovertemplate": "nerc_region=SERC<br>Year Group=2010–2012<br>state=%{x}<br>Outage Duration (hours)=%{y}<extra></extra>",
         "legendgroup": "SERC",
         "marker": {
          "color": "#EF553B"
         },
         "name": "SERC",
         "notched": false,
         "offsetgroup": "SERC",
         "orientation": "v",
         "showlegend": true,
         "type": "box",
         "x": [
          "Tennessee",
          "Tennessee",
          "Tennessee",
          "Tennessee",
          "Tennessee",
          "Tennessee",
          "Tennessee",
          "Tennessee",
          "Tennessee",
          "Tennessee",
          "Texas",
          "Mississippi",
          "Illinois",
          "Illinois",
          "Kentucky",
          "Kentucky",
          "North Carolina",
          "North Carolina",
          "North Carolina",
          "North Carolina",
          "North Carolina",
          "North Carolina",
          "North Carolina",
          "North Carolina",
          "North Carolina",
          "North Carolina",
          "North Carolina",
          "North Carolina",
          "North Carolina",
          "South Carolina",
          "Missouri",
          "Missouri",
          "Louisiana",
          "Louisiana",
          "Louisiana",
          "Louisiana",
          "Louisiana",
          "Louisiana",
          "Louisiana",
          "Louisiana",
          "Louisiana",
          "Louisiana",
          "Louisiana",
          "Arkansas",
          "Arkansas",
          "Arkansas",
          "Arkansas",
          "Arkansas",
          "Arkansas",
          "Virginia",
          "Virginia",
          "Virginia",
          "Virginia",
          "Virginia",
          "Virginia",
          "Virginia",
          "Virginia",
          "Virginia",
          "Virginia",
          "Virginia",
          "Georgia",
          "Georgia",
          "Georgia",
          "Georgia"
         ],
         "x0": " ",
         "xaxis": "x",
         "y": [
          "0",
          "196",
          "1260",
          "0",
          "660",
          "2700",
          "4921",
          "2550",
          "5054",
          "46",
          "1282",
          "300",
          "120",
          "120",
          "1440",
          "1579",
          "1574",
          "563",
          "388",
          "373",
          "290",
          "270",
          "195",
          "1025",
          "129",
          "0",
          "2551",
          "4113",
          "42",
          "2415",
          "2880",
          "120",
          "2775",
          "2775",
          "2775",
          "430",
          "2129",
          "7",
          "467",
          "3060",
          "2880",
          "1867",
          "295",
          "105",
          "210",
          "1201",
          "300",
          "206",
          "513",
          "180",
          "208",
          "1355",
          "1205",
          "144",
          "235",
          "6787",
          "1673",
          "30",
          "160",
          "1301",
          "2054",
          "1452",
          "645",
          "108"
         ],
         "y0": " ",
         "yaxis": "y"
        },
        {
         "alignmentgroup": "True",
         "hovertemplate": "nerc_region=SERC<br>Year Group=2013–2015<br>state=%{x}<br>Outage Duration (hours)=%{y}<extra></extra>",
         "legendgroup": "SERC",
         "marker": {
          "color": "#EF553B"
         },
         "name": "SERC",
         "notched": false,
         "offsetgroup": "SERC",
         "orientation": "v",
         "showlegend": false,
         "type": "box",
         "x": [
          "Tennessee",
          "Tennessee",
          "Tennessee",
          "Tennessee",
          "Tennessee",
          "Tennessee",
          "Tennessee",
          "Tennessee",
          "Tennessee",
          "Tennessee",
          "Tennessee",
          "Tennessee",
          "Tennessee",
          "Tennessee",
          "Tennessee",
          "Tennessee",
          "Tennessee",
          "Tennessee",
          "Texas",
          "Alabama",
          "Alabama",
          "Alabama",
          "Mississippi",
          "Mississippi",
          "Mississippi",
          "Kentucky",
          "North Carolina",
          "North Carolina",
          "North Carolina",
          "North Carolina",
          "North Carolina",
          "North Carolina",
          "North Carolina",
          "North Carolina",
          "North Carolina",
          "North Carolina",
          "North Carolina",
          "South Carolina",
          "South Carolina",
          "South Carolina",
          "Missouri",
          "Missouri",
          "Missouri",
          "Missouri",
          "Missouri",
          "Louisiana",
          "Louisiana",
          "Arkansas",
          "Arkansas",
          "Arkansas",
          "Arkansas",
          "Arkansas",
          "Virginia",
          "Virginia",
          "Virginia",
          "Virginia",
          "Virginia",
          "Georgia",
          "Georgia",
          "Georgia"
         ],
         "x0": " ",
         "xaxis": "x2",
         "y": [
          "19",
          "21",
          "935",
          null,
          "619",
          "150",
          "1",
          "1",
          "95",
          "251",
          "4125",
          "1200",
          "310",
          "2818",
          "528",
          "150",
          "1",
          "1920",
          "1",
          "390",
          "803",
          "77",
          "30",
          "1",
          "5",
          "108",
          "45",
          "4510",
          "1950",
          "1265",
          "3120",
          "1485",
          "985",
          "405",
          "1698",
          "182",
          "1050",
          "180",
          "4177",
          "300",
          "65",
          "25",
          null,
          "1470",
          "4140",
          "227",
          "52",
          "240",
          "1",
          "60",
          "285",
          "2363",
          "448",
          "2",
          "103",
          "1565",
          "1508",
          "1999",
          "1087",
          "4122"
         ],
         "y0": " ",
         "yaxis": "y2"
        },
        {
         "alignmentgroup": "True",
         "hovertemplate": "nerc_region=SERC<br>Year Group=2004–2006<br>state=%{x}<br>Outage Duration (hours)=%{y}<extra></extra>",
         "legendgroup": "SERC",
         "marker": {
          "color": "#EF553B"
         },
         "name": "SERC",
         "notched": false,
         "offsetgroup": "SERC",
         "orientation": "v",
         "showlegend": false,
         "type": "box",
         "x": [
          "North Carolina",
          "North Carolina",
          "North Carolina",
          "North Carolina",
          "North Carolina",
          "South Carolina",
          "South Carolina",
          "Arkansas",
          "Virginia",
          "Georgia",
          "Georgia",
          "Georgia",
          "Georgia",
          "Georgia",
          "Georgia",
          "Georgia",
          "Georgia"
         ],
         "x0": " ",
         "xaxis": "x3",
         "y": [
          "1440",
          "180",
          "990",
          "240",
          "1890",
          "488",
          "3480",
          "414",
          "624",
          "810",
          "1380",
          "1800",
          "1560",
          "1865",
          "120",
          "360",
          "360"
         ],
         "y0": " ",
         "yaxis": "y3"
        },
        {
         "alignmentgroup": "True",
         "hovertemplate": "nerc_region=SERC<br>Year Group=2007–2009<br>state=%{x}<br>Outage Duration (hours)=%{y}<extra></extra>",
         "legendgroup": "SERC",
         "marker": {
          "color": "#EF553B"
         },
         "name": "SERC",
         "notched": false,
         "offsetgroup": "SERC",
         "orientation": "v",
         "showlegend": false,
         "type": "box",
         "x": [
          "Tennessee",
          "Tennessee",
          "Tennessee",
          "Tennessee",
          "Illinois",
          "Illinois",
          "Kentucky",
          "Kentucky",
          "Kentucky",
          "North Carolina",
          "North Carolina",
          "North Carolina",
          "Missouri",
          "Missouri",
          "Missouri",
          "Louisiana",
          "Louisiana",
          "Louisiana",
          "Louisiana",
          "Louisiana",
          "Louisiana",
          "Louisiana",
          "Louisiana",
          "Arkansas",
          "Arkansas",
          "Virginia",
          "Virginia",
          "Virginia",
          "Virginia",
          "Virginia",
          "Virginia",
          "Georgia",
          "Georgia"
         ],
         "x0": " ",
         "xaxis": "x4",
         "y": [
          "840",
          "762",
          "136",
          "32",
          "659",
          "9230",
          "652",
          "1020",
          "6492",
          "1318",
          "1460",
          "885",
          "810",
          "4740",
          "2070",
          "28170",
          "732",
          "510",
          "420",
          "13215",
          "17812",
          "20416",
          "355",
          "10274",
          "2700",
          "424",
          "385",
          "2640",
          "1826",
          "570",
          "816",
          "1950",
          "1200"
         ],
         "y0": " ",
         "yaxis": "y4"
        },
        {
         "alignmentgroup": "True",
         "hovertemplate": "nerc_region=SERC<br>Year Group=2016–2018<br>state=%{x}<br>Outage Duration (hours)=%{y}<extra></extra>",
         "legendgroup": "SERC",
         "marker": {
          "color": "#EF553B"
         },
         "name": "SERC",
         "notched": false,
         "offsetgroup": "SERC",
         "orientation": "v",
         "showlegend": false,
         "type": "box",
         "x": [
          "Tennessee",
          "Tennessee",
          "North Carolina",
          "North Carolina",
          "Missouri",
          "Missouri",
          "Louisiana",
          "Louisiana",
          "California"
         ],
         "x0": " ",
         "xaxis": "x5",
         "y": [
          null,
          null,
          "1355",
          "167",
          "1199",
          null,
          "3180",
          null,
          "223"
         ],
         "y0": " ",
         "yaxis": "y5"
        },
        {
         "alignmentgroup": "True",
         "hovertemplate": "nerc_region=SERC<br>Year Group=2001–2003<br>state=%{x}<br>Outage Duration (hours)=%{y}<extra></extra>",
         "legendgroup": "SERC",
         "marker": {
          "color": "#EF553B"
         },
         "name": "SERC",
         "notched": false,
         "offsetgroup": "SERC",
         "orientation": "v",
         "showlegend": false,
         "type": "box",
         "x": [
          "Illinois",
          "Illinois",
          "North Carolina",
          "North Carolina",
          "North Carolina",
          "Florida",
          "Virginia",
          "Virginia",
          "Virginia",
          "Virginia"
         ],
         "x0": " ",
         "xaxis": "x6",
         "y": [
          "360",
          "960",
          "3388",
          "1528",
          "15",
          "230",
          "131",
          "241",
          "2691",
          "115"
         ],
         "y0": " ",
         "yaxis": "y6"
        },
        {
         "alignmentgroup": "True",
         "hovertemplate": "nerc_region=SERC<br>Year Group=1998–2000<br>state=%{x}<br>Outage Duration (hours)=%{y}<extra></extra>",
         "legendgroup": "SERC",
         "marker": {
          "color": "#EF553B"
         },
         "name": "SERC",
         "notched": false,
         "offsetgroup": "SERC",
         "orientation": "v",
         "showlegend": false,
         "type": "box",
         "x": [
          "Alabama",
          "Alabama",
          "Alabama",
          "Illinois",
          "Illinois",
          "Illinois",
          "North Carolina",
          "North Carolina",
          "North Carolina",
          "South Carolina",
          "South Carolina",
          "Virginia"
         ],
         "x0": " ",
         "xaxis": "x7",
         "y": [
          null,
          "3264",
          "1230",
          null,
          null,
          "1200",
          "11280",
          "2490",
          null,
          "7440",
          "6600",
          null
         ],
         "y0": " ",
         "yaxis": "y7"
        },
        {
         "alignmentgroup": "True",
         "hovertemplate": "nerc_region=RFC<br>Year Group=2010–2012<br>state=%{x}<br>Outage Duration (hours)=%{y}<extra></extra>",
         "legendgroup": "RFC",
         "marker": {
          "color": "#00cc96"
         },
         "name": "RFC",
         "notched": false,
         "offsetgroup": "RFC",
         "orientation": "v",
         "showlegend": true,
         "type": "box",
         "x": [
          "West Virginia",
          "West Virginia",
          "Michigan",
          "Michigan",
          "Michigan",
          "Michigan",
          "Michigan",
          "Michigan",
          "Michigan",
          "Michigan",
          "Michigan",
          "Michigan",
          "Michigan",
          "Michigan",
          "Michigan",
          "Michigan",
          "Michigan",
          "Michigan",
          "Michigan",
          "Michigan",
          "Michigan",
          "Michigan",
          "Michigan",
          "Michigan",
          "Michigan",
          "Michigan",
          "Michigan",
          "Michigan",
          "Michigan",
          "Michigan",
          "Indiana",
          "Indiana",
          "Indiana",
          "Indiana",
          "Indiana",
          "Indiana",
          "Indiana",
          "Indiana",
          "Indiana",
          "Indiana",
          "Indiana",
          "Indiana",
          "Indiana",
          "Indiana",
          "Indiana",
          "Illinois",
          "Illinois",
          "Illinois",
          "Illinois",
          "Illinois",
          "Illinois",
          "Illinois",
          "Illinois",
          "Illinois",
          "Illinois",
          "Illinois",
          "Illinois",
          "Illinois",
          "Illinois",
          "Illinois",
          "Illinois",
          "Illinois",
          "Maryland",
          "Maryland",
          "Maryland",
          "Maryland",
          "Maryland",
          "Maryland",
          "Maryland",
          "Maryland",
          "Maryland",
          "Maryland",
          "Maryland",
          "Maryland",
          "Maryland",
          "Maryland",
          "Maryland",
          "Maryland",
          "Maryland",
          "Maryland",
          "Maryland",
          "Maryland",
          "Maryland",
          "Maryland",
          "Maryland",
          "Maryland",
          "Maryland",
          "Maryland",
          "Pennsylvania",
          "Pennsylvania",
          "Pennsylvania",
          "Pennsylvania",
          "Pennsylvania",
          "Pennsylvania",
          "Pennsylvania",
          "Pennsylvania",
          "Pennsylvania",
          "Pennsylvania",
          "Pennsylvania",
          "Pennsylvania",
          "Pennsylvania",
          "Pennsylvania",
          "Pennsylvania",
          "Pennsylvania",
          "Pennsylvania",
          "Pennsylvania",
          "Pennsylvania",
          "Pennsylvania",
          "Pennsylvania",
          "Pennsylvania",
          "Pennsylvania",
          "Pennsylvania",
          "Pennsylvania",
          "Pennsylvania",
          "Pennsylvania",
          "Pennsylvania",
          "Ohio",
          "Ohio",
          "Ohio",
          "Ohio",
          "Ohio",
          "Ohio",
          "Ohio",
          "Ohio",
          "Ohio",
          "Ohio",
          "Ohio",
          "Ohio",
          "Ohio",
          "Ohio",
          "Ohio",
          "Ohio",
          "Ohio",
          "Ohio",
          "Ohio",
          "New Jersey",
          "New Jersey",
          "New Jersey",
          "New Jersey",
          "New Jersey",
          "New Jersey",
          "New Jersey",
          "New Jersey",
          "New Jersey",
          "New Jersey",
          "New Jersey",
          "New Jersey",
          "New Jersey",
          "New Jersey",
          "New Jersey",
          "New Jersey",
          "New Jersey",
          "New Jersey",
          "New Jersey",
          "New Jersey",
          "District of Columbia",
          "District of Columbia",
          "District of Columbia",
          "District of Columbia",
          "District of Columbia",
          "District of Columbia",
          "Delaware",
          "Delaware",
          "Delaware",
          "Delaware",
          "Delaware",
          "Delaware",
          "Delaware",
          "Delaware",
          "Delaware",
          "Delaware",
          "Delaware",
          "Delaware",
          "Delaware",
          "Delaware",
          "Delaware",
          "Delaware",
          "Delaware",
          "Delaware",
          "Delaware",
          "Delaware",
          "Delaware",
          "Delaware",
          "New York",
          "Virginia",
          "Virginia",
          "Virginia",
          "Virginia"
         ],
         "x0": " ",
         "xaxis": "x",
         "y": [
          "17339",
          "9576",
          "3090",
          "1078",
          "2085",
          "5730",
          "2670",
          "4320",
          "1770",
          "4080",
          "2670",
          "2820",
          "11525",
          "5610",
          "4050",
          "5865",
          "1",
          "4170",
          "3494",
          "6030",
          "1046",
          "1260",
          "600",
          "4260",
          "200",
          "8430",
          "85",
          "1019",
          "7440",
          "4458",
          "2146",
          "96",
          "6",
          "569",
          "0",
          "200",
          "1980",
          "3314",
          "1440",
          "276",
          "0",
          "0",
          "3646",
          "513",
          "23187",
          "1450",
          "2680",
          "150",
          "3000",
          "420",
          "2700",
          "1110",
          "1830",
          "3000",
          "870",
          "1695",
          "1290",
          "1120",
          "2100",
          "450",
          "1020",
          "0",
          "2021",
          "1",
          "0",
          "1",
          "428",
          "331",
          "1980",
          "1",
          "3037",
          "1",
          "1440",
          "7700",
          "2",
          "4232",
          "4320",
          "17",
          "2507",
          "1",
          "0",
          "185",
          "565",
          "1",
          "1",
          "3040",
          "11700",
          "7987",
          "13381",
          "2865",
          "152",
          "9450",
          "7803",
          "8979",
          "4792",
          "3894",
          "2880",
          "3232",
          "2880",
          "4139",
          "10530",
          "930",
          "5320",
          "2880",
          "4260",
          "1440",
          "376",
          "1324",
          "100",
          "2880",
          "3189",
          "13679",
          "2843",
          "13488",
          "7709",
          "7080",
          "0",
          "21",
          "340",
          "7430",
          "5490",
          "165",
          "1440",
          "360",
          "1372",
          "285",
          "1843",
          "1",
          "0",
          "0",
          "352",
          "0",
          "960",
          "3690",
          "10619",
          "2880",
          "11430",
          "0",
          "2941",
          "375",
          "2520",
          "0",
          "0",
          "0",
          "0",
          "7020",
          "11058",
          "9360",
          "3300",
          "3339",
          "2880",
          "11580",
          "9600",
          "13201",
          "9719",
          "9886",
          "2425",
          "390",
          "6660",
          "8077",
          "855",
          "50",
          "0",
          "1",
          "0",
          "0",
          "0",
          "457",
          "1",
          "0",
          "1",
          "1",
          "0",
          "0",
          "0",
          "1",
          "0",
          "1",
          "39",
          "1",
          "1",
          "0",
          "0",
          "18240",
          "0",
          "1523",
          "90",
          "3366"
         ],
         "y0": " ",
         "yaxis": "y"
        },
        {
         "alignmentgroup": "True",
         "hovertemplate": "nerc_region=RFC<br>Year Group=2013–2015<br>state=%{x}<br>Outage Duration (hours)=%{y}<extra></extra>",
         "legendgroup": "RFC",
         "marker": {
          "color": "#00cc96"
         },
         "name": "RFC",
         "notched": false,
         "offsetgroup": "RFC",
         "orientation": "v",
         "showlegend": false,
         "type": "box",
         "x": [
          "Wisconsin",
          "West Virginia",
          "West Virginia",
          "Michigan",
          "Michigan",
          "Michigan",
          "Michigan",
          "Michigan",
          "Michigan",
          "Michigan",
          "Michigan",
          "Michigan",
          "Michigan",
          "Michigan",
          "Michigan",
          "Michigan",
          "Michigan",
          "Michigan",
          "Michigan",
          "Michigan",
          "Michigan",
          "Indiana",
          "Indiana",
          "Indiana",
          "Indiana",
          "Indiana",
          "Indiana",
          "Indiana",
          "Indiana",
          "Indiana",
          "Indiana",
          "Illinois",
          "Illinois",
          "Illinois",
          "Illinois",
          "Illinois",
          "Illinois",
          "Maryland",
          "Maryland",
          "Maryland",
          "Maryland",
          "Maryland",
          "Maryland",
          "Maryland",
          "Maryland",
          "Maryland",
          "Maryland",
          "Maryland",
          "Maryland",
          "Maryland",
          "Pennsylvania",
          "Pennsylvania",
          "Pennsylvania",
          "Pennsylvania",
          "Pennsylvania",
          "Pennsylvania",
          "Pennsylvania",
          "Pennsylvania",
          "Pennsylvania",
          "Kentucky",
          "Utah",
          "Ohio",
          "Ohio",
          "Ohio",
          "Ohio",
          "Ohio",
          "New Jersey",
          "New Jersey",
          "New Jersey",
          "New Jersey",
          "New Jersey",
          "District of Columbia",
          "District of Columbia",
          "District of Columbia",
          "Delaware",
          "Delaware",
          "Delaware",
          "Delaware",
          "Delaware",
          "Delaware",
          "Delaware",
          "Delaware",
          "Delaware",
          "Delaware",
          "Delaware",
          "Delaware",
          "Delaware",
          "Delaware",
          "Virginia"
         ],
         "x0": " ",
         "xaxis": "x2",
         "y": [
          "108653",
          "1",
          "1000",
          "4290",
          "1710",
          "5034",
          "9857",
          "1995",
          "4338",
          "5760",
          "232",
          "2325",
          "4485",
          "2760",
          "5760",
          "4242",
          "900",
          "3630",
          "2820",
          "2700",
          "420",
          "1060",
          "4320",
          "120",
          "3",
          "4320",
          "65",
          "4032",
          "2580",
          "2730",
          "2880",
          "479",
          "2790",
          "1336",
          "360",
          "90",
          "2761",
          "0",
          "1840",
          "1",
          "1",
          "1196",
          "95",
          "113",
          "0",
          "0",
          "1",
          "960",
          "304",
          "0",
          "380",
          "90",
          "59",
          "1",
          "2668",
          "1",
          "6940",
          "54",
          "1642",
          "1",
          "1",
          "7",
          "1590",
          "0",
          "75",
          "634",
          "132",
          null,
          "10080",
          "353",
          null,
          "159",
          "54",
          "30",
          "1",
          "1",
          "30",
          "1",
          "1",
          "1",
          "110",
          "1",
          "1",
          "1",
          "4254",
          "1",
          "1",
          "53",
          "2435"
         ],
         "y0": " ",
         "yaxis": "y2"
        },
        {
         "alignmentgroup": "True",
         "hovertemplate": "nerc_region=RFC<br>Year Group=2004–2006<br>state=%{x}<br>Outage Duration (hours)=%{y}<extra></extra>",
         "legendgroup": "RFC",
         "marker": {
          "color": "#00cc96"
         },
         "name": "RFC",
         "notched": false,
         "offsetgroup": "RFC",
         "orientation": "v",
         "showlegend": false,
         "type": "box",
         "x": [
          "Wisconsin",
          "Wisconsin",
          "Michigan",
          "Michigan",
          "Indiana",
          "Illinois",
          "Illinois",
          "Illinois",
          "Illinois",
          "Illinois",
          "Illinois",
          "Maryland",
          "Maryland",
          "Maryland",
          "Maryland",
          "Maryland",
          "Maryland",
          "Maryland",
          "Maryland",
          "Pennsylvania",
          "Pennsylvania",
          "Pennsylvania",
          "Pennsylvania",
          "Pennsylvania",
          "Pennsylvania",
          "Pennsylvania",
          "Pennsylvania",
          "Ohio",
          "Ohio",
          "New Jersey",
          "New Jersey",
          "Virginia",
          "Virginia",
          "Virginia",
          "Oklahoma"
         ],
         "x0": " ",
         "xaxis": "x3",
         "y": [
          "3000",
          "4410",
          "6420",
          "7080",
          "4045",
          "1680",
          "149",
          "1320",
          "1530",
          "2370",
          "1440",
          "1671",
          "3938",
          "2279",
          "4440",
          "2760",
          "5628",
          "2610",
          "4517",
          "3058",
          "4800",
          "3060",
          "1757",
          "2985",
          "2319",
          "1714",
          "7523",
          "420",
          "1420",
          "4140",
          "3720",
          "1072",
          "168",
          "485",
          "300"
         ],
         "y0": " ",
         "yaxis": "y3"
        },
        {
         "alignmentgroup": "True",
         "hovertemplate": "nerc_region=RFC<br>Year Group=2007–2009<br>state=%{x}<br>Outage Duration (hours)=%{y}<extra></extra>",
         "legendgroup": "RFC",
         "marker": {
          "color": "#00cc96"
         },
         "name": "RFC",
         "notched": false,
         "offsetgroup": "RFC",
         "orientation": "v",
         "showlegend": false,
         "type": "box",
         "x": [
          "Michigan",
          "Michigan",
          "Michigan",
          "Michigan",
          "Michigan",
          "Michigan",
          "Michigan",
          "Michigan",
          "Michigan",
          "Michigan",
          "Michigan",
          "Michigan",
          "Michigan",
          "Michigan",
          "Michigan",
          "Michigan",
          "Michigan",
          "Michigan",
          "Michigan",
          "Michigan",
          "Michigan",
          "Michigan",
          "Michigan",
          "Michigan",
          "Michigan",
          "Indiana",
          "Indiana",
          "Indiana",
          "Indiana",
          "Indiana",
          "Indiana",
          "Indiana",
          "Indiana",
          "Indiana",
          "Indiana",
          "Indiana",
          "Indiana",
          "Indiana",
          "Indiana",
          "Illinois",
          "Illinois",
          "Illinois",
          "Illinois",
          "Illinois",
          "Illinois",
          "Illinois",
          "Maryland",
          "Maryland",
          "Maryland",
          "Maryland",
          "Maryland",
          "Pennsylvania",
          "Pennsylvania",
          "Pennsylvania",
          "Pennsylvania",
          "Pennsylvania",
          "Pennsylvania",
          "Pennsylvania",
          "Kentucky",
          "Kentucky",
          "Kentucky",
          "Kentucky",
          "Kentucky",
          "Kentucky",
          "Ohio",
          "Ohio",
          "Ohio",
          "Ohio",
          "Ohio",
          "Ohio",
          "Ohio",
          "Ohio",
          "New Jersey",
          "New Jersey",
          "New Jersey",
          "New Jersey",
          "Missouri",
          "Missouri",
          "Iowa",
          "Iowa",
          "Virginia",
          "South Dakota"
         ],
         "x0": " ",
         "xaxis": "x4",
         "y": [
          "4830",
          "3540",
          "3637",
          "4320",
          "3915",
          "4590",
          "5670",
          "5115",
          "7650",
          "4110",
          "3015",
          "5700",
          "78377",
          "270",
          "168",
          "5580",
          "705",
          "11850",
          "8922",
          "3120",
          "5790",
          "4259",
          "1588",
          "9150",
          "1140",
          "12240",
          "233",
          "65",
          "2120",
          "96",
          "7319",
          "1",
          "47",
          "1130",
          "35",
          "23773",
          "10",
          "3872",
          "12240",
          "7609",
          "810",
          "3000",
          "1200",
          "1200",
          "720",
          "2010",
          "4470",
          "1320",
          "2855",
          "3060",
          "5790",
          "5579",
          "6938",
          "299",
          "6713",
          "5160",
          "78",
          "2684",
          "1680",
          "300",
          "3570",
          "23700",
          "10499",
          "15180",
          "4200",
          "805",
          "3630",
          "2190",
          "11531",
          "930",
          "11420",
          "1733",
          "3599",
          "6090",
          "1365",
          "333",
          "4150",
          "870",
          "1044",
          "8670",
          "1337",
          "59"
         ],
         "y0": " ",
         "yaxis": "y4"
        },
        {
         "alignmentgroup": "True",
         "hovertemplate": "nerc_region=RFC<br>Year Group=2016–2018<br>state=%{x}<br>Outage Duration (hours)=%{y}<extra></extra>",
         "legendgroup": "RFC",
         "marker": {
          "color": "#00cc96"
         },
         "name": "RFC",
         "notched": false,
         "offsetgroup": "RFC",
         "orientation": "v",
         "showlegend": false,
         "type": "box",
         "x": [
          "Michigan",
          "Michigan",
          "Maryland",
          "Pennsylvania",
          "Pennsylvania",
          "New Jersey",
          "New Jersey",
          "Delaware",
          "Delaware",
          "Delaware",
          "Delaware"
         ],
         "x0": " ",
         "xaxis": "x5",
         "y": [
          "1513",
          "300",
          "1673",
          "164",
          "278",
          "1",
          "76",
          "65",
          "1",
          "507",
          "213"
         ],
         "y0": " ",
         "yaxis": "y5"
        },
        {
         "alignmentgroup": "True",
         "hovertemplate": "nerc_region=RFC<br>Year Group=2001–2003<br>state=%{x}<br>Outage Duration (hours)=%{y}<extra></extra>",
         "legendgroup": "RFC",
         "marker": {
          "color": "#00cc96"
         },
         "name": "RFC",
         "notched": false,
         "offsetgroup": "RFC",
         "orientation": "v",
         "showlegend": false,
         "type": "box",
         "x": [
          "Wisconsin",
          "Michigan",
          "Michigan",
          "Illinois",
          "Maryland",
          "Maryland",
          "Maryland",
          "Maryland",
          "Maryland",
          "Pennsylvania",
          "Pennsylvania",
          "Pennsylvania",
          "District of Columbia"
         ],
         "x0": " ",
         "xaxis": "x6",
         "y": [
          "960",
          "761",
          "46080",
          "120",
          "1950",
          "12890",
          "4920",
          "4080",
          "7298",
          "4338",
          "720",
          "2790",
          "14500"
         ],
         "y0": " ",
         "yaxis": "y6"
        },
        {
         "alignmentgroup": "True",
         "hovertemplate": "nerc_region=RFC<br>Year Group=1998–2000<br>state=%{x}<br>Outage Duration (hours)=%{y}<extra></extra>",
         "legendgroup": "RFC",
         "marker": {
          "color": "#00cc96"
         },
         "name": "RFC",
         "notched": false,
         "offsetgroup": "RFC",
         "orientation": "v",
         "showlegend": false,
         "type": "box",
         "x": [
          "Delaware"
         ],
         "x0": " ",
         "xaxis": "x7",
         "y": [
          null
         ],
         "y0": " ",
         "yaxis": "y7"
        },
        {
         "alignmentgroup": "True",
         "hovertemplate": "nerc_region=ECAR<br>Year Group=2004–2006<br>state=%{x}<br>Outage Duration (hours)=%{y}<extra></extra>",
         "legendgroup": "ECAR",
         "marker": {
          "color": "#ab63fa"
         },
         "name": "ECAR",
         "notched": false,
         "offsetgroup": "ECAR",
         "orientation": "v",
         "showlegend": true,
         "type": "box",
         "x": [
          "Michigan",
          "Michigan",
          "Michigan",
          "Michigan",
          "Michigan",
          "Michigan",
          "Michigan",
          "Michigan",
          "Michigan",
          "Michigan",
          "Michigan",
          "Indiana",
          "Indiana",
          "Ohio",
          "Ohio",
          "Ohio",
          "Ohio",
          "Ohio",
          "Louisiana",
          "Louisiana",
          "Arkansas",
          "Oklahoma"
         ],
         "x0": " ",
         "xaxis": "x3",
         "y": [
          "6510",
          "3120",
          "7530",
          "8160",
          "5700",
          "3360",
          "4560",
          "7800",
          "7620",
          "5840",
          "2939",
          "5250",
          "15950",
          "4920",
          "4920",
          "11640",
          "7920",
          "6480",
          "8054",
          "6240",
          "126",
          "6685"
         ],
         "y0": " ",
         "yaxis": "y3"
        },
        {
         "alignmentgroup": "True",
         "hovertemplate": "nerc_region=ECAR<br>Year Group=2001–2003<br>state=%{x}<br>Outage Duration (hours)=%{y}<extra></extra>",
         "legendgroup": "ECAR",
         "marker": {
          "color": "#ab63fa"
         },
         "name": "ECAR",
         "notched": false,
         "offsetgroup": "ECAR",
         "orientation": "v",
         "showlegend": false,
         "type": "box",
         "x": [
          "Michigan",
          "Michigan",
          "Michigan",
          "Michigan",
          "Michigan",
          "Michigan",
          "Michigan",
          "Ohio",
          "Ohio",
          "Ohio"
         ],
         "x0": " ",
         "xaxis": "x6",
         "y": [
          "5820",
          "3051",
          "4200",
          "3300",
          "2694",
          "5700",
          "3600",
          "5040",
          "3137",
          "1440"
         ],
         "y0": " ",
         "yaxis": "y6"
        },
        {
         "alignmentgroup": "True",
         "hovertemplate": "nerc_region=ECAR<br>Year Group=1998–2000<br>state=%{x}<br>Outage Duration (hours)=%{y}<extra></extra>",
         "legendgroup": "ECAR",
         "marker": {
          "color": "#ab63fa"
         },
         "name": "ECAR",
         "notched": false,
         "offsetgroup": "ECAR",
         "orientation": "v",
         "showlegend": false,
         "type": "box",
         "x": [
          "Indiana",
          "Ohio"
         ],
         "x0": " ",
         "xaxis": "x7",
         "y": [
          null,
          null
         ],
         "y0": " ",
         "yaxis": "y7"
        },
        {
         "alignmentgroup": "True",
         "hovertemplate": "nerc_region=TRE<br>Year Group=2010–2012<br>state=%{x}<br>Outage Duration (hours)=%{y}<extra></extra>",
         "legendgroup": "TRE",
         "marker": {
          "color": "#FFA15A"
         },
         "name": "TRE",
         "notched": false,
         "offsetgroup": "TRE",
         "orientation": "v",
         "showlegend": true,
         "type": "box",
         "x": [
          "Texas",
          "Texas",
          "Texas",
          "Texas",
          "Texas",
          "Texas",
          "Texas",
          "Texas",
          "Texas",
          "Texas",
          "Texas",
          "Texas",
          "Texas",
          "Texas",
          "Texas",
          "Texas",
          "Texas",
          "Texas",
          "Texas",
          "Texas",
          "Texas",
          "Texas",
          "Texas",
          "Texas",
          "Texas",
          "Texas",
          "Texas",
          "Texas"
         ],
         "x0": " ",
         "xaxis": "x",
         "y": [
          "1203",
          "868",
          "2142",
          "360",
          "480",
          "300",
          "1335",
          "197",
          "1077",
          "327",
          "1860",
          "410",
          "1440",
          "0",
          "1200",
          "6300",
          "1697",
          "2220",
          "557",
          "240",
          "685",
          "840",
          "6000",
          "7540",
          "940",
          "1500",
          "74",
          "255"
         ],
         "y0": " ",
         "yaxis": "y"
        },
        {
         "alignmentgroup": "True",
         "hovertemplate": "nerc_region=TRE<br>Year Group=2013–2015<br>state=%{x}<br>Outage Duration (hours)=%{y}<extra></extra>",
         "legendgroup": "TRE",
         "marker": {
          "color": "#FFA15A"
         },
         "name": "TRE",
         "notched": false,
         "offsetgroup": "TRE",
         "orientation": "v",
         "showlegend": false,
         "type": "box",
         "x": [
          "Texas",
          "Texas",
          "Texas",
          "Texas",
          "Texas",
          "Texas",
          "Texas",
          "Texas",
          "Texas",
          "Texas",
          "Texas",
          "Texas",
          "Texas",
          "Texas",
          "Texas",
          "Texas",
          "Texas",
          "Texas",
          "Texas",
          "Texas",
          "Texas",
          "Texas",
          "Texas",
          "Texas",
          "Texas",
          "Texas",
          "Texas",
          "Texas",
          "Texas",
          "Texas"
         ],
         "x0": " ",
         "xaxis": "x2",
         "y": [
          "373",
          "1195",
          "1559",
          "2690",
          "5115",
          "5",
          "225",
          "3000",
          "3020",
          null,
          "402",
          "2420",
          "220",
          "455",
          "20160",
          "1860",
          null,
          "7809",
          "1",
          "2280",
          "3300",
          "990",
          "1080",
          "3040",
          "20160",
          "45",
          "1",
          "550",
          null,
          "1955"
         ],
         "y0": " ",
         "yaxis": "y2"
        },
        {
         "alignmentgroup": "True",
         "hovertemplate": "nerc_region=TRE<br>Year Group=2004–2006<br>state=%{x}<br>Outage Duration (hours)=%{y}<extra></extra>",
         "legendgroup": "TRE",
         "marker": {
          "color": "#FFA15A"
         },
         "name": "TRE",
         "notched": false,
         "offsetgroup": "TRE",
         "orientation": "v",
         "showlegend": false,
         "type": "box",
         "x": [
          "Texas",
          "Texas",
          "Texas",
          "Texas",
          "Texas",
          "Texas",
          "Texas",
          "Texas",
          "Texas",
          "Texas",
          "Texas",
          "Texas",
          "Texas",
          "Texas",
          "Texas",
          "Texas",
          "Texas"
         ],
         "x0": " ",
         "xaxis": "x3",
         "y": [
          "900",
          "189",
          "245",
          "12180",
          "600",
          "271",
          "1620",
          "95",
          "1200",
          "121",
          "17865",
          "1110",
          "130",
          "1200",
          "900",
          "150",
          "420"
         ],
         "y0": " ",
         "yaxis": "y3"
        },
        {
         "alignmentgroup": "True",
         "hovertemplate": "nerc_region=TRE<br>Year Group=2007–2009<br>state=%{x}<br>Outage Duration (hours)=%{y}<extra></extra>",
         "legendgroup": "TRE",
         "marker": {
          "color": "#FFA15A"
         },
         "name": "TRE",
         "notched": false,
         "offsetgroup": "TRE",
         "orientation": "v",
         "showlegend": false,
         "type": "box",
         "x": [
          "Texas",
          "Texas",
          "Texas",
          "Texas",
          "Texas",
          "Texas",
          "Texas",
          "Texas",
          "Texas",
          "Texas",
          "Texas",
          "Texas",
          "Texas",
          "Texas",
          "Texas",
          "Texas",
          "Texas",
          "Texas",
          "Texas",
          "Texas",
          "Texas",
          "Texas"
         ],
         "x0": " ",
         "xaxis": "x4",
         "y": [
          "690",
          "27698",
          "318",
          "847",
          "215",
          "570",
          "12124",
          "1500",
          "224",
          "5595",
          "3360",
          "210",
          "1920",
          "3569",
          "1560",
          "240",
          "27698",
          "21540",
          "1830",
          "6000",
          "2220",
          "330"
         ],
         "y0": " ",
         "yaxis": "y4"
        },
        {
         "alignmentgroup": "True",
         "hovertemplate": "nerc_region=TRE<br>Year Group=2016–2018<br>state=%{x}<br>Outage Duration (hours)=%{y}<extra></extra>",
         "legendgroup": "TRE",
         "marker": {
          "color": "#FFA15A"
         },
         "name": "TRE",
         "notched": false,
         "offsetgroup": "TRE",
         "orientation": "v",
         "showlegend": false,
         "type": "box",
         "x": [
          "Texas",
          "Texas",
          "Texas",
          "Texas",
          "Texas",
          "Texas"
         ],
         "x0": " ",
         "xaxis": "x5",
         "y": [
          "1455",
          "3255",
          "5",
          "2655",
          "1185",
          "3050"
         ],
         "y0": " ",
         "yaxis": "y5"
        },
        {
         "alignmentgroup": "True",
         "hovertemplate": "nerc_region=TRE<br>Year Group=2001–2003<br>state=%{x}<br>Outage Duration (hours)=%{y}<extra></extra>",
         "legendgroup": "TRE",
         "marker": {
          "color": "#FFA15A"
         },
         "name": "TRE",
         "notched": false,
         "offsetgroup": "TRE",
         "orientation": "v",
         "showlegend": false,
         "type": "box",
         "x": [
          "Texas",
          "Texas",
          "Texas",
          "Texas",
          "Texas",
          "Texas"
         ],
         "x0": " ",
         "xaxis": "x6",
         "y": [
          "9486",
          "186",
          "757",
          "167",
          "10140",
          "1440"
         ],
         "y0": " ",
         "yaxis": "y6"
        },
        {
         "alignmentgroup": "True",
         "hovertemplate": "nerc_region=TRE<br>Year Group=1998–2000<br>state=%{x}<br>Outage Duration (hours)=%{y}<extra></extra>",
         "legendgroup": "TRE",
         "marker": {
          "color": "#FFA15A"
         },
         "name": "TRE",
         "notched": false,
         "offsetgroup": "TRE",
         "orientation": "v",
         "showlegend": false,
         "type": "box",
         "x": [
          "Texas",
          "Texas"
         ],
         "x0": " ",
         "xaxis": "x7",
         "y": [
          "480",
          "70"
         ],
         "y0": " ",
         "yaxis": "y7"
        },
        {
         "alignmentgroup": "True",
         "hovertemplate": "nerc_region=WECC<br>Year Group=2010–2012<br>state=%{x}<br>Outage Duration (hours)=%{y}<extra></extra>",
         "legendgroup": "WECC",
         "marker": {
          "color": "#19d3f3"
         },
         "name": "WECC",
         "notched": false,
         "offsetgroup": "WECC",
         "orientation": "v",
         "showlegend": true,
         "type": "box",
         "x": [
          "Texas",
          "Texas",
          "Washington",
          "Washington",
          "Washington",
          "Washington",
          "Washington",
          "Washington",
          "Washington",
          "Washington",
          "Washington",
          "Washington",
          "Washington",
          "Washington",
          "Washington",
          "Washington",
          "Washington",
          "Washington",
          "Washington",
          "Washington",
          "Washington",
          "Washington",
          "Washington",
          "Washington",
          "Washington",
          "Washington",
          "Washington",
          "Washington",
          "Washington",
          "Washington",
          "Washington",
          "Washington",
          "Washington",
          "Washington",
          "Washington",
          "Washington",
          "Washington",
          "Washington",
          "Washington",
          "Washington",
          "Washington",
          "Washington",
          "Washington",
          "Washington",
          "Washington",
          "Washington",
          "Washington",
          "Washington",
          "Washington",
          "Washington",
          "Washington",
          "Washington",
          "Washington",
          "Washington",
          "Washington",
          "Washington",
          "Washington",
          "Arizona",
          "Arizona",
          "Arizona",
          "Utah",
          "Utah",
          "Utah",
          "Utah",
          "Utah",
          "Utah",
          "Utah",
          "Utah",
          "Utah",
          "Utah",
          "Utah",
          "Utah",
          "Utah",
          "Oregon",
          "Oregon",
          "Oregon",
          "Oregon",
          "Oregon",
          "Oregon",
          "California",
          "California",
          "California",
          "California",
          "California",
          "California",
          "California",
          "California",
          "California",
          "California",
          "California",
          "California",
          "California",
          "California",
          "California",
          "California",
          "California",
          "California",
          "California",
          "California",
          "California",
          "California",
          "California",
          "California",
          "California",
          "California",
          "California",
          "California",
          "California",
          "California",
          "California",
          "California",
          "California",
          "California",
          "California",
          "California",
          "California",
          "California",
          "California",
          "California",
          "California",
          "California",
          "California",
          "California",
          "California",
          "California",
          "California",
          "California",
          "California",
          "California",
          "California",
          "California",
          "California",
          "Wyoming",
          "Wyoming",
          "Wyoming",
          "New Mexico",
          "Nevada",
          "Nevada",
          "Nevada",
          "Nevada",
          "Colorado",
          "Colorado",
          "Colorado",
          "Colorado",
          "Colorado",
          "Colorado",
          "Colorado",
          "Idaho",
          "Idaho",
          "Idaho"
         ],
         "x0": " ",
         "xaxis": "x",
         "y": [
          "206",
          "10",
          "1240",
          "465",
          "0",
          "2460",
          "394",
          "219",
          "487",
          "28",
          "0",
          "1",
          "467",
          "0",
          "1920",
          "0",
          "0",
          "1423",
          "60",
          "1620",
          "385",
          "123",
          "1276",
          "440",
          "0",
          "717",
          "292",
          "5",
          "0",
          "0",
          "1",
          "2700",
          "25",
          "126",
          "255",
          "1207",
          "0",
          "0",
          "245",
          "476",
          "1",
          "502",
          "369",
          "15",
          "1",
          "0",
          "432",
          "1697",
          "0",
          "2615",
          "314",
          "0",
          "0",
          "70",
          "355",
          "0",
          "0",
          "554",
          "1",
          "215",
          "0",
          "57",
          "11",
          "0",
          "1631",
          "56",
          "15",
          "95",
          "300",
          "3186",
          "575",
          "2275",
          "114",
          "1526",
          "60",
          "0",
          "0",
          "214",
          "164",
          "1456",
          "177",
          "2464",
          "144",
          "70",
          "8873",
          "56",
          "1470",
          "294",
          "2878",
          "2016",
          "3408",
          "4890",
          "871",
          "133",
          "451",
          "199",
          "1524",
          "268",
          "39",
          "14190",
          "6070",
          "697",
          "14",
          "245",
          "47",
          "660",
          "213",
          "4320",
          "3100",
          "26",
          "0",
          "135",
          "50",
          "1008",
          "53",
          "1260",
          "2895",
          "128",
          "130",
          "5",
          "6914",
          "11",
          "13",
          "2880",
          "47",
          "20",
          "9855",
          "251",
          "122",
          "193",
          "5227",
          null,
          "0",
          "0",
          "61",
          "314",
          "1895",
          "1534",
          "1",
          "108",
          "2040",
          "284",
          "1",
          "391",
          "5",
          "201",
          "103",
          "0",
          "360",
          "870"
         ],
         "y0": " ",
         "yaxis": "y"
        },
        {
         "alignmentgroup": "True",
         "hovertemplate": "nerc_region=WECC<br>Year Group=2013–2015<br>state=%{x}<br>Outage Duration (hours)=%{y}<extra></extra>",
         "legendgroup": "WECC",
         "marker": {
          "color": "#19d3f3"
         },
         "name": "WECC",
         "notched": false,
         "offsetgroup": "WECC",
         "orientation": "v",
         "showlegend": false,
         "type": "box",
         "x": [
          "Washington",
          "Washington",
          "Washington",
          "Washington",
          "Washington",
          "Washington",
          "Washington",
          "Washington",
          "Washington",
          "Washington",
          "Washington",
          "Washington",
          "Washington",
          "Washington",
          "Washington",
          "Washington",
          "Washington",
          "Washington",
          "Washington",
          "Washington",
          "Arizona",
          "Arizona",
          "Arizona",
          "Arizona",
          "Arizona",
          "Arizona",
          "Arizona",
          "Arizona",
          "Arizona",
          "Arizona",
          "Arizona",
          "Arizona",
          "Arizona",
          "Arizona",
          "Arizona",
          "Utah",
          "Utah",
          "Utah",
          "Utah",
          "Utah",
          "Utah",
          "Utah",
          "Utah",
          "Utah",
          "Utah",
          "Utah",
          "Utah",
          "Utah",
          "Utah",
          "Utah",
          "Utah",
          "Utah",
          "Utah",
          "Utah",
          "Oregon",
          "Oregon",
          "Oregon",
          "Oregon",
          "Oregon",
          "Oregon",
          "Oregon",
          "Oregon",
          "Oregon",
          "Oregon",
          "Oregon",
          "Oregon",
          "Oregon",
          "Montana",
          "Montana",
          "California",
          "California",
          "California",
          "California",
          "California",
          "California",
          "California",
          "California",
          "California",
          "California",
          "California",
          "California",
          "California",
          "California",
          "California",
          "California",
          "California",
          "California",
          "California",
          "California",
          "California",
          "California",
          "California",
          "California",
          "California",
          "California",
          "California",
          "California",
          "California",
          "California",
          "California",
          "California",
          "California",
          "California",
          "California",
          "California",
          "California",
          "California",
          "California",
          "California",
          "California",
          "California",
          "California",
          "California",
          "California",
          "California",
          "California",
          "California",
          "California",
          "California",
          "Wyoming",
          "Wyoming",
          "New Mexico",
          "New Mexico",
          "New Mexico",
          "New Mexico",
          "New Mexico",
          "Nevada",
          "Nevada",
          "Colorado",
          "Colorado",
          "Colorado"
         ],
         "x0": " ",
         "xaxis": "x2",
         "y": [
          "1183",
          "8880",
          "19",
          "25",
          "420",
          "3300",
          "663",
          null,
          "1",
          "74",
          null,
          "1",
          null,
          null,
          "548",
          "5",
          "21",
          "1",
          "2520",
          "180",
          "50",
          "70",
          "180",
          "3842",
          "1",
          "189",
          "353",
          "1",
          "87",
          "1",
          null,
          "1440",
          "2700",
          "2",
          "451",
          "120",
          "1",
          "1",
          "1",
          "1",
          "1",
          "113",
          "31",
          "13",
          "2",
          "1",
          "20",
          "1",
          "1",
          "1",
          "44",
          "1",
          "1",
          "60",
          "210",
          "2",
          "1350",
          "1",
          "120",
          "840",
          "989",
          "4",
          "91",
          "838",
          "60",
          "1",
          "1",
          "56",
          "93",
          "247",
          "540",
          "1135",
          "656",
          "255",
          "1",
          "1254",
          "106",
          "32",
          "55",
          null,
          "2050",
          "370",
          "26",
          "797",
          "12",
          "195",
          "1",
          "230",
          "15",
          "455",
          "295",
          "480",
          null,
          "360",
          "3698",
          "1",
          "164",
          "420",
          "78",
          "1",
          null,
          "166",
          "15",
          null,
          "989",
          "44",
          "98",
          "1",
          "98",
          "157",
          "617",
          "324",
          null,
          "72",
          "1",
          "620",
          "236",
          "448",
          "1",
          "1",
          "32",
          "30",
          "92",
          "390",
          "161",
          "60",
          "274",
          "1",
          "2",
          "175",
          "105"
         ],
         "y0": " ",
         "yaxis": "y2"
        },
        {
         "alignmentgroup": "True",
         "hovertemplate": "nerc_region=WECC<br>Year Group=2004–2006<br>state=%{x}<br>Outage Duration (hours)=%{y}<extra></extra>",
         "legendgroup": "WECC",
         "marker": {
          "color": "#19d3f3"
         },
         "name": "WECC",
         "notched": false,
         "offsetgroup": "WECC",
         "orientation": "v",
         "showlegend": false,
         "type": "box",
         "x": [
          "Texas",
          "Washington",
          "Washington",
          "Washington",
          "Washington",
          "Washington",
          "Washington",
          "Washington",
          "Washington",
          "Washington",
          "Washington",
          "Arizona",
          "Arizona",
          "Arizona",
          "Oregon",
          "Oregon",
          "Oregon",
          "California",
          "California",
          "California",
          "California",
          "California",
          "California",
          "California",
          "California",
          "California",
          "California",
          "California",
          "California",
          "California",
          "California",
          "California",
          "California",
          "California",
          "California",
          "California",
          "California",
          "California",
          "California",
          "California",
          "California",
          "California",
          "California",
          "California",
          "California",
          "California",
          "Colorado",
          "Colorado",
          "Idaho"
         ],
         "x0": " ",
         "xaxis": "x3",
         "y": [
          "39",
          "5340",
          "8940",
          "6690",
          "2639",
          "9630",
          "3507",
          "2820",
          "5855",
          "22769",
          "4285",
          "49320",
          "49320",
          "418",
          "4380",
          "4313",
          "1050",
          "437",
          "180",
          "171",
          "84",
          "202",
          "8472",
          "33",
          "159",
          "2790",
          "334",
          "365",
          "4740",
          "2645",
          "7371",
          "2759",
          "250",
          "249",
          "161",
          "900",
          "64",
          "13",
          "8100",
          "180",
          "245",
          "270",
          "1950",
          "572",
          "8",
          "1414",
          null,
          "439",
          "95"
         ],
         "y0": " ",
         "yaxis": "y3"
        },
        {
         "alignmentgroup": "True",
         "hovertemplate": "nerc_region=WECC<br>Year Group=2007–2009<br>state=%{x}<br>Outage Duration (hours)=%{y}<extra></extra>",
         "legendgroup": "WECC",
         "marker": {
          "color": "#19d3f3"
         },
         "name": "WECC",
         "notched": false,
         "offsetgroup": "WECC",
         "orientation": "v",
         "showlegend": false,
         "type": "box",
         "x": [
          "Texas",
          "Texas",
          "Texas",
          "Washington",
          "Washington",
          "Washington",
          "Washington",
          "Arizona",
          "Utah",
          "Utah",
          "Utah",
          "Oregon",
          "California",
          "California",
          "California",
          "California",
          "California",
          "California",
          "California",
          "California",
          "California",
          "California",
          "California",
          "California",
          "California",
          "California",
          "California",
          "California",
          "California",
          "California",
          "California",
          "California",
          "California",
          "California",
          "California",
          "California",
          "California",
          "California",
          "California",
          "California",
          "California",
          "California",
          "California",
          "California",
          "California",
          "California",
          "California",
          "California",
          "California",
          "California",
          "California",
          "California",
          "California",
          "California",
          "California",
          "California",
          "California",
          "California",
          "California",
          "California",
          "California",
          "California",
          "California",
          "California",
          "California",
          "California",
          "Wyoming",
          "Colorado"
         ],
         "x0": " ",
         "xaxis": "x4",
         "y": [
          null,
          "766",
          "885",
          "2040",
          "1204",
          "6276",
          "248",
          "4200",
          "283",
          "871",
          "15",
          "200",
          "420",
          "155",
          "437",
          "1054",
          "64",
          "945",
          "523",
          "3",
          "155",
          "749",
          null,
          "270",
          "224",
          "125",
          "1560",
          "3301",
          "435",
          "854",
          "15180",
          "179",
          "234",
          "40",
          "182",
          "829",
          "1080",
          "390",
          "269",
          "400",
          null,
          "761",
          "124",
          "89",
          "865",
          "230",
          "252",
          "962",
          "17",
          "21",
          "11867",
          "959",
          "1035",
          "1230",
          "900",
          "37",
          "89",
          "909",
          "326",
          "300",
          "751",
          "214",
          "4605",
          "4080",
          null,
          "759",
          "106",
          "2710"
         ],
         "y0": " ",
         "yaxis": "y4"
        },
        {
         "alignmentgroup": "True",
         "hovertemplate": "nerc_region=WECC<br>Year Group=2016–2018<br>state=%{x}<br>Outage Duration (hours)=%{y}<extra></extra>",
         "legendgroup": "WECC",
         "marker": {
          "color": "#19d3f3"
         },
         "name": "WECC",
         "notched": false,
         "offsetgroup": "WECC",
         "orientation": "v",
         "showlegend": false,
         "type": "box",
         "x": [
          "Washington",
          "Washington",
          "Washington",
          "Washington",
          "Washington",
          "Washington",
          "Washington",
          "Arizona",
          "Utah",
          "Utah",
          "Utah",
          "Utah",
          "Utah",
          "Oregon",
          "Oregon",
          "Oregon",
          "California",
          "California",
          "California",
          "Nevada",
          "Colorado",
          "Idaho",
          "Idaho",
          "Idaho",
          "Idaho"
         ],
         "x0": " ",
         "xaxis": "x5",
         "y": [
          "1",
          "1919",
          null,
          null,
          "313",
          null,
          null,
          "227",
          "60",
          "204",
          "15",
          "60",
          "21",
          "73",
          null,
          "2680",
          "25",
          "49427",
          null,
          "60",
          "4019",
          "224",
          "0",
          null,
          "220"
         ],
         "y0": " ",
         "yaxis": "y5"
        },
        {
         "alignmentgroup": "True",
         "hovertemplate": "nerc_region=WECC<br>Year Group=2001–2003<br>state=%{x}<br>Outage Duration (hours)=%{y}<extra></extra>",
         "legendgroup": "WECC",
         "marker": {
          "color": "#19d3f3"
         },
         "name": "WECC",
         "notched": false,
         "offsetgroup": "WECC",
         "orientation": "v",
         "showlegend": false,
         "type": "box",
         "x": [
          "Washington",
          "Arizona",
          "Arizona",
          "Arizona",
          "California",
          "California",
          "California",
          "California",
          "California",
          "California",
          "California",
          "California",
          "California",
          "California",
          "California",
          "California",
          "California",
          "California",
          "California",
          "California",
          "California",
          "California",
          "California",
          "Idaho"
         ],
         "x0": " ",
         "xaxis": "x6",
         "y": [
          "6480",
          "35",
          null,
          "100",
          "316",
          "336",
          "5160",
          "2055",
          "140",
          "721",
          "47",
          "5910",
          "34390",
          null,
          "2820",
          "125",
          "554",
          "108",
          "75",
          "141",
          "1835",
          "6780",
          "1914",
          "1548"
         ],
         "y0": " ",
         "yaxis": "y6"
        },
        {
         "alignmentgroup": "True",
         "hovertemplate": "nerc_region=WECC<br>Year Group=1998–2000<br>state=%{x}<br>Outage Duration (hours)=%{y}<extra></extra>",
         "legendgroup": "WECC",
         "marker": {
          "color": "#19d3f3"
         },
         "name": "WECC",
         "notched": false,
         "offsetgroup": "WECC",
         "orientation": "v",
         "showlegend": false,
         "type": "box",
         "x": [
          "Arizona",
          "Arizona",
          "California",
          "New Mexico"
         ],
         "x0": " ",
         "xaxis": "x7",
         "y": [
          "66",
          null,
          null,
          "0"
         ],
         "y0": " ",
         "yaxis": "y7"
        },
        {
         "alignmentgroup": "True",
         "hovertemplate": "nerc_region=SPP<br>Year Group=2010–2012<br>state=%{x}<br>Outage Duration (hours)=%{y}<extra></extra>",
         "legendgroup": "SPP",
         "marker": {
          "color": "#FF6692"
         },
         "name": "SPP",
         "notched": false,
         "offsetgroup": "SPP",
         "orientation": "v",
         "showlegend": true,
         "type": "box",
         "x": [
          "Texas",
          "Texas",
          "Missouri",
          "Louisiana",
          "Louisiana",
          "Louisiana",
          "Louisiana",
          "Louisiana",
          "Arkansas",
          "Arkansas",
          "Arkansas",
          "Arkansas",
          "Arkansas",
          "Arkansas",
          "Nebraska",
          "Oklahoma",
          "Oklahoma",
          "Oklahoma",
          "Oklahoma",
          "Oklahoma",
          "Oklahoma",
          "Oklahoma",
          "Oklahoma",
          "Oklahoma",
          "Oklahoma",
          "Oklahoma",
          "Kansas"
         ],
         "x0": " ",
         "xaxis": "x",
         "y": [
          "181",
          "394",
          "12652",
          "2775",
          "557",
          "3067",
          "430",
          "1690",
          "3",
          "2806",
          "270",
          "2880",
          "3314",
          "62",
          "159",
          "110",
          "2245",
          "984",
          "7200",
          "1381",
          "148",
          "2612",
          "431",
          "0",
          "117",
          "2895",
          "913"
         ],
         "y0": " ",
         "yaxis": "y"
        },
        {
         "alignmentgroup": "True",
         "hovertemplate": "nerc_region=SPP<br>Year Group=2013–2015<br>state=%{x}<br>Outage Duration (hours)=%{y}<extra></extra>",
         "legendgroup": "SPP",
         "marker": {
          "color": "#FF6692"
         },
         "name": "SPP",
         "notched": false,
         "offsetgroup": "SPP",
         "orientation": "v",
         "showlegend": false,
         "type": "box",
         "x": [
          "Texas",
          "Texas",
          "Missouri",
          "Arkansas",
          "Arkansas",
          "Arkansas",
          "New Mexico",
          "Oklahoma",
          "Oklahoma",
          "Oklahoma",
          "Oklahoma",
          "Oklahoma",
          "Oklahoma",
          "Oklahoma",
          "Oklahoma",
          "Kansas",
          "Kansas",
          "Kansas",
          "Kansas",
          "Kansas"
         ],
         "x0": " ",
         "xaxis": "x2",
         "y": [
          "63",
          "1320",
          "0",
          "30",
          "1226",
          "110",
          "76",
          "1042",
          null,
          null,
          "3000",
          "5310",
          "1732",
          "3300",
          "280",
          "187",
          "1406",
          "348",
          "90",
          null
         ],
         "y0": " ",
         "yaxis": "y2"
        },
        {
         "alignmentgroup": "True",
         "hovertemplate": "nerc_region=SPP<br>Year Group=2004–2006<br>state=%{x}<br>Outage Duration (hours)=%{y}<extra></extra>",
         "legendgroup": "SPP",
         "marker": {
          "color": "#FF6692"
         },
         "name": "SPP",
         "notched": false,
         "offsetgroup": "SPP",
         "orientation": "v",
         "showlegend": false,
         "type": "box",
         "x": [
          "Texas",
          "Louisiana",
          "Louisiana",
          "Louisiana",
          "Louisiana",
          "Louisiana",
          "Louisiana",
          "Kansas"
         ],
         "x0": " ",
         "xaxis": "x3",
         "y": [
          "600",
          "2160",
          "2100",
          "1440",
          "1755",
          "692",
          "18804",
          "14040"
         ],
         "y0": " ",
         "yaxis": "y3"
        },
        {
         "alignmentgroup": "True",
         "hovertemplate": "nerc_region=SPP<br>Year Group=2007–2009<br>state=%{x}<br>Outage Duration (hours)=%{y}<extra></extra>",
         "legendgroup": "SPP",
         "marker": {
          "color": "#FF6692"
         },
         "name": "SPP",
         "notched": false,
         "offsetgroup": "SPP",
         "orientation": "v",
         "showlegend": false,
         "type": "box",
         "x": [
          "Texas",
          "Louisiana",
          "Louisiana",
          "Louisiana",
          "Oklahoma"
         ],
         "x0": " ",
         "xaxis": "x4",
         "y": [
          "2340",
          "300",
          "300",
          "300",
          "13972"
         ],
         "y0": " ",
         "yaxis": "y4"
        },
        {
         "alignmentgroup": "True",
         "hovertemplate": "nerc_region=SPP<br>Year Group=2016–2018<br>state=%{x}<br>Outage Duration (hours)=%{y}<extra></extra>",
         "legendgroup": "SPP",
         "marker": {
          "color": "#FF6692"
         },
         "name": "SPP",
         "notched": false,
         "offsetgroup": "SPP",
         "orientation": "v",
         "showlegend": false,
         "type": "box",
         "x": [
          "Oklahoma"
         ],
         "x0": " ",
         "xaxis": "x5",
         "y": [
          "796"
         ],
         "y0": " ",
         "yaxis": "y5"
        },
        {
         "alignmentgroup": "True",
         "hovertemplate": "nerc_region=SPP<br>Year Group=2001–2003<br>state=%{x}<br>Outage Duration (hours)=%{y}<extra></extra>",
         "legendgroup": "SPP",
         "marker": {
          "color": "#FF6692"
         },
         "name": "SPP",
         "notched": false,
         "offsetgroup": "SPP",
         "orientation": "v",
         "showlegend": false,
         "type": "box",
         "x": [
          "Missouri",
          "Louisiana",
          "Arkansas",
          "Oklahoma",
          "Kansas"
         ],
         "x0": " ",
         "xaxis": "x6",
         "y": [
          "15420",
          null,
          "8160",
          "11880",
          null
         ],
         "y0": " ",
         "yaxis": "y6"
        },
        {
         "alignmentgroup": "True",
         "hovertemplate": "nerc_region=SPP<br>Year Group=1998–2000<br>state=%{x}<br>Outage Duration (hours)=%{y}<extra></extra>",
         "legendgroup": "SPP",
         "marker": {
          "color": "#FF6692"
         },
         "name": "SPP",
         "notched": false,
         "offsetgroup": "SPP",
         "orientation": "v",
         "showlegend": false,
         "type": "box",
         "x": [
          "Texas"
         ],
         "x0": " ",
         "xaxis": "x7",
         "y": [
          "2159"
         ],
         "y0": " ",
         "yaxis": "y7"
        },
        {
         "alignmentgroup": "True",
         "hovertemplate": "nerc_region=FRCC<br>Year Group=2010–2012<br>state=%{x}<br>Outage Duration (hours)=%{y}<extra></extra>",
         "legendgroup": "FRCC",
         "marker": {
          "color": "#B6E880"
         },
         "name": "FRCC",
         "notched": false,
         "offsetgroup": "FRCC",
         "orientation": "v",
         "showlegend": true,
         "type": "box",
         "x": [
          "Florida",
          "Florida",
          "Florida",
          "Florida"
         ],
         "x0": " ",
         "xaxis": "x",
         "y": [
          "240",
          "2009",
          "540",
          "52"
         ],
         "y0": " ",
         "yaxis": "y"
        },
        {
         "alignmentgroup": "True",
         "hovertemplate": "nerc_region=FRCC<br>Year Group=2013–2015<br>state=%{x}<br>Outage Duration (hours)=%{y}<extra></extra>",
         "legendgroup": "FRCC",
         "marker": {
          "color": "#B6E880"
         },
         "name": "FRCC",
         "notched": false,
         "offsetgroup": "FRCC",
         "orientation": "v",
         "showlegend": false,
         "type": "box",
         "x": [
          "Florida",
          "Florida",
          "Florida"
         ],
         "x0": " ",
         "xaxis": "x2",
         "y": [
          "17",
          "152",
          "90"
         ],
         "y0": " ",
         "yaxis": "y2"
        },
        {
         "alignmentgroup": "True",
         "hovertemplate": "nerc_region=FRCC<br>Year Group=2004–2006<br>state=%{x}<br>Outage Duration (hours)=%{y}<extra></extra>",
         "legendgroup": "FRCC",
         "marker": {
          "color": "#B6E880"
         },
         "name": "FRCC",
         "notched": false,
         "offsetgroup": "FRCC",
         "orientation": "v",
         "showlegend": false,
         "type": "box",
         "x": [
          "Florida",
          "Florida",
          "Florida",
          "Florida",
          "Florida",
          "Florida",
          "Florida",
          "Florida",
          "Florida",
          "Florida",
          "Florida",
          "Florida",
          "Florida",
          "Florida",
          "Florida",
          "Florida",
          "Florida",
          "Florida",
          "Florida",
          "Florida",
          "Florida",
          "Florida",
          "Florida",
          "Florida",
          "Florida"
         ],
         "x0": " ",
         "xaxis": "x3",
         "y": [
          "17520",
          "8189",
          "720",
          "4320",
          "4320",
          "480",
          "1005",
          "221",
          "13430",
          "4320",
          "3600",
          "10080",
          "6840",
          "221",
          "24780",
          "7560",
          "10380",
          "2040",
          "12060",
          "1080",
          "1680",
          "13920",
          "14101",
          "1099",
          "2460"
         ],
         "y0": " ",
         "yaxis": "y3"
        },
        {
         "alignmentgroup": "True",
         "hovertemplate": "nerc_region=FRCC<br>Year Group=2007–2009<br>state=%{x}<br>Outage Duration (hours)=%{y}<extra></extra>",
         "legendgroup": "FRCC",
         "marker": {
          "color": "#B6E880"
         },
         "name": "FRCC",
         "notched": false,
         "offsetgroup": "FRCC",
         "orientation": "v",
         "showlegend": false,
         "type": "box",
         "x": [
          "Florida",
          "Florida",
          "Florida",
          "Florida",
          "Florida",
          "Florida",
          "Florida",
          "Florida",
          "Florida"
         ],
         "x0": " ",
         "xaxis": "x4",
         "y": [
          "182",
          "5820",
          "155",
          "91",
          "1419",
          "5071",
          "38",
          "61",
          "396"
         ],
         "y0": " ",
         "yaxis": "y4"
        },
        {
         "alignmentgroup": "True",
         "hovertemplate": "nerc_region=FRCC<br>Year Group=2016–2018<br>state=%{x}<br>Outage Duration (hours)=%{y}<extra></extra>",
         "legendgroup": "FRCC",
         "marker": {
          "color": "#B6E880"
         },
         "name": "FRCC",
         "notched": false,
         "offsetgroup": "FRCC",
         "orientation": "v",
         "showlegend": false,
         "type": "box",
         "x": [
          "Florida"
         ],
         "x0": " ",
         "xaxis": "x5",
         "y": [
          "83"
         ],
         "y0": " ",
         "yaxis": "y5"
        },
        {
         "alignmentgroup": "True",
         "hovertemplate": "nerc_region=FRCC<br>Year Group=2001–2003<br>state=%{x}<br>Outage Duration (hours)=%{y}<extra></extra>",
         "legendgroup": "FRCC",
         "marker": {
          "color": "#B6E880"
         },
         "name": "FRCC",
         "notched": false,
         "offsetgroup": "FRCC",
         "orientation": "v",
         "showlegend": false,
         "type": "box",
         "x": [
          "Florida"
         ],
         "x0": " ",
         "xaxis": "x6",
         "y": [
          "816"
         ],
         "y0": " ",
         "yaxis": "y6"
        },
        {
         "alignmentgroup": "True",
         "hovertemplate": "nerc_region=FRCC<br>Year Group=1998–2000<br>state=%{x}<br>Outage Duration (hours)=%{y}<extra></extra>",
         "legendgroup": "FRCC",
         "marker": {
          "color": "#B6E880"
         },
         "name": "FRCC",
         "notched": false,
         "offsetgroup": "FRCC",
         "orientation": "v",
         "showlegend": false,
         "type": "box",
         "x": [
          "Texas"
         ],
         "x0": " ",
         "xaxis": "x7",
         "y": [
          null
         ],
         "y0": " ",
         "yaxis": "y7"
        },
        {
         "alignmentgroup": "True",
         "hovertemplate": "nerc_region=NPCC<br>Year Group=2010–2012<br>state=%{x}<br>Outage Duration (hours)=%{y}<extra></extra>",
         "legendgroup": "NPCC",
         "marker": {
          "color": "#FF97FF"
         },
         "name": "NPCC",
         "notched": false,
         "offsetgroup": "NPCC",
         "orientation": "v",
         "showlegend": true,
         "type": "box",
         "x": [
          "New Jersey",
          "New York",
          "New York",
          "New York",
          "New York",
          "New York",
          "New York",
          "New York",
          "New York",
          "New York",
          "New York",
          "New York",
          "New York",
          "New York",
          "New York",
          "New York",
          "New York",
          "New York",
          "New York",
          "New York",
          "New York",
          "New York",
          "New York",
          "New York",
          "New York",
          "New York",
          "New York",
          "New York",
          "New York",
          "New York",
          "New York",
          "Vermont",
          "Vermont",
          "Vermont",
          "Vermont",
          "Vermont",
          "Vermont",
          "Vermont",
          "Connecticut",
          "Connecticut",
          "Connecticut",
          "Connecticut",
          "Connecticut",
          "Connecticut",
          "Connecticut",
          "Connecticut",
          "Massachusetts",
          "Massachusetts",
          "Massachusetts",
          "Massachusetts",
          "Massachusetts",
          "Massachusetts",
          "Massachusetts",
          "Massachusetts",
          "Massachusetts",
          "Massachusetts",
          "Maine",
          "Maine",
          "Maine",
          "Maine",
          "Maine",
          "Maine",
          "New Hampshire",
          "New Hampshire",
          "New Hampshire",
          "New Hampshire",
          "New Hampshire",
          "New Hampshire",
          "New Hampshire",
          "New Hampshire",
          "New Hampshire",
          "New Hampshire",
          "New Hampshire",
          "New Hampshire"
         ],
         "x0": " ",
         "xaxis": "x",
         "y": [
          "11337",
          "20280",
          "14639",
          "2880",
          "1",
          "5355",
          "0",
          "17310",
          "10080",
          "9480",
          "30",
          "3600",
          "5850",
          "0",
          "23040",
          "6074",
          "2299",
          "5760",
          "420",
          "7320",
          "2880",
          "2520",
          "21",
          "8221",
          "2880",
          "258",
          "8640",
          "8268",
          "0",
          "14400",
          "7962",
          "1",
          "160",
          "20",
          "1",
          "70",
          "50",
          "15",
          "0",
          "1440",
          "1",
          "0",
          "76",
          "210",
          "3305",
          "60",
          "480",
          "31",
          "1",
          "0",
          "0",
          "307",
          "1656",
          "3525",
          "1569",
          "1",
          "0",
          "0",
          "195",
          "0",
          "673",
          "1187",
          "2535",
          "27",
          "108",
          "73",
          "200",
          "5",
          "75",
          "0",
          "0",
          "92",
          "30",
          "33"
         ],
         "y0": " ",
         "yaxis": "y"
        },
        {
         "alignmentgroup": "True",
         "hovertemplate": "nerc_region=NPCC<br>Year Group=2013–2015<br>state=%{x}<br>Outage Duration (hours)=%{y}<extra></extra>",
         "legendgroup": "NPCC",
         "marker": {
          "color": "#FF97FF"
         },
         "name": "NPCC",
         "notched": false,
         "offsetgroup": "NPCC",
         "orientation": "v",
         "showlegend": false,
         "type": "box",
         "x": [
          "New Jersey",
          "New York",
          "New York",
          "New York",
          "New York",
          "New York",
          "New York",
          "New York",
          "New York",
          "New York",
          "New York",
          "New York",
          "New York",
          "New York",
          "New York",
          "Vermont",
          "Vermont",
          "Connecticut",
          "Connecticut",
          "Connecticut",
          "Connecticut",
          "Massachusetts",
          "Massachusetts",
          "Massachusetts",
          "Massachusetts",
          "Maine",
          "Maine",
          "Maine",
          "New Hampshire"
         ],
         "x0": " ",
         "xaxis": "x2",
         "y": [
          null,
          "3943",
          "0",
          "1",
          "5",
          "2515",
          "25920",
          "2730",
          "1",
          "1800",
          "255",
          "2355",
          "161",
          "300",
          "60480",
          "1",
          "1",
          "1",
          "1",
          "210",
          "120",
          "4745",
          "114",
          "15",
          "2891",
          "1",
          "2652",
          "300",
          "77"
         ],
         "y0": " ",
         "yaxis": "y2"
        },
        {
         "alignmentgroup": "True",
         "hovertemplate": "nerc_region=NPCC<br>Year Group=2004–2006<br>state=%{x}<br>Outage Duration (hours)=%{y}<extra></extra>",
         "legendgroup": "NPCC",
         "marker": {
          "color": "#FF97FF"
         },
         "name": "NPCC",
         "notched": false,
         "offsetgroup": "NPCC",
         "orientation": "v",
         "showlegend": false,
         "type": "box",
         "x": [
          "New York",
          "New York",
          "New York",
          "New York",
          "New York",
          "New York",
          "New York",
          "New York",
          "Connecticut",
          "Massachusetts",
          "Maine"
         ],
         "x0": " ",
         "xaxis": "x3",
         "y": [
          "4680",
          "448",
          "3120",
          "3240",
          "13140",
          "15492",
          "2400",
          "11296",
          "145",
          "374",
          "198"
         ],
         "y0": " ",
         "yaxis": "y3"
        },
        {
         "alignmentgroup": "True",
         "hovertemplate": "nerc_region=NPCC<br>Year Group=2007–2009<br>state=%{x}<br>Outage Duration (hours)=%{y}<extra></extra>",
         "legendgroup": "NPCC",
         "marker": {
          "color": "#FF97FF"
         },
         "name": "NPCC",
         "notched": false,
         "offsetgroup": "NPCC",
         "orientation": "v",
         "showlegend": false,
         "type": "box",
         "x": [
          "New York",
          "New York",
          "New York",
          "New York",
          "New York",
          "New York",
          "New York",
          "New York",
          "Connecticut",
          "Connecticut",
          "Connecticut",
          "Connecticut",
          "Maine",
          "Maine",
          "Maine",
          "Maine",
          "Maine",
          "Maine",
          "Maine",
          "Maine",
          "New Hampshire"
         ],
         "x0": " ",
         "xaxis": "x4",
         "y": [
          "3300",
          "10726",
          "5400",
          "3584",
          "4710",
          "49",
          "50",
          "48",
          "4560",
          "110",
          "4260",
          "2640",
          "1676",
          "3604",
          "2108",
          "3667",
          "1037",
          "881",
          "618",
          "950",
          "660"
         ],
         "y0": " ",
         "yaxis": "y4"
        },
        {
         "alignmentgroup": "True",
         "hovertemplate": "nerc_region=NPCC<br>Year Group=2016–2018<br>state=%{x}<br>Outage Duration (hours)=%{y}<extra></extra>",
         "legendgroup": "NPCC",
         "marker": {
          "color": "#FF97FF"
         },
         "name": "NPCC",
         "notched": false,
         "offsetgroup": "NPCC",
         "orientation": "v",
         "showlegend": false,
         "type": "box",
         "x": [
          "New York",
          "New York",
          "New York",
          "New York",
          "Massachusetts"
         ],
         "x0": " ",
         "xaxis": "x5",
         "y": [
          "191",
          "73",
          null,
          "18717",
          "1068"
         ],
         "y0": " ",
         "yaxis": "y5"
        },
        {
         "alignmentgroup": "True",
         "hovertemplate": "nerc_region=NPCC<br>Year Group=2001–2003<br>state=%{x}<br>Outage Duration (hours)=%{y}<extra></extra>",
         "legendgroup": "NPCC",
         "marker": {
          "color": "#FF97FF"
         },
         "name": "NPCC",
         "notched": false,
         "offsetgroup": "NPCC",
         "orientation": "v",
         "showlegend": false,
         "type": "box",
         "x": [
          "New York",
          "New York",
          "New York",
          "New York",
          "New York",
          "Connecticut",
          "Massachusetts",
          "Massachusetts"
         ],
         "x0": " ",
         "xaxis": "x6",
         "y": [
          "2089",
          "494",
          "1732",
          "5513",
          "2100",
          "5880",
          "103",
          "115"
         ],
         "y0": " ",
         "yaxis": "y6"
        },
        {
         "alignmentgroup": "True",
         "hovertemplate": "nerc_region=NPCC<br>Year Group=1998–2000<br>state=%{x}<br>Outage Duration (hours)=%{y}<extra></extra>",
         "legendgroup": "NPCC",
         "marker": {
          "color": "#FF97FF"
         },
         "name": "NPCC",
         "notched": false,
         "offsetgroup": "NPCC",
         "orientation": "v",
         "showlegend": false,
         "type": "box",
         "x": [
          "New York",
          "Maine"
         ],
         "x0": " ",
         "xaxis": "x7",
         "y": [
          "681",
          null
         ],
         "y0": " ",
         "yaxis": "y7"
        },
        {
         "alignmentgroup": "True",
         "hovertemplate": "nerc_region=FRCC, SERC<br>Year Group=2010–2012<br>state=%{x}<br>Outage Duration (hours)=%{y}<extra></extra>",
         "legendgroup": "FRCC, SERC",
         "marker": {
          "color": "#FECB52"
         },
         "name": "FRCC, SERC",
         "notched": false,
         "offsetgroup": "FRCC, SERC",
         "orientation": "v",
         "showlegend": true,
         "type": "box",
         "x": [
          "Florida"
         ],
         "x0": " ",
         "xaxis": "x",
         "y": [
          "372"
         ],
         "y0": " ",
         "yaxis": "y"
        },
        {
         "alignmentgroup": "True",
         "hovertemplate": "nerc_region=HI<br>Year Group=2007–2009<br>state=%{x}<br>Outage Duration (hours)=%{y}<extra></extra>",
         "legendgroup": "HI",
         "marker": {
          "color": "#636efa"
         },
         "name": "HI",
         "notched": false,
         "offsetgroup": "HI",
         "orientation": "v",
         "showlegend": true,
         "type": "box",
         "x": [
          "Hawaii"
         ],
         "x0": " ",
         "xaxis": "x4",
         "y": [
          "1367"
         ],
         "y0": " ",
         "yaxis": "y4"
        },
        {
         "alignmentgroup": "True",
         "hovertemplate": "nerc_region=PR<br>Year Group=2010–2012<br>state=%{x}<br>Outage Duration (hours)=%{y}<extra></extra>",
         "legendgroup": "PR",
         "marker": {
          "color": "#EF553B"
         },
         "name": "PR",
         "notched": false,
         "offsetgroup": "PR",
         "orientation": "v",
         "showlegend": true,
         "type": "box",
         "x": [
          "Hawaii"
         ],
         "x0": " ",
         "xaxis": "x",
         "y": [
          "174"
         ],
         "y0": " ",
         "yaxis": "y"
        },
        {
         "alignmentgroup": "True",
         "hovertemplate": "nerc_region=HECO<br>Year Group=2004–2006<br>state=%{x}<br>Outage Duration (hours)=%{y}<extra></extra>",
         "legendgroup": "HECO",
         "marker": {
          "color": "#00cc96"
         },
         "name": "HECO",
         "notched": false,
         "offsetgroup": "HECO",
         "orientation": "v",
         "showlegend": true,
         "type": "box",
         "x": [
          "Hawaii",
          "Hawaii",
          "Hawaii"
         ],
         "x0": " ",
         "xaxis": "x3",
         "y": [
          "543",
          "237",
          "1906"
         ],
         "y0": " ",
         "yaxis": "y3"
        },
        {
         "alignmentgroup": "True",
         "hovertemplate": "nerc_region=ASCC<br>Year Group=1998–2000<br>state=%{x}<br>Outage Duration (hours)=%{y}<extra></extra>",
         "legendgroup": "ASCC",
         "marker": {
          "color": "#ab63fa"
         },
         "name": "ASCC",
         "notched": false,
         "offsetgroup": "ASCC",
         "orientation": "v",
         "showlegend": true,
         "type": "box",
         "x": [
          "Alaska"
         ],
         "x0": " ",
         "xaxis": "x7",
         "y": [
          null
         ],
         "y0": " ",
         "yaxis": "y7"
        }
       ],
       "layout": {
        "annotations": [
         {
          "font": {},
          "showarrow": false,
          "text": "Year Group=2010–2012",
          "x": 0.06285714285714285,
          "xanchor": "center",
          "xref": "paper",
          "y": 1,
          "yanchor": "bottom",
          "yref": "paper"
         },
         {
          "font": {},
          "showarrow": false,
          "text": "Year Group=2013–2015",
          "x": 0.20857142857142852,
          "xanchor": "center",
          "xref": "paper",
          "y": 1,
          "yanchor": "bottom",
          "yref": "paper"
         },
         {
          "font": {},
          "showarrow": false,
          "text": "Year Group=2004–2006",
          "x": 0.3542857142857142,
          "xanchor": "center",
          "xref": "paper",
          "y": 1,
          "yanchor": "bottom",
          "yref": "paper"
         },
         {
          "font": {},
          "showarrow": false,
          "text": "Year Group=2007–2009",
          "x": 0.5,
          "xanchor": "center",
          "xref": "paper",
          "y": 1,
          "yanchor": "bottom",
          "yref": "paper"
         },
         {
          "font": {},
          "showarrow": false,
          "text": "Year Group=2016–2018",
          "x": 0.6457142857142856,
          "xanchor": "center",
          "xref": "paper",
          "y": 1,
          "yanchor": "bottom",
          "yref": "paper"
         },
         {
          "font": {},
          "showarrow": false,
          "text": "Year Group=2001–2003",
          "x": 0.7914285714285713,
          "xanchor": "center",
          "xref": "paper",
          "y": 1,
          "yanchor": "bottom",
          "yref": "paper"
         },
         {
          "font": {},
          "showarrow": false,
          "text": "Year Group=1998–2000",
          "x": 0.937142857142857,
          "xanchor": "center",
          "xref": "paper",
          "y": 1,
          "yanchor": "bottom",
          "yref": "paper"
         }
        ],
        "boxmode": "group",
        "font": {
         "size": 14
        },
        "height": 500,
        "legend": {
         "title": {
          "text": "nerc_region"
         },
         "tracegroupgap": 0
        },
        "template": {
         "data": {
          "bar": [
           {
            "error_x": {
             "color": "#2a3f5f"
            },
            "error_y": {
             "color": "#2a3f5f"
            },
            "marker": {
             "line": {
              "color": "#E5ECF6",
              "width": 0.5
             },
             "pattern": {
              "fillmode": "overlay",
              "size": 10,
              "solidity": 0.2
             }
            },
            "type": "bar"
           }
          ],
          "barpolar": [
           {
            "marker": {
             "line": {
              "color": "#E5ECF6",
              "width": 0.5
             },
             "pattern": {
              "fillmode": "overlay",
              "size": 10,
              "solidity": 0.2
             }
            },
            "type": "barpolar"
           }
          ],
          "carpet": [
           {
            "aaxis": {
             "endlinecolor": "#2a3f5f",
             "gridcolor": "white",
             "linecolor": "white",
             "minorgridcolor": "white",
             "startlinecolor": "#2a3f5f"
            },
            "baxis": {
             "endlinecolor": "#2a3f5f",
             "gridcolor": "white",
             "linecolor": "white",
             "minorgridcolor": "white",
             "startlinecolor": "#2a3f5f"
            },
            "type": "carpet"
           }
          ],
          "choropleth": [
           {
            "colorbar": {
             "outlinewidth": 0,
             "ticks": ""
            },
            "type": "choropleth"
           }
          ],
          "contour": [
           {
            "colorbar": {
             "outlinewidth": 0,
             "ticks": ""
            },
            "colorscale": [
             [
              0,
              "#0d0887"
             ],
             [
              0.1111111111111111,
              "#46039f"
             ],
             [
              0.2222222222222222,
              "#7201a8"
             ],
             [
              0.3333333333333333,
              "#9c179e"
             ],
             [
              0.4444444444444444,
              "#bd3786"
             ],
             [
              0.5555555555555556,
              "#d8576b"
             ],
             [
              0.6666666666666666,
              "#ed7953"
             ],
             [
              0.7777777777777778,
              "#fb9f3a"
             ],
             [
              0.8888888888888888,
              "#fdca26"
             ],
             [
              1,
              "#f0f921"
             ]
            ],
            "type": "contour"
           }
          ],
          "contourcarpet": [
           {
            "colorbar": {
             "outlinewidth": 0,
             "ticks": ""
            },
            "type": "contourcarpet"
           }
          ],
          "heatmap": [
           {
            "colorbar": {
             "outlinewidth": 0,
             "ticks": ""
            },
            "colorscale": [
             [
              0,
              "#0d0887"
             ],
             [
              0.1111111111111111,
              "#46039f"
             ],
             [
              0.2222222222222222,
              "#7201a8"
             ],
             [
              0.3333333333333333,
              "#9c179e"
             ],
             [
              0.4444444444444444,
              "#bd3786"
             ],
             [
              0.5555555555555556,
              "#d8576b"
             ],
             [
              0.6666666666666666,
              "#ed7953"
             ],
             [
              0.7777777777777778,
              "#fb9f3a"
             ],
             [
              0.8888888888888888,
              "#fdca26"
             ],
             [
              1,
              "#f0f921"
             ]
            ],
            "type": "heatmap"
           }
          ],
          "heatmapgl": [
           {
            "colorbar": {
             "outlinewidth": 0,
             "ticks": ""
            },
            "colorscale": [
             [
              0,
              "#0d0887"
             ],
             [
              0.1111111111111111,
              "#46039f"
             ],
             [
              0.2222222222222222,
              "#7201a8"
             ],
             [
              0.3333333333333333,
              "#9c179e"
             ],
             [
              0.4444444444444444,
              "#bd3786"
             ],
             [
              0.5555555555555556,
              "#d8576b"
             ],
             [
              0.6666666666666666,
              "#ed7953"
             ],
             [
              0.7777777777777778,
              "#fb9f3a"
             ],
             [
              0.8888888888888888,
              "#fdca26"
             ],
             [
              1,
              "#f0f921"
             ]
            ],
            "type": "heatmapgl"
           }
          ],
          "histogram": [
           {
            "marker": {
             "pattern": {
              "fillmode": "overlay",
              "size": 10,
              "solidity": 0.2
             }
            },
            "type": "histogram"
           }
          ],
          "histogram2d": [
           {
            "colorbar": {
             "outlinewidth": 0,
             "ticks": ""
            },
            "colorscale": [
             [
              0,
              "#0d0887"
             ],
             [
              0.1111111111111111,
              "#46039f"
             ],
             [
              0.2222222222222222,
              "#7201a8"
             ],
             [
              0.3333333333333333,
              "#9c179e"
             ],
             [
              0.4444444444444444,
              "#bd3786"
             ],
             [
              0.5555555555555556,
              "#d8576b"
             ],
             [
              0.6666666666666666,
              "#ed7953"
             ],
             [
              0.7777777777777778,
              "#fb9f3a"
             ],
             [
              0.8888888888888888,
              "#fdca26"
             ],
             [
              1,
              "#f0f921"
             ]
            ],
            "type": "histogram2d"
           }
          ],
          "histogram2dcontour": [
           {
            "colorbar": {
             "outlinewidth": 0,
             "ticks": ""
            },
            "colorscale": [
             [
              0,
              "#0d0887"
             ],
             [
              0.1111111111111111,
              "#46039f"
             ],
             [
              0.2222222222222222,
              "#7201a8"
             ],
             [
              0.3333333333333333,
              "#9c179e"
             ],
             [
              0.4444444444444444,
              "#bd3786"
             ],
             [
              0.5555555555555556,
              "#d8576b"
             ],
             [
              0.6666666666666666,
              "#ed7953"
             ],
             [
              0.7777777777777778,
              "#fb9f3a"
             ],
             [
              0.8888888888888888,
              "#fdca26"
             ],
             [
              1,
              "#f0f921"
             ]
            ],
            "type": "histogram2dcontour"
           }
          ],
          "mesh3d": [
           {
            "colorbar": {
             "outlinewidth": 0,
             "ticks": ""
            },
            "type": "mesh3d"
           }
          ],
          "parcoords": [
           {
            "line": {
             "colorbar": {
              "outlinewidth": 0,
              "ticks": ""
             }
            },
            "type": "parcoords"
           }
          ],
          "pie": [
           {
            "automargin": true,
            "type": "pie"
           }
          ],
          "scatter": [
           {
            "fillpattern": {
             "fillmode": "overlay",
             "size": 10,
             "solidity": 0.2
            },
            "type": "scatter"
           }
          ],
          "scatter3d": [
           {
            "line": {
             "colorbar": {
              "outlinewidth": 0,
              "ticks": ""
             }
            },
            "marker": {
             "colorbar": {
              "outlinewidth": 0,
              "ticks": ""
             }
            },
            "type": "scatter3d"
           }
          ],
          "scattercarpet": [
           {
            "marker": {
             "colorbar": {
              "outlinewidth": 0,
              "ticks": ""
             }
            },
            "type": "scattercarpet"
           }
          ],
          "scattergeo": [
           {
            "marker": {
             "colorbar": {
              "outlinewidth": 0,
              "ticks": ""
             }
            },
            "type": "scattergeo"
           }
          ],
          "scattergl": [
           {
            "marker": {
             "colorbar": {
              "outlinewidth": 0,
              "ticks": ""
             }
            },
            "type": "scattergl"
           }
          ],
          "scattermapbox": [
           {
            "marker": {
             "colorbar": {
              "outlinewidth": 0,
              "ticks": ""
             }
            },
            "type": "scattermapbox"
           }
          ],
          "scatterpolar": [
           {
            "marker": {
             "colorbar": {
              "outlinewidth": 0,
              "ticks": ""
             }
            },
            "type": "scatterpolar"
           }
          ],
          "scatterpolargl": [
           {
            "marker": {
             "colorbar": {
              "outlinewidth": 0,
              "ticks": ""
             }
            },
            "type": "scatterpolargl"
           }
          ],
          "scatterternary": [
           {
            "marker": {
             "colorbar": {
              "outlinewidth": 0,
              "ticks": ""
             }
            },
            "type": "scatterternary"
           }
          ],
          "surface": [
           {
            "colorbar": {
             "outlinewidth": 0,
             "ticks": ""
            },
            "colorscale": [
             [
              0,
              "#0d0887"
             ],
             [
              0.1111111111111111,
              "#46039f"
             ],
             [
              0.2222222222222222,
              "#7201a8"
             ],
             [
              0.3333333333333333,
              "#9c179e"
             ],
             [
              0.4444444444444444,
              "#bd3786"
             ],
             [
              0.5555555555555556,
              "#d8576b"
             ],
             [
              0.6666666666666666,
              "#ed7953"
             ],
             [
              0.7777777777777778,
              "#fb9f3a"
             ],
             [
              0.8888888888888888,
              "#fdca26"
             ],
             [
              1,
              "#f0f921"
             ]
            ],
            "type": "surface"
           }
          ],
          "table": [
           {
            "cells": {
             "fill": {
              "color": "#EBF0F8"
             },
             "line": {
              "color": "white"
             }
            },
            "header": {
             "fill": {
              "color": "#C8D4E3"
             },
             "line": {
              "color": "white"
             }
            },
            "type": "table"
           }
          ]
         },
         "layout": {
          "annotationdefaults": {
           "arrowcolor": "#2a3f5f",
           "arrowhead": 0,
           "arrowwidth": 1
          },
          "autotypenumbers": "strict",
          "coloraxis": {
           "colorbar": {
            "outlinewidth": 0,
            "ticks": ""
           }
          },
          "colorscale": {
           "diverging": [
            [
             0,
             "#8e0152"
            ],
            [
             0.1,
             "#c51b7d"
            ],
            [
             0.2,
             "#de77ae"
            ],
            [
             0.3,
             "#f1b6da"
            ],
            [
             0.4,
             "#fde0ef"
            ],
            [
             0.5,
             "#f7f7f7"
            ],
            [
             0.6,
             "#e6f5d0"
            ],
            [
             0.7,
             "#b8e186"
            ],
            [
             0.8,
             "#7fbc41"
            ],
            [
             0.9,
             "#4d9221"
            ],
            [
             1,
             "#276419"
            ]
           ],
           "sequential": [
            [
             0,
             "#0d0887"
            ],
            [
             0.1111111111111111,
             "#46039f"
            ],
            [
             0.2222222222222222,
             "#7201a8"
            ],
            [
             0.3333333333333333,
             "#9c179e"
            ],
            [
             0.4444444444444444,
             "#bd3786"
            ],
            [
             0.5555555555555556,
             "#d8576b"
            ],
            [
             0.6666666666666666,
             "#ed7953"
            ],
            [
             0.7777777777777778,
             "#fb9f3a"
            ],
            [
             0.8888888888888888,
             "#fdca26"
            ],
            [
             1,
             "#f0f921"
            ]
           ],
           "sequentialminus": [
            [
             0,
             "#0d0887"
            ],
            [
             0.1111111111111111,
             "#46039f"
            ],
            [
             0.2222222222222222,
             "#7201a8"
            ],
            [
             0.3333333333333333,
             "#9c179e"
            ],
            [
             0.4444444444444444,
             "#bd3786"
            ],
            [
             0.5555555555555556,
             "#d8576b"
            ],
            [
             0.6666666666666666,
             "#ed7953"
            ],
            [
             0.7777777777777778,
             "#fb9f3a"
            ],
            [
             0.8888888888888888,
             "#fdca26"
            ],
            [
             1,
             "#f0f921"
            ]
           ]
          },
          "colorway": [
           "#636efa",
           "#EF553B",
           "#00cc96",
           "#ab63fa",
           "#FFA15A",
           "#19d3f3",
           "#FF6692",
           "#B6E880",
           "#FF97FF",
           "#FECB52"
          ],
          "font": {
           "color": "#2a3f5f"
          },
          "geo": {
           "bgcolor": "white",
           "lakecolor": "white",
           "landcolor": "#E5ECF6",
           "showlakes": true,
           "showland": true,
           "subunitcolor": "white"
          },
          "hoverlabel": {
           "align": "left"
          },
          "hovermode": "closest",
          "mapbox": {
           "style": "light"
          },
          "paper_bgcolor": "white",
          "plot_bgcolor": "#E5ECF6",
          "polar": {
           "angularaxis": {
            "gridcolor": "white",
            "linecolor": "white",
            "ticks": ""
           },
           "bgcolor": "#E5ECF6",
           "radialaxis": {
            "gridcolor": "white",
            "linecolor": "white",
            "ticks": ""
           }
          },
          "scene": {
           "xaxis": {
            "backgroundcolor": "#E5ECF6",
            "gridcolor": "white",
            "gridwidth": 2,
            "linecolor": "white",
            "showbackground": true,
            "ticks": "",
            "zerolinecolor": "white"
           },
           "yaxis": {
            "backgroundcolor": "#E5ECF6",
            "gridcolor": "white",
            "gridwidth": 2,
            "linecolor": "white",
            "showbackground": true,
            "ticks": "",
            "zerolinecolor": "white"
           },
           "zaxis": {
            "backgroundcolor": "#E5ECF6",
            "gridcolor": "white",
            "gridwidth": 2,
            "linecolor": "white",
            "showbackground": true,
            "ticks": "",
            "zerolinecolor": "white"
           }
          },
          "shapedefaults": {
           "line": {
            "color": "#2a3f5f"
           }
          },
          "ternary": {
           "aaxis": {
            "gridcolor": "white",
            "linecolor": "white",
            "ticks": ""
           },
           "baxis": {
            "gridcolor": "white",
            "linecolor": "white",
            "ticks": ""
           },
           "bgcolor": "#E5ECF6",
           "caxis": {
            "gridcolor": "white",
            "linecolor": "white",
            "ticks": ""
           }
          },
          "title": {
           "x": 0.05
          },
          "xaxis": {
           "automargin": true,
           "gridcolor": "white",
           "linecolor": "white",
           "ticks": "",
           "title": {
            "standoff": 15
           },
           "zerolinecolor": "white",
           "zerolinewidth": 2
          },
          "yaxis": {
           "automargin": true,
           "gridcolor": "white",
           "linecolor": "white",
           "ticks": "",
           "title": {
            "standoff": 15
           },
           "zerolinecolor": "white",
           "zerolinewidth": 2
          }
         }
        },
        "title": {
         "text": "Outage Duration by State (Grouped in 3-Year Periods)"
        },
        "width": 3000,
        "xaxis": {
         "anchor": "y",
         "domain": [
          0,
          0.1257142857142857
         ],
         "tickangle": 60,
         "title": {
          "text": "state"
         }
        },
        "xaxis2": {
         "anchor": "y2",
         "domain": [
          0.14571428571428569,
          0.27142857142857135
         ],
         "matches": "x",
         "title": {
          "text": "state"
         }
        },
        "xaxis3": {
         "anchor": "y3",
         "domain": [
          0.29142857142857137,
          0.41714285714285704
         ],
         "matches": "x",
         "title": {
          "text": "state"
         }
        },
        "xaxis4": {
         "anchor": "y4",
         "domain": [
          0.4371428571428571,
          0.5628571428571428
         ],
         "matches": "x",
         "title": {
          "text": "state"
         }
        },
        "xaxis5": {
         "anchor": "y5",
         "domain": [
          0.5828571428571427,
          0.7085714285714284
         ],
         "matches": "x",
         "title": {
          "text": "state"
         }
        },
        "xaxis6": {
         "anchor": "y6",
         "domain": [
          0.7285714285714284,
          0.8542857142857141
         ],
         "matches": "x",
         "title": {
          "text": "state"
         }
        },
        "xaxis7": {
         "anchor": "y7",
         "domain": [
          0.8742857142857142,
          0.9999999999999999
         ],
         "matches": "x",
         "title": {
          "text": "state"
         }
        },
        "yaxis": {
         "anchor": "x",
         "domain": [
          0,
          1
         ],
         "title": {
          "text": "Outage Duration (hours)"
         }
        },
        "yaxis2": {
         "anchor": "x2",
         "domain": [
          0,
          1
         ],
         "matches": "y",
         "showticklabels": false
        },
        "yaxis3": {
         "anchor": "x3",
         "domain": [
          0,
          1
         ],
         "matches": "y",
         "showticklabels": false
        },
        "yaxis4": {
         "anchor": "x4",
         "domain": [
          0,
          1
         ],
         "matches": "y",
         "showticklabels": false
        },
        "yaxis5": {
         "anchor": "x5",
         "domain": [
          0,
          1
         ],
         "matches": "y",
         "showticklabels": false
        },
        "yaxis6": {
         "anchor": "x6",
         "domain": [
          0,
          1
         ],
         "matches": "y",
         "showticklabels": false
        },
        "yaxis7": {
         "anchor": "x7",
         "domain": [
          0,
          1
         ],
         "matches": "y",
         "showticklabels": false
        }
       }
      }
     },
     "metadata": {},
     "output_type": "display_data"
    }
   ],
   "source": [
    "# Assuming 'year' is an integer\n",
    "# Convert 'year' to numeric (will turn bad values into NaN)\n",
    "data['year'] = pd.to_numeric(data['year'], errors='coerce')\n",
    "data['year_group'] = (data['year'] - data['year'] % 3).astype(str) + '–' + (data['year'] - data['year'] % 3 + 2).astype(str)\n",
    "fig = px.box(\n",
    "    data,\n",
    "    x='state',\n",
    "    y='duration',\n",
    "    color='nerc_region',\n",
    "    facet_col='year_group',\n",
    "    title='Outage Duration by State (Grouped in 3-Year Periods)',\n",
    "    labels={'duration': 'Outage Duration (hours)', 'year_group': 'Year Group'}\n",
    ")\n",
    "\n",
    "fig.update_layout(\n",
    "    height=500,\n",
    "    width=3000,\n",
    "    font=dict(size=14),\n",
    "    xaxis_tickangle=60\n",
    ")\n",
    "\n",
    "fig.show()\n",
    "\n"
   ]
  },
  {
   "cell_type": "markdown",
   "metadata": {},
   "source": [
    "## Decide whether the dataset is in the scope of this project"
   ]
  },
  {
   "cell_type": "markdown",
   "metadata": {},
   "source": [
    "Professor said as long as we are still mainly using the dataset given, we will be fine. \n",
    "Let's inspect our own dataset and think about a fallback plan. \n",
    "\n",
    "\n",
    "Current idea we want to use: **Assessment of Infrastructure Resilience**\n",
    "Analyze how different regions' infrastructure characteristics (e.g., overhead vs. underground lines, maintenance investments) correlate with outage frequency and duration. This can inform infrastructure improvement strategies.\n",
    "\n",
    "\n",
    "If we do use the outside dataset, the steps we will MAINLY involve the dataset will be: \n",
    "- Introduction: We will have to explain the external dataset, but it's ok. \n",
    "- Data cleaning and EDA: Can do on the main dataset. All data visualizations can be done for original dataframe. We can add stuff to it. \n",
    "- Assessment of missingess can be completely done on our own dataset. \n",
    "- Hypothesis testing: Can be done on the dataset itself. \n",
    "- Predictive problem: the problem is, Step 5 - 8 will be all depending on the external dataset. I don't know if that is allowed. "
   ]
  },
  {
   "cell_type": "markdown",
   "metadata": {},
   "source": [
    "# Final decision on problem statement \n",
    "\n",
    "**Assessment of Infrastructure Resilience (Based on whether or not `cause_detail` has enough information.)\n",
    "Analyze how different regions' infrastructure characteristics (e.g., overhead vs. underground lines, maintenance investments) correlate with outage frequency and duration. This can inform infrastructure improvement strategies.**\n",
    "\n"
   ]
  },
  {
   "cell_type": "markdown",
   "metadata": {},
   "source": [
    "## Step 2: Data Cleaning and Exploratory Data Analysis"
   ]
  },
  {
   "cell_type": "markdown",
   "metadata": {},
   "source": [
    "# TODO: 1. Inspect and clean missing data from original dataframe \n",
    "1. Inspect how much missing data there is in each column (percentage) (rename the dataframe to outage, so that there's destintion between raw dataset (used for missingness later) and real dataset we will be using)\n",
    "2. Decide on how to fill in missingness (drop? mean imputation? probability imputation?)\n",
    "3. Feature engineer however you think is fit. "
   ]
  },
  {
   "cell_type": "code",
   "execution_count": 10,
   "metadata": {},
   "outputs": [],
   "source": [
    "dropped = [\n",
    "    'obs', 'start_date', 'start_time', 'restore_date', 'restore_time',\n",
    "    'res_price', 'com_price', 'ind_price',\n",
    "    'res_sales', 'com_sales', 'ind_sales',\n",
    "    'res_pct', 'com_pct', 'ind_pct',\n",
    "    'res_customers', 'com_customers', 'ind_customers',\n",
    "    'res_cust_pct', 'com_cust_pct', 'ind_cust_pct',\n",
    "    'pct_land', 'pct_water_tot', 'pct_water_inland',\n",
    "    'hurricane_names', 'postal_code', 'pc_realgsp_usa', \n",
    "    'pc_realgsp_rel', 'pc_realgsp_change', 'util_realgsp',\n",
    "    'total_realgsp', 'util_contri', 'nerc_region',\n",
    "    'demand_loss_mw', 'customers_affected',\n",
    "    'total_price', 'total_sales', 'total_customers',   \n",
    "]"
   ]
  },
  {
   "cell_type": "code",
   "execution_count": null,
   "metadata": {},
   "outputs": [],
   "source": []
  },
  {
   "cell_type": "code",
   "execution_count": 11,
   "metadata": {},
   "outputs": [],
   "source": [
    "raw_drop = raw.drop(columns = dropped)\n",
    "raw_drop = raw_drop.fillna(np.nan)"
   ]
  },
  {
   "cell_type": "code",
   "execution_count": 12,
   "metadata": {},
   "outputs": [
    {
     "data": {
      "text/plain": [
       "cause_detail        0.307040\n",
       "duration            0.037810\n",
       "popden_uc           0.006519\n",
       "popden_rural        0.006519\n",
       "anomaly_level       0.005867\n",
       "month               0.005867\n",
       "climate_cat         0.005867\n",
       "climate_region      0.003911\n",
       "year                0.000000\n",
       "state               0.000000\n",
       "cause_cat           0.000000\n",
       "pi_util_of_usa      0.000000\n",
       "pc_realgsp_state    0.000000\n",
       "population          0.000000\n",
       "pop_pct_urban       0.000000\n",
       "popden_urban        0.000000\n",
       "pop_pct_uc          0.000000\n",
       "area_pct_urban      0.000000\n",
       "area_pct_uc         0.000000\n",
       "dtype: float64"
      ]
     },
     "execution_count": 12,
     "metadata": {},
     "output_type": "execute_result"
    }
   ],
   "source": [
    "(raw_drop.isna().sum(axis = 0) / raw_drop.shape[0]).sort_values(ascending= False)"
   ]
  },
  {
   "cell_type": "markdown",
   "metadata": {},
   "source": [
    "### Columns with notably large amounts of missing data:\n",
    "demand_loss_mw\n",
    "customers_affected\n",
    "cause_detail\n",
    "hurricane_names\n"
   ]
  },
  {
   "cell_type": "markdown",
   "metadata": {},
   "source": [
    "\n",
    "# TODO 2: Process external data source \n",
    "1. Using the link on this website, download all zip files from 2000 - 2016 (Do NOT use the reformatted files!)\n",
    "https://www.eia.gov/electricity/data/eia861/\n",
    "\n",
    "2. Get file 2. Convert the file into CSV, Get the three total columns, keep columns of : Year, State, Thousands dollars, megawatthours, count for Total. Group each year's dataframe by state, sum for each column. \n",
    "\n",
    "3. For now, just have 17 dataframes."
   ]
  },
  {
   "cell_type": "markdown",
   "metadata": {},
   "source": [
    "Total revenue is very high, might want to regularize it?"
   ]
  },
  {
   "cell_type": "code",
   "execution_count": null,
   "metadata": {},
   "outputs": [
    {
     "name": "stderr",
     "output_type": "stream",
     "text": [
      "C:\\Users\\monso\\AppData\\Local\\Temp\\ipykernel_17876\\1914324587.py:20: FutureWarning:\n",
      "\n",
      "The behavior of DataFrame concatenation with empty or all-NA entries is deprecated. In a future version, this will no longer exclude empty or all-NA columns when determining the result dtypes. To retain the old behavior, exclude the relevant entries before the concat operation.\n",
      "\n"
     ]
    }
   ],
   "source": [
    "external = pd.DataFrame(columns = ['state', 'total_revenue', 'megawatthours', 'count', 'year'])\n",
    "\n",
    "for i in range(17):\n",
    "    if i < 10:\n",
    "        num = '0' + str(i)\n",
    "    else:\n",
    "        num = str(i)\n",
    "    state_col = 'Unnamed: 3' if i == 0 else 'Unnamed: 6'\n",
    "    df = pd.read_csv(f'20{num}.csv')\n",
    "    counts = df.columns[-1]\n",
    "    megawatts = df.columns[-2]\n",
    "    revenue = df.columns[-3]\n",
    "    df = df.iloc[2:][[state_col, revenue, megawatts, counts]].rename(columns = {state_col: 'state', revenue: 'total_revenue', \n",
    "                                                                                            megawatts: 'megawatthours', counts: 'count'})\n",
    "    df['total_revenue'] = df['total_revenue'].str.replace(',', '', regex = True).replace(['.', ''], np.nan).astype(float)*1000\n",
    "    df['megawatthours'] = df['megawatthours'].str.replace(',', '', regex = True).replace(['.', ''], np.nan).astype(float)\n",
    "    df['count'] = df['count'].str.replace(',', '', regex = True).replace(['.', ''], np.nan).astype(float)\n",
    "    df = df.groupby('state').sum().reset_index()\n",
    "    df['year'] = '20' + num\n",
    "    external = pd.concat([external, df], axis = 0)\n",
    "\n",
    "external['year'] = external['year'].astype(int)"
   ]
  },
  {
   "cell_type": "code",
   "execution_count": 14,
   "metadata": {},
   "outputs": [
    {
     "data": {
      "text/html": [
       "<div>\n",
       "<style scoped>\n",
       "    .dataframe tbody tr th:only-of-type {\n",
       "        vertical-align: middle;\n",
       "    }\n",
       "\n",
       "    .dataframe tbody tr th {\n",
       "        vertical-align: top;\n",
       "    }\n",
       "\n",
       "    .dataframe thead th {\n",
       "        text-align: right;\n",
       "    }\n",
       "</style>\n",
       "<table border=\"1\" class=\"dataframe\">\n",
       "  <thead>\n",
       "    <tr style=\"text-align: right;\">\n",
       "      <th></th>\n",
       "      <th>obs</th>\n",
       "      <th>year</th>\n",
       "      <th>month</th>\n",
       "      <th>state</th>\n",
       "      <th>postal_code</th>\n",
       "      <th>nerc_region</th>\n",
       "      <th>climate_region</th>\n",
       "      <th>anomaly_level</th>\n",
       "      <th>climate_cat</th>\n",
       "      <th>start_date</th>\n",
       "      <th>...</th>\n",
       "      <th>pop_pct_urban</th>\n",
       "      <th>pop_pct_uc</th>\n",
       "      <th>popden_urban</th>\n",
       "      <th>popden_uc</th>\n",
       "      <th>popden_rural</th>\n",
       "      <th>area_pct_urban</th>\n",
       "      <th>area_pct_uc</th>\n",
       "      <th>pct_land</th>\n",
       "      <th>pct_water_tot</th>\n",
       "      <th>pct_water_inland</th>\n",
       "    </tr>\n",
       "  </thead>\n",
       "  <tbody>\n",
       "    <tr>\n",
       "      <th>1</th>\n",
       "      <td>1</td>\n",
       "      <td>2011</td>\n",
       "      <td>7</td>\n",
       "      <td>Minnesota</td>\n",
       "      <td>MN</td>\n",
       "      <td>MRO</td>\n",
       "      <td>East North Central</td>\n",
       "      <td>-0.3</td>\n",
       "      <td>normal</td>\n",
       "      <td>Friday, July 1, 2011</td>\n",
       "      <td>...</td>\n",
       "      <td>73.27</td>\n",
       "      <td>15.28</td>\n",
       "      <td>2279</td>\n",
       "      <td>1700.5</td>\n",
       "      <td>18.2</td>\n",
       "      <td>2.14</td>\n",
       "      <td>0.6</td>\n",
       "      <td>91.5926658691451</td>\n",
       "      <td>8.40733413085488</td>\n",
       "      <td>5.47874298334407</td>\n",
       "    </tr>\n",
       "    <tr>\n",
       "      <th>2</th>\n",
       "      <td>2</td>\n",
       "      <td>2014</td>\n",
       "      <td>5</td>\n",
       "      <td>Minnesota</td>\n",
       "      <td>MN</td>\n",
       "      <td>MRO</td>\n",
       "      <td>East North Central</td>\n",
       "      <td>-0.1</td>\n",
       "      <td>normal</td>\n",
       "      <td>Sunday, May 11, 2014</td>\n",
       "      <td>...</td>\n",
       "      <td>73.27</td>\n",
       "      <td>15.28</td>\n",
       "      <td>2279</td>\n",
       "      <td>1700.5</td>\n",
       "      <td>18.2</td>\n",
       "      <td>2.14</td>\n",
       "      <td>0.6</td>\n",
       "      <td>91.5926658691451</td>\n",
       "      <td>8.40733413085488</td>\n",
       "      <td>5.47874298334407</td>\n",
       "    </tr>\n",
       "    <tr>\n",
       "      <th>3</th>\n",
       "      <td>3</td>\n",
       "      <td>2010</td>\n",
       "      <td>10</td>\n",
       "      <td>Minnesota</td>\n",
       "      <td>MN</td>\n",
       "      <td>MRO</td>\n",
       "      <td>East North Central</td>\n",
       "      <td>-1.5</td>\n",
       "      <td>cold</td>\n",
       "      <td>Tuesday, October 26, 2010</td>\n",
       "      <td>...</td>\n",
       "      <td>73.27</td>\n",
       "      <td>15.28</td>\n",
       "      <td>2279</td>\n",
       "      <td>1700.5</td>\n",
       "      <td>18.2</td>\n",
       "      <td>2.14</td>\n",
       "      <td>0.6</td>\n",
       "      <td>91.5926658691451</td>\n",
       "      <td>8.40733413085488</td>\n",
       "      <td>5.47874298334407</td>\n",
       "    </tr>\n",
       "    <tr>\n",
       "      <th>4</th>\n",
       "      <td>4</td>\n",
       "      <td>2012</td>\n",
       "      <td>6</td>\n",
       "      <td>Minnesota</td>\n",
       "      <td>MN</td>\n",
       "      <td>MRO</td>\n",
       "      <td>East North Central</td>\n",
       "      <td>-0.1</td>\n",
       "      <td>normal</td>\n",
       "      <td>Tuesday, June 19, 2012</td>\n",
       "      <td>...</td>\n",
       "      <td>73.27</td>\n",
       "      <td>15.28</td>\n",
       "      <td>2279</td>\n",
       "      <td>1700.5</td>\n",
       "      <td>18.2</td>\n",
       "      <td>2.14</td>\n",
       "      <td>0.6</td>\n",
       "      <td>91.5926658691451</td>\n",
       "      <td>8.40733413085488</td>\n",
       "      <td>5.47874298334407</td>\n",
       "    </tr>\n",
       "    <tr>\n",
       "      <th>5</th>\n",
       "      <td>5</td>\n",
       "      <td>2015</td>\n",
       "      <td>7</td>\n",
       "      <td>Minnesota</td>\n",
       "      <td>MN</td>\n",
       "      <td>MRO</td>\n",
       "      <td>East North Central</td>\n",
       "      <td>1.2</td>\n",
       "      <td>warm</td>\n",
       "      <td>Saturday, July 18, 2015</td>\n",
       "      <td>...</td>\n",
       "      <td>73.27</td>\n",
       "      <td>15.28</td>\n",
       "      <td>2279</td>\n",
       "      <td>1700.5</td>\n",
       "      <td>18.2</td>\n",
       "      <td>2.14</td>\n",
       "      <td>0.6</td>\n",
       "      <td>91.5926658691451</td>\n",
       "      <td>8.40733413085488</td>\n",
       "      <td>5.47874298334407</td>\n",
       "    </tr>\n",
       "    <tr>\n",
       "      <th>...</th>\n",
       "      <td>...</td>\n",
       "      <td>...</td>\n",
       "      <td>...</td>\n",
       "      <td>...</td>\n",
       "      <td>...</td>\n",
       "      <td>...</td>\n",
       "      <td>...</td>\n",
       "      <td>...</td>\n",
       "      <td>...</td>\n",
       "      <td>...</td>\n",
       "      <td>...</td>\n",
       "      <td>...</td>\n",
       "      <td>...</td>\n",
       "      <td>...</td>\n",
       "      <td>...</td>\n",
       "      <td>...</td>\n",
       "      <td>...</td>\n",
       "      <td>...</td>\n",
       "      <td>...</td>\n",
       "      <td>...</td>\n",
       "      <td>...</td>\n",
       "    </tr>\n",
       "    <tr>\n",
       "      <th>1530</th>\n",
       "      <td>1530</td>\n",
       "      <td>2011</td>\n",
       "      <td>12</td>\n",
       "      <td>North Dakota</td>\n",
       "      <td>ND</td>\n",
       "      <td>MRO</td>\n",
       "      <td>West North Central</td>\n",
       "      <td>-0.9</td>\n",
       "      <td>cold</td>\n",
       "      <td>Tuesday, December 6, 2011</td>\n",
       "      <td>...</td>\n",
       "      <td>59.9</td>\n",
       "      <td>19.9</td>\n",
       "      <td>2192.2</td>\n",
       "      <td>1868.2</td>\n",
       "      <td>3.9</td>\n",
       "      <td>0.27</td>\n",
       "      <td>0.1</td>\n",
       "      <td>97.5996492121418</td>\n",
       "      <td>2.40176525502843</td>\n",
       "      <td>2.40176525502843</td>\n",
       "    </tr>\n",
       "    <tr>\n",
       "      <th>1531</th>\n",
       "      <td>1531</td>\n",
       "      <td>2006</td>\n",
       "      <td>NaN</td>\n",
       "      <td>North Dakota</td>\n",
       "      <td>ND</td>\n",
       "      <td>MRO</td>\n",
       "      <td>West North Central</td>\n",
       "      <td>NaN</td>\n",
       "      <td>NaN</td>\n",
       "      <td>NaN</td>\n",
       "      <td>...</td>\n",
       "      <td>59.9</td>\n",
       "      <td>19.9</td>\n",
       "      <td>2192.2</td>\n",
       "      <td>1868.2</td>\n",
       "      <td>3.9</td>\n",
       "      <td>0.27</td>\n",
       "      <td>0.1</td>\n",
       "      <td>97.5996492121418</td>\n",
       "      <td>2.40176525502843</td>\n",
       "      <td>2.40176525502843</td>\n",
       "    </tr>\n",
       "    <tr>\n",
       "      <th>1532</th>\n",
       "      <td>1532</td>\n",
       "      <td>2009</td>\n",
       "      <td>8</td>\n",
       "      <td>South Dakota</td>\n",
       "      <td>SD</td>\n",
       "      <td>RFC</td>\n",
       "      <td>West North Central</td>\n",
       "      <td>0.5</td>\n",
       "      <td>warm</td>\n",
       "      <td>Saturday, August 29, 2009</td>\n",
       "      <td>...</td>\n",
       "      <td>56.65</td>\n",
       "      <td>26.73</td>\n",
       "      <td>2038.3</td>\n",
       "      <td>1905.4</td>\n",
       "      <td>4.7</td>\n",
       "      <td>0.3</td>\n",
       "      <td>0.15</td>\n",
       "      <td>98.3077441776026</td>\n",
       "      <td>1.69225582239743</td>\n",
       "      <td>1.69225582239743</td>\n",
       "    </tr>\n",
       "    <tr>\n",
       "      <th>1533</th>\n",
       "      <td>1533</td>\n",
       "      <td>2009</td>\n",
       "      <td>8</td>\n",
       "      <td>South Dakota</td>\n",
       "      <td>SD</td>\n",
       "      <td>MRO</td>\n",
       "      <td>West North Central</td>\n",
       "      <td>0.5</td>\n",
       "      <td>warm</td>\n",
       "      <td>Saturday, August 29, 2009</td>\n",
       "      <td>...</td>\n",
       "      <td>56.65</td>\n",
       "      <td>26.73</td>\n",
       "      <td>2038.3</td>\n",
       "      <td>1905.4</td>\n",
       "      <td>4.7</td>\n",
       "      <td>0.3</td>\n",
       "      <td>0.15</td>\n",
       "      <td>98.3077441776026</td>\n",
       "      <td>1.69225582239743</td>\n",
       "      <td>1.69225582239743</td>\n",
       "    </tr>\n",
       "    <tr>\n",
       "      <th>1534</th>\n",
       "      <td>1534</td>\n",
       "      <td>2000</td>\n",
       "      <td>NaN</td>\n",
       "      <td>Alaska</td>\n",
       "      <td>AK</td>\n",
       "      <td>ASCC</td>\n",
       "      <td>NaN</td>\n",
       "      <td>NaN</td>\n",
       "      <td>NaN</td>\n",
       "      <td>NaN</td>\n",
       "      <td>...</td>\n",
       "      <td>66.02</td>\n",
       "      <td>21.56</td>\n",
       "      <td>1802.6</td>\n",
       "      <td>1276</td>\n",
       "      <td>0.4</td>\n",
       "      <td>0.05</td>\n",
       "      <td>0.02</td>\n",
       "      <td>85.7611544611833</td>\n",
       "      <td>14.2388455388167</td>\n",
       "      <td>2.90118187392543</td>\n",
       "    </tr>\n",
       "  </tbody>\n",
       "</table>\n",
       "<p>1534 rows × 56 columns</p>\n",
       "</div>"
      ],
      "text/plain": [
       "       obs  year month         state postal_code nerc_region  \\\n",
       "1        1  2011     7     Minnesota          MN         MRO   \n",
       "2        2  2014     5     Minnesota          MN         MRO   \n",
       "3        3  2010    10     Minnesota          MN         MRO   \n",
       "4        4  2012     6     Minnesota          MN         MRO   \n",
       "5        5  2015     7     Minnesota          MN         MRO   \n",
       "...    ...   ...   ...           ...         ...         ...   \n",
       "1530  1530  2011    12  North Dakota          ND         MRO   \n",
       "1531  1531  2006   NaN  North Dakota          ND         MRO   \n",
       "1532  1532  2009     8  South Dakota          SD         RFC   \n",
       "1533  1533  2009     8  South Dakota          SD         MRO   \n",
       "1534  1534  2000   NaN        Alaska          AK        ASCC   \n",
       "\n",
       "          climate_region anomaly_level climate_cat                 start_date  \\\n",
       "1     East North Central          -0.3      normal       Friday, July 1, 2011   \n",
       "2     East North Central          -0.1      normal       Sunday, May 11, 2014   \n",
       "3     East North Central          -1.5        cold  Tuesday, October 26, 2010   \n",
       "4     East North Central          -0.1      normal     Tuesday, June 19, 2012   \n",
       "5     East North Central           1.2        warm    Saturday, July 18, 2015   \n",
       "...                  ...           ...         ...                        ...   \n",
       "1530  West North Central          -0.9        cold  Tuesday, December 6, 2011   \n",
       "1531  West North Central           NaN         NaN                        NaN   \n",
       "1532  West North Central           0.5        warm  Saturday, August 29, 2009   \n",
       "1533  West North Central           0.5        warm  Saturday, August 29, 2009   \n",
       "1534                 NaN           NaN         NaN                        NaN   \n",
       "\n",
       "      ... pop_pct_urban pop_pct_uc popden_urban popden_uc popden_rural  \\\n",
       "1     ...         73.27      15.28         2279    1700.5         18.2   \n",
       "2     ...         73.27      15.28         2279    1700.5         18.2   \n",
       "3     ...         73.27      15.28         2279    1700.5         18.2   \n",
       "4     ...         73.27      15.28         2279    1700.5         18.2   \n",
       "5     ...         73.27      15.28         2279    1700.5         18.2   \n",
       "...   ...           ...        ...          ...       ...          ...   \n",
       "1530  ...          59.9       19.9       2192.2    1868.2          3.9   \n",
       "1531  ...          59.9       19.9       2192.2    1868.2          3.9   \n",
       "1532  ...         56.65      26.73       2038.3    1905.4          4.7   \n",
       "1533  ...         56.65      26.73       2038.3    1905.4          4.7   \n",
       "1534  ...         66.02      21.56       1802.6      1276          0.4   \n",
       "\n",
       "     area_pct_urban area_pct_uc          pct_land     pct_water_tot  \\\n",
       "1              2.14         0.6  91.5926658691451  8.40733413085488   \n",
       "2              2.14         0.6  91.5926658691451  8.40733413085488   \n",
       "3              2.14         0.6  91.5926658691451  8.40733413085488   \n",
       "4              2.14         0.6  91.5926658691451  8.40733413085488   \n",
       "5              2.14         0.6  91.5926658691451  8.40733413085488   \n",
       "...             ...         ...               ...               ...   \n",
       "1530           0.27         0.1  97.5996492121418  2.40176525502843   \n",
       "1531           0.27         0.1  97.5996492121418  2.40176525502843   \n",
       "1532            0.3        0.15  98.3077441776026  1.69225582239743   \n",
       "1533            0.3        0.15  98.3077441776026  1.69225582239743   \n",
       "1534           0.05        0.02  85.7611544611833  14.2388455388167   \n",
       "\n",
       "      pct_water_inland  \n",
       "1     5.47874298334407  \n",
       "2     5.47874298334407  \n",
       "3     5.47874298334407  \n",
       "4     5.47874298334407  \n",
       "5     5.47874298334407  \n",
       "...                ...  \n",
       "1530  2.40176525502843  \n",
       "1531  2.40176525502843  \n",
       "1532  1.69225582239743  \n",
       "1533  1.69225582239743  \n",
       "1534  2.90118187392543  \n",
       "\n",
       "[1534 rows x 56 columns]"
      ]
     },
     "execution_count": 14,
     "metadata": {},
     "output_type": "execute_result"
    }
   ],
   "source": [
    "raw"
   ]
  },
  {
   "cell_type": "code",
   "execution_count": 20,
   "metadata": {},
   "outputs": [
    {
     "data": {
      "text/html": [
       "<div>\n",
       "<style scoped>\n",
       "    .dataframe tbody tr th:only-of-type {\n",
       "        vertical-align: middle;\n",
       "    }\n",
       "\n",
       "    .dataframe tbody tr th {\n",
       "        vertical-align: top;\n",
       "    }\n",
       "\n",
       "    .dataframe thead th {\n",
       "        text-align: right;\n",
       "    }\n",
       "</style>\n",
       "<table border=\"1\" class=\"dataframe\">\n",
       "  <thead>\n",
       "    <tr style=\"text-align: right;\">\n",
       "      <th></th>\n",
       "      <th>state</th>\n",
       "      <th>total_revenue</th>\n",
       "      <th>megawatthours</th>\n",
       "      <th>count</th>\n",
       "      <th>year</th>\n",
       "      <th>year_state</th>\n",
       "    </tr>\n",
       "  </thead>\n",
       "  <tbody>\n",
       "    <tr>\n",
       "      <th>0</th>\n",
       "      <td>AK</td>\n",
       "      <td>5.352460e+08</td>\n",
       "      <td>5309970.0</td>\n",
       "      <td>273530.0</td>\n",
       "      <td>2000</td>\n",
       "      <td>2000AK</td>\n",
       "    </tr>\n",
       "    <tr>\n",
       "      <th>1</th>\n",
       "      <td>AL</td>\n",
       "      <td>4.687257e+09</td>\n",
       "      <td>83524220.0</td>\n",
       "      <td>2262753.0</td>\n",
       "      <td>2000</td>\n",
       "      <td>2000AL</td>\n",
       "    </tr>\n",
       "    <tr>\n",
       "      <th>2</th>\n",
       "      <td>AR</td>\n",
       "      <td>2.399365e+09</td>\n",
       "      <td>41611188.0</td>\n",
       "      <td>1362838.0</td>\n",
       "      <td>2000</td>\n",
       "      <td>2000AR</td>\n",
       "    </tr>\n",
       "    <tr>\n",
       "      <th>3</th>\n",
       "      <td>AZ</td>\n",
       "      <td>4.431208e+09</td>\n",
       "      <td>61130045.0</td>\n",
       "      <td>2193562.0</td>\n",
       "      <td>2000</td>\n",
       "      <td>2000AZ</td>\n",
       "    </tr>\n",
       "    <tr>\n",
       "      <th>4</th>\n",
       "      <td>CA</td>\n",
       "      <td>2.289222e+10</td>\n",
       "      <td>264464209.0</td>\n",
       "      <td>12742304.0</td>\n",
       "      <td>2000</td>\n",
       "      <td>2000CA</td>\n",
       "    </tr>\n",
       "    <tr>\n",
       "      <th>...</th>\n",
       "      <td>...</td>\n",
       "      <td>...</td>\n",
       "      <td>...</td>\n",
       "      <td>...</td>\n",
       "      <td>...</td>\n",
       "      <td>...</td>\n",
       "    </tr>\n",
       "    <tr>\n",
       "      <th>46</th>\n",
       "      <td>VT</td>\n",
       "      <td>7.978707e+08</td>\n",
       "      <td>5516450.0</td>\n",
       "      <td>368070.0</td>\n",
       "      <td>2016</td>\n",
       "      <td>2016VT</td>\n",
       "    </tr>\n",
       "    <tr>\n",
       "      <th>47</th>\n",
       "      <td>WA</td>\n",
       "      <td>6.827187e+09</td>\n",
       "      <td>90970890.0</td>\n",
       "      <td>3382680.0</td>\n",
       "      <td>2016</td>\n",
       "      <td>2016WA</td>\n",
       "    </tr>\n",
       "    <tr>\n",
       "      <th>48</th>\n",
       "      <td>WI</td>\n",
       "      <td>7.443497e+09</td>\n",
       "      <td>69736338.0</td>\n",
       "      <td>3017146.0</td>\n",
       "      <td>2016</td>\n",
       "      <td>2016WI</td>\n",
       "    </tr>\n",
       "    <tr>\n",
       "      <th>49</th>\n",
       "      <td>WV</td>\n",
       "      <td>2.879482e+09</td>\n",
       "      <td>32076146.0</td>\n",
       "      <td>1014790.0</td>\n",
       "      <td>2016</td>\n",
       "      <td>2016WV</td>\n",
       "    </tr>\n",
       "    <tr>\n",
       "      <th>50</th>\n",
       "      <td>WY</td>\n",
       "      <td>1.355124e+09</td>\n",
       "      <td>16554870.0</td>\n",
       "      <td>337735.0</td>\n",
       "      <td>2016</td>\n",
       "      <td>2016WY</td>\n",
       "    </tr>\n",
       "  </tbody>\n",
       "</table>\n",
       "<p>867 rows × 6 columns</p>\n",
       "</div>"
      ],
      "text/plain": [
       "   state  total_revenue  megawatthours       count  year year_state\n",
       "0     AK   5.352460e+08      5309970.0    273530.0  2000     2000AK\n",
       "1     AL   4.687257e+09     83524220.0   2262753.0  2000     2000AL\n",
       "2     AR   2.399365e+09     41611188.0   1362838.0  2000     2000AR\n",
       "3     AZ   4.431208e+09     61130045.0   2193562.0  2000     2000AZ\n",
       "4     CA   2.289222e+10    264464209.0  12742304.0  2000     2000CA\n",
       "..   ...            ...            ...         ...   ...        ...\n",
       "46    VT   7.978707e+08      5516450.0    368070.0  2016     2016VT\n",
       "47    WA   6.827187e+09     90970890.0   3382680.0  2016     2016WA\n",
       "48    WI   7.443497e+09     69736338.0   3017146.0  2016     2016WI\n",
       "49    WV   2.879482e+09     32076146.0   1014790.0  2016     2016WV\n",
       "50    WY   1.355124e+09     16554870.0    337735.0  2016     2016WY\n",
       "\n",
       "[867 rows x 6 columns]"
      ]
     },
     "execution_count": 20,
     "metadata": {},
     "output_type": "execute_result"
    }
   ],
   "source": [
    "external['year_state'] = external['year'].astype(str) + external['state'].astype(str)\n",
    "external"
   ]
  },
  {
   "cell_type": "code",
   "execution_count": 25,
   "metadata": {},
   "outputs": [],
   "source": [
    "state_duration = raw.groupby(['year', 'postal_code'])['duration'].sum().reset_index().rename(columns = {'postal_code': 'state'})\n",
    "state_duration['year_state'] = state_duration['year'].astype(str) + state_duration['state'].astype(str)\n",
    "final_df = external.merge(state_duration, on = 'year_state', how = 'left')[['total_revenue', 'megawatthours', 'count', 'year_state', 'duration']].fillna(0)\n",
    "final_df['year'] = final_df['year_state'].str[:4]\n",
    "final_df['state'] = final_df['year_state'].str[4:]\n",
    "final_df = final_df.drop(columns = 'year_state')\n",
    "final_df.to_csv('raw_external_combined.csv')"
   ]
  },
  {
   "cell_type": "code",
   "execution_count": null,
   "metadata": {},
   "outputs": [],
   "source": []
  }
 ],
 "metadata": {
  "kernelspec": {
   "display_name": "dsc80",
   "language": "python",
   "name": "python3"
  },
  "language_info": {
   "codemirror_mode": {
    "name": "ipython",
    "version": 3
   },
   "file_extension": ".py",
   "mimetype": "text/x-python",
   "name": "python",
   "nbconvert_exporter": "python",
   "pygments_lexer": "ipython3",
   "version": "3.12.9"
  }
 },
 "nbformat": 4,
 "nbformat_minor": 4
}

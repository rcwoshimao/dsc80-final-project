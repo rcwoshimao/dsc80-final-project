{
 "cells": [
  {
   "cell_type": "markdown",
   "metadata": {},
   "source": [
    "# Your Title Here\n",
    "\n",
    "**Name(s)**: (your name(s) here)\n",
    "\n",
    "**Website Link**: (your website link)"
   ]
  },
  {
   "cell_type": "code",
   "execution_count": 10,
   "metadata": {
    "ExecuteTime": {
     "end_time": "2019-10-31T23:36:28.652554Z",
     "start_time": "2019-10-31T23:36:27.180520Z"
    }
   },
   "outputs": [],
   "source": [
    "import pandas as pd\n",
    "import numpy as np\n",
    "from pathlib import Path\n",
    "\n",
    "import plotly.express as px\n",
    "pd.options.plotting.backend = 'plotly'\n",
    "\n",
    "# from dsc80_utils import * # Feel free to uncomment and use this."
   ]
  },
  {
   "cell_type": "markdown",
   "metadata": {},
   "source": [
    "## Step 1: Introduction"
   ]
  },
  {
   "cell_type": "markdown",
   "metadata": {},
   "source": [
    "### Loading data"
   ]
  },
  {
   "cell_type": "code",
   "execution_count": null,
   "metadata": {},
   "outputs": [
    {
     "data": {
      "text/html": [
       "<div>\n",
       "<style scoped>\n",
       "    .dataframe tbody tr th:only-of-type {\n",
       "        vertical-align: middle;\n",
       "    }\n",
       "\n",
       "    .dataframe tbody tr th {\n",
       "        vertical-align: top;\n",
       "    }\n",
       "\n",
       "    .dataframe thead th {\n",
       "        text-align: right;\n",
       "    }\n",
       "</style>\n",
       "<table border=\"1\" class=\"dataframe\">\n",
       "  <thead>\n",
       "    <tr style=\"text-align: right;\">\n",
       "      <th></th>\n",
       "      <th>OBS</th>\n",
       "      <th>YEAR</th>\n",
       "      <th>MONTH</th>\n",
       "      <th>U.S._STATE</th>\n",
       "      <th>POSTAL.CODE</th>\n",
       "      <th>NERC.REGION</th>\n",
       "      <th>CLIMATE.REGION</th>\n",
       "      <th>ANOMALY.LEVEL</th>\n",
       "      <th>CLIMATE.CATEGORY</th>\n",
       "      <th>OUTAGE.START.DATE</th>\n",
       "      <th>...</th>\n",
       "      <th>POPPCT_URBAN</th>\n",
       "      <th>POPPCT_UC</th>\n",
       "      <th>POPDEN_URBAN</th>\n",
       "      <th>POPDEN_UC</th>\n",
       "      <th>POPDEN_RURAL</th>\n",
       "      <th>AREAPCT_URBAN</th>\n",
       "      <th>AREAPCT_UC</th>\n",
       "      <th>PCT_LAND</th>\n",
       "      <th>PCT_WATER_TOT</th>\n",
       "      <th>PCT_WATER_INLAND</th>\n",
       "    </tr>\n",
       "  </thead>\n",
       "  <tbody>\n",
       "    <tr>\n",
       "      <th>1</th>\n",
       "      <td>1</td>\n",
       "      <td>2011</td>\n",
       "      <td>7</td>\n",
       "      <td>Minnesota</td>\n",
       "      <td>MN</td>\n",
       "      <td>MRO</td>\n",
       "      <td>East North Central</td>\n",
       "      <td>-0.3</td>\n",
       "      <td>normal</td>\n",
       "      <td>Friday, July 1, 2011</td>\n",
       "      <td>...</td>\n",
       "      <td>73.27</td>\n",
       "      <td>15.28</td>\n",
       "      <td>2279</td>\n",
       "      <td>1700.5</td>\n",
       "      <td>18.2</td>\n",
       "      <td>2.14</td>\n",
       "      <td>0.6</td>\n",
       "      <td>91.5926658691451</td>\n",
       "      <td>8.40733413085488</td>\n",
       "      <td>5.47874298334407</td>\n",
       "    </tr>\n",
       "    <tr>\n",
       "      <th>2</th>\n",
       "      <td>2</td>\n",
       "      <td>2014</td>\n",
       "      <td>5</td>\n",
       "      <td>Minnesota</td>\n",
       "      <td>MN</td>\n",
       "      <td>MRO</td>\n",
       "      <td>East North Central</td>\n",
       "      <td>-0.1</td>\n",
       "      <td>normal</td>\n",
       "      <td>Sunday, May 11, 2014</td>\n",
       "      <td>...</td>\n",
       "      <td>73.27</td>\n",
       "      <td>15.28</td>\n",
       "      <td>2279</td>\n",
       "      <td>1700.5</td>\n",
       "      <td>18.2</td>\n",
       "      <td>2.14</td>\n",
       "      <td>0.6</td>\n",
       "      <td>91.5926658691451</td>\n",
       "      <td>8.40733413085488</td>\n",
       "      <td>5.47874298334407</td>\n",
       "    </tr>\n",
       "    <tr>\n",
       "      <th>3</th>\n",
       "      <td>3</td>\n",
       "      <td>2010</td>\n",
       "      <td>10</td>\n",
       "      <td>Minnesota</td>\n",
       "      <td>MN</td>\n",
       "      <td>MRO</td>\n",
       "      <td>East North Central</td>\n",
       "      <td>-1.5</td>\n",
       "      <td>cold</td>\n",
       "      <td>Tuesday, October 26, 2010</td>\n",
       "      <td>...</td>\n",
       "      <td>73.27</td>\n",
       "      <td>15.28</td>\n",
       "      <td>2279</td>\n",
       "      <td>1700.5</td>\n",
       "      <td>18.2</td>\n",
       "      <td>2.14</td>\n",
       "      <td>0.6</td>\n",
       "      <td>91.5926658691451</td>\n",
       "      <td>8.40733413085488</td>\n",
       "      <td>5.47874298334407</td>\n",
       "    </tr>\n",
       "    <tr>\n",
       "      <th>4</th>\n",
       "      <td>4</td>\n",
       "      <td>2012</td>\n",
       "      <td>6</td>\n",
       "      <td>Minnesota</td>\n",
       "      <td>MN</td>\n",
       "      <td>MRO</td>\n",
       "      <td>East North Central</td>\n",
       "      <td>-0.1</td>\n",
       "      <td>normal</td>\n",
       "      <td>Tuesday, June 19, 2012</td>\n",
       "      <td>...</td>\n",
       "      <td>73.27</td>\n",
       "      <td>15.28</td>\n",
       "      <td>2279</td>\n",
       "      <td>1700.5</td>\n",
       "      <td>18.2</td>\n",
       "      <td>2.14</td>\n",
       "      <td>0.6</td>\n",
       "      <td>91.5926658691451</td>\n",
       "      <td>8.40733413085488</td>\n",
       "      <td>5.47874298334407</td>\n",
       "    </tr>\n",
       "    <tr>\n",
       "      <th>5</th>\n",
       "      <td>5</td>\n",
       "      <td>2015</td>\n",
       "      <td>7</td>\n",
       "      <td>Minnesota</td>\n",
       "      <td>MN</td>\n",
       "      <td>MRO</td>\n",
       "      <td>East North Central</td>\n",
       "      <td>1.2</td>\n",
       "      <td>warm</td>\n",
       "      <td>Saturday, July 18, 2015</td>\n",
       "      <td>...</td>\n",
       "      <td>73.27</td>\n",
       "      <td>15.28</td>\n",
       "      <td>2279</td>\n",
       "      <td>1700.5</td>\n",
       "      <td>18.2</td>\n",
       "      <td>2.14</td>\n",
       "      <td>0.6</td>\n",
       "      <td>91.5926658691451</td>\n",
       "      <td>8.40733413085488</td>\n",
       "      <td>5.47874298334407</td>\n",
       "    </tr>\n",
       "  </tbody>\n",
       "</table>\n",
       "<p>5 rows × 56 columns</p>\n",
       "</div>"
      ],
      "text/plain": [
       "  OBS  YEAR MONTH U.S._STATE POSTAL.CODE NERC.REGION      CLIMATE.REGION  \\\n",
       "1   1  2011     7  Minnesota          MN         MRO  East North Central   \n",
       "2   2  2014     5  Minnesota          MN         MRO  East North Central   \n",
       "3   3  2010    10  Minnesota          MN         MRO  East North Central   \n",
       "4   4  2012     6  Minnesota          MN         MRO  East North Central   \n",
       "5   5  2015     7  Minnesota          MN         MRO  East North Central   \n",
       "\n",
       "  ANOMALY.LEVEL CLIMATE.CATEGORY          OUTAGE.START.DATE  ... POPPCT_URBAN  \\\n",
       "1          -0.3           normal       Friday, July 1, 2011  ...        73.27   \n",
       "2          -0.1           normal       Sunday, May 11, 2014  ...        73.27   \n",
       "3          -1.5             cold  Tuesday, October 26, 2010  ...        73.27   \n",
       "4          -0.1           normal     Tuesday, June 19, 2012  ...        73.27   \n",
       "5           1.2             warm    Saturday, July 18, 2015  ...        73.27   \n",
       "\n",
       "  POPPCT_UC POPDEN_URBAN POPDEN_UC POPDEN_RURAL AREAPCT_URBAN AREAPCT_UC  \\\n",
       "1     15.28         2279    1700.5         18.2          2.14        0.6   \n",
       "2     15.28         2279    1700.5         18.2          2.14        0.6   \n",
       "3     15.28         2279    1700.5         18.2          2.14        0.6   \n",
       "4     15.28         2279    1700.5         18.2          2.14        0.6   \n",
       "5     15.28         2279    1700.5         18.2          2.14        0.6   \n",
       "\n",
       "           PCT_LAND     PCT_WATER_TOT  PCT_WATER_INLAND  \n",
       "1  91.5926658691451  8.40733413085488  5.47874298334407  \n",
       "2  91.5926658691451  8.40733413085488  5.47874298334407  \n",
       "3  91.5926658691451  8.40733413085488  5.47874298334407  \n",
       "4  91.5926658691451  8.40733413085488  5.47874298334407  \n",
       "5  91.5926658691451  8.40733413085488  5.47874298334407  \n",
       "\n",
       "[5 rows x 56 columns]"
      ]
     },
     "execution_count": 37,
     "metadata": {},
     "output_type": "execute_result"
    }
   ],
   "source": [
    "# Drop first 5 rows of metadata \n",
    "raw = pd.read_csv('outage.csv', header=None).iloc[5:]\n",
    "\n",
    "# Extract and clean column names from the first actual row (index 5 in the original file)\n",
    "cols = raw.iloc[0, 1:].tolist()\n",
    "# Drop the first column (contains \"variables\") and the header row itself\n",
    "outages = raw.iloc[1:, 1:].copy()\n",
    "\n",
    "# Assign cleaned column names\n",
    "outages.columns = cols\n",
    "\n",
    "# Reset index so we are working with the correct row numbers. \n",
    "outages.reset_index(drop=True, inplace=True)\n",
    "\n",
    "# Finally, drop variable column \n",
    "outages = outages.iloc[1:, :]\n",
    "outages.head(5)\n"
   ]
  },
  {
   "cell_type": "markdown",
   "metadata": {},
   "source": [
    "### Renaming columns"
   ]
  },
  {
   "cell_type": "code",
   "execution_count": 43,
   "metadata": {},
   "outputs": [
    {
     "data": {
      "text/html": [
       "<div>\n",
       "<style scoped>\n",
       "    .dataframe tbody tr th:only-of-type {\n",
       "        vertical-align: middle;\n",
       "    }\n",
       "\n",
       "    .dataframe tbody tr th {\n",
       "        vertical-align: top;\n",
       "    }\n",
       "\n",
       "    .dataframe thead th {\n",
       "        text-align: right;\n",
       "    }\n",
       "</style>\n",
       "<table border=\"1\" class=\"dataframe\">\n",
       "  <thead>\n",
       "    <tr style=\"text-align: right;\">\n",
       "      <th></th>\n",
       "      <th>obs</th>\n",
       "      <th>year</th>\n",
       "      <th>month</th>\n",
       "      <th>state</th>\n",
       "      <th>postal_code</th>\n",
       "      <th>nerc_region</th>\n",
       "      <th>climate_region</th>\n",
       "      <th>anomaly_level</th>\n",
       "      <th>climate_cat</th>\n",
       "      <th>start_date</th>\n",
       "      <th>...</th>\n",
       "      <th>pop_pct_urban</th>\n",
       "      <th>pop_pct_uc</th>\n",
       "      <th>popden_urban</th>\n",
       "      <th>popden_uc</th>\n",
       "      <th>popden_rural</th>\n",
       "      <th>area_pct_urban</th>\n",
       "      <th>area_pct_uc</th>\n",
       "      <th>pct_land</th>\n",
       "      <th>pct_water_tot</th>\n",
       "      <th>pct_water_inland</th>\n",
       "    </tr>\n",
       "  </thead>\n",
       "  <tbody>\n",
       "    <tr>\n",
       "      <th>1</th>\n",
       "      <td>1</td>\n",
       "      <td>2011</td>\n",
       "      <td>7</td>\n",
       "      <td>Minnesota</td>\n",
       "      <td>MN</td>\n",
       "      <td>MRO</td>\n",
       "      <td>East North Central</td>\n",
       "      <td>-0.3</td>\n",
       "      <td>normal</td>\n",
       "      <td>Friday, July 1, 2011</td>\n",
       "      <td>...</td>\n",
       "      <td>73.27</td>\n",
       "      <td>15.28</td>\n",
       "      <td>2279</td>\n",
       "      <td>1700.5</td>\n",
       "      <td>18.2</td>\n",
       "      <td>2.14</td>\n",
       "      <td>0.6</td>\n",
       "      <td>91.5926658691451</td>\n",
       "      <td>8.40733413085488</td>\n",
       "      <td>5.47874298334407</td>\n",
       "    </tr>\n",
       "    <tr>\n",
       "      <th>2</th>\n",
       "      <td>2</td>\n",
       "      <td>2014</td>\n",
       "      <td>5</td>\n",
       "      <td>Minnesota</td>\n",
       "      <td>MN</td>\n",
       "      <td>MRO</td>\n",
       "      <td>East North Central</td>\n",
       "      <td>-0.1</td>\n",
       "      <td>normal</td>\n",
       "      <td>Sunday, May 11, 2014</td>\n",
       "      <td>...</td>\n",
       "      <td>73.27</td>\n",
       "      <td>15.28</td>\n",
       "      <td>2279</td>\n",
       "      <td>1700.5</td>\n",
       "      <td>18.2</td>\n",
       "      <td>2.14</td>\n",
       "      <td>0.6</td>\n",
       "      <td>91.5926658691451</td>\n",
       "      <td>8.40733413085488</td>\n",
       "      <td>5.47874298334407</td>\n",
       "    </tr>\n",
       "  </tbody>\n",
       "</table>\n",
       "<p>2 rows × 56 columns</p>\n",
       "</div>"
      ],
      "text/plain": [
       "  obs  year month      state postal_code nerc_region      climate_region  \\\n",
       "1   1  2011     7  Minnesota          MN         MRO  East North Central   \n",
       "2   2  2014     5  Minnesota          MN         MRO  East North Central   \n",
       "\n",
       "  anomaly_level climate_cat            start_date  ... pop_pct_urban  \\\n",
       "1          -0.3      normal  Friday, July 1, 2011  ...         73.27   \n",
       "2          -0.1      normal  Sunday, May 11, 2014  ...         73.27   \n",
       "\n",
       "  pop_pct_uc popden_urban popden_uc popden_rural area_pct_urban area_pct_uc  \\\n",
       "1      15.28         2279    1700.5         18.2           2.14         0.6   \n",
       "2      15.28         2279    1700.5         18.2           2.14         0.6   \n",
       "\n",
       "           pct_land     pct_water_tot  pct_water_inland  \n",
       "1  91.5926658691451  8.40733413085488  5.47874298334407  \n",
       "2  91.5926658691451  8.40733413085488  5.47874298334407  \n",
       "\n",
       "[2 rows x 56 columns]"
      ]
     },
     "execution_count": 43,
     "metadata": {},
     "output_type": "execute_result"
    }
   ],
   "source": [
    "new_cols = [\n",
    "    'obs', 'year', 'month', 'state', 'postal_code', 'nerc_region',\n",
    "    'climate_region', 'anomaly_level', 'climate_cat',\n",
    "    'start_date', 'start_time', 'restore_date',\n",
    "    'restore_time', 'cause_cat', 'cause_detail',\n",
    "    'hurricane_names', 'duration', 'demand_loss_mw',\n",
    "    'customers_affected', 'res_price', 'com_price', 'ind_price',\n",
    "    'total_price', 'res_sales', 'com_sales', 'ind_sales', 'total_sales',\n",
    "    'res_pct', 'com_pct', 'ind_pct', 'res_customers',\n",
    "    'com_customers', 'ind_customers', 'total_customers', 'res_cust_pct',\n",
    "    'com_cust_pct', 'ind_cust_pct', 'pc_realgsp_state', 'pc_realgsp_usa',\n",
    "    'pc_realgsp_rel', 'pc_realgsp_change', 'util_realgsp', 'total_realgsp',\n",
    "    'util_contri', 'pi_util_of_usa', 'population', 'pop_pct_urban',\n",
    "    'pop_pct_uc', 'popden_urban', 'popden_uc', 'popden_rural',\n",
    "    'area_pct_urban', 'area_pct_uc', 'pct_land', 'pct_water_tot',\n",
    "    'pct_water_inland'\n",
    "]\n",
    "\n",
    "outages.columns = new_cols\n",
    "outages.head(2)\n"
   ]
  },
  {
   "cell_type": "markdown",
   "metadata": {},
   "source": [
    "## Brainstorming problem statments\n",
    "(⚠️ means still need more data, ✅ means workable with existing data )\n",
    "\n",
    "**Currently, we are considering three problem statement to explore:**\n",
    "\n",
    "1. ⚠️ Assessment of Infrastructure Resilience (Based on whether or not `cause_detail` has enough information.)\n",
    "Analyze how different regions' infrastructure characteristics (e.g., overhead vs. underground lines, maintenance investments) correlate with outage frequency and duration. This can inform infrastructure improvement strategies.\n",
    "2. ✅ Temporal Trends and Climate Change Correlation (doable with existing data, but kinda boring) \n",
    "Examine how the frequency and causes of outages have evolved over time and assess potential correlations with climate change indicators. This can provide insights into how changing climate patterns impact power reliability.\n",
    "3. ⚠️ Policy and Emergency Response Evaluation (We don’t have explicit timestamps or markers indicating policy changes or emergency response dates.)\n",
    "Evaluate the effectiveness of policies and emergency responses by analyzing outage data before and after the implementation of specific measures. This can guide future policy development and emergency planning.\n",
    "\n",
    "**Ideas that are just \"ok\":**\n",
    "\n",
    "⭕️ 1. Predictive Modeling of Outage Risks <u> ***(but it’s kinda boring, i bet people have done it already; not creative)*** </u>\n",
    "\n",
    "Utilize machine learning techniques to predict the likelihood of major power outages based on factors such as weather patterns, infrastructure characteristics, and economic indicators. This can aid in proactive maintenance and resource allocation.\n",
    "\n",
    "⭕️ 2. Socioeconomic Impact Analysis <u> ***(has been done numerous times already !!!!!!! Check out examples, two of them already exist. I know you like it, Im sry!)*** </u>\n",
    "\n",
    "Investigate the relationship between socioeconomic factors (e.g., income levels, urbanization) and the frequency or duration of power outages. This can highlight areas where outages disproportionately affect vulnerable populations.\n",
    "\n"
   ]
  },
  {
   "cell_type": "markdown",
   "metadata": {},
   "source": [
    "### Exploring idea 1\n",
    "Check out whether `cause_detail` gives us any good information about the infrustructure. "
   ]
  },
  {
   "cell_type": "code",
   "execution_count": 46,
   "metadata": {},
   "outputs": [
    {
     "data": {
      "text/plain": [
       "array([nan, 'vandalism', 'heavy wind', 'thunderstorm', 'winter storm',\n",
       "       'tornadoes', 'sabotage', 'hailstorm', 'uncontrolled loss',\n",
       "       'winter', 'wind storm', 'computer hardware', 'public appeal',\n",
       "       'storm', ' Coal', ' Natural Gas', 'hurricanes', 'wind/rain',\n",
       "       'snow/ice storm', 'snow/ice ', 'transmission interruption',\n",
       "       'flooding', 'transformer outage', 'generator trip',\n",
       "       'relaying malfunction', 'transmission trip', 'lightning',\n",
       "       'switching', 'shed load', 'line fault', 'breaker trip', 'wildfire',\n",
       "       ' Hydro', 'majorsystem interruption', 'voltage reduction',\n",
       "       'transmission', 'Coal', 'substation', 'heatwave',\n",
       "       'distribution interruption', 'wind', 'suspicious activity',\n",
       "       'feeder shutdown', '100 MW loadshed', 'plant trip', 'fog', 'Hydro',\n",
       "       'earthquake', 'HVSubstation interruption', 'cables', 'Petroleum',\n",
       "       'thunderstorm; islanding', 'failure'], dtype=object)"
      ]
     },
     "execution_count": 46,
     "metadata": {},
     "output_type": "execute_result"
    }
   ],
   "source": [
    "outages['cause_detail'].unique()"
   ]
  },
  {
   "cell_type": "markdown",
   "metadata": {},
   "source": [
    "- `cause_detail` does contain some infrastructure-related failure types, like:\n",
    "**transformer outage, generator trip, relaying malfunction, breaker trip, line fault, substation, transmission interruption, distribution interruption, cables, HVSubstation interruption, plant trip**, etc.\n",
    "- They will allow us to indirectly infer infrastructure issues, but there are no explicit infrastructure metadata: We don’t have direct info on overhead vs underground lines, age of equipment, maintenance budgets, or investments.\n",
    "\n",
    "- External datasets to consider: \n",
    "    - **[EIA Reports on Utility Investments](https://www.eia.gov/todayinenergy/detail.php?id=48136) (I FW THIS ONE HEAVY)** \n",
    "            - Provides financial and operational data related to maintenance and upgrades.\n",
    "            - Can help explain or correlate investment levels with outage frequency/duration.\n",
    "            - Good source for explaining patterns seen in outage data.\n",
    "    - [Mapping the Depths: Underground Power Distribution (arXiv study, paper only)](https://arxiv.org/abs/2402.06668)\n",
    "        - Unique dataset that quantifies underground vs overhead lines by utility.\n",
    "        - Can provide a strong predictor variable about infrastructure type (underground = more resilient).\n",
    "    "
   ]
  },
  {
   "cell_type": "markdown",
   "metadata": {},
   "source": []
  },
  {
   "cell_type": "markdown",
   "metadata": {},
   "source": [
    "## Step 2: Data Cleaning and Exploratory Data Analysis"
   ]
  },
  {
   "cell_type": "code",
   "execution_count": 3,
   "metadata": {
    "ExecuteTime": {
     "end_time": "2019-10-31T23:36:28.657068Z",
     "start_time": "2019-10-31T23:36:28.654650Z"
    }
   },
   "outputs": [],
   "source": [
    "# TODO"
   ]
  },
  {
   "cell_type": "markdown",
   "metadata": {},
   "source": [
    "## Step 3: Assessment of Missingness"
   ]
  },
  {
   "cell_type": "code",
   "execution_count": 4,
   "metadata": {
    "ExecuteTime": {
     "end_time": "2019-10-31T23:36:28.662099Z",
     "start_time": "2019-10-31T23:36:28.660016Z"
    }
   },
   "outputs": [],
   "source": [
    "# TODO"
   ]
  },
  {
   "cell_type": "markdown",
   "metadata": {},
   "source": [
    "## Step 4: Hypothesis Testing"
   ]
  },
  {
   "cell_type": "code",
   "execution_count": null,
   "metadata": {
    "ExecuteTime": {
     "end_time": "2019-10-31T23:36:28.666489Z",
     "start_time": "2019-10-31T23:36:28.664381Z"
    }
   },
   "outputs": [],
   "source": [
    "# TODO"
   ]
  },
  {
   "cell_type": "markdown",
   "metadata": {},
   "source": [
    "## Step 5: Framing a Prediction Problem"
   ]
  },
  {
   "cell_type": "code",
   "execution_count": null,
   "metadata": {
    "ExecuteTime": {
     "end_time": "2019-10-31T23:36:28.657068Z",
     "start_time": "2019-10-31T23:36:28.654650Z"
    }
   },
   "outputs": [],
   "source": [
    "# TODO"
   ]
  },
  {
   "cell_type": "markdown",
   "metadata": {},
   "source": [
    "## Step 6: Baseline Model"
   ]
  },
  {
   "cell_type": "code",
   "execution_count": null,
   "metadata": {
    "ExecuteTime": {
     "end_time": "2019-10-31T23:36:28.662099Z",
     "start_time": "2019-10-31T23:36:28.660016Z"
    }
   },
   "outputs": [],
   "source": [
    "# TODO"
   ]
  },
  {
   "cell_type": "markdown",
   "metadata": {},
   "source": [
    "## Step 7: Final Model"
   ]
  },
  {
   "cell_type": "code",
   "execution_count": null,
   "metadata": {
    "ExecuteTime": {
     "end_time": "2019-10-31T23:36:28.662099Z",
     "start_time": "2019-10-31T23:36:28.660016Z"
    }
   },
   "outputs": [],
   "source": [
    "# TODO"
   ]
  },
  {
   "cell_type": "markdown",
   "metadata": {},
   "source": [
    "## Step 8: Fairness Analysis"
   ]
  },
  {
   "cell_type": "code",
   "execution_count": null,
   "metadata": {
    "ExecuteTime": {
     "end_time": "2019-10-31T23:36:28.666489Z",
     "start_time": "2019-10-31T23:36:28.664381Z"
    }
   },
   "outputs": [],
   "source": [
    "# TODO"
   ]
  }
 ],
 "metadata": {
  "kernelspec": {
   "display_name": "dsc80",
   "language": "python",
   "name": "python3"
  },
  "language_info": {
   "codemirror_mode": {
    "name": "ipython",
    "version": 3
   },
   "file_extension": ".py",
   "mimetype": "text/x-python",
   "name": "python",
   "nbconvert_exporter": "python",
   "pygments_lexer": "ipython3",
   "version": "3.12.10"
  }
 },
 "nbformat": 4,
 "nbformat_minor": 4
}

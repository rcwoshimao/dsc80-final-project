{
 "cells": [
  {
   "cell_type": "markdown",
   "metadata": {},
   "source": [
    "# Hypothesis testing\n",
    "**Name(s)**: Jiaying Chen, Minh Hoang\n",
    "\n",
    "**Website Link**: (your website link)\n"
   ]
  },
  {
   "cell_type": "markdown",
   "metadata": {},
   "source": [
    "**Note**: Run this command to install wordcloud:\n",
    "`!pip install wordcloud`"
   ]
  },
  {
   "cell_type": "code",
   "execution_count": 1,
   "metadata": {},
   "outputs": [
    {
     "name": "stdout",
     "output_type": "stream",
     "text": [
      "Requirement already satisfied: wordcloud in /Users/rebeccachen/.local/share/mamba/envs/dsc80/lib/python3.12/site-packages (1.9.4)\n",
      "Requirement already satisfied: numpy>=1.6.1 in /Users/rebeccachen/.local/share/mamba/envs/dsc80/lib/python3.12/site-packages (from wordcloud) (2.1.1)\n",
      "Requirement already satisfied: pillow in /Users/rebeccachen/.local/share/mamba/envs/dsc80/lib/python3.12/site-packages (from wordcloud) (11.1.0)\n",
      "Requirement already satisfied: matplotlib in /Users/rebeccachen/.local/share/mamba/envs/dsc80/lib/python3.12/site-packages (from wordcloud) (3.9.2)\n",
      "Requirement already satisfied: contourpy>=1.0.1 in /Users/rebeccachen/.local/share/mamba/envs/dsc80/lib/python3.12/site-packages (from matplotlib->wordcloud) (1.3.2)\n",
      "Requirement already satisfied: cycler>=0.10 in /Users/rebeccachen/.local/share/mamba/envs/dsc80/lib/python3.12/site-packages (from matplotlib->wordcloud) (0.12.1)\n",
      "Requirement already satisfied: fonttools>=4.22.0 in /Users/rebeccachen/.local/share/mamba/envs/dsc80/lib/python3.12/site-packages (from matplotlib->wordcloud) (4.57.0)\n",
      "Requirement already satisfied: kiwisolver>=1.3.1 in /Users/rebeccachen/.local/share/mamba/envs/dsc80/lib/python3.12/site-packages (from matplotlib->wordcloud) (1.4.8)\n",
      "Requirement already satisfied: packaging>=20.0 in /Users/rebeccachen/.local/share/mamba/envs/dsc80/lib/python3.12/site-packages (from matplotlib->wordcloud) (24.2)\n",
      "Requirement already satisfied: pyparsing>=2.3.1 in /Users/rebeccachen/.local/share/mamba/envs/dsc80/lib/python3.12/site-packages (from matplotlib->wordcloud) (3.2.3)\n",
      "Requirement already satisfied: python-dateutil>=2.7 in /Users/rebeccachen/.local/share/mamba/envs/dsc80/lib/python3.12/site-packages (from matplotlib->wordcloud) (2.9.0.post0)\n",
      "Requirement already satisfied: six>=1.5 in /Users/rebeccachen/.local/share/mamba/envs/dsc80/lib/python3.12/site-packages (from python-dateutil>=2.7->matplotlib->wordcloud) (1.17.0)\n"
     ]
    }
   ],
   "source": [
    "!pip install wordcloud"
   ]
  },
  {
   "cell_type": "code",
   "execution_count": 1,
   "metadata": {
    "ExecuteTime": {
     "end_time": "2019-10-31T23:36:28.652554Z",
     "start_time": "2019-10-31T23:36:27.180520Z"
    }
   },
   "outputs": [],
   "source": [
    "import pandas as pd\n",
    "import numpy as np\n",
    "import matplotlib.pyplot as plt\n",
    "import seaborn as sns\n",
    "from pathlib import Path\n",
    "from wordcloud import WordCloud\n",
    "\n",
    "\n",
    "import plotly.express as px\n",
    "pd.options.plotting.backend = 'plotly'\n",
    "\n",
    "# from dsc80_utils import * # Feel free to uncomment and use this."
   ]
  },
  {
   "cell_type": "markdown",
   "metadata": {},
   "source": [
    "# Step 1: Introduction"
   ]
  },
  {
   "cell_type": "markdown",
   "metadata": {},
   "source": [
    "### Loading data"
   ]
  },
  {
   "cell_type": "code",
   "execution_count": 2,
   "metadata": {},
   "outputs": [
    {
     "data": {
      "text/html": [
       "<div>\n",
       "<style scoped>\n",
       "    .dataframe tbody tr th:only-of-type {\n",
       "        vertical-align: middle;\n",
       "    }\n",
       "\n",
       "    .dataframe tbody tr th {\n",
       "        vertical-align: top;\n",
       "    }\n",
       "\n",
       "    .dataframe thead th {\n",
       "        text-align: right;\n",
       "    }\n",
       "</style>\n",
       "<table border=\"1\" class=\"dataframe\">\n",
       "  <thead>\n",
       "    <tr style=\"text-align: right;\">\n",
       "      <th></th>\n",
       "      <th>OBS</th>\n",
       "      <th>YEAR</th>\n",
       "      <th>MONTH</th>\n",
       "      <th>U.S._STATE</th>\n",
       "      <th>POSTAL.CODE</th>\n",
       "      <th>NERC.REGION</th>\n",
       "      <th>CLIMATE.REGION</th>\n",
       "      <th>ANOMALY.LEVEL</th>\n",
       "      <th>CLIMATE.CATEGORY</th>\n",
       "      <th>OUTAGE.START.DATE</th>\n",
       "      <th>...</th>\n",
       "      <th>POPPCT_URBAN</th>\n",
       "      <th>POPPCT_UC</th>\n",
       "      <th>POPDEN_URBAN</th>\n",
       "      <th>POPDEN_UC</th>\n",
       "      <th>POPDEN_RURAL</th>\n",
       "      <th>AREAPCT_URBAN</th>\n",
       "      <th>AREAPCT_UC</th>\n",
       "      <th>PCT_LAND</th>\n",
       "      <th>PCT_WATER_TOT</th>\n",
       "      <th>PCT_WATER_INLAND</th>\n",
       "    </tr>\n",
       "  </thead>\n",
       "  <tbody>\n",
       "    <tr>\n",
       "      <th>1</th>\n",
       "      <td>1</td>\n",
       "      <td>2011</td>\n",
       "      <td>7</td>\n",
       "      <td>Minnesota</td>\n",
       "      <td>MN</td>\n",
       "      <td>MRO</td>\n",
       "      <td>East North Central</td>\n",
       "      <td>-0.3</td>\n",
       "      <td>normal</td>\n",
       "      <td>Friday, July 1, 2011</td>\n",
       "      <td>...</td>\n",
       "      <td>73.27</td>\n",
       "      <td>15.28</td>\n",
       "      <td>2279</td>\n",
       "      <td>1700.5</td>\n",
       "      <td>18.2</td>\n",
       "      <td>2.14</td>\n",
       "      <td>0.6</td>\n",
       "      <td>91.5926658691451</td>\n",
       "      <td>8.40733413085488</td>\n",
       "      <td>5.47874298334407</td>\n",
       "    </tr>\n",
       "    <tr>\n",
       "      <th>2</th>\n",
       "      <td>2</td>\n",
       "      <td>2014</td>\n",
       "      <td>5</td>\n",
       "      <td>Minnesota</td>\n",
       "      <td>MN</td>\n",
       "      <td>MRO</td>\n",
       "      <td>East North Central</td>\n",
       "      <td>-0.1</td>\n",
       "      <td>normal</td>\n",
       "      <td>Sunday, May 11, 2014</td>\n",
       "      <td>...</td>\n",
       "      <td>73.27</td>\n",
       "      <td>15.28</td>\n",
       "      <td>2279</td>\n",
       "      <td>1700.5</td>\n",
       "      <td>18.2</td>\n",
       "      <td>2.14</td>\n",
       "      <td>0.6</td>\n",
       "      <td>91.5926658691451</td>\n",
       "      <td>8.40733413085488</td>\n",
       "      <td>5.47874298334407</td>\n",
       "    </tr>\n",
       "  </tbody>\n",
       "</table>\n",
       "<p>2 rows × 56 columns</p>\n",
       "</div>"
      ],
      "text/plain": [
       "  OBS  YEAR MONTH U.S._STATE POSTAL.CODE NERC.REGION      CLIMATE.REGION  \\\n",
       "1   1  2011     7  Minnesota          MN         MRO  East North Central   \n",
       "2   2  2014     5  Minnesota          MN         MRO  East North Central   \n",
       "\n",
       "  ANOMALY.LEVEL CLIMATE.CATEGORY     OUTAGE.START.DATE  ... POPPCT_URBAN  \\\n",
       "1          -0.3           normal  Friday, July 1, 2011  ...        73.27   \n",
       "2          -0.1           normal  Sunday, May 11, 2014  ...        73.27   \n",
       "\n",
       "  POPPCT_UC POPDEN_URBAN POPDEN_UC POPDEN_RURAL AREAPCT_URBAN AREAPCT_UC  \\\n",
       "1     15.28         2279    1700.5         18.2          2.14        0.6   \n",
       "2     15.28         2279    1700.5         18.2          2.14        0.6   \n",
       "\n",
       "           PCT_LAND     PCT_WATER_TOT  PCT_WATER_INLAND  \n",
       "1  91.5926658691451  8.40733413085488  5.47874298334407  \n",
       "2  91.5926658691451  8.40733413085488  5.47874298334407  \n",
       "\n",
       "[2 rows x 56 columns]"
      ]
     },
     "execution_count": 2,
     "metadata": {},
     "output_type": "execute_result"
    }
   ],
   "source": [
    "# Drop first 5 rows of metadata\n",
    "raw = pd.read_csv('outage.csv', header=None).iloc[5:]\n",
    "\n",
    "# Extract and clean column names from the first actual row (index 5 in the original file)\n",
    "cols = raw.iloc[0, 1:].tolist()\n",
    "# Drop the first column (contains \"variables\") and the header row itself\n",
    "raw = raw.iloc[1:, 1:].copy()\n",
    "\n",
    "# Assign cleaned column names\n",
    "raw.columns = cols\n",
    "\n",
    "# Reset index so we are working with the correct row numbers.\n",
    "raw.reset_index(drop=True, inplace=True)\n",
    "\n",
    "# Finally, drop variable column \n",
    "raw = raw.iloc[1:, :]\n",
    "raw.head(2)"
   ]
  },
  {
   "cell_type": "markdown",
   "metadata": {},
   "source": [
    "### Renaming columns"
   ]
  },
  {
   "cell_type": "code",
   "execution_count": 3,
   "metadata": {},
   "outputs": [
    {
     "data": {
      "text/html": [
       "<div>\n",
       "<style scoped>\n",
       "    .dataframe tbody tr th:only-of-type {\n",
       "        vertical-align: middle;\n",
       "    }\n",
       "\n",
       "    .dataframe tbody tr th {\n",
       "        vertical-align: top;\n",
       "    }\n",
       "\n",
       "    .dataframe thead th {\n",
       "        text-align: right;\n",
       "    }\n",
       "</style>\n",
       "<table border=\"1\" class=\"dataframe\">\n",
       "  <thead>\n",
       "    <tr style=\"text-align: right;\">\n",
       "      <th></th>\n",
       "      <th>obs</th>\n",
       "      <th>year</th>\n",
       "      <th>month</th>\n",
       "      <th>state</th>\n",
       "      <th>postal_code</th>\n",
       "      <th>nerc_region</th>\n",
       "      <th>climate_region</th>\n",
       "      <th>anomaly_level</th>\n",
       "      <th>climate_cat</th>\n",
       "      <th>start_date</th>\n",
       "      <th>...</th>\n",
       "      <th>pop_pct_urban</th>\n",
       "      <th>pop_pct_uc</th>\n",
       "      <th>popden_urban</th>\n",
       "      <th>popden_uc</th>\n",
       "      <th>popden_rural</th>\n",
       "      <th>area_pct_urban</th>\n",
       "      <th>area_pct_uc</th>\n",
       "      <th>pct_land</th>\n",
       "      <th>pct_water_tot</th>\n",
       "      <th>pct_water_inland</th>\n",
       "    </tr>\n",
       "  </thead>\n",
       "  <tbody>\n",
       "    <tr>\n",
       "      <th>1</th>\n",
       "      <td>1</td>\n",
       "      <td>2011</td>\n",
       "      <td>7</td>\n",
       "      <td>Minnesota</td>\n",
       "      <td>MN</td>\n",
       "      <td>MRO</td>\n",
       "      <td>East North Central</td>\n",
       "      <td>-0.3</td>\n",
       "      <td>normal</td>\n",
       "      <td>Friday, July 1, 2011</td>\n",
       "      <td>...</td>\n",
       "      <td>73.27</td>\n",
       "      <td>15.28</td>\n",
       "      <td>2279</td>\n",
       "      <td>1700.5</td>\n",
       "      <td>18.2</td>\n",
       "      <td>2.14</td>\n",
       "      <td>0.6</td>\n",
       "      <td>91.5926658691451</td>\n",
       "      <td>8.40733413085488</td>\n",
       "      <td>5.47874298334407</td>\n",
       "    </tr>\n",
       "    <tr>\n",
       "      <th>2</th>\n",
       "      <td>2</td>\n",
       "      <td>2014</td>\n",
       "      <td>5</td>\n",
       "      <td>Minnesota</td>\n",
       "      <td>MN</td>\n",
       "      <td>MRO</td>\n",
       "      <td>East North Central</td>\n",
       "      <td>-0.1</td>\n",
       "      <td>normal</td>\n",
       "      <td>Sunday, May 11, 2014</td>\n",
       "      <td>...</td>\n",
       "      <td>73.27</td>\n",
       "      <td>15.28</td>\n",
       "      <td>2279</td>\n",
       "      <td>1700.5</td>\n",
       "      <td>18.2</td>\n",
       "      <td>2.14</td>\n",
       "      <td>0.6</td>\n",
       "      <td>91.5926658691451</td>\n",
       "      <td>8.40733413085488</td>\n",
       "      <td>5.47874298334407</td>\n",
       "    </tr>\n",
       "  </tbody>\n",
       "</table>\n",
       "<p>2 rows × 56 columns</p>\n",
       "</div>"
      ],
      "text/plain": [
       "  obs  year month      state postal_code nerc_region      climate_region  \\\n",
       "1   1  2011     7  Minnesota          MN         MRO  East North Central   \n",
       "2   2  2014     5  Minnesota          MN         MRO  East North Central   \n",
       "\n",
       "  anomaly_level climate_cat            start_date  ... pop_pct_urban  \\\n",
       "1          -0.3      normal  Friday, July 1, 2011  ...         73.27   \n",
       "2          -0.1      normal  Sunday, May 11, 2014  ...         73.27   \n",
       "\n",
       "  pop_pct_uc popden_urban popden_uc popden_rural area_pct_urban area_pct_uc  \\\n",
       "1      15.28         2279    1700.5         18.2           2.14         0.6   \n",
       "2      15.28         2279    1700.5         18.2           2.14         0.6   \n",
       "\n",
       "           pct_land     pct_water_tot  pct_water_inland  \n",
       "1  91.5926658691451  8.40733413085488  5.47874298334407  \n",
       "2  91.5926658691451  8.40733413085488  5.47874298334407  \n",
       "\n",
       "[2 rows x 56 columns]"
      ]
     },
     "execution_count": 3,
     "metadata": {},
     "output_type": "execute_result"
    }
   ],
   "source": [
    "new_cols = [\n",
    "    'obs', 'year', 'month', 'state', 'postal_code', 'nerc_region',\n",
    "    'climate_region', 'anomaly_level', 'climate_cat',\n",
    "    'start_date', 'start_time', 'restore_date',\n",
    "    'restore_time', 'cause_cat', 'cause_detail',\n",
    "    'hurricane_names', 'duration', 'demand_loss_mw',\n",
    "    'customers_affected', 'res_price', 'com_price', 'ind_price',\n",
    "    'total_price', 'res_sales', 'com_sales', 'ind_sales', 'total_sales',\n",
    "    'res_pct', 'com_pct', 'ind_pct', 'res_customers',\n",
    "    'com_customers', 'ind_customers', 'total_customers', 'res_cust_pct',\n",
    "    'com_cust_pct', 'ind_cust_pct', 'pc_realgsp_state', 'pc_realgsp_usa',\n",
    "    'pc_realgsp_rel', 'pc_realgsp_change', 'util_realgsp', 'total_realgsp',\n",
    "    'util_contri', 'pi_util_of_usa', 'population', 'pop_pct_urban',\n",
    "    'pop_pct_uc', 'popden_urban', 'popden_uc', 'popden_rural',\n",
    "    'area_pct_urban', 'area_pct_uc', 'pct_land', 'pct_water_tot',\n",
    "    'pct_water_inland'\n",
    "]\n",
    "\n",
    "raw.columns = new_cols\n",
    "raw.head(2)\n"
   ]
  },
  {
   "cell_type": "code",
   "execution_count": 4,
   "metadata": {},
   "outputs": [
    {
     "name": "stdout",
     "output_type": "stream",
     "text": [
      "<class 'pandas.core.frame.DataFrame'>\n",
      "RangeIndex: 1534 entries, 1 to 1534\n",
      "Data columns (total 56 columns):\n",
      " #   Column              Non-Null Count  Dtype \n",
      "---  ------              --------------  ----- \n",
      " 0   obs                 1534 non-null   object\n",
      " 1   year                1534 non-null   object\n",
      " 2   month               1525 non-null   object\n",
      " 3   state               1534 non-null   object\n",
      " 4   postal_code         1534 non-null   object\n",
      " 5   nerc_region         1534 non-null   object\n",
      " 6   climate_region      1528 non-null   object\n",
      " 7   anomaly_level       1525 non-null   object\n",
      " 8   climate_cat         1525 non-null   object\n",
      " 9   start_date          1525 non-null   object\n",
      " 10  start_time          1525 non-null   object\n",
      " 11  restore_date        1476 non-null   object\n",
      " 12  restore_time        1476 non-null   object\n",
      " 13  cause_cat           1534 non-null   object\n",
      " 14  cause_detail        1063 non-null   object\n",
      " 15  hurricane_names     72 non-null     object\n",
      " 16  duration            1476 non-null   object\n",
      " 17  demand_loss_mw      829 non-null    object\n",
      " 18  customers_affected  1091 non-null   object\n",
      " 19  res_price           1512 non-null   object\n",
      " 20  com_price           1512 non-null   object\n",
      " 21  ind_price           1512 non-null   object\n",
      " 22  total_price         1512 non-null   object\n",
      " 23  res_sales           1512 non-null   object\n",
      " 24  com_sales           1512 non-null   object\n",
      " 25  ind_sales           1512 non-null   object\n",
      " 26  total_sales         1512 non-null   object\n",
      " 27  res_pct             1512 non-null   object\n",
      " 28  com_pct             1512 non-null   object\n",
      " 29  ind_pct             1512 non-null   object\n",
      " 30  res_customers       1534 non-null   object\n",
      " 31  com_customers       1534 non-null   object\n",
      " 32  ind_customers       1534 non-null   object\n",
      " 33  total_customers     1534 non-null   object\n",
      " 34  res_cust_pct        1534 non-null   object\n",
      " 35  com_cust_pct        1534 non-null   object\n",
      " 36  ind_cust_pct        1534 non-null   object\n",
      " 37  pc_realgsp_state    1534 non-null   object\n",
      " 38  pc_realgsp_usa      1534 non-null   object\n",
      " 39  pc_realgsp_rel      1534 non-null   object\n",
      " 40  pc_realgsp_change   1534 non-null   object\n",
      " 41  util_realgsp        1534 non-null   object\n",
      " 42  total_realgsp       1534 non-null   object\n",
      " 43  util_contri         1534 non-null   object\n",
      " 44  pi_util_of_usa      1534 non-null   object\n",
      " 45  population          1534 non-null   object\n",
      " 46  pop_pct_urban       1534 non-null   object\n",
      " 47  pop_pct_uc          1534 non-null   object\n",
      " 48  popden_urban        1534 non-null   object\n",
      " 49  popden_uc           1524 non-null   object\n",
      " 50  popden_rural        1524 non-null   object\n",
      " 51  area_pct_urban      1534 non-null   object\n",
      " 52  area_pct_uc         1534 non-null   object\n",
      " 53  pct_land            1534 non-null   object\n",
      " 54  pct_water_tot       1534 non-null   object\n",
      " 55  pct_water_inland    1534 non-null   object\n",
      "dtypes: object(56)\n",
      "memory usage: 671.3+ KB\n"
     ]
    }
   ],
   "source": [
    "raw.info()"
   ]
  },
  {
   "cell_type": "markdown",
   "metadata": {},
   "source": [
    "## Introduction and Question Identification\n",
    "(⚠️ means still need more data, ✅ means workable with existing data )\n",
    "\n",
    "**Currently, we are considering three problem statement to explore:**\n",
    "\n",
    "1. ⚠️ Assessment of Infrastructure Resilience (Based on whether or not `cause_detail` has enough information.)\n",
    "Analyze how different regions' infrastructure characteristics (e.g., overhead vs. underground lines, maintenance investments) correlate with outage frequency and duration. This can inform infrastructure improvement strategies.\n",
    "2. ✅ Temporal Trends and Climate Change Correlation (doable with existing data, but kinda boring) \n",
    "Examine how the frequency and causes of outages have evolved over time and assess potential correlations with climate change indicators. This can provide insights into how changing climate patterns impact power reliability.\n",
    "3. ⚠️ Policy and Emergency Response Evaluation (We don’t have explicit timestamps or markers indicating policy changes or emergency response dates.)\n",
    "Evaluate the effectiveness of policies and emergency responses by analyzing outage data before and after the implementation of specific measures. This can guide future policy development and emergency planning.\n",
    "\n",
    "**Ideas that are just \"ok\":**\n",
    "\n",
    "⭕️ 1. Predictive Modeling of Outage Risks <u> ***(but it’s kinda boring, i bet people have done it already; not creative)*** </u>\n",
    "\n",
    "Utilize machine learning techniques to predict the likelihood of major power outages based on factors such as weather patterns, infrastructure characteristics, and economic indicators. This can aid in proactive maintenance and resource allocation.\n",
    "\n",
    "⭕️ 2. Socioeconomic Impact Analysis <u> ***(has been done numerous times already !!!!!!! Check out examples, two of them already exist. I know you like it, Im sry!)*** </u>\n",
    "\n",
    "Investigate the relationship between socioeconomic factors (e.g., income levels, urbanization) and the frequency or duration of power outages. This can highlight areas where outages disproportionately affect vulnerable populations.\n",
    "\n"
   ]
  },
  {
   "cell_type": "markdown",
   "metadata": {},
   "source": [
    "### Exploring idea 1\n",
    "Check out whether `cause_detail` gives us any good information about the infrustructure. "
   ]
  },
  {
   "cell_type": "code",
   "execution_count": 5,
   "metadata": {},
   "outputs": [
    {
     "data": {
      "text/plain": [
       "array([nan, 'vandalism', 'heavy wind', 'thunderstorm', 'winter storm',\n",
       "       'tornadoes', 'sabotage', 'hailstorm', 'uncontrolled loss',\n",
       "       'winter', 'wind storm', 'computer hardware', 'public appeal',\n",
       "       'storm', ' Coal', ' Natural Gas', 'hurricanes', 'wind/rain',\n",
       "       'snow/ice storm', 'snow/ice ', 'transmission interruption',\n",
       "       'flooding', 'transformer outage', 'generator trip',\n",
       "       'relaying malfunction', 'transmission trip', 'lightning',\n",
       "       'switching', 'shed load', 'line fault', 'breaker trip', 'wildfire',\n",
       "       ' Hydro', 'majorsystem interruption', 'voltage reduction',\n",
       "       'transmission', 'Coal', 'substation', 'heatwave',\n",
       "       'distribution interruption', 'wind', 'suspicious activity',\n",
       "       'feeder shutdown', '100 MW loadshed', 'plant trip', 'fog', 'Hydro',\n",
       "       'earthquake', 'HVSubstation interruption', 'cables', 'Petroleum',\n",
       "       'thunderstorm; islanding', 'failure'], dtype=object)"
      ]
     },
     "execution_count": 5,
     "metadata": {},
     "output_type": "execute_result"
    }
   ],
   "source": [
    "raw['cause_detail'].unique()"
   ]
  },
  {
   "cell_type": "markdown",
   "metadata": {},
   "source": [
    "- `cause_detail` does contain some infrastructure-related failure types, like:\n",
    "**transformer outage, generator trip, relaying malfunction, breaker trip, line fault, substation, transmission interruption, distribution interruption, cables, HVSubstation interruption, plant trip**, etc.\n",
    "- They will allow us to indirectly infer infrastructure issues, but there are no explicit infrastructure metadata: We don’t have direct info on overhead vs underground lines, age of equipment, maintenance budgets, or investments.\n",
    "\n",
    "- External datasets to consider: \n",
    "    - **(I FW THIS ONE HEAVY) [EIA Reports on Utility Investments](https://www.eia.gov/todayinenergy/detail.php?id=48136)** \n",
    "        - Provides financial and operational data related to maintenance and upgrades.\n",
    "        - Can help explain or correlate investment levels with outage frequency/duration.\n",
    "        - Good source for explaining patterns seen in outage data.\n",
    "    - [Mapping the Depths: Underground Power Distribution (arXiv study, paper only)](https://arxiv.org/abs/2402.06668)\n",
    "        - Unique dataset that quantifies underground vs overhead lines by utility.\n",
    "        - Can provide a strong predictor variable about infrastructure type (underground = more resilient).\n",
    "\n",
    "### Exploring EIA reports on utility investment \n",
    "-> <u> **[Annual Electric Power Industry Report, Form EIA-861 detailed data files](https://www.eia.gov/electricity/data/eia861/)**</u> <br>\n",
    "-> <u> **[A Guide to EIA Electric Power Data](https://www.eia.gov/electricity/data/guide/pdf/guide.pdf)** page 9/18  </u> \n",
    "> **Retail Sales by Electric Utilities and Power Marketers (Form EIA-861, Annual Electric Power Industry Report)**\n",
    ">\n",
    "> Data Collected by Form EIA-861  \n",
    "> The Form EIA-861, Annual Electric Power Industry Report collects annual data from a census of all utilities that sell electricity to end-use customers in the 50 states, the District of Columbia, Puerto Rico, American Samoa, the American Virgin Islands, Guam, and the Northern Mariana Islands. These surveys collect information on sales to ultimate customers by utilities and power marketers, energy efficiency programs, distributed generating capacity, and related data elements.  \n",
    ">\n",
    "> The data collected include several items:  \n",
    "> - **Service territory by state and county**  \n",
    "> - **Sales revenue to ultimate customers**  \n",
    "> - **Revenue and customer count**  \n",
    "> - **Source and disposition of electricity**  \n",
    "> - **Advanced metering**  \n",
    "> - **Demand response and energy efficiency programs**  \n",
    "> - **Dynamic pricing**  \n",
    "> - **Capacity and other information related to net metering**  \n",
    "> - **Non-net metered distributed generating units**  \n",
    "> - **Distribution system characteristics and reliability**\n",
    "\n",
    "\n",
    "Out of the above, the good columns to look for are ` Distribution System Characteristics and Reliability`, ` Service Territory by State and County`, `Advanced Metering Infrastructure (AMI)`, `Revenue and Customer Count by Utility` \n",
    "-  `Distribution System Characteristics and Reliability`: Directly speaks to infrastructure resilience. \n",
    "-  `Service Territory by State and County`: Needed for merging \n",
    "- `Advanced Metering Infrastructure (AMI)`: AMI often correlates with modernization efforts and may reflect better outage response times. Can assess: Compare outage duration/frequency in regions with vs. without AMI.\n",
    "- `Demand Response and Energy Efficiency Programs`: May suggest proactive infrastructure investment or mitigation strategies. Can assess: \"Do regions with stronger demand response programs show fewer or shorter outages?\"\n",
    "- `Revenue and Customer Count by Utility`: Can assess possible correlations between revenue and investment in resilience."
   ]
  },
  {
   "cell_type": "markdown",
   "metadata": {},
   "source": [
    "### Final decision on problem statement \n",
    "\n",
    "<u> **Assessment of Infrastructure Resilience.   \n",
    "Analyze how different regions' infrastructure maintenance investments correlate with outage frequency and duration. This can inform infrastructure improvement strategies.** </u>\n",
    "\n"
   ]
  },
  {
   "cell_type": "markdown",
   "metadata": {},
   "source": [
    "# Step 2: Data Cleaning and Exploratory Data Analysis"
   ]
  },
  {
   "cell_type": "code",
   "execution_count": 6,
   "metadata": {},
   "outputs": [
    {
     "data": {
      "text/html": [
       "<div>\n",
       "<style scoped>\n",
       "    .dataframe tbody tr th:only-of-type {\n",
       "        vertical-align: middle;\n",
       "    }\n",
       "\n",
       "    .dataframe tbody tr th {\n",
       "        vertical-align: top;\n",
       "    }\n",
       "\n",
       "    .dataframe thead th {\n",
       "        text-align: right;\n",
       "    }\n",
       "</style>\n",
       "<table border=\"1\" class=\"dataframe\">\n",
       "  <thead>\n",
       "    <tr style=\"text-align: right;\">\n",
       "      <th></th>\n",
       "      <th>obs</th>\n",
       "      <th>year</th>\n",
       "      <th>month</th>\n",
       "      <th>state</th>\n",
       "      <th>postal_code</th>\n",
       "      <th>nerc_region</th>\n",
       "      <th>climate_region</th>\n",
       "      <th>anomaly_level</th>\n",
       "      <th>climate_cat</th>\n",
       "      <th>start_date</th>\n",
       "      <th>...</th>\n",
       "      <th>pop_pct_urban</th>\n",
       "      <th>pop_pct_uc</th>\n",
       "      <th>popden_urban</th>\n",
       "      <th>popden_uc</th>\n",
       "      <th>popden_rural</th>\n",
       "      <th>area_pct_urban</th>\n",
       "      <th>area_pct_uc</th>\n",
       "      <th>pct_land</th>\n",
       "      <th>pct_water_tot</th>\n",
       "      <th>pct_water_inland</th>\n",
       "    </tr>\n",
       "  </thead>\n",
       "  <tbody>\n",
       "    <tr>\n",
       "      <th>1</th>\n",
       "      <td>1</td>\n",
       "      <td>2011</td>\n",
       "      <td>7</td>\n",
       "      <td>Minnesota</td>\n",
       "      <td>MN</td>\n",
       "      <td>MRO</td>\n",
       "      <td>East North Central</td>\n",
       "      <td>-0.3</td>\n",
       "      <td>normal</td>\n",
       "      <td>Friday, July 1, 2011</td>\n",
       "      <td>...</td>\n",
       "      <td>73.27</td>\n",
       "      <td>15.28</td>\n",
       "      <td>2279</td>\n",
       "      <td>1700.5</td>\n",
       "      <td>18.2</td>\n",
       "      <td>2.14</td>\n",
       "      <td>0.6</td>\n",
       "      <td>91.5926658691451</td>\n",
       "      <td>8.40733413085488</td>\n",
       "      <td>5.47874298334407</td>\n",
       "    </tr>\n",
       "    <tr>\n",
       "      <th>2</th>\n",
       "      <td>2</td>\n",
       "      <td>2014</td>\n",
       "      <td>5</td>\n",
       "      <td>Minnesota</td>\n",
       "      <td>MN</td>\n",
       "      <td>MRO</td>\n",
       "      <td>East North Central</td>\n",
       "      <td>-0.1</td>\n",
       "      <td>normal</td>\n",
       "      <td>Sunday, May 11, 2014</td>\n",
       "      <td>...</td>\n",
       "      <td>73.27</td>\n",
       "      <td>15.28</td>\n",
       "      <td>2279</td>\n",
       "      <td>1700.5</td>\n",
       "      <td>18.2</td>\n",
       "      <td>2.14</td>\n",
       "      <td>0.6</td>\n",
       "      <td>91.5926658691451</td>\n",
       "      <td>8.40733413085488</td>\n",
       "      <td>5.47874298334407</td>\n",
       "    </tr>\n",
       "  </tbody>\n",
       "</table>\n",
       "<p>2 rows × 56 columns</p>\n",
       "</div>"
      ],
      "text/plain": [
       "  obs  year month      state postal_code nerc_region      climate_region  \\\n",
       "1   1  2011     7  Minnesota          MN         MRO  East North Central   \n",
       "2   2  2014     5  Minnesota          MN         MRO  East North Central   \n",
       "\n",
       "  anomaly_level climate_cat            start_date  ... pop_pct_urban  \\\n",
       "1          -0.3      normal  Friday, July 1, 2011  ...         73.27   \n",
       "2          -0.1      normal  Sunday, May 11, 2014  ...         73.27   \n",
       "\n",
       "  pop_pct_uc popden_urban popden_uc popden_rural area_pct_urban area_pct_uc  \\\n",
       "1      15.28         2279    1700.5         18.2           2.14         0.6   \n",
       "2      15.28         2279    1700.5         18.2           2.14         0.6   \n",
       "\n",
       "           pct_land     pct_water_tot  pct_water_inland  \n",
       "1  91.5926658691451  8.40733413085488  5.47874298334407  \n",
       "2  91.5926658691451  8.40733413085488  5.47874298334407  \n",
       "\n",
       "[2 rows x 56 columns]"
      ]
     },
     "execution_count": 6,
     "metadata": {},
     "output_type": "execute_result"
    }
   ],
   "source": [
    "raw.head(2)"
   ]
  },
  {
   "cell_type": "markdown",
   "metadata": {},
   "source": [
    "## Data cleaning"
   ]
  },
  {
   "cell_type": "markdown",
   "metadata": {},
   "source": [
    "### Dropping unused features\n",
    "\n",
    "Since we will be focusing on assessing infrastructure resilience by state based on investment and other economic factors, we have dropped many climate or sales related columns. "
   ]
  },
  {
   "cell_type": "code",
   "execution_count": 7,
   "metadata": {},
   "outputs": [
    {
     "data": {
      "text/html": [
       "<div>\n",
       "<style scoped>\n",
       "    .dataframe tbody tr th:only-of-type {\n",
       "        vertical-align: middle;\n",
       "    }\n",
       "\n",
       "    .dataframe tbody tr th {\n",
       "        vertical-align: top;\n",
       "    }\n",
       "\n",
       "    .dataframe thead th {\n",
       "        text-align: right;\n",
       "    }\n",
       "</style>\n",
       "<table border=\"1\" class=\"dataframe\">\n",
       "  <thead>\n",
       "    <tr style=\"text-align: right;\">\n",
       "      <th></th>\n",
       "      <th>year</th>\n",
       "      <th>month</th>\n",
       "      <th>state</th>\n",
       "      <th>climate_region</th>\n",
       "      <th>anomaly_level</th>\n",
       "      <th>climate_cat</th>\n",
       "      <th>cause_cat</th>\n",
       "      <th>cause_detail</th>\n",
       "      <th>duration</th>\n",
       "      <th>pc_realgsp_state</th>\n",
       "      <th>pi_util_of_usa</th>\n",
       "      <th>population</th>\n",
       "      <th>pop_pct_urban</th>\n",
       "      <th>pop_pct_uc</th>\n",
       "      <th>popden_urban</th>\n",
       "      <th>popden_uc</th>\n",
       "      <th>popden_rural</th>\n",
       "      <th>area_pct_urban</th>\n",
       "      <th>area_pct_uc</th>\n",
       "    </tr>\n",
       "  </thead>\n",
       "  <tbody>\n",
       "    <tr>\n",
       "      <th>1</th>\n",
       "      <td>2011</td>\n",
       "      <td>7</td>\n",
       "      <td>MN</td>\n",
       "      <td>East North Central</td>\n",
       "      <td>-0.3</td>\n",
       "      <td>normal</td>\n",
       "      <td>severe weather</td>\n",
       "      <td>NaN</td>\n",
       "      <td>3060</td>\n",
       "      <td>51268</td>\n",
       "      <td>2.2</td>\n",
       "      <td>5348119</td>\n",
       "      <td>73.27</td>\n",
       "      <td>15.28</td>\n",
       "      <td>2279</td>\n",
       "      <td>1700.5</td>\n",
       "      <td>18.2</td>\n",
       "      <td>2.14</td>\n",
       "      <td>0.6</td>\n",
       "    </tr>\n",
       "    <tr>\n",
       "      <th>2</th>\n",
       "      <td>2014</td>\n",
       "      <td>5</td>\n",
       "      <td>MN</td>\n",
       "      <td>East North Central</td>\n",
       "      <td>-0.1</td>\n",
       "      <td>normal</td>\n",
       "      <td>intentional attack</td>\n",
       "      <td>vandalism</td>\n",
       "      <td>1</td>\n",
       "      <td>53499</td>\n",
       "      <td>2.2</td>\n",
       "      <td>5457125</td>\n",
       "      <td>73.27</td>\n",
       "      <td>15.28</td>\n",
       "      <td>2279</td>\n",
       "      <td>1700.5</td>\n",
       "      <td>18.2</td>\n",
       "      <td>2.14</td>\n",
       "      <td>0.6</td>\n",
       "    </tr>\n",
       "  </tbody>\n",
       "</table>\n",
       "</div>"
      ],
      "text/plain": [
       "   year month state      climate_region anomaly_level climate_cat  \\\n",
       "1  2011     7    MN  East North Central          -0.3      normal   \n",
       "2  2014     5    MN  East North Central          -0.1      normal   \n",
       "\n",
       "            cause_cat cause_detail duration pc_realgsp_state pi_util_of_usa  \\\n",
       "1      severe weather          NaN     3060            51268            2.2   \n",
       "2  intentional attack    vandalism        1            53499            2.2   \n",
       "\n",
       "  population pop_pct_urban pop_pct_uc popden_urban popden_uc popden_rural  \\\n",
       "1    5348119         73.27      15.28         2279    1700.5         18.2   \n",
       "2    5457125         73.27      15.28         2279    1700.5         18.2   \n",
       "\n",
       "  area_pct_urban area_pct_uc  \n",
       "1           2.14         0.6  \n",
       "2           2.14         0.6  "
      ]
     },
     "execution_count": 7,
     "metadata": {},
     "output_type": "execute_result"
    }
   ],
   "source": [
    "dropped = [\n",
    "    'obs', 'start_date', 'start_time', 'restore_date', 'restore_time',\n",
    "    'res_price', 'com_price', 'ind_price',\n",
    "    'res_sales', 'com_sales', 'ind_sales',\n",
    "    'res_pct', 'com_pct', 'ind_pct',\n",
    "    'res_customers', 'com_customers', 'ind_customers',\n",
    "    'res_cust_pct', 'com_cust_pct', 'ind_cust_pct',\n",
    "    'pct_land', 'pct_water_tot', 'pct_water_inland',\n",
    "    'hurricane_names', 'state', 'pc_realgsp_usa', \n",
    "    'pc_realgsp_rel', 'pc_realgsp_change', 'util_realgsp',\n",
    "    'total_realgsp', 'util_contri', 'nerc_region',\n",
    "    'demand_loss_mw', 'customers_affected',\n",
    "    'total_price', 'total_sales', 'total_customers',   \n",
    "]\n",
    "raw_dropped = raw.drop(columns = dropped)\n",
    "raw_dropped = raw_dropped.rename(columns = {'postal_code': 'state'})\n",
    "\n",
    "# Dropping individual NaNs: first convert all string NaN into np, then drop accordingly. \n",
    "raw_dropped = raw_dropped.replace(\"NaN\", np.nan)\n",
    "raw_dropped = raw_dropped.dropna(subset=['year', 'month', 'state']) \n",
    "raw_dropped.head(2)"
   ]
  },
  {
   "cell_type": "markdown",
   "metadata": {},
   "source": [
    "### Feature enrgineering"
   ]
  },
  {
   "cell_type": "code",
   "execution_count": 8,
   "metadata": {},
   "outputs": [
    {
     "data": {
      "text/html": [
       "<div>\n",
       "<style scoped>\n",
       "    .dataframe tbody tr th:only-of-type {\n",
       "        vertical-align: middle;\n",
       "    }\n",
       "\n",
       "    .dataframe tbody tr th {\n",
       "        vertical-align: top;\n",
       "    }\n",
       "\n",
       "    .dataframe thead th {\n",
       "        text-align: right;\n",
       "    }\n",
       "</style>\n",
       "<table border=\"1\" class=\"dataframe\">\n",
       "  <thead>\n",
       "    <tr style=\"text-align: right;\">\n",
       "      <th></th>\n",
       "      <th>year</th>\n",
       "      <th>month</th>\n",
       "      <th>state</th>\n",
       "      <th>climate_region</th>\n",
       "      <th>anomaly_level</th>\n",
       "      <th>climate_cat</th>\n",
       "      <th>cause_cat</th>\n",
       "      <th>cause_detail</th>\n",
       "      <th>duration</th>\n",
       "      <th>pc_realgsp_state</th>\n",
       "      <th>...</th>\n",
       "      <th>pop_pct_urban</th>\n",
       "      <th>pop_pct_uc</th>\n",
       "      <th>popden_urban</th>\n",
       "      <th>popden_uc</th>\n",
       "      <th>popden_rural</th>\n",
       "      <th>area_pct_urban</th>\n",
       "      <th>area_pct_uc</th>\n",
       "      <th>monthly_outage_count_bystate</th>\n",
       "      <th>monthy_avg_duration_bystate</th>\n",
       "      <th>year_month</th>\n",
       "    </tr>\n",
       "  </thead>\n",
       "  <tbody>\n",
       "    <tr>\n",
       "      <th>0</th>\n",
       "      <td>2011</td>\n",
       "      <td>7</td>\n",
       "      <td>MN</td>\n",
       "      <td>East North Central</td>\n",
       "      <td>-0.3</td>\n",
       "      <td>normal</td>\n",
       "      <td>severe weather</td>\n",
       "      <td>NaN</td>\n",
       "      <td>3060.0</td>\n",
       "      <td>51268</td>\n",
       "      <td>...</td>\n",
       "      <td>73.27</td>\n",
       "      <td>15.28</td>\n",
       "      <td>2279</td>\n",
       "      <td>1700.5</td>\n",
       "      <td>18.2</td>\n",
       "      <td>2.14</td>\n",
       "      <td>0.6</td>\n",
       "      <td>2</td>\n",
       "      <td>1530.0</td>\n",
       "      <td>2011_7</td>\n",
       "    </tr>\n",
       "    <tr>\n",
       "      <th>1</th>\n",
       "      <td>2014</td>\n",
       "      <td>5</td>\n",
       "      <td>MN</td>\n",
       "      <td>East North Central</td>\n",
       "      <td>-0.1</td>\n",
       "      <td>normal</td>\n",
       "      <td>intentional attack</td>\n",
       "      <td>vandalism</td>\n",
       "      <td>1.0</td>\n",
       "      <td>53499</td>\n",
       "      <td>...</td>\n",
       "      <td>73.27</td>\n",
       "      <td>15.28</td>\n",
       "      <td>2279</td>\n",
       "      <td>1700.5</td>\n",
       "      <td>18.2</td>\n",
       "      <td>2.14</td>\n",
       "      <td>0.6</td>\n",
       "      <td>1</td>\n",
       "      <td>1.0</td>\n",
       "      <td>2014_5</td>\n",
       "    </tr>\n",
       "  </tbody>\n",
       "</table>\n",
       "<p>2 rows × 22 columns</p>\n",
       "</div>"
      ],
      "text/plain": [
       "   year month state      climate_region anomaly_level climate_cat  \\\n",
       "0  2011     7    MN  East North Central          -0.3      normal   \n",
       "1  2014     5    MN  East North Central          -0.1      normal   \n",
       "\n",
       "            cause_cat cause_detail  duration pc_realgsp_state  ...  \\\n",
       "0      severe weather          NaN    3060.0            51268  ...   \n",
       "1  intentional attack    vandalism       1.0            53499  ...   \n",
       "\n",
       "  pop_pct_urban pop_pct_uc popden_urban popden_uc popden_rural area_pct_urban  \\\n",
       "0         73.27      15.28         2279    1700.5         18.2           2.14   \n",
       "1         73.27      15.28         2279    1700.5         18.2           2.14   \n",
       "\n",
       "  area_pct_uc monthly_outage_count_bystate monthy_avg_duration_bystate  \\\n",
       "0         0.6                            2                      1530.0   \n",
       "1         0.6                            1                         1.0   \n",
       "\n",
       "   year_month  \n",
       "0      2011_7  \n",
       "1      2014_5  \n",
       "\n",
       "[2 rows x 22 columns]"
      ]
     },
     "execution_count": 8,
     "metadata": {},
     "output_type": "execute_result"
    }
   ],
   "source": [
    "# Make duration numeric, standardize cause_detail text \n",
    "raw_dropped['duration'] = pd.to_numeric(raw_dropped['duration'], errors='coerce')\n",
    "raw_dropped['cause_detail'] = raw_dropped['cause_detail'].dropna().astype(str).str.lower().str.strip().str.replace(r'[^\\w\\s]', '', regex=True).str.replace(r'\\s+', ' ', regex=True)\n",
    "\n",
    "\n",
    "\"\"\"\n",
    "New columns for: \n",
    "Total outages that month in that state\n",
    "Average outage duration that month in that state\n",
    "\"\"\"\n",
    "outages_count = (raw_dropped.groupby(['year', 'month', 'state']).size().reset_index(name='monthly_outage_count_bystate'))\n",
    "avg_duration = (raw_dropped.groupby(['year', 'month', 'state'])['duration'].mean().reset_index(name='monthy_avg_duration_bystate'))\n",
    "by_month_year = pd.merge(outages_count, avg_duration, on = ['year', 'month', 'state'], how = 'outer')\n",
    "outage = pd.merge(raw_dropped, by_month_year, on = ['year', 'month', 'state'], how = 'left')\n",
    "\n",
    "# Create new column for each year each month \n",
    "outage['year_month'] = outage['year'].astype(str) + '_' + outage['month'].astype(str)\n",
    "\n",
    "outage.head(2)"
   ]
  },
  {
   "cell_type": "markdown",
   "metadata": {},
   "source": [
    "# Process external data source \n",
    "1. Using the link on this website, download all zip files from 2000 - 2016 (Do NOT use the reformatted files!)\n",
    "https://www.eia.gov/electricity/data/eia861/\n",
    "2. Get file 2. Convert the file into CSV, Get the three total columns, keep columns of : Year, State, Thousands dollars, megawatthours, count for Total. Group each year's dataframe by state, sum for each column. "
   ]
  },
  {
   "cell_type": "markdown",
   "metadata": {},
   "source": [
    "Total revenue is very high, might want to regularize it?"
   ]
  },
  {
   "cell_type": "code",
   "execution_count": null,
   "metadata": {},
   "outputs": [],
   "source": [
    "external = pd.DataFrame(columns = ['state', 'total_revenue', 'megawatthours', 'count', 'year'])\n",
    "\n",
    "for i in range(17):\n",
    "    if i < 10:\n",
    "        num = '0' + str(i)\n",
    "    else:\n",
    "        num = str(i)\n",
    "    state_col = 'Unnamed: 3' if i == 0 else 'Unnamed: 6'\n",
    "    df = pd.read_csv(f'20{num}.csv')\n",
    "    counts = df.columns[-1]\n",
    "    megawatts = df.columns[-2]\n",
    "    revenue = df.columns[-3]\n",
    "    df = df.iloc[2:][[state_col, revenue, megawatts, counts]].rename(columns = {state_col: 'state', revenue: 'total_revenue', \n",
    "                                                                                            megawatts: 'megawatthours', counts: 'count'})\n",
    "    df['total_revenue'] = df['total_revenue'].str.replace(',', '', regex = True).replace(['.', ''], np.nan).astype(float)*1000\n",
    "    df['megawatthours'] = df['megawatthours'].str.replace(',', '', regex = True).replace(['.', ''], np.nan).astype(float)\n",
    "    df['count'] = df['count'].str.replace(',', '', regex = True).replace(['.', ''], np.nan).astype(float)\n",
    "    df = df.groupby('state').sum().reset_index()\n",
    "    df['year'] = '20' + num\n",
    "    external = pd.concat([external, df], axis = 0)\n",
    "\n",
    "external['year'] = external['year'].astype(int) "
   ]
  },
  {
   "cell_type": "code",
   "execution_count": null,
   "metadata": {},
   "outputs": [],
   "source": [
    "external['year_state'] = external['year'].astype(str) + external['state'].astype(str)\n",
    "external.head()"
   ]
  },
  {
   "cell_type": "code",
   "execution_count": null,
   "metadata": {},
   "outputs": [],
   "source": [
    "state_duration = raw.groupby(['year', 'postal_code'])['duration'].sum().reset_index().rename(columns = {'postal_code': 'state'})\n",
    "state_duration['year_state'] = state_duration['year'].astype(str) + state_duration['state'].astype(str)\n",
    "final_df = external.merge(state_duration, on = 'year_state', how = 'left')[['total_revenue', 'megawatthours', 'count', 'year_state', 'duration']].fillna(0)\n",
    "final_df['year'] = final_df['year_state'].str[:4]\n",
    "final_df['state'] = final_df['year_state'].str[4:]\n",
    "final_df = final_df.drop(columns = 'year_state')\n",
    "final_df.to_csv('raw_external_combined.csv')"
   ]
  },
  {
   "cell_type": "markdown",
   "metadata": {},
   "source": [
    "### Resulting external dataframe\n",
    "We combined dataframes from all years 2000 - 2016, and kepted the total columns. \n",
    " "
   ]
  },
  {
   "cell_type": "code",
   "execution_count": 10,
   "metadata": {},
   "outputs": [
    {
     "data": {
      "text/html": [
       "<div>\n",
       "<style scoped>\n",
       "    .dataframe tbody tr th:only-of-type {\n",
       "        vertical-align: middle;\n",
       "    }\n",
       "\n",
       "    .dataframe tbody tr th {\n",
       "        vertical-align: top;\n",
       "    }\n",
       "\n",
       "    .dataframe thead th {\n",
       "        text-align: right;\n",
       "    }\n",
       "</style>\n",
       "<table border=\"1\" class=\"dataframe\">\n",
       "  <thead>\n",
       "    <tr style=\"text-align: right;\">\n",
       "      <th></th>\n",
       "      <th>state</th>\n",
       "      <th>total_revenue</th>\n",
       "      <th>megawatthours</th>\n",
       "      <th>customer_count</th>\n",
       "      <th>year</th>\n",
       "    </tr>\n",
       "  </thead>\n",
       "  <tbody>\n",
       "    <tr>\n",
       "      <th>0</th>\n",
       "      <td>AK</td>\n",
       "      <td>5.352460e+08</td>\n",
       "      <td>5309970.0</td>\n",
       "      <td>273530.0</td>\n",
       "      <td>2000</td>\n",
       "    </tr>\n",
       "    <tr>\n",
       "      <th>1</th>\n",
       "      <td>AL</td>\n",
       "      <td>4.687257e+09</td>\n",
       "      <td>83524220.0</td>\n",
       "      <td>2262753.0</td>\n",
       "      <td>2000</td>\n",
       "    </tr>\n",
       "  </tbody>\n",
       "</table>\n",
       "</div>"
      ],
      "text/plain": [
       "  state  total_revenue  megawatthours  customer_count  year\n",
       "0    AK   5.352460e+08      5309970.0        273530.0  2000\n",
       "1    AL   4.687257e+09     83524220.0       2262753.0  2000"
      ]
     },
     "execution_count": 10,
     "metadata": {},
     "output_type": "execute_result"
    }
   ],
   "source": [
    "util_invest = pd.read_csv('external.csv')\n",
    "util_invest.drop(columns=['Unnamed: 0'], inplace=True)\n",
    "util_invest.rename(columns={'count':'customer_count'}, inplace=True)\n",
    "util_invest['year'] = util_invest['year'].astype(str)\n",
    "util_invest.head(2)"
   ]
  },
  {
   "cell_type": "code",
   "execution_count": 11,
   "metadata": {},
   "outputs": [
    {
     "data": {
      "text/html": [
       "<div>\n",
       "<style scoped>\n",
       "    .dataframe tbody tr th:only-of-type {\n",
       "        vertical-align: middle;\n",
       "    }\n",
       "\n",
       "    .dataframe tbody tr th {\n",
       "        vertical-align: top;\n",
       "    }\n",
       "\n",
       "    .dataframe thead th {\n",
       "        text-align: right;\n",
       "    }\n",
       "</style>\n",
       "<table border=\"1\" class=\"dataframe\">\n",
       "  <thead>\n",
       "    <tr style=\"text-align: right;\">\n",
       "      <th></th>\n",
       "      <th>year</th>\n",
       "      <th>month</th>\n",
       "      <th>state</th>\n",
       "      <th>climate_region</th>\n",
       "      <th>anomaly_level</th>\n",
       "      <th>climate_cat</th>\n",
       "      <th>cause_cat</th>\n",
       "      <th>cause_detail</th>\n",
       "      <th>duration</th>\n",
       "      <th>pc_realgsp_state</th>\n",
       "      <th>...</th>\n",
       "      <th>popden_uc</th>\n",
       "      <th>popden_rural</th>\n",
       "      <th>area_pct_urban</th>\n",
       "      <th>area_pct_uc</th>\n",
       "      <th>monthly_outage_count_bystate</th>\n",
       "      <th>monthy_avg_duration_bystate</th>\n",
       "      <th>year_month</th>\n",
       "      <th>total_revenue</th>\n",
       "      <th>megawatthours</th>\n",
       "      <th>customer_count</th>\n",
       "    </tr>\n",
       "  </thead>\n",
       "  <tbody>\n",
       "    <tr>\n",
       "      <th>0</th>\n",
       "      <td>2011</td>\n",
       "      <td>7</td>\n",
       "      <td>MN</td>\n",
       "      <td>East North Central</td>\n",
       "      <td>-0.3</td>\n",
       "      <td>normal</td>\n",
       "      <td>severe weather</td>\n",
       "      <td>NaN</td>\n",
       "      <td>3060.0</td>\n",
       "      <td>51268</td>\n",
       "      <td>...</td>\n",
       "      <td>1700.5</td>\n",
       "      <td>18.2</td>\n",
       "      <td>2.14</td>\n",
       "      <td>0.6</td>\n",
       "      <td>2</td>\n",
       "      <td>1530.0</td>\n",
       "      <td>2011_7</td>\n",
       "      <td>5.928515e+09</td>\n",
       "      <td>68532708.0</td>\n",
       "      <td>2595696.0</td>\n",
       "    </tr>\n",
       "    <tr>\n",
       "      <th>1</th>\n",
       "      <td>2014</td>\n",
       "      <td>5</td>\n",
       "      <td>MN</td>\n",
       "      <td>East North Central</td>\n",
       "      <td>-0.1</td>\n",
       "      <td>normal</td>\n",
       "      <td>intentional attack</td>\n",
       "      <td>vandalism</td>\n",
       "      <td>1.0</td>\n",
       "      <td>53499</td>\n",
       "      <td>...</td>\n",
       "      <td>1700.5</td>\n",
       "      <td>18.2</td>\n",
       "      <td>2.14</td>\n",
       "      <td>0.6</td>\n",
       "      <td>1</td>\n",
       "      <td>1.0</td>\n",
       "      <td>2014_5</td>\n",
       "      <td>6.540932e+09</td>\n",
       "      <td>68719367.0</td>\n",
       "      <td>2640737.0</td>\n",
       "    </tr>\n",
       "  </tbody>\n",
       "</table>\n",
       "<p>2 rows × 25 columns</p>\n",
       "</div>"
      ],
      "text/plain": [
       "   year month state      climate_region anomaly_level climate_cat  \\\n",
       "0  2011     7    MN  East North Central          -0.3      normal   \n",
       "1  2014     5    MN  East North Central          -0.1      normal   \n",
       "\n",
       "            cause_cat cause_detail  duration pc_realgsp_state  ... popden_uc  \\\n",
       "0      severe weather          NaN    3060.0            51268  ...    1700.5   \n",
       "1  intentional attack    vandalism       1.0            53499  ...    1700.5   \n",
       "\n",
       "  popden_rural area_pct_urban area_pct_uc monthly_outage_count_bystate  \\\n",
       "0         18.2           2.14         0.6                            2   \n",
       "1         18.2           2.14         0.6                            1   \n",
       "\n",
       "  monthy_avg_duration_bystate year_month total_revenue megawatthours  \\\n",
       "0                      1530.0     2011_7  5.928515e+09    68532708.0   \n",
       "1                         1.0     2014_5  6.540932e+09    68719367.0   \n",
       "\n",
       "   customer_count  \n",
       "0       2595696.0  \n",
       "1       2640737.0  \n",
       "\n",
       "[2 rows x 25 columns]"
      ]
     },
     "execution_count": 11,
     "metadata": {},
     "output_type": "execute_result"
    }
   ],
   "source": [
    "outage= outage.merge(util_invest, how='left', on=['year', 'state'])\n",
    "outage.head(2)"
   ]
  },
  {
   "cell_type": "markdown",
   "metadata": {},
   "source": [
    "## Univariate Analysis\n",
    "\n"
   ]
  },
  {
   "cell_type": "markdown",
   "metadata": {},
   "source": [
    "### Countplot of climate categories"
   ]
  },
  {
   "cell_type": "code",
   "execution_count": 12,
   "metadata": {},
   "outputs": [
    {
     "data": {
      "application/vnd.plotly.v1+json": {
       "config": {
        "plotlyServerURL": "https://plot.ly"
       },
       "data": [
        {
         "alignmentgroup": "True",
         "hovertemplate": "Number of Outages=%{marker.color}<br>Climate Region=%{y}<extra></extra>",
         "legendgroup": "",
         "marker": {
          "color": [
           349,
           227,
           217,
           199,
           150,
           138,
           132,
           92,
           16
          ],
          "coloraxis": "coloraxis",
          "pattern": {
           "shape": ""
          }
         },
         "name": "",
         "offsetgroup": "",
         "orientation": "h",
         "showlegend": false,
         "textposition": "auto",
         "type": "bar",
         "x": [
          349,
          227,
          217,
          199,
          150,
          138,
          132,
          92,
          16
         ],
         "xaxis": "x",
         "y": [
          "Northeast",
          "South",
          "West",
          "Central",
          "Southeast",
          "East North Central",
          "Northwest",
          "Southwest",
          "West North Central"
         ],
         "yaxis": "y"
        }
       ],
       "layout": {
        "barmode": "relative",
        "coloraxis": {
         "colorbar": {
          "title": {
           "text": "Number of Outages"
          }
         },
         "colorscale": [
          [
           0,
           "#0d0887"
          ],
          [
           0.1111111111111111,
           "#46039f"
          ],
          [
           0.2222222222222222,
           "#7201a8"
          ],
          [
           0.3333333333333333,
           "#9c179e"
          ],
          [
           0.4444444444444444,
           "#bd3786"
          ],
          [
           0.5555555555555556,
           "#d8576b"
          ],
          [
           0.6666666666666666,
           "#ed7953"
          ],
          [
           0.7777777777777778,
           "#fb9f3a"
          ],
          [
           0.8888888888888888,
           "#fdca26"
          ],
          [
           1,
           "#f0f921"
          ]
         ]
        },
        "legend": {
         "tracegroupgap": 0
        },
        "template": {
         "data": {
          "bar": [
           {
            "error_x": {
             "color": "#2a3f5f"
            },
            "error_y": {
             "color": "#2a3f5f"
            },
            "marker": {
             "line": {
              "color": "#E5ECF6",
              "width": 0.5
             },
             "pattern": {
              "fillmode": "overlay",
              "size": 10,
              "solidity": 0.2
             }
            },
            "type": "bar"
           }
          ],
          "barpolar": [
           {
            "marker": {
             "line": {
              "color": "#E5ECF6",
              "width": 0.5
             },
             "pattern": {
              "fillmode": "overlay",
              "size": 10,
              "solidity": 0.2
             }
            },
            "type": "barpolar"
           }
          ],
          "carpet": [
           {
            "aaxis": {
             "endlinecolor": "#2a3f5f",
             "gridcolor": "white",
             "linecolor": "white",
             "minorgridcolor": "white",
             "startlinecolor": "#2a3f5f"
            },
            "baxis": {
             "endlinecolor": "#2a3f5f",
             "gridcolor": "white",
             "linecolor": "white",
             "minorgridcolor": "white",
             "startlinecolor": "#2a3f5f"
            },
            "type": "carpet"
           }
          ],
          "choropleth": [
           {
            "colorbar": {
             "outlinewidth": 0,
             "ticks": ""
            },
            "type": "choropleth"
           }
          ],
          "contour": [
           {
            "colorbar": {
             "outlinewidth": 0,
             "ticks": ""
            },
            "colorscale": [
             [
              0,
              "#0d0887"
             ],
             [
              0.1111111111111111,
              "#46039f"
             ],
             [
              0.2222222222222222,
              "#7201a8"
             ],
             [
              0.3333333333333333,
              "#9c179e"
             ],
             [
              0.4444444444444444,
              "#bd3786"
             ],
             [
              0.5555555555555556,
              "#d8576b"
             ],
             [
              0.6666666666666666,
              "#ed7953"
             ],
             [
              0.7777777777777778,
              "#fb9f3a"
             ],
             [
              0.8888888888888888,
              "#fdca26"
             ],
             [
              1,
              "#f0f921"
             ]
            ],
            "type": "contour"
           }
          ],
          "contourcarpet": [
           {
            "colorbar": {
             "outlinewidth": 0,
             "ticks": ""
            },
            "type": "contourcarpet"
           }
          ],
          "heatmap": [
           {
            "colorbar": {
             "outlinewidth": 0,
             "ticks": ""
            },
            "colorscale": [
             [
              0,
              "#0d0887"
             ],
             [
              0.1111111111111111,
              "#46039f"
             ],
             [
              0.2222222222222222,
              "#7201a8"
             ],
             [
              0.3333333333333333,
              "#9c179e"
             ],
             [
              0.4444444444444444,
              "#bd3786"
             ],
             [
              0.5555555555555556,
              "#d8576b"
             ],
             [
              0.6666666666666666,
              "#ed7953"
             ],
             [
              0.7777777777777778,
              "#fb9f3a"
             ],
             [
              0.8888888888888888,
              "#fdca26"
             ],
             [
              1,
              "#f0f921"
             ]
            ],
            "type": "heatmap"
           }
          ],
          "heatmapgl": [
           {
            "colorbar": {
             "outlinewidth": 0,
             "ticks": ""
            },
            "colorscale": [
             [
              0,
              "#0d0887"
             ],
             [
              0.1111111111111111,
              "#46039f"
             ],
             [
              0.2222222222222222,
              "#7201a8"
             ],
             [
              0.3333333333333333,
              "#9c179e"
             ],
             [
              0.4444444444444444,
              "#bd3786"
             ],
             [
              0.5555555555555556,
              "#d8576b"
             ],
             [
              0.6666666666666666,
              "#ed7953"
             ],
             [
              0.7777777777777778,
              "#fb9f3a"
             ],
             [
              0.8888888888888888,
              "#fdca26"
             ],
             [
              1,
              "#f0f921"
             ]
            ],
            "type": "heatmapgl"
           }
          ],
          "histogram": [
           {
            "marker": {
             "pattern": {
              "fillmode": "overlay",
              "size": 10,
              "solidity": 0.2
             }
            },
            "type": "histogram"
           }
          ],
          "histogram2d": [
           {
            "colorbar": {
             "outlinewidth": 0,
             "ticks": ""
            },
            "colorscale": [
             [
              0,
              "#0d0887"
             ],
             [
              0.1111111111111111,
              "#46039f"
             ],
             [
              0.2222222222222222,
              "#7201a8"
             ],
             [
              0.3333333333333333,
              "#9c179e"
             ],
             [
              0.4444444444444444,
              "#bd3786"
             ],
             [
              0.5555555555555556,
              "#d8576b"
             ],
             [
              0.6666666666666666,
              "#ed7953"
             ],
             [
              0.7777777777777778,
              "#fb9f3a"
             ],
             [
              0.8888888888888888,
              "#fdca26"
             ],
             [
              1,
              "#f0f921"
             ]
            ],
            "type": "histogram2d"
           }
          ],
          "histogram2dcontour": [
           {
            "colorbar": {
             "outlinewidth": 0,
             "ticks": ""
            },
            "colorscale": [
             [
              0,
              "#0d0887"
             ],
             [
              0.1111111111111111,
              "#46039f"
             ],
             [
              0.2222222222222222,
              "#7201a8"
             ],
             [
              0.3333333333333333,
              "#9c179e"
             ],
             [
              0.4444444444444444,
              "#bd3786"
             ],
             [
              0.5555555555555556,
              "#d8576b"
             ],
             [
              0.6666666666666666,
              "#ed7953"
             ],
             [
              0.7777777777777778,
              "#fb9f3a"
             ],
             [
              0.8888888888888888,
              "#fdca26"
             ],
             [
              1,
              "#f0f921"
             ]
            ],
            "type": "histogram2dcontour"
           }
          ],
          "mesh3d": [
           {
            "colorbar": {
             "outlinewidth": 0,
             "ticks": ""
            },
            "type": "mesh3d"
           }
          ],
          "parcoords": [
           {
            "line": {
             "colorbar": {
              "outlinewidth": 0,
              "ticks": ""
             }
            },
            "type": "parcoords"
           }
          ],
          "pie": [
           {
            "automargin": true,
            "type": "pie"
           }
          ],
          "scatter": [
           {
            "fillpattern": {
             "fillmode": "overlay",
             "size": 10,
             "solidity": 0.2
            },
            "type": "scatter"
           }
          ],
          "scatter3d": [
           {
            "line": {
             "colorbar": {
              "outlinewidth": 0,
              "ticks": ""
             }
            },
            "marker": {
             "colorbar": {
              "outlinewidth": 0,
              "ticks": ""
             }
            },
            "type": "scatter3d"
           }
          ],
          "scattercarpet": [
           {
            "marker": {
             "colorbar": {
              "outlinewidth": 0,
              "ticks": ""
             }
            },
            "type": "scattercarpet"
           }
          ],
          "scattergeo": [
           {
            "marker": {
             "colorbar": {
              "outlinewidth": 0,
              "ticks": ""
             }
            },
            "type": "scattergeo"
           }
          ],
          "scattergl": [
           {
            "marker": {
             "colorbar": {
              "outlinewidth": 0,
              "ticks": ""
             }
            },
            "type": "scattergl"
           }
          ],
          "scattermapbox": [
           {
            "marker": {
             "colorbar": {
              "outlinewidth": 0,
              "ticks": ""
             }
            },
            "type": "scattermapbox"
           }
          ],
          "scatterpolar": [
           {
            "marker": {
             "colorbar": {
              "outlinewidth": 0,
              "ticks": ""
             }
            },
            "type": "scatterpolar"
           }
          ],
          "scatterpolargl": [
           {
            "marker": {
             "colorbar": {
              "outlinewidth": 0,
              "ticks": ""
             }
            },
            "type": "scatterpolargl"
           }
          ],
          "scatterternary": [
           {
            "marker": {
             "colorbar": {
              "outlinewidth": 0,
              "ticks": ""
             }
            },
            "type": "scatterternary"
           }
          ],
          "surface": [
           {
            "colorbar": {
             "outlinewidth": 0,
             "ticks": ""
            },
            "colorscale": [
             [
              0,
              "#0d0887"
             ],
             [
              0.1111111111111111,
              "#46039f"
             ],
             [
              0.2222222222222222,
              "#7201a8"
             ],
             [
              0.3333333333333333,
              "#9c179e"
             ],
             [
              0.4444444444444444,
              "#bd3786"
             ],
             [
              0.5555555555555556,
              "#d8576b"
             ],
             [
              0.6666666666666666,
              "#ed7953"
             ],
             [
              0.7777777777777778,
              "#fb9f3a"
             ],
             [
              0.8888888888888888,
              "#fdca26"
             ],
             [
              1,
              "#f0f921"
             ]
            ],
            "type": "surface"
           }
          ],
          "table": [
           {
            "cells": {
             "fill": {
              "color": "#EBF0F8"
             },
             "line": {
              "color": "white"
             }
            },
            "header": {
             "fill": {
              "color": "#C8D4E3"
             },
             "line": {
              "color": "white"
             }
            },
            "type": "table"
           }
          ]
         },
         "layout": {
          "annotationdefaults": {
           "arrowcolor": "#2a3f5f",
           "arrowhead": 0,
           "arrowwidth": 1
          },
          "autotypenumbers": "strict",
          "coloraxis": {
           "colorbar": {
            "outlinewidth": 0,
            "ticks": ""
           }
          },
          "colorscale": {
           "diverging": [
            [
             0,
             "#8e0152"
            ],
            [
             0.1,
             "#c51b7d"
            ],
            [
             0.2,
             "#de77ae"
            ],
            [
             0.3,
             "#f1b6da"
            ],
            [
             0.4,
             "#fde0ef"
            ],
            [
             0.5,
             "#f7f7f7"
            ],
            [
             0.6,
             "#e6f5d0"
            ],
            [
             0.7,
             "#b8e186"
            ],
            [
             0.8,
             "#7fbc41"
            ],
            [
             0.9,
             "#4d9221"
            ],
            [
             1,
             "#276419"
            ]
           ],
           "sequential": [
            [
             0,
             "#0d0887"
            ],
            [
             0.1111111111111111,
             "#46039f"
            ],
            [
             0.2222222222222222,
             "#7201a8"
            ],
            [
             0.3333333333333333,
             "#9c179e"
            ],
            [
             0.4444444444444444,
             "#bd3786"
            ],
            [
             0.5555555555555556,
             "#d8576b"
            ],
            [
             0.6666666666666666,
             "#ed7953"
            ],
            [
             0.7777777777777778,
             "#fb9f3a"
            ],
            [
             0.8888888888888888,
             "#fdca26"
            ],
            [
             1,
             "#f0f921"
            ]
           ],
           "sequentialminus": [
            [
             0,
             "#0d0887"
            ],
            [
             0.1111111111111111,
             "#46039f"
            ],
            [
             0.2222222222222222,
             "#7201a8"
            ],
            [
             0.3333333333333333,
             "#9c179e"
            ],
            [
             0.4444444444444444,
             "#bd3786"
            ],
            [
             0.5555555555555556,
             "#d8576b"
            ],
            [
             0.6666666666666666,
             "#ed7953"
            ],
            [
             0.7777777777777778,
             "#fb9f3a"
            ],
            [
             0.8888888888888888,
             "#fdca26"
            ],
            [
             1,
             "#f0f921"
            ]
           ]
          },
          "colorway": [
           "#636efa",
           "#EF553B",
           "#00cc96",
           "#ab63fa",
           "#FFA15A",
           "#19d3f3",
           "#FF6692",
           "#B6E880",
           "#FF97FF",
           "#FECB52"
          ],
          "font": {
           "color": "#2a3f5f"
          },
          "geo": {
           "bgcolor": "white",
           "lakecolor": "white",
           "landcolor": "#E5ECF6",
           "showlakes": true,
           "showland": true,
           "subunitcolor": "white"
          },
          "hoverlabel": {
           "align": "left"
          },
          "hovermode": "closest",
          "mapbox": {
           "style": "light"
          },
          "paper_bgcolor": "white",
          "plot_bgcolor": "#E5ECF6",
          "polar": {
           "angularaxis": {
            "gridcolor": "white",
            "linecolor": "white",
            "ticks": ""
           },
           "bgcolor": "#E5ECF6",
           "radialaxis": {
            "gridcolor": "white",
            "linecolor": "white",
            "ticks": ""
           }
          },
          "scene": {
           "xaxis": {
            "backgroundcolor": "#E5ECF6",
            "gridcolor": "white",
            "gridwidth": 2,
            "linecolor": "white",
            "showbackground": true,
            "ticks": "",
            "zerolinecolor": "white"
           },
           "yaxis": {
            "backgroundcolor": "#E5ECF6",
            "gridcolor": "white",
            "gridwidth": 2,
            "linecolor": "white",
            "showbackground": true,
            "ticks": "",
            "zerolinecolor": "white"
           },
           "zaxis": {
            "backgroundcolor": "#E5ECF6",
            "gridcolor": "white",
            "gridwidth": 2,
            "linecolor": "white",
            "showbackground": true,
            "ticks": "",
            "zerolinecolor": "white"
           }
          },
          "shapedefaults": {
           "line": {
            "color": "#2a3f5f"
           }
          },
          "ternary": {
           "aaxis": {
            "gridcolor": "white",
            "linecolor": "white",
            "ticks": ""
           },
           "baxis": {
            "gridcolor": "white",
            "linecolor": "white",
            "ticks": ""
           },
           "bgcolor": "#E5ECF6",
           "caxis": {
            "gridcolor": "white",
            "linecolor": "white",
            "ticks": ""
           }
          },
          "title": {
           "x": 0.05
          },
          "xaxis": {
           "automargin": true,
           "gridcolor": "white",
           "linecolor": "white",
           "ticks": "",
           "title": {
            "standoff": 15
           },
           "zerolinecolor": "white",
           "zerolinewidth": 2
          },
          "yaxis": {
           "automargin": true,
           "gridcolor": "white",
           "linecolor": "white",
           "ticks": "",
           "title": {
            "standoff": 15
           },
           "zerolinecolor": "white",
           "zerolinewidth": 2
          }
         }
        },
        "title": {
         "text": "Outage Cause Category Count"
        },
        "xaxis": {
         "anchor": "y",
         "domain": [
          0,
          1
         ],
         "title": {
          "text": "Number of Outages"
         }
        },
        "yaxis": {
         "anchor": "x",
         "domain": [
          0,
          1
         ],
         "title": {
          "text": "Climate Region"
         }
        }
       }
      }
     },
     "metadata": {},
     "output_type": "display_data"
    }
   ],
   "source": [
    "climate_region_count = outage['climate_region'].value_counts().reset_index()\n",
    "climate_region_count.columns = ['climate_region', 'count']\n",
    "climate_region_cntplot = px.bar(climate_region_count, x='count', y='climate_region',\n",
    "            title='Outage Cause Category Count',\n",
    "            labels={'climate_region': 'Climate Region', 'count': 'Number of Outages'},\n",
    "            color='count',  \n",
    "            #color_discrete_sequence=px.colors.qualitative.Pastel  \n",
    "             )\n",
    "\n",
    "climate_region_cntplot.show()\n"
   ]
  },
  {
   "cell_type": "markdown",
   "metadata": {},
   "source": [
    "Log-scaled duration distribution"
   ]
  },
  {
   "cell_type": "code",
   "execution_count": 13,
   "metadata": {},
   "outputs": [
    {
     "data": {
      "text/plain": [
       "0       3060.0\n",
       "1          1.0\n",
       "2       3000.0\n",
       "3       2550.0\n",
       "4       1740.0\n",
       "         ...  \n",
       "1520       NaN\n",
       "1521     220.0\n",
       "1522     720.0\n",
       "1523      59.0\n",
       "1524     181.0\n",
       "Name: duration, Length: 1525, dtype: float64"
      ]
     },
     "execution_count": 13,
     "metadata": {},
     "output_type": "execute_result"
    }
   ],
   "source": [
    "outage['duration']"
   ]
  },
  {
   "cell_type": "code",
   "execution_count": 14,
   "metadata": {},
   "outputs": [
    {
     "data": {
      "application/vnd.plotly.v1+json": {
       "config": {
        "plotlyServerURL": "https://plot.ly"
       },
       "data": [
        {
         "alignmentgroup": "True",
         "hovertemplate": "Duration Range: %{x}<br>Percent of Outages: %{y:.2f}%<extra></extra>",
         "legendgroup": "",
         "marker": {
          "color": [
           0.0865,
           0.26049999999999995,
           0.434,
           0.608,
           0.7815,
           0.9550000000000001,
           1.129,
           1.3025,
           1.476,
           1.65,
           1.8235000000000001,
           1.9969999999999999,
           2.1710000000000003,
           2.3445,
           2.518,
           2.692,
           2.8655,
           3.0389999999999997,
           3.2125,
           3.386,
           3.5599999999999996,
           3.7335,
           3.907,
           4.081,
           4.2545,
           4.428,
           4.602,
           4.7755,
           4.949
          ],
          "coloraxis": "coloraxis",
          "pattern": {
           "shape": ""
          }
         },
         "name": "",
         "offsetgroup": "",
         "orientation": "v",
         "showlegend": false,
         "textposition": "auto",
         "type": "bar",
         "x": [
          "1 min –1 min",
          "1 min –2 min",
          "2 min –3 min",
          "3 min –5 min",
          "5 min –7 min",
          "7 min –11 min",
          "11 min –16 min",
          "16 min –24 min",
          "24 min –37 min",
          "37 min –55 min",
          "55 min –1h",
          "1h –2h",
          "2h –3h",
          "3h –4h",
          "4h –7h",
          "7h –10h",
          "10h –15h",
          "15h –22h",
          "22h –1d",
          "1d –2d",
          "2d –3d",
          "3d –5d",
          "5d –7d",
          "7d –1 weeks",
          "1 weeks –2 weeks",
          "2 weeks –3 weeks",
          "3 weeks –5 weeks",
          "5 weeks –7 weeks",
          "7 weeks –11 weeks"
         ],
         "xaxis": "x",
         "y": [
          6.938483547925609,
          0.4291845493562232,
          0.2145922746781116,
          0.14306151645207438,
          0.8583690987124464,
          0.35765379113018597,
          1.0729613733905579,
          1.0014306151645207,
          1.859799713876967,
          2.1459227467811157,
          3.7911301859799713,
          4.434907010014307,
          4.57796852646638,
          6.151645207439199,
          6.437768240343347,
          5.36480686695279,
          4.506437768240343,
          7.0100143061516444,
          8.011444921316166,
          9.2274678111588,
          8.798283261802576,
          5.579399141630901,
          4.935622317596566,
          3.4334763948497855,
          1.4306151645207439,
          0.7153075822603719,
          0.14306151645207438,
          0.28612303290414876,
          0.14306151645207438
         ],
         "yaxis": "y"
        }
       ],
       "layout": {
        "barmode": "relative",
        "coloraxis": {
         "colorbar": {
          "title": {
           "text": "bin_center"
          }
         },
         "colorscale": [
          [
           0,
           "rgb(0,0,0)"
          ],
          [
           0.25,
           "rgb(230,0,0)"
          ],
          [
           0.5,
           "rgb(230,210,0)"
          ],
          [
           0.75,
           "rgb(255,255,255)"
          ],
          [
           1,
           "rgb(160,200,255)"
          ]
         ]
        },
        "legend": {
         "tracegroupgap": 0
        },
        "plot_bgcolor": "#d0d5e6",
        "template": {
         "data": {
          "bar": [
           {
            "error_x": {
             "color": "#2a3f5f"
            },
            "error_y": {
             "color": "#2a3f5f"
            },
            "marker": {
             "line": {
              "color": "#E5ECF6",
              "width": 0.5
             },
             "pattern": {
              "fillmode": "overlay",
              "size": 10,
              "solidity": 0.2
             }
            },
            "type": "bar"
           }
          ],
          "barpolar": [
           {
            "marker": {
             "line": {
              "color": "#E5ECF6",
              "width": 0.5
             },
             "pattern": {
              "fillmode": "overlay",
              "size": 10,
              "solidity": 0.2
             }
            },
            "type": "barpolar"
           }
          ],
          "carpet": [
           {
            "aaxis": {
             "endlinecolor": "#2a3f5f",
             "gridcolor": "white",
             "linecolor": "white",
             "minorgridcolor": "white",
             "startlinecolor": "#2a3f5f"
            },
            "baxis": {
             "endlinecolor": "#2a3f5f",
             "gridcolor": "white",
             "linecolor": "white",
             "minorgridcolor": "white",
             "startlinecolor": "#2a3f5f"
            },
            "type": "carpet"
           }
          ],
          "choropleth": [
           {
            "colorbar": {
             "outlinewidth": 0,
             "ticks": ""
            },
            "type": "choropleth"
           }
          ],
          "contour": [
           {
            "colorbar": {
             "outlinewidth": 0,
             "ticks": ""
            },
            "colorscale": [
             [
              0,
              "#0d0887"
             ],
             [
              0.1111111111111111,
              "#46039f"
             ],
             [
              0.2222222222222222,
              "#7201a8"
             ],
             [
              0.3333333333333333,
              "#9c179e"
             ],
             [
              0.4444444444444444,
              "#bd3786"
             ],
             [
              0.5555555555555556,
              "#d8576b"
             ],
             [
              0.6666666666666666,
              "#ed7953"
             ],
             [
              0.7777777777777778,
              "#fb9f3a"
             ],
             [
              0.8888888888888888,
              "#fdca26"
             ],
             [
              1,
              "#f0f921"
             ]
            ],
            "type": "contour"
           }
          ],
          "contourcarpet": [
           {
            "colorbar": {
             "outlinewidth": 0,
             "ticks": ""
            },
            "type": "contourcarpet"
           }
          ],
          "heatmap": [
           {
            "colorbar": {
             "outlinewidth": 0,
             "ticks": ""
            },
            "colorscale": [
             [
              0,
              "#0d0887"
             ],
             [
              0.1111111111111111,
              "#46039f"
             ],
             [
              0.2222222222222222,
              "#7201a8"
             ],
             [
              0.3333333333333333,
              "#9c179e"
             ],
             [
              0.4444444444444444,
              "#bd3786"
             ],
             [
              0.5555555555555556,
              "#d8576b"
             ],
             [
              0.6666666666666666,
              "#ed7953"
             ],
             [
              0.7777777777777778,
              "#fb9f3a"
             ],
             [
              0.8888888888888888,
              "#fdca26"
             ],
             [
              1,
              "#f0f921"
             ]
            ],
            "type": "heatmap"
           }
          ],
          "heatmapgl": [
           {
            "colorbar": {
             "outlinewidth": 0,
             "ticks": ""
            },
            "colorscale": [
             [
              0,
              "#0d0887"
             ],
             [
              0.1111111111111111,
              "#46039f"
             ],
             [
              0.2222222222222222,
              "#7201a8"
             ],
             [
              0.3333333333333333,
              "#9c179e"
             ],
             [
              0.4444444444444444,
              "#bd3786"
             ],
             [
              0.5555555555555556,
              "#d8576b"
             ],
             [
              0.6666666666666666,
              "#ed7953"
             ],
             [
              0.7777777777777778,
              "#fb9f3a"
             ],
             [
              0.8888888888888888,
              "#fdca26"
             ],
             [
              1,
              "#f0f921"
             ]
            ],
            "type": "heatmapgl"
           }
          ],
          "histogram": [
           {
            "marker": {
             "pattern": {
              "fillmode": "overlay",
              "size": 10,
              "solidity": 0.2
             }
            },
            "type": "histogram"
           }
          ],
          "histogram2d": [
           {
            "colorbar": {
             "outlinewidth": 0,
             "ticks": ""
            },
            "colorscale": [
             [
              0,
              "#0d0887"
             ],
             [
              0.1111111111111111,
              "#46039f"
             ],
             [
              0.2222222222222222,
              "#7201a8"
             ],
             [
              0.3333333333333333,
              "#9c179e"
             ],
             [
              0.4444444444444444,
              "#bd3786"
             ],
             [
              0.5555555555555556,
              "#d8576b"
             ],
             [
              0.6666666666666666,
              "#ed7953"
             ],
             [
              0.7777777777777778,
              "#fb9f3a"
             ],
             [
              0.8888888888888888,
              "#fdca26"
             ],
             [
              1,
              "#f0f921"
             ]
            ],
            "type": "histogram2d"
           }
          ],
          "histogram2dcontour": [
           {
            "colorbar": {
             "outlinewidth": 0,
             "ticks": ""
            },
            "colorscale": [
             [
              0,
              "#0d0887"
             ],
             [
              0.1111111111111111,
              "#46039f"
             ],
             [
              0.2222222222222222,
              "#7201a8"
             ],
             [
              0.3333333333333333,
              "#9c179e"
             ],
             [
              0.4444444444444444,
              "#bd3786"
             ],
             [
              0.5555555555555556,
              "#d8576b"
             ],
             [
              0.6666666666666666,
              "#ed7953"
             ],
             [
              0.7777777777777778,
              "#fb9f3a"
             ],
             [
              0.8888888888888888,
              "#fdca26"
             ],
             [
              1,
              "#f0f921"
             ]
            ],
            "type": "histogram2dcontour"
           }
          ],
          "mesh3d": [
           {
            "colorbar": {
             "outlinewidth": 0,
             "ticks": ""
            },
            "type": "mesh3d"
           }
          ],
          "parcoords": [
           {
            "line": {
             "colorbar": {
              "outlinewidth": 0,
              "ticks": ""
             }
            },
            "type": "parcoords"
           }
          ],
          "pie": [
           {
            "automargin": true,
            "type": "pie"
           }
          ],
          "scatter": [
           {
            "fillpattern": {
             "fillmode": "overlay",
             "size": 10,
             "solidity": 0.2
            },
            "type": "scatter"
           }
          ],
          "scatter3d": [
           {
            "line": {
             "colorbar": {
              "outlinewidth": 0,
              "ticks": ""
             }
            },
            "marker": {
             "colorbar": {
              "outlinewidth": 0,
              "ticks": ""
             }
            },
            "type": "scatter3d"
           }
          ],
          "scattercarpet": [
           {
            "marker": {
             "colorbar": {
              "outlinewidth": 0,
              "ticks": ""
             }
            },
            "type": "scattercarpet"
           }
          ],
          "scattergeo": [
           {
            "marker": {
             "colorbar": {
              "outlinewidth": 0,
              "ticks": ""
             }
            },
            "type": "scattergeo"
           }
          ],
          "scattergl": [
           {
            "marker": {
             "colorbar": {
              "outlinewidth": 0,
              "ticks": ""
             }
            },
            "type": "scattergl"
           }
          ],
          "scattermapbox": [
           {
            "marker": {
             "colorbar": {
              "outlinewidth": 0,
              "ticks": ""
             }
            },
            "type": "scattermapbox"
           }
          ],
          "scatterpolar": [
           {
            "marker": {
             "colorbar": {
              "outlinewidth": 0,
              "ticks": ""
             }
            },
            "type": "scatterpolar"
           }
          ],
          "scatterpolargl": [
           {
            "marker": {
             "colorbar": {
              "outlinewidth": 0,
              "ticks": ""
             }
            },
            "type": "scatterpolargl"
           }
          ],
          "scatterternary": [
           {
            "marker": {
             "colorbar": {
              "outlinewidth": 0,
              "ticks": ""
             }
            },
            "type": "scatterternary"
           }
          ],
          "surface": [
           {
            "colorbar": {
             "outlinewidth": 0,
             "ticks": ""
            },
            "colorscale": [
             [
              0,
              "#0d0887"
             ],
             [
              0.1111111111111111,
              "#46039f"
             ],
             [
              0.2222222222222222,
              "#7201a8"
             ],
             [
              0.3333333333333333,
              "#9c179e"
             ],
             [
              0.4444444444444444,
              "#bd3786"
             ],
             [
              0.5555555555555556,
              "#d8576b"
             ],
             [
              0.6666666666666666,
              "#ed7953"
             ],
             [
              0.7777777777777778,
              "#fb9f3a"
             ],
             [
              0.8888888888888888,
              "#fdca26"
             ],
             [
              1,
              "#f0f921"
             ]
            ],
            "type": "surface"
           }
          ],
          "table": [
           {
            "cells": {
             "fill": {
              "color": "#EBF0F8"
             },
             "line": {
              "color": "white"
             }
            },
            "header": {
             "fill": {
              "color": "#C8D4E3"
             },
             "line": {
              "color": "white"
             }
            },
            "type": "table"
           }
          ]
         },
         "layout": {
          "annotationdefaults": {
           "arrowcolor": "#2a3f5f",
           "arrowhead": 0,
           "arrowwidth": 1
          },
          "autotypenumbers": "strict",
          "coloraxis": {
           "colorbar": {
            "outlinewidth": 0,
            "ticks": ""
           }
          },
          "colorscale": {
           "diverging": [
            [
             0,
             "#8e0152"
            ],
            [
             0.1,
             "#c51b7d"
            ],
            [
             0.2,
             "#de77ae"
            ],
            [
             0.3,
             "#f1b6da"
            ],
            [
             0.4,
             "#fde0ef"
            ],
            [
             0.5,
             "#f7f7f7"
            ],
            [
             0.6,
             "#e6f5d0"
            ],
            [
             0.7,
             "#b8e186"
            ],
            [
             0.8,
             "#7fbc41"
            ],
            [
             0.9,
             "#4d9221"
            ],
            [
             1,
             "#276419"
            ]
           ],
           "sequential": [
            [
             0,
             "#0d0887"
            ],
            [
             0.1111111111111111,
             "#46039f"
            ],
            [
             0.2222222222222222,
             "#7201a8"
            ],
            [
             0.3333333333333333,
             "#9c179e"
            ],
            [
             0.4444444444444444,
             "#bd3786"
            ],
            [
             0.5555555555555556,
             "#d8576b"
            ],
            [
             0.6666666666666666,
             "#ed7953"
            ],
            [
             0.7777777777777778,
             "#fb9f3a"
            ],
            [
             0.8888888888888888,
             "#fdca26"
            ],
            [
             1,
             "#f0f921"
            ]
           ],
           "sequentialminus": [
            [
             0,
             "#0d0887"
            ],
            [
             0.1111111111111111,
             "#46039f"
            ],
            [
             0.2222222222222222,
             "#7201a8"
            ],
            [
             0.3333333333333333,
             "#9c179e"
            ],
            [
             0.4444444444444444,
             "#bd3786"
            ],
            [
             0.5555555555555556,
             "#d8576b"
            ],
            [
             0.6666666666666666,
             "#ed7953"
            ],
            [
             0.7777777777777778,
             "#fb9f3a"
            ],
            [
             0.8888888888888888,
             "#fdca26"
            ],
            [
             1,
             "#f0f921"
            ]
           ]
          },
          "colorway": [
           "#636efa",
           "#EF553B",
           "#00cc96",
           "#ab63fa",
           "#FFA15A",
           "#19d3f3",
           "#FF6692",
           "#B6E880",
           "#FF97FF",
           "#FECB52"
          ],
          "font": {
           "color": "#2a3f5f"
          },
          "geo": {
           "bgcolor": "white",
           "lakecolor": "white",
           "landcolor": "#E5ECF6",
           "showlakes": true,
           "showland": true,
           "subunitcolor": "white"
          },
          "hoverlabel": {
           "align": "left"
          },
          "hovermode": "closest",
          "mapbox": {
           "style": "light"
          },
          "paper_bgcolor": "white",
          "plot_bgcolor": "#E5ECF6",
          "polar": {
           "angularaxis": {
            "gridcolor": "white",
            "linecolor": "white",
            "ticks": ""
           },
           "bgcolor": "#E5ECF6",
           "radialaxis": {
            "gridcolor": "white",
            "linecolor": "white",
            "ticks": ""
           }
          },
          "scene": {
           "xaxis": {
            "backgroundcolor": "#E5ECF6",
            "gridcolor": "white",
            "gridwidth": 2,
            "linecolor": "white",
            "showbackground": true,
            "ticks": "",
            "zerolinecolor": "white"
           },
           "yaxis": {
            "backgroundcolor": "#E5ECF6",
            "gridcolor": "white",
            "gridwidth": 2,
            "linecolor": "white",
            "showbackground": true,
            "ticks": "",
            "zerolinecolor": "white"
           },
           "zaxis": {
            "backgroundcolor": "#E5ECF6",
            "gridcolor": "white",
            "gridwidth": 2,
            "linecolor": "white",
            "showbackground": true,
            "ticks": "",
            "zerolinecolor": "white"
           }
          },
          "shapedefaults": {
           "line": {
            "color": "#2a3f5f"
           }
          },
          "ternary": {
           "aaxis": {
            "gridcolor": "white",
            "linecolor": "white",
            "ticks": ""
           },
           "baxis": {
            "gridcolor": "white",
            "linecolor": "white",
            "ticks": ""
           },
           "bgcolor": "#E5ECF6",
           "caxis": {
            "gridcolor": "white",
            "linecolor": "white",
            "ticks": ""
           }
          },
          "title": {
           "x": 0.05
          },
          "xaxis": {
           "automargin": true,
           "gridcolor": "white",
           "linecolor": "white",
           "ticks": "",
           "title": {
            "standoff": 15
           },
           "zerolinecolor": "white",
           "zerolinewidth": 2
          },
          "yaxis": {
           "automargin": true,
           "gridcolor": "white",
           "linecolor": "white",
           "ticks": "",
           "title": {
            "standoff": 15
           },
           "zerolinecolor": "white",
           "zerolinewidth": 2
          }
         }
        },
        "title": {
         "text": "Log Duration of Outages (Percentage)"
        },
        "xaxis": {
         "anchor": "y",
         "domain": [
          0,
          1
         ],
         "tickangle": -45,
         "title": {
          "text": "Duration (minutes, approx)"
         }
        },
        "yaxis": {
         "anchor": "x",
         "domain": [
          0,
          1
         ],
         "title": {
          "text": "Percent of Outages"
         }
        }
       }
      }
     },
     "metadata": {},
     "output_type": "display_data"
    }
   ],
   "source": [
    "duration = outage['duration']\n",
    "duration = pd.to_numeric(duration, errors='coerce').dropna()\n",
    "duration = duration[duration > 0]  # log can't handle zero or negative\n",
    "\n",
    "log_duration = np.log10(duration)\n",
    "df = pd.DataFrame({'log_duration': log_duration})\n",
    "\n",
    "# Create bins manually\n",
    "bin_edges = np.linspace(log_duration.min(), log_duration.max(), 30)\n",
    "df['bin'] = pd.cut(df['log_duration'], bins=bin_edges, include_lowest=True)\n",
    "# Calculate counts per bin\n",
    "bin_counts = df['bin'].value_counts().sort_index()\n",
    "bin_centers = [interval.mid for interval in bin_counts.index]\n",
    "\n",
    "\n",
    "hist_df = pd.DataFrame({\n",
    "    'bin_center': bin_centers,\n",
    "    'count': bin_counts.values\n",
    "})\n",
    "total_outages = df['log_duration'].notna().sum()\n",
    "hist_df['percent'] = (hist_df['count'] / total_outages) * 100\n",
    "\n",
    "\n",
    "# Make the minutes human readable \n",
    "def human_readable(mins):\n",
    "    if mins >= (7 * 1440): \n",
    "        return f\"{round(mins / (7 * 1440))} weeks\"\n",
    "    elif mins >= 1440:\n",
    "        return f\"{round(mins / 1440)}d\"\n",
    "    elif mins >= 60:\n",
    "        return f\"{round(mins / 60)}h\"\n",
    "    else:\n",
    "        return f\"{int(round(mins))} min\"\n",
    "\n",
    "hist_df['bin_label'] = [\n",
    "    f\"{human_readable(10**interval.left)} –{human_readable(10**interval.right)}\"\n",
    "    for interval in bin_counts.index\n",
    "]\n",
    "\n",
    "tick_vals = hist_df['bin_center']\n",
    "tick_text = [f\"{int(np.expm1(x))}\" for x in tick_vals]\n",
    "\n",
    "fig = px.bar(\n",
    "    hist_df,\n",
    "    x='bin_label',\n",
    "    y='percent',\n",
    "    color='bin_center',\n",
    "    color_continuous_scale=px.colors.sequential.Blackbody,\n",
    "    labels={'bin_label': 'Duration Range', 'percent': 'Percent of Outages'},\n",
    "    title='Log Duration of Outages (Percentage)'\n",
    ")\n",
    "\n",
    "fig.update_layout(\n",
    "    plot_bgcolor=\"#d0d5e6\",\n",
    "    xaxis_title='Duration (minutes, approx)',\n",
    "    xaxis_tickangle=-45\n",
    ")\n",
    "\n",
    "fig.update_traces(\n",
    "    hovertemplate=\n",
    "        'Duration Range: %{x}<br>' +\n",
    "        'Percent of Outages: %{y:.2f}%<extra></extra>'\n",
    ")\n",
    "\n",
    "fig.show()\n",
    "\n"
   ]
  },
  {
   "cell_type": "markdown",
   "metadata": {},
   "source": [
    "#### Cause detail wordcloud "
   ]
  },
  {
   "cell_type": "code",
   "execution_count": 15,
   "metadata": {},
   "outputs": [
    {
     "data": {
      "application/vnd.plotly.v1+json": {
       "config": {
        "plotlyServerURL": "https://plot.ly"
       },
       "data": [
        {
         "hovertemplate": "x: %{x}<br>y: %{y}<br>color: [%{z[0]}, %{z[1]}, %{z[2]}]<extra></extra>",
         "name": "0",
         "source": "data:image/png;base64,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",
         "type": "image",
         "xaxis": "x",
         "yaxis": "y"
        }
       ],
       "layout": {
        "margin": {
         "b": 10,
         "l": 10,
         "r": 10,
         "t": 40
        },
        "template": {
         "data": {
          "bar": [
           {
            "error_x": {
             "color": "#2a3f5f"
            },
            "error_y": {
             "color": "#2a3f5f"
            },
            "marker": {
             "line": {
              "color": "#E5ECF6",
              "width": 0.5
             },
             "pattern": {
              "fillmode": "overlay",
              "size": 10,
              "solidity": 0.2
             }
            },
            "type": "bar"
           }
          ],
          "barpolar": [
           {
            "marker": {
             "line": {
              "color": "#E5ECF6",
              "width": 0.5
             },
             "pattern": {
              "fillmode": "overlay",
              "size": 10,
              "solidity": 0.2
             }
            },
            "type": "barpolar"
           }
          ],
          "carpet": [
           {
            "aaxis": {
             "endlinecolor": "#2a3f5f",
             "gridcolor": "white",
             "linecolor": "white",
             "minorgridcolor": "white",
             "startlinecolor": "#2a3f5f"
            },
            "baxis": {
             "endlinecolor": "#2a3f5f",
             "gridcolor": "white",
             "linecolor": "white",
             "minorgridcolor": "white",
             "startlinecolor": "#2a3f5f"
            },
            "type": "carpet"
           }
          ],
          "choropleth": [
           {
            "colorbar": {
             "outlinewidth": 0,
             "ticks": ""
            },
            "type": "choropleth"
           }
          ],
          "contour": [
           {
            "colorbar": {
             "outlinewidth": 0,
             "ticks": ""
            },
            "colorscale": [
             [
              0,
              "#0d0887"
             ],
             [
              0.1111111111111111,
              "#46039f"
             ],
             [
              0.2222222222222222,
              "#7201a8"
             ],
             [
              0.3333333333333333,
              "#9c179e"
             ],
             [
              0.4444444444444444,
              "#bd3786"
             ],
             [
              0.5555555555555556,
              "#d8576b"
             ],
             [
              0.6666666666666666,
              "#ed7953"
             ],
             [
              0.7777777777777778,
              "#fb9f3a"
             ],
             [
              0.8888888888888888,
              "#fdca26"
             ],
             [
              1,
              "#f0f921"
             ]
            ],
            "type": "contour"
           }
          ],
          "contourcarpet": [
           {
            "colorbar": {
             "outlinewidth": 0,
             "ticks": ""
            },
            "type": "contourcarpet"
           }
          ],
          "heatmap": [
           {
            "colorbar": {
             "outlinewidth": 0,
             "ticks": ""
            },
            "colorscale": [
             [
              0,
              "#0d0887"
             ],
             [
              0.1111111111111111,
              "#46039f"
             ],
             [
              0.2222222222222222,
              "#7201a8"
             ],
             [
              0.3333333333333333,
              "#9c179e"
             ],
             [
              0.4444444444444444,
              "#bd3786"
             ],
             [
              0.5555555555555556,
              "#d8576b"
             ],
             [
              0.6666666666666666,
              "#ed7953"
             ],
             [
              0.7777777777777778,
              "#fb9f3a"
             ],
             [
              0.8888888888888888,
              "#fdca26"
             ],
             [
              1,
              "#f0f921"
             ]
            ],
            "type": "heatmap"
           }
          ],
          "heatmapgl": [
           {
            "colorbar": {
             "outlinewidth": 0,
             "ticks": ""
            },
            "colorscale": [
             [
              0,
              "#0d0887"
             ],
             [
              0.1111111111111111,
              "#46039f"
             ],
             [
              0.2222222222222222,
              "#7201a8"
             ],
             [
              0.3333333333333333,
              "#9c179e"
             ],
             [
              0.4444444444444444,
              "#bd3786"
             ],
             [
              0.5555555555555556,
              "#d8576b"
             ],
             [
              0.6666666666666666,
              "#ed7953"
             ],
             [
              0.7777777777777778,
              "#fb9f3a"
             ],
             [
              0.8888888888888888,
              "#fdca26"
             ],
             [
              1,
              "#f0f921"
             ]
            ],
            "type": "heatmapgl"
           }
          ],
          "histogram": [
           {
            "marker": {
             "pattern": {
              "fillmode": "overlay",
              "size": 10,
              "solidity": 0.2
             }
            },
            "type": "histogram"
           }
          ],
          "histogram2d": [
           {
            "colorbar": {
             "outlinewidth": 0,
             "ticks": ""
            },
            "colorscale": [
             [
              0,
              "#0d0887"
             ],
             [
              0.1111111111111111,
              "#46039f"
             ],
             [
              0.2222222222222222,
              "#7201a8"
             ],
             [
              0.3333333333333333,
              "#9c179e"
             ],
             [
              0.4444444444444444,
              "#bd3786"
             ],
             [
              0.5555555555555556,
              "#d8576b"
             ],
             [
              0.6666666666666666,
              "#ed7953"
             ],
             [
              0.7777777777777778,
              "#fb9f3a"
             ],
             [
              0.8888888888888888,
              "#fdca26"
             ],
             [
              1,
              "#f0f921"
             ]
            ],
            "type": "histogram2d"
           }
          ],
          "histogram2dcontour": [
           {
            "colorbar": {
             "outlinewidth": 0,
             "ticks": ""
            },
            "colorscale": [
             [
              0,
              "#0d0887"
             ],
             [
              0.1111111111111111,
              "#46039f"
             ],
             [
              0.2222222222222222,
              "#7201a8"
             ],
             [
              0.3333333333333333,
              "#9c179e"
             ],
             [
              0.4444444444444444,
              "#bd3786"
             ],
             [
              0.5555555555555556,
              "#d8576b"
             ],
             [
              0.6666666666666666,
              "#ed7953"
             ],
             [
              0.7777777777777778,
              "#fb9f3a"
             ],
             [
              0.8888888888888888,
              "#fdca26"
             ],
             [
              1,
              "#f0f921"
             ]
            ],
            "type": "histogram2dcontour"
           }
          ],
          "mesh3d": [
           {
            "colorbar": {
             "outlinewidth": 0,
             "ticks": ""
            },
            "type": "mesh3d"
           }
          ],
          "parcoords": [
           {
            "line": {
             "colorbar": {
              "outlinewidth": 0,
              "ticks": ""
             }
            },
            "type": "parcoords"
           }
          ],
          "pie": [
           {
            "automargin": true,
            "type": "pie"
           }
          ],
          "scatter": [
           {
            "fillpattern": {
             "fillmode": "overlay",
             "size": 10,
             "solidity": 0.2
            },
            "type": "scatter"
           }
          ],
          "scatter3d": [
           {
            "line": {
             "colorbar": {
              "outlinewidth": 0,
              "ticks": ""
             }
            },
            "marker": {
             "colorbar": {
              "outlinewidth": 0,
              "ticks": ""
             }
            },
            "type": "scatter3d"
           }
          ],
          "scattercarpet": [
           {
            "marker": {
             "colorbar": {
              "outlinewidth": 0,
              "ticks": ""
             }
            },
            "type": "scattercarpet"
           }
          ],
          "scattergeo": [
           {
            "marker": {
             "colorbar": {
              "outlinewidth": 0,
              "ticks": ""
             }
            },
            "type": "scattergeo"
           }
          ],
          "scattergl": [
           {
            "marker": {
             "colorbar": {
              "outlinewidth": 0,
              "ticks": ""
             }
            },
            "type": "scattergl"
           }
          ],
          "scattermapbox": [
           {
            "marker": {
             "colorbar": {
              "outlinewidth": 0,
              "ticks": ""
             }
            },
            "type": "scattermapbox"
           }
          ],
          "scatterpolar": [
           {
            "marker": {
             "colorbar": {
              "outlinewidth": 0,
              "ticks": ""
             }
            },
            "type": "scatterpolar"
           }
          ],
          "scatterpolargl": [
           {
            "marker": {
             "colorbar": {
              "outlinewidth": 0,
              "ticks": ""
             }
            },
            "type": "scatterpolargl"
           }
          ],
          "scatterternary": [
           {
            "marker": {
             "colorbar": {
              "outlinewidth": 0,
              "ticks": ""
             }
            },
            "type": "scatterternary"
           }
          ],
          "surface": [
           {
            "colorbar": {
             "outlinewidth": 0,
             "ticks": ""
            },
            "colorscale": [
             [
              0,
              "#0d0887"
             ],
             [
              0.1111111111111111,
              "#46039f"
             ],
             [
              0.2222222222222222,
              "#7201a8"
             ],
             [
              0.3333333333333333,
              "#9c179e"
             ],
             [
              0.4444444444444444,
              "#bd3786"
             ],
             [
              0.5555555555555556,
              "#d8576b"
             ],
             [
              0.6666666666666666,
              "#ed7953"
             ],
             [
              0.7777777777777778,
              "#fb9f3a"
             ],
             [
              0.8888888888888888,
              "#fdca26"
             ],
             [
              1,
              "#f0f921"
             ]
            ],
            "type": "surface"
           }
          ],
          "table": [
           {
            "cells": {
             "fill": {
              "color": "#EBF0F8"
             },
             "line": {
              "color": "white"
             }
            },
            "header": {
             "fill": {
              "color": "#C8D4E3"
             },
             "line": {
              "color": "white"
             }
            },
            "type": "table"
           }
          ]
         },
         "layout": {
          "annotationdefaults": {
           "arrowcolor": "#2a3f5f",
           "arrowhead": 0,
           "arrowwidth": 1
          },
          "autotypenumbers": "strict",
          "coloraxis": {
           "colorbar": {
            "outlinewidth": 0,
            "ticks": ""
           }
          },
          "colorscale": {
           "diverging": [
            [
             0,
             "#8e0152"
            ],
            [
             0.1,
             "#c51b7d"
            ],
            [
             0.2,
             "#de77ae"
            ],
            [
             0.3,
             "#f1b6da"
            ],
            [
             0.4,
             "#fde0ef"
            ],
            [
             0.5,
             "#f7f7f7"
            ],
            [
             0.6,
             "#e6f5d0"
            ],
            [
             0.7,
             "#b8e186"
            ],
            [
             0.8,
             "#7fbc41"
            ],
            [
             0.9,
             "#4d9221"
            ],
            [
             1,
             "#276419"
            ]
           ],
           "sequential": [
            [
             0,
             "#0d0887"
            ],
            [
             0.1111111111111111,
             "#46039f"
            ],
            [
             0.2222222222222222,
             "#7201a8"
            ],
            [
             0.3333333333333333,
             "#9c179e"
            ],
            [
             0.4444444444444444,
             "#bd3786"
            ],
            [
             0.5555555555555556,
             "#d8576b"
            ],
            [
             0.6666666666666666,
             "#ed7953"
            ],
            [
             0.7777777777777778,
             "#fb9f3a"
            ],
            [
             0.8888888888888888,
             "#fdca26"
            ],
            [
             1,
             "#f0f921"
            ]
           ],
           "sequentialminus": [
            [
             0,
             "#0d0887"
            ],
            [
             0.1111111111111111,
             "#46039f"
            ],
            [
             0.2222222222222222,
             "#7201a8"
            ],
            [
             0.3333333333333333,
             "#9c179e"
            ],
            [
             0.4444444444444444,
             "#bd3786"
            ],
            [
             0.5555555555555556,
             "#d8576b"
            ],
            [
             0.6666666666666666,
             "#ed7953"
            ],
            [
             0.7777777777777778,
             "#fb9f3a"
            ],
            [
             0.8888888888888888,
             "#fdca26"
            ],
            [
             1,
             "#f0f921"
            ]
           ]
          },
          "colorway": [
           "#636efa",
           "#EF553B",
           "#00cc96",
           "#ab63fa",
           "#FFA15A",
           "#19d3f3",
           "#FF6692",
           "#B6E880",
           "#FF97FF",
           "#FECB52"
          ],
          "font": {
           "color": "#2a3f5f"
          },
          "geo": {
           "bgcolor": "white",
           "lakecolor": "white",
           "landcolor": "#E5ECF6",
           "showlakes": true,
           "showland": true,
           "subunitcolor": "white"
          },
          "hoverlabel": {
           "align": "left"
          },
          "hovermode": "closest",
          "mapbox": {
           "style": "light"
          },
          "paper_bgcolor": "white",
          "plot_bgcolor": "#E5ECF6",
          "polar": {
           "angularaxis": {
            "gridcolor": "white",
            "linecolor": "white",
            "ticks": ""
           },
           "bgcolor": "#E5ECF6",
           "radialaxis": {
            "gridcolor": "white",
            "linecolor": "white",
            "ticks": ""
           }
          },
          "scene": {
           "xaxis": {
            "backgroundcolor": "#E5ECF6",
            "gridcolor": "white",
            "gridwidth": 2,
            "linecolor": "white",
            "showbackground": true,
            "ticks": "",
            "zerolinecolor": "white"
           },
           "yaxis": {
            "backgroundcolor": "#E5ECF6",
            "gridcolor": "white",
            "gridwidth": 2,
            "linecolor": "white",
            "showbackground": true,
            "ticks": "",
            "zerolinecolor": "white"
           },
           "zaxis": {
            "backgroundcolor": "#E5ECF6",
            "gridcolor": "white",
            "gridwidth": 2,
            "linecolor": "white",
            "showbackground": true,
            "ticks": "",
            "zerolinecolor": "white"
           }
          },
          "shapedefaults": {
           "line": {
            "color": "#2a3f5f"
           }
          },
          "ternary": {
           "aaxis": {
            "gridcolor": "white",
            "linecolor": "white",
            "ticks": ""
           },
           "baxis": {
            "gridcolor": "white",
            "linecolor": "white",
            "ticks": ""
           },
           "bgcolor": "#E5ECF6",
           "caxis": {
            "gridcolor": "white",
            "linecolor": "white",
            "ticks": ""
           }
          },
          "title": {
           "x": 0.05
          },
          "xaxis": {
           "automargin": true,
           "gridcolor": "white",
           "linecolor": "white",
           "ticks": "",
           "title": {
            "standoff": 15
           },
           "zerolinecolor": "white",
           "zerolinewidth": 2
          },
          "yaxis": {
           "automargin": true,
           "gridcolor": "white",
           "linecolor": "white",
           "ticks": "",
           "title": {
            "standoff": 15
           },
           "zerolinecolor": "white",
           "zerolinewidth": 2
          }
         }
        },
        "title": {
         "text": "Word Cloud of Causes of Outages"
        },
        "xaxis": {
         "anchor": "y",
         "domain": [
          0,
          1
         ],
         "showticklabels": false
        },
        "yaxis": {
         "anchor": "x",
         "domain": [
          0,
          1
         ],
         "showticklabels": false
        }
       }
      }
     },
     "metadata": {},
     "output_type": "display_data"
    }
   ],
   "source": [
    "raw.cause_detail\n",
    "text = ' '.join(\n",
    "    raw['cause_detail']\n",
    "    .dropna()\n",
    "    .astype(str)\n",
    "    .str.lower()\n",
    "    .str.strip()\n",
    "    .str.replace(r'[^\\w\\s]', '', regex=True)  # Remove punctuation\n",
    "    .str.replace(r'\\s+', ' ', regex=True)\n",
    ")\n",
    "wordcloud = WordCloud(\n",
    "    # colormap='gnuplot2',\n",
    "    font_path='Impact',\n",
    "    colormap='cool',\n",
    "    width=800,\n",
    "    height=400,\n",
    "    background_color='white',\n",
    "    collocations=False,  # Prevent phrases from being split\n",
    "    random_state=42 \n",
    ").generate(text)\n",
    "wc_array = np.array(wordcloud.to_image())\n",
    "\n",
    "fig = px.imshow(wc_array)\n",
    "fig.update_layout(\n",
    "    title=\"Word Cloud of Causes of Outages\",\n",
    "    xaxis=dict(showticklabels=False),\n",
    "    yaxis=dict(showticklabels=False),\n",
    "    margin=dict(l=10, r=10, t=40, b=10)\n",
    ")\n",
    "fig.show()"
   ]
  },
  {
   "cell_type": "markdown",
   "metadata": {},
   "source": [
    "## Bivariate Analysis"
   ]
  },
  {
   "cell_type": "code",
   "execution_count": 16,
   "metadata": {},
   "outputs": [
    {
     "data": {
      "application/vnd.plotly.v1+json": {
       "config": {
        "plotlyServerURL": "https://plot.ly"
       },
       "data": [
        {
         "alignmentgroup": "True",
         "hovertemplate": "state=%{x}<br>anomaly_level=%{y}<extra></extra>",
         "legendgroup": "MN",
         "marker": {
          "color": "#636efa"
         },
         "name": "MN",
         "notched": false,
         "offsetgroup": "MN",
         "orientation": "v",
         "showlegend": true,
         "type": "box",
         "x": [
          "MN",
          "MN",
          "MN",
          "MN",
          "MN",
          "MN",
          "MN",
          "MN",
          "MN",
          "MN",
          "MN",
          "MN",
          "MN",
          "MN",
          "MN"
         ],
         "x0": " ",
         "xaxis": "x",
         "y": [
          "-0.3",
          "-0.1",
          "-1.5",
          "-0.1",
          "1.2",
          "-1.4",
          "-0.9",
          "0.2",
          "0.6",
          "-0.2",
          "-0.2",
          "0",
          "-0.3",
          "-0.4",
          "0"
         ],
         "y0": " ",
         "yaxis": "y"
        },
        {
         "alignmentgroup": "True",
         "hovertemplate": "state=%{x}<br>anomaly_level=%{y}<extra></extra>",
         "legendgroup": "TN",
         "marker": {
          "color": "#EF553B"
         },
         "name": "TN",
         "notched": false,
         "offsetgroup": "TN",
         "orientation": "v",
         "showlegend": true,
         "type": "box",
         "x": [
          "TN",
          "TN",
          "TN",
          "TN",
          "TN",
          "TN",
          "TN",
          "TN",
          "TN",
          "TN",
          "TN",
          "TN",
          "TN",
          "TN",
          "TN",
          "TN",
          "TN",
          "TN",
          "TN",
          "TN",
          "TN",
          "TN",
          "TN",
          "TN",
          "TN",
          "TN",
          "TN",
          "TN",
          "TN",
          "TN",
          "TN",
          "TN",
          "TN",
          "TN"
         ],
         "x0": " ",
         "xaxis": "x",
         "y": [
          "1",
          "0.3",
          "1",
          "-0.5",
          "-1.3",
          "0.6",
          "0.1",
          "1.2",
          "-0.2",
          "-0.5",
          "0.5",
          "-0.3",
          "-0.5",
          "0",
          "-0.1",
          "0",
          "-0.5",
          "0.8",
          "0.5",
          "0",
          "-0.5",
          "-0.3",
          "-0.5",
          "0.6",
          "-0.4",
          "-0.5",
          "0.4",
          "-0.4",
          "-0.5",
          "-0.5",
          "0",
          "-0.5",
          "1.1",
          "-0.7"
         ],
         "y0": " ",
         "yaxis": "y"
        },
        {
         "alignmentgroup": "True",
         "hovertemplate": "state=%{x}<br>anomaly_level=%{y}<extra></extra>",
         "legendgroup": "WI",
         "marker": {
          "color": "#00cc96"
         },
         "name": "WI",
         "notched": false,
         "offsetgroup": "WI",
         "orientation": "v",
         "showlegend": true,
         "type": "box",
         "x": [
          "WI",
          "WI",
          "WI",
          "WI",
          "WI",
          "WI",
          "WI",
          "WI",
          "WI",
          "WI",
          "WI",
          "WI",
          "WI",
          "WI",
          "WI",
          "WI",
          "WI",
          "WI",
          "WI",
          "WI"
         ],
         "x0": " ",
         "xaxis": "x",
         "y": [
          "0",
          "-0.5",
          "-0.5",
          "-0.3",
          "-0.5",
          "-0.2",
          "0.1",
          "-0.5",
          "2.2",
          "0",
          "-1.2",
          "-1.5",
          "0",
          "-0.5",
          "-0.4",
          "0",
          "-0.3",
          "-0.5",
          "-0.3",
          "-0.5"
         ],
         "y0": " ",
         "yaxis": "y"
        },
        {
         "alignmentgroup": "True",
         "hovertemplate": "state=%{x}<br>anomaly_level=%{y}<extra></extra>",
         "legendgroup": "WV",
         "marker": {
          "color": "#ab63fa"
         },
         "name": "WV",
         "notched": false,
         "offsetgroup": "WV",
         "orientation": "v",
         "showlegend": true,
         "type": "box",
         "x": [
          "WV",
          "WV",
          "WV",
          "WV"
         ],
         "x0": " ",
         "xaxis": "x",
         "y": [
          "0.6",
          "0",
          "0.3",
          "-0.1"
         ],
         "y0": " ",
         "yaxis": "y"
        },
        {
         "alignmentgroup": "True",
         "hovertemplate": "state=%{x}<br>anomaly_level=%{y}<extra></extra>",
         "legendgroup": "MI",
         "marker": {
          "color": "#FFA15A"
         },
         "name": "MI",
         "notched": false,
         "offsetgroup": "MI",
         "orientation": "v",
         "showlegend": true,
         "type": "box",
         "x": [
          "MI",
          "MI",
          "MI",
          "MI",
          "MI",
          "MI",
          "MI",
          "MI",
          "MI",
          "MI",
          "MI",
          "MI",
          "MI",
          "MI",
          "MI",
          "MI",
          "MI",
          "MI",
          "MI",
          "MI",
          "MI",
          "MI",
          "MI",
          "MI",
          "MI",
          "MI",
          "MI",
          "MI",
          "MI",
          "MI",
          "MI",
          "MI",
          "MI",
          "MI",
          "MI",
          "MI",
          "MI",
          "MI",
          "MI",
          "MI",
          "MI",
          "MI",
          "MI",
          "MI",
          "MI",
          "MI",
          "MI",
          "MI",
          "MI",
          "MI",
          "MI",
          "MI",
          "MI",
          "MI",
          "MI",
          "MI",
          "MI",
          "MI",
          "MI",
          "MI",
          "MI",
          "MI",
          "MI",
          "MI",
          "MI",
          "MI",
          "MI",
          "MI",
          "MI",
          "MI",
          "MI",
          "MI",
          "MI",
          "MI",
          "MI",
          "MI",
          "MI",
          "MI",
          "MI",
          "MI",
          "MI",
          "MI",
          "MI",
          "MI",
          "MI",
          "MI",
          "MI",
          "MI",
          "MI",
          "MI",
          "MI",
          "MI",
          "MI",
          "MI",
          "MI"
         ],
         "x0": " ",
         "xaxis": "x",
         "y": [
          "-0.4",
          "0",
          "0.3",
          "-0.3",
          "2",
          "-0.4",
          "0.2",
          "0",
          "-0.4",
          "-0.4",
          "-0.2",
          "-0.4",
          "-0.1",
          "-1.3",
          "2.2",
          "-0.4",
          "0.9",
          "0.2",
          "0.4",
          "0.2",
          "-0.3",
          "-0.5",
          "0.1",
          "-1",
          "-1.3",
          "-0.3",
          "0.3",
          "-0.1",
          "0.2",
          "1.4",
          "-0.3",
          "-0.7",
          "0.1",
          "-0.7",
          "1",
          "0.2",
          "-0.3",
          "-1.5",
          "-1.4",
          "0.7",
          "1.3",
          "1.7",
          "-0.5",
          "-0.6",
          "-0.2",
          "0.5",
          "-1.2",
          "-0.4",
          "-0.5",
          "-0.4",
          "-0.3",
          "-0.4",
          "-0.2",
          "-1.4",
          "-0.4",
          "0.2",
          "-0.9",
          "-0.4",
          "-0.7",
          "-0.5",
          "-0.4",
          "0.2",
          "0",
          "-0.2",
          "-0.5",
          "-0.9",
          "0.2",
          "-0.3",
          "-0.2",
          "0.3",
          "-0.3",
          "-0.9",
          "0.2",
          "-0.2",
          "-0.3",
          "0.7",
          "-0.6",
          "1.4",
          "-0.4",
          "0.4",
          "-0.5",
          "0.1",
          "0.1",
          "0.5",
          "-0.9",
          "2.3",
          "-0.4",
          "-0.3",
          "-0.3",
          "0.7",
          "-1.4",
          "-0.2",
          "-0.4",
          "-0.8",
          "-0.6"
         ],
         "y0": " ",
         "yaxis": "y"
        },
        {
         "alignmentgroup": "True",
         "hovertemplate": "state=%{x}<br>anomaly_level=%{y}<extra></extra>",
         "legendgroup": "TX",
         "marker": {
          "color": "#19d3f3"
         },
         "name": "TX",
         "notched": false,
         "offsetgroup": "TX",
         "orientation": "v",
         "showlegend": true,
         "type": "box",
         "x": [
          "TX",
          "TX",
          "TX",
          "TX",
          "TX",
          "TX",
          "TX",
          "TX",
          "TX",
          "TX",
          "TX",
          "TX",
          "TX",
          "TX",
          "TX",
          "TX",
          "TX",
          "TX",
          "TX",
          "TX",
          "TX",
          "TX",
          "TX",
          "TX",
          "TX",
          "TX",
          "TX",
          "TX",
          "TX",
          "TX",
          "TX",
          "TX",
          "TX",
          "TX",
          "TX",
          "TX",
          "TX",
          "TX",
          "TX",
          "TX",
          "TX",
          "TX",
          "TX",
          "TX",
          "TX",
          "TX",
          "TX",
          "TX",
          "TX",
          "TX",
          "TX",
          "TX",
          "TX",
          "TX",
          "TX",
          "TX",
          "TX",
          "TX",
          "TX",
          "TX",
          "TX",
          "TX",
          "TX",
          "TX",
          "TX",
          "TX",
          "TX",
          "TX",
          "TX",
          "TX",
          "TX",
          "TX",
          "TX",
          "TX",
          "TX",
          "TX",
          "TX",
          "TX",
          "TX",
          "TX",
          "TX",
          "TX",
          "TX",
          "TX",
          "TX",
          "TX",
          "TX",
          "TX",
          "TX",
          "TX",
          "TX",
          "TX",
          "TX",
          "TX",
          "TX",
          "TX",
          "TX",
          "TX",
          "TX",
          "TX",
          "TX",
          "TX",
          "TX",
          "TX",
          "TX",
          "TX",
          "TX",
          "TX",
          "TX",
          "TX",
          "TX",
          "TX",
          "TX",
          "TX",
          "TX",
          "TX",
          "TX",
          "TX",
          "TX",
          "TX",
          "TX",
          "TX",
          "TX",
          "TX",
          "TX",
          "TX"
         ],
         "x0": " ",
         "xaxis": "x",
         "y": [
          "1.2",
          "-1",
          "-1",
          "-0.3",
          "0.3",
          "-0.5",
          "-0.5",
          "0.6",
          "0.7",
          "0.8",
          "0",
          "-0.2",
          "-0.4",
          "-0.4",
          "-0.9",
          "1.4",
          "-0.9",
          "-0.3",
          "0.1",
          "-0.7",
          "1",
          "-0.4",
          "0.7",
          "-0.3",
          "-0.2",
          "-0.6",
          "-0.6",
          "-0.2",
          "0.6",
          "0",
          "-0.7",
          "0.6",
          "0",
          "0.1",
          "-0.3",
          "-0.5",
          "2",
          "-1",
          "0.6",
          "-0.2",
          "-0.5",
          "2",
          "-0.9",
          "-0.2",
          "-0.3",
          "-0.7",
          "0.5",
          "1.1",
          "-0.6",
          "-0.4",
          "-0.3",
          "-0.3",
          "0.1",
          "0.9",
          "0.2",
          "0.1",
          "1.1",
          "0.5",
          "-0.7",
          "0.7",
          "-0.3",
          "-0.3",
          "-0.7",
          "1.2",
          "0",
          "0",
          "0.4",
          "-1.1",
          "-1",
          "-0.2",
          "-0.1",
          "-0.3",
          "0.1",
          "-0.2",
          "1.2",
          "-0.9",
          "0.5",
          "-0.5",
          "-0.3",
          "-0.3",
          "-1.4",
          "-0.4",
          "0.5",
          "-0.1",
          "-0.1",
          "-0.5",
          "0.7",
          "-1.3",
          "0.5",
          "-0.4",
          "0.5",
          "-0.5",
          "-0.6",
          "0.2",
          "-0.4",
          "-0.3",
          "-0.6",
          "0.8",
          "0.3",
          "-0.3",
          "-0.2",
          "0.8",
          "-0.3",
          "-0.1",
          "-0.3",
          "-0.3",
          "-0.5",
          "0",
          "0.3",
          "1.2",
          "-0.2",
          "-0.4",
          "-1.2",
          "2.3",
          "1.1",
          "-0.2",
          "0.4",
          "-0.8",
          "0.2",
          "1.4",
          "-0.7",
          "0.5",
          "-0.7",
          "0.3",
          "-0.4",
          "-0.9"
         ],
         "y0": " ",
         "yaxis": "y"
        },
        {
         "alignmentgroup": "True",
         "hovertemplate": "state=%{x}<br>anomaly_level=%{y}<extra></extra>",
         "legendgroup": "IN",
         "marker": {
          "color": "#FF6692"
         },
         "name": "IN",
         "notched": false,
         "offsetgroup": "IN",
         "orientation": "v",
         "showlegend": true,
         "type": "box",
         "x": [
          "IN",
          "IN",
          "IN",
          "IN",
          "IN",
          "IN",
          "IN",
          "IN",
          "IN",
          "IN",
          "IN",
          "IN",
          "IN",
          "IN",
          "IN",
          "IN",
          "IN",
          "IN",
          "IN",
          "IN",
          "IN",
          "IN",
          "IN",
          "IN",
          "IN",
          "IN",
          "IN",
          "IN",
          "IN",
          "IN",
          "IN",
          "IN",
          "IN",
          "IN",
          "IN",
          "IN",
          "IN",
          "IN",
          "IN",
          "IN",
          "IN",
          "IN",
          "IN"
         ],
         "x0": " ",
         "xaxis": "x",
         "y": [
          "0",
          "-0.7",
          "0.5",
          "-0.3",
          "2.2",
          "-0.7",
          "-0.5",
          "-0.7",
          "-0.7",
          "-0.5",
          "-0.1",
          "-0.3",
          "-0.3",
          "-0.3",
          "-0.9",
          "-0.3",
          "-0.1",
          "0.3",
          "0.1",
          "-1",
          "0.7",
          "0.3",
          "-0.4",
          "-0.2",
          "-0.2",
          "-0.4",
          "-0.7",
          "-0.5",
          "-0.9",
          "0.1",
          "-0.4",
          "0.3",
          "-0.3",
          "-0.4",
          "-0.3",
          "-0.3",
          "-0.4",
          "-0.7",
          "-0.7",
          "-0.5",
          "-0.4",
          "-0.4",
          "-0.7"
         ],
         "y0": " ",
         "yaxis": "y"
        },
        {
         "alignmentgroup": "True",
         "hovertemplate": "state=%{x}<br>anomaly_level=%{y}<extra></extra>",
         "legendgroup": "AL",
         "marker": {
          "color": "#B6E880"
         },
         "name": "AL",
         "notched": false,
         "offsetgroup": "AL",
         "orientation": "v",
         "showlegend": true,
         "type": "box",
         "x": [
          "AL",
          "AL",
          "AL",
          "AL",
          "AL"
         ],
         "x0": " ",
         "xaxis": "x",
         "y": [
          "0",
          "-0.8",
          "-0.5",
          "1.2",
          "-0.2"
         ],
         "y0": " ",
         "yaxis": "y"
        },
        {
         "alignmentgroup": "True",
         "hovertemplate": "state=%{x}<br>anomaly_level=%{y}<extra></extra>",
         "legendgroup": "MS",
         "marker": {
          "color": "#FF97FF"
         },
         "name": "MS",
         "notched": false,
         "offsetgroup": "MS",
         "orientation": "v",
         "showlegend": true,
         "type": "box",
         "x": [
          "MS",
          "MS",
          "MS",
          "MS"
         ],
         "x0": " ",
         "xaxis": "x",
         "y": [
          "0",
          "-0.4",
          "-0.1",
          "0.8"
         ],
         "y0": " ",
         "yaxis": "y"
        },
        {
         "alignmentgroup": "True",
         "hovertemplate": "state=%{x}<br>anomaly_level=%{y}<extra></extra>",
         "legendgroup": "IL",
         "marker": {
          "color": "#FECB52"
         },
         "name": "IL",
         "notched": false,
         "offsetgroup": "IL",
         "orientation": "v",
         "showlegend": true,
         "type": "box",
         "x": [
          "IL",
          "IL",
          "IL",
          "IL",
          "IL",
          "IL",
          "IL",
          "IL",
          "IL",
          "IL",
          "IL",
          "IL",
          "IL",
          "IL",
          "IL",
          "IL",
          "IL",
          "IL",
          "IL",
          "IL",
          "IL",
          "IL",
          "IL",
          "IL",
          "IL",
          "IL",
          "IL",
          "IL",
          "IL",
          "IL",
          "IL",
          "IL",
          "IL",
          "IL",
          "IL",
          "IL",
          "IL",
          "IL",
          "IL",
          "IL",
          "IL",
          "IL",
          "IL",
          "IL",
          "IL"
         ],
         "x0": " ",
         "xaxis": "x",
         "y": [
          "-0.4",
          "-0.4",
          "-0.7",
          "-0.6",
          "-0.1",
          "-1.5",
          "0.1",
          "-0.3",
          "0.7",
          "-0.4",
          "0.2",
          "-0.3",
          "0",
          "0.4",
          "0.6",
          "-0.3",
          "0.1",
          "0.1",
          "-0.7",
          "-0.2",
          "-0.3",
          "0.1",
          "-0.3",
          "-0.5",
          "-0.3",
          "-0.6",
          "0.5",
          "-0.4",
          "-1.3",
          "-0.4",
          "1.4",
          "0.3",
          "-0.5",
          "-0.5",
          "-0.5",
          "0.3",
          "-1.5",
          "0.1",
          "-0.3",
          "0.1",
          "-1",
          "-0.3",
          "-0.5",
          "-0.3",
          "0.2"
         ],
         "y0": " ",
         "yaxis": "y"
        },
        {
         "alignmentgroup": "True",
         "hovertemplate": "state=%{x}<br>anomaly_level=%{y}<extra></extra>",
         "legendgroup": "WA",
         "marker": {
          "color": "#636efa"
         },
         "name": "WA",
         "notched": false,
         "offsetgroup": "WA",
         "orientation": "v",
         "showlegend": true,
         "type": "box",
         "x": [
          "WA",
          "WA",
          "WA",
          "WA",
          "WA",
          "WA",
          "WA",
          "WA",
          "WA",
          "WA",
          "WA",
          "WA",
          "WA",
          "WA",
          "WA",
          "WA",
          "WA",
          "WA",
          "WA",
          "WA",
          "WA",
          "WA",
          "WA",
          "WA",
          "WA",
          "WA",
          "WA",
          "WA",
          "WA",
          "WA",
          "WA",
          "WA",
          "WA",
          "WA",
          "WA",
          "WA",
          "WA",
          "WA",
          "WA",
          "WA",
          "WA",
          "WA",
          "WA",
          "WA",
          "WA",
          "WA",
          "WA",
          "WA",
          "WA",
          "WA",
          "WA",
          "WA",
          "WA",
          "WA",
          "WA",
          "WA",
          "WA",
          "WA",
          "WA",
          "WA",
          "WA",
          "WA",
          "WA",
          "WA",
          "WA",
          "WA",
          "WA",
          "WA",
          "WA",
          "WA",
          "WA",
          "WA",
          "WA",
          "WA",
          "WA",
          "WA",
          "WA",
          "WA",
          "WA",
          "WA",
          "WA",
          "WA",
          "WA",
          "WA",
          "WA",
          "WA",
          "WA",
          "WA",
          "WA",
          "WA",
          "WA",
          "WA",
          "WA",
          "WA",
          "WA",
          "WA",
          "WA"
         ],
         "x0": " ",
         "xaxis": "x",
         "y": [
          "-0.5",
          "-0.9",
          "-0.5",
          "-1.4",
          "-0.5",
          "1.4",
          "-0.6",
          "-0.4",
          "-0.4",
          "0.8",
          "-0.2",
          "-0.3",
          "0.3",
          "0.3",
          "0.9",
          "-0.8",
          "-0.9",
          "-0.7",
          "-0.4",
          "1.2",
          "2.3",
          "0.7",
          "-0.4",
          "-0.3",
          "-0.8",
          "-1",
          "-0.9",
          "-0.3",
          "-0.6",
          "0.6",
          "-0.5",
          "-0.8",
          "1.6",
          "1.6",
          "-0.3",
          "-0.6",
          "1.6",
          "-0.3",
          "1.4",
          "-0.5",
          "-0.1",
          "-0.4",
          "1.1",
          "-0.3",
          "-0.2",
          "-1.1",
          "-1",
          "-0.4",
          "-0.7",
          "2.2",
          "-0.3",
          "-0.3",
          "-1.4",
          "-0.5",
          "-1",
          "-0.3",
          "0.3",
          "-0.8",
          "-0.3",
          "-0.3",
          "-0.8",
          "-0.9",
          "1.6",
          "2.2",
          "1.2",
          "0.1",
          "0.9",
          "-0.4",
          "0",
          "-0.6",
          "0.3",
          "-0.3",
          "-0.3",
          "0.6",
          "-0.9",
          "-0.7",
          "-0.9",
          "1",
          "-0.8",
          "-0.3",
          "-0.4",
          "0.9",
          "-0.6",
          "0.9",
          "-0.3",
          "0.9",
          "-0.3",
          "-0.7",
          "-0.4",
          "0.9",
          "-0.3",
          "0.1",
          "-0.6",
          "-0.7",
          "1.4",
          "-0.7",
          "-0.2"
         ],
         "y0": " ",
         "yaxis": "y"
        },
        {
         "alignmentgroup": "True",
         "hovertemplate": "state=%{x}<br>anomaly_level=%{y}<extra></extra>",
         "legendgroup": "AZ",
         "marker": {
          "color": "#EF553B"
         },
         "name": "AZ",
         "notched": false,
         "offsetgroup": "AZ",
         "orientation": "v",
         "showlegend": true,
         "type": "box",
         "x": [
          "AZ",
          "AZ",
          "AZ",
          "AZ",
          "AZ",
          "AZ",
          "AZ",
          "AZ",
          "AZ",
          "AZ",
          "AZ",
          "AZ",
          "AZ",
          "AZ",
          "AZ",
          "AZ",
          "AZ",
          "AZ",
          "AZ",
          "AZ",
          "AZ",
          "AZ",
          "AZ",
          "AZ",
          "AZ",
          "AZ",
          "AZ",
          "AZ"
         ],
         "x0": " ",
         "xaxis": "x",
         "y": [
          "-0.3",
          "0.5",
          "0.5",
          "-0.3",
          "-0.3",
          "0.1",
          "-0.3",
          "-0.3",
          "0.5",
          "1.3",
          "-0.1",
          "-0.5",
          "-0.5",
          "-0.7",
          "0.2",
          "0",
          "2",
          "-0.5",
          "-0.3",
          "-0.5",
          "-0.3",
          "-0.7",
          "0.5",
          "0.5",
          "-1",
          "-0.4",
          "0.3",
          "0.1"
         ],
         "y0": " ",
         "yaxis": "y"
        },
        {
         "alignmentgroup": "True",
         "hovertemplate": "state=%{x}<br>anomaly_level=%{y}<extra></extra>",
         "legendgroup": "MD",
         "marker": {
          "color": "#00cc96"
         },
         "name": "MD",
         "notched": false,
         "offsetgroup": "MD",
         "orientation": "v",
         "showlegend": true,
         "type": "box",
         "x": [
          "MD",
          "MD",
          "MD",
          "MD",
          "MD",
          "MD",
          "MD",
          "MD",
          "MD",
          "MD",
          "MD",
          "MD",
          "MD",
          "MD",
          "MD",
          "MD",
          "MD",
          "MD",
          "MD",
          "MD",
          "MD",
          "MD",
          "MD",
          "MD",
          "MD",
          "MD",
          "MD",
          "MD",
          "MD",
          "MD",
          "MD",
          "MD",
          "MD",
          "MD",
          "MD",
          "MD",
          "MD",
          "MD",
          "MD",
          "MD",
          "MD",
          "MD",
          "MD",
          "MD",
          "MD",
          "MD",
          "MD",
          "MD",
          "MD",
          "MD",
          "MD",
          "MD",
          "MD",
          "MD",
          "MD",
          "MD",
          "MD",
          "MD"
         ],
         "x0": " ",
         "xaxis": "x",
         "y": [
          "-0.1",
          "0.3",
          "-0.6",
          "-0.5",
          "0.7",
          "-0.6",
          "0",
          "-0.4",
          "0.3",
          "-1",
          "0.3",
          "-0.5",
          "-0.9",
          "-0.4",
          "-0.6",
          "0.3",
          "-0.3",
          "0.3",
          "-1",
          "0.1",
          "-0.4",
          "-0.5",
          "0",
          "0.3",
          "-0.9",
          "0.3",
          "0.2",
          "-1.3",
          "-0.2",
          "0",
          "-0.1",
          "-0.4",
          "-0.3",
          "-0.4",
          "0.3",
          "-0.4",
          "-0.5",
          "0.3",
          "0.3",
          "0.2",
          "-0.1",
          "-0.2",
          "0.3",
          "-0.5",
          "1.1",
          "0.4",
          "-0.1",
          "-0.7",
          "0.3",
          "0.3",
          "0.2",
          "0.4",
          "-0.9",
          "-0.6",
          "-0.1",
          "0.7",
          "0",
          "-0.4"
         ],
         "y0": " ",
         "yaxis": "y"
        },
        {
         "alignmentgroup": "True",
         "hovertemplate": "state=%{x}<br>anomaly_level=%{y}<extra></extra>",
         "legendgroup": "PA",
         "marker": {
          "color": "#ab63fa"
         },
         "name": "PA",
         "notched": false,
         "offsetgroup": "PA",
         "orientation": "v",
         "showlegend": true,
         "type": "box",
         "x": [
          "PA",
          "PA",
          "PA",
          "PA",
          "PA",
          "PA",
          "PA",
          "PA",
          "PA",
          "PA",
          "PA",
          "PA",
          "PA",
          "PA",
          "PA",
          "PA",
          "PA",
          "PA",
          "PA",
          "PA",
          "PA",
          "PA",
          "PA",
          "PA",
          "PA",
          "PA",
          "PA",
          "PA",
          "PA",
          "PA",
          "PA",
          "PA",
          "PA",
          "PA",
          "PA",
          "PA",
          "PA",
          "PA",
          "PA",
          "PA",
          "PA",
          "PA",
          "PA",
          "PA",
          "PA",
          "PA",
          "PA",
          "PA",
          "PA",
          "PA",
          "PA",
          "PA",
          "PA",
          "PA",
          "PA",
          "PA",
          "PA"
         ],
         "x0": " ",
         "xaxis": "x",
         "y": [
          "0.1",
          "-0.9",
          "0.5",
          "-0.4",
          "-0.2",
          "1.2",
          "-0.9",
          "-0.5",
          "0.3",
          "0.5",
          "0",
          "-1.4",
          "0.1",
          "0.2",
          "-0.6",
          "-0.7",
          "2.2",
          "-1.4",
          "0.7",
          "0.1",
          "-0.9",
          "0",
          "1",
          "-0.5",
          "-1",
          "0.3",
          "-0.3",
          "-1",
          "-0.3",
          "-0.3",
          "0.9",
          "-0.6",
          "-0.5",
          "-0.3",
          "-0.3",
          "-0.6",
          "0.1",
          "-0.6",
          "0.1",
          "-0.5",
          "-0.5",
          "-0.9",
          "-0.4",
          "-0.5",
          "-1.1",
          "-0.5",
          "-0.9",
          "1.1",
          "-0.6",
          "0.1",
          "1.1",
          "-0.9",
          "-0.9",
          "0.3",
          "2",
          "-0.4",
          "1.2"
         ],
         "y0": " ",
         "yaxis": "y"
        },
        {
         "alignmentgroup": "True",
         "hovertemplate": "state=%{x}<br>anomaly_level=%{y}<extra></extra>",
         "legendgroup": "KY",
         "marker": {
          "color": "#FFA15A"
         },
         "name": "KY",
         "notched": false,
         "offsetgroup": "KY",
         "orientation": "v",
         "showlegend": true,
         "type": "box",
         "x": [
          "KY",
          "KY",
          "KY",
          "KY",
          "KY",
          "KY",
          "KY",
          "KY",
          "KY",
          "KY",
          "KY",
          "KY",
          "KY"
         ],
         "x0": " ",
         "xaxis": "x",
         "y": [
          "-0.3",
          "-0.5",
          "-0.6",
          "-0.6",
          "0.2",
          "1",
          "-0.3",
          "-1.3",
          "-0.7",
          "-0.7",
          "-1.3",
          "-0.3",
          "-0.7"
         ],
         "y0": " ",
         "yaxis": "y"
        },
        {
         "alignmentgroup": "True",
         "hovertemplate": "state=%{x}<br>anomaly_level=%{y}<extra></extra>",
         "legendgroup": "UT",
         "marker": {
          "color": "#19d3f3"
         },
         "name": "UT",
         "notched": false,
         "offsetgroup": "UT",
         "orientation": "v",
         "showlegend": true,
         "type": "box",
         "x": [
          "UT",
          "UT",
          "UT",
          "UT",
          "UT",
          "UT",
          "UT",
          "UT",
          "UT",
          "UT",
          "UT",
          "UT",
          "UT",
          "UT",
          "UT",
          "UT",
          "UT",
          "UT",
          "UT",
          "UT",
          "UT",
          "UT",
          "UT",
          "UT",
          "UT",
          "UT",
          "UT",
          "UT",
          "UT",
          "UT",
          "UT",
          "UT",
          "UT",
          "UT",
          "UT",
          "UT",
          "UT",
          "UT",
          "UT",
          "UT",
          "UT"
         ],
         "x0": " ",
         "xaxis": "x",
         "y": [
          "-0.9",
          "2",
          "-0.1",
          "-0.3",
          "-0.3",
          "-0.3",
          "-0.5",
          "0.7",
          "2.2",
          "0.7",
          "0.6",
          "2",
          "-0.3",
          "-0.5",
          "-0.3",
          "-0.5",
          "-0.4",
          "-0.4",
          "-0.3",
          "-1.3",
          "-0.9",
          "-0.5",
          "0.1",
          "-1",
          "0.5",
          "1.1",
          "-0.4",
          "-0.6",
          "-0.8",
          "-0.4",
          "-0.7",
          "-0.5",
          "-0.9",
          "0.5",
          "-0.1",
          "-0.3",
          "2",
          "-0.3",
          "-0.4",
          "0.8",
          "-0.3"
         ],
         "y0": " ",
         "yaxis": "y"
        },
        {
         "alignmentgroup": "True",
         "hovertemplate": "state=%{x}<br>anomaly_level=%{y}<extra></extra>",
         "legendgroup": "OH",
         "marker": {
          "color": "#FF6692"
         },
         "name": "OH",
         "notched": false,
         "offsetgroup": "OH",
         "orientation": "v",
         "showlegend": true,
         "type": "box",
         "x": [
          "OH",
          "OH",
          "OH",
          "OH",
          "OH",
          "OH",
          "OH",
          "OH",
          "OH",
          "OH",
          "OH",
          "OH",
          "OH",
          "OH",
          "OH",
          "OH",
          "OH",
          "OH",
          "OH",
          "OH",
          "OH",
          "OH",
          "OH",
          "OH",
          "OH",
          "OH",
          "OH",
          "OH",
          "OH",
          "OH",
          "OH",
          "OH",
          "OH",
          "OH",
          "OH",
          "OH",
          "OH",
          "OH",
          "OH",
          "OH",
          "OH",
          "OH",
          "OH"
         ],
         "x0": " ",
         "xaxis": "x",
         "y": [
          "0.2",
          "-0.7",
          "0.2",
          "0.3",
          "-0.6",
          "2.2",
          "-0.3",
          "-0.7",
          "-0.3",
          "-1.4",
          "0.1",
          "-0.1",
          "-0.6",
          "0.1",
          "-0.6",
          "0.7",
          "-0.3",
          "0.2",
          "-0.9",
          "0.5",
          "-0.3",
          "-0.5",
          "0.9",
          "0.1",
          "0.5",
          "-0.4",
          "-0.3",
          "-0.4",
          "-0.4",
          "-0.8",
          "-0.3",
          "0.9",
          "-0.3",
          "-0.6",
          "-0.3",
          "-0.9",
          "-0.3",
          "-0.6",
          "-0.3",
          "1.3",
          "-0.5",
          "0.3",
          "-0.5"
         ],
         "y0": " ",
         "yaxis": "y"
        },
        {
         "alignmentgroup": "True",
         "hovertemplate": "state=%{x}<br>anomaly_level=%{y}<extra></extra>",
         "legendgroup": "NC",
         "marker": {
          "color": "#B6E880"
         },
         "name": "NC",
         "notched": false,
         "offsetgroup": "NC",
         "orientation": "v",
         "showlegend": true,
         "type": "box",
         "x": [
          "NC",
          "NC",
          "NC",
          "NC",
          "NC",
          "NC",
          "NC",
          "NC",
          "NC",
          "NC",
          "NC",
          "NC",
          "NC",
          "NC",
          "NC",
          "NC",
          "NC",
          "NC",
          "NC",
          "NC",
          "NC",
          "NC",
          "NC",
          "NC",
          "NC",
          "NC",
          "NC",
          "NC",
          "NC",
          "NC",
          "NC",
          "NC",
          "NC",
          "NC",
          "NC",
          "NC",
          "NC",
          "NC",
          "NC"
         ],
         "x0": " ",
         "xaxis": "x",
         "y": [
          "-0.7",
          "0",
          "0",
          "-0.5",
          "-0.4",
          "-0.5",
          "-0.3",
          "0.1",
          "-0.5",
          "-0.2",
          "0.5",
          "0.1",
          "-0.3",
          "-1.3",
          "-0.5",
          "-0.5",
          "-0.6",
          "-0.1",
          "0.7",
          "-0.4",
          "0.5",
          "0.5",
          "-0.2",
          "-0.2",
          "0.5",
          "0.2",
          "0.7",
          "-0.6",
          "-0.4",
          "-0.3",
          "-0.2",
          "-0.3",
          "1.3",
          "-0.5",
          "-0.6",
          "-0.3",
          "0.2",
          "-0.4",
          "-0.4"
         ],
         "y0": " ",
         "yaxis": "y"
        },
        {
         "alignmentgroup": "True",
         "hovertemplate": "state=%{x}<br>anomaly_level=%{y}<extra></extra>",
         "legendgroup": "NJ",
         "marker": {
          "color": "#FF97FF"
         },
         "name": "NJ",
         "notched": false,
         "offsetgroup": "NJ",
         "orientation": "v",
         "showlegend": true,
         "type": "box",
         "x": [
          "NJ",
          "NJ",
          "NJ",
          "NJ",
          "NJ",
          "NJ",
          "NJ",
          "NJ",
          "NJ",
          "NJ",
          "NJ",
          "NJ",
          "NJ",
          "NJ",
          "NJ",
          "NJ",
          "NJ",
          "NJ",
          "NJ",
          "NJ",
          "NJ",
          "NJ",
          "NJ",
          "NJ",
          "NJ",
          "NJ",
          "NJ",
          "NJ",
          "NJ",
          "NJ",
          "NJ",
          "NJ",
          "NJ",
          "NJ",
          "NJ"
         ],
         "x0": " ",
         "xaxis": "x",
         "y": [
          "0.1",
          "1",
          "0.5",
          "-0.6",
          "-0.5",
          "-0.9",
          "-0.7",
          "-0.9",
          "0.1",
          "1",
          "-0.5",
          "-0.7",
          "-0.8",
          "-0.6",
          "1",
          "2.2",
          "-0.8",
          "-0.6",
          "-0.5",
          "-1",
          "-0.5",
          "0.3",
          "-0.9",
          "-0.8",
          "-0.4",
          "-0.1",
          "-0.5",
          "0.3",
          "0.9",
          "-0.3",
          "-0.6",
          "1.2",
          "0.3",
          "-0.9",
          "0.9"
         ],
         "y0": " ",
         "yaxis": "y"
        },
        {
         "alignmentgroup": "True",
         "hovertemplate": "state=%{x}<br>anomaly_level=%{y}<extra></extra>",
         "legendgroup": "SC",
         "marker": {
          "color": "#FECB52"
         },
         "name": "SC",
         "notched": false,
         "offsetgroup": "SC",
         "orientation": "v",
         "showlegend": true,
         "type": "box",
         "x": [
          "SC",
          "SC",
          "SC",
          "SC",
          "SC",
          "SC",
          "SC",
          "SC"
         ],
         "x0": " ",
         "xaxis": "x",
         "y": [
          "0.6",
          "-0.3",
          "-0.5",
          "-0.5",
          "-1.6",
          "0.3",
          "-1.6",
          "-0.5"
         ],
         "y0": " ",
         "yaxis": "y"
        },
        {
         "alignmentgroup": "True",
         "hovertemplate": "state=%{x}<br>anomaly_level=%{y}<extra></extra>",
         "legendgroup": "OR",
         "marker": {
          "color": "#636efa"
         },
         "name": "OR",
         "notched": false,
         "offsetgroup": "OR",
         "orientation": "v",
         "showlegend": true,
         "type": "box",
         "x": [
          "OR",
          "OR",
          "OR",
          "OR",
          "OR",
          "OR",
          "OR",
          "OR",
          "OR",
          "OR",
          "OR",
          "OR",
          "OR",
          "OR",
          "OR",
          "OR",
          "OR",
          "OR",
          "OR",
          "OR",
          "OR",
          "OR",
          "OR",
          "OR",
          "OR",
          "OR"
         ],
         "x0": " ",
         "xaxis": "x",
         "y": [
          "-0.7",
          "-0.9",
          "0.6",
          "-0.2",
          "-0.3",
          "2",
          "0.6",
          "-0.7",
          "-0.5",
          "2",
          "0.9",
          "-0.6",
          "-0.5",
          "-0.3",
          "-0.5",
          "-0.2",
          "0.9",
          "-0.4",
          "-0.3",
          "-0.6",
          "0.6",
          "0.9",
          "-0.2",
          "2",
          "-0.5",
          "1.7"
         ],
         "y0": " ",
         "yaxis": "y"
        },
        {
         "alignmentgroup": "True",
         "hovertemplate": "state=%{x}<br>anomaly_level=%{y}<extra></extra>",
         "legendgroup": "DC",
         "marker": {
          "color": "#EF553B"
         },
         "name": "DC",
         "notched": false,
         "offsetgroup": "DC",
         "orientation": "v",
         "showlegend": true,
         "type": "box",
         "x": [
          "DC",
          "DC",
          "DC",
          "DC",
          "DC",
          "DC",
          "DC",
          "DC",
          "DC",
          "DC"
         ],
         "x0": " ",
         "xaxis": "x",
         "y": [
          "1.2",
          "-0.6",
          "-1.2",
          "0.2",
          "-1.3",
          "-0.4",
          "-0.5",
          "-0.2",
          "-0.1",
          "-1.2"
         ],
         "y0": " ",
         "yaxis": "y"
        },
        {
         "alignmentgroup": "True",
         "hovertemplate": "state=%{x}<br>anomaly_level=%{y}<extra></extra>",
         "legendgroup": "MO",
         "marker": {
          "color": "#00cc96"
         },
         "name": "MO",
         "notched": false,
         "offsetgroup": "MO",
         "orientation": "v",
         "showlegend": true,
         "type": "box",
         "x": [
          "MO",
          "MO",
          "MO",
          "MO",
          "MO",
          "MO",
          "MO",
          "MO",
          "MO",
          "MO",
          "MO",
          "MO",
          "MO",
          "MO",
          "MO",
          "MO",
          "MO"
         ],
         "x0": " ",
         "xaxis": "x",
         "y": [
          "2.3",
          "0.2",
          "-0.7",
          "-0.7",
          "-0.5",
          "-0.3",
          "2.3",
          "-0.6",
          "-0.7",
          "-0.4",
          "-0.4",
          "-0.5",
          "0.6",
          "0.6",
          "-0.2",
          "-0.4",
          "-0.2"
         ],
         "y0": " ",
         "yaxis": "y"
        },
        {
         "alignmentgroup": "True",
         "hovertemplate": "state=%{x}<br>anomaly_level=%{y}<extra></extra>",
         "legendgroup": "DE",
         "marker": {
          "color": "#ab63fa"
         },
         "name": "DE",
         "notched": false,
         "offsetgroup": "DE",
         "orientation": "v",
         "showlegend": true,
         "type": "box",
         "x": [
          "DE",
          "DE",
          "DE",
          "DE",
          "DE",
          "DE",
          "DE",
          "DE",
          "DE",
          "DE",
          "DE",
          "DE",
          "DE",
          "DE",
          "DE",
          "DE",
          "DE",
          "DE",
          "DE",
          "DE",
          "DE",
          "DE",
          "DE",
          "DE",
          "DE",
          "DE",
          "DE",
          "DE",
          "DE",
          "DE",
          "DE",
          "DE",
          "DE",
          "DE",
          "DE",
          "DE",
          "DE",
          "DE",
          "DE",
          "DE"
         ],
         "x0": " ",
         "xaxis": "x",
         "y": [
          "-0.9",
          "-0.7",
          "-0.2",
          "0.1",
          "-0.5",
          "-0.8",
          "-0.1",
          "-1.3",
          "-0.4",
          "-0.2",
          "-1",
          "-0.2",
          "0.3",
          "-0.3",
          "2",
          "0.1",
          "-0.4",
          "-0.8",
          "-0.8",
          "-0.3",
          "-0.4",
          "-0.4",
          "-0.2",
          "0.1",
          "-0.3",
          "0.3",
          "0.1",
          "0.1",
          "-0.2",
          "-0.2",
          "-0.2",
          "-0.4",
          "-0.3",
          "2.2",
          "1",
          "-0.2",
          "-0.3",
          "-0.5",
          "-1.3",
          "-0.7"
         ],
         "y0": " ",
         "yaxis": "y"
        },
        {
         "alignmentgroup": "True",
         "hovertemplate": "state=%{x}<br>anomaly_level=%{y}<extra></extra>",
         "legendgroup": "IA",
         "marker": {
          "color": "#FFA15A"
         },
         "name": "IA",
         "notched": false,
         "offsetgroup": "IA",
         "orientation": "v",
         "showlegend": true,
         "type": "box",
         "x": [
          "IA",
          "IA",
          "IA",
          "IA",
          "IA",
          "IA",
          "IA",
          "IA"
         ],
         "x0": " ",
         "xaxis": "x",
         "y": [
          "-0.4",
          "0.4",
          "-0.4",
          "-0.4",
          "-0.4",
          "-0.4",
          "0.4",
          "-0.5"
         ],
         "y0": " ",
         "yaxis": "y"
        },
        {
         "alignmentgroup": "True",
         "hovertemplate": "state=%{x}<br>anomaly_level=%{y}<extra></extra>",
         "legendgroup": "MT",
         "marker": {
          "color": "#19d3f3"
         },
         "name": "MT",
         "notched": false,
         "offsetgroup": "MT",
         "orientation": "v",
         "showlegend": true,
         "type": "box",
         "x": [
          "MT",
          "MT",
          "MT"
         ],
         "x0": " ",
         "xaxis": "x",
         "y": [
          "-0.4",
          "-0.2",
          "-0.4"
         ],
         "y0": " ",
         "yaxis": "y"
        },
        {
         "alignmentgroup": "True",
         "hovertemplate": "state=%{x}<br>anomaly_level=%{y}<extra></extra>",
         "legendgroup": "NY",
         "marker": {
          "color": "#FF6692"
         },
         "name": "NY",
         "notched": false,
         "offsetgroup": "NY",
         "orientation": "v",
         "showlegend": true,
         "type": "box",
         "x": [
          "NY",
          "NY",
          "NY",
          "NY",
          "NY",
          "NY",
          "NY",
          "NY",
          "NY",
          "NY",
          "NY",
          "NY",
          "NY",
          "NY",
          "NY",
          "NY",
          "NY",
          "NY",
          "NY",
          "NY",
          "NY",
          "NY",
          "NY",
          "NY",
          "NY",
          "NY",
          "NY",
          "NY",
          "NY",
          "NY",
          "NY",
          "NY",
          "NY",
          "NY",
          "NY",
          "NY",
          "NY",
          "NY",
          "NY",
          "NY",
          "NY",
          "NY",
          "NY",
          "NY",
          "NY",
          "NY",
          "NY",
          "NY",
          "NY",
          "NY",
          "NY",
          "NY",
          "NY",
          "NY",
          "NY",
          "NY",
          "NY",
          "NY",
          "NY",
          "NY",
          "NY",
          "NY",
          "NY",
          "NY",
          "NY",
          "NY",
          "NY",
          "NY",
          "NY",
          "NY",
          "NY"
         ],
         "x0": " ",
         "xaxis": "x",
         "y": [
          "0",
          "0.3",
          "0.3",
          "-0.6",
          "-0.7",
          "-0.1",
          "-0.6",
          "-0.9",
          "-0.4",
          "-0.3",
          "-0.4",
          "0.6",
          "-0.4",
          "0.6",
          "0.3",
          "0.1",
          "-1.2",
          "-0.7",
          "-0.2",
          "2.2",
          "-0.2",
          "-0.5",
          "-0.3",
          "0.9",
          "-0.7",
          "-0.4",
          "-1.4",
          "-1.3",
          "-0.7",
          "-0.5",
          "-0.4",
          "0.2",
          "-1.3",
          "-0.6",
          "-0.3",
          "-0.9",
          "2",
          "-0.3",
          "-0.6",
          "0.9",
          "-0.3",
          "1.2",
          "-0.4",
          "-0.6",
          "1.2",
          "0.6",
          "0.2",
          "-0.4",
          "0.3",
          "0.3",
          "-0.6",
          "0.2",
          "-0.6",
          "1.2",
          "-0.3",
          "1.7",
          "-0.5",
          "-0.8",
          "0.7",
          "-0.6",
          "-1.4",
          "0.7",
          "0.3",
          "-0.1",
          "-0.3",
          "-0.7",
          "-0.9",
          "0.3",
          "0.1",
          "-0.3",
          "-0.5"
         ],
         "y0": " ",
         "yaxis": "y"
        },
        {
         "alignmentgroup": "True",
         "hovertemplate": "state=%{x}<br>anomaly_level=%{y}<extra></extra>",
         "legendgroup": "LA",
         "marker": {
          "color": "#B6E880"
         },
         "name": "LA",
         "notched": false,
         "offsetgroup": "LA",
         "orientation": "v",
         "showlegend": true,
         "type": "box",
         "x": [
          "LA",
          "LA",
          "LA",
          "LA",
          "LA",
          "LA",
          "LA",
          "LA",
          "LA",
          "LA",
          "LA",
          "LA",
          "LA",
          "LA",
          "LA",
          "LA",
          "LA",
          "LA",
          "LA",
          "LA",
          "LA",
          "LA",
          "LA",
          "LA",
          "LA",
          "LA",
          "LA",
          "LA",
          "LA",
          "LA",
          "LA",
          "LA",
          "LA",
          "LA",
          "LA",
          "LA",
          "LA",
          "LA",
          "LA",
          "LA"
         ],
         "x0": " ",
         "xaxis": "x",
         "y": [
          "-0.3",
          "0.5",
          "0.3",
          "-1.2",
          "-1.2",
          "-0.1",
          "0.7",
          "-1.2",
          "0.6",
          "-1.2",
          "0",
          "-0.4",
          "-0.7",
          "0.5",
          "0.6",
          "-0.1",
          "-0.1",
          "-0.5",
          "0.4",
          "-0.4",
          "-0.3",
          "-0.4",
          "0.5",
          "-0.3",
          "-0.3",
          "0",
          "-0.4",
          "0.3",
          "0.3",
          "-0.7",
          "-0.4",
          "0.5",
          "-0.2",
          "-0.2",
          "1.1",
          "1.3",
          "0",
          "0.3",
          "-0.5",
          "0.5"
         ],
         "y0": " ",
         "yaxis": "y"
        },
        {
         "alignmentgroup": "True",
         "hovertemplate": "state=%{x}<br>anomaly_level=%{y}<extra></extra>",
         "legendgroup": "FL",
         "marker": {
          "color": "#FF97FF"
         },
         "name": "FL",
         "notched": false,
         "offsetgroup": "FL",
         "orientation": "v",
         "showlegend": true,
         "type": "box",
         "x": [
          "FL",
          "FL",
          "FL",
          "FL",
          "FL",
          "FL",
          "FL",
          "FL",
          "FL",
          "FL",
          "FL",
          "FL",
          "FL",
          "FL",
          "FL",
          "FL",
          "FL",
          "FL",
          "FL",
          "FL",
          "FL",
          "FL",
          "FL",
          "FL",
          "FL",
          "FL",
          "FL",
          "FL",
          "FL",
          "FL",
          "FL",
          "FL",
          "FL",
          "FL",
          "FL",
          "FL",
          "FL",
          "FL",
          "FL",
          "FL",
          "FL",
          "FL",
          "FL",
          "FL",
          "FL"
         ],
         "x0": " ",
         "xaxis": "x",
         "y": [
          "-0.3",
          "0.3",
          "-0.1",
          "0",
          "-1.3",
          "-0.3",
          "1.1",
          "0.8",
          "-0.7",
          "-0.2",
          "-1.3",
          "0.2",
          "0.2",
          "0.6",
          "0.1",
          "0.5",
          "1.3",
          "-0.1",
          "0.2",
          "-1.3",
          "-0.7",
          "0.7",
          "0",
          "-0.3",
          "-0.2",
          "0.7",
          "0.6",
          "-0.2",
          "-1.3",
          "-1.3",
          "0.7",
          "-0.3",
          "0.7",
          "-0.5",
          "0.7",
          "0.7",
          "-0.2",
          "0.7",
          "0.6",
          "-0.1",
          "0.6",
          "0.7",
          "-0.7",
          "-1.3",
          "0.3"
         ],
         "y0": " ",
         "yaxis": "y"
        },
        {
         "alignmentgroup": "True",
         "hovertemplate": "state=%{x}<br>anomaly_level=%{y}<extra></extra>",
         "legendgroup": "CA",
         "marker": {
          "color": "#FECB52"
         },
         "name": "CA",
         "notched": false,
         "offsetgroup": "CA",
         "orientation": "v",
         "showlegend": true,
         "type": "box",
         "x": [
          "CA",
          "CA",
          "CA",
          "CA",
          "CA",
          "CA",
          "CA",
          "CA",
          "CA",
          "CA",
          "CA",
          "CA",
          "CA",
          "CA",
          "CA",
          "CA",
          "CA",
          "CA",
          "CA",
          "CA",
          "CA",
          "CA",
          "CA",
          "CA",
          "CA",
          "CA",
          "CA",
          "CA",
          "CA",
          "CA",
          "CA",
          "CA",
          "CA",
          "CA",
          "CA",
          "CA",
          "CA",
          "CA",
          "CA",
          "CA",
          "CA",
          "CA",
          "CA",
          "CA",
          "CA",
          "CA",
          "CA",
          "CA",
          "CA",
          "CA",
          "CA",
          "CA",
          "CA",
          "CA",
          "CA",
          "CA",
          "CA",
          "CA",
          "CA",
          "CA",
          "CA",
          "CA",
          "CA",
          "CA",
          "CA",
          "CA",
          "CA",
          "CA",
          "CA",
          "CA",
          "CA",
          "CA",
          "CA",
          "CA",
          "CA",
          "CA",
          "CA",
          "CA",
          "CA",
          "CA",
          "CA",
          "CA",
          "CA",
          "CA",
          "CA",
          "CA",
          "CA",
          "CA",
          "CA",
          "CA",
          "CA",
          "CA",
          "CA",
          "CA",
          "CA",
          "CA",
          "CA",
          "CA",
          "CA",
          "CA",
          "CA",
          "CA",
          "CA",
          "CA",
          "CA",
          "CA",
          "CA",
          "CA",
          "CA",
          "CA",
          "CA",
          "CA",
          "CA",
          "CA",
          "CA",
          "CA",
          "CA",
          "CA",
          "CA",
          "CA",
          "CA",
          "CA",
          "CA",
          "CA",
          "CA",
          "CA",
          "CA",
          "CA",
          "CA",
          "CA",
          "CA",
          "CA",
          "CA",
          "CA",
          "CA",
          "CA",
          "CA",
          "CA",
          "CA",
          "CA",
          "CA",
          "CA",
          "CA",
          "CA",
          "CA",
          "CA",
          "CA",
          "CA",
          "CA",
          "CA",
          "CA",
          "CA",
          "CA",
          "CA",
          "CA",
          "CA",
          "CA",
          "CA",
          "CA",
          "CA",
          "CA",
          "CA",
          "CA",
          "CA",
          "CA",
          "CA",
          "CA",
          "CA",
          "CA",
          "CA",
          "CA",
          "CA",
          "CA",
          "CA",
          "CA",
          "CA",
          "CA",
          "CA",
          "CA",
          "CA",
          "CA",
          "CA",
          "CA",
          "CA",
          "CA",
          "CA",
          "CA",
          "CA",
          "CA",
          "CA",
          "CA",
          "CA",
          "CA",
          "CA",
          "CA",
          "CA",
          "CA",
          "CA",
          "CA",
          "CA",
          "CA",
          "CA",
          "CA",
          "CA",
          "CA",
          "CA",
          "CA",
          "CA",
          "CA",
          "CA"
         ],
         "x0": " ",
         "xaxis": "x",
         "y": [
          "-0.9",
          "-0.7",
          "0",
          "2",
          "-0.5",
          "-0.2",
          "-1.4",
          "0.1",
          "0",
          "-0.3",
          "0",
          "-0.1",
          "-0.2",
          "-0.4",
          "0.5",
          "-0.4",
          "-0.7",
          "-1.4",
          "-0.3",
          "1.7",
          "-1",
          "1.2",
          "-1.4",
          "-0.3",
          "-0.6",
          "-1",
          "1.1",
          "1",
          "-1.4",
          "0.9",
          "-0.3",
          "0.9",
          "-0.2",
          "0.2",
          "-1.3",
          "0.9",
          "-0.4",
          "-1.3",
          "0.7",
          "-0.5",
          "1.3",
          "0.7",
          "1",
          "-0.5",
          "1",
          "1",
          "0.7",
          "-0.2",
          "-0.3",
          "-0.3",
          "0.9",
          "-0.3",
          "-0.4",
          "0",
          "-0.6",
          "0.7",
          "1.3",
          "-0.3",
          "-0.4",
          "0.8",
          "0.6",
          "-0.3",
          "1.1",
          "-0.2",
          "2",
          "-0.6",
          "-0.9",
          "0.1",
          "1.2",
          "-1",
          "-0.2",
          "-1",
          "2.3",
          "0",
          "0.3",
          "-0.1",
          "-0.4",
          "-0.1",
          "-0.2",
          "-0.6",
          "1",
          "-0.1",
          "1.2",
          "-0.7",
          "-1.4",
          "-0.7",
          "1.2",
          "-0.2",
          "-1.5",
          "0.3",
          "-0.4",
          "-1.4",
          "-0.3",
          "-1.4",
          "0.9",
          "0.5",
          "1.3",
          "0",
          "0.7",
          "0.7",
          "1.3",
          "-0.4",
          "-0.7",
          "0.3",
          "0.3",
          "-0.1",
          "0.3",
          "0.9",
          "1.2",
          "-0.2",
          "-1.3",
          "2.3",
          "0.6",
          "-0.5",
          "-0.1",
          "1.3",
          "-0.4",
          "0.9",
          "-0.9",
          "-0.4",
          "0.5",
          "0.4",
          "-1.2",
          "-0.7",
          "-0.1",
          "-0.6",
          "-0.7",
          "0.1",
          "-0.1",
          "0.1",
          "1.1",
          "-0.2",
          "1.6",
          "2",
          "0.1",
          "1.2",
          "0.3",
          "0",
          "-0.7",
          "0.6",
          "-0.1",
          "-0.3",
          "-1.4",
          "-0.4",
          "-1.4",
          "-0.3",
          "-0.4",
          "-1",
          "-1.5",
          "0.5",
          "1",
          "-0.3",
          "-0.3",
          "-0.2",
          "-0.4",
          "-0.7",
          "-1.4",
          "1.2",
          "-0.7",
          "-1.5",
          "-0.2",
          "-0.1",
          "0.2",
          "-1.1",
          "-0.9",
          "2",
          "0.3",
          "-0.2",
          "-0.9",
          "-0.2",
          "-1.1",
          "-1.1",
          "0.3",
          "-0.7",
          "-0.4",
          "-1.1",
          "-0.7",
          "-0.1",
          "-0.1",
          "0.3",
          "-0.5",
          "-0.7",
          "1.1",
          "0.4",
          "-0.1",
          "-1.1",
          "2.3",
          "0.8",
          "-1.4",
          "-0.3",
          "-0.4",
          "0.5",
          "0.7",
          "1.3",
          "-0.9",
          "-0.6",
          "-0.4",
          "-1.3",
          "-0.5",
          "0.5",
          "-1.4",
          "0.3",
          "0.5",
          "-0.3",
          "-0.4",
          "0.4",
          "-0.3",
          "0.3",
          "-0.6",
          "-0.2"
         ],
         "y0": " ",
         "yaxis": "y"
        },
        {
         "alignmentgroup": "True",
         "hovertemplate": "state=%{x}<br>anomaly_level=%{y}<extra></extra>",
         "legendgroup": "AR",
         "marker": {
          "color": "#636efa"
         },
         "name": "AR",
         "notched": false,
         "offsetgroup": "AR",
         "orientation": "v",
         "showlegend": true,
         "type": "box",
         "x": [
          "AR",
          "AR",
          "AR",
          "AR",
          "AR",
          "AR",
          "AR",
          "AR",
          "AR",
          "AR",
          "AR",
          "AR",
          "AR",
          "AR",
          "AR",
          "AR",
          "AR",
          "AR",
          "AR",
          "AR",
          "AR",
          "AR",
          "AR",
          "AR",
          "AR"
         ],
         "x0": " ",
         "xaxis": "x",
         "y": [
          "-0.7",
          "-1",
          "-0.7",
          "-0.4",
          "-0.3",
          "0.3",
          "-0.3",
          "-0.5",
          "-0.2",
          "-0.5",
          "1.2",
          "-0.1",
          "-0.4",
          "-0.6",
          "-0.3",
          "-0.5",
          "1.1",
          "-0.3",
          "0.1",
          "-0.1",
          "-0.2",
          "-0.2",
          "-0.3",
          "0.1",
          "2.2"
         ],
         "y0": " ",
         "yaxis": "y"
        },
        {
         "alignmentgroup": "True",
         "hovertemplate": "state=%{x}<br>anomaly_level=%{y}<extra></extra>",
         "legendgroup": "VA",
         "marker": {
          "color": "#EF553B"
         },
         "name": "VA",
         "notched": false,
         "offsetgroup": "VA",
         "orientation": "v",
         "showlegend": true,
         "type": "box",
         "x": [
          "VA",
          "VA",
          "VA",
          "VA",
          "VA",
          "VA",
          "VA",
          "VA",
          "VA",
          "VA",
          "VA",
          "VA",
          "VA",
          "VA",
          "VA",
          "VA",
          "VA",
          "VA",
          "VA",
          "VA",
          "VA",
          "VA",
          "VA",
          "VA",
          "VA",
          "VA",
          "VA",
          "VA",
          "VA",
          "VA",
          "VA",
          "VA",
          "VA",
          "VA",
          "VA",
          "VA"
         ],
         "x0": " ",
         "xaxis": "x",
         "y": [
          "-0.5",
          "-0.3",
          "-0.6",
          "-0.3",
          "-0.2",
          "0.5",
          "1.2",
          "0.3",
          "-0.9",
          "-0.4",
          "-1.3",
          "0.3",
          "-0.3",
          "-0.4",
          "-0.4",
          "-0.9",
          "-0.9",
          "-0.1",
          "-0.1",
          "-0.4",
          "0.3",
          "-1.2",
          "-0.4",
          "-0.5",
          "-1.3",
          "-0.3",
          "1.1",
          "0.1",
          "0.1",
          "-0.6",
          "0.1",
          "-1.4",
          "-1",
          "-0.6",
          "-0.2",
          "-0.1"
         ],
         "y0": " ",
         "yaxis": "y"
        },
        {
         "alignmentgroup": "True",
         "hovertemplate": "state=%{x}<br>anomaly_level=%{y}<extra></extra>",
         "legendgroup": "NE",
         "marker": {
          "color": "#00cc96"
         },
         "name": "NE",
         "notched": false,
         "offsetgroup": "NE",
         "orientation": "v",
         "showlegend": true,
         "type": "box",
         "x": [
          "NE",
          "NE",
          "NE",
          "NE"
         ],
         "x0": " ",
         "xaxis": "x",
         "y": [
          "-1.2",
          "-0.5",
          "0.3",
          "0.9"
         ],
         "y0": " ",
         "yaxis": "y"
        },
        {
         "alignmentgroup": "True",
         "hovertemplate": "state=%{x}<br>anomaly_level=%{y}<extra></extra>",
         "legendgroup": "WY",
         "marker": {
          "color": "#ab63fa"
         },
         "name": "WY",
         "notched": false,
         "offsetgroup": "WY",
         "orientation": "v",
         "showlegend": true,
         "type": "box",
         "x": [
          "WY",
          "WY",
          "WY",
          "WY",
          "WY",
          "WY"
         ],
         "x0": " ",
         "xaxis": "x",
         "y": [
          "0.9",
          "-1",
          "-0.4",
          "-0.3",
          "-0.2",
          "-1.4"
         ],
         "y0": " ",
         "yaxis": "y"
        },
        {
         "alignmentgroup": "True",
         "hovertemplate": "state=%{x}<br>anomaly_level=%{y}<extra></extra>",
         "legendgroup": "NM",
         "marker": {
          "color": "#FFA15A"
         },
         "name": "NM",
         "notched": false,
         "offsetgroup": "NM",
         "orientation": "v",
         "showlegend": true,
         "type": "box",
         "x": [
          "NM",
          "NM",
          "NM",
          "NM",
          "NM",
          "NM",
          "NM",
          "NM"
         ],
         "x0": " ",
         "xaxis": "x",
         "y": [
          "-0.1",
          "-0.4",
          "-1.1",
          "-0.3",
          "-0.4",
          "-0.4",
          "-0.4",
          "-0.3"
         ],
         "y0": " ",
         "yaxis": "y"
        },
        {
         "alignmentgroup": "True",
         "hovertemplate": "state=%{x}<br>anomaly_level=%{y}<extra></extra>",
         "legendgroup": "VT",
         "marker": {
          "color": "#19d3f3"
         },
         "name": "VT",
         "notched": false,
         "offsetgroup": "VT",
         "orientation": "v",
         "showlegend": true,
         "type": "box",
         "x": [
          "VT",
          "VT",
          "VT",
          "VT",
          "VT",
          "VT",
          "VT",
          "VT",
          "VT"
         ],
         "x0": " ",
         "xaxis": "x",
         "y": [
          "-0.2",
          "0.3",
          "0.1",
          "-0.4",
          "-0.5",
          "-0.3",
          "-0.3",
          "-0.3",
          "-0.4"
         ],
         "y0": " ",
         "yaxis": "y"
        },
        {
         "alignmentgroup": "True",
         "hovertemplate": "state=%{x}<br>anomaly_level=%{y}<extra></extra>",
         "legendgroup": "GA",
         "marker": {
          "color": "#FF6692"
         },
         "name": "GA",
         "notched": false,
         "offsetgroup": "GA",
         "orientation": "v",
         "showlegend": true,
         "type": "box",
         "x": [
          "GA",
          "GA",
          "GA",
          "GA",
          "GA",
          "GA",
          "GA",
          "GA",
          "GA",
          "GA",
          "GA",
          "GA",
          "GA",
          "GA",
          "GA",
          "GA",
          "GA"
         ],
         "x0": " ",
         "xaxis": "x",
         "y": [
          "0.3",
          "0.7",
          "0.3",
          "0.7",
          "-0.4",
          "-0.3",
          "-0.7",
          "0.5",
          "0.9",
          "-0.7",
          "0.6",
          "-0.5",
          "0.4",
          "-0.5",
          "0.7",
          "-0.3",
          "-0.4"
         ],
         "y0": " ",
         "yaxis": "y"
        },
        {
         "alignmentgroup": "True",
         "hovertemplate": "state=%{x}<br>anomaly_level=%{y}<extra></extra>",
         "legendgroup": "CT",
         "marker": {
          "color": "#B6E880"
         },
         "name": "CT",
         "notched": false,
         "offsetgroup": "CT",
         "orientation": "v",
         "showlegend": true,
         "type": "box",
         "x": [
          "CT",
          "CT",
          "CT",
          "CT",
          "CT",
          "CT",
          "CT",
          "CT",
          "CT",
          "CT",
          "CT",
          "CT",
          "CT",
          "CT",
          "CT",
          "CT",
          "CT",
          "CT"
         ],
         "x0": " ",
         "xaxis": "x",
         "y": [
          "-0.4",
          "-0.3",
          "-0.6",
          "0.4",
          "-0.2",
          "-0.3",
          "-0.7",
          "-0.4",
          "-0.3",
          "-0.8",
          "-0.2",
          "-0.9",
          "-0.8",
          "0.9",
          "1.2",
          "0.1",
          "-0.7",
          "-0.4"
         ],
         "y0": " ",
         "yaxis": "y"
        },
        {
         "alignmentgroup": "True",
         "hovertemplate": "state=%{x}<br>anomaly_level=%{y}<extra></extra>",
         "legendgroup": "OK",
         "marker": {
          "color": "#FF97FF"
         },
         "name": "OK",
         "notched": false,
         "offsetgroup": "OK",
         "orientation": "v",
         "showlegend": true,
         "type": "box",
         "x": [
          "OK",
          "OK",
          "OK",
          "OK",
          "OK",
          "OK",
          "OK",
          "OK",
          "OK",
          "OK",
          "OK",
          "OK",
          "OK",
          "OK",
          "OK",
          "OK",
          "OK",
          "OK",
          "OK",
          "OK",
          "OK",
          "OK",
          "OK",
          "OK"
         ],
         "x0": " ",
         "xaxis": "x",
         "y": [
          "2.3",
          "-0.7",
          "-0.2",
          "-0.3",
          "-0.6",
          "1.3",
          "-0.6",
          "1.2",
          "-1.3",
          "2.3",
          "-0.3",
          "0.3",
          "2.2",
          "-0.6",
          "-0.2",
          "-0.6",
          "-0.2",
          "-0.3",
          "-0.3",
          "0.3",
          "2.2",
          "2.3",
          "-0.7",
          "-0.4"
         ],
         "y0": " ",
         "yaxis": "y"
        },
        {
         "alignmentgroup": "True",
         "hovertemplate": "state=%{x}<br>anomaly_level=%{y}<extra></extra>",
         "legendgroup": "MA",
         "marker": {
          "color": "#FECB52"
         },
         "name": "MA",
         "notched": false,
         "offsetgroup": "MA",
         "orientation": "v",
         "showlegend": true,
         "type": "box",
         "x": [
          "MA",
          "MA",
          "MA",
          "MA",
          "MA",
          "MA",
          "MA",
          "MA",
          "MA",
          "MA",
          "MA",
          "MA",
          "MA",
          "MA",
          "MA",
          "MA",
          "MA",
          "MA"
         ],
         "x0": " ",
         "xaxis": "x",
         "y": [
          "-1.3",
          "-0.1",
          "-0.6",
          "-1.3",
          "-0.4",
          "-0.4",
          "-0.4",
          "-0.4",
          "0.3",
          "0.3",
          "0.6",
          "1.6",
          "-0.3",
          "-0.3",
          "0.3",
          "-0.3",
          "-0.4",
          "0.1"
         ],
         "y0": " ",
         "yaxis": "y"
        },
        {
         "alignmentgroup": "True",
         "hovertemplate": "state=%{x}<br>anomaly_level=%{y}<extra></extra>",
         "legendgroup": "ME",
         "marker": {
          "color": "#636efa"
         },
         "name": "ME",
         "notched": false,
         "offsetgroup": "ME",
         "orientation": "v",
         "showlegend": true,
         "type": "box",
         "x": [
          "ME",
          "ME",
          "ME",
          "ME",
          "ME",
          "ME",
          "ME",
          "ME",
          "ME",
          "ME",
          "ME",
          "ME",
          "ME",
          "ME",
          "ME",
          "ME",
          "ME",
          "ME",
          "ME"
         ],
         "x0": " ",
         "xaxis": "x",
         "y": [
          "-1.3",
          "-0.3",
          "-0.6",
          "-0.1",
          "-0.3",
          "2.3",
          "-0.3",
          "-0.6",
          "-0.7",
          "-0.7",
          "-1.3",
          "-1.4",
          "-1.1",
          "-0.3",
          "-0.2",
          "0.5",
          "-0.4",
          "0.3",
          "-0.1"
         ],
         "y0": " ",
         "yaxis": "y"
        },
        {
         "alignmentgroup": "True",
         "hovertemplate": "state=%{x}<br>anomaly_level=%{y}<extra></extra>",
         "legendgroup": "NH",
         "marker": {
          "color": "#EF553B"
         },
         "name": "NH",
         "notched": false,
         "offsetgroup": "NH",
         "orientation": "v",
         "showlegend": true,
         "type": "box",
         "x": [
          "NH",
          "NH",
          "NH",
          "NH",
          "NH",
          "NH",
          "NH",
          "NH",
          "NH",
          "NH",
          "NH",
          "NH",
          "NH",
          "NH"
         ],
         "x0": " ",
         "xaxis": "x",
         "y": [
          "0.3",
          "0.1",
          "-0.5",
          "-0.3",
          "-0.7",
          "0.3",
          "-0.4",
          "-0.4",
          "-0.2",
          "-0.1",
          "-0.4",
          "-0.7",
          "-1",
          "0.1"
         ],
         "y0": " ",
         "yaxis": "y"
        },
        {
         "alignmentgroup": "True",
         "hovertemplate": "state=%{x}<br>anomaly_level=%{y}<extra></extra>",
         "legendgroup": "NV",
         "marker": {
          "color": "#00cc96"
         },
         "name": "NV",
         "notched": false,
         "offsetgroup": "NV",
         "orientation": "v",
         "showlegend": true,
         "type": "box",
         "x": [
          "NV",
          "NV",
          "NV",
          "NV",
          "NV",
          "NV",
          "NV"
         ],
         "x0": " ",
         "xaxis": "x",
         "y": [
          "-1.3",
          "-0.2",
          "2.3",
          "-0.4",
          "0.3",
          "1.6",
          "-0.7"
         ],
         "y0": " ",
         "yaxis": "y"
        },
        {
         "alignmentgroup": "True",
         "hovertemplate": "state=%{x}<br>anomaly_level=%{y}<extra></extra>",
         "legendgroup": "CO",
         "marker": {
          "color": "#ab63fa"
         },
         "name": "CO",
         "notched": false,
         "offsetgroup": "CO",
         "orientation": "v",
         "showlegend": true,
         "type": "box",
         "x": [
          "CO",
          "CO",
          "CO",
          "CO",
          "CO",
          "CO",
          "CO",
          "CO",
          "CO",
          "CO",
          "CO",
          "CO",
          "CO",
          "CO",
          "CO"
         ],
         "x0": " ",
         "xaxis": "x",
         "y": [
          "-0.2",
          "-0.2",
          "0.2",
          "-0.9",
          "0.5",
          "-0.3",
          "0.5",
          "1.6",
          "0.3",
          "-0.4",
          "-0.6",
          "-0.1",
          "0.3",
          "0.7",
          "-0.5"
         ],
         "y0": " ",
         "yaxis": "y"
        },
        {
         "alignmentgroup": "True",
         "hovertemplate": "state=%{x}<br>anomaly_level=%{y}<extra></extra>",
         "legendgroup": "KS",
         "marker": {
          "color": "#FFA15A"
         },
         "name": "KS",
         "notched": false,
         "offsetgroup": "KS",
         "orientation": "v",
         "showlegend": true,
         "type": "box",
         "x": [
          "KS",
          "KS",
          "KS",
          "KS",
          "KS",
          "KS",
          "KS",
          "KS"
         ],
         "x0": " ",
         "xaxis": "x",
         "y": [
          "0.6",
          "2.3",
          "0.7",
          "-1.3",
          "2.3",
          "-0.3",
          "1",
          "0.7"
         ],
         "y0": " ",
         "yaxis": "y"
        },
        {
         "alignmentgroup": "True",
         "hovertemplate": "state=%{x}<br>anomaly_level=%{y}<extra></extra>",
         "legendgroup": "HI",
         "marker": {
          "color": "#19d3f3"
         },
         "name": "HI",
         "notched": false,
         "offsetgroup": "HI",
         "orientation": "v",
         "showlegend": true,
         "type": "box",
         "x": [
          "HI",
          "HI",
          "HI",
          "HI",
          "HI"
         ],
         "x0": " ",
         "xaxis": "x",
         "y": [
          "-0.7",
          "-0.4",
          "0.7",
          "0",
          "0.7"
         ],
         "y0": " ",
         "yaxis": "y"
        },
        {
         "alignmentgroup": "True",
         "hovertemplate": "state=%{x}<br>anomaly_level=%{y}<extra></extra>",
         "legendgroup": "ID",
         "marker": {
          "color": "#FF6692"
         },
         "name": "ID",
         "notched": false,
         "offsetgroup": "ID",
         "orientation": "v",
         "showlegend": true,
         "type": "box",
         "x": [
          "ID",
          "ID",
          "ID",
          "ID",
          "ID",
          "ID",
          "ID",
          "ID",
          "ID"
         ],
         "x0": " ",
         "xaxis": "x",
         "y": [
          "-0.3",
          "-0.9",
          "0.3",
          "-1.3",
          "-0.1",
          "-0.3",
          "1.6",
          "1.6",
          "-0.3"
         ],
         "y0": " ",
         "yaxis": "y"
        },
        {
         "alignmentgroup": "True",
         "hovertemplate": "state=%{x}<br>anomaly_level=%{y}<extra></extra>",
         "legendgroup": "ND",
         "marker": {
          "color": "#B6E880"
         },
         "name": "ND",
         "notched": false,
         "offsetgroup": "ND",
         "orientation": "v",
         "showlegend": true,
         "type": "box",
         "x": [
          "ND"
         ],
         "x0": " ",
         "xaxis": "x",
         "y": [
          "-0.9"
         ],
         "y0": " ",
         "yaxis": "y"
        },
        {
         "alignmentgroup": "True",
         "hovertemplate": "state=%{x}<br>anomaly_level=%{y}<extra></extra>",
         "legendgroup": "SD",
         "marker": {
          "color": "#FF97FF"
         },
         "name": "SD",
         "notched": false,
         "offsetgroup": "SD",
         "orientation": "v",
         "showlegend": true,
         "type": "box",
         "x": [
          "SD",
          "SD"
         ],
         "x0": " ",
         "xaxis": "x",
         "y": [
          "0.5",
          "0.5"
         ],
         "y0": " ",
         "yaxis": "y"
        }
       ],
       "layout": {
        "boxmode": "overlay",
        "font": {
         "size": 12
        },
        "height": 400,
        "legend": {
         "title": {
          "text": "state"
         },
         "tracegroupgap": 0
        },
        "showlegend": false,
        "template": {
         "data": {
          "bar": [
           {
            "error_x": {
             "color": "#2a3f5f"
            },
            "error_y": {
             "color": "#2a3f5f"
            },
            "marker": {
             "line": {
              "color": "#E5ECF6",
              "width": 0.5
             },
             "pattern": {
              "fillmode": "overlay",
              "size": 10,
              "solidity": 0.2
             }
            },
            "type": "bar"
           }
          ],
          "barpolar": [
           {
            "marker": {
             "line": {
              "color": "#E5ECF6",
              "width": 0.5
             },
             "pattern": {
              "fillmode": "overlay",
              "size": 10,
              "solidity": 0.2
             }
            },
            "type": "barpolar"
           }
          ],
          "carpet": [
           {
            "aaxis": {
             "endlinecolor": "#2a3f5f",
             "gridcolor": "white",
             "linecolor": "white",
             "minorgridcolor": "white",
             "startlinecolor": "#2a3f5f"
            },
            "baxis": {
             "endlinecolor": "#2a3f5f",
             "gridcolor": "white",
             "linecolor": "white",
             "minorgridcolor": "white",
             "startlinecolor": "#2a3f5f"
            },
            "type": "carpet"
           }
          ],
          "choropleth": [
           {
            "colorbar": {
             "outlinewidth": 0,
             "ticks": ""
            },
            "type": "choropleth"
           }
          ],
          "contour": [
           {
            "colorbar": {
             "outlinewidth": 0,
             "ticks": ""
            },
            "colorscale": [
             [
              0,
              "#0d0887"
             ],
             [
              0.1111111111111111,
              "#46039f"
             ],
             [
              0.2222222222222222,
              "#7201a8"
             ],
             [
              0.3333333333333333,
              "#9c179e"
             ],
             [
              0.4444444444444444,
              "#bd3786"
             ],
             [
              0.5555555555555556,
              "#d8576b"
             ],
             [
              0.6666666666666666,
              "#ed7953"
             ],
             [
              0.7777777777777778,
              "#fb9f3a"
             ],
             [
              0.8888888888888888,
              "#fdca26"
             ],
             [
              1,
              "#f0f921"
             ]
            ],
            "type": "contour"
           }
          ],
          "contourcarpet": [
           {
            "colorbar": {
             "outlinewidth": 0,
             "ticks": ""
            },
            "type": "contourcarpet"
           }
          ],
          "heatmap": [
           {
            "colorbar": {
             "outlinewidth": 0,
             "ticks": ""
            },
            "colorscale": [
             [
              0,
              "#0d0887"
             ],
             [
              0.1111111111111111,
              "#46039f"
             ],
             [
              0.2222222222222222,
              "#7201a8"
             ],
             [
              0.3333333333333333,
              "#9c179e"
             ],
             [
              0.4444444444444444,
              "#bd3786"
             ],
             [
              0.5555555555555556,
              "#d8576b"
             ],
             [
              0.6666666666666666,
              "#ed7953"
             ],
             [
              0.7777777777777778,
              "#fb9f3a"
             ],
             [
              0.8888888888888888,
              "#fdca26"
             ],
             [
              1,
              "#f0f921"
             ]
            ],
            "type": "heatmap"
           }
          ],
          "heatmapgl": [
           {
            "colorbar": {
             "outlinewidth": 0,
             "ticks": ""
            },
            "colorscale": [
             [
              0,
              "#0d0887"
             ],
             [
              0.1111111111111111,
              "#46039f"
             ],
             [
              0.2222222222222222,
              "#7201a8"
             ],
             [
              0.3333333333333333,
              "#9c179e"
             ],
             [
              0.4444444444444444,
              "#bd3786"
             ],
             [
              0.5555555555555556,
              "#d8576b"
             ],
             [
              0.6666666666666666,
              "#ed7953"
             ],
             [
              0.7777777777777778,
              "#fb9f3a"
             ],
             [
              0.8888888888888888,
              "#fdca26"
             ],
             [
              1,
              "#f0f921"
             ]
            ],
            "type": "heatmapgl"
           }
          ],
          "histogram": [
           {
            "marker": {
             "pattern": {
              "fillmode": "overlay",
              "size": 10,
              "solidity": 0.2
             }
            },
            "type": "histogram"
           }
          ],
          "histogram2d": [
           {
            "colorbar": {
             "outlinewidth": 0,
             "ticks": ""
            },
            "colorscale": [
             [
              0,
              "#0d0887"
             ],
             [
              0.1111111111111111,
              "#46039f"
             ],
             [
              0.2222222222222222,
              "#7201a8"
             ],
             [
              0.3333333333333333,
              "#9c179e"
             ],
             [
              0.4444444444444444,
              "#bd3786"
             ],
             [
              0.5555555555555556,
              "#d8576b"
             ],
             [
              0.6666666666666666,
              "#ed7953"
             ],
             [
              0.7777777777777778,
              "#fb9f3a"
             ],
             [
              0.8888888888888888,
              "#fdca26"
             ],
             [
              1,
              "#f0f921"
             ]
            ],
            "type": "histogram2d"
           }
          ],
          "histogram2dcontour": [
           {
            "colorbar": {
             "outlinewidth": 0,
             "ticks": ""
            },
            "colorscale": [
             [
              0,
              "#0d0887"
             ],
             [
              0.1111111111111111,
              "#46039f"
             ],
             [
              0.2222222222222222,
              "#7201a8"
             ],
             [
              0.3333333333333333,
              "#9c179e"
             ],
             [
              0.4444444444444444,
              "#bd3786"
             ],
             [
              0.5555555555555556,
              "#d8576b"
             ],
             [
              0.6666666666666666,
              "#ed7953"
             ],
             [
              0.7777777777777778,
              "#fb9f3a"
             ],
             [
              0.8888888888888888,
              "#fdca26"
             ],
             [
              1,
              "#f0f921"
             ]
            ],
            "type": "histogram2dcontour"
           }
          ],
          "mesh3d": [
           {
            "colorbar": {
             "outlinewidth": 0,
             "ticks": ""
            },
            "type": "mesh3d"
           }
          ],
          "parcoords": [
           {
            "line": {
             "colorbar": {
              "outlinewidth": 0,
              "ticks": ""
             }
            },
            "type": "parcoords"
           }
          ],
          "pie": [
           {
            "automargin": true,
            "type": "pie"
           }
          ],
          "scatter": [
           {
            "fillpattern": {
             "fillmode": "overlay",
             "size": 10,
             "solidity": 0.2
            },
            "type": "scatter"
           }
          ],
          "scatter3d": [
           {
            "line": {
             "colorbar": {
              "outlinewidth": 0,
              "ticks": ""
             }
            },
            "marker": {
             "colorbar": {
              "outlinewidth": 0,
              "ticks": ""
             }
            },
            "type": "scatter3d"
           }
          ],
          "scattercarpet": [
           {
            "marker": {
             "colorbar": {
              "outlinewidth": 0,
              "ticks": ""
             }
            },
            "type": "scattercarpet"
           }
          ],
          "scattergeo": [
           {
            "marker": {
             "colorbar": {
              "outlinewidth": 0,
              "ticks": ""
             }
            },
            "type": "scattergeo"
           }
          ],
          "scattergl": [
           {
            "marker": {
             "colorbar": {
              "outlinewidth": 0,
              "ticks": ""
             }
            },
            "type": "scattergl"
           }
          ],
          "scattermapbox": [
           {
            "marker": {
             "colorbar": {
              "outlinewidth": 0,
              "ticks": ""
             }
            },
            "type": "scattermapbox"
           }
          ],
          "scatterpolar": [
           {
            "marker": {
             "colorbar": {
              "outlinewidth": 0,
              "ticks": ""
             }
            },
            "type": "scatterpolar"
           }
          ],
          "scatterpolargl": [
           {
            "marker": {
             "colorbar": {
              "outlinewidth": 0,
              "ticks": ""
             }
            },
            "type": "scatterpolargl"
           }
          ],
          "scatterternary": [
           {
            "marker": {
             "colorbar": {
              "outlinewidth": 0,
              "ticks": ""
             }
            },
            "type": "scatterternary"
           }
          ],
          "surface": [
           {
            "colorbar": {
             "outlinewidth": 0,
             "ticks": ""
            },
            "colorscale": [
             [
              0,
              "#0d0887"
             ],
             [
              0.1111111111111111,
              "#46039f"
             ],
             [
              0.2222222222222222,
              "#7201a8"
             ],
             [
              0.3333333333333333,
              "#9c179e"
             ],
             [
              0.4444444444444444,
              "#bd3786"
             ],
             [
              0.5555555555555556,
              "#d8576b"
             ],
             [
              0.6666666666666666,
              "#ed7953"
             ],
             [
              0.7777777777777778,
              "#fb9f3a"
             ],
             [
              0.8888888888888888,
              "#fdca26"
             ],
             [
              1,
              "#f0f921"
             ]
            ],
            "type": "surface"
           }
          ],
          "table": [
           {
            "cells": {
             "fill": {
              "color": "#EBF0F8"
             },
             "line": {
              "color": "white"
             }
            },
            "header": {
             "fill": {
              "color": "#C8D4E3"
             },
             "line": {
              "color": "white"
             }
            },
            "type": "table"
           }
          ]
         },
         "layout": {
          "annotationdefaults": {
           "arrowcolor": "#2a3f5f",
           "arrowhead": 0,
           "arrowwidth": 1
          },
          "autotypenumbers": "strict",
          "coloraxis": {
           "colorbar": {
            "outlinewidth": 0,
            "ticks": ""
           }
          },
          "colorscale": {
           "diverging": [
            [
             0,
             "#8e0152"
            ],
            [
             0.1,
             "#c51b7d"
            ],
            [
             0.2,
             "#de77ae"
            ],
            [
             0.3,
             "#f1b6da"
            ],
            [
             0.4,
             "#fde0ef"
            ],
            [
             0.5,
             "#f7f7f7"
            ],
            [
             0.6,
             "#e6f5d0"
            ],
            [
             0.7,
             "#b8e186"
            ],
            [
             0.8,
             "#7fbc41"
            ],
            [
             0.9,
             "#4d9221"
            ],
            [
             1,
             "#276419"
            ]
           ],
           "sequential": [
            [
             0,
             "#0d0887"
            ],
            [
             0.1111111111111111,
             "#46039f"
            ],
            [
             0.2222222222222222,
             "#7201a8"
            ],
            [
             0.3333333333333333,
             "#9c179e"
            ],
            [
             0.4444444444444444,
             "#bd3786"
            ],
            [
             0.5555555555555556,
             "#d8576b"
            ],
            [
             0.6666666666666666,
             "#ed7953"
            ],
            [
             0.7777777777777778,
             "#fb9f3a"
            ],
            [
             0.8888888888888888,
             "#fdca26"
            ],
            [
             1,
             "#f0f921"
            ]
           ],
           "sequentialminus": [
            [
             0,
             "#0d0887"
            ],
            [
             0.1111111111111111,
             "#46039f"
            ],
            [
             0.2222222222222222,
             "#7201a8"
            ],
            [
             0.3333333333333333,
             "#9c179e"
            ],
            [
             0.4444444444444444,
             "#bd3786"
            ],
            [
             0.5555555555555556,
             "#d8576b"
            ],
            [
             0.6666666666666666,
             "#ed7953"
            ],
            [
             0.7777777777777778,
             "#fb9f3a"
            ],
            [
             0.8888888888888888,
             "#fdca26"
            ],
            [
             1,
             "#f0f921"
            ]
           ]
          },
          "colorway": [
           "#636efa",
           "#EF553B",
           "#00cc96",
           "#ab63fa",
           "#FFA15A",
           "#19d3f3",
           "#FF6692",
           "#B6E880",
           "#FF97FF",
           "#FECB52"
          ],
          "font": {
           "color": "#2a3f5f"
          },
          "geo": {
           "bgcolor": "white",
           "lakecolor": "white",
           "landcolor": "#E5ECF6",
           "showlakes": true,
           "showland": true,
           "subunitcolor": "white"
          },
          "hoverlabel": {
           "align": "left"
          },
          "hovermode": "closest",
          "mapbox": {
           "style": "light"
          },
          "paper_bgcolor": "white",
          "plot_bgcolor": "#E5ECF6",
          "polar": {
           "angularaxis": {
            "gridcolor": "white",
            "linecolor": "white",
            "ticks": ""
           },
           "bgcolor": "#E5ECF6",
           "radialaxis": {
            "gridcolor": "white",
            "linecolor": "white",
            "ticks": ""
           }
          },
          "scene": {
           "xaxis": {
            "backgroundcolor": "#E5ECF6",
            "gridcolor": "white",
            "gridwidth": 2,
            "linecolor": "white",
            "showbackground": true,
            "ticks": "",
            "zerolinecolor": "white"
           },
           "yaxis": {
            "backgroundcolor": "#E5ECF6",
            "gridcolor": "white",
            "gridwidth": 2,
            "linecolor": "white",
            "showbackground": true,
            "ticks": "",
            "zerolinecolor": "white"
           },
           "zaxis": {
            "backgroundcolor": "#E5ECF6",
            "gridcolor": "white",
            "gridwidth": 2,
            "linecolor": "white",
            "showbackground": true,
            "ticks": "",
            "zerolinecolor": "white"
           }
          },
          "shapedefaults": {
           "line": {
            "color": "#2a3f5f"
           }
          },
          "ternary": {
           "aaxis": {
            "gridcolor": "white",
            "linecolor": "white",
            "ticks": ""
           },
           "baxis": {
            "gridcolor": "white",
            "linecolor": "white",
            "ticks": ""
           },
           "bgcolor": "#E5ECF6",
           "caxis": {
            "gridcolor": "white",
            "linecolor": "white",
            "ticks": ""
           }
          },
          "title": {
           "x": 0.05
          },
          "xaxis": {
           "automargin": true,
           "gridcolor": "white",
           "linecolor": "white",
           "ticks": "",
           "title": {
            "standoff": 15
           },
           "zerolinecolor": "white",
           "zerolinewidth": 2
          },
          "yaxis": {
           "automargin": true,
           "gridcolor": "white",
           "linecolor": "white",
           "ticks": "",
           "title": {
            "standoff": 15
           },
           "zerolinecolor": "white",
           "zerolinewidth": 2
          }
         }
        },
        "title": {
         "font": {
          "size": 30
         },
         "text": "Anomaly Levels by State"
        },
        "width": 800,
        "xaxis": {
         "anchor": "y",
         "categoryarray": [
          "MN",
          "TN",
          "WI",
          "WV",
          "MI",
          "TX",
          "IN",
          "AL",
          "MS",
          "IL",
          "WA",
          "AZ",
          "MD",
          "PA",
          "KY",
          "UT",
          "OH",
          "NC",
          "NJ",
          "SC",
          "OR",
          "DC",
          "MO",
          "DE",
          "IA",
          "MT",
          "NY",
          "LA",
          "FL",
          "CA",
          "AR",
          "VA",
          "NE",
          "WY",
          "NM",
          "VT",
          "GA",
          "CT",
          "OK",
          "MA",
          "ME",
          "NH",
          "NV",
          "CO",
          "KS",
          "HI",
          "ID",
          "ND",
          "SD"
         ],
         "categoryorder": "array",
         "domain": [
          0,
          1
         ],
         "tickangle": 90,
         "title": {
          "text": "State"
         }
        },
        "yaxis": {
         "anchor": "x",
         "domain": [
          0,
          1
         ],
         "title": {
          "text": "Anomaly Level"
         }
        }
       }
      }
     },
     "metadata": {},
     "output_type": "display_data"
    }
   ],
   "source": [
    "fig = px.box(\n",
    "    outage,\n",
    "    x='state',\n",
    "    y='anomaly_level',\n",
    "    color='state',  # Optional: colors each box by state\n",
    "    title='Anomaly Levels by State',\n",
    ")\n",
    "\n",
    "fig.update_layout(\n",
    "    xaxis_title='State',\n",
    "    yaxis_title='Anomaly Level',\n",
    "    title_font=dict(size=30),\n",
    "    xaxis_tickangle=90,\n",
    "    font=dict(size=12),\n",
    "    height=400,\n",
    "    width=800,\n",
    "    showlegend=False  # You can turn this on if coloring by state is meaningful\n",
    ")\n",
    "\n",
    "fig.show()\n"
   ]
  },
  {
   "cell_type": "code",
   "execution_count": 17,
   "metadata": {},
   "outputs": [
    {
     "data": {
      "application/vnd.plotly.v1+json": {
       "config": {
        "plotlyServerURL": "https://plot.ly"
       },
       "data": [
        {
         "branchvalues": "total",
         "customdata": [
          [
           "Central"
          ],
          [
           "East North Central"
          ],
          [
           "Northeast"
          ],
          [
           "Northwest"
          ],
          [
           "South"
          ],
          [
           "Southeast"
          ],
          [
           "Southwest"
          ],
          [
           "South"
          ],
          [
           "Northwest"
          ],
          [
           "Northeast"
          ],
          [
           "West North Central"
          ],
          [
           "Central"
          ],
          [
           "West"
          ],
          [
           "East North Central"
          ],
          [
           "Northwest"
          ],
          [
           "South"
          ],
          [
           "Northeast"
          ],
          [
           "West"
          ],
          [
           "Central"
          ],
          [
           "Southwest"
          ],
          [
           "East North Central"
          ],
          [
           "Southeast"
          ],
          [
           "Southwest"
          ],
          [
           "West"
          ],
          [
           "West North Central"
          ],
          [
           "Central"
          ],
          [
           "East North Central"
          ],
          [
           "Northeast"
          ],
          [
           "Central"
          ],
          [
           "East North Central"
          ],
          [
           "West North Central"
          ],
          [
           "South"
          ],
          [
           "Southwest"
          ],
          [
           "Northwest"
          ],
          [
           "West"
          ],
          [
           "Northeast"
          ],
          [
           "Northwest"
          ],
          [
           "South"
          ],
          [
           "Southeast"
          ],
          [
           "Southwest"
          ],
          [
           "South"
          ],
          [
           "Northeast"
          ],
          [
           "East North Central"
          ],
          [
           "Northwest"
          ],
          [
           "West North Central"
          ],
          [
           "West"
          ],
          [
           "Central"
          ],
          [
           "Southeast"
          ],
          [
           "Southwest"
          ],
          [
           "West"
          ],
          [
           "West North Central"
          ],
          [
           "Central"
          ],
          [
           "East North Central"
          ],
          [
           "Northeast"
          ],
          [
           "Southwest"
          ],
          [
           "Northwest"
          ],
          [
           "South"
          ],
          [
           "Southeast"
          ],
          [
           "West"
          ],
          [
           "Central"
          ],
          [
           "East North Central"
          ],
          [
           "Northeast"
          ],
          [
           "Northwest"
          ],
          [
           "South"
          ],
          [
           "Southeast"
          ],
          [
           "Southwest"
          ],
          [
           "West"
          ],
          [
           "West North Central"
          ]
         ],
         "domain": {
          "x": [
           0,
           1
          ],
          "y": [
           0,
           1
          ]
         },
         "hovertemplate": "labels=%{label}<br>outage_count=%{value}<br>parent=%{parent}<br>id=%{id}<br>climate_region=%{customdata[0]}<extra></extra>",
         "ids": [
          "Central/equipment failure",
          "East North Central/equipment failure",
          "Northeast/equipment failure",
          "Northwest/equipment failure",
          "South/equipment failure",
          "Southeast/equipment failure",
          "Southwest/equipment failure",
          "South/fuel supply emergency",
          "Northwest/fuel supply emergency",
          "Northeast/fuel supply emergency",
          "West North Central/equipment failure",
          "Central/fuel supply emergency",
          "West/equipment failure",
          "East North Central/fuel supply emergency",
          "Northwest/intentional attack",
          "South/intentional attack",
          "Northeast/intentional attack",
          "West/fuel supply emergency",
          "Central/intentional attack",
          "Southwest/fuel supply emergency",
          "East North Central/intentional attack",
          "Southeast/intentional attack",
          "Southwest/intentional attack",
          "West/intentional attack",
          "West North Central/intentional attack",
          "Central/islanding",
          "East North Central/islanding",
          "Northeast/islanding",
          "Central/public appeal",
          "East North Central/public appeal",
          "West North Central/islanding",
          "South/islanding",
          "Southwest/islanding",
          "Northwest/islanding",
          "West/islanding",
          "Northeast/public appeal",
          "Northwest/public appeal",
          "South/public appeal",
          "Southeast/public appeal",
          "Southwest/public appeal",
          "South/severe weather",
          "Northeast/severe weather",
          "East North Central/severe weather",
          "Northwest/severe weather",
          "West North Central/public appeal",
          "West/public appeal",
          "Central/severe weather",
          "Southeast/severe weather",
          "Southwest/severe weather",
          "West/severe weather",
          "West North Central/severe weather",
          "Central/system operability disruption",
          "East North Central/system operability disruption",
          "Northeast/system operability disruption",
          "Southwest/system operability disruption",
          "Northwest/system operability disruption",
          "South/system operability disruption",
          "Southeast/system operability disruption",
          "West/system operability disruption",
          "Central",
          "East North Central",
          "Northeast",
          "Northwest",
          "South",
          "Southeast",
          "Southwest",
          "West",
          "West North Central"
         ],
         "insidetextorientation": "radial",
         "labels": [
          "equipment failure",
          "equipment failure",
          "equipment failure",
          "equipment failure",
          "equipment failure",
          "equipment failure",
          "equipment failure",
          "fuel supply emergency",
          "fuel supply emergency",
          "fuel supply emergency",
          "equipment failure",
          "fuel supply emergency",
          "equipment failure",
          "fuel supply emergency",
          "intentional attack",
          "intentional attack",
          "intentional attack",
          "fuel supply emergency",
          "intentional attack",
          "fuel supply emergency",
          "intentional attack",
          "intentional attack",
          "intentional attack",
          "intentional attack",
          "intentional attack",
          "islanding",
          "islanding",
          "islanding",
          "public appeal",
          "public appeal",
          "islanding",
          "islanding",
          "islanding",
          "islanding",
          "islanding",
          "public appeal",
          "public appeal",
          "public appeal",
          "public appeal",
          "public appeal",
          "severe weather",
          "severe weather",
          "severe weather",
          "severe weather",
          "public appeal",
          "public appeal",
          "severe weather",
          "severe weather",
          "severe weather",
          "severe weather",
          "severe weather",
          "system operability disruption",
          "system operability disruption",
          "system operability disruption",
          "system operability disruption",
          "system operability disruption",
          "system operability disruption",
          "system operability disruption",
          "system operability disruption",
          "Central",
          "East North Central",
          "Northeast",
          "Northwest",
          "South",
          "Southeast",
          "Southwest",
          "West",
          "West North Central"
         ],
         "marker": {
          "colors": [
           "#f050aeff",
           "#ffab00ff",
           "#33a8c7ff",
           "#fdf148ff",
           "#9336fdff",
           "#f77976ff",
           "#a0e426ff",
           "#9336fdff",
           "#fdf148ff",
           "#33a8c7ff",
           "#52e3e1ff",
           "#f050aeff",
           "#d883ffff",
           "#ffab00ff",
           "#fdf148ff",
           "#9336fdff",
           "#33a8c7ff",
           "#d883ffff",
           "#f050aeff",
           "#a0e426ff",
           "#ffab00ff",
           "#f77976ff",
           "#a0e426ff",
           "#d883ffff",
           "#52e3e1ff",
           "#f050aeff",
           "#ffab00ff",
           "#33a8c7ff",
           "#f050aeff",
           "#ffab00ff",
           "#52e3e1ff",
           "#9336fdff",
           "#a0e426ff",
           "#fdf148ff",
           "#d883ffff",
           "#33a8c7ff",
           "#fdf148ff",
           "#9336fdff",
           "#f77976ff",
           "#a0e426ff",
           "#9336fdff",
           "#33a8c7ff",
           "#ffab00ff",
           "#fdf148ff",
           "#52e3e1ff",
           "#d883ffff",
           "#f050aeff",
           "#f77976ff",
           "#a0e426ff",
           "#d883ffff",
           "#52e3e1ff",
           "#f050aeff",
           "#ffab00ff",
           "#33a8c7ff",
           "#a0e426ff",
           "#fdf148ff",
           "#9336fdff",
           "#f77976ff",
           "#d883ffff",
           "#f050aeff",
           "#ffab00ff",
           "#33a8c7ff",
           "#fdf148ff",
           "#9336fdff",
           "#f77976ff",
           "#a0e426ff",
           "#d883ffff",
           "#52e3e1ff"
          ]
         },
         "name": "",
         "parents": [
          "Central",
          "East North Central",
          "Northeast",
          "Northwest",
          "South",
          "Southeast",
          "Southwest",
          "South",
          "Northwest",
          "Northeast",
          "West North Central",
          "Central",
          "West",
          "East North Central",
          "Northwest",
          "South",
          "Northeast",
          "West",
          "Central",
          "Southwest",
          "East North Central",
          "Southeast",
          "Southwest",
          "West",
          "West North Central",
          "Central",
          "East North Central",
          "Northeast",
          "Central",
          "East North Central",
          "West North Central",
          "South",
          "Southwest",
          "Northwest",
          "West",
          "Northeast",
          "Northwest",
          "South",
          "Southeast",
          "Southwest",
          "South",
          "Northeast",
          "East North Central",
          "Northwest",
          "West North Central",
          "West",
          "Central",
          "Southeast",
          "Southwest",
          "West",
          "West North Central",
          "Central",
          "East North Central",
          "Northeast",
          "Southwest",
          "Northwest",
          "South",
          "Southeast",
          "West",
          "",
          "",
          "",
          "",
          "",
          "",
          "",
          "",
          ""
         ],
         "type": "sunburst",
         "values": [
          7,
          3,
          5,
          2,
          9,
          4,
          5,
          7,
          1,
          14,
          1,
          4,
          21,
          5,
          89,
          28,
          135,
          17,
          38,
          2,
          20,
          9,
          64,
          31,
          4,
          3,
          1,
          1,
          2,
          2,
          5,
          2,
          1,
          5,
          28,
          4,
          2,
          42,
          5,
          1,
          112,
          176,
          104,
          29,
          2,
          9,
          134,
          116,
          10,
          70,
          4,
          11,
          3,
          14,
          9,
          4,
          27,
          16,
          41,
          199,
          138,
          349,
          132,
          227,
          150,
          92,
          217,
          16
         ]
        }
       ],
       "layout": {
        "height": 600,
        "legend": {
         "tracegroupgap": 0
        },
        "template": {
         "data": {
          "bar": [
           {
            "error_x": {
             "color": "#2a3f5f"
            },
            "error_y": {
             "color": "#2a3f5f"
            },
            "marker": {
             "line": {
              "color": "#E5ECF6",
              "width": 0.5
             },
             "pattern": {
              "fillmode": "overlay",
              "size": 10,
              "solidity": 0.2
             }
            },
            "type": "bar"
           }
          ],
          "barpolar": [
           {
            "marker": {
             "line": {
              "color": "#E5ECF6",
              "width": 0.5
             },
             "pattern": {
              "fillmode": "overlay",
              "size": 10,
              "solidity": 0.2
             }
            },
            "type": "barpolar"
           }
          ],
          "carpet": [
           {
            "aaxis": {
             "endlinecolor": "#2a3f5f",
             "gridcolor": "white",
             "linecolor": "white",
             "minorgridcolor": "white",
             "startlinecolor": "#2a3f5f"
            },
            "baxis": {
             "endlinecolor": "#2a3f5f",
             "gridcolor": "white",
             "linecolor": "white",
             "minorgridcolor": "white",
             "startlinecolor": "#2a3f5f"
            },
            "type": "carpet"
           }
          ],
          "choropleth": [
           {
            "colorbar": {
             "outlinewidth": 0,
             "ticks": ""
            },
            "type": "choropleth"
           }
          ],
          "contour": [
           {
            "colorbar": {
             "outlinewidth": 0,
             "ticks": ""
            },
            "colorscale": [
             [
              0,
              "#0d0887"
             ],
             [
              0.1111111111111111,
              "#46039f"
             ],
             [
              0.2222222222222222,
              "#7201a8"
             ],
             [
              0.3333333333333333,
              "#9c179e"
             ],
             [
              0.4444444444444444,
              "#bd3786"
             ],
             [
              0.5555555555555556,
              "#d8576b"
             ],
             [
              0.6666666666666666,
              "#ed7953"
             ],
             [
              0.7777777777777778,
              "#fb9f3a"
             ],
             [
              0.8888888888888888,
              "#fdca26"
             ],
             [
              1,
              "#f0f921"
             ]
            ],
            "type": "contour"
           }
          ],
          "contourcarpet": [
           {
            "colorbar": {
             "outlinewidth": 0,
             "ticks": ""
            },
            "type": "contourcarpet"
           }
          ],
          "heatmap": [
           {
            "colorbar": {
             "outlinewidth": 0,
             "ticks": ""
            },
            "colorscale": [
             [
              0,
              "#0d0887"
             ],
             [
              0.1111111111111111,
              "#46039f"
             ],
             [
              0.2222222222222222,
              "#7201a8"
             ],
             [
              0.3333333333333333,
              "#9c179e"
             ],
             [
              0.4444444444444444,
              "#bd3786"
             ],
             [
              0.5555555555555556,
              "#d8576b"
             ],
             [
              0.6666666666666666,
              "#ed7953"
             ],
             [
              0.7777777777777778,
              "#fb9f3a"
             ],
             [
              0.8888888888888888,
              "#fdca26"
             ],
             [
              1,
              "#f0f921"
             ]
            ],
            "type": "heatmap"
           }
          ],
          "heatmapgl": [
           {
            "colorbar": {
             "outlinewidth": 0,
             "ticks": ""
            },
            "colorscale": [
             [
              0,
              "#0d0887"
             ],
             [
              0.1111111111111111,
              "#46039f"
             ],
             [
              0.2222222222222222,
              "#7201a8"
             ],
             [
              0.3333333333333333,
              "#9c179e"
             ],
             [
              0.4444444444444444,
              "#bd3786"
             ],
             [
              0.5555555555555556,
              "#d8576b"
             ],
             [
              0.6666666666666666,
              "#ed7953"
             ],
             [
              0.7777777777777778,
              "#fb9f3a"
             ],
             [
              0.8888888888888888,
              "#fdca26"
             ],
             [
              1,
              "#f0f921"
             ]
            ],
            "type": "heatmapgl"
           }
          ],
          "histogram": [
           {
            "marker": {
             "pattern": {
              "fillmode": "overlay",
              "size": 10,
              "solidity": 0.2
             }
            },
            "type": "histogram"
           }
          ],
          "histogram2d": [
           {
            "colorbar": {
             "outlinewidth": 0,
             "ticks": ""
            },
            "colorscale": [
             [
              0,
              "#0d0887"
             ],
             [
              0.1111111111111111,
              "#46039f"
             ],
             [
              0.2222222222222222,
              "#7201a8"
             ],
             [
              0.3333333333333333,
              "#9c179e"
             ],
             [
              0.4444444444444444,
              "#bd3786"
             ],
             [
              0.5555555555555556,
              "#d8576b"
             ],
             [
              0.6666666666666666,
              "#ed7953"
             ],
             [
              0.7777777777777778,
              "#fb9f3a"
             ],
             [
              0.8888888888888888,
              "#fdca26"
             ],
             [
              1,
              "#f0f921"
             ]
            ],
            "type": "histogram2d"
           }
          ],
          "histogram2dcontour": [
           {
            "colorbar": {
             "outlinewidth": 0,
             "ticks": ""
            },
            "colorscale": [
             [
              0,
              "#0d0887"
             ],
             [
              0.1111111111111111,
              "#46039f"
             ],
             [
              0.2222222222222222,
              "#7201a8"
             ],
             [
              0.3333333333333333,
              "#9c179e"
             ],
             [
              0.4444444444444444,
              "#bd3786"
             ],
             [
              0.5555555555555556,
              "#d8576b"
             ],
             [
              0.6666666666666666,
              "#ed7953"
             ],
             [
              0.7777777777777778,
              "#fb9f3a"
             ],
             [
              0.8888888888888888,
              "#fdca26"
             ],
             [
              1,
              "#f0f921"
             ]
            ],
            "type": "histogram2dcontour"
           }
          ],
          "mesh3d": [
           {
            "colorbar": {
             "outlinewidth": 0,
             "ticks": ""
            },
            "type": "mesh3d"
           }
          ],
          "parcoords": [
           {
            "line": {
             "colorbar": {
              "outlinewidth": 0,
              "ticks": ""
             }
            },
            "type": "parcoords"
           }
          ],
          "pie": [
           {
            "automargin": true,
            "type": "pie"
           }
          ],
          "scatter": [
           {
            "fillpattern": {
             "fillmode": "overlay",
             "size": 10,
             "solidity": 0.2
            },
            "type": "scatter"
           }
          ],
          "scatter3d": [
           {
            "line": {
             "colorbar": {
              "outlinewidth": 0,
              "ticks": ""
             }
            },
            "marker": {
             "colorbar": {
              "outlinewidth": 0,
              "ticks": ""
             }
            },
            "type": "scatter3d"
           }
          ],
          "scattercarpet": [
           {
            "marker": {
             "colorbar": {
              "outlinewidth": 0,
              "ticks": ""
             }
            },
            "type": "scattercarpet"
           }
          ],
          "scattergeo": [
           {
            "marker": {
             "colorbar": {
              "outlinewidth": 0,
              "ticks": ""
             }
            },
            "type": "scattergeo"
           }
          ],
          "scattergl": [
           {
            "marker": {
             "colorbar": {
              "outlinewidth": 0,
              "ticks": ""
             }
            },
            "type": "scattergl"
           }
          ],
          "scattermapbox": [
           {
            "marker": {
             "colorbar": {
              "outlinewidth": 0,
              "ticks": ""
             }
            },
            "type": "scattermapbox"
           }
          ],
          "scatterpolar": [
           {
            "marker": {
             "colorbar": {
              "outlinewidth": 0,
              "ticks": ""
             }
            },
            "type": "scatterpolar"
           }
          ],
          "scatterpolargl": [
           {
            "marker": {
             "colorbar": {
              "outlinewidth": 0,
              "ticks": ""
             }
            },
            "type": "scatterpolargl"
           }
          ],
          "scatterternary": [
           {
            "marker": {
             "colorbar": {
              "outlinewidth": 0,
              "ticks": ""
             }
            },
            "type": "scatterternary"
           }
          ],
          "surface": [
           {
            "colorbar": {
             "outlinewidth": 0,
             "ticks": ""
            },
            "colorscale": [
             [
              0,
              "#0d0887"
             ],
             [
              0.1111111111111111,
              "#46039f"
             ],
             [
              0.2222222222222222,
              "#7201a8"
             ],
             [
              0.3333333333333333,
              "#9c179e"
             ],
             [
              0.4444444444444444,
              "#bd3786"
             ],
             [
              0.5555555555555556,
              "#d8576b"
             ],
             [
              0.6666666666666666,
              "#ed7953"
             ],
             [
              0.7777777777777778,
              "#fb9f3a"
             ],
             [
              0.8888888888888888,
              "#fdca26"
             ],
             [
              1,
              "#f0f921"
             ]
            ],
            "type": "surface"
           }
          ],
          "table": [
           {
            "cells": {
             "fill": {
              "color": "#EBF0F8"
             },
             "line": {
              "color": "white"
             }
            },
            "header": {
             "fill": {
              "color": "#C8D4E3"
             },
             "line": {
              "color": "white"
             }
            },
            "type": "table"
           }
          ]
         },
         "layout": {
          "annotationdefaults": {
           "arrowcolor": "#2a3f5f",
           "arrowhead": 0,
           "arrowwidth": 1
          },
          "autotypenumbers": "strict",
          "coloraxis": {
           "colorbar": {
            "outlinewidth": 0,
            "ticks": ""
           }
          },
          "colorscale": {
           "diverging": [
            [
             0,
             "#8e0152"
            ],
            [
             0.1,
             "#c51b7d"
            ],
            [
             0.2,
             "#de77ae"
            ],
            [
             0.3,
             "#f1b6da"
            ],
            [
             0.4,
             "#fde0ef"
            ],
            [
             0.5,
             "#f7f7f7"
            ],
            [
             0.6,
             "#e6f5d0"
            ],
            [
             0.7,
             "#b8e186"
            ],
            [
             0.8,
             "#7fbc41"
            ],
            [
             0.9,
             "#4d9221"
            ],
            [
             1,
             "#276419"
            ]
           ],
           "sequential": [
            [
             0,
             "#0d0887"
            ],
            [
             0.1111111111111111,
             "#46039f"
            ],
            [
             0.2222222222222222,
             "#7201a8"
            ],
            [
             0.3333333333333333,
             "#9c179e"
            ],
            [
             0.4444444444444444,
             "#bd3786"
            ],
            [
             0.5555555555555556,
             "#d8576b"
            ],
            [
             0.6666666666666666,
             "#ed7953"
            ],
            [
             0.7777777777777778,
             "#fb9f3a"
            ],
            [
             0.8888888888888888,
             "#fdca26"
            ],
            [
             1,
             "#f0f921"
            ]
           ],
           "sequentialminus": [
            [
             0,
             "#0d0887"
            ],
            [
             0.1111111111111111,
             "#46039f"
            ],
            [
             0.2222222222222222,
             "#7201a8"
            ],
            [
             0.3333333333333333,
             "#9c179e"
            ],
            [
             0.4444444444444444,
             "#bd3786"
            ],
            [
             0.5555555555555556,
             "#d8576b"
            ],
            [
             0.6666666666666666,
             "#ed7953"
            ],
            [
             0.7777777777777778,
             "#fb9f3a"
            ],
            [
             0.8888888888888888,
             "#fdca26"
            ],
            [
             1,
             "#f0f921"
            ]
           ]
          },
          "colorway": [
           "#636efa",
           "#EF553B",
           "#00cc96",
           "#ab63fa",
           "#FFA15A",
           "#19d3f3",
           "#FF6692",
           "#B6E880",
           "#FF97FF",
           "#FECB52"
          ],
          "font": {
           "color": "#2a3f5f"
          },
          "geo": {
           "bgcolor": "white",
           "lakecolor": "white",
           "landcolor": "#E5ECF6",
           "showlakes": true,
           "showland": true,
           "subunitcolor": "white"
          },
          "hoverlabel": {
           "align": "left"
          },
          "hovermode": "closest",
          "mapbox": {
           "style": "light"
          },
          "paper_bgcolor": "white",
          "plot_bgcolor": "#E5ECF6",
          "polar": {
           "angularaxis": {
            "gridcolor": "white",
            "linecolor": "white",
            "ticks": ""
           },
           "bgcolor": "#E5ECF6",
           "radialaxis": {
            "gridcolor": "white",
            "linecolor": "white",
            "ticks": ""
           }
          },
          "scene": {
           "xaxis": {
            "backgroundcolor": "#E5ECF6",
            "gridcolor": "white",
            "gridwidth": 2,
            "linecolor": "white",
            "showbackground": true,
            "ticks": "",
            "zerolinecolor": "white"
           },
           "yaxis": {
            "backgroundcolor": "#E5ECF6",
            "gridcolor": "white",
            "gridwidth": 2,
            "linecolor": "white",
            "showbackground": true,
            "ticks": "",
            "zerolinecolor": "white"
           },
           "zaxis": {
            "backgroundcolor": "#E5ECF6",
            "gridcolor": "white",
            "gridwidth": 2,
            "linecolor": "white",
            "showbackground": true,
            "ticks": "",
            "zerolinecolor": "white"
           }
          },
          "shapedefaults": {
           "line": {
            "color": "#2a3f5f"
           }
          },
          "ternary": {
           "aaxis": {
            "gridcolor": "white",
            "linecolor": "white",
            "ticks": ""
           },
           "baxis": {
            "gridcolor": "white",
            "linecolor": "white",
            "ticks": ""
           },
           "bgcolor": "#E5ECF6",
           "caxis": {
            "gridcolor": "white",
            "linecolor": "white",
            "ticks": ""
           }
          },
          "title": {
           "x": 0.05
          },
          "xaxis": {
           "automargin": true,
           "gridcolor": "white",
           "linecolor": "white",
           "ticks": "",
           "title": {
            "standoff": 15
           },
           "zerolinecolor": "white",
           "zerolinewidth": 2
          },
          "yaxis": {
           "automargin": true,
           "gridcolor": "white",
           "linecolor": "white",
           "ticks": "",
           "title": {
            "standoff": 15
           },
           "zerolinecolor": "white",
           "zerolinewidth": 2
          }
         }
        },
        "title": {
         "text": "Outage Counts by Climate Region and Cause Category"
        },
        "width": 600
       }
      }
     },
     "metadata": {},
     "output_type": "display_data"
    }
   ],
   "source": [
    "\n",
    "# Aggregate counts by climate_region and cause_cat\n",
    "agg_df = outage.groupby(['climate_region', 'cause_cat']).size().reset_index(name='outage_count')\n",
    "agg_df = agg_df.sort_values(['climate_region', 'cause_cat'])\n",
    "\n",
    "ordered_regions = ['Northeast', 'West North Central', 'Southwest', 'Northwest', 'East North Central', 'Southeast', 'Central', 'West', 'South']\n",
    "\n",
    "regions = agg_df['climate_region'].unique()\n",
    "colors = ['#33a8c7ff', '#52e3e1ff', '#a0e426ff', '#fdf148ff', '#ffab00ff',  '#f77976ff', '#f050aeff', '#d883ffff', '#9336fdff' ]\n",
    "colors2 = [\"#ef476f\",\"#f78c6b\",\"#ffd166\",\"#83d483\",\"#06d6a0\",\"#0cb0a9\",\"#118ab2\",\"#0c637f\",\"#073b4c\"]\n",
    "colors3 = [\"#5d9cec\",\"#4fc1e9\",\"#48cfad\",\"#a0d468\",\"#ffce54\",\"#fc6e51\",\"#ed5565\",\"#ac92ec\",\"#ec87c0\"]\n",
    "colors4= [\"#ff7073\",\"#ea9e8d\",\"#dbb3b1\",\"#ffe085\",\"#fed35d\",\"#96e6b3\",\"#73d3c9\",\"#8cd9f8\",\"#a0b7cf\"]\n",
    "color_map = {region: colors[i % len(colors4)] for i, region in enumerate(ordered_regions)}\n",
    "\n",
    "fig = px.sunburst(\n",
    "    agg_df,\n",
    "    path=['climate_region', 'cause_cat'],  # hierarchy: inner ring is climate_region, outer is cause_cat\n",
    "    values='outage_count',\n",
    "    color='climate_region',\n",
    "    color_discrete_map=color_map,\n",
    "    #color='outage_count',  \n",
    "    #color_continuous_scale=px.colors.sequential.Plasma,\n",
    "    title='Outage Counts by Climate Region and Cause Category'\n",
    ")\n",
    "fig.update_layout(width=600, height=600)\n",
    "fig.update_traces(insidetextorientation='radial')  # or 'tangential' or 'auto'\n",
    "fig.show()"
   ]
  },
  {
   "cell_type": "code",
   "execution_count": 18,
   "metadata": {},
   "outputs": [
    {
     "data": {
      "application/vnd.plotly.v1+json": {
       "config": {
        "plotlyServerURL": "https://plot.ly"
       },
       "data": [
        {
         "coloraxis": "coloraxis",
         "histfunc": "avg",
         "hovertemplate": "Month=%{x}<br>State=%{y}<br>avg of Avg Outage Count=%{z}<extra></extra>",
         "name": "",
         "type": "histogram2d",
         "x": [
          "7",
          "5",
          "10",
          "6",
          "7",
          "11",
          "7",
          "6",
          "3",
          "6",
          "6",
          "9",
          "7",
          "5",
          "6",
          "6",
          "8",
          "6",
          "4",
          "2",
          "1",
          "7",
          "7",
          "4",
          "1",
          "7",
          "6",
          "4",
          "6",
          "6",
          "6",
          "4",
          "5",
          "2",
          "6",
          "4",
          "7",
          "1",
          "3",
          "1",
          "4",
          "6",
          "3",
          "1",
          "4",
          "6",
          "1",
          "4",
          "1",
          "6",
          "1",
          "11",
          "8",
          "1",
          "4",
          "7",
          "1",
          "1",
          "9",
          "8",
          "10",
          "4",
          "1",
          "3",
          "6",
          "8",
          "1",
          "8",
          "1",
          "3",
          "6",
          "10",
          "6",
          "5",
          "9",
          "11",
          "7",
          "2",
          "7",
          "8",
          "4",
          "5",
          "6",
          "4",
          "3",
          "4",
          "12",
          "11",
          "7",
          "10",
          "6",
          "6",
          "6",
          "11",
          "11",
          "7",
          "2",
          "1",
          "12",
          "10",
          "4",
          "5",
          "8",
          "7",
          "12",
          "7",
          "12",
          "6",
          "9",
          "11",
          "10",
          "1",
          "10",
          "12",
          "9",
          "4",
          "2",
          "5",
          "8",
          "8",
          "3",
          "6",
          "3",
          "7",
          "3",
          "4",
          "12",
          "1",
          "8",
          "9",
          "7",
          "12",
          "6",
          "4",
          "5",
          "6",
          "9",
          "6",
          "7",
          "5",
          "12",
          "5",
          "11",
          "7",
          "12",
          "6",
          "4",
          "7",
          "10",
          "8",
          "8",
          "6",
          "6",
          "11",
          "7",
          "3",
          "8",
          "7",
          "12",
          "5",
          "7",
          "7",
          "1",
          "9",
          "6",
          "7",
          "9",
          "8",
          "7",
          "2",
          "2",
          "7",
          "8",
          "2",
          "1",
          "11",
          "4",
          "5",
          "6",
          "4",
          "6",
          "6",
          "9",
          "8",
          "9",
          "7",
          "7",
          "5",
          "6",
          "3",
          "4",
          "6",
          "4",
          "8",
          "8",
          "4",
          "5",
          "9",
          "3",
          "8",
          "4",
          "3",
          "9",
          "2",
          "10",
          "2",
          "1",
          "12",
          "2",
          "10",
          "9",
          "5",
          "8",
          "1",
          "8",
          "4",
          "2",
          "7",
          "7",
          "12",
          "11",
          "11",
          "3",
          "7",
          "4",
          "8",
          "1",
          "10",
          "8",
          "6",
          "5",
          "2",
          "6",
          "9",
          "6",
          "3",
          "2",
          "4",
          "6",
          "12",
          "4",
          "4",
          "7",
          "4",
          "2",
          "2",
          "6",
          "9",
          "9",
          "3",
          "7",
          "6",
          "4",
          "6",
          "4",
          "1",
          "7",
          "4",
          "8",
          "2",
          "8",
          "3",
          "3",
          "10",
          "8",
          "5",
          "5",
          "9",
          "4",
          "5",
          "6",
          "6",
          "12",
          "9",
          "1",
          "6",
          "6",
          "7",
          "4",
          "3",
          "8",
          "12",
          "4",
          "5",
          "6",
          "9",
          "5",
          "8",
          "1",
          "7",
          "3",
          "5",
          "3",
          "12",
          "6",
          "1",
          "7",
          "11",
          "11",
          "5",
          "8",
          "1",
          "12",
          "6",
          "5",
          "11",
          "11",
          "7",
          "10",
          "11",
          "5",
          "10",
          "7",
          "11",
          "1",
          "8",
          "6",
          "4",
          "6",
          "5",
          "5",
          "6",
          "9",
          "7",
          "4",
          "8",
          "7",
          "5",
          "8",
          "11",
          "6",
          "12",
          "1",
          "6",
          "7",
          "6",
          "1",
          "6",
          "12",
          "8",
          "7",
          "4",
          "6",
          "5",
          "5",
          "5",
          "5",
          "6",
          "5",
          "8",
          "6",
          "10",
          "7",
          "11",
          "10",
          "6",
          "6",
          "6",
          "6",
          "6",
          "8",
          "7",
          "7",
          "7",
          "5",
          "6",
          "6",
          "7",
          "8",
          "4",
          "8",
          "8",
          "7",
          "3",
          "12",
          "7",
          "8",
          "11",
          "8",
          "1",
          "6",
          "8",
          "10",
          "7",
          "6",
          "7",
          "2",
          "7",
          "6",
          "7",
          "5",
          "2",
          "12",
          "2",
          "12",
          "1",
          "8",
          "8",
          "4",
          "4",
          "5",
          "12",
          "6",
          "10",
          "1",
          "11",
          "9",
          "12",
          "1",
          "3",
          "7",
          "12",
          "1",
          "3",
          "7",
          "9",
          "11",
          "12",
          "11",
          "8",
          "3",
          "4",
          "9",
          "3",
          "3",
          "7",
          "2",
          "3",
          "7",
          "8",
          "2",
          "4",
          "4",
          "4",
          "7",
          "12",
          "10",
          "2",
          "1",
          "1",
          "11",
          "8",
          "7",
          "11",
          "2",
          "2",
          "8",
          "8",
          "9",
          "6",
          "6",
          "9",
          "10",
          "3",
          "11",
          "7",
          "7",
          "12",
          "4",
          "6",
          "8",
          "12",
          "5",
          "7",
          "5",
          "12",
          "1",
          "12",
          "6",
          "9",
          "6",
          "4",
          "12",
          "2",
          "12",
          "7",
          "11",
          "6",
          "1",
          "3",
          "12",
          "5",
          "4",
          "8",
          "1",
          "8",
          "1",
          "5",
          "6",
          "2",
          "2",
          "12",
          "7",
          "7",
          "10",
          "8",
          "7",
          "12",
          "5",
          "1",
          "1",
          "6",
          "4",
          "6",
          "2",
          "1",
          "12",
          "4",
          "12",
          "5",
          "7",
          "2",
          "2",
          "3",
          "6",
          "7",
          "6",
          "1",
          "2",
          "6",
          "12",
          "2",
          "7",
          "1",
          "10",
          "2",
          "10",
          "1",
          "10",
          "3",
          "8",
          "10",
          "3",
          "11",
          "2",
          "11",
          "2",
          "1",
          "7",
          "9",
          "7",
          "10",
          "9",
          "1",
          "6",
          "6",
          "6",
          "5",
          "3",
          "2",
          "10",
          "2",
          "2",
          "11",
          "10",
          "8",
          "6",
          "6",
          "9",
          "6",
          "4",
          "6",
          "4",
          "3",
          "10",
          "10",
          "8",
          "2",
          "7",
          "8",
          "6",
          "4",
          "7",
          "1",
          "7",
          "10",
          "4",
          "5",
          "9",
          "2",
          "10",
          "6",
          "10",
          "9",
          "6",
          "9",
          "7",
          "6",
          "8",
          "1",
          "1",
          "9",
          "12",
          "7",
          "10",
          "7",
          "6",
          "1",
          "2",
          "10",
          "9",
          "2",
          "7",
          "9",
          "3",
          "8",
          "2",
          "7",
          "9",
          "2",
          "7",
          "8",
          "7",
          "2",
          "1",
          "7",
          "5",
          "2",
          "3",
          "1",
          "10",
          "12",
          "8",
          "7",
          "12",
          "10",
          "10",
          "10",
          "10",
          "6",
          "2",
          "7",
          "1",
          "2",
          "8",
          "5",
          "6",
          "9",
          "2",
          "1",
          "1",
          "2",
          "9",
          "1",
          "10",
          "10",
          "5",
          "11",
          "11",
          "12",
          "1",
          "4",
          "1",
          "4",
          "5",
          "10",
          "7",
          "1",
          "12",
          "4",
          "7",
          "5",
          "11",
          "2",
          "12",
          "4",
          "6",
          "2",
          "2",
          "4",
          "3",
          "8",
          "9",
          "3",
          "3",
          "4",
          "7",
          "7",
          "5",
          "7",
          "2",
          "11",
          "5",
          "5",
          "8",
          "5",
          "6",
          "5",
          "8",
          "8",
          "11",
          "5",
          "3",
          "9",
          "1",
          "7",
          "6",
          "8",
          "7",
          "2",
          "1",
          "7",
          "8",
          "12",
          "4",
          "7",
          "1",
          "1",
          "7",
          "4",
          "7",
          "5",
          "2",
          "6",
          "9",
          "9",
          "12",
          "7",
          "2",
          "9",
          "10",
          "7",
          "8",
          "6",
          "12",
          "4",
          "10",
          "1",
          "5",
          "9",
          "6",
          "4",
          "1",
          "2",
          "6",
          "7",
          "2",
          "12",
          "2",
          "7",
          "7",
          "2",
          "8",
          "1",
          "8",
          "5",
          "2",
          "5",
          "9",
          "3",
          "6",
          "12",
          "4",
          "9",
          "9",
          "8",
          "3",
          "10",
          "6",
          "7",
          "12",
          "1",
          "8",
          "9",
          "9",
          "6",
          "3",
          "6",
          "6",
          "9",
          "8",
          "1",
          "10",
          "5",
          "10",
          "7",
          "6",
          "6",
          "12",
          "9",
          "8",
          "6",
          "1",
          "9",
          "2",
          "6",
          "11",
          "1",
          "10",
          "10",
          "9",
          "6",
          "6",
          "1",
          "10",
          "3",
          "7",
          "8",
          "2",
          "10",
          "10",
          "3",
          "8",
          "6",
          "1",
          "2",
          "1",
          "1",
          "1",
          "1",
          "3",
          "12",
          "3",
          "4",
          "8",
          "2",
          "1",
          "12",
          "2",
          "2",
          "12",
          "8",
          "2",
          "7",
          "1",
          "6",
          "12",
          "5",
          "8",
          "8",
          "1",
          "12",
          "5",
          "10",
          "2",
          "9",
          "2",
          "8",
          "8",
          "9",
          "1",
          "2",
          "1",
          "6",
          "6",
          "8",
          "12",
          "5",
          "1",
          "1",
          "1",
          "8",
          "12",
          "8",
          "12",
          "5",
          "5",
          "4",
          "5",
          "5",
          "5",
          "2",
          "1",
          "7",
          "1",
          "5",
          "11",
          "4",
          "9",
          "6",
          "1",
          "4",
          "4",
          "2",
          "4",
          "10",
          "3",
          "2",
          "7",
          "3",
          "9",
          "9",
          "8",
          "4",
          "3",
          "5",
          "11",
          "8",
          "10",
          "6",
          "11",
          "4",
          "6",
          "5",
          "4",
          "7",
          "1",
          "6",
          "6",
          "11",
          "1",
          "1",
          "1",
          "3",
          "2",
          "1",
          "3",
          "4",
          "3",
          "2",
          "6",
          "3",
          "6",
          "6",
          "4",
          "10",
          "10",
          "8",
          "5",
          "6",
          "8",
          "10",
          "5",
          "12",
          "7",
          "5",
          "3",
          "5",
          "1",
          "7",
          "8",
          "12",
          "5",
          "11",
          "5",
          "2",
          "7",
          "3",
          "12",
          "5",
          "1",
          "1",
          "3",
          "6",
          "3",
          "8",
          "1",
          "8",
          "7",
          "10",
          "2",
          "6",
          "8",
          "3",
          "7",
          "2",
          "5",
          "2",
          "2",
          "5",
          "8",
          "6",
          "11",
          "1",
          "8",
          "6",
          "8",
          "7",
          "7",
          "9",
          "6",
          "9",
          "10",
          "8",
          "12",
          "10",
          "10",
          "6",
          "8",
          "3",
          "10",
          "2",
          "7",
          "6",
          "2",
          "8",
          "7",
          "6",
          "8",
          "8",
          "8",
          "10",
          "8",
          "5",
          "8",
          "7",
          "6",
          "1",
          "7",
          "5",
          "8",
          "4",
          "4",
          "6",
          "10",
          "9",
          "6",
          "7",
          "9",
          "9",
          "9",
          "6",
          "8",
          "8",
          "5",
          "6",
          "7",
          "5",
          "4",
          "10",
          "1",
          "9",
          "8",
          "4",
          "4",
          "3",
          "8",
          "8",
          "9",
          "2",
          "8",
          "4",
          "8",
          "3",
          "10",
          "2",
          "5",
          "5",
          "8",
          "4",
          "7",
          "1",
          "8",
          "5",
          "2",
          "1",
          "9",
          "9",
          "8",
          "6",
          "9",
          "8",
          "10",
          "2",
          "2",
          "9",
          "8",
          "9",
          "6",
          "9",
          "9",
          "10",
          "9",
          "8",
          "8",
          "8",
          "9",
          "3",
          "1",
          "12",
          "9",
          "5",
          "5",
          "10",
          "2",
          "4",
          "1",
          "7",
          "7",
          "8",
          "9",
          "8",
          "6",
          "7",
          "2",
          "2",
          "3",
          "9",
          "7",
          "9",
          "11",
          "7",
          "9",
          "7",
          "8",
          "2",
          "11",
          "6",
          "1",
          "3",
          "9",
          "12",
          "5",
          "3",
          "2",
          "12",
          "7",
          "2",
          "10",
          "6",
          "1",
          "10",
          "6",
          "2",
          "6",
          "6",
          "4",
          "4",
          "11",
          "3",
          "10",
          "10",
          "3",
          "5",
          "8",
          "1",
          "1",
          "11",
          "4",
          "8",
          "3",
          "7",
          "4",
          "5",
          "2",
          "2",
          "12",
          "7",
          "7",
          "2",
          "4",
          "2",
          "12",
          "5",
          "2",
          "8",
          "7",
          "8",
          "6",
          "8",
          "6",
          "4",
          "11",
          "3",
          "1",
          "1",
          "2",
          "5",
          "10",
          "12",
          "7",
          "12",
          "7",
          "12",
          "3",
          "2",
          "1",
          "2",
          "10",
          "12",
          "1",
          "4",
          "12",
          "10",
          "12",
          "5",
          "10",
          "10",
          "7",
          "5",
          "2",
          "12",
          "8",
          "11",
          "6",
          "12",
          "3",
          "10",
          "7",
          "7",
          "2",
          "6",
          "8",
          "3",
          "4",
          "11",
          "12",
          "7",
          "4",
          "7",
          "12",
          "12",
          "3",
          "10",
          "7",
          "7",
          "8",
          "7",
          "6",
          "3",
          "5",
          "6",
          "11",
          "6",
          "9",
          "6",
          "3",
          "2",
          "10",
          "8",
          "6",
          "9",
          "6",
          "5",
          "7",
          "3",
          "12",
          "7",
          "3",
          "10",
          "12",
          "6",
          "5",
          "10",
          "7",
          "2",
          "10",
          "5",
          "12",
          "5",
          "10",
          "10",
          "1",
          "12",
          "3",
          "10",
          "12",
          "5",
          "4",
          "2",
          "2",
          "1",
          "12",
          "6",
          "5",
          "10",
          "12",
          "5",
          "11",
          "7",
          "3",
          "7",
          "4",
          "12",
          "9",
          "11",
          "6",
          "2",
          "2",
          "4",
          "11",
          "9",
          "7",
          "10",
          "7",
          "2",
          "6",
          "12",
          "11",
          "4",
          "1",
          "2",
          "1",
          "3",
          "10",
          "9",
          "8",
          "4",
          "5",
          "4",
          "7",
          "6",
          "6",
          "8",
          "6",
          "2",
          "12",
          "6",
          "7",
          "8",
          "9",
          "4",
          "10",
          "7",
          "11",
          "6",
          "7",
          "8",
          "12",
          "5",
          "7",
          "7",
          "11",
          "12",
          "1",
          "1",
          "10",
          "6",
          "5",
          "7",
          "7",
          "7",
          "8",
          "6",
          "3",
          "9",
          "8",
          "3",
          "6",
          "2",
          "3",
          "12",
          "7",
          "7",
          "8",
          "7",
          "9",
          "2",
          "2",
          "6",
          "6",
          "8",
          "6",
          "6",
          "12",
          "10",
          "11",
          "5",
          "8",
          "6",
          "11",
          "6",
          "2",
          "3",
          "8",
          "2",
          "1",
          "2",
          "11",
          "6",
          "10",
          "11",
          "3",
          "2",
          "7",
          "5",
          "6",
          "4",
          "2",
          "1",
          "1",
          "9",
          "5",
          "6",
          "12",
          "2",
          "11",
          "5",
          "11",
          "2",
          "6",
          "2",
          "9",
          "6",
          "4",
          "5",
          "11",
          "8",
          "6",
          "4",
          "7",
          "5",
          "1",
          "3",
          "9",
          "5",
          "7",
          "9",
          "3",
          "11",
          "7",
          "1",
          "10",
          "12",
          "1",
          "1",
          "5",
          "8",
          "1",
          "8",
          "2",
          "12",
          "12",
          "7",
          "8",
          "11",
          "8",
          "5",
          "8",
          "5",
          "7",
          "7",
          "6",
          "11",
          "12",
          "1",
          "5",
          "1",
          "6",
          "8",
          "1",
          "4",
          "3",
          "2",
          "4",
          "10",
          "10",
          "8",
          "3",
          "5",
          "3",
          "12",
          "7",
          "2",
          "11",
          "12",
          "7",
          "8",
          "4",
          "7",
          "12",
          "7",
          "2",
          "1",
          "12",
          "2",
          "11",
          "3",
          "12",
          "5",
          "7",
          "7",
          "10",
          "4",
          "10",
          "11",
          "2",
          "7",
          "3",
          "10",
          "5",
          "5",
          "5",
          "4",
          "5",
          "3",
          "11",
          "11",
          "1",
          "6",
          "12",
          "5",
          "10",
          "3",
          "1",
          "5",
          "4",
          "6",
          "10",
          "7",
          "7",
          "2",
          "3",
          "10",
          "6",
          "2",
          "6",
          "10",
          "10",
          "2",
          "3",
          "12",
          "4",
          "12",
          "12",
          "6",
          "6",
          "1",
          "12",
          "5",
          "10",
          "6",
          "10",
          "7",
          "12",
          "6",
          "1",
          "6",
          "6",
          "3",
          "3",
          "7",
          "12",
          "8",
          "8"
         ],
         "xaxis": "x",
         "xbingroup": "x",
         "y": [
          "MN",
          "MN",
          "MN",
          "MN",
          "MN",
          "MN",
          "MN",
          "MN",
          "MN",
          "MN",
          "MN",
          "MN",
          "MN",
          "MN",
          "MN",
          "TN",
          "TN",
          "TN",
          "TN",
          "TN",
          "TN",
          "TN",
          "TN",
          "TN",
          "TN",
          "TN",
          "TN",
          "TN",
          "TN",
          "TN",
          "TN",
          "TN",
          "TN",
          "TN",
          "TN",
          "TN",
          "TN",
          "TN",
          "TN",
          "TN",
          "TN",
          "TN",
          "TN",
          "TN",
          "TN",
          "TN",
          "TN",
          "TN",
          "TN",
          "WI",
          "WI",
          "WI",
          "WI",
          "WI",
          "WI",
          "WI",
          "WI",
          "WI",
          "WI",
          "WI",
          "WI",
          "WI",
          "WI",
          "WI",
          "WI",
          "WI",
          "WI",
          "WI",
          "WI",
          "WV",
          "WV",
          "WV",
          "WV",
          "MI",
          "MI",
          "MI",
          "MI",
          "MI",
          "MI",
          "MI",
          "MI",
          "MI",
          "MI",
          "MI",
          "MI",
          "MI",
          "MI",
          "MI",
          "MI",
          "MI",
          "MI",
          "MI",
          "MI",
          "MI",
          "MI",
          "MI",
          "MI",
          "MI",
          "MI",
          "MI",
          "MI",
          "MI",
          "MI",
          "MI",
          "MI",
          "MI",
          "MI",
          "MI",
          "MI",
          "MI",
          "MI",
          "MI",
          "MI",
          "MI",
          "MI",
          "MI",
          "MI",
          "MI",
          "MI",
          "MI",
          "MI",
          "MI",
          "MI",
          "MI",
          "MI",
          "MI",
          "MI",
          "MI",
          "MI",
          "MI",
          "MI",
          "MI",
          "MI",
          "MI",
          "MI",
          "MI",
          "MI",
          "MI",
          "MI",
          "MI",
          "MI",
          "MI",
          "MI",
          "MI",
          "MI",
          "MI",
          "MI",
          "MI",
          "MI",
          "MI",
          "MI",
          "MI",
          "MI",
          "MI",
          "MI",
          "MI",
          "MI",
          "MI",
          "MI",
          "MI",
          "MI",
          "MI",
          "MI",
          "MI",
          "MI",
          "MI",
          "MI",
          "MI",
          "TX",
          "TX",
          "TX",
          "TX",
          "TX",
          "TX",
          "TX",
          "TX",
          "TX",
          "TX",
          "TX",
          "TX",
          "TX",
          "TX",
          "TX",
          "TX",
          "TX",
          "TX",
          "TX",
          "TX",
          "TX",
          "TX",
          "TX",
          "TX",
          "TX",
          "TX",
          "TX",
          "TX",
          "TX",
          "TX",
          "TX",
          "TX",
          "TX",
          "TX",
          "TX",
          "TX",
          "TX",
          "TX",
          "TX",
          "TX",
          "TX",
          "TX",
          "TX",
          "TX",
          "TX",
          "TX",
          "TX",
          "TX",
          "TX",
          "TX",
          "TX",
          "TX",
          "TX",
          "TX",
          "TX",
          "TX",
          "TX",
          "TX",
          "TX",
          "TX",
          "TX",
          "TX",
          "TX",
          "TX",
          "TX",
          "TX",
          "TX",
          "TX",
          "TX",
          "TX",
          "TX",
          "TX",
          "TX",
          "TX",
          "TX",
          "TX",
          "TX",
          "TX",
          "TX",
          "TX",
          "TX",
          "TX",
          "TX",
          "TX",
          "TX",
          "TX",
          "TX",
          "TX",
          "TX",
          "TX",
          "TX",
          "TX",
          "TX",
          "TX",
          "TX",
          "TX",
          "TX",
          "TX",
          "TX",
          "TX",
          "TX",
          "TX",
          "TX",
          "TX",
          "TX",
          "TX",
          "TX",
          "TX",
          "TX",
          "TX",
          "TX",
          "TX",
          "TX",
          "TX",
          "TX",
          "TX",
          "TX",
          "TX",
          "TX",
          "TX",
          "TX",
          "TX",
          "TX",
          "TX",
          "TX",
          "TX",
          "IN",
          "IN",
          "IN",
          "IN",
          "IN",
          "IN",
          "IN",
          "IN",
          "IN",
          "IN",
          "IN",
          "IN",
          "IN",
          "IN",
          "IN",
          "IN",
          "IN",
          "IN",
          "IN",
          "IN",
          "IN",
          "IN",
          "IN",
          "IN",
          "IN",
          "IN",
          "IN",
          "IN",
          "IN",
          "IN",
          "IN",
          "IN",
          "IN",
          "IN",
          "IN",
          "IN",
          "IN",
          "IN",
          "IN",
          "IN",
          "IN",
          "IN",
          "IN",
          "AL",
          "AL",
          "AL",
          "AL",
          "AL",
          "MS",
          "MS",
          "MS",
          "MS",
          "IL",
          "IL",
          "IL",
          "IL",
          "IL",
          "IL",
          "IL",
          "IL",
          "IL",
          "IL",
          "IL",
          "IL",
          "IL",
          "IL",
          "IL",
          "IL",
          "IL",
          "IL",
          "IL",
          "IL",
          "IL",
          "IL",
          "IL",
          "IL",
          "IL",
          "IL",
          "IL",
          "IL",
          "IL",
          "IL",
          "IL",
          "IL",
          "IL",
          "IL",
          "IL",
          "IL",
          "IL",
          "IL",
          "IL",
          "IL",
          "IL",
          "IL",
          "IL",
          "IL",
          "IL",
          "WA",
          "WA",
          "WA",
          "WA",
          "WA",
          "WA",
          "WA",
          "WA",
          "WA",
          "WA",
          "WA",
          "WA",
          "WA",
          "WA",
          "WA",
          "WA",
          "WA",
          "WA",
          "WA",
          "WA",
          "WA",
          "WA",
          "WA",
          "WA",
          "WA",
          "WA",
          "WA",
          "WA",
          "WA",
          "WA",
          "WA",
          "WA",
          "WA",
          "WA",
          "WA",
          "WA",
          "WA",
          "WA",
          "WA",
          "WA",
          "WA",
          "WA",
          "WA",
          "WA",
          "WA",
          "WA",
          "WA",
          "WA",
          "WA",
          "WA",
          "WA",
          "WA",
          "WA",
          "WA",
          "WA",
          "WA",
          "WA",
          "WA",
          "WA",
          "WA",
          "WA",
          "WA",
          "WA",
          "WA",
          "WA",
          "WA",
          "WA",
          "WA",
          "WA",
          "WA",
          "WA",
          "WA",
          "WA",
          "WA",
          "WA",
          "WA",
          "WA",
          "WA",
          "WA",
          "WA",
          "WA",
          "WA",
          "WA",
          "WA",
          "WA",
          "WA",
          "WA",
          "WA",
          "WA",
          "WA",
          "WA",
          "WA",
          "WA",
          "WA",
          "WA",
          "WA",
          "WA",
          "AZ",
          "AZ",
          "AZ",
          "AZ",
          "AZ",
          "AZ",
          "AZ",
          "AZ",
          "AZ",
          "AZ",
          "AZ",
          "AZ",
          "AZ",
          "AZ",
          "AZ",
          "AZ",
          "AZ",
          "AZ",
          "AZ",
          "AZ",
          "AZ",
          "AZ",
          "AZ",
          "AZ",
          "AZ",
          "AZ",
          "AZ",
          "AZ",
          "MD",
          "MD",
          "MD",
          "MD",
          "MD",
          "MD",
          "MD",
          "MD",
          "MD",
          "MD",
          "MD",
          "MD",
          "MD",
          "MD",
          "MD",
          "MD",
          "MD",
          "MD",
          "MD",
          "MD",
          "MD",
          "MD",
          "MD",
          "MD",
          "MD",
          "MD",
          "MD",
          "MD",
          "MD",
          "MD",
          "MD",
          "MD",
          "MD",
          "MD",
          "MD",
          "MD",
          "MD",
          "MD",
          "MD",
          "MD",
          "MD",
          "MD",
          "MD",
          "MD",
          "MD",
          "MD",
          "MD",
          "MD",
          "MD",
          "MD",
          "MD",
          "MD",
          "MD",
          "MD",
          "MD",
          "MD",
          "MD",
          "MD",
          "PA",
          "PA",
          "PA",
          "PA",
          "PA",
          "PA",
          "PA",
          "PA",
          "PA",
          "PA",
          "PA",
          "PA",
          "PA",
          "PA",
          "PA",
          "PA",
          "PA",
          "PA",
          "PA",
          "PA",
          "PA",
          "PA",
          "PA",
          "PA",
          "PA",
          "PA",
          "PA",
          "PA",
          "PA",
          "PA",
          "PA",
          "PA",
          "PA",
          "PA",
          "PA",
          "PA",
          "PA",
          "PA",
          "PA",
          "PA",
          "PA",
          "PA",
          "PA",
          "PA",
          "PA",
          "PA",
          "PA",
          "PA",
          "PA",
          "PA",
          "PA",
          "PA",
          "PA",
          "PA",
          "PA",
          "PA",
          "PA",
          "KY",
          "KY",
          "KY",
          "KY",
          "KY",
          "KY",
          "KY",
          "KY",
          "KY",
          "KY",
          "KY",
          "KY",
          "KY",
          "UT",
          "UT",
          "UT",
          "UT",
          "UT",
          "UT",
          "UT",
          "UT",
          "UT",
          "UT",
          "UT",
          "UT",
          "UT",
          "UT",
          "UT",
          "UT",
          "UT",
          "UT",
          "UT",
          "UT",
          "UT",
          "UT",
          "UT",
          "UT",
          "UT",
          "UT",
          "UT",
          "UT",
          "UT",
          "UT",
          "UT",
          "UT",
          "UT",
          "UT",
          "UT",
          "UT",
          "UT",
          "UT",
          "UT",
          "UT",
          "UT",
          "OH",
          "OH",
          "OH",
          "OH",
          "OH",
          "OH",
          "OH",
          "OH",
          "OH",
          "OH",
          "OH",
          "OH",
          "OH",
          "OH",
          "OH",
          "OH",
          "OH",
          "OH",
          "OH",
          "OH",
          "OH",
          "OH",
          "OH",
          "OH",
          "OH",
          "OH",
          "OH",
          "OH",
          "OH",
          "OH",
          "OH",
          "OH",
          "OH",
          "OH",
          "OH",
          "OH",
          "OH",
          "OH",
          "OH",
          "OH",
          "OH",
          "OH",
          "OH",
          "NC",
          "NC",
          "NC",
          "NC",
          "NC",
          "NC",
          "NC",
          "NC",
          "NC",
          "NC",
          "NC",
          "NC",
          "NC",
          "NC",
          "NC",
          "NC",
          "NC",
          "NC",
          "NC",
          "NC",
          "NC",
          "NC",
          "NC",
          "NC",
          "NC",
          "NC",
          "NC",
          "NC",
          "NC",
          "NC",
          "NC",
          "NC",
          "NC",
          "NC",
          "NC",
          "NC",
          "NC",
          "NC",
          "NC",
          "NJ",
          "NJ",
          "NJ",
          "NJ",
          "NJ",
          "NJ",
          "NJ",
          "NJ",
          "NJ",
          "NJ",
          "NJ",
          "NJ",
          "NJ",
          "NJ",
          "NJ",
          "NJ",
          "NJ",
          "NJ",
          "NJ",
          "NJ",
          "NJ",
          "NJ",
          "NJ",
          "NJ",
          "NJ",
          "NJ",
          "NJ",
          "NJ",
          "NJ",
          "NJ",
          "NJ",
          "NJ",
          "NJ",
          "NJ",
          "NJ",
          "SC",
          "SC",
          "SC",
          "SC",
          "SC",
          "SC",
          "SC",
          "SC",
          "OR",
          "OR",
          "OR",
          "OR",
          "OR",
          "OR",
          "OR",
          "OR",
          "OR",
          "OR",
          "OR",
          "OR",
          "OR",
          "OR",
          "OR",
          "OR",
          "OR",
          "OR",
          "OR",
          "OR",
          "OR",
          "OR",
          "OR",
          "OR",
          "OR",
          "OR",
          "DC",
          "DC",
          "DC",
          "DC",
          "DC",
          "DC",
          "DC",
          "DC",
          "DC",
          "DC",
          "MO",
          "MO",
          "MO",
          "MO",
          "MO",
          "MO",
          "MO",
          "MO",
          "MO",
          "MO",
          "MO",
          "MO",
          "MO",
          "MO",
          "MO",
          "MO",
          "MO",
          "DE",
          "DE",
          "DE",
          "DE",
          "DE",
          "DE",
          "DE",
          "DE",
          "DE",
          "DE",
          "DE",
          "DE",
          "DE",
          "DE",
          "DE",
          "DE",
          "DE",
          "DE",
          "DE",
          "DE",
          "DE",
          "DE",
          "DE",
          "DE",
          "DE",
          "DE",
          "DE",
          "DE",
          "DE",
          "DE",
          "DE",
          "DE",
          "DE",
          "DE",
          "DE",
          "DE",
          "DE",
          "DE",
          "DE",
          "DE",
          "IA",
          "IA",
          "IA",
          "IA",
          "IA",
          "IA",
          "IA",
          "IA",
          "MT",
          "MT",
          "MT",
          "NY",
          "NY",
          "NY",
          "NY",
          "NY",
          "NY",
          "NY",
          "NY",
          "NY",
          "NY",
          "NY",
          "NY",
          "NY",
          "NY",
          "NY",
          "NY",
          "NY",
          "NY",
          "NY",
          "NY",
          "NY",
          "NY",
          "NY",
          "NY",
          "NY",
          "NY",
          "NY",
          "NY",
          "NY",
          "NY",
          "NY",
          "NY",
          "NY",
          "NY",
          "NY",
          "NY",
          "NY",
          "NY",
          "NY",
          "NY",
          "NY",
          "NY",
          "NY",
          "NY",
          "NY",
          "NY",
          "NY",
          "NY",
          "NY",
          "NY",
          "NY",
          "NY",
          "NY",
          "NY",
          "NY",
          "NY",
          "NY",
          "NY",
          "NY",
          "NY",
          "NY",
          "NY",
          "NY",
          "NY",
          "NY",
          "NY",
          "NY",
          "NY",
          "NY",
          "NY",
          "NY",
          "LA",
          "LA",
          "LA",
          "LA",
          "LA",
          "LA",
          "LA",
          "LA",
          "LA",
          "LA",
          "LA",
          "LA",
          "LA",
          "LA",
          "LA",
          "LA",
          "LA",
          "LA",
          "LA",
          "LA",
          "LA",
          "LA",
          "LA",
          "LA",
          "LA",
          "LA",
          "LA",
          "LA",
          "LA",
          "LA",
          "LA",
          "LA",
          "LA",
          "LA",
          "LA",
          "LA",
          "LA",
          "LA",
          "LA",
          "LA",
          "FL",
          "FL",
          "FL",
          "FL",
          "FL",
          "FL",
          "FL",
          "FL",
          "FL",
          "FL",
          "FL",
          "FL",
          "FL",
          "FL",
          "FL",
          "FL",
          "FL",
          "FL",
          "FL",
          "FL",
          "FL",
          "FL",
          "FL",
          "FL",
          "FL",
          "FL",
          "FL",
          "FL",
          "FL",
          "FL",
          "FL",
          "FL",
          "FL",
          "FL",
          "FL",
          "FL",
          "FL",
          "FL",
          "FL",
          "FL",
          "FL",
          "FL",
          "FL",
          "FL",
          "FL",
          "CA",
          "CA",
          "CA",
          "CA",
          "CA",
          "CA",
          "CA",
          "CA",
          "CA",
          "CA",
          "CA",
          "CA",
          "CA",
          "CA",
          "CA",
          "CA",
          "CA",
          "CA",
          "CA",
          "CA",
          "CA",
          "CA",
          "CA",
          "CA",
          "CA",
          "CA",
          "CA",
          "CA",
          "CA",
          "CA",
          "CA",
          "CA",
          "CA",
          "CA",
          "CA",
          "CA",
          "CA",
          "CA",
          "CA",
          "CA",
          "CA",
          "CA",
          "CA",
          "CA",
          "CA",
          "CA",
          "CA",
          "CA",
          "CA",
          "CA",
          "CA",
          "CA",
          "CA",
          "CA",
          "CA",
          "CA",
          "CA",
          "CA",
          "CA",
          "CA",
          "CA",
          "CA",
          "CA",
          "CA",
          "CA",
          "CA",
          "CA",
          "CA",
          "CA",
          "CA",
          "CA",
          "CA",
          "CA",
          "CA",
          "CA",
          "CA",
          "CA",
          "CA",
          "CA",
          "CA",
          "CA",
          "CA",
          "CA",
          "CA",
          "CA",
          "CA",
          "CA",
          "CA",
          "CA",
          "CA",
          "CA",
          "CA",
          "CA",
          "CA",
          "CA",
          "CA",
          "CA",
          "CA",
          "CA",
          "CA",
          "CA",
          "CA",
          "CA",
          "CA",
          "CA",
          "CA",
          "CA",
          "CA",
          "CA",
          "CA",
          "CA",
          "CA",
          "CA",
          "CA",
          "CA",
          "CA",
          "CA",
          "CA",
          "CA",
          "CA",
          "CA",
          "CA",
          "CA",
          "CA",
          "CA",
          "CA",
          "CA",
          "CA",
          "CA",
          "CA",
          "CA",
          "CA",
          "CA",
          "CA",
          "CA",
          "CA",
          "CA",
          "CA",
          "CA",
          "CA",
          "CA",
          "CA",
          "CA",
          "CA",
          "CA",
          "CA",
          "CA",
          "CA",
          "CA",
          "CA",
          "CA",
          "CA",
          "CA",
          "CA",
          "CA",
          "CA",
          "CA",
          "CA",
          "CA",
          "CA",
          "CA",
          "CA",
          "CA",
          "CA",
          "CA",
          "CA",
          "CA",
          "CA",
          "CA",
          "CA",
          "CA",
          "CA",
          "CA",
          "CA",
          "CA",
          "CA",
          "CA",
          "CA",
          "CA",
          "CA",
          "CA",
          "CA",
          "CA",
          "CA",
          "CA",
          "CA",
          "CA",
          "CA",
          "CA",
          "CA",
          "CA",
          "CA",
          "CA",
          "CA",
          "CA",
          "CA",
          "CA",
          "CA",
          "CA",
          "CA",
          "CA",
          "CA",
          "CA",
          "CA",
          "CA",
          "CA",
          "CA",
          "CA",
          "CA",
          "CA",
          "AR",
          "AR",
          "AR",
          "AR",
          "AR",
          "AR",
          "AR",
          "AR",
          "AR",
          "AR",
          "AR",
          "AR",
          "AR",
          "AR",
          "AR",
          "AR",
          "AR",
          "AR",
          "AR",
          "AR",
          "AR",
          "AR",
          "AR",
          "AR",
          "AR",
          "VA",
          "VA",
          "VA",
          "VA",
          "VA",
          "VA",
          "VA",
          "VA",
          "VA",
          "VA",
          "VA",
          "VA",
          "VA",
          "VA",
          "VA",
          "VA",
          "VA",
          "VA",
          "VA",
          "VA",
          "VA",
          "VA",
          "VA",
          "VA",
          "VA",
          "VA",
          "VA",
          "VA",
          "VA",
          "VA",
          "VA",
          "VA",
          "VA",
          "VA",
          "VA",
          "VA",
          "NE",
          "NE",
          "NE",
          "NE",
          "WY",
          "WY",
          "WY",
          "WY",
          "WY",
          "WY",
          "NM",
          "NM",
          "NM",
          "NM",
          "NM",
          "NM",
          "NM",
          "NM",
          "VT",
          "VT",
          "VT",
          "VT",
          "VT",
          "VT",
          "VT",
          "VT",
          "VT",
          "GA",
          "GA",
          "GA",
          "GA",
          "GA",
          "GA",
          "GA",
          "GA",
          "GA",
          "GA",
          "GA",
          "GA",
          "GA",
          "GA",
          "GA",
          "GA",
          "GA",
          "CT",
          "CT",
          "CT",
          "CT",
          "CT",
          "CT",
          "CT",
          "CT",
          "CT",
          "CT",
          "CT",
          "CT",
          "CT",
          "CT",
          "CT",
          "CT",
          "CT",
          "CT",
          "OK",
          "OK",
          "OK",
          "OK",
          "OK",
          "OK",
          "OK",
          "OK",
          "OK",
          "OK",
          "OK",
          "OK",
          "OK",
          "OK",
          "OK",
          "OK",
          "OK",
          "OK",
          "OK",
          "OK",
          "OK",
          "OK",
          "OK",
          "OK",
          "MA",
          "MA",
          "MA",
          "MA",
          "MA",
          "MA",
          "MA",
          "MA",
          "MA",
          "MA",
          "MA",
          "MA",
          "MA",
          "MA",
          "MA",
          "MA",
          "MA",
          "MA",
          "ME",
          "ME",
          "ME",
          "ME",
          "ME",
          "ME",
          "ME",
          "ME",
          "ME",
          "ME",
          "ME",
          "ME",
          "ME",
          "ME",
          "ME",
          "ME",
          "ME",
          "ME",
          "ME",
          "NH",
          "NH",
          "NH",
          "NH",
          "NH",
          "NH",
          "NH",
          "NH",
          "NH",
          "NH",
          "NH",
          "NH",
          "NH",
          "NH",
          "NV",
          "NV",
          "NV",
          "NV",
          "NV",
          "NV",
          "NV",
          "CO",
          "CO",
          "CO",
          "CO",
          "CO",
          "CO",
          "CO",
          "CO",
          "CO",
          "CO",
          "CO",
          "CO",
          "CO",
          "CO",
          "CO",
          "KS",
          "KS",
          "KS",
          "KS",
          "KS",
          "KS",
          "KS",
          "KS",
          "HI",
          "HI",
          "HI",
          "HI",
          "HI",
          "ID",
          "ID",
          "ID",
          "ID",
          "ID",
          "ID",
          "ID",
          "ID",
          "ID",
          "ND",
          "SD",
          "SD"
         ],
         "yaxis": "y",
         "ybingroup": "y",
         "z": [
          2,
          1,
          1,
          1,
          1,
          1,
          1,
          1,
          1,
          2,
          2,
          1,
          2,
          1,
          1,
          2,
          1,
          2,
          6,
          1,
          1,
          1,
          1,
          1,
          4,
          1,
          1,
          6,
          4,
          1,
          4,
          6,
          1,
          1,
          4,
          6,
          1,
          4,
          1,
          1,
          6,
          1,
          1,
          4,
          6,
          4,
          4,
          1,
          1,
          2,
          6,
          1,
          3,
          6,
          1,
          1,
          6,
          1,
          1,
          1,
          1,
          1,
          6,
          1,
          2,
          3,
          6,
          3,
          6,
          1,
          1,
          1,
          1,
          3,
          1,
          2,
          5,
          1,
          2,
          2,
          1,
          3,
          2,
          2,
          3,
          2,
          1,
          1,
          2,
          1,
          3,
          2,
          3,
          2,
          2,
          1,
          1,
          1,
          2,
          1,
          2,
          3,
          2,
          1,
          3,
          1,
          3,
          1,
          1,
          2,
          1,
          1,
          2,
          1,
          1,
          1,
          1,
          1,
          2,
          1,
          1,
          3,
          3,
          5,
          3,
          2,
          1,
          1,
          2,
          1,
          2,
          3,
          3,
          1,
          3,
          1,
          1,
          3,
          2,
          3,
          2,
          1,
          2,
          1,
          1,
          3,
          1,
          5,
          2,
          1,
          2,
          2,
          2,
          2,
          1,
          1,
          2,
          2,
          1,
          3,
          5,
          5,
          1,
          1,
          1,
          2,
          1,
          1,
          3,
          4,
          4,
          2,
          1,
          4,
          2,
          1,
          3,
          3,
          3,
          6,
          2,
          2,
          3,
          2,
          3,
          1,
          1,
          2,
          1,
          2,
          3,
          1,
          1,
          4,
          4,
          6,
          1,
          2,
          2,
          1,
          1,
          1,
          4,
          4,
          2,
          4,
          1,
          1,
          4,
          2,
          3,
          1,
          1,
          2,
          3,
          3,
          1,
          1,
          2,
          3,
          1,
          1,
          2,
          1,
          3,
          3,
          2,
          1,
          1,
          3,
          2,
          1,
          3,
          2,
          2,
          1,
          4,
          6,
          1,
          3,
          1,
          6,
          3,
          1,
          1,
          1,
          3,
          4,
          1,
          1,
          3,
          2,
          1,
          1,
          3,
          1,
          3,
          1,
          3,
          4,
          4,
          2,
          2,
          1,
          4,
          3,
          2,
          4,
          6,
          3,
          3,
          2,
          3,
          4,
          2,
          3,
          1,
          3,
          6,
          1,
          1,
          1,
          3,
          1,
          2,
          1,
          1,
          2,
          1,
          3,
          2,
          2,
          1,
          1,
          1,
          4,
          1,
          5,
          1,
          2,
          1,
          4,
          2,
          3,
          2,
          5,
          5,
          2,
          1,
          5,
          2,
          1,
          2,
          1,
          1,
          2,
          3,
          1,
          1,
          2,
          2,
          3,
          1,
          2,
          1,
          2,
          2,
          2,
          1,
          5,
          3,
          2,
          4,
          3,
          1,
          3,
          4,
          1,
          1,
          1,
          1,
          1,
          1,
          1,
          1,
          1,
          1,
          2,
          1,
          1,
          1,
          2,
          3,
          1,
          1,
          2,
          1,
          3,
          1,
          1,
          1,
          3,
          3,
          3,
          1,
          1,
          3,
          2,
          1,
          1,
          1,
          1,
          1,
          1,
          1,
          1,
          1,
          1,
          1,
          1,
          2,
          1,
          2,
          2,
          3,
          1,
          1,
          3,
          2,
          3,
          1,
          4,
          5,
          4,
          1,
          1,
          3,
          4,
          5,
          5,
          1,
          2,
          5,
          1,
          1,
          2,
          6,
          5,
          6,
          2,
          2,
          1,
          1,
          2,
          1,
          6,
          1,
          5,
          1,
          4,
          1,
          1,
          6,
          4,
          4,
          4,
          2,
          4,
          4,
          3,
          4,
          1,
          5,
          1,
          2,
          2,
          1,
          2,
          1,
          6,
          2,
          1,
          4,
          1,
          4,
          2,
          1,
          1,
          6,
          5,
          5,
          6,
          1,
          4,
          2,
          2,
          1,
          4,
          5,
          1,
          4,
          1,
          2,
          2,
          1,
          5,
          6,
          5,
          1,
          6,
          5,
          5,
          4,
          2,
          4,
          4,
          2,
          5,
          6,
          1,
          4,
          2,
          1,
          4,
          6,
          3,
          6,
          1,
          1,
          3,
          3,
          3,
          1,
          2,
          1,
          1,
          2,
          1,
          1,
          3,
          3,
          1,
          1,
          1,
          1,
          3,
          3,
          1,
          3,
          1,
          2,
          3,
          1,
          1,
          1,
          2,
          4,
          1,
          2,
          2,
          1,
          2,
          3,
          2,
          8,
          2,
          8,
          2,
          1,
          1,
          2,
          8,
          2,
          2,
          2,
          1,
          3,
          2,
          3,
          2,
          2,
          8,
          1,
          1,
          2,
          1,
          4,
          1,
          2,
          3,
          8,
          3,
          1,
          2,
          8,
          2,
          4,
          2,
          2,
          2,
          1,
          1,
          1,
          1,
          8,
          8,
          2,
          1,
          2,
          2,
          4,
          1,
          3,
          2,
          2,
          6,
          1,
          2,
          1,
          2,
          6,
          1,
          3,
          1,
          1,
          2,
          3,
          1,
          3,
          1,
          1,
          2,
          1,
          1,
          6,
          1,
          1,
          3,
          2,
          3,
          3,
          2,
          1,
          3,
          1,
          3,
          3,
          1,
          3,
          1,
          3,
          1,
          2,
          3,
          3,
          1,
          2,
          3,
          1,
          3,
          6,
          2,
          3,
          3,
          2,
          6,
          6,
          3,
          1,
          1,
          2,
          1,
          1,
          1,
          1,
          1,
          1,
          2,
          2,
          3,
          3,
          2,
          2,
          3,
          1,
          2,
          2,
          4,
          4,
          2,
          2,
          2,
          1,
          2,
          1,
          2,
          1,
          2,
          2,
          3,
          1,
          2,
          4,
          1,
          1,
          3,
          1,
          1,
          1,
          1,
          2,
          1,
          1,
          2,
          1,
          3,
          1,
          1,
          2,
          1,
          1,
          4,
          2,
          1,
          1,
          2,
          1,
          2,
          1,
          3,
          1,
          2,
          1,
          3,
          1,
          1,
          1,
          3,
          2,
          2,
          1,
          1,
          1,
          1,
          2,
          3,
          2,
          1,
          2,
          2,
          1,
          2,
          1,
          1,
          1,
          3,
          1,
          3,
          2,
          3,
          1,
          3,
          3,
          1,
          1,
          1,
          1,
          2,
          1,
          1,
          1,
          1,
          1,
          1,
          1,
          2,
          1,
          2,
          1,
          2,
          2,
          1,
          1,
          2,
          3,
          1,
          1,
          1,
          1,
          1,
          2,
          2,
          1,
          2,
          1,
          3,
          2,
          1,
          2,
          2,
          1,
          2,
          3,
          1,
          2,
          1,
          2,
          1,
          3,
          1,
          3,
          3,
          4,
          1,
          4,
          1,
          3,
          2,
          1,
          3,
          3,
          3,
          1,
          3,
          1,
          2,
          1,
          3,
          3,
          4,
          3,
          1,
          1,
          3,
          3,
          2,
          1,
          3,
          1,
          3,
          4,
          2,
          1,
          1,
          2,
          1,
          2,
          1,
          2,
          2,
          1,
          1,
          1,
          1,
          2,
          2,
          2,
          1,
          1,
          2,
          3,
          2,
          2,
          1,
          1,
          1,
          3,
          1,
          2,
          2,
          2,
          3,
          1,
          1,
          2,
          1,
          1,
          1,
          2,
          1,
          1,
          1,
          1,
          1,
          1,
          2,
          2,
          1,
          2,
          2,
          1,
          1,
          2,
          1,
          1,
          2,
          2,
          1,
          2,
          2,
          1,
          1,
          1,
          1,
          2,
          3,
          3,
          1,
          3,
          1,
          2,
          3,
          2,
          1,
          1,
          2,
          1,
          1,
          1,
          2,
          3,
          3,
          2,
          3,
          2,
          3,
          3,
          2,
          2,
          1,
          3,
          2,
          2,
          3,
          3,
          1,
          1,
          1,
          2,
          1,
          1,
          2,
          2,
          3,
          2,
          1,
          3,
          1,
          3,
          2,
          1,
          1,
          1,
          1,
          1,
          3,
          3,
          7,
          1,
          1,
          7,
          3,
          3,
          1,
          1,
          3,
          2,
          3,
          2,
          1,
          1,
          2,
          2,
          1,
          2,
          2,
          3,
          2,
          2,
          3,
          1,
          2,
          2,
          2,
          2,
          2,
          2,
          7,
          3,
          3,
          1,
          2,
          7,
          2,
          1,
          2,
          3,
          1,
          2,
          3,
          2,
          1,
          1,
          2,
          7,
          1,
          7,
          1,
          3,
          1,
          2,
          1,
          2,
          7,
          1,
          2,
          3,
          1,
          1,
          2,
          3,
          1,
          1,
          2,
          2,
          1,
          3,
          1,
          4,
          4,
          2,
          1,
          4,
          2,
          4,
          1,
          4,
          1,
          1,
          2,
          2,
          1,
          2,
          1,
          1,
          3,
          4,
          3,
          3,
          3,
          2,
          4,
          3,
          3,
          1,
          4,
          3,
          1,
          1,
          1,
          1,
          2,
          3,
          2,
          1,
          1,
          1,
          3,
          2,
          5,
          2,
          1,
          1,
          2,
          3,
          5,
          3,
          3,
          4,
          1,
          1,
          1,
          3,
          3,
          5,
          1,
          8,
          2,
          2,
          1,
          8,
          4,
          3,
          5,
          5,
          8,
          1,
          8,
          1,
          8,
          8,
          3,
          8,
          4,
          3,
          4,
          8,
          2,
          1,
          1,
          2,
          1,
          2,
          2,
          3,
          3,
          3,
          3,
          2,
          1,
          1,
          3,
          2,
          6,
          3,
          1,
          5,
          3,
          4,
          1,
          1,
          5,
          3,
          1,
          3,
          4,
          1,
          6,
          3,
          2,
          2,
          2,
          3,
          1,
          4,
          2,
          6,
          4,
          2,
          1,
          4,
          1,
          6,
          3,
          6,
          6,
          2,
          3,
          2,
          1,
          3,
          2,
          4,
          2,
          3,
          1,
          4,
          2,
          2,
          1,
          2,
          4,
          1,
          1,
          2,
          1,
          2,
          3,
          5,
          4,
          3,
          4,
          3,
          1,
          2,
          3,
          1,
          3,
          2,
          3,
          6,
          2,
          1,
          5,
          3,
          2,
          1,
          3,
          3,
          3,
          6,
          3,
          4,
          3,
          2,
          3,
          4,
          1,
          2,
          1,
          4,
          2,
          3,
          2,
          3,
          4,
          1,
          3,
          5,
          3,
          4,
          3,
          1,
          1,
          2,
          2,
          4,
          3,
          2,
          6,
          3,
          2,
          1,
          5,
          2,
          3,
          1,
          3,
          2,
          1,
          2,
          2,
          1,
          2,
          1,
          5,
          1,
          2,
          1,
          2,
          4,
          3,
          3,
          2,
          3,
          3,
          4,
          4,
          3,
          1,
          6,
          2,
          3,
          3,
          6,
          5,
          3,
          5,
          5,
          3,
          2,
          2,
          1,
          5,
          2,
          2,
          2,
          3,
          2,
          3,
          5,
          5,
          1,
          3,
          4,
          5,
          3,
          4,
          2,
          2,
          3,
          2,
          2,
          2,
          4,
          5,
          3,
          1,
          3,
          4,
          1,
          1,
          2,
          2,
          2,
          3,
          2,
          4,
          1,
          1,
          3,
          1,
          1,
          2,
          6,
          1,
          1,
          3,
          3,
          1,
          2,
          1,
          2,
          1,
          2,
          1,
          1,
          2,
          1,
          2,
          1,
          1,
          1,
          1,
          2,
          1,
          1,
          2,
          1,
          1,
          1,
          1,
          2,
          1,
          1,
          2,
          1,
          1,
          1,
          1,
          1,
          1,
          1,
          1,
          1,
          1,
          1,
          1,
          1,
          1,
          2,
          2,
          1,
          2,
          2,
          1,
          1,
          2,
          2,
          1,
          1,
          1,
          2,
          1,
          1,
          2,
          1,
          1,
          1,
          1,
          2,
          1,
          1,
          1,
          1,
          1,
          1,
          1,
          1,
          1,
          1,
          1,
          3,
          1,
          1,
          3,
          1,
          3,
          1,
          1,
          1,
          1,
          1,
          1,
          1,
          1,
          1,
          1,
          1,
          1,
          1,
          2,
          1,
          2,
          1,
          1,
          1,
          1,
          1,
          2,
          1,
          2,
          2,
          2,
          1,
          1,
          1,
          1,
          1,
          1,
          1,
          1,
          1,
          1,
          2,
          1,
          1,
          2,
          1,
          1,
          1,
          1,
          1,
          3,
          2,
          1,
          1,
          4,
          1,
          4,
          1,
          1,
          3,
          1,
          1,
          2,
          4,
          2,
          4,
          2,
          1,
          1,
          1,
          2,
          3,
          2,
          1,
          2,
          1,
          1,
          2,
          2,
          1,
          2,
          2,
          2,
          2,
          1,
          1,
          1,
          1,
          1,
          1,
          2,
          1,
          1,
          3,
          1,
          2,
          3,
          1,
          3,
          1,
          1,
          1,
          1,
          1,
          1,
          1,
          1,
          1,
          1,
          1,
          2,
          2,
          2,
          1,
          1,
          2,
          2,
          3,
          3,
          1,
          1,
          3,
          2,
          1,
          2,
          1,
          1,
          1,
          1,
          1,
          1,
          1,
          1,
          1,
          1,
          1,
          1,
          1,
          1,
          1,
          2,
          1,
          1,
          1,
          2,
          1,
          1,
          1,
          2,
          1,
          1,
          2,
          1,
          1,
          1,
          1,
          1,
          2,
          1,
          2,
          2,
          1,
          1,
          1,
          1,
          1,
          2,
          2,
          2,
          1,
          2,
          2
         ]
        }
       ],
       "layout": {
        "coloraxis": {
         "colorbar": {
          "title": {
           "text": "avg of Avg Outage Count"
          }
         },
         "colorscale": [
          [
           0,
           "#0d0887"
          ],
          [
           0.1111111111111111,
           "#46039f"
          ],
          [
           0.2222222222222222,
           "#7201a8"
          ],
          [
           0.3333333333333333,
           "#9c179e"
          ],
          [
           0.4444444444444444,
           "#bd3786"
          ],
          [
           0.5555555555555556,
           "#d8576b"
          ],
          [
           0.6666666666666666,
           "#ed7953"
          ],
          [
           0.7777777777777778,
           "#fb9f3a"
          ],
          [
           0.8888888888888888,
           "#fdca26"
          ],
          [
           1,
           "#f0f921"
          ]
         ]
        },
        "height": 800,
        "legend": {
         "tracegroupgap": 0
        },
        "plot_bgcolor": "#f0f0f0",
        "template": {
         "data": {
          "bar": [
           {
            "error_x": {
             "color": "#2a3f5f"
            },
            "error_y": {
             "color": "#2a3f5f"
            },
            "marker": {
             "line": {
              "color": "#E5ECF6",
              "width": 0.5
             },
             "pattern": {
              "fillmode": "overlay",
              "size": 10,
              "solidity": 0.2
             }
            },
            "type": "bar"
           }
          ],
          "barpolar": [
           {
            "marker": {
             "line": {
              "color": "#E5ECF6",
              "width": 0.5
             },
             "pattern": {
              "fillmode": "overlay",
              "size": 10,
              "solidity": 0.2
             }
            },
            "type": "barpolar"
           }
          ],
          "carpet": [
           {
            "aaxis": {
             "endlinecolor": "#2a3f5f",
             "gridcolor": "white",
             "linecolor": "white",
             "minorgridcolor": "white",
             "startlinecolor": "#2a3f5f"
            },
            "baxis": {
             "endlinecolor": "#2a3f5f",
             "gridcolor": "white",
             "linecolor": "white",
             "minorgridcolor": "white",
             "startlinecolor": "#2a3f5f"
            },
            "type": "carpet"
           }
          ],
          "choropleth": [
           {
            "colorbar": {
             "outlinewidth": 0,
             "ticks": ""
            },
            "type": "choropleth"
           }
          ],
          "contour": [
           {
            "colorbar": {
             "outlinewidth": 0,
             "ticks": ""
            },
            "colorscale": [
             [
              0,
              "#0d0887"
             ],
             [
              0.1111111111111111,
              "#46039f"
             ],
             [
              0.2222222222222222,
              "#7201a8"
             ],
             [
              0.3333333333333333,
              "#9c179e"
             ],
             [
              0.4444444444444444,
              "#bd3786"
             ],
             [
              0.5555555555555556,
              "#d8576b"
             ],
             [
              0.6666666666666666,
              "#ed7953"
             ],
             [
              0.7777777777777778,
              "#fb9f3a"
             ],
             [
              0.8888888888888888,
              "#fdca26"
             ],
             [
              1,
              "#f0f921"
             ]
            ],
            "type": "contour"
           }
          ],
          "contourcarpet": [
           {
            "colorbar": {
             "outlinewidth": 0,
             "ticks": ""
            },
            "type": "contourcarpet"
           }
          ],
          "heatmap": [
           {
            "colorbar": {
             "outlinewidth": 0,
             "ticks": ""
            },
            "colorscale": [
             [
              0,
              "#0d0887"
             ],
             [
              0.1111111111111111,
              "#46039f"
             ],
             [
              0.2222222222222222,
              "#7201a8"
             ],
             [
              0.3333333333333333,
              "#9c179e"
             ],
             [
              0.4444444444444444,
              "#bd3786"
             ],
             [
              0.5555555555555556,
              "#d8576b"
             ],
             [
              0.6666666666666666,
              "#ed7953"
             ],
             [
              0.7777777777777778,
              "#fb9f3a"
             ],
             [
              0.8888888888888888,
              "#fdca26"
             ],
             [
              1,
              "#f0f921"
             ]
            ],
            "type": "heatmap"
           }
          ],
          "heatmapgl": [
           {
            "colorbar": {
             "outlinewidth": 0,
             "ticks": ""
            },
            "colorscale": [
             [
              0,
              "#0d0887"
             ],
             [
              0.1111111111111111,
              "#46039f"
             ],
             [
              0.2222222222222222,
              "#7201a8"
             ],
             [
              0.3333333333333333,
              "#9c179e"
             ],
             [
              0.4444444444444444,
              "#bd3786"
             ],
             [
              0.5555555555555556,
              "#d8576b"
             ],
             [
              0.6666666666666666,
              "#ed7953"
             ],
             [
              0.7777777777777778,
              "#fb9f3a"
             ],
             [
              0.8888888888888888,
              "#fdca26"
             ],
             [
              1,
              "#f0f921"
             ]
            ],
            "type": "heatmapgl"
           }
          ],
          "histogram": [
           {
            "marker": {
             "pattern": {
              "fillmode": "overlay",
              "size": 10,
              "solidity": 0.2
             }
            },
            "type": "histogram"
           }
          ],
          "histogram2d": [
           {
            "colorbar": {
             "outlinewidth": 0,
             "ticks": ""
            },
            "colorscale": [
             [
              0,
              "#0d0887"
             ],
             [
              0.1111111111111111,
              "#46039f"
             ],
             [
              0.2222222222222222,
              "#7201a8"
             ],
             [
              0.3333333333333333,
              "#9c179e"
             ],
             [
              0.4444444444444444,
              "#bd3786"
             ],
             [
              0.5555555555555556,
              "#d8576b"
             ],
             [
              0.6666666666666666,
              "#ed7953"
             ],
             [
              0.7777777777777778,
              "#fb9f3a"
             ],
             [
              0.8888888888888888,
              "#fdca26"
             ],
             [
              1,
              "#f0f921"
             ]
            ],
            "type": "histogram2d"
           }
          ],
          "histogram2dcontour": [
           {
            "colorbar": {
             "outlinewidth": 0,
             "ticks": ""
            },
            "colorscale": [
             [
              0,
              "#0d0887"
             ],
             [
              0.1111111111111111,
              "#46039f"
             ],
             [
              0.2222222222222222,
              "#7201a8"
             ],
             [
              0.3333333333333333,
              "#9c179e"
             ],
             [
              0.4444444444444444,
              "#bd3786"
             ],
             [
              0.5555555555555556,
              "#d8576b"
             ],
             [
              0.6666666666666666,
              "#ed7953"
             ],
             [
              0.7777777777777778,
              "#fb9f3a"
             ],
             [
              0.8888888888888888,
              "#fdca26"
             ],
             [
              1,
              "#f0f921"
             ]
            ],
            "type": "histogram2dcontour"
           }
          ],
          "mesh3d": [
           {
            "colorbar": {
             "outlinewidth": 0,
             "ticks": ""
            },
            "type": "mesh3d"
           }
          ],
          "parcoords": [
           {
            "line": {
             "colorbar": {
              "outlinewidth": 0,
              "ticks": ""
             }
            },
            "type": "parcoords"
           }
          ],
          "pie": [
           {
            "automargin": true,
            "type": "pie"
           }
          ],
          "scatter": [
           {
            "fillpattern": {
             "fillmode": "overlay",
             "size": 10,
             "solidity": 0.2
            },
            "type": "scatter"
           }
          ],
          "scatter3d": [
           {
            "line": {
             "colorbar": {
              "outlinewidth": 0,
              "ticks": ""
             }
            },
            "marker": {
             "colorbar": {
              "outlinewidth": 0,
              "ticks": ""
             }
            },
            "type": "scatter3d"
           }
          ],
          "scattercarpet": [
           {
            "marker": {
             "colorbar": {
              "outlinewidth": 0,
              "ticks": ""
             }
            },
            "type": "scattercarpet"
           }
          ],
          "scattergeo": [
           {
            "marker": {
             "colorbar": {
              "outlinewidth": 0,
              "ticks": ""
             }
            },
            "type": "scattergeo"
           }
          ],
          "scattergl": [
           {
            "marker": {
             "colorbar": {
              "outlinewidth": 0,
              "ticks": ""
             }
            },
            "type": "scattergl"
           }
          ],
          "scattermapbox": [
           {
            "marker": {
             "colorbar": {
              "outlinewidth": 0,
              "ticks": ""
             }
            },
            "type": "scattermapbox"
           }
          ],
          "scatterpolar": [
           {
            "marker": {
             "colorbar": {
              "outlinewidth": 0,
              "ticks": ""
             }
            },
            "type": "scatterpolar"
           }
          ],
          "scatterpolargl": [
           {
            "marker": {
             "colorbar": {
              "outlinewidth": 0,
              "ticks": ""
             }
            },
            "type": "scatterpolargl"
           }
          ],
          "scatterternary": [
           {
            "marker": {
             "colorbar": {
              "outlinewidth": 0,
              "ticks": ""
             }
            },
            "type": "scatterternary"
           }
          ],
          "surface": [
           {
            "colorbar": {
             "outlinewidth": 0,
             "ticks": ""
            },
            "colorscale": [
             [
              0,
              "#0d0887"
             ],
             [
              0.1111111111111111,
              "#46039f"
             ],
             [
              0.2222222222222222,
              "#7201a8"
             ],
             [
              0.3333333333333333,
              "#9c179e"
             ],
             [
              0.4444444444444444,
              "#bd3786"
             ],
             [
              0.5555555555555556,
              "#d8576b"
             ],
             [
              0.6666666666666666,
              "#ed7953"
             ],
             [
              0.7777777777777778,
              "#fb9f3a"
             ],
             [
              0.8888888888888888,
              "#fdca26"
             ],
             [
              1,
              "#f0f921"
             ]
            ],
            "type": "surface"
           }
          ],
          "table": [
           {
            "cells": {
             "fill": {
              "color": "#EBF0F8"
             },
             "line": {
              "color": "white"
             }
            },
            "header": {
             "fill": {
              "color": "#C8D4E3"
             },
             "line": {
              "color": "white"
             }
            },
            "type": "table"
           }
          ]
         },
         "layout": {
          "annotationdefaults": {
           "arrowcolor": "#2a3f5f",
           "arrowhead": 0,
           "arrowwidth": 1
          },
          "autotypenumbers": "strict",
          "coloraxis": {
           "colorbar": {
            "outlinewidth": 0,
            "ticks": ""
           }
          },
          "colorscale": {
           "diverging": [
            [
             0,
             "#8e0152"
            ],
            [
             0.1,
             "#c51b7d"
            ],
            [
             0.2,
             "#de77ae"
            ],
            [
             0.3,
             "#f1b6da"
            ],
            [
             0.4,
             "#fde0ef"
            ],
            [
             0.5,
             "#f7f7f7"
            ],
            [
             0.6,
             "#e6f5d0"
            ],
            [
             0.7,
             "#b8e186"
            ],
            [
             0.8,
             "#7fbc41"
            ],
            [
             0.9,
             "#4d9221"
            ],
            [
             1,
             "#276419"
            ]
           ],
           "sequential": [
            [
             0,
             "#0d0887"
            ],
            [
             0.1111111111111111,
             "#46039f"
            ],
            [
             0.2222222222222222,
             "#7201a8"
            ],
            [
             0.3333333333333333,
             "#9c179e"
            ],
            [
             0.4444444444444444,
             "#bd3786"
            ],
            [
             0.5555555555555556,
             "#d8576b"
            ],
            [
             0.6666666666666666,
             "#ed7953"
            ],
            [
             0.7777777777777778,
             "#fb9f3a"
            ],
            [
             0.8888888888888888,
             "#fdca26"
            ],
            [
             1,
             "#f0f921"
            ]
           ],
           "sequentialminus": [
            [
             0,
             "#0d0887"
            ],
            [
             0.1111111111111111,
             "#46039f"
            ],
            [
             0.2222222222222222,
             "#7201a8"
            ],
            [
             0.3333333333333333,
             "#9c179e"
            ],
            [
             0.4444444444444444,
             "#bd3786"
            ],
            [
             0.5555555555555556,
             "#d8576b"
            ],
            [
             0.6666666666666666,
             "#ed7953"
            ],
            [
             0.7777777777777778,
             "#fb9f3a"
            ],
            [
             0.8888888888888888,
             "#fdca26"
            ],
            [
             1,
             "#f0f921"
            ]
           ]
          },
          "colorway": [
           "#636efa",
           "#EF553B",
           "#00cc96",
           "#ab63fa",
           "#FFA15A",
           "#19d3f3",
           "#FF6692",
           "#B6E880",
           "#FF97FF",
           "#FECB52"
          ],
          "font": {
           "color": "#2a3f5f"
          },
          "geo": {
           "bgcolor": "white",
           "lakecolor": "white",
           "landcolor": "#E5ECF6",
           "showlakes": true,
           "showland": true,
           "subunitcolor": "white"
          },
          "hoverlabel": {
           "align": "left"
          },
          "hovermode": "closest",
          "mapbox": {
           "style": "light"
          },
          "paper_bgcolor": "white",
          "plot_bgcolor": "#E5ECF6",
          "polar": {
           "angularaxis": {
            "gridcolor": "white",
            "linecolor": "white",
            "ticks": ""
           },
           "bgcolor": "#E5ECF6",
           "radialaxis": {
            "gridcolor": "white",
            "linecolor": "white",
            "ticks": ""
           }
          },
          "scene": {
           "xaxis": {
            "backgroundcolor": "#E5ECF6",
            "gridcolor": "white",
            "gridwidth": 2,
            "linecolor": "white",
            "showbackground": true,
            "ticks": "",
            "zerolinecolor": "white"
           },
           "yaxis": {
            "backgroundcolor": "#E5ECF6",
            "gridcolor": "white",
            "gridwidth": 2,
            "linecolor": "white",
            "showbackground": true,
            "ticks": "",
            "zerolinecolor": "white"
           },
           "zaxis": {
            "backgroundcolor": "#E5ECF6",
            "gridcolor": "white",
            "gridwidth": 2,
            "linecolor": "white",
            "showbackground": true,
            "ticks": "",
            "zerolinecolor": "white"
           }
          },
          "shapedefaults": {
           "line": {
            "color": "#2a3f5f"
           }
          },
          "ternary": {
           "aaxis": {
            "gridcolor": "white",
            "linecolor": "white",
            "ticks": ""
           },
           "baxis": {
            "gridcolor": "white",
            "linecolor": "white",
            "ticks": ""
           },
           "bgcolor": "#E5ECF6",
           "caxis": {
            "gridcolor": "white",
            "linecolor": "white",
            "ticks": ""
           }
          },
          "title": {
           "x": 0.05
          },
          "xaxis": {
           "automargin": true,
           "gridcolor": "white",
           "linecolor": "white",
           "ticks": "",
           "title": {
            "standoff": 15
           },
           "zerolinecolor": "white",
           "zerolinewidth": 2
          },
          "yaxis": {
           "automargin": true,
           "gridcolor": "white",
           "linecolor": "white",
           "ticks": "",
           "title": {
            "standoff": 15
           },
           "zerolinecolor": "white",
           "zerolinewidth": 2
          }
         }
        },
        "title": {
         "text": "Average Monthly Outage Count by State and Month"
        },
        "xaxis": {
         "anchor": "y",
         "domain": [
          0,
          1
         ],
         "dtick": 1,
         "title": {
          "text": "Month"
         }
        },
        "yaxis": {
         "anchor": "x",
         "categoryorder": "total ascending",
         "domain": [
          0,
          1
         ],
         "title": {
          "text": "State"
         }
        }
       }
      }
     },
     "metadata": {},
     "output_type": "display_data"
    }
   ],
   "source": [
    "fig1 = px.density_heatmap(\n",
    "    outage,\n",
    "    x='month',\n",
    "    y='state',\n",
    "    z='monthly_outage_count_bystate',\n",
    "    histfunc='avg',  # average monthly outage count by state-month\n",
    "    color_continuous_scale='Plasma',\n",
    "    labels={'month': 'Month', 'state': 'State', 'monthly_outage_count_bystate': 'Avg Outage Count'},\n",
    "    title='Average Monthly Outage Count by State and Month'\n",
    ")\n",
    "\n",
    "fig1.update_layout(\n",
    "    yaxis={'categoryorder':'total ascending'},  # Sort states by total outages ascending\n",
    "    xaxis=dict(dtick=1),  # show all month ticks\n",
    "    height=800,\n",
    "    plot_bgcolor='#f0f0f0'\n",
    ")\n",
    "\n",
    "fig1.show()\n"
   ]
  },
  {
   "cell_type": "code",
   "execution_count": 19,
   "metadata": {},
   "outputs": [
    {
     "data": {
      "application/vnd.plotly.v1+json": {
       "config": {
        "plotlyServerURL": "https://plot.ly"
       },
       "data": [
        {
         "hovertemplate": "Aggregation=Year-Month<br>Time=%{x}<br>Avg Outage Duration (minutes)=%{y}<extra></extra>",
         "legendgroup": "Year-Month",
         "line": {
          "color": "#636efa",
          "dash": "solid"
         },
         "marker": {
          "symbol": "circle"
         },
         "mode": "lines",
         "name": "Year-Month",
         "orientation": "v",
         "showlegend": true,
         "type": "scatter",
         "x": [
          "2000-01-01T00:00:00",
          "2000-03-01T00:00:00",
          "2000-05-01T00:00:00",
          "2000-06-01T00:00:00",
          "2000-08-01T00:00:00",
          "2000-12-01T00:00:00",
          "2001-01-01T00:00:00",
          "2001-03-01T00:00:00",
          "2001-05-01T00:00:00",
          "2001-06-01T00:00:00",
          "2001-08-01T00:00:00",
          "2002-01-01T00:00:00",
          "2002-02-01T00:00:00",
          "2002-03-01T00:00:00",
          "2002-08-01T00:00:00",
          "2002-11-01T00:00:00",
          "2002-12-01T00:00:00",
          "2003-01-01T00:00:00",
          "2003-02-01T00:00:00",
          "2003-04-01T00:00:00",
          "2003-05-01T00:00:00",
          "2003-06-01T00:00:00",
          "2003-07-01T00:00:00",
          "2003-08-01T00:00:00",
          "2003-09-01T00:00:00",
          "2003-10-01T00:00:00",
          "2003-11-01T00:00:00",
          "2003-12-01T00:00:00",
          "2004-01-01T00:00:00",
          "2004-02-01T00:00:00",
          "2004-03-01T00:00:00",
          "2004-04-01T00:00:00",
          "2004-05-01T00:00:00",
          "2004-06-01T00:00:00",
          "2004-07-01T00:00:00",
          "2004-08-01T00:00:00",
          "2004-09-01T00:00:00",
          "2004-10-01T00:00:00",
          "2004-11-01T00:00:00",
          "2004-12-01T00:00:00",
          "2005-01-01T00:00:00",
          "2005-03-01T00:00:00",
          "2005-04-01T00:00:00",
          "2005-05-01T00:00:00",
          "2005-06-01T00:00:00",
          "2005-07-01T00:00:00",
          "2005-08-01T00:00:00",
          "2005-09-01T00:00:00",
          "2005-10-01T00:00:00",
          "2005-11-01T00:00:00",
          "2005-12-01T00:00:00",
          "2006-01-01T00:00:00",
          "2006-02-01T00:00:00",
          "2006-03-01T00:00:00",
          "2006-04-01T00:00:00",
          "2006-05-01T00:00:00",
          "2006-06-01T00:00:00",
          "2006-07-01T00:00:00",
          "2006-08-01T00:00:00",
          "2006-09-01T00:00:00",
          "2006-10-01T00:00:00",
          "2006-11-01T00:00:00",
          "2006-12-01T00:00:00",
          "2007-01-01T00:00:00",
          "2007-02-01T00:00:00",
          "2007-03-01T00:00:00",
          "2007-04-01T00:00:00",
          "2007-05-01T00:00:00",
          "2007-06-01T00:00:00",
          "2007-07-01T00:00:00",
          "2007-08-01T00:00:00",
          "2007-09-01T00:00:00",
          "2007-10-01T00:00:00",
          "2007-12-01T00:00:00",
          "2008-01-01T00:00:00",
          "2008-02-01T00:00:00",
          "2008-03-01T00:00:00",
          "2008-04-01T00:00:00",
          "2008-05-01T00:00:00",
          "2008-06-01T00:00:00",
          "2008-07-01T00:00:00",
          "2008-08-01T00:00:00",
          "2008-09-01T00:00:00",
          "2008-10-01T00:00:00",
          "2008-11-01T00:00:00",
          "2008-12-01T00:00:00",
          "2009-01-01T00:00:00",
          "2009-02-01T00:00:00",
          "2009-03-01T00:00:00",
          "2009-04-01T00:00:00",
          "2009-05-01T00:00:00",
          "2009-06-01T00:00:00",
          "2009-07-01T00:00:00",
          "2009-08-01T00:00:00",
          "2009-10-01T00:00:00",
          "2009-11-01T00:00:00",
          "2009-12-01T00:00:00",
          "2010-01-01T00:00:00",
          "2010-02-01T00:00:00",
          "2010-03-01T00:00:00",
          "2010-04-01T00:00:00",
          "2010-05-01T00:00:00",
          "2010-06-01T00:00:00",
          "2010-07-01T00:00:00",
          "2010-08-01T00:00:00",
          "2010-09-01T00:00:00",
          "2010-10-01T00:00:00",
          "2010-11-01T00:00:00",
          "2010-12-01T00:00:00",
          "2011-01-01T00:00:00",
          "2011-02-01T00:00:00",
          "2011-03-01T00:00:00",
          "2011-04-01T00:00:00",
          "2011-05-01T00:00:00",
          "2011-06-01T00:00:00",
          "2011-07-01T00:00:00",
          "2011-08-01T00:00:00",
          "2011-09-01T00:00:00",
          "2011-10-01T00:00:00",
          "2011-11-01T00:00:00",
          "2011-12-01T00:00:00",
          "2012-01-01T00:00:00",
          "2012-02-01T00:00:00",
          "2012-03-01T00:00:00",
          "2012-04-01T00:00:00",
          "2012-05-01T00:00:00",
          "2012-06-01T00:00:00",
          "2012-07-01T00:00:00",
          "2012-08-01T00:00:00",
          "2012-09-01T00:00:00",
          "2012-10-01T00:00:00",
          "2012-11-01T00:00:00",
          "2012-12-01T00:00:00",
          "2013-01-01T00:00:00",
          "2013-02-01T00:00:00",
          "2013-03-01T00:00:00",
          "2013-04-01T00:00:00",
          "2013-05-01T00:00:00",
          "2013-06-01T00:00:00",
          "2013-07-01T00:00:00",
          "2013-08-01T00:00:00",
          "2013-09-01T00:00:00",
          "2013-10-01T00:00:00",
          "2013-11-01T00:00:00",
          "2013-12-01T00:00:00",
          "2014-01-01T00:00:00",
          "2014-02-01T00:00:00",
          "2014-03-01T00:00:00",
          "2014-04-01T00:00:00",
          "2014-05-01T00:00:00",
          "2014-06-01T00:00:00",
          "2015-01-01T00:00:00",
          "2015-02-01T00:00:00",
          "2015-03-01T00:00:00",
          "2015-04-01T00:00:00",
          "2015-05-01T00:00:00",
          "2015-06-01T00:00:00",
          "2015-07-01T00:00:00",
          "2015-08-01T00:00:00",
          "2015-09-01T00:00:00",
          "2015-10-01T00:00:00",
          "2015-11-01T00:00:00",
          "2015-12-01T00:00:00",
          "2016-01-01T00:00:00",
          "2016-02-01T00:00:00",
          "2016-03-01T00:00:00",
          "2016-04-01T00:00:00",
          "2016-05-01T00:00:00",
          "2016-06-01T00:00:00",
          "2016-07-01T00:00:00"
         ],
         "xaxis": "x",
         "y": [
          7020,
          35,
          3650,
          66,
          1640,
          3264,
          1945,
          510.8,
          107.66666666666667,
          3600.3333333333335,
          241,
          13650,
          47,
          3600,
          283,
          5520,
          3993.5,
          1440,
          3388,
          1923.5,
          23418.5,
          1548,
          2256.2727272727275,
          3929.285714285714,
          5938.8,
          34390,
          2963,
          2659.3333333333335,
          3148.714285714286,
          1635.25,
          5979,
          2163.3333333333335,
          4128,
          2742.6666666666665,
          13679.25,
          2062.8888888888887,
          4584.545454545455,
          2850.2,
          630,
          1832.6666666666667,
          9550,
          240,
          4802.666666666667,
          765,
          3910.8571428571427,
          2353.5714285714284,
          5414.444444444444,
          7130.636363636364,
          8860,
          3528,
          4982.5,
          1591.5,
          3273.2,
          2370,
          817.8571428571429,
          401,
          1521.75,
          3327.25,
          360,
          3310,
          4438.25,
          3878.75,
          6113.818181818182,
          5595,
          2815.25,
          690,
          1726.3333333333333,
          1629.5,
          287.6666666666667,
          2517,
          2302.75,
          598.8333333333334,
          1378.6666666666667,
          6827,
          4106.5,
          1996.5625,
          2684,
          5595,
          1816.375,
          2800,
          2898.4545454545455,
          6326.571428571428,
          10299.555555555555,
          1530,
          757,
          3490.4,
          7078.214285714285,
          2346.3333333333335,
          16665.6,
          2198.3333333333335,
          3564,
          2191.0833333333335,
          752.4545454545455,
          1196.5,
          915.2,
          945,
          1969,
          4639.428571428572,
          6081.666666666667,
          4622.375,
          1053.3333333333333,
          871,
          2573.608695652174,
          2096.153846153846,
          2580.6153846153848,
          1385.875,
          1813.125,
          1558.142857142857,
          4444.5,
          1490.7857142857142,
          1737.6666666666667,
          2276.764705882353,
          1758.3809523809523,
          1487.7333333333333,
          733.3703703703703,
          1032.6,
          2769.222222222222,
          863.1052631578947,
          4618.315789473684,
          425.6666666666667,
          1316.6,
          323.6,
          365.3636363636364,
          729.9166666666666,
          827.4444444444445,
          610.7142857142857,
          3179.6363636363635,
          2178.4761904761904,
          912.8181818181819,
          877,
          4215.277777777777,
          185,
          775,
          953.3,
          1145.4166666666667,
          270.125,
          953.2,
          872.1875,
          1123.095238095238,
          1086.5333333333333,
          341.2105263157895,
          2066.6666666666665,
          328.42857142857144,
          1707.111111111111,
          5661.076923076923,
          3575.6857142857143,
          5703.45,
          3233.6666666666665,
          1931.625,
          667.8,
          831.9375,
          257,
          404.54545454545456,
          239.875,
          1113.7777777777778,
          1199.5,
          1696.9333333333334,
          589.4285714285714,
          2640.714285714286,
          106.5,
          745.5,
          1250.8333333333333,
          507.75,
          423.6,
          353.6666666666667,
          9415.5,
          799.25,
          3831.285714285714,
          5.666666666666667,
          886.5
         ],
         "yaxis": "y"
        },
        {
         "hovertemplate": "Aggregation=Year<br>Time=%{x}<br>Avg Outage Duration (minutes)=%{y}<extra></extra>",
         "legendgroup": "Year",
         "line": {
          "color": "#EF553B",
          "dash": "solid"
         },
         "marker": {
          "symbol": "circle"
         },
         "mode": "lines",
         "name": "Year",
         "orientation": "v",
         "showlegend": true,
         "type": "scatter",
         "x": [
          "2000",
          "2001",
          "2002",
          "2003",
          "2004",
          "2005",
          "2006",
          "2007",
          "2008",
          "2009",
          "2010",
          "2011",
          "2012",
          "2013",
          "2014",
          "2015",
          "2016"
         ],
         "xaxis": "x",
         "y": [
          2843.076923076923,
          1272.0714285714287,
          4751,
          4652.434782608696,
          4368.788732394366,
          5288.944444444444,
          3329.530303030303,
          2336.6666666666665,
          4184.018181818182,
          3660.5194805194806,
          2937.5283018867926,
          1801.6059479553903,
          1877.9768786127167,
          1369.1644736842106,
          3107.355769230769,
          935.811320754717,
          2225.553191489362
         ],
         "yaxis": "y"
        }
       ],
       "layout": {
        "height": 600,
        "legend": {
         "title": {
          "text": "Aggregation"
         },
         "tracegroupgap": 0
        },
        "template": {
         "data": {
          "bar": [
           {
            "error_x": {
             "color": "#2a3f5f"
            },
            "error_y": {
             "color": "#2a3f5f"
            },
            "marker": {
             "line": {
              "color": "#E5ECF6",
              "width": 0.5
             },
             "pattern": {
              "fillmode": "overlay",
              "size": 10,
              "solidity": 0.2
             }
            },
            "type": "bar"
           }
          ],
          "barpolar": [
           {
            "marker": {
             "line": {
              "color": "#E5ECF6",
              "width": 0.5
             },
             "pattern": {
              "fillmode": "overlay",
              "size": 10,
              "solidity": 0.2
             }
            },
            "type": "barpolar"
           }
          ],
          "carpet": [
           {
            "aaxis": {
             "endlinecolor": "#2a3f5f",
             "gridcolor": "white",
             "linecolor": "white",
             "minorgridcolor": "white",
             "startlinecolor": "#2a3f5f"
            },
            "baxis": {
             "endlinecolor": "#2a3f5f",
             "gridcolor": "white",
             "linecolor": "white",
             "minorgridcolor": "white",
             "startlinecolor": "#2a3f5f"
            },
            "type": "carpet"
           }
          ],
          "choropleth": [
           {
            "colorbar": {
             "outlinewidth": 0,
             "ticks": ""
            },
            "type": "choropleth"
           }
          ],
          "contour": [
           {
            "colorbar": {
             "outlinewidth": 0,
             "ticks": ""
            },
            "colorscale": [
             [
              0,
              "#0d0887"
             ],
             [
              0.1111111111111111,
              "#46039f"
             ],
             [
              0.2222222222222222,
              "#7201a8"
             ],
             [
              0.3333333333333333,
              "#9c179e"
             ],
             [
              0.4444444444444444,
              "#bd3786"
             ],
             [
              0.5555555555555556,
              "#d8576b"
             ],
             [
              0.6666666666666666,
              "#ed7953"
             ],
             [
              0.7777777777777778,
              "#fb9f3a"
             ],
             [
              0.8888888888888888,
              "#fdca26"
             ],
             [
              1,
              "#f0f921"
             ]
            ],
            "type": "contour"
           }
          ],
          "contourcarpet": [
           {
            "colorbar": {
             "outlinewidth": 0,
             "ticks": ""
            },
            "type": "contourcarpet"
           }
          ],
          "heatmap": [
           {
            "colorbar": {
             "outlinewidth": 0,
             "ticks": ""
            },
            "colorscale": [
             [
              0,
              "#0d0887"
             ],
             [
              0.1111111111111111,
              "#46039f"
             ],
             [
              0.2222222222222222,
              "#7201a8"
             ],
             [
              0.3333333333333333,
              "#9c179e"
             ],
             [
              0.4444444444444444,
              "#bd3786"
             ],
             [
              0.5555555555555556,
              "#d8576b"
             ],
             [
              0.6666666666666666,
              "#ed7953"
             ],
             [
              0.7777777777777778,
              "#fb9f3a"
             ],
             [
              0.8888888888888888,
              "#fdca26"
             ],
             [
              1,
              "#f0f921"
             ]
            ],
            "type": "heatmap"
           }
          ],
          "heatmapgl": [
           {
            "colorbar": {
             "outlinewidth": 0,
             "ticks": ""
            },
            "colorscale": [
             [
              0,
              "#0d0887"
             ],
             [
              0.1111111111111111,
              "#46039f"
             ],
             [
              0.2222222222222222,
              "#7201a8"
             ],
             [
              0.3333333333333333,
              "#9c179e"
             ],
             [
              0.4444444444444444,
              "#bd3786"
             ],
             [
              0.5555555555555556,
              "#d8576b"
             ],
             [
              0.6666666666666666,
              "#ed7953"
             ],
             [
              0.7777777777777778,
              "#fb9f3a"
             ],
             [
              0.8888888888888888,
              "#fdca26"
             ],
             [
              1,
              "#f0f921"
             ]
            ],
            "type": "heatmapgl"
           }
          ],
          "histogram": [
           {
            "marker": {
             "pattern": {
              "fillmode": "overlay",
              "size": 10,
              "solidity": 0.2
             }
            },
            "type": "histogram"
           }
          ],
          "histogram2d": [
           {
            "colorbar": {
             "outlinewidth": 0,
             "ticks": ""
            },
            "colorscale": [
             [
              0,
              "#0d0887"
             ],
             [
              0.1111111111111111,
              "#46039f"
             ],
             [
              0.2222222222222222,
              "#7201a8"
             ],
             [
              0.3333333333333333,
              "#9c179e"
             ],
             [
              0.4444444444444444,
              "#bd3786"
             ],
             [
              0.5555555555555556,
              "#d8576b"
             ],
             [
              0.6666666666666666,
              "#ed7953"
             ],
             [
              0.7777777777777778,
              "#fb9f3a"
             ],
             [
              0.8888888888888888,
              "#fdca26"
             ],
             [
              1,
              "#f0f921"
             ]
            ],
            "type": "histogram2d"
           }
          ],
          "histogram2dcontour": [
           {
            "colorbar": {
             "outlinewidth": 0,
             "ticks": ""
            },
            "colorscale": [
             [
              0,
              "#0d0887"
             ],
             [
              0.1111111111111111,
              "#46039f"
             ],
             [
              0.2222222222222222,
              "#7201a8"
             ],
             [
              0.3333333333333333,
              "#9c179e"
             ],
             [
              0.4444444444444444,
              "#bd3786"
             ],
             [
              0.5555555555555556,
              "#d8576b"
             ],
             [
              0.6666666666666666,
              "#ed7953"
             ],
             [
              0.7777777777777778,
              "#fb9f3a"
             ],
             [
              0.8888888888888888,
              "#fdca26"
             ],
             [
              1,
              "#f0f921"
             ]
            ],
            "type": "histogram2dcontour"
           }
          ],
          "mesh3d": [
           {
            "colorbar": {
             "outlinewidth": 0,
             "ticks": ""
            },
            "type": "mesh3d"
           }
          ],
          "parcoords": [
           {
            "line": {
             "colorbar": {
              "outlinewidth": 0,
              "ticks": ""
             }
            },
            "type": "parcoords"
           }
          ],
          "pie": [
           {
            "automargin": true,
            "type": "pie"
           }
          ],
          "scatter": [
           {
            "fillpattern": {
             "fillmode": "overlay",
             "size": 10,
             "solidity": 0.2
            },
            "type": "scatter"
           }
          ],
          "scatter3d": [
           {
            "line": {
             "colorbar": {
              "outlinewidth": 0,
              "ticks": ""
             }
            },
            "marker": {
             "colorbar": {
              "outlinewidth": 0,
              "ticks": ""
             }
            },
            "type": "scatter3d"
           }
          ],
          "scattercarpet": [
           {
            "marker": {
             "colorbar": {
              "outlinewidth": 0,
              "ticks": ""
             }
            },
            "type": "scattercarpet"
           }
          ],
          "scattergeo": [
           {
            "marker": {
             "colorbar": {
              "outlinewidth": 0,
              "ticks": ""
             }
            },
            "type": "scattergeo"
           }
          ],
          "scattergl": [
           {
            "marker": {
             "colorbar": {
              "outlinewidth": 0,
              "ticks": ""
             }
            },
            "type": "scattergl"
           }
          ],
          "scattermapbox": [
           {
            "marker": {
             "colorbar": {
              "outlinewidth": 0,
              "ticks": ""
             }
            },
            "type": "scattermapbox"
           }
          ],
          "scatterpolar": [
           {
            "marker": {
             "colorbar": {
              "outlinewidth": 0,
              "ticks": ""
             }
            },
            "type": "scatterpolar"
           }
          ],
          "scatterpolargl": [
           {
            "marker": {
             "colorbar": {
              "outlinewidth": 0,
              "ticks": ""
             }
            },
            "type": "scatterpolargl"
           }
          ],
          "scatterternary": [
           {
            "marker": {
             "colorbar": {
              "outlinewidth": 0,
              "ticks": ""
             }
            },
            "type": "scatterternary"
           }
          ],
          "surface": [
           {
            "colorbar": {
             "outlinewidth": 0,
             "ticks": ""
            },
            "colorscale": [
             [
              0,
              "#0d0887"
             ],
             [
              0.1111111111111111,
              "#46039f"
             ],
             [
              0.2222222222222222,
              "#7201a8"
             ],
             [
              0.3333333333333333,
              "#9c179e"
             ],
             [
              0.4444444444444444,
              "#bd3786"
             ],
             [
              0.5555555555555556,
              "#d8576b"
             ],
             [
              0.6666666666666666,
              "#ed7953"
             ],
             [
              0.7777777777777778,
              "#fb9f3a"
             ],
             [
              0.8888888888888888,
              "#fdca26"
             ],
             [
              1,
              "#f0f921"
             ]
            ],
            "type": "surface"
           }
          ],
          "table": [
           {
            "cells": {
             "fill": {
              "color": "#EBF0F8"
             },
             "line": {
              "color": "white"
             }
            },
            "header": {
             "fill": {
              "color": "#C8D4E3"
             },
             "line": {
              "color": "white"
             }
            },
            "type": "table"
           }
          ]
         },
         "layout": {
          "annotationdefaults": {
           "arrowcolor": "#2a3f5f",
           "arrowhead": 0,
           "arrowwidth": 1
          },
          "autotypenumbers": "strict",
          "coloraxis": {
           "colorbar": {
            "outlinewidth": 0,
            "ticks": ""
           }
          },
          "colorscale": {
           "diverging": [
            [
             0,
             "#8e0152"
            ],
            [
             0.1,
             "#c51b7d"
            ],
            [
             0.2,
             "#de77ae"
            ],
            [
             0.3,
             "#f1b6da"
            ],
            [
             0.4,
             "#fde0ef"
            ],
            [
             0.5,
             "#f7f7f7"
            ],
            [
             0.6,
             "#e6f5d0"
            ],
            [
             0.7,
             "#b8e186"
            ],
            [
             0.8,
             "#7fbc41"
            ],
            [
             0.9,
             "#4d9221"
            ],
            [
             1,
             "#276419"
            ]
           ],
           "sequential": [
            [
             0,
             "#0d0887"
            ],
            [
             0.1111111111111111,
             "#46039f"
            ],
            [
             0.2222222222222222,
             "#7201a8"
            ],
            [
             0.3333333333333333,
             "#9c179e"
            ],
            [
             0.4444444444444444,
             "#bd3786"
            ],
            [
             0.5555555555555556,
             "#d8576b"
            ],
            [
             0.6666666666666666,
             "#ed7953"
            ],
            [
             0.7777777777777778,
             "#fb9f3a"
            ],
            [
             0.8888888888888888,
             "#fdca26"
            ],
            [
             1,
             "#f0f921"
            ]
           ],
           "sequentialminus": [
            [
             0,
             "#0d0887"
            ],
            [
             0.1111111111111111,
             "#46039f"
            ],
            [
             0.2222222222222222,
             "#7201a8"
            ],
            [
             0.3333333333333333,
             "#9c179e"
            ],
            [
             0.4444444444444444,
             "#bd3786"
            ],
            [
             0.5555555555555556,
             "#d8576b"
            ],
            [
             0.6666666666666666,
             "#ed7953"
            ],
            [
             0.7777777777777778,
             "#fb9f3a"
            ],
            [
             0.8888888888888888,
             "#fdca26"
            ],
            [
             1,
             "#f0f921"
            ]
           ]
          },
          "colorway": [
           "#636efa",
           "#EF553B",
           "#00cc96",
           "#ab63fa",
           "#FFA15A",
           "#19d3f3",
           "#FF6692",
           "#B6E880",
           "#FF97FF",
           "#FECB52"
          ],
          "font": {
           "color": "#2a3f5f"
          },
          "geo": {
           "bgcolor": "white",
           "lakecolor": "white",
           "landcolor": "#E5ECF6",
           "showlakes": true,
           "showland": true,
           "subunitcolor": "white"
          },
          "hoverlabel": {
           "align": "left"
          },
          "hovermode": "closest",
          "mapbox": {
           "style": "light"
          },
          "paper_bgcolor": "white",
          "plot_bgcolor": "#E5ECF6",
          "polar": {
           "angularaxis": {
            "gridcolor": "white",
            "linecolor": "white",
            "ticks": ""
           },
           "bgcolor": "#E5ECF6",
           "radialaxis": {
            "gridcolor": "white",
            "linecolor": "white",
            "ticks": ""
           }
          },
          "scene": {
           "xaxis": {
            "backgroundcolor": "#E5ECF6",
            "gridcolor": "white",
            "gridwidth": 2,
            "linecolor": "white",
            "showbackground": true,
            "ticks": "",
            "zerolinecolor": "white"
           },
           "yaxis": {
            "backgroundcolor": "#E5ECF6",
            "gridcolor": "white",
            "gridwidth": 2,
            "linecolor": "white",
            "showbackground": true,
            "ticks": "",
            "zerolinecolor": "white"
           },
           "zaxis": {
            "backgroundcolor": "#E5ECF6",
            "gridcolor": "white",
            "gridwidth": 2,
            "linecolor": "white",
            "showbackground": true,
            "ticks": "",
            "zerolinecolor": "white"
           }
          },
          "shapedefaults": {
           "line": {
            "color": "#2a3f5f"
           }
          },
          "ternary": {
           "aaxis": {
            "gridcolor": "white",
            "linecolor": "white",
            "ticks": ""
           },
           "baxis": {
            "gridcolor": "white",
            "linecolor": "white",
            "ticks": ""
           },
           "bgcolor": "#E5ECF6",
           "caxis": {
            "gridcolor": "white",
            "linecolor": "white",
            "ticks": ""
           }
          },
          "title": {
           "x": 0.05
          },
          "xaxis": {
           "automargin": true,
           "gridcolor": "white",
           "linecolor": "white",
           "ticks": "",
           "title": {
            "standoff": 15
           },
           "zerolinecolor": "white",
           "zerolinewidth": 2
          },
          "yaxis": {
           "automargin": true,
           "gridcolor": "white",
           "linecolor": "white",
           "ticks": "",
           "title": {
            "standoff": 15
           },
           "zerolinecolor": "white",
           "zerolinewidth": 2
          }
         }
        },
        "title": {
         "text": "Average Outage Duration: Year-Month vs Year"
        },
        "xaxis": {
         "anchor": "y",
         "domain": [
          0,
          1
         ],
         "title": {
          "text": "Time"
         }
        },
        "yaxis": {
         "anchor": "x",
         "domain": [
          0,
          1
         ],
         "title": {
          "text": "Avg Outage Duration (minutes)"
         }
        }
       }
      }
     },
     "metadata": {},
     "output_type": "display_data"
    }
   ],
   "source": [
    "\n",
    "df_month = (\n",
    "    outage.dropna(subset=['duration'])\n",
    "    .assign(year_month=lambda df: pd.to_datetime(df['year'].astype(str) + '-' + df['month'].astype(str).str.zfill(2)))\n",
    "    .groupby('year_month', as_index=False)['duration']\n",
    "    .mean()\n",
    "    .rename(columns={'year_month': 'time'})\n",
    ")\n",
    "df_month['type'] = 'Year-Month'\n",
    "\n",
    "# Prepare year data\n",
    "df_year = (\n",
    "    outage.dropna(subset=['duration'])\n",
    "    .groupby('year', as_index=False)['duration']\n",
    "    .mean()\n",
    "    .rename(columns={'year': 'time'})\n",
    ")\n",
    "df_year['type'] = 'Year'\n",
    "\n",
    "# Combine\n",
    "df_combined = pd.concat([df_month, df_year], ignore_index=True)\n",
    "\n",
    "scatter = px.scatter(\n",
    "    outage.dropna(subset=['duration']),\n",
    "    x='year_month',\n",
    "    y='duration',\n",
    "    opacity=0.3,\n",
    "    labels={'year_month': 'Year-Month', 'duration': 'Duration (min)'},\n",
    "    title='Outage Durations: Individual Points + Monthly Average'\n",
    ")\n",
    "\n",
    "# Plot\n",
    "fig = px.line(\n",
    "    df_combined,\n",
    "    x='time',\n",
    "    y='duration',\n",
    "    color='type',\n",
    "    labels={'time': 'Time', 'duration': 'Avg Outage Duration (minutes)', 'type': 'Aggregation'},\n",
    "    title='Average Outage Duration: Year-Month vs Year',\n",
    ")\n",
    "\n",
    "fig.update_layout(height=600)\n",
    "fig.show()"
   ]
  },
  {
   "cell_type": "code",
   "execution_count": 20,
   "metadata": {},
   "outputs": [
    {
     "data": {
      "text/plain": [
       "Index(['year', 'month', 'state', 'climate_region', 'anomaly_level',\n",
       "       'climate_cat', 'cause_cat', 'cause_detail', 'duration',\n",
       "       'pc_realgsp_state', 'pi_util_of_usa', 'population', 'pop_pct_urban',\n",
       "       'pop_pct_uc', 'popden_urban', 'popden_uc', 'popden_rural',\n",
       "       'area_pct_urban', 'area_pct_uc', 'monthly_outage_count_bystate',\n",
       "       'monthy_avg_duration_bystate', 'year_month', 'total_revenue',\n",
       "       'megawatthours', 'customer_count'],\n",
       "      dtype='object')"
      ]
     },
     "execution_count": 20,
     "metadata": {},
     "output_type": "execute_result"
    }
   ],
   "source": [
    "outage.columns"
   ]
  },
  {
   "cell_type": "markdown",
   "metadata": {},
   "source": [
    "# Step 3: Assessment of Missingness\n",
    "1. Inspect how much missing data there is in each column (percentage) (rename the dataframe to outage, so that there's destintion between raw dataset (used for missingness later) and real dataset we will be using)\n",
    "2. Decide on how to fill in missingness (drop? mean imputation? probability imputation?)\n",
    "3. Feature engineer however you think is fit. "
   ]
  },
  {
   "cell_type": "code",
   "execution_count": 21,
   "metadata": {},
   "outputs": [
    {
     "data": {
      "text/plain": [
       "cause_detail                    0.308197\n",
       "duration                        0.032131\n",
       "monthy_avg_duration_bystate     0.014426\n",
       "popden_rural                    0.006557\n",
       "popden_uc                       0.006557\n",
       "climate_region                  0.003279\n",
       "year                            0.000000\n",
       "popden_urban                    0.000000\n",
       "megawatthours                   0.000000\n",
       "total_revenue                   0.000000\n",
       "year_month                      0.000000\n",
       "monthly_outage_count_bystate    0.000000\n",
       "area_pct_uc                     0.000000\n",
       "area_pct_urban                  0.000000\n",
       "pop_pct_urban                   0.000000\n",
       "pop_pct_uc                      0.000000\n",
       "month                           0.000000\n",
       "population                      0.000000\n",
       "pi_util_of_usa                  0.000000\n",
       "pc_realgsp_state                0.000000\n",
       "cause_cat                       0.000000\n",
       "climate_cat                     0.000000\n",
       "anomaly_level                   0.000000\n",
       "state                           0.000000\n",
       "customer_count                  0.000000\n",
       "dtype: float64"
      ]
     },
     "execution_count": 21,
     "metadata": {},
     "output_type": "execute_result"
    }
   ],
   "source": [
    "(outage.isna().sum(axis = 0) / outage.shape[0]).sort_values(ascending= False)"
   ]
  },
  {
   "cell_type": "markdown",
   "metadata": {},
   "source": [
    "### Columns with notably large amounts of missing data:  \n",
    "demand_loss_mw  \n",
    "customers_affected  \n",
    "cause_detail  \n",
    "hurricane_names  \n"
   ]
  },
  {
   "cell_type": "markdown",
   "metadata": {},
   "source": [
    "#### Assessing missingness for duration "
   ]
  },
  {
   "cell_type": "code",
   "execution_count": 22,
   "metadata": {},
   "outputs": [
    {
     "data": {
      "text/html": [
       "<div>\n",
       "<style scoped>\n",
       "    .dataframe tbody tr th:only-of-type {\n",
       "        vertical-align: middle;\n",
       "    }\n",
       "\n",
       "    .dataframe tbody tr th {\n",
       "        vertical-align: top;\n",
       "    }\n",
       "\n",
       "    .dataframe thead th {\n",
       "        text-align: right;\n",
       "    }\n",
       "</style>\n",
       "<table border=\"1\" class=\"dataframe\">\n",
       "  <thead>\n",
       "    <tr style=\"text-align: right;\">\n",
       "      <th></th>\n",
       "      <th>duration</th>\n",
       "      <th>count</th>\n",
       "    </tr>\n",
       "  </thead>\n",
       "  <tbody>\n",
       "    <tr>\n",
       "      <th>620</th>\n",
       "      <td>108653</td>\n",
       "      <td>1</td>\n",
       "    </tr>\n",
       "    <tr>\n",
       "      <th>679</th>\n",
       "      <td>78377</td>\n",
       "      <td>1</td>\n",
       "    </tr>\n",
       "    <tr>\n",
       "      <th>216</th>\n",
       "      <td>60480</td>\n",
       "      <td>1</td>\n",
       "    </tr>\n",
       "    <tr>\n",
       "      <th>368</th>\n",
       "      <td>49427</td>\n",
       "      <td>1</td>\n",
       "    </tr>\n",
       "    <tr>\n",
       "      <th>174</th>\n",
       "      <td>49320</td>\n",
       "      <td>2</td>\n",
       "    </tr>\n",
       "    <tr>\n",
       "      <th>...</th>\n",
       "      <td>...</td>\n",
       "      <td>...</td>\n",
       "    </tr>\n",
       "    <tr>\n",
       "      <th>125</th>\n",
       "      <td>4</td>\n",
       "      <td>2</td>\n",
       "    </tr>\n",
       "    <tr>\n",
       "      <th>61</th>\n",
       "      <td>3</td>\n",
       "      <td>3</td>\n",
       "    </tr>\n",
       "    <tr>\n",
       "      <th>16</th>\n",
       "      <td>2</td>\n",
       "      <td>6</td>\n",
       "    </tr>\n",
       "    <tr>\n",
       "      <th>0</th>\n",
       "      <td>1</td>\n",
       "      <td>97</td>\n",
       "    </tr>\n",
       "    <tr>\n",
       "      <th>1</th>\n",
       "      <td>0</td>\n",
       "      <td>78</td>\n",
       "    </tr>\n",
       "  </tbody>\n",
       "</table>\n",
       "<p>852 rows × 2 columns</p>\n",
       "</div>"
      ],
      "text/plain": [
       "     duration  count\n",
       "620    108653      1\n",
       "679     78377      1\n",
       "216     60480      1\n",
       "368     49427      1\n",
       "174     49320      2\n",
       "..        ...    ...\n",
       "125         4      2\n",
       "61          3      3\n",
       "16          2      6\n",
       "0           1     97\n",
       "1           0     78\n",
       "\n",
       "[852 rows x 2 columns]"
      ]
     },
     "execution_count": 22,
     "metadata": {},
     "output_type": "execute_result"
    }
   ],
   "source": [
    "duration_nmar = outage.copy()['duration'].value_counts().reset_index()\n",
    "duration_nmar['duration'] = duration_nmar['duration'].astype(int)\n",
    "duration_nmar.sort_values(by = 'duration', ascending = False)"
   ]
  },
  {
   "cell_type": "markdown",
   "metadata": {},
   "source": [
    "\n",
    "## NMAR Assessments\n",
    "### Addressing Missingness of Cause Detail\n",
    "The missingness of the **cause_detailed** col is most likely NMAR since the details might give sensitive information about an individual. Usually when an outage occurs, we can expect to see a recording or failsafe that indicates what was broken. That said, if the outage occurs in under-resourced areas then there is a much higher chance that it is not recorded at all due to lack of infrastructure.\n",
    "\n",
    "### Addressing Missingness of Duration\n",
    "On the other hand, we have reason believe that **duration** not NMAR since even though we can make a case that if a duration is too low or too high it might not be recorded. Why we believe that reasoning is flawed is because the **duration** column has 78 entries that only have 0 duration. Since, duration is non negative and the max duration is rather high, we can say that this missingness cannot be determined by the value within the column itself. If anything, if an outage lasts very long then there is more reason that it should be recorded for record keeping. So it is not NMAR.\n",
    "\n",
    "<!-- We believe it may be MAR because the duration of an outage can vary based on how the population is concentrated, the cause detail (typhoon or natural disasters more likely to cause much more damage to the infrastructure making it less likely that the equipment to collect the data may be tampered with), month is there is a pattern of months that specifically has many outages that l -->\n",
    "\n",
    "### Addressing Missingness of Climate Category and Region\n",
    "It doesn't make much sense to label this as NMAR because all geographical regions in the country are labeled with their respective category and region, so it is unlikely that an outtage would happen in an area that cannot be classified as one of them. Thus, it cannot be that the missingness is dependent on the value of the entry within the coclumn itself. \n",
    "\n",
    "### Addressing Missingness of popden_uc, popden_rural\n",
    "There is no reason to believe that these columns are NMAR since the population level, urban or not, is highly dependent on the state and its population, both of which are features in our data. \n",
    "\n",
    "### Addressing Missingness anomaly_level\n",
    "Gonna ask Tauhidur\n",
    "\n",
    "### Addressing Missingness in Month\n",
    "Gonna ask Tauhidur\n",
    "\n",
    "# MAR Testing\n",
    "It is intriguing to analyze whether the cause_detail \n"
   ]
  },
  {
   "cell_type": "markdown",
   "metadata": {},
   "source": [
    "# Step 4: Hypothesis testing\n",
    "Recall our problem statement:   \n",
    "**Assessment of Infrastructure Resilience (Based on whether or not cause_detail has enough information.) Analyze how different regions' infrastructure <u>*maintenance investments*</u> correlate with outage frequency and duration. This can inform infrastructure improvement strategies, based on yearly spent on utility for each state**\n",
    "\n",
    "### Requirements: \n",
    "1. Clearly state a pair of hypotheses and perform a hypothesis test or permutation test that is not related to missingness. \n",
    "2. Clearly state your null and alternative hypotheses, your choice of test statistic and significance level, the resulting \n",
    "p -value, and your conclusion. Justify why these choices are good choices for answering the question you are trying to answer.\n",
    "\n",
    "Optional: Embed a visualization related to your hypothesis test in your website.\n",
    "\n",
    "Tip: When making writing your conclusions to the statistical tests in this project, never use language that implies an absolute conclusion; since we are performing statistical tests and not randomized controlled trials, we cannot prove that either hypothesis is 100% true or false."
   ]
  },
  {
   "cell_type": "code",
   "execution_count": 23,
   "metadata": {},
   "outputs": [
    {
     "data": {
      "text/html": [
       "<div>\n",
       "<style scoped>\n",
       "    .dataframe tbody tr th:only-of-type {\n",
       "        vertical-align: middle;\n",
       "    }\n",
       "\n",
       "    .dataframe tbody tr th {\n",
       "        vertical-align: top;\n",
       "    }\n",
       "\n",
       "    .dataframe thead th {\n",
       "        text-align: right;\n",
       "    }\n",
       "</style>\n",
       "<table border=\"1\" class=\"dataframe\">\n",
       "  <thead>\n",
       "    <tr style=\"text-align: right;\">\n",
       "      <th></th>\n",
       "      <th>state</th>\n",
       "      <th>total_revenue</th>\n",
       "      <th>megawatthours</th>\n",
       "      <th>customer_count</th>\n",
       "      <th>year</th>\n",
       "    </tr>\n",
       "  </thead>\n",
       "  <tbody>\n",
       "    <tr>\n",
       "      <th>0</th>\n",
       "      <td>AK</td>\n",
       "      <td>5.352460e+08</td>\n",
       "      <td>5309970.0</td>\n",
       "      <td>273530.0</td>\n",
       "      <td>2000</td>\n",
       "    </tr>\n",
       "    <tr>\n",
       "      <th>1</th>\n",
       "      <td>AL</td>\n",
       "      <td>4.687257e+09</td>\n",
       "      <td>83524220.0</td>\n",
       "      <td>2262753.0</td>\n",
       "      <td>2000</td>\n",
       "    </tr>\n",
       "  </tbody>\n",
       "</table>\n",
       "</div>"
      ],
      "text/plain": [
       "  state  total_revenue  megawatthours  customer_count  year\n",
       "0    AK   5.352460e+08      5309970.0        273530.0  2000\n",
       "1    AL   4.687257e+09     83524220.0       2262753.0  2000"
      ]
     },
     "execution_count": 23,
     "metadata": {},
     "output_type": "execute_result"
    }
   ],
   "source": [
    "util_invest.head(2)"
   ]
  },
  {
   "cell_type": "code",
   "execution_count": 24,
   "metadata": {},
   "outputs": [
    {
     "data": {
      "text/html": [
       "<div>\n",
       "<style scoped>\n",
       "    .dataframe tbody tr th:only-of-type {\n",
       "        vertical-align: middle;\n",
       "    }\n",
       "\n",
       "    .dataframe tbody tr th {\n",
       "        vertical-align: top;\n",
       "    }\n",
       "\n",
       "    .dataframe thead th {\n",
       "        text-align: right;\n",
       "    }\n",
       "</style>\n",
       "<table border=\"1\" class=\"dataframe\">\n",
       "  <thead>\n",
       "    <tr style=\"text-align: right;\">\n",
       "      <th></th>\n",
       "      <th>state</th>\n",
       "      <th>year</th>\n",
       "      <th>duration</th>\n",
       "      <th>total_revenue</th>\n",
       "      <th>megawatthours</th>\n",
       "      <th>customer_count</th>\n",
       "    </tr>\n",
       "  </thead>\n",
       "  <tbody>\n",
       "    <tr>\n",
       "      <th>0</th>\n",
       "      <td>MN</td>\n",
       "      <td>2011</td>\n",
       "      <td>3060.0</td>\n",
       "      <td>5.928515e+09</td>\n",
       "      <td>68532708.0</td>\n",
       "      <td>2595696.0</td>\n",
       "    </tr>\n",
       "    <tr>\n",
       "      <th>1</th>\n",
       "      <td>MN</td>\n",
       "      <td>2014</td>\n",
       "      <td>1.0</td>\n",
       "      <td>6.540932e+09</td>\n",
       "      <td>68719367.0</td>\n",
       "      <td>2640737.0</td>\n",
       "    </tr>\n",
       "  </tbody>\n",
       "</table>\n",
       "</div>"
      ],
      "text/plain": [
       "  state  year  duration  total_revenue  megawatthours  customer_count\n",
       "0    MN  2011    3060.0   5.928515e+09     68532708.0       2595696.0\n",
       "1    MN  2014       1.0   6.540932e+09     68719367.0       2640737.0"
      ]
     },
     "execution_count": 24,
     "metadata": {},
     "output_type": "execute_result"
    }
   ],
   "source": [
    "outage[['state','year','duration', 'total_revenue', 'megawatthours','customer_count']].head(2)"
   ]
  },
  {
   "cell_type": "markdown",
   "metadata": {},
   "source": [
    "### 1. Creating a Single “Spending” Feature for Each State-Year\n",
    "We will create a heuristic feature that combines normalized revenue, megawatthours, and customer count.\n",
    "1. Normalized Revenue per Customer: how much money each customer generates — a proxy for investment per capita.\n",
    "2. Normalized Energy Usage per Customer: how much energy each customer consumes — a proxy for infrastructure demand.\n",
    "\n",
    "Scaling matters: Without normalization, one metric could dominate due to its magnitude.\n",
    "\n",
    "Per-customer makes it equitable: Larger states won't automatically look better just because they're bigger.\n",
    "\n",
    "Directly interpretable: States with higher infra scores are funding and supplying more power per user.\n",
    "\n"
   ]
  },
  {
   "cell_type": "code",
   "execution_count": 25,
   "metadata": {},
   "outputs": [
    {
     "data": {
      "text/html": [
       "<div>\n",
       "<style scoped>\n",
       "    .dataframe tbody tr th:only-of-type {\n",
       "        vertical-align: middle;\n",
       "    }\n",
       "\n",
       "    .dataframe tbody tr th {\n",
       "        vertical-align: top;\n",
       "    }\n",
       "\n",
       "    .dataframe thead th {\n",
       "        text-align: right;\n",
       "    }\n",
       "</style>\n",
       "<table border=\"1\" class=\"dataframe\">\n",
       "  <thead>\n",
       "    <tr style=\"text-align: right;\">\n",
       "      <th></th>\n",
       "      <th>state</th>\n",
       "      <th>year</th>\n",
       "      <th>duration</th>\n",
       "      <th>total_revenue</th>\n",
       "      <th>megawatthours</th>\n",
       "      <th>customer_count</th>\n",
       "      <th>rev_per_cust</th>\n",
       "      <th>mwh_per_cust</th>\n",
       "      <th>rev_cust_norm</th>\n",
       "      <th>mwh_cust_norm</th>\n",
       "      <th>infra_score</th>\n",
       "    </tr>\n",
       "  </thead>\n",
       "  <tbody>\n",
       "    <tr>\n",
       "      <th>0</th>\n",
       "      <td>MN</td>\n",
       "      <td>2011</td>\n",
       "      <td>3060.0</td>\n",
       "      <td>5.928515e+09</td>\n",
       "      <td>68532708.0</td>\n",
       "      <td>2595696.0</td>\n",
       "      <td>2283.978825</td>\n",
       "      <td>26.402440</td>\n",
       "      <td>0.248254</td>\n",
       "      <td>0.204431</td>\n",
       "      <td>0.226342</td>\n",
       "    </tr>\n",
       "    <tr>\n",
       "      <th>1</th>\n",
       "      <td>MN</td>\n",
       "      <td>2014</td>\n",
       "      <td>1.0</td>\n",
       "      <td>6.540932e+09</td>\n",
       "      <td>68719367.0</td>\n",
       "      <td>2640737.0</td>\n",
       "      <td>2476.934318</td>\n",
       "      <td>26.022799</td>\n",
       "      <td>0.282020</td>\n",
       "      <td>0.198277</td>\n",
       "      <td>0.240149</td>\n",
       "    </tr>\n",
       "  </tbody>\n",
       "</table>\n",
       "</div>"
      ],
      "text/plain": [
       "  state  year  duration  total_revenue  megawatthours  customer_count  \\\n",
       "0    MN  2011    3060.0   5.928515e+09     68532708.0       2595696.0   \n",
       "1    MN  2014       1.0   6.540932e+09     68719367.0       2640737.0   \n",
       "\n",
       "   rev_per_cust  mwh_per_cust  rev_cust_norm  mwh_cust_norm  infra_score  \n",
       "0   2283.978825     26.402440       0.248254       0.204431     0.226342  \n",
       "1   2476.934318     26.022799       0.282020       0.198277     0.240149  "
      ]
     },
     "execution_count": 25,
     "metadata": {},
     "output_type": "execute_result"
    }
   ],
   "source": [
    "from sklearn.preprocessing import MinMaxScaler\n",
    "scaler = MinMaxScaler()\n",
    "outage_ht = outage.copy()[['state','year','duration', 'total_revenue', 'megawatthours','customer_count']]\n",
    "\n",
    "outage_ht['rev_per_cust'] = outage_ht['total_revenue'] / outage_ht['customer_count']\n",
    "outage_ht['mwh_per_cust'] = outage_ht['megawatthours'] / outage_ht['customer_count']\n",
    "\n",
    "outage_ht[['rev_cust_norm', 'mwh_cust_norm']] = scaler.fit_transform(\n",
    "    outage_ht[['rev_per_cust', 'mwh_per_cust']]\n",
    ")\n",
    "\n",
    "outage_ht['infra_score'] = (outage_ht['rev_cust_norm'] + outage_ht['mwh_cust_norm']) / 2\n",
    "outage_ht.head(2)"
   ]
  },
  {
   "cell_type": "markdown",
   "metadata": {},
   "source": [
    "Null (H₀): High- and low-spending states have equal or longer outage durations.   \n",
    "Alternative (H₁): High-spending states have shorter outage durations."
   ]
  },
  {
   "cell_type": "code",
   "execution_count": 26,
   "metadata": {},
   "outputs": [],
   "source": [
    "threshold = outage_ht['infra_score'].median()\n",
    "outage_ht['spending_group'] = outage_ht['infra_score'].apply(lambda x: 'high' if x >= threshold else 'low')\n",
    "\n",
    "df = outage_ht.dropna(subset=['duration'])\n",
    "high_mean = df[df['spending_group'] == 'high']['duration'].astype(int).mean()\n",
    "low_mean = df[df['spending_group'] == 'low']['duration'].astype(int).mean()\n",
    "observed_diff = low_mean - high_mean  # Expect positive if high spenders are better"
   ]
  },
  {
   "cell_type": "code",
   "execution_count": 27,
   "metadata": {},
   "outputs": [
    {
     "data": {
      "application/vnd.plotly.v1+json": {
       "config": {
        "plotlyServerURL": "https://plot.ly"
       },
       "data": [
        {
         "alignmentgroup": "True",
         "bingroup": "x",
         "hovertemplate": "spending_group=high<br>infra_score=%{x}<br>count=%{y}<extra></extra>",
         "legendgroup": "high",
         "marker": {
          "color": "#9168e3",
          "opacity": 0.5,
          "pattern": {
           "shape": ""
          }
         },
         "name": "high",
         "nbinsx": 100,
         "offsetgroup": "high",
         "orientation": "v",
         "showlegend": true,
         "type": "histogram",
         "x": [
          0.22634246420043347,
          0.24014865413227218,
          0.24015671698436608,
          0.24015671698436608,
          0.22634246420043347,
          0.22634246420043347,
          0.24014865413227218,
          0.30873359734606487,
          0.30247051779747336,
          0.30873359734606487,
          0.3274253038247028,
          0.31754356494886393,
          0.30873359734606487,
          0.30247051779747336,
          0.30873359734606487,
          0.29873337091096963,
          0.3191028193908017,
          0.28525032360391617,
          0.3274253038247028,
          0.3274253038247028,
          0.3191028193908017,
          0.30247051779747336,
          0.3191028193908017,
          0.3274253038247028,
          0.30873359734606487,
          0.30873359734606487,
          0.3191028193908017,
          0.3274253038247028,
          0.30751146593325474,
          0.3191028193908017,
          0.30873359734606487,
          0.29873337091096963,
          0.3274253038247028,
          0.28525032360391617,
          0.3191028193908017,
          0.3191028193908017,
          0.3274253038247028,
          0.3191028193908017,
          0.3191028193908017,
          0.30751146593325474,
          0.28525032360391617,
          0.2964036262895284,
          0.28896628386800893,
          0.27388339349985097,
          0.27388339349985097,
          0.33283389478131015,
          0.35456931295146177,
          0.35456931295146177,
          0.32350567904952376,
          0.31518065011712787,
          0.3441642955997748,
          0.3441642955997748,
          0.28558187866506346,
          0.33283389478131015,
          0.33283389478131015,
          0.3441642955997748,
          0.35477962965832294,
          0.33715436924584136,
          0.33715436924584136,
          0.3438307040800192,
          0.33283389478131015,
          0.3438307040800192,
          0.35456931295146177,
          0.2688006765978932,
          0.28396835725547215,
          0.33283389478131015,
          0.31518065011712787,
          0.33283389478131015,
          0.3438307040800192,
          0.3441642955997748,
          0.35456931295146177,
          0.35456931295146177,
          0.35477962965832294,
          0.32350567904952376,
          0.32462896536738856,
          0.35456931295146177,
          0.28558187866506346,
          0.2688006765978932,
          0.3438307040800192,
          0.3708530844521938,
          0.3441642955997748,
          0.33283389478131015,
          0.35456931295146177,
          0.33283389478131015,
          0.31518065011712787,
          0.3441642955997748,
          0.33283389478131015,
          0.3438307040800192,
          0.2688006765978932,
          0.3708530844521938,
          0.31518065011712787,
          0.3348813393254958,
          0.32350567904952376,
          0.3348813393254958,
          0.3708530844521938,
          0.32350567904952376,
          0.3327868722349091,
          0.31518065011712787,
          0.35477962965832294,
          0.28558187866506346,
          0.31518065011712787,
          0.32350567904952376,
          0.3348813393254958,
          0.31518065011712787,
          0.35477962965832294,
          0.3327868722349091,
          0.35456931295146177,
          0.28396835725547215,
          0.33715436924584136,
          0.3441642955997748,
          0.32462896536738856,
          0.3348813393254958,
          0.28396835725547215,
          0.35456931295146177,
          0.35477962965832294,
          0.31518065011712787,
          0.3327868722349091,
          0.28558187866506346,
          0.35477962965832294,
          0.33283389478131015,
          0.3708530844521938,
          0.33283389478131015,
          0.31518065011712787,
          0.35456931295146177,
          0.3708530844521938,
          0.33715436924584136,
          0.3441642955997748,
          0.3348813393254958,
          0.2914968004588061,
          0.3348813393254958,
          0.3708530844521938,
          0.33283389478131015,
          0.35456931295146177,
          0.3348813393254958,
          0.31518065011712787,
          0.3348813393254958,
          0.3441642955997748,
          0.35456931295146177,
          0.28558187866506346,
          0.31518065011712787,
          0.3327868722349091,
          0.35456931295146177,
          0.33283389478131015,
          0.32462896536738856,
          0.3708530844521938,
          0.35477962965832294,
          0.33283389478131015,
          0.35456931295146177,
          0.2914968004588061,
          0.3327868722349091,
          0.3708530844521938,
          0.3441642955997748,
          0.3441642955997748,
          0.28558187866506346,
          0.33283389478131015,
          0.35477962965832294,
          0.3348813393254958,
          0.33715436924584136,
          0.33283389478131015,
          0.32350567904952376,
          0.3438307040800192,
          0.3348813393254958,
          0.35456931295146177,
          0.28558187866506346,
          0.33283389478131015,
          0.3348813393254958,
          0.3348813393254958,
          0.35456931295146177,
          0.32462896536738856,
          0.2914968004588061,
          0.35456931295146177,
          0.3564771010757772,
          0.2867507568196675,
          0.25935350327777207,
          0.34190055951047205,
          0.3385795543978165,
          0.307423910878453,
          0.24383953079534926,
          0.2867507568196675,
          0.307423910878453,
          0.307423910878453,
          0.3564771010757772,
          0.34190055951047205,
          0.34190055951047205,
          0.3272826805423269,
          0.3272826805423269,
          0.34190055951047205,
          0.3564771010757772,
          0.3297570634050895,
          0.3297570634050895,
          0.3272826805423269,
          0.2770957789501879,
          0.3297570634050895,
          0.3184899787795726,
          0.2873491174326063,
          0.34190055951047205,
          0.3272826805423269,
          0.307423910878453,
          0.307423910878453,
          0.30195970818478685,
          0.3297570634050895,
          0.3297570634050895,
          0.3297570634050895,
          0.3272826805423269,
          0.3272826805423269,
          0.307423910878453,
          0.34190055951047205,
          0.3184899787795726,
          0.307423910878453,
          0.2867507568196675,
          0.307423910878453,
          0.307423910878453,
          0.3184899787795726,
          0.2867507568196675,
          0.3906372979211931,
          0.2929380045369009,
          0.2929380045369009,
          0.37880659955869805,
          0.36916225028820715,
          0.3544096350024195,
          0.33705365866758086,
          0.3544096350024195,
          0.3419566054841807,
          0.29467204371476513,
          0.31256315041436983,
          0.29756393082272353,
          0.2311039170102704,
          0.31256315041436983,
          0.2311039170102704,
          0.31256315041436983,
          0.29467204371476513,
          0.28590092996471755,
          0.29467204371476513,
          0.2311039170102704,
          0.2311039170102704,
          0.3106248921394493,
          0.29467204371476513,
          0.29467204371476513,
          0.3106248921394493,
          0.29467204371476513,
          0.29756393082272353,
          0.29756393082272353,
          0.3106248921394493,
          0.2311039170102704,
          0.31256315041436983,
          0.29467204371476513,
          0.29467204371476513,
          0.29467204371476513,
          0.3106248921394493,
          0.29467204371476513,
          0.28590092996471755,
          0.22702263415080182,
          0.22702263415080182,
          0.22702263415080182,
          0.22702263415080182,
          0.22702263415080182,
          0.22702263415080182,
          0.22702263415080182,
          0.22702263415080182,
          0.22438789605325615,
          0.22702263415080182,
          0.22702263415080182,
          0.22702263415080182,
          0.22702263415080182,
          0.22702263415080182,
          0.22438789605325615,
          0.22702263415080182,
          0.22438789605325615,
          0.22702263415080182,
          0.22702263415080182,
          0.22438789605325615,
          0.22702263415080182,
          0.22702263415080182,
          0.22702263415080182,
          0.22702263415080182,
          0.22702263415080182,
          0.22702263415080182,
          0.22438789605325615,
          0.22702263415080182,
          0.22702263415080182,
          0.22702263415080182,
          0.22702263415080182,
          0.22702263415080182,
          0.22702263415080182,
          0.22702263415080182,
          0.22438789605325615,
          0.24333232199626892,
          0.25306775374336904,
          0.25306775374336904,
          0.2482927926540355,
          0.2482927926540355,
          0.2482927926540355,
          0.2482927926540355,
          0.23661570439014726,
          0.24776097151725882,
          0.24776097151725882,
          0.24776097151725882,
          0.24776097151725882,
          0.2520054861925302,
          0.24776097151725882,
          0.2482927926540355,
          0.24333232199626892,
          0.2482927926540355,
          0.25306775374336904,
          0.24333232199626892,
          0.24776097151725882,
          0.2704358967978046,
          0.2611828874086553,
          0.3167645073968492,
          0.38256824743828105,
          0.2611828874086553,
          0.3167645073968492,
          0.30990175323264463,
          0.26541374873042767,
          0.2704358967978046,
          0.3100695069982001,
          0.2704358967978046,
          0.26846528228771716,
          0.3100695069982001,
          0.2704358967978046,
          0.3100695069982001,
          0.2704358967978046,
          0.26541374873042767,
          0.26451609665126596,
          0.3100695069982001,
          0.2704358967978046,
          0.26541374873042767,
          0.26846528228771716,
          0.30990175323264463,
          0.2704358967978046,
          0.36722431115714554,
          0.2704358967978046,
          0.26451609665126596,
          0.3100695069982001,
          0.26541374873042767,
          0.3167645073968492,
          0.2704358967978046,
          0.3100695069982001,
          0.26541374873042767,
          0.26541374873042767,
          0.2704358967978046,
          0.26541374873042767,
          0.26846528228771716,
          0.26451609665126596,
          0.2704358967978046,
          0.26451609665126596,
          0.2704358967978046,
          0.26541374873042767,
          0.2704358967978046,
          0.38256824743828105,
          0.26909288226887607,
          0.3714921913047796,
          0.36935262978418243,
          0.3100695069982001,
          0.2704358967978046,
          0.2704358967978046,
          0.26451609665126596,
          0.36935262978418243,
          0.36722431115714554,
          0.3100695069982001,
          0.2704358967978046,
          0.27456766672870714,
          0.30990175323264463,
          0.26541374873042767,
          0.2695556220583598,
          0.24808273450723015,
          0.2695556220583598,
          0.24808273450723015,
          0.2695556220583598,
          0.22799469836515393,
          0.22581754108864155,
          0.24808273450723015,
          0.22581754108864155,
          0.2695556220583598,
          0.24808273450723015,
          0.2695556220583598,
          0.2695556220583598,
          0.22581754108864155,
          0.22799469836515393,
          0.2695556220583598,
          0.22799469836515393,
          0.24808273450723015,
          0.2695556220583598,
          0.2695556220583598,
          0.22799469836515393,
          0.22581754108864155,
          0.22899118808385882,
          0.24808273450723015,
          0.2695556220583598,
          0.22799469836515393,
          0.2695556220583598,
          0.2695556220583598,
          0.22581754108864155,
          0.2695556220583598,
          0.2695556220583598,
          0.22581754108864155,
          0.24808273450723015,
          0.24808273450723015,
          0.3896771170832972,
          0.34779618690940645,
          0.36397955215489947,
          0.3896771170832972,
          0.36397955215489947,
          0.32621764519786084,
          0.38140375678564037,
          0.38140375678564037,
          0.36397955215489947,
          0.36397955215489947,
          0.38140375678564037,
          0.38140375678564037,
          0.36397955215489947,
          0.23191664255542388,
          0.23191664255542388,
          0.23191664255542388,
          0.23191664255542388,
          0.23191664255542388,
          0.23191664255542388,
          0.23191664255542388,
          0.23191664255542388,
          0.2492529569629538,
          0.23121121826351532,
          0.2234628983444446,
          0.23121121826351532,
          0.25328377655632184,
          0.25328377655632184,
          0.2234628983444446,
          0.23121121826351532,
          0.2234628983444446,
          0.2259984470875837,
          0.23121121826351532,
          0.23121121826351532,
          0.2234628983444446,
          0.25328377655632184,
          0.2234628983444446,
          0.23825301274421412,
          0.23121121826351532,
          0.25328377655632184,
          0.23121121826351532,
          0.2259984470875837,
          0.25328377655632184,
          0.23121121826351532,
          0.23121121826351532,
          0.23121121826351532,
          0.23121121826351532,
          0.2259984470875837,
          0.23121121826351532,
          0.2234628983444446,
          0.2353633155893175,
          0.2384251383969852,
          0.23423064217433567,
          0.2353633155893175,
          0.23423064217433567,
          0.248332639019694,
          0.23423064217433567,
          0.2479827841724048,
          0.23423064217433567,
          0.23766957219115567,
          0.248332639019694,
          0.2353633155893175,
          0.248332639019694,
          0.2353633155893175,
          0.2384251383969852,
          0.23423064217433567,
          0.2545729655795932,
          0.2353633155893175,
          0.248332639019694,
          0.2384251383969852,
          0.2384251383969852,
          0.23766957219115567,
          0.248332639019694,
          0.2353633155893175,
          0.2545729655795932,
          0.248332639019694,
          0.2446459553157836,
          0.2446459553157836,
          0.27619241999315713,
          0.2446459553157836,
          0.27619241999315713,
          0.27619241999315713,
          0.2446459553157836,
          0.2446459553157836,
          0.2446459553157836,
          0.27619241999315713,
          0.2446459553157836,
          0.2446459553157836,
          0.2446459553157836,
          0.2816761205185815,
          0.2816761205185815,
          0.2446459553157836,
          0.2446459553157836,
          0.2816761205185815,
          0.2446459553157836,
          0.2816761205185815,
          0.302736456102962,
          0.33247327430540846,
          0.35087018297098815,
          0.35087018297098815,
          0.29962119583917396,
          0.302736456102962,
          0.29962119583917396,
          0.35087018297098815,
          0.9386044113855823,
          0.8691757933124864,
          0.9386044113855823,
          0.6133891989252743,
          0.8691757933124864,
          0.7052953715322874,
          0.7059164326283023,
          0.7052953715322874,
          0.7574423182276082,
          0.9386044113855823,
          0.2402722382510276,
          0.24668837483194983,
          0.2446055309563931,
          0.2402722382510276,
          0.23429005183128693,
          0.23429005183128693,
          0.23429005183128693,
          0.22912155094980852,
          0.22912155094980852,
          0.2446055309563931,
          0.2446055309563931,
          0.35240023327758696,
          0.32332388938208045,
          0.3022734662925902,
          0.32332388938208045,
          0.3322339493654451,
          0.3322339493654451,
          0.32332388938208045,
          0.3322339493654451,
          0.32332388938208045,
          0.3022734662925902,
          0.3322339493654451,
          0.292931707469955,
          0.32332388938208045,
          0.3022734662925902,
          0.27068258129823985,
          0.32332388938208045,
          0.32332388938208045,
          0.3322339493654451,
          0.3322339493654451,
          0.3022734662925902,
          0.32332388938208045,
          0.32332388938208045,
          0.3022734662925902,
          0.32332388938208045,
          0.3022734662925902,
          0.32332388938208045,
          0.27068258129823985,
          0.32332388938208045,
          0.3022734662925902,
          0.3022734662925902,
          0.3022734662925902,
          0.32332388938208045,
          0.27068258129823985,
          0.27068258129823985,
          0.2883744357542711,
          0.3022734662925902,
          0.3022734662925902,
          0.292931707469955,
          0.3322339493654451,
          0.32332388938208045,
          0.26763176987409787,
          0.22424772775723834,
          0.2630139649478569,
          0.26763176987409787,
          0.24682391602751602,
          0.26763176987409787,
          0.22424772775723834,
          0.22912233710307106,
          0.22567596464450454,
          0.2278865583858547,
          0.2278865583858547,
          0.2278865583858547,
          0.2278865583858547,
          0.22567596464450454,
          0.23674306180119517,
          0.2278865583858547,
          0.22567596464450454,
          0.3964802909128993,
          0.3151512843065779,
          0.33962981688744437,
          0.37335066946241713,
          0.37335066946241713,
          0.35066384865303246,
          0.33962981688744437,
          0.37335066946241713,
          0.37752564347812995,
          0.37335066946241713,
          0.35066384865303246,
          0.37335066946241713,
          0.33491453691527007,
          0.33962981688744437,
          0.37752564347812995,
          0.35066384865303246,
          0.3151512843065779,
          0.3754560707658921,
          0.3151512843065779,
          0.3964802909128993,
          0.3964802909128993,
          0.37335066946241713,
          0.3151512843065779,
          0.3964802909128993,
          0.3964802909128993,
          0.35066384865303246,
          0.37335066946241713,
          0.33491453691527007,
          0.33491453691527007,
          0.3964802909128993,
          0.37335066946241713,
          0.3151512843065779,
          0.3743237017222865,
          0.3998193666538563,
          0.31361284360230385,
          0.37335066946241713,
          0.35066384865303246,
          0.33491453691527007,
          0.3754560707658921,
          0.37335066946241713,
          0.2236185539584808,
          0.2236185539584808,
          0.2236185539584808,
          0.22742973356575458,
          0.2236185539584808,
          0.2359039512400001,
          0.2236185539584808,
          0.2236185539584808,
          0.2236185539584808,
          0.2236185539584808,
          0.22958529985207482,
          0.2667381898086561,
          0.22958529985207482,
          0.2593738370838113,
          0.263560271873972,
          0.2593738370838113,
          0.263560271873972,
          0.2667381898086561,
          0.263560271873972,
          0.2667381898086561,
          0.26147284432331436,
          0.2593738370838113,
          0.2671125300924725,
          0.2667381898086561,
          0.2667381898086561,
          0.2593738370838113,
          0.2667381898086561,
          0.2588197510469479,
          0.24236945187678277,
          0.263560271873972,
          0.2639029970289751,
          0.263560271873972,
          0.2593738370838113,
          0.26147284432331436,
          0.27711279486964746,
          0.2917871688771777,
          0.2917871688771777,
          0.28865545374379276,
          0.28865545374379276,
          0.24235413941066886,
          0.29654951635701166,
          0.22955599249365505,
          0.2917871688771777,
          0.28865545374379276,
          0.2917871688771777,
          0.283527568879514,
          0.2917871688771777,
          0.2917871688771777,
          0.2636176867654185,
          0.29783383467846486,
          0.29783383467846486,
          0.283527568879514,
          0.29194383688789816,
          0.283527568879514,
          0.29783383467846486,
          0.29194383688789816,
          0.27711279486964746,
          0.27711279486964746,
          0.28865545374379276,
          0.23203903960932376,
          0.2428639599893458,
          0.22955599249365505,
          0.2636176867654185,
          0.2428639599893458,
          0.29783383467846486,
          0.2917871688771777,
          0.2428639599893458,
          0.28865545374379276,
          0.283527568879514,
          0.25073460023585886,
          0.49957911320677545,
          0.5498795706133859,
          0.5498795706133859,
          0.5688250298115897,
          0.5688250298115897,
          0.5226102044268772,
          0.23348344201081517,
          0.2553782829607617,
          0.23348344201081517,
          0.23348344201081517,
          0.2998980082567061,
          0.2998980082567061,
          0.2553782829607617,
          0.28285147982622366,
          0.2584832017281724,
          0.2785829434763136,
          0.23348344201081517,
          0.29907127981456283,
          0.2597094272593433,
          0.29907127981456283,
          0.23348344201081517,
          0.2998980082567061,
          0.27312120327985057,
          0.2717457593089505,
          0.2918740277289468,
          0.3124927433772008,
          0.22464882451896415,
          0.22464882451896415,
          0.22872681245896154,
          0.2918740277289468,
          0.2685182981894607,
          0.256288067044282,
          0.256288067044282,
          0.270571146626809,
          0.25197099485653,
          0.270571146626809,
          0.25197099485653,
          0.23349497243423412,
          0.2685182981894607,
          0.26474179506658724,
          0.23375218430076317,
          0.2685182981894607,
          0.270571146626809,
          0.26533402310973464,
          0.270571146626809,
          0.26533402310973464,
          0.26533402310973464,
          0.270571146626809,
          0.2685182981894607,
          0.2685182981894607,
          0.256288067044282,
          0.270571146626809,
          0.2631554881973597,
          0.27394820620507465,
          0.28464525753979764,
          0.2631554881973597,
          0.2747360251438779,
          0.25526353349148706,
          0.2747360251438779,
          0.2683311392389197,
          0.2683311392389197,
          0.2683311392389197,
          0.2683311392389197,
          0.25551478038652,
          0.2683311392389197,
          0.553323604075296,
          0.5570364601680008,
          0.41060424934561846,
          0.41060424934561846,
          0.41060424934561846,
          0.22447426596177827,
          0.22447426596177827,
          0.22447426596177827,
          0.22447426596177827,
          0.323396073693799
         ],
         "xaxis": "x",
         "yaxis": "y"
        },
        {
         "alignmentgroup": "True",
         "bingroup": "x",
         "hovertemplate": "spending_group=low<br>infra_score=%{x}<br>count=%{y}<extra></extra>",
         "legendgroup": "low",
         "marker": {
          "color": "#2dc9d2",
          "opacity": 0.5,
          "pattern": {
           "shape": ""
          }
         },
         "name": "low",
         "nbinsx": 100,
         "offsetgroup": "low",
         "orientation": "v",
         "showlegend": true,
         "type": "histogram",
         "x": [
          0.21776335398116536,
          0.22187798964972105,
          0.2220461857695574,
          0.21776335398116536,
          0.21776335398116536,
          0.18308087619983798,
          0.2220461857695574,
          0.18308087619983798,
          0.2168061380889865,
          0.2168061380889865,
          0.17473272691545816,
          0.21570404685608655,
          0.2168061380889865,
          0.2168061380889865,
          0.1521878792366525,
          0.2168061380889865,
          0.21570315488731928,
          0.17473272691545816,
          0.20245306089306736,
          0.20245306089306736,
          0.1521878792366525,
          0.2168061380889865,
          0.2168061380889865,
          0.2168061380889865,
          0.21570404685608655,
          0.2168061380889865,
          0.21570404685608655,
          0.2168061380889865,
          0.20562813030149701,
          0.16058311429435412,
          0.14951189066054732,
          0.20562813030149701,
          0.20960681579207527,
          0.17037374490972723,
          0.14951189066054732,
          0.14951189066054732,
          0.20562813030149701,
          0.19075291611429207,
          0.21279310015019073,
          0.21443473528670695,
          0.15385705721263598,
          0.17037374490972723,
          0.1999427178989489,
          0.17037374490972723,
          0.15385705721263598,
          0.16058311429435412,
          0.15385705721263598,
          0.16058311429435412,
          0.21344423568569043,
          0.16058311429435412,
          0.14951189066054732,
          0.20562813030149701,
          0.20562813030149701,
          0.21344423568569043,
          0.21443473528670695,
          0.15385705721263598,
          0.1508154749875299,
          0.1999427178989489,
          0.20960681579207527,
          0.16651839405764074,
          0.21443473528670695,
          0.16651839405764074,
          0.1999427178989489,
          0.14951189066054732,
          0.21344423568569043,
          0.19075291611429207,
          0.16651839405764074,
          0.1508154749875299,
          0.15385705721263598,
          0.1999427178989489,
          0.20562813030149701,
          0.16079782610017895,
          0.14951189066054732,
          0.15385705721263598,
          0.19075291611429207,
          0.15385705721263598,
          0.16651839405764074,
          0.21443473528670695,
          0.20562813030149701,
          0.21443473528670695,
          0.21279310015019073,
          0.19075291611429207,
          0.21344423568569043,
          0.14951189066054732,
          0.17037374490972723,
          0.16651839405764074,
          0.16651839405764074,
          0.16651839405764074,
          0.21443473528670695,
          0.1508154749875299,
          0.21279310015019073,
          0.21344423568569043,
          0.16651839405764074,
          0.19075291611429207,
          0.1508154749875299,
          0.21344423568569043,
          0.17037374490972723,
          0.14951189066054732,
          0.21344423568569043,
          0.20562813030149701,
          0.16058311429435412,
          0.21344423568569043,
          0.20562813030149701,
          0.1508154749875299,
          0.17037374490972723,
          0.1999427178989489,
          0.19075291611429207,
          0.15385705721263598,
          0.16058311429435412,
          0.16079782610017895,
          0.13907941328990042,
          0.15385705721263598,
          0.19075291611429207,
          0.1999427178989489,
          0.20562813030149701,
          0.20562813030149701,
          0.20562813030149701,
          0.17037374490972723,
          0.19075291611429207,
          0.21344423568569043,
          0.16651839405764074,
          0.20562813030149701,
          0.20562813030149701,
          0.1888980497239497,
          0.14610996825035705,
          0.2138775357164202,
          0.2206366806051271,
          0.15651012494589006,
          0.2072909912545851,
          0.14610996825035705,
          0.19443407952157288,
          0.14610996825035705,
          0.2072909912545851,
          0.2138775357164202,
          0.16561798585814402,
          0.19443407952157288,
          0.1888980497239497,
          0.15651012494589006,
          0.19443407952157288,
          0.2138775357164202,
          0.2226485914127989,
          0.2226485914127989,
          0.2108449672156144,
          0.2183948171264865,
          0.21077755684897015,
          0.2226485914127989,
          0.2226485914127989,
          0.21077755684897015,
          0.2226485914127989,
          0.2226485914127989,
          0.16989607036621057,
          0.19161929211205608,
          0.2226485914127989,
          0.2226485914127989,
          0.21077755684897015,
          0.21077755684897015,
          0.19425671361160313,
          0.2226485914127989,
          0.20707129112322598,
          0.21077755684897015,
          0.20707129112322598,
          0.20707129112322598,
          0.19161929211205608,
          0.20707129112322598,
          0.21077755684897015,
          0.2226485914127989,
          0.21753946556928538,
          0.2226485914127989,
          0.20707129112322598,
          0.2226485914127989,
          0.19425671361160313,
          0.2226485914127989,
          0.21077755684897015,
          0.19951047406491107,
          0.2108449672156144,
          0.2226485914127989,
          0.2226485914127989,
          0.20707129112322598,
          0.21077755684897015,
          0.21077755684897015,
          0.2226485914127989,
          0.19161929211205608,
          0.2226485914127989,
          0.2183948171264865,
          0.17530887985399396,
          0.2226485914127989,
          0.20707129112322598,
          0.2226485914127989,
          0.21077755684897015,
          0.2226485914127989,
          0.19161929211205608,
          0.19161929211205608,
          0.19161929211205608,
          0.19161929211205608,
          0.2226485914127989,
          0.2183948171264865,
          0.19161929211205608,
          0.2226485914127989,
          0.16989607036621057,
          0.2226485914127989,
          0.21077755684897015,
          0.2226485914127989,
          0.19678500851163527,
          0.20052654982383433,
          0.21513151139538117,
          0.19619835200539476,
          0.21513151139538117,
          0.20052654982383433,
          0.20052654982383433,
          0.19678500851163527,
          0.2046184491938013,
          0.2154329698676184,
          0.2046184491938013,
          0.2046184491938013,
          0.20348078494204647,
          0.2046184491938013,
          0.21473038828777996,
          0.1771359326211227,
          0.18035459731455383,
          0.20348078494204647,
          0.22313483853442134,
          0.21989466828187748,
          0.21473038828777996,
          0.21989466828187748,
          0.21553796578376405,
          0.2046184491938013,
          0.21989466828187748,
          0.21989466828187748,
          0.21989466828187748,
          0.21989466828187748,
          0.1704949053078243,
          0.1704949053078243,
          0.22313483853442134,
          0.19633024964416218,
          0.2205916016937396,
          0.22304790296090082,
          0.22304790296090082,
          0.2205916016937396,
          0.21632699619953755,
          0.2205916016937396,
          0.21632699619953755,
          0.2205916016937396,
          0.19633024964416218,
          0.22304790296090082,
          0.19633024964416218,
          0.1823574005427256,
          0.19633024964416218,
          0.18286009126081554,
          0.19633024964416218,
          0.19633024964416218,
          0.21632699619953755,
          0.19633024964416218,
          0.2205916016937396,
          0.21632699619953755,
          0.22304790296090082,
          0.19633024964416218,
          0.19633024964416218,
          0.22304790296090082,
          0.19633024964416218,
          0.19633024964416218,
          0.18475754243384523,
          0.17785647095421975,
          0.22304790296090082,
          0.21632699619953755,
          0.19633024964416218,
          0.2205916016937396,
          0.1852704745542902,
          0.1852704745542902,
          0.2215951081345584,
          0.22033204564904063,
          0.18162443084736024,
          0.20115678861173714,
          0.21304590666717493,
          0.18162443084736024,
          0.20115678861173714,
          0.21691041706742042,
          0.18162443084736024,
          0.20115678861173714,
          0.21304590666717493,
          0.2215951081345584,
          0.21691041706742042,
          0.21463830255492677,
          0.21847844608216954,
          0.21343607797111175,
          0.2202503375109266,
          0.21463830255492677,
          0.20464859298490223,
          0.21343607797111175,
          0.21847844608216954,
          0.20464859298490223,
          0.21344529901133064,
          0.2220859040669076,
          0.2202503375109266,
          0.20464859298490223,
          0.19816397788134665,
          0.20855448428509776,
          0.2230409351990329,
          0.2006184944175785,
          0.21104764734752235,
          0.20855448428509776,
          0.20855448428509776,
          0.19816397788134665,
          0.2230409351990329,
          0.2006184944175785,
          0.21104764734752235,
          0.21104764734752235,
          0.2006184944175785,
          0.21104764734752235,
          0.21104764734752235,
          0.19521480199473157,
          0.19521480199473157,
          0.20397574315093808,
          0.20682489662518633,
          0.2071512086295359,
          0.20264294956336,
          0.20397574315093808,
          0.20244620100865035,
          0.19424305338851422,
          0.20264294956336,
          0.18085620858535484,
          0.19521480199473157,
          0.20682489662518633,
          0.20264294956336,
          0.20682489662518633,
          0.2071512086295359,
          0.18085620858535484,
          0.19521480199473157,
          0.2071512086295359,
          0.19521480199473157,
          0.20397574315093808,
          0.18085620858535484,
          0.2071512086295359,
          0.20397574315093808,
          0.20682489662518633,
          0.20397574315093808,
          0.1913883239422381,
          0.1913883239422381,
          0.1913883239422381,
          0.2020549447419681,
          0.2000155651342872,
          0.16187037826119394,
          0.21609050868993812,
          0.22280586106588218,
          0.20796286425376437,
          0.18665079867297601,
          0.18611211495290186,
          0.18611211495290186,
          0.20530958829518567,
          0.15373923125724426,
          0.09727898340129561,
          0.20530958829518567,
          0.20530958829518567,
          0.20530958829518567,
          0.2010611122851083,
          0.1881640056582204,
          0.21019930241074292,
          0.1881640056582204,
          0.19952894700007034,
          0.18611211495290186,
          0.21879359291424755,
          0.2010611122851083,
          0.20337825598705003,
          0.2010611122851083,
          0.21019930241074292,
          0.2010611122851083,
          0.21879359291424755,
          0.20530958829518567,
          0.20530958829518567,
          0.20530958829518567,
          0.21019930241074292,
          0.18665079867297601,
          0.20530958829518567,
          0.20530958829518567,
          0.2010611122851083,
          0.20530958829518567,
          0.1881640056582204,
          0.20530958829518567,
          0.21879359291424755,
          0.20530958829518567,
          0.21879359291424755,
          0.20530958829518567,
          0.22273051472987987,
          0.21879359291424755,
          0.1881640056582204,
          0.18665079867297601,
          0.21879359291424755,
          0.18665079867297601,
          0.19952894700007034,
          0.20530958829518567,
          0.20530958829518567,
          0.20337825598705003,
          0.2010611122851083,
          0.20337825598705003,
          0.20530958829518567,
          0.22273051472987987,
          0.20530958829518567,
          0.21879359291424755,
          0.22273051472987987,
          0.18611211495290186,
          0.18611211495290186,
          0.2010611122851083,
          0.20530958829518567,
          0.20530958829518567,
          0.19952894700007034,
          0.22273051472987987,
          0.21019930241074292,
          0.19269959149499266,
          0.19970333129394702,
          0.1983631768455934,
          0.1983631768455934,
          0.19373649232893014,
          0.17026014277564794,
          0.2146303170814013,
          0.1983631768455934,
          0.18439277308674523,
          0.18439277308674523,
          0.18439277308674523,
          0.18439277308674523,
          0.18439277308674523,
          0.1983631768455934,
          0.18439277308674523,
          0.18439277308674523,
          0.1983631768455934,
          0.19269959149499266,
          0.18439277308674523,
          0.18439277308674523,
          0.1983631768455934,
          0.18439277308674523,
          0.19269959149499266,
          0.18439277308674523,
          0.18439277308674523,
          0.18439277308674523,
          0.1983631768455934,
          0.18439277308674523,
          0.18439277308674523,
          0.1983631768455934,
          0.18439277308674523,
          0.18439277308674523,
          0.2146303170814013,
          0.2146303170814013,
          0.18232030440948582,
          0.16818687533282356,
          0.16606635433705513,
          0.17070740315333965,
          0.1892018261304552,
          0.19427649130595936,
          0.17914912279103498,
          0.16606635433705513,
          0.17070740315333965,
          0.14755886991850903,
          0.17914912279103498,
          0.14755886991850903,
          0.14755886991850903,
          0.17914912279103498,
          0.16606635433705513,
          0.1892018261304552,
          0.17914912279103498,
          0.16682725182692576,
          0.16081123300835287,
          0.17914912279103498,
          0.1892018261304552,
          0.16682725182692576,
          0.1892018261304552,
          0.16081123300835287,
          0.16682725182692576,
          0.16818687533282356,
          0.16682725182692576,
          0.166570415049517,
          0.1892018261304552,
          0.16606635433705513,
          0.16081123300835287,
          0.16606635433705513,
          0.17070740315333965,
          0.16818687533282356,
          0.147138085748515,
          0.16606635433705513,
          0.17070740315333965,
          0.16606635433705513,
          0.16606635433705513,
          0.147138085748515,
          0.16606635433705513,
          0.16081123300835287,
          0.17070740315333965,
          0.1892018261304552,
          0.19427649130595936,
          0.1892018261304552,
          0.1892018261304552,
          0.1892018261304552,
          0.17914912279103498,
          0.17914912279103498,
          0.17914912279103498,
          0.166570415049517,
          0.17914912279103498,
          0.14413915656394166,
          0.17070740315333965,
          0.16818687533282356,
          0.14755886991850903,
          0.16081123300835287,
          0.17914912279103498,
          0.167471798197474,
          0.148101451469083,
          0.1892018261304552,
          0.17914912279103498,
          0.17720308015562874,
          0.17914912279103498,
          0.17720308015562874,
          0.17070740315333965,
          0.16682725182692576,
          0.17070740315333965,
          0.1892018261304552,
          0.16682725182692576,
          0.17914912279103498,
          0.16682725182692576,
          0.1892018261304552,
          0.16081123300835287,
          0.147138085748515,
          0.14755886991850903,
          0.16818687533282356,
          0.14755886991850903,
          0.17914912279103498,
          0.16818687533282356,
          0.1892018261304552,
          0.16818687533282356,
          0.148101451469083,
          0.16682725182692576,
          0.16606635433705513,
          0.14413915656394166,
          0.16081123300835287,
          0.14413915656394166,
          0.16081123300835287,
          0.14288633635124304,
          0.16606635433705513,
          0.16081123300835287,
          0.17914912279103498,
          0.16081123300835287,
          0.16081123300835287,
          0.1892018261304552,
          0.16081123300835287,
          0.148101451469083,
          0.147138085748515,
          0.147138085748515,
          0.16081123300835287,
          0.167471798197474,
          0.16606635433705513,
          0.167471798197474,
          0.14288633635124304,
          0.19427649130595936,
          0.14288633635124304,
          0.166570415049517,
          0.1892018261304552,
          0.16818687533282356,
          0.16606635433705513,
          0.1892018261304552,
          0.147138085748515,
          0.14755886991850903,
          0.167471798197474,
          0.166570415049517,
          0.14413915656394166,
          0.166570415049517,
          0.16081123300835287,
          0.16606635433705513,
          0.1892018261304552,
          0.166570415049517,
          0.16081123300835287,
          0.16682725182692576,
          0.166570415049517,
          0.16606635433705513,
          0.14755886991850903,
          0.17070740315333965,
          0.166570415049517,
          0.167471798197474,
          0.148101451469083,
          0.167471798197474,
          0.17720308015562874,
          0.1892018261304552,
          0.14288633635124304,
          0.1892018261304552,
          0.167471798197474,
          0.14755886991850903,
          0.13791777141695188,
          0.1892018261304552,
          0.19427649130595936,
          0.16682725182692576,
          0.16081123300835287,
          0.16081123300835287,
          0.16081123300835287,
          0.16682725182692576,
          0.14413915656394166,
          0.16682725182692576,
          0.16081123300835287,
          0.166570415049517,
          0.1892018261304552,
          0.16606635433705513,
          0.16682725182692576,
          0.16818687533282356,
          0.16606635433705513,
          0.16682725182692576,
          0.16081123300835287,
          0.1892018261304552,
          0.16682725182692576,
          0.16081123300835287,
          0.167471798197474,
          0.167471798197474,
          0.147138085748515,
          0.16818687533282356,
          0.16081123300835287,
          0.17720308015562874,
          0.167471798197474,
          0.14413915656394166,
          0.16682725182692576,
          0.14413915656394166,
          0.16818687533282356,
          0.16818687533282356,
          0.147138085748515,
          0.16606635433705513,
          0.14413915656394166,
          0.16818687533282356,
          0.16606635433705513,
          0.19427649130595936,
          0.16818687533282356,
          0.147138085748515,
          0.19427649130595936,
          0.14413915656394166,
          0.148101451469083,
          0.166570415049517,
          0.19427649130595936,
          0.16818687533282356,
          0.1892018261304552,
          0.1892018261304552,
          0.16081123300835287,
          0.17914912279103498,
          0.166570415049517,
          0.166570415049517,
          0.1892018261304552,
          0.166570415049517,
          0.16818687533282356,
          0.16606635433705513,
          0.16081123300835287,
          0.16606635433705513,
          0.167471798197474,
          0.14755886991850903,
          0.16081123300835287,
          0.167471798197474,
          0.147138085748515,
          0.17914912279103498,
          0.16606635433705513,
          0.16818687533282356,
          0.16818687533282356,
          0.14288633635124304,
          0.16606635433705513,
          0.19427649130595936,
          0.2095866566471033,
          0.2204041221932872,
          0.2164534897564565,
          0.17208242531845563,
          0.1895158087877606,
          0.17764988383320807,
          0.18136177987800967,
          0.11772892409038872,
          0.18136177987800967,
          0.18136177987800967,
          0.18136177987800967,
          0.18136177987800967,
          0.18136177987800967,
          0.13387398087558133,
          0.12663920398265383,
          0.12663920398265383,
          0.12663920398265383,
          0.13193119197049033,
          0.12359546854761738,
          0.12663920398265383,
          0.12359546854761738,
          0.12663920398265383,
          0.1785458544054881,
          0.16079109420785748,
          0.1785458544054881,
          0.16079109420785748,
          0.1785458544054881,
          0.16079109420785748,
          0.16079109420785748,
          0.1785458544054881,
          0.1785458544054881,
          0.14437261737086948,
          0.1581409614228892,
          0.17325361697357283,
          0.19655701894465888,
          0.19591331367550702,
          0.1810923179274102,
          0.19591331367550702,
          0.19591331367550702,
          0.1810923179274102,
          0.15371154796110587,
          0.18634913279415566,
          0.1810923179274102,
          0.1810923179274102,
          0.1810923179274102,
          0.16925932702110358,
          0.15510248787184544,
          0.1810923179274102,
          0.18634913279415566,
          0.15635757598980476,
          0.18634913279415566,
          0.18634913279415566,
          0.1810923179274102,
          0.032499159056579574,
          0.009238699806082634,
          0.009238699806082634,
          0.032499159056579574,
          0.009238699806082634,
          0.09777447547757785,
          0.009238699806082634,
          0.011731010598190525,
          0.014664522161462357,
          0.023475695199648053,
          0.023475695199648053,
          0.013511636138224328,
          0.0029751359557116525,
          0.011022800346859332,
          0.011022800346859332,
          0.011731010598190525,
          0.023475695199648053,
          0.006168327852931199,
          0.032499159056579574,
          0.15852074261360005,
          0.15852074261360005,
          0.15852074261360005,
          0.16787248235541835,
          0.16787248235541835,
          0.15852074261360005,
          0.16787248235541835,
          0.16787248235541835,
          0.1403342519919148,
          0.15600864677614845,
          0.16787248235541835,
          0.16787248235541835,
          0.16787248235541835,
          0.15852074261360005,
          0.16438326019046257,
          0.16438326019046257,
          0.11510285320894766,
          0.16059160346275764,
          0.12950417766835715,
          0.16059160346275764,
          0.16124850413451453,
          0.15883456228173404,
          0.15969419811837504,
          0.1543208464836041,
          0.11829917431942293,
          0.15969419811837504,
          0.15969419811837504,
          0.11829917431942293,
          0.15969419811837504,
          0.18877843877357237,
          0.19185186237157875,
          0.21469517638495683,
          0.2000026115021249,
          0.21469517638495683,
          0.20352044287959947,
          0.21469517638495683,
          0.180179205209147,
          0.180179205209147
         ],
         "xaxis": "x",
         "yaxis": "y"
        }
       ],
       "layout": {
        "bargap": 0.05,
        "barmode": "overlay",
        "legend": {
         "title": {
          "text": "spending_group"
         },
         "tracegroupgap": 0
        },
        "plot_bgcolor": "#f4f4f4",
        "template": {
         "data": {
          "bar": [
           {
            "error_x": {
             "color": "#2a3f5f"
            },
            "error_y": {
             "color": "#2a3f5f"
            },
            "marker": {
             "line": {
              "color": "#E5ECF6",
              "width": 0.5
             },
             "pattern": {
              "fillmode": "overlay",
              "size": 10,
              "solidity": 0.2
             }
            },
            "type": "bar"
           }
          ],
          "barpolar": [
           {
            "marker": {
             "line": {
              "color": "#E5ECF6",
              "width": 0.5
             },
             "pattern": {
              "fillmode": "overlay",
              "size": 10,
              "solidity": 0.2
             }
            },
            "type": "barpolar"
           }
          ],
          "carpet": [
           {
            "aaxis": {
             "endlinecolor": "#2a3f5f",
             "gridcolor": "white",
             "linecolor": "white",
             "minorgridcolor": "white",
             "startlinecolor": "#2a3f5f"
            },
            "baxis": {
             "endlinecolor": "#2a3f5f",
             "gridcolor": "white",
             "linecolor": "white",
             "minorgridcolor": "white",
             "startlinecolor": "#2a3f5f"
            },
            "type": "carpet"
           }
          ],
          "choropleth": [
           {
            "colorbar": {
             "outlinewidth": 0,
             "ticks": ""
            },
            "type": "choropleth"
           }
          ],
          "contour": [
           {
            "colorbar": {
             "outlinewidth": 0,
             "ticks": ""
            },
            "colorscale": [
             [
              0,
              "#0d0887"
             ],
             [
              0.1111111111111111,
              "#46039f"
             ],
             [
              0.2222222222222222,
              "#7201a8"
             ],
             [
              0.3333333333333333,
              "#9c179e"
             ],
             [
              0.4444444444444444,
              "#bd3786"
             ],
             [
              0.5555555555555556,
              "#d8576b"
             ],
             [
              0.6666666666666666,
              "#ed7953"
             ],
             [
              0.7777777777777778,
              "#fb9f3a"
             ],
             [
              0.8888888888888888,
              "#fdca26"
             ],
             [
              1,
              "#f0f921"
             ]
            ],
            "type": "contour"
           }
          ],
          "contourcarpet": [
           {
            "colorbar": {
             "outlinewidth": 0,
             "ticks": ""
            },
            "type": "contourcarpet"
           }
          ],
          "heatmap": [
           {
            "colorbar": {
             "outlinewidth": 0,
             "ticks": ""
            },
            "colorscale": [
             [
              0,
              "#0d0887"
             ],
             [
              0.1111111111111111,
              "#46039f"
             ],
             [
              0.2222222222222222,
              "#7201a8"
             ],
             [
              0.3333333333333333,
              "#9c179e"
             ],
             [
              0.4444444444444444,
              "#bd3786"
             ],
             [
              0.5555555555555556,
              "#d8576b"
             ],
             [
              0.6666666666666666,
              "#ed7953"
             ],
             [
              0.7777777777777778,
              "#fb9f3a"
             ],
             [
              0.8888888888888888,
              "#fdca26"
             ],
             [
              1,
              "#f0f921"
             ]
            ],
            "type": "heatmap"
           }
          ],
          "heatmapgl": [
           {
            "colorbar": {
             "outlinewidth": 0,
             "ticks": ""
            },
            "colorscale": [
             [
              0,
              "#0d0887"
             ],
             [
              0.1111111111111111,
              "#46039f"
             ],
             [
              0.2222222222222222,
              "#7201a8"
             ],
             [
              0.3333333333333333,
              "#9c179e"
             ],
             [
              0.4444444444444444,
              "#bd3786"
             ],
             [
              0.5555555555555556,
              "#d8576b"
             ],
             [
              0.6666666666666666,
              "#ed7953"
             ],
             [
              0.7777777777777778,
              "#fb9f3a"
             ],
             [
              0.8888888888888888,
              "#fdca26"
             ],
             [
              1,
              "#f0f921"
             ]
            ],
            "type": "heatmapgl"
           }
          ],
          "histogram": [
           {
            "marker": {
             "pattern": {
              "fillmode": "overlay",
              "size": 10,
              "solidity": 0.2
             }
            },
            "type": "histogram"
           }
          ],
          "histogram2d": [
           {
            "colorbar": {
             "outlinewidth": 0,
             "ticks": ""
            },
            "colorscale": [
             [
              0,
              "#0d0887"
             ],
             [
              0.1111111111111111,
              "#46039f"
             ],
             [
              0.2222222222222222,
              "#7201a8"
             ],
             [
              0.3333333333333333,
              "#9c179e"
             ],
             [
              0.4444444444444444,
              "#bd3786"
             ],
             [
              0.5555555555555556,
              "#d8576b"
             ],
             [
              0.6666666666666666,
              "#ed7953"
             ],
             [
              0.7777777777777778,
              "#fb9f3a"
             ],
             [
              0.8888888888888888,
              "#fdca26"
             ],
             [
              1,
              "#f0f921"
             ]
            ],
            "type": "histogram2d"
           }
          ],
          "histogram2dcontour": [
           {
            "colorbar": {
             "outlinewidth": 0,
             "ticks": ""
            },
            "colorscale": [
             [
              0,
              "#0d0887"
             ],
             [
              0.1111111111111111,
              "#46039f"
             ],
             [
              0.2222222222222222,
              "#7201a8"
             ],
             [
              0.3333333333333333,
              "#9c179e"
             ],
             [
              0.4444444444444444,
              "#bd3786"
             ],
             [
              0.5555555555555556,
              "#d8576b"
             ],
             [
              0.6666666666666666,
              "#ed7953"
             ],
             [
              0.7777777777777778,
              "#fb9f3a"
             ],
             [
              0.8888888888888888,
              "#fdca26"
             ],
             [
              1,
              "#f0f921"
             ]
            ],
            "type": "histogram2dcontour"
           }
          ],
          "mesh3d": [
           {
            "colorbar": {
             "outlinewidth": 0,
             "ticks": ""
            },
            "type": "mesh3d"
           }
          ],
          "parcoords": [
           {
            "line": {
             "colorbar": {
              "outlinewidth": 0,
              "ticks": ""
             }
            },
            "type": "parcoords"
           }
          ],
          "pie": [
           {
            "automargin": true,
            "type": "pie"
           }
          ],
          "scatter": [
           {
            "fillpattern": {
             "fillmode": "overlay",
             "size": 10,
             "solidity": 0.2
            },
            "type": "scatter"
           }
          ],
          "scatter3d": [
           {
            "line": {
             "colorbar": {
              "outlinewidth": 0,
              "ticks": ""
             }
            },
            "marker": {
             "colorbar": {
              "outlinewidth": 0,
              "ticks": ""
             }
            },
            "type": "scatter3d"
           }
          ],
          "scattercarpet": [
           {
            "marker": {
             "colorbar": {
              "outlinewidth": 0,
              "ticks": ""
             }
            },
            "type": "scattercarpet"
           }
          ],
          "scattergeo": [
           {
            "marker": {
             "colorbar": {
              "outlinewidth": 0,
              "ticks": ""
             }
            },
            "type": "scattergeo"
           }
          ],
          "scattergl": [
           {
            "marker": {
             "colorbar": {
              "outlinewidth": 0,
              "ticks": ""
             }
            },
            "type": "scattergl"
           }
          ],
          "scattermapbox": [
           {
            "marker": {
             "colorbar": {
              "outlinewidth": 0,
              "ticks": ""
             }
            },
            "type": "scattermapbox"
           }
          ],
          "scatterpolar": [
           {
            "marker": {
             "colorbar": {
              "outlinewidth": 0,
              "ticks": ""
             }
            },
            "type": "scatterpolar"
           }
          ],
          "scatterpolargl": [
           {
            "marker": {
             "colorbar": {
              "outlinewidth": 0,
              "ticks": ""
             }
            },
            "type": "scatterpolargl"
           }
          ],
          "scatterternary": [
           {
            "marker": {
             "colorbar": {
              "outlinewidth": 0,
              "ticks": ""
             }
            },
            "type": "scatterternary"
           }
          ],
          "surface": [
           {
            "colorbar": {
             "outlinewidth": 0,
             "ticks": ""
            },
            "colorscale": [
             [
              0,
              "#0d0887"
             ],
             [
              0.1111111111111111,
              "#46039f"
             ],
             [
              0.2222222222222222,
              "#7201a8"
             ],
             [
              0.3333333333333333,
              "#9c179e"
             ],
             [
              0.4444444444444444,
              "#bd3786"
             ],
             [
              0.5555555555555556,
              "#d8576b"
             ],
             [
              0.6666666666666666,
              "#ed7953"
             ],
             [
              0.7777777777777778,
              "#fb9f3a"
             ],
             [
              0.8888888888888888,
              "#fdca26"
             ],
             [
              1,
              "#f0f921"
             ]
            ],
            "type": "surface"
           }
          ],
          "table": [
           {
            "cells": {
             "fill": {
              "color": "#EBF0F8"
             },
             "line": {
              "color": "white"
             }
            },
            "header": {
             "fill": {
              "color": "#C8D4E3"
             },
             "line": {
              "color": "white"
             }
            },
            "type": "table"
           }
          ]
         },
         "layout": {
          "annotationdefaults": {
           "arrowcolor": "#2a3f5f",
           "arrowhead": 0,
           "arrowwidth": 1
          },
          "autotypenumbers": "strict",
          "coloraxis": {
           "colorbar": {
            "outlinewidth": 0,
            "ticks": ""
           }
          },
          "colorscale": {
           "diverging": [
            [
             0,
             "#8e0152"
            ],
            [
             0.1,
             "#c51b7d"
            ],
            [
             0.2,
             "#de77ae"
            ],
            [
             0.3,
             "#f1b6da"
            ],
            [
             0.4,
             "#fde0ef"
            ],
            [
             0.5,
             "#f7f7f7"
            ],
            [
             0.6,
             "#e6f5d0"
            ],
            [
             0.7,
             "#b8e186"
            ],
            [
             0.8,
             "#7fbc41"
            ],
            [
             0.9,
             "#4d9221"
            ],
            [
             1,
             "#276419"
            ]
           ],
           "sequential": [
            [
             0,
             "#0d0887"
            ],
            [
             0.1111111111111111,
             "#46039f"
            ],
            [
             0.2222222222222222,
             "#7201a8"
            ],
            [
             0.3333333333333333,
             "#9c179e"
            ],
            [
             0.4444444444444444,
             "#bd3786"
            ],
            [
             0.5555555555555556,
             "#d8576b"
            ],
            [
             0.6666666666666666,
             "#ed7953"
            ],
            [
             0.7777777777777778,
             "#fb9f3a"
            ],
            [
             0.8888888888888888,
             "#fdca26"
            ],
            [
             1,
             "#f0f921"
            ]
           ],
           "sequentialminus": [
            [
             0,
             "#0d0887"
            ],
            [
             0.1111111111111111,
             "#46039f"
            ],
            [
             0.2222222222222222,
             "#7201a8"
            ],
            [
             0.3333333333333333,
             "#9c179e"
            ],
            [
             0.4444444444444444,
             "#bd3786"
            ],
            [
             0.5555555555555556,
             "#d8576b"
            ],
            [
             0.6666666666666666,
             "#ed7953"
            ],
            [
             0.7777777777777778,
             "#fb9f3a"
            ],
            [
             0.8888888888888888,
             "#fdca26"
            ],
            [
             1,
             "#f0f921"
            ]
           ]
          },
          "colorway": [
           "#636efa",
           "#EF553B",
           "#00cc96",
           "#ab63fa",
           "#FFA15A",
           "#19d3f3",
           "#FF6692",
           "#B6E880",
           "#FF97FF",
           "#FECB52"
          ],
          "font": {
           "color": "#2a3f5f"
          },
          "geo": {
           "bgcolor": "white",
           "lakecolor": "white",
           "landcolor": "#E5ECF6",
           "showlakes": true,
           "showland": true,
           "subunitcolor": "white"
          },
          "hoverlabel": {
           "align": "left"
          },
          "hovermode": "closest",
          "mapbox": {
           "style": "light"
          },
          "paper_bgcolor": "white",
          "plot_bgcolor": "#E5ECF6",
          "polar": {
           "angularaxis": {
            "gridcolor": "white",
            "linecolor": "white",
            "ticks": ""
           },
           "bgcolor": "#E5ECF6",
           "radialaxis": {
            "gridcolor": "white",
            "linecolor": "white",
            "ticks": ""
           }
          },
          "scene": {
           "xaxis": {
            "backgroundcolor": "#E5ECF6",
            "gridcolor": "white",
            "gridwidth": 2,
            "linecolor": "white",
            "showbackground": true,
            "ticks": "",
            "zerolinecolor": "white"
           },
           "yaxis": {
            "backgroundcolor": "#E5ECF6",
            "gridcolor": "white",
            "gridwidth": 2,
            "linecolor": "white",
            "showbackground": true,
            "ticks": "",
            "zerolinecolor": "white"
           },
           "zaxis": {
            "backgroundcolor": "#E5ECF6",
            "gridcolor": "white",
            "gridwidth": 2,
            "linecolor": "white",
            "showbackground": true,
            "ticks": "",
            "zerolinecolor": "white"
           }
          },
          "shapedefaults": {
           "line": {
            "color": "#2a3f5f"
           }
          },
          "ternary": {
           "aaxis": {
            "gridcolor": "white",
            "linecolor": "white",
            "ticks": ""
           },
           "baxis": {
            "gridcolor": "white",
            "linecolor": "white",
            "ticks": ""
           },
           "bgcolor": "#E5ECF6",
           "caxis": {
            "gridcolor": "white",
            "linecolor": "white",
            "ticks": ""
           }
          },
          "title": {
           "x": 0.05
          },
          "xaxis": {
           "automargin": true,
           "gridcolor": "white",
           "linecolor": "white",
           "ticks": "",
           "title": {
            "standoff": 15
           },
           "zerolinecolor": "white",
           "zerolinewidth": 2
          },
          "yaxis": {
           "automargin": true,
           "gridcolor": "white",
           "linecolor": "white",
           "ticks": "",
           "title": {
            "standoff": 15
           },
           "zerolinecolor": "white",
           "zerolinewidth": 2
          }
         }
        },
        "title": {
         "text": "Stacked Distribution of col2 by col1"
        },
        "xaxis": {
         "anchor": "y",
         "domain": [
          0,
          1
         ],
         "title": {
          "text": "infra_score"
         }
        },
        "yaxis": {
         "anchor": "x",
         "domain": [
          0,
          1
         ],
         "title": {
          "text": "count"
         }
        }
       }
      }
     },
     "metadata": {},
     "output_type": "display_data"
    }
   ],
   "source": [
    "fig = px.histogram(\n",
    "    outage_ht,\n",
    "    x='infra_score',\n",
    "    color='spending_group',\n",
    "    barmode='overlay',  # stack the bars by category\n",
    "    nbins=100,  # or tune this as needed\n",
    "    title='Stacked Distribution of col2 by col1',\n",
    "    #labels={'col2': 'Your Value', 'col1': 'Category'}\n",
    "    color_discrete_map={\n",
    "        'high': \"#9168e3\",  # blue\n",
    "        'low': \"#2dc9d2\"   # orange\n",
    "    },\n",
    ")\n",
    "\n",
    "fig.update_layout(\n",
    "    plot_bgcolor=\"#f4f4f4\",\n",
    "    bargap=0.05\n",
    ")\n",
    "\n",
    "fig.show()"
   ]
  },
  {
   "cell_type": "code",
   "execution_count": 28,
   "metadata": {},
   "outputs": [],
   "source": [
    "\n",
    "n_permutations = 5000\n",
    "perm_diffs = []\n",
    "\n",
    "for _ in range(n_permutations):\n",
    "    shuffled = np.random.permutation(df['spending_group'].values)  # shuffle group labels\n",
    "    df_shuffled = df.copy()\n",
    "    df_shuffled['shuffled_group'] = shuffled  # assign shuffled group\n",
    "\n",
    "    high = df_shuffled[df_shuffled['shuffled_group'] == 'high']['duration'].astype(float)\n",
    "    low = df_shuffled[df_shuffled['shuffled_group'] == 'low']['duration'].astype(float)\n",
    "\n",
    "    diff = np.mean(low) - np.mean(high)\n",
    "    perm_diffs.append(diff)\n",
    "\n",
    "p_value = np.mean(np.array(perm_diffs) >= observed_diff)\n"
   ]
  },
  {
   "cell_type": "code",
   "execution_count": 29,
   "metadata": {},
   "outputs": [
    {
     "data": {
      "text/plain": [
       "np.float64(0.0084)"
      ]
     },
     "execution_count": 29,
     "metadata": {},
     "output_type": "execute_result"
    }
   ],
   "source": [
    "p_value"
   ]
  },
  {
   "cell_type": "code",
   "execution_count": null,
   "metadata": {},
   "outputs": [],
   "source": []
  },
  {
   "cell_type": "code",
   "execution_count": null,
   "metadata": {},
   "outputs": [],
   "source": []
  },
  {
   "cell_type": "code",
   "execution_count": null,
   "metadata": {},
   "outputs": [],
   "source": []
  }
 ],
 "metadata": {
  "kernelspec": {
   "display_name": "dsc80",
   "language": "python",
   "name": "python3"
  },
  "language_info": {
   "codemirror_mode": {
    "name": "ipython",
    "version": 3
   },
   "file_extension": ".py",
   "mimetype": "text/x-python",
   "name": "python",
   "nbconvert_exporter": "python",
   "pygments_lexer": "ipython3",
   "version": "3.12.10"
  }
 },
 "nbformat": 4,
 "nbformat_minor": 4
}
